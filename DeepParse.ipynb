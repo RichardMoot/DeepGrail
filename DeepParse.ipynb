{
 "cells": [
  {
   "cell_type": "markdown",
   "metadata": {},
   "source": [
    "# LSTM parser for the French Treebank\n",
    "\n",
    "This notebook trains a parser for the French Treebank. The parser is inspired by the one presented in Tsuruoka e.a. (2015), though it uses LSTM instead of conditional random fields. Like Tsuruoka e.a. (2015), the parser operates by a type of iterative chunking, continuing until it finds an analysis of the entire sentence.\n"
   ]
  },
  {
   "cell_type": "markdown",
   "metadata": {},
   "source": [
    "##### Load library packages"
   ]
  },
  {
   "cell_type": "code",
   "execution_count": 25,
   "metadata": {},
   "outputs": [],
   "source": [
    "import numpy as np\n",
    "import matplotlib.pyplot as plt\n",
    "import pandas as pd\n",
    "import sys\n",
    "import pickle\n",
    "\n",
    "\n",
    "from keras.models import Model, load_model\n",
    "from keras.layers import Bidirectional, Dense, Input, Dropout, LSTM, Activation, TimeDistributed, BatchNormalization, concatenate, Concatenate\n",
    "from keras.layers.embeddings import Embedding\n",
    "from keras.constraints import max_norm\n",
    "from keras import regularizers\n",
    "from keras.preprocessing import sequence\n",
    "from keras.utils import to_categorical\n",
    "from keras.initializers import glorot_uniform\n",
    "from keras import backend as K\n",
    "from sklearn.model_selection import train_test_split\n",
    "from gensim.models import KeyedVectors\n",
    "\n",
    "from grail_data_utils import *\n",
    "\n",
    "%matplotlib inline\n",
    "\n",
    "np.random.seed(1)"
   ]
  },
  {
   "cell_type": "markdown",
   "metadata": {},
   "source": [
    "### Read the parser actions file\n",
    "\n",
    "The parser actions file contains triples of the form `Prosody|Formula|ParserAction`, where `Prosody` is either a word or a binary tree of words, `Formula` is formula from the TLGbank (simplified), and `ParserAction` gives the correct chunks for the current sequence, with `O` meaning a formula is outside of all chuncks."
   ]
  },
  {
   "cell_type": "code",
   "execution_count": 52,
   "metadata": {
    "collapsed": true
   },
   "outputs": [],
   "source": [
    "def read_parsedata(file):\n",
    "    with open(file, 'r') as f:\n",
    "        vocabulary = set()\n",
    "        vnorm = set()\n",
    "        actionset = set()\n",
    "        superset = set()\n",
    "        sentno = 0\n",
    "        maxlen = 0\n",
    "        allpros = []\n",
    "        allforms = []\n",
    "        allactions = []\n",
    "        for line in f:\n",
    "            line = line.strip().split()\n",
    "            length = len(line)\n",
    "            sentforms = []\n",
    "            sentpros = []\n",
    "            sentactions = []\n",
    "            if (length > maxlen):\n",
    "                maxlen = length\n",
    "            for l in range(length):\n",
    "                item = line[l].split('|')\n",
    "                pros = item[0]\n",
    "                form = item[1]\n",
    "                action = item[2]\n",
    "                if not(pros.startswith(\"p(\")):\n",
    "                    nword = normalize_word(pros)\n",
    "                    vocabulary.add(pros)\n",
    "                    vnorm.add(nword)\n",
    "                pros = pros.replace(\"p(0,\", \"\")\n",
    "                pros = pros.replace(\"p(1,\", \"\")\n",
    "                pros = pros.replace(\")\", \"\")\n",
    "                pros = pros.split(\",\")\n",
    "                superset.add(form)\n",
    "                actionset.add(action)\n",
    "                sentforms.append(form)\n",
    "                sentpros.append(pros)\n",
    "                sentactions.append(action)\n",
    "            allpros.append(sentpros)\n",
    "            allforms.append(sentforms)\n",
    "            allactions.append(sentactions)\n",
    "    X = np.asarray(allpros)\n",
    "    Y = np.asarray(allforms)\n",
    "    Z = np.asarray(allactions)\n",
    "    return X, Y, Z, vocabulary, vnorm, superset, actionset, maxlen"
   ]
  },
  {
   "cell_type": "code",
   "execution_count": 53,
   "metadata": {},
   "outputs": [],
   "source": [
    "# sentences with verified parses\n",
    "# number of sentences, train: 9449, test: 3150, dev: 3150\n",
    "pros, forms, actions, vocabulary, vnorm, superset, actionset, maxLen = read_parsedata('parse_all.txt')"
   ]
  },
  {
   "cell_type": "code",
   "execution_count": 15,
   "metadata": {},
   "outputs": [
    {
     "name": "stdout",
     "output_type": "stream",
     "text": [
      "Longest sentence   :  140\n",
      "Number of actions :  57 {'let1', 'dl2', 'wpop1', 'a_dit_se1', 'gap_i1', 'prod_i1', 'se_dit1', 'e_end1', 'prod_wl1', 'se_dit2', 'wpop_vpi1', 'dit_np2', 'O', 'gap_e1', 'prod_i2', 'wr_a2', 'dl1', 'c_r_lnr3', 'prod_dr1', 'prod_c1', 'e_end_r_lnr1', 'prod_dr2', 'gap_i2', 'e_endd1', 'e_endd2', 'a_dit2', 'a_dit1', 'c_r_lnr2', 'let2', 'c_l_lnr1', 'e_end_l_lnr2', 'e_end_l1', 'wpop_vpi2', 'e_start1', 'c_l_lnr3', 'prod_c2', 'c_r_lnr1', 'gap_c1', 'e_end_l2', 'e_end_r_lnr2', 'dit_np1', 'ef_start1', 'dr2', 'e_end_l_lnr1', 'prod_i3', 'e_end2', 'dr1', 'e_start_l1', 'wpop_vp1', 'wr1', 'prod_w1', 'ef_start_iv1', 'c_l_lnr2', 'wr2', 'wr_a1', 'a_dit_se2', 'prod_e1'}\n",
      "Number of supertags:  509 {'dr(0,dl(0,dr(0,dr(0,dl(0,np,s),np),pp),dr(0,dr(0,dl(0,np,s),np),pp)),dr(0,dr(0,dl(0,np,s),np),pp))', 'dr(0,np,n)', 'dr(0,dl(0,pp,pp),s)', 'dl(0,np,dl(1,dl(0,n,n),dl(0,n,n)))', 'dl(0,n,pp)', 'dr(0,dl(0,s,s),dl(0,n,n))', 'p(0,dr(0,dl(0,np,s),np),dia(0,box(0,np)))', 'dr(0,dl(0,dr(0,pp,np),dl(0,n,n)),dr(0,s,dia(1,box(1,pp))))', 'p(0,np,np)', 'dr(0,dr(0,dr(0,np,s),np),dl(1,s,s))', 'dl(1,s,dl(0,cl_r,dl(0,np,s)))', 'p(0,np,dl(1,s,s))', 'dr(0,dl(0,n,n),dl(0,np,s))', 'dl(0,dr(0,dl(0,np,s),np),dr(0,dl(0,np,s),np))', 'dr(0,dr(0,dl(0,cl_y,s),np),np)', 'dr(0,dr(0,np,np),dl(0,np,s))', 'dr(0,dl(0,dl(0,dia(0,box(0,n)),n),dl(0,n,n)),dl(0,dia(0,box(0,n)),n))', 'dr(0,dr(0,dl(0,cl_r,dl(0,np,s)),pp),np)', 'p(0,np,dia(0,box(0,np)))', 'dr(0,dr(0,dl(1,dl(0,n,n),dl(0,n,n)),dl(1,dl(0,n,n),dl(0,n,n))),n)', 'dr(0,dr(0,s,dl(0,np,s)),pp)', 'dl(0,dr(0,np,np),dr(0,np,np))', 'dr(0,dr(0,dl(0,cl_r,s),dl(0,cl_r,dl(0,np,s))),np)', 'dr(0,dr(0,dr(0,s,s),dl(0,n,n)),np)', 'dl(0,cl_y,dl(0,np,s))', 'dr(0,dl(0,dl(1,s,s),dl(1,s,s)),dl(1,s,s))', 'dl(0,np,np)', 'dr(0,dr(0,s,s),np)', 'dr(0,dl(0,dl(1,s,s),dl(1,s,s)),np)', 'dr(0,s,cl_r)', 'dr(0,dl(0,np,s),np)', 'dr(0,dl(0,dr(0,s,dia(1,box(1,dr(0,dl(0,np,s),np)))),dr(0,s,box(1,dia(1,dr(0,dl(0,np,s),np))))),dr(0,s,dia(1,box(1,dr(0,dl(0,np,s),np)))))', 'dr(0,dl(0,s,s),np)', 'dl(0,pp,dl(0,n,n))', 'dr(0,dr(0,pp,s),pp)', 'dr(0,dl(0,pp,pp),pp)', 'dr(0,s,s)', 'dr(0,dl(1,s,s),s)', 'dr(0,dl(0,s,s),n)', 'dr(0,dr(0,dl(0,np,s),dl(0,n,n)),pp)', 'dl(0,dr(0,np,n),dl(0,dr(0,pp,np),dr(0,np,n)))', 'dr(0,dl(0,dl(0,np,s),s),dr(0,dl(0,dl(0,np,s),s),dia(1,box(1,pp))))', 'dr(0,n,n)', 'dr(0,dl(1,dl(0,np,np),dl(0,np,np)),dl(0,np,s))', 'dl(0,pp,dr(0,s,s))', 'dr(0,dr(0,s,s),s)', 'dr(0,dl(0,cl_y,dl(0,np,s)),s)', 'p(0,np,pp)', 'dr(0,dr(0,dl(0,cl_r,s),np),np)', 'dr(0,dr(0,s,s),dr(0,s,s))', 'dr(0,dl(0,np,np),pp)', 'dr(0,dr(0,s,np),np)', 'dl(1,s,dl(0,np,s))', 'dl(0,dr(0,dr(0,s,np),dia(0,box(0,pp))),dr(0,dr(0,s,np),pp))', 'dl(0,cl_y,dl(1,s,s))', 'dr(0,dl(0,cl_y,dl(0,np,dl(1,dl(0,n,n),dl(0,n,n)))),np)', 'dr(0,dl(0,np,np),n)', 'dl(0,dr(0,dl(0,n,n),np),dr(0,dl(0,n,n),np))', 'dl(0,p(0,np,dl(0,n,n)),p(0,np,dia(0,box(0,dl(0,n,n)))))', 'dr(0,dl(0,cl_r,dl(0,np,s)),s)', 'dr(0,dl(1,s,s),np)', 'dr(0,dl(0,dl(0,n,n),dl(0,n,n)),n)', 'dr(0,dl(0,dl(0,np,np),dl(0,np,np)),dl(0,np,np))', 'dr(0,dl(0,np,s),pp)', 'dr(0,dl(0,np,np),dr(0,s,dia(1,box(1,np))))', 'dr(0,dr(0,np,np),dr(0,np,np))', 'dr(0,dl(1,dl(0,np,s),dl(0,np,s)),dl(0,np,s))', 'dl(0,dr(0,dl(0,n,n),pp),dr(0,dl(0,n,n),pp))', 'dr(0,dl(0,np,s),dr(0,n,n))', 'dl(0,cl_y,dl(0,np,pp))', 'dr(0,dr(0,dr(0,s,s),s),dr(0,s,s))', 'dr(0,dl(0,np,s),dl(0,np,s))', 'dr(0,dl(0,pp,pp),np)', 'dr(0,dl(0,dr(0,pp,np),np),dl(0,np,s))', 'dr(0,dr(0,dl(0,dl(0,np,s),s),pp),dl(0,n,n))', 'dr(0,dl(0,cl_r,dr(0,s,np)),dl(0,cl_r,dl(0,np,s)))', 'p(0,dr(0,dl(0,np,s),pp),dia(0,box(0,pp)))', 'dr(0,dr(0,dl(0,np,s),s),dl(0,n,n))', 'dl(0,dr(0,s,dia(1,box(1,dr(0,s,pp)))),dr(0,s,box(1,dia(1,dr(0,s,pp)))))', 'dr(0,dl(0,dl(0,n,n),dl(0,n,n)),np)', 'dr(0,dl(0,np,s),s)', 'dr(0,dr(0,s,s),n)', 'dr(0,dr(0,s,np),s)', 'dr(0,dl(0,dr(0,s,dl(0,np,s)),dr(0,s,dl(0,np,s))),dr(0,s,dl(0,np,s)))', 'dl(0,dl(1,dl(0,np,s),dl(0,np,s)),dl(1,dl(0,np,s),dl(0,np,s)))', 'dr(0,dl(0,dr(0,dl(0,n,n),pp),dr(0,dl(0,n,n),pp)),dr(0,dl(0,n,n),pp))', 'dr(0,dl(0,cl_y,dl(0,np,np)),np)', 'dr(0,dl(0,cl_r,dl(0,np,s)),dl(0,np,s))', 'dr(0,dl(0,dr(0,n,n),dr(0,n,n)),dr(0,n,n))', 'dr(0,dl(0,np,dl(0,np,np)),np)', 'dr(0,dr(0,dl(0,np,s),pp),dl(0,np,s))', 'dr(0,dr(0,dl(0,np,s),np),dl(0,n,n))', 'dr(0,dl(0,dl(0,np,s),dl(0,np,s)),dl(0,n,n))', 'dr(0,dl(0,p(0,np,dl(1,s,s)),p(0,np,dl(1,s,s))),p(0,np,dl(1,s,s)))', 'dl(0,p(0,p(0,pp,np),dl(1,s,s)),p(0,p(0,pp,dia(0,box(0,np))),dl(1,s,s)))', 'dl(0,dl(0,dl(0,np,s),dl(0,np,s)),dl(0,dl(0,np,s),dl(0,np,s)))', 'dl(1,dl(0,n,n),dl(0,n,n))', 'dr(0,dl(0,dr(0,np,dia(0,box(0,n))),dr(0,np,n)),dr(0,np,dia(0,box(0,n))))', 'dr(0,dl(0,np,np),dr(0,s,dia(1,box(1,pp))))', 'dr(0,dl(0,p(0,dl(1,s,s),np),p(0,dl(1,s,s),dia(0,box(0,np)))),p(0,dl(1,s,s),np))', 'dl(0,dr(0,dl(1,s,s),dia(0,box(0,n))),dr(0,dl(1,s,s),n))', 'dr(0,dl(1,dl(0,n,n),dl(0,n,n)),dl(1,dl(0,n,n),dl(0,n,n)))', 'dr(0,dl(0,pp,dl(1,s,s)),dl(1,s,s))', 'dl(0,p(0,np,dl(1,s,s)),p(0,np,dl(1,s,s)))', 'dl(0,dr(0,np,n),dr(0,np,n))', 'dr(0,dl(0,np,dl(0,dl(1,s,s),dl(1,s,s))),dl(1,s,s))', 'dr(0,dr(0,s,dl(0,n,n)),np)', 'dr(0,dl(0,np,np),dr(0,s,s))', 'dl(0,n,dl(1,s,s))', 'dr(0,dr(0,dl(0,np,s),pp),dl(0,n,n))', 'dr(0,dl(0,dr(0,dl(0,np,s),dl(0,np,s)),dr(0,dl(0,np,s),dl(0,np,s))),dr(0,dl(0,np,s),dl(0,np,s)))', 'dr(0,dl(0,np,np),dl(0,n,n))', 'dr(0,dr(0,dl(1,s,s),np),n)', 'dl(0,dl(0,np,s),s)', 'dl(0,np,dl(0,np,np))', 'dl(0,cl_y,dl(0,np,np))', 'dr(0,dl(0,cl_r,s),np)', 'dr(0,dr(0,s,np),pp)', 'dr(0,s,dl(1,s,s))', 'dr(0,dr(0,dl(0,n,n),pp),np)', 'dr(0,dl(0,dl(0,n,n),dl(0,n,n)),dl(0,n,n))', 'dl(0,dr(0,n,n),dr(0,n,n))', 'dr(0,dl(0,cl_y,dl(0,np,s)),pp)', 'dr(0,dl(0,np,dl(0,np,np)),dl(0,np,s))', 'dl(0,pp,dl(1,s,s))', 'dr(0,dl(0,pp,s),dr(0,s,dia(1,box(1,pp))))', 'dl(0,p(0,dl(1,s,s),np),p(0,dl(1,s,s),dia(0,box(0,np))))', 'dr(0,dl(0,dl(1,s,s),dl(1,s,s)),dl(0,np,s))', 'dr(0,dl(0,dr(0,s,dia(1,box(1,dr(0,dl(0,np,s),dl(0,np,s))))),dr(0,s,box(1,dia(1,dr(0,dl(0,np,s),dl(0,np,s)))))),dr(0,s,dia(1,box(1,dr(0,dl(0,np,s),dl(0,np,s))))))', 'dr(0,dl(0,cl_r,dl(0,np,s)),dr(0,dl(0,np,s),dia(1,box(1,pp))))', 'dr(0,dl(0,np,dl(0,np,np)),pp)', 'dr(0,dr(0,dl(0,n,n),s),dl(0,n,n))', 'dl(1,s,dl(0,cl_r,dr(0,s,np)))', 'dl(0,cl_y,dl(0,np,dl(1,dl(0,n,n),dl(0,n,n))))', 'dr(0,s,dr(0,s,dia(1,box(1,np))))', 'dr(0,dl(0,p(0,np,np),p(0,np,dia(0,box(0,np)))),p(0,np,np))', 'dr(0,dl(0,dr(0,pp,pp),dl(0,n,n)),dr(0,s,dia(1,box(1,pp))))', 'dr(0,dl(1,s,s),n)', 'dr(0,dl(0,dr(0,np,n),dl(0,dr(0,pp,np),dr(0,pp,n))),dr(0,np,n))', 'dr(0,np,dl(0,n,n))', 'dr(0,dl(0,np,s),dr(0,dl(0,np,s),dia(1,box(1,pp))))', 'dr(0,dr(0,dl(0,n,n),np),n)', 'dr(0,dl(0,dl(0,np,np),dl(0,np,np)),dl(0,n,n))', 'dr(0,dr(0,dl(0,cl_r,dl(0,np,s)),dl(0,np,s)),dl(0,n,n))', 'dr(0,dr(0,n,s),n)', 'dr(0,dr(0,dl(0,np,s),s),np)', 'dr(0,dl(0,cl_y,dl(0,n,n)),dl(0,n,n))', 'dl(0,dr(0,pp,pp),dl(0,n,n))', 'dr(0,dr(0,dl(0,np,np),pp),np)', 'dr(0,dl(0,dr(0,dl(1,s,s),dia(0,box(0,n))),dr(0,dl(1,s,s),n)),dr(0,dl(1,s,s),dia(0,box(0,n))))', 'dr(0,dl(0,cl_r,s),dr(0,dl(0,cl_r,s),dia(1,box(1,pp))))', 'dr(0,dr(0,dr(0,dl(0,np,s),dl(0,np,s)),dl(0,n,n)),np)', 'dr(0,dl(0,p(0,p(0,pp,np),dl(1,s,s)),p(0,p(0,pp,dia(0,box(0,np))),dl(1,s,s))),p(0,pp,dl(1,s,s)))', 'dl(0,dl(0,n,n),dl(1,s,s))', 'dr(0,dr(0,s,np),dl(0,np,s))', 'dr(0,dr(0,s,dl(0,np,s)),dl(0,n,n))', 'dr(0,dl(0,pp,dl(0,n,n)),dl(0,n,n))', 'dl(0,n,n)', 'dr(0,dl(0,dr(0,n,n),n),n)', 'dr(0,np,np)', 'dr(0,dl(0,cl_r,dl(0,np,s)),dl(0,n,n))', 'dr(0,dr(0,dl(0,cl_r,dl(0,np,s)),dl(0,np,s)),np)', 'dl(0,cl_y,dl(0,n,n))', 'dl(0,dr(0,pp,np),dl(0,n,n))', 'dr(0,dr(0,pp,pp),dr(0,pp,pp))', 'dr(0,dr(0,dl(0,n,n),dl(0,n,n)),pp)', 'dr(0,dl(0,n,n),dl(0,n,n))', 'dr(0,dr(0,np,np),n)', 'dr(0,dr(0,dl(0,n,n),s),np)', 'dr(0,dl(0,np,dl(0,dr(0,s,np),s)),dl(0,np,dl(0,dr(0,s,np),s)))', 'dl(0,dl(0,n,n),dl(0,n,n))', 'dr(0,dl(0,dr(0,pp,np),s),dr(0,s,dia(1,box(1,pp))))', 'dr(0,dl(0,pp,dl(0,n,n)),np)', 'dr(0,dl(0,cl_y,dl(0,np,pp)),np)', 'dr(0,s,dr(0,s,dia(1,box(1,dl(0,n,n)))))', 'dr(0,dl(0,dl(0,n,n),s),np)', 'dr(0,dl(0,dr(0,np,n),dl(0,dr(0,pp,np),dr(0,np,n))),dr(0,np,n))', 'dr(0,dl(1,dl(0,n,n),dl(0,n,n)),pp)', 'dl(0,dr(0,pp,np),dl(0,np,np))', 'dr(0,dl(1,s,s),dl(1,s,s))', 'dr(0,dl(0,p(0,pp,np),p(0,pp,dia(0,box(0,np)))),p(0,pp,np))', 'dr(0,dl(0,s,s),s)', 'dr(0,dl(1,s,s),dl(0,np,s))', 'dl(1,s,dr(0,s,np))', 'dr(0,dr(0,pp,pp),np)', 'dr(0,dl(0,cl_r,dl(0,np,s)),pp)', 'dr(0,dl(0,np,dr(0,s,s)),pp)', 'dl(0,cl_r,dl(0,n,n))', 'dr(0,dr(0,np,np),np)', 'dr(0,dl(0,cl_r,s),dl(0,np,s))', 'dl(0,dr(0,s,dia(1,box(1,dr(0,dl(0,np,s),dl(0,n,n))))),dr(0,s,box(1,dia(1,dr(0,dl(0,np,s),dl(0,n,n))))))', 'dr(0,dl(1,dl(0,np,s),dl(0,np,s)),n)', 'dr(0,dr(0,dl(0,np,s),dl(0,np,s)),np)', 'p(0,np,dia(0,box(0,pp)))', 'dl(1,s,s)', 'dr(0,dl(0,cl_r,dl(1,s,s)),np)', 'dr(0,dr(0,s,np),dl(0,n,n))', 'dr(0,dl(0,s,s),dl(0,s,s))', 'dr(0,dl(0,cl_y,s),np)', 'dr(0,dl(0,s,s),dl(0,np,s))', 'dr(0,dr(0,dr(0,s,s),np),pp)', 'dr(0,dl(0,np,s),dr(0,dl(0,np,s),np))', 'dr(0,dr(0,dr(0,s,dl(0,np,s)),dl(0,n,n)),np)', 'dr(0,dr(0,dl(0,n,n),pp),dl(0,n,n))', 'dl(0,dr(0,s,s),dr(0,s,s))', 'dl(0,dr(0,s,dr(0,s,dia(1,box(1,pp)))),dr(0,s,dr(0,s,dia(1,box(1,pp)))))', 'dr(0,dr(0,dl(0,n,n),dl(0,n,n)),n)', 'dl(0,np,dl(0,n,n))', 'dl(0,p(0,np,pp),p(0,np,dia(0,box(0,pp))))', 'dr(0,dr(0,dl(0,cl_r,s),dl(0,np,s)),np)', 'dr(0,dl(1,dl(0,n,n),dl(0,n,n)),n)', 'dr(0,dl(0,p(0,pp,dl(1,s,s)),p(0,pp,dl(1,s,s))),p(0,pp,dl(1,s,s)))', 'p(0,dr(0,dl(0,np,s),dl(0,n,n)),dia(0,box(0,dl(0,n,n))))', 'dr(0,dl(0,n,n),dr(0,s,dia(1,box(1,pp))))', 'dr(0,dl(0,np,dl(0,dr(0,s,np),s)),dl(0,np,s))', 'dr(0,s,dl(0,n,n))', 'dr(0,pp,s)', 'dr(0,dr(0,dr(0,dl(0,np,s),dl(0,np,s)),pp),np)', 'dr(0,dl(0,dr(0,dl(0,np,s),dia(0,box(0,dl(0,np,s)))),dr(0,dl(0,np,s),dl(0,np,s))),dr(0,dl(0,np,s),dia(0,box(0,dl(0,np,s)))))', 'dr(0,dr(0,dr(0,s,dl(0,np,s)),np),dl(0,np,s))', 'dr(0,dl(1,dl(0,np,np),dl(0,np,np)),n)', 'dl(0,p(0,pp,dl(1,s,s)),p(0,pp,dl(1,s,s)))', 'dr(0,dr(0,dl(0,n,n),dl(0,n,n)),np)', 'dr(0,dl(0,dr(0,np,np),dr(0,np,np)),dr(0,np,np))', 'dl(0,dl(0,np,np),dl(0,np,np))', 'dr(0,dl(0,dl(0,np,s),s),np)', 'dr(0,dr(0,s,dl(0,np,s)),dl(0,np,s))', 'dr(0,dl(0,dr(0,dl(0,n,n),dl(0,n,n)),dr(0,dl(0,n,n),dl(0,n,n))),dr(0,dl(0,n,n),dl(0,n,n)))', 'dr(0,dl(0,cl_y,dl(0,np,dr(0,s,s))),np)', 'dr(0,dl(0,dl(0,np,s),s),pp)', 'dr(0,dl(1,dl(0,np,s),dl(0,np,s)),dl(1,dl(0,np,s),dl(0,np,s)))', 'dr(0,dl(0,np,np),dr(0,dl(0,np,s),dia(1,box(1,np))))', 'np', 'dr(0,dl(0,dr(0,pp,np),s),pp)', 'dr(0,n,pp)', 'dr(0,dr(0,s,dl(1,s,s)),np)', 'dr(0,dl(0,n,n),dr(0,s,s))', 'dr(0,dl(0,dl(0,np,s),dl(0,np,s)),dl(0,dl(0,np,s),dl(0,np,s)))', 'dr(0,dr(0,dl(0,n,n),s),pp)', 'dr(0,dl(0,dr(0,dl(0,n,n),dia(0,box(0,n))),dr(0,dl(0,n,n),n)),dr(0,dl(0,n,n),dia(0,box(0,n))))', 'dr(0,dl(0,dr(0,dl(0,np,s),np),dr(0,dl(0,np,s),np)),dr(0,dl(0,np,s),np))', 'dr(0,n,s)', 'dr(0,dl(0,n,n),dr(0,dl(0,np,s),dia(1,box(1,np))))', 'p(0,np,dl(0,n,n))', 'dr(0,dl(0,dr(0,dr(0,np,np),n),dr(0,dr(0,np,np),n)),dr(0,dr(0,np,np),n))', 'dl(0,np,txt)', 'p(0,np,dia(0,box(0,dl(0,n,n))))', 'dl(0,cl_y,dl(0,np,dl(0,n,n)))', 'dr(0,dl(0,np,np),s)', 'dr(0,dl(0,np,dl(1,s,s)),np)', 'dr(0,dr(0,s,s),pp)', 'dr(0,dl(0,cl_r,s),dl(0,cl_r,dl(0,np,s)))', 'dr(0,dr(0,dl(1,s,s),dl(1,s,s)),np)', 'dl(0,dr(0,dl(0,np,s),dia(0,box(0,s))),dr(0,dl(0,np,s),s))', 'p(0,dl(1,s,s),dia(0,box(0,np)))', 'dr(0,dl(0,dr(0,s,dia(1,box(1,dr(0,dl(0,np,s),dl(0,n,n))))),dr(0,s,box(1,dia(1,dr(0,dl(0,np,s),dl(0,n,n)))))),dr(0,s,dia(1,box(1,dr(0,dl(0,np,s),dl(0,n,n))))))', 'dl(0,cl_r,s)', 'dr(0,dr(0,dl(0,cl_r,dl(0,np,s)),s),np)', 'dr(0,dl(0,dl(0,np,s),dl(0,np,np)),dl(0,np,s))', 'p(0,pp,np)', 'dr(0,dl(0,np,np),dl(0,np,np))', 'dl(0,dr(0,dl(0,n,n),s),dr(0,dl(0,n,n),s))', 'dr(0,dr(0,dl(0,cl_r,s),pp),s)', 'dr(0,n,dl(0,np,s))', 'cl_r', 'dr(0,dl(1,s,s),pp)', 'dl(0,dr(0,s,dia(0,box(0,np))),dr(0,s,np))', 'dr(0,dl(0,cl_y,dl(1,s,s)),dl(1,s,s))', 'dr(0,dr(0,dl(0,np,s),np),dl(0,np,s))', 'dr(0,dr(0,dl(0,n,n),dl(0,np,s)),np)', 'dl(0,pp,np)', 'dr(0,dl(0,dl(0,np,s),dl(0,np,s)),s)', 'dr(0,dr(0,dl(0,n,n),dl(0,n,n)),dr(0,dl(0,n,n),dl(0,n,n)))', 'dr(0,dr(0,dl(0,np,s),dl(0,np,s)),dl(0,np,s))', 'dl(0,np,pp)', 'dr(0,dl(0,np,dl(0,n,n)),pp)', 'dr(0,dl(0,n,n),pp)', 'dl(0,s,txt)', 'dr(0,dl(0,dr(0,pp,np),s),s)', 'dr(0,dl(0,dr(0,s,dia(1,box(1,dl(0,np,s)))),dr(0,s,box(1,dia(1,dl(0,np,s))))),dr(0,s,dia(1,box(1,dl(0,np,s)))))', 'dr(0,pp,np)', 'dl(0,dr(0,pp,np),dr(0,np,n))', 'dr(0,dl(1,s,dl(0,np,s)),pp)', 'dr(0,dl(0,dr(0,np,n),dl(0,dr(0,pp,np),dr(0,dl(1,s,s),n))),dr(0,np,n))', 'dr(0,dl(0,pp,pp),n)', 'dl(0,cl_r,dl(1,s,dr(0,s,np)))', 'dr(0,dl(0,n,n),dr(0,dl(0,n,n),dia(1,box(1,np))))', 'dl(0,dr(0,dl(0,n,n),dl(0,n,n)),dr(0,dl(0,n,n),dl(0,n,n)))', 'dr(0,dr(0,dl(0,n,n),pp),pp)', 'dr(0,dl(0,n,n),s)', 'dl(0,np,dr(0,s,s))', 'dr(0,dl(0,cl_y,dl(0,np,s)),np)', 'dr(0,dl(0,dl(1,dl(0,np,s),dl(0,np,s)),dl(1,dl(0,np,s),dl(0,np,s))),dl(1,dl(0,np,s),dl(0,np,s)))', 'dr(0,dr(0,s,dl(0,np,s)),np)', 'dr(0,dr(0,dl(0,n,n),dl(0,np,s)),dr(0,dl(0,n,n),dl(0,np,s)))', 'dr(0,dl(0,np,np),np)', 'dl(0,np,dl(0,dr(0,s,np),s))', 'dr(0,dr(0,dl(0,np,np),pp),pp)', 'dr(0,s,dr(0,s,dia(1,box(1,pp))))', 'dl(0,np,s)', 'dr(0,dl(0,cl_r,dl(0,np,s)),dl(0,cl_r,dl(0,np,s)))', 'dr(0,dr(0,s,dr(0,s,dia(1,box(1,np)))),n)', 'dr(0,dl(0,dr(0,np,dia(0,box(0,pp))),dr(0,np,pp)),dr(0,np,dia(0,box(0,pp))))', 'dl(0,dl(0,n,n),txt)', 'dr(0,dl(0,cl_y,dl(0,n,n)),np)', 'dr(0,dl(0,n,n),dr(0,s,dia(1,box(1,np))))', 'dl(0,cl_y,dl(0,np,dr(0,s,s)))', 'dl(0,np,dl(0,pp,pp))', 'dl(0,n,s)', 'dr(0,dl(0,cl_r,dl(0,np,s)),dr(0,dl(0,cl_r,dl(0,np,s)),dia(1,box(1,np))))', 'dr(0,dr(0,dl(0,np,s),dl(0,np,s)),n)', 'dr(0,dl(0,cl_r,s),pp)', 'dl(0,dr(0,dr(0,np,np),n),dr(0,dr(0,np,np),n))', 'dr(0,dl(0,n,n),n)', 'dr(0,dr(0,dl(0,np,np),dl(0,np,s)),np)', 'dr(0,dl(0,np,dl(1,s,s)),s)', 'dr(0,dr(0,dl(0,np,s),pp),pp)', 'dl(0,pp,pp)', 'dr(0,dr(0,s,s),dl(0,np,s))', 'dr(0,dl(0,dr(0,s,dia(1,box(1,dr(0,dl(0,np,s),pp)))),dr(0,s,box(1,dia(1,dr(0,dl(0,np,s),pp))))),dr(0,s,dia(1,box(1,dr(0,dl(0,np,s),pp)))))', 'pp', 'dr(0,dr(0,dr(0,s,dl(0,np,s)),np),dr(0,dr(0,s,dl(0,np,s)),np))', 'dr(0,dl(0,p(0,np,pp),p(0,np,dia(0,box(0,pp)))),p(0,np,pp))', 'dr(0,dl(0,dr(0,dr(0,dl(1,s,s),s),dl(1,s,s)),dr(0,dr(0,dl(1,s,s),s),dl(1,s,s))),dr(0,dr(0,dl(1,s,s),s),dl(1,s,s)))', 'dr(0,dl(0,dr(0,dl(0,n,n),np),dr(0,dl(0,n,n),np)),dr(0,dl(0,n,n),np))', 'dr(0,dl(0,dl(1,s,s),dl(1,s,s)),n)', 'dr(0,dr(0,s,dr(0,s,dia(1,box(1,pp)))),np)', 'dr(0,dl(0,dr(0,s,dr(0,s,dia(1,box(1,pp)))),dr(0,s,dr(0,s,dia(1,box(1,pp))))),dr(0,s,dr(0,s,dia(1,box(1,pp)))))', 'dl(0,dr(0,s,dia(1,box(1,dl(0,np,s)))),dr(0,s,box(1,dia(1,dl(0,np,s)))))', 'dl(0,dr(0,dl(0,n,n),dl(0,np,s)),dr(0,dl(0,n,n),dl(0,np,s)))', 'dl(0,dl(0,n,n),s)', 'dr(0,dl(1,dl(0,np,np),dl(0,np,np)),np)', 'dr(0,dr(0,dl(0,dl(0,np,s),s),pp),np)', 'dr(0,dr(0,s,pp),np)', 'dl(0,p(0,pp,np),p(0,pp,dia(0,box(0,np))))', 'dr(0,dr(0,n,n),dr(0,n,n))', 'dr(0,dr(0,dr(0,s,s),dr(0,s,s)),pp)', 'dl(0,dr(0,dr(0,dl(1,s,s),s),dl(1,s,s)),dr(0,dr(0,dl(1,s,s),s),dl(1,s,s)))', 'dl(0,dl(0,np,s),np)', 'dr(0,pp,dl(0,n,n))', 'dl(0,cl_r,dl(1,s,s))', 'dr(0,dl(0,np,s),dr(0,dl(0,np,s),dia(1,box(1,np))))', 'dr(0,dl(0,dr(0,dl(0,n,n),dl(0,np,s)),dr(0,dl(0,n,n),dl(0,np,s))),dr(0,dl(0,n,n),dl(0,np,s)))', 'dr(0,dl(0,pp,np),np)', 'dr(0,dl(0,p(0,np,dl(0,n,n)),p(0,np,dia(0,box(0,dl(0,n,n))))),p(0,np,dl(0,n,n)))', 'dl(0,dr(0,s,dia(1,box(1,dr(0,dl(0,np,s),pp)))),dr(0,s,box(1,dia(1,dr(0,dl(0,np,s),pp)))))', 'dr(0,dr(0,dl(0,np,s),dl(0,np,s)),dl(0,n,n))', 'dr(0,dl(1,s,s),dl(0,n,n))', 'dl(0,dr(0,dl(0,np,s),dia(0,box(0,np))),dr(0,dl(0,np,s),np))', 'dr(0,dl(0,dl(0,np,s),dl(0,np,s)),dl(0,np,s))', 'dr(0,s,n)', 'dr(0,dr(0,dl(0,np,s),dl(0,np,s)),dr(0,dl(0,np,s),dl(0,np,s)))', 'dl(0,dl(1,dl(0,n,n),dl(0,n,n)),dl(1,dl(0,n,n),dl(0,n,n)))', 'dr(0,dl(0,pp,dr(0,s,s)),n)', 'dr(0,dl(0,dl(0,n,n),np),np)', 'dl(0,dr(0,dl(0,np,s),dia(0,box(0,pp))),dr(0,dl(0,np,s),pp))', 'dl(1,dl(0,np,np),dl(0,np,np))', 'dl(0,dr(0,dl(0,np,s),dl(0,np,s)),dr(0,dl(0,np,s),dl(0,np,s)))', 'dr(0,dr(0,dl(1,s,s),s),dl(1,s,s))', 'dr(0,s,dr(0,dl(0,np,s),dia(1,box(1,np))))', 'dl(0,cl_r,dr(0,s,np))', 'dr(0,dl(0,pp,dl(0,n,n)),s)', 'dr(0,dr(0,dl(0,cl_r,s),pp),np)', 'dl(0,dr(0,n,n),n)', 'dr(0,dl(0,cl_y,dl(0,np,s)),dl(0,cl_y,dl(0,np,s)))', 'dl(0,dr(0,s,dia(1,box(1,dr(0,dl(0,np,s),np)))),dr(0,s,box(1,dia(1,dr(0,dl(0,np,s),np)))))', 'dr(0,dr(0,np,s),pp)', 'dr(0,dl(0,dr(0,pp,np),dl(0,n,n)),np)', 'dr(0,dr(0,dr(0,s,s),dr(0,s,s)),np)', 'dr(0,dl(0,cl_r,dl(0,np,s)),dr(0,dl(0,np,s),dia(1,box(1,np))))', 'dl(0,dl(0,n,n),dr(0,s,s))', 'dr(0,dr(0,s,dr(0,s,dia(1,box(1,pp)))),pp)', 'dr(0,dl(0,n,s),s)', 'dr(0,dl(0,n,dl(1,s,s)),n)', 'dr(0,s,pp)', 'dr(0,dl(0,pp,dl(1,s,s)),np)', 'dr(0,dl(0,cl_y,dl(0,np,dl(0,n,n))),np)', 'dr(0,dl(1,dl(0,n,n),dl(0,n,n)),dl(0,np,s))', 'dl(0,dr(0,pp,np),np)', 'dr(0,dr(0,pp,pp),n)', 'dr(0,dr(0,dr(0,s,s),dr(0,s,s)),n)', 'dl(0,dr(0,s,np),s)', 'dr(0,dl(0,dl(0,np,s),dl(0,np,s)),np)', 'dr(0,dl(0,n,n),np)', 'dl(0,dl(0,dia(0,box(0,n)),n),dl(0,n,n))', 'dr(0,dl(1,dl(0,n,n),dl(0,n,n)),np)', 'dl(0,dr(0,s,dia(1,box(1,dr(0,dl(0,np,s),dl(0,np,s))))),dr(0,s,box(1,dia(1,dr(0,dl(0,np,s),dl(0,np,s))))))', 'dr(0,dl(0,dl(0,np,s),s),s)', 'dr(0,dr(0,dl(1,s,s),dl(1,s,s)),n)', 'dr(0,dl(0,dl(0,n,n),dl(1,s,s)),dr(0,s,dia(1,box(1,dl(0,n,n)))))', 'p(0,pp,dl(1,s,s))', 'dl(0,s,s)', 'dr(0,dl(0,dr(0,np,n),dr(0,np,n)),dr(0,np,n))', 'dr(0,dl(0,cl_r,dl(0,n,n)),pp)', 'dr(0,dr(0,pp,pp),dl(1,s,s))', 'dl(0,cl_y,s)', 'dr(0,dl(0,dr(0,dr(0,s,s),n),dr(0,dr(0,s,s),n)),dr(0,dr(0,s,s),n))', 'dr(0,dr(0,dl(0,cl_y,dl(0,np,s)),dl(0,np,s)),np)', 'dr(0,dl(0,dr(0,dl(0,n,n),s),dr(0,dl(0,n,n),s)),dr(0,dl(0,n,n),s))', 'dl(0,dr(0,dl(0,n,n),dia(0,box(0,pp))),dr(0,dl(0,n,n),pp))', 'dr(0,dr(0,dl(0,np,s),dl(0,n,n)),np)', 'dr(0,dl(0,cl_y,dl(0,np,dl(0,np,np))),np)', 'dr(0,dl(0,pp,dl(1,s,s)),dr(0,s,dia(1,box(1,pp))))', 'dr(0,dr(0,dl(0,n,n),np),pp)', 'dr(0,dr(0,dr(0,s,s),np),n)', 'dl(0,dr(0,pp,pp),dr(0,pp,pp))', 'dl(0,dr(0,np,dia(0,box(0,pp))),dr(0,np,pp))', 'dr(0,np,dl(0,np,s))', 'dr(0,pp,pp)', 'dl(0,cl_y,dl(0,np,dl(0,np,np)))', 'dl(0,cl_r,dl(0,np,s))', 'dr(0,dl(0,pp,dl(1,s,s)),n)', 'dl(0,p(0,np,np),p(0,np,dia(0,box(0,np))))', 'dl(0,dr(0,dl(0,np,s),pp),dr(0,dl(0,np,s),pp))', 'dr(0,dr(0,np,np),s)', 'dr(0,dr(0,dl(0,cl_y,dl(0,np,s)),s),np)', 'dr(0,dr(0,dl(0,np,s),np),np)', 'dr(0,dr(0,s,s),dl(0,n,n))', 'dr(0,dl(0,dr(0,s,s),dr(0,s,s)),dr(0,s,s))', 'dr(0,dl(0,np,dl(0,pp,pp)),pp)', 'dr(0,np,pp)', 'n', 'dl(0,dr(0,pp,np),dr(0,dl(1,s,s),n))', 'dr(0,dr(0,dl(0,np,s),s),dl(0,np,s))', 'dl(0,cl_y,dl(0,np,dl(1,s,s)))', 'dl(0,dl(0,n,n),np)', 'dr(0,dl(0,dr(0,s,dia(1,box(1,dr(0,s,pp)))),dr(0,s,box(1,dia(1,dr(0,s,pp))))),dr(0,s,dia(1,box(1,dr(0,s,pp)))))', 'dr(0,dr(0,dl(0,n,n),dl(0,np,s)),pp)', 'dl(0,dr(0,dl(0,n,n),dia(0,box(0,n))),dr(0,dl(0,n,n),n))', 'dr(0,dr(0,dl(0,np,s),pp),np)', 'dr(0,dl(0,dr(0,s,dia(0,box(0,np))),dr(0,s,np)),dr(0,s,dia(0,box(0,np))))', 'dr(0,s,np)', 'dl(0,dr(0,np,n),dl(0,dr(0,pp,np),dr(0,pp,n)))', 'dl(0,dr(0,pp,np),s)', 'dr(0,dr(0,dl(0,np,s),np),pp)', 'dr(0,dr(0,dr(0,dl(0,np,s),pp),pp),np)', 'dr(0,dl(0,dr(0,pp,pp),dr(0,pp,pp)),dr(0,pp,pp))', 'p(0,pp,dia(0,box(0,np)))', 'dr(0,dl(0,cl_r,dl(0,np,s)),np)', 'dr(0,dl(0,np,np),dl(0,np,s))', 'dr(0,dr(0,dl(1,dl(0,n,n),dl(0,n,n)),np),n)', 'dr(0,dl(0,dr(0,pp,pp),dl(0,n,n)),s)', 'dr(0,dl(0,dl(0,n,n),dr(0,s,s)),dr(0,s,dia(1,box(1,dl(0,n,n)))))', 'dr(0,dl(0,dl(1,dl(0,n,n),dl(0,n,n)),dl(1,dl(0,n,n),dl(0,n,n))),dl(1,dl(0,n,n),dl(0,n,n)))', 'dr(0,dr(0,s,dr(0,s,dia(1,box(1,pp)))),n)', 'dl(0,dr(0,s,s),txt)', 'dr(0,dl(0,n,n),dr(0,dl(0,n,n),dia(1,box(1,pp))))', 'dl(0,dl(0,np,s),dl(0,np,s))', 'dr(0,dl(0,dl(0,dl(0,np,s),dl(0,np,s)),dl(0,dl(0,np,s),dl(0,np,s))),dl(0,dl(0,np,s),dl(0,np,s)))', 'p(0,dr(0,s,np),dia(0,box(0,np)))', 'dl(0,dr(0,dr(0,s,s),n),dr(0,dr(0,s,s),n))', 'dr(0,dr(0,dl(0,n,n),dl(0,np,s)),dl(0,n,n))', 'dr(0,s,dl(0,np,s))', 'dr(0,dr(0,dl(0,np,s),s),pp)', 'dr(0,dl(0,dr(0,pp,np),dl(0,np,np)),dr(0,s,dia(1,box(1,pp))))', 'dr(0,dl(0,dr(0,dl(0,np,s),dia(0,box(0,np))),dr(0,dl(0,np,s),np)),dr(0,dl(0,np,s),dia(0,box(0,np))))', 'dl(0,dl(0,np,s),dl(0,np,np))', 'dr(0,np,s)', 'dr(0,dl(0,dr(0,pp,np),dl(0,n,n)),s)', 'p(0,dl(1,s,s),np)', 'dl(0,dl(0,np,s),txt)', 'let', 'dl(0,dr(0,dr(0,dl(0,np,s),np),pp),dr(0,dr(0,dl(0,np,s),np),pp))', 'dl(0,pp,s)', 'dr(0,dr(0,s,dl(0,np,s)),cl_r)', 'dl(0,dr(0,s,dl(0,np,s)),dr(0,s,dl(0,np,s)))', 'dr(0,dl(0,dl(0,n,n),dl(0,n,n)),dr(0,s,dia(1,box(1,dl(0,n,n)))))', 'dr(0,dl(0,cl_y,dl(0,np,s)),dl(0,np,s))', 'dr(0,dl(0,dl(0,n,n),s),s)', 'dl(0,dr(0,dl(0,np,s),dia(0,box(0,dl(0,np,s)))),dr(0,dl(0,np,s),dl(0,np,s)))', 'p(0,dl(0,np,s),dia(0,box(0,np)))', 'dr(0,dl(1,dl(0,n,n),dl(0,n,n)),s)', 'dr(0,dl(0,dr(0,dl(0,np,s),pp),dr(0,dl(0,np,s),pp)),dr(0,dl(0,np,s),pp))', 'cl_y', 'dr(0,dr(0,np,s),np)', 'dl(0,dr(0,np,dia(0,box(0,n))),dr(0,np,n))', 'dr(0,dl(0,np,s),dl(0,n,n))', 'dr(0,dl(0,np,dl(1,s,s)),dl(0,np,dl(1,s,s)))', 'dr(0,dl(0,dr(0,dr(0,s,np),dia(0,box(0,pp))),dr(0,dr(0,s,np),pp)),dr(0,dr(0,s,np),dia(0,box(0,pp))))', 'dr(0,pp,n)', 'dr(0,dl(0,dl(0,np,s),s),dl(0,np,s))', 'dr(0,dr(0,n,n),n)', 'dr(0,dl(0,n,pp),n)', 's', 'dr(0,dl(0,dl(0,dia(0,box(0,n)),n),dl(0,n,n)),np)', 'dl(1,dl(0,np,s),dl(0,np,s))', 'dr(0,dl(0,dl(0,np,s),s),dl(0,dl(0,np,s),s))', 'dr(0,dl(1,s,s),dr(0,n,n))', 'dr(0,dr(0,dl(0,dr(0,pp,np),s),s),n)', 'dr(0,dr(0,dr(0,s,s),pp),np)', 'dr(0,dl(0,np,dl(1,s,s)),pp)', 'dl(0,np,dl(0,np,s))', 'dr(0,dr(0,dr(0,s,np),pp),np)', 'dl(0,dl(1,s,s),dl(1,s,s))', 'dr(0,dl(0,dr(0,dl(0,np,s),dia(0,box(0,pp))),dr(0,dl(0,np,s),pp)),dr(0,dl(0,np,s),dia(0,box(0,pp))))', 'dl(0,np,dl(1,s,s))', 'dr(0,dl(0,dr(0,dl(0,np,s),dia(0,box(0,s))),dr(0,dl(0,np,s),s)),dr(0,dl(0,np,s),dia(0,box(0,s))))', 'dr(0,dr(0,dl(0,np,s),dl(0,np,s)),pp)', 'dr(0,dr(0,dl(0,np,s),s),dl(1,s,s))', 'dr(0,dr(0,dl(1,s,s),dl(1,s,s)),dr(0,dl(1,s,s),dl(1,s,s)))', 'dl(0,dr(0,pp,np),dr(0,pp,n))', 'dr(0,dl(0,dr(0,pp,np),s),n)', 'dl(0,n,txt)', 'dr(0,dl(0,dr(0,dl(0,n,n),dia(0,box(0,pp))),dr(0,dl(0,n,n),pp)),dr(0,dl(0,n,n),dia(0,box(0,pp))))', 'dl(0,np,dl(0,dl(1,s,s),dl(1,s,s)))', 'dl(0,dr(0,np,n),dl(0,dr(0,pp,np),dr(0,dl(1,s,s),n)))', 'dr(0,dl(0,dl(0,np,s),np),np)', 'dr(0,dl(0,cl_y,dl(0,np,dl(1,s,s))),np)', 'dr(0,dl(0,cl_r,dl(0,np,s)),dr(0,dl(0,cl_r,dl(0,np,s)),dia(1,box(1,pp))))'}\n"
     ]
    }
   ],
   "source": [
    "\n",
    "print(\"Longest sentence   : \", maxLen)\n",
    "print(\"Number of actions : \", len(actionset), actionset)\n",
    "print(\"Number of supertags: \", len(superset), superset)\n"
   ]
  },
  {
   "cell_type": "markdown",
   "metadata": {},
   "source": [
    "## Create auxiliary mappings\n",
    "\n",
    "Load vector embeddings for the vocabulary. Create mappings from words, formulas and actions integers and back."
   ]
  },
  {
   "cell_type": "code",
   "execution_count": 26,
   "metadata": {},
   "outputs": [],
   "source": [
    "wv = KeyedVectors.load_word2vec_format('../wang2vec/frwiki_cwindow50_10.bin', binary=True)\n",
    "veclength = 50"
   ]
  },
  {
   "cell_type": "code",
   "execution_count": 29,
   "metadata": {
    "collapsed": true
   },
   "outputs": [],
   "source": [
    "def remove_prefix(text, prefix):\n",
    "    if text.startswith(prefix):\n",
    "        return text[len(prefix):]\n",
    "    return text"
   ]
  },
  {
   "cell_type": "markdown",
   "metadata": {},
   "source": [
    "Create vector mapping for all words in the vocabulary, using a zero vector for unknown words. Words are normalized before lookup (removing capitalization, etc.)"
   ]
  },
  {
   "cell_type": "code",
   "execution_count": 30,
   "metadata": {},
   "outputs": [
    {
     "name": "stdout",
     "output_type": "stream",
     "text": [
      "Unknowns:  2720\n",
      "In vocabulary:  11870\n"
     ]
    }
   ],
   "source": [
    "word_to_vec_map = {}\n",
    "unknowns = set()\n",
    "invoc = 0\n",
    "\n",
    "for w in vocabulary:\n",
    "    wn = normalize_word(w)\n",
    "    wr = remove_prefix(wn, \"-t-\")\n",
    "    wr = remove_prefix(wr, \"-\")\n",
    "    try:\n",
    "        vec = wv[wr]\n",
    "        invoc = invoc + 1\n",
    "    except:\n",
    "        unknowns.add(w)\n",
    "        vec = np.zeros(veclength)\n",
    "    word_to_vec_map[w] = vec\n",
    "\n",
    "print('Unknowns: ', len(unknowns))\n",
    "print('In vocabulary: ', invoc)"
   ]
  },
  {
   "cell_type": "markdown",
   "metadata": {},
   "source": [
    "Compute a vector meaning for a complex prosodic term by taking the average for all words having an embedding. Other solutions, such as simple addition, are possible. An alternative would be to keep track only of the head word in each prosodic term (this will greatly reduce the embedding size and may work well)"
   ]
  },
  {
   "cell_type": "code",
   "execution_count": 43,
   "metadata": {},
   "outputs": [],
   "source": [
    "def pros_to_vec(pros):\n",
    "    vec = np.zeros(veclength)\n",
    "    numw = 0\n",
    "    for w in pros:\n",
    "        wn = normalize_word(w)\n",
    "        try:\n",
    "            wvec = wv[wn]\n",
    "            vec = vec + wvec\n",
    "            numw = numw + 1\n",
    "        except:\n",
    "            pass\n",
    "    if numw == 0:\n",
    "        numw = 1\n",
    "    return vec/numw    "
   ]
  },
  {
   "cell_type": "markdown",
   "metadata": {},
   "source": [
    "Looks at some examples"
   ]
  },
  {
   "cell_type": "code",
   "execution_count": 23,
   "metadata": {},
   "outputs": [
    {
     "name": "stdout",
     "output_type": "stream",
     "text": [
      "[['Il'], ['y', 'a', 'quelques', 'jours'], ['', '', 'une', 'soixantaine', 'de', 'rebelles', 'présumés'], ['', '', 'dont', 'certains', 'étaient', 'armés'], ['', '', 'ont'], ['été', 'transférés', 'à', 'Abidjan'], ['.']]\n",
      "7\n",
      "['np', 'dl(0,np,dr(0,s,s))', 'np', 'dl(0,np,np)', 'dr(0,dl(0,np,s),dl(0,np,s))', 'dl(0,np,s)', 'dl(0,s,txt)']\n",
      "['dl1', 'dl2', 'dl1', 'dl2', 'dr1', 'dr2', 'O']\n",
      "7\n"
     ]
    }
   ],
   "source": [
    "print(pros[113])\n",
    "print(len(pros[113]))\n",
    "print(forms[113])\n",
    "print(actions[113])\n",
    "print(len(actions[113]))"
   ]
  },
  {
   "cell_type": "code",
   "execution_count": 44,
   "metadata": {},
   "outputs": [
    {
     "name": "stdout",
     "output_type": "stream",
     "text": [
      "[ 0.06135423 -0.13131003 -0.18451238 -0.25952235 -0.20443681  0.28091779\n",
      "  0.12621945  0.15473232  0.09866685  0.02807902 -0.31461665 -0.08482077\n",
      " -0.05280184 -0.12457576 -0.39251816  0.03320421 -0.08924808 -0.59473646\n",
      " -0.16613822 -0.20295529  0.06712979  0.16169645 -0.13465753 -0.02375351\n",
      " -0.30984667  0.02895044 -0.03812085 -0.15557894 -0.42134857  0.2752746\n",
      " -0.63396919 -0.11106327  0.27074042  0.21478277 -0.09659664  0.44096583\n",
      " -0.02110181 -0.10309666  0.22942159 -0.05130152  0.44929028  0.04754487\n",
      "  0.18998609 -0.02927026  0.43349707  0.20478503  0.25512281 -0.22025017\n",
      " -0.22031641  0.02538358]\n",
      "['Il']\n",
      "[ 0.06135423 -0.13131003 -0.18451238 -0.25952235 -0.20443681  0.28091779\n",
      "  0.12621945  0.15473232  0.09866685  0.02807902 -0.31461665 -0.08482077\n",
      " -0.05280184 -0.12457576 -0.39251816  0.03320421 -0.08924808 -0.59473646\n",
      " -0.16613822 -0.20295529  0.06712979  0.16169645 -0.13465753 -0.02375351\n",
      " -0.30984667  0.02895044 -0.03812085 -0.15557894 -0.42134857  0.2752746\n",
      " -0.63396919 -0.11106327  0.27074042  0.21478277 -0.09659664  0.44096583\n",
      " -0.02110181 -0.10309666  0.22942159 -0.05130152  0.44929028  0.04754487\n",
      "  0.18998609 -0.02927026  0.43349707  0.20478503  0.25512281 -0.22025017\n",
      " -0.22031641  0.02538358]\n"
     ]
    }
   ],
   "source": [
    "print(pros_to_vec(pros[113][0]))\n",
    "print(pros[113][0])\n",
    "print(wv['il'])"
   ]
  },
  {
   "cell_type": "markdown",
   "metadata": {},
   "source": [
    "Create the mappings to and from integers"
   ]
  },
  {
   "cell_type": "code",
   "execution_count": 46,
   "metadata": {},
   "outputs": [],
   "source": [
    "word_to_index, index_to_word = indexify(vocabulary)\n",
    "form_to_index, index_to_form = indexify(superset)\n",
    "action_to_index, index_to_action = indexify(actionset)"
   ]
  },
  {
   "cell_type": "code",
   "execution_count": 5,
   "metadata": {
    "collapsed": true
   },
   "outputs": [],
   "source": [
    "def load_obj(name):\n",
    "    with open(name + '.pkl', 'rb') as f:\n",
    "        return pickle.load(f)\n"
   ]
  },
  {
   "cell_type": "markdown",
   "metadata": {},
   "source": [
    "## Create model inputs\n"
   ]
  },
  {
   "cell_type": "code",
   "execution_count": 56,
   "metadata": {},
   "outputs": [],
   "source": [
    "numActions = len(index_to_action) + 1\n",
    "numSuperClasses = len(index_to_form) + 1\n",
    "\n",
    "Y = lists_to_indices(actions, action_to_index, maxLen)\n",
    "X = lists_to_indices(forms, form_to_index, maxLen)"
   ]
  },
  {
   "cell_type": "code",
   "execution_count": 123,
   "metadata": {},
   "outputs": [
    {
     "name": "stdout",
     "output_type": "stream",
     "text": [
      "14590\n"
     ]
    },
    {
     "ename": "TypeError",
     "evalue": "object of type 'Word2VecKeyedVectors' has no len()",
     "output_type": "error",
     "traceback": [
      "\u001b[0;31m---------------------------------------------------------------------------\u001b[0m",
      "\u001b[0;31mTypeError\u001b[0m                                 Traceback (most recent call last)",
      "\u001b[0;32m<ipython-input-123-94251f28a712>\u001b[0m in \u001b[0;36m<module>\u001b[0;34m()\u001b[0m\n\u001b[1;32m      1\u001b[0m \u001b[0mprint\u001b[0m\u001b[0;34m(\u001b[0m\u001b[0mlen\u001b[0m\u001b[0;34m(\u001b[0m\u001b[0mvocabulary\u001b[0m\u001b[0;34m)\u001b[0m\u001b[0;34m)\u001b[0m\u001b[0;34m\u001b[0m\u001b[0m\n\u001b[0;32m----> 2\u001b[0;31m \u001b[0mprint\u001b[0m\u001b[0;34m(\u001b[0m\u001b[0mlen\u001b[0m\u001b[0;34m(\u001b[0m\u001b[0mwv\u001b[0m\u001b[0;34m)\u001b[0m\u001b[0;34m)\u001b[0m\u001b[0;34m\u001b[0m\u001b[0m\n\u001b[0m",
      "\u001b[0;31mTypeError\u001b[0m: object of type 'Word2VecKeyedVectors' has no len()"
     ]
    }
   ],
   "source": [
    "print(len(vocabulary))"
   ]
  },
  {
   "cell_type": "markdown",
   "metadata": {},
   "source": [
    "Keep 20% of the sentences as test data"
   ]
  },
  {
   "cell_type": "code",
   "execution_count": 57,
   "metadata": {
    "collapsed": true
   },
   "outputs": [],
   "source": [
    "X_train, X_test, Y_train, Y_test = train_test_split(X, Y, test_size=0.2)"
   ]
  },
  {
   "cell_type": "markdown",
   "metadata": {},
   "source": [
    "Convert integer outputs to one-hot representations"
   ]
  },
  {
   "cell_type": "code",
   "execution_count": 117,
   "metadata": {
    "collapsed": true
   },
   "outputs": [],
   "source": [
    "Y_train_oh = to_categorical(Y_train, numActions)"
   ]
  },
  {
   "cell_type": "markdown",
   "metadata": {},
   "source": [
    "## Define the model\n",
    "\n",
    "As a baseline, use the simplest possible model with access only to the formulas but no information about the words."
   ]
  },
  {
   "cell_type": "code",
   "execution_count": 58,
   "metadata": {
    "collapsed": true
   },
   "outputs": [],
   "source": [
    "sentence_indices = Input(shape = (maxLen,), dtype = 'int32')"
   ]
  },
  {
   "cell_type": "code",
   "execution_count": 59,
   "metadata": {
    "collapsed": true
   },
   "outputs": [],
   "source": [
    "emb = Embedding(numSuperClasses,64,trainable=True,mask_zero=True)(sentence_indices)"
   ]
  },
  {
   "cell_type": "code",
   "execution_count": 78,
   "metadata": {
    "collapsed": true
   },
   "outputs": [],
   "source": [
    "LSTM1 = Bidirectional(LSTM(128, dropout=0.2, recurrent_dropout=0.2, return_sequences=True))(emb)\n",
    "LSTM2 = Bidirectional(LSTM(128, dropout=0.2, recurrent_dropout=0.2, return_sequences=True))(LSTM1)"
   ]
  },
  {
   "cell_type": "code",
   "execution_count": 111,
   "metadata": {},
   "outputs": [],
   "source": [
    "Act =  TimeDistributed(Dense(numActions,kernel_constraint=max_norm(5.),activation='softmax'))(LSTM2)"
   ]
  },
  {
   "cell_type": "markdown",
   "metadata": {},
   "source": [
    "Define the same model using a function "
   ]
  },
  {
   "cell_type": "code",
   "execution_count": 112,
   "metadata": {
    "collapsed": true
   },
   "outputs": [],
   "source": [
    "def parse_model(input_shape, num_super, num_actions):\n",
    "    sentence_indices = Input(shape = input_shape, dtype = 'int32')\n",
    "    emb = Embedding(numSuperClasses,64,trainable=True,mask_zero=True)(sentence_indices)\n",
    "    LSTM1 = Bidirectional(LSTM(128, dropout=0.2, recurrent_dropout=0.2, return_sequences=True))(emb)\n",
    "    LSTM2 = Bidirectional(LSTM(128, dropout=0.2, recurrent_dropout=0.2, return_sequences=True))(LSTM1)\n",
    "    Act =  TimeDistributed(Dense(numActions,kernel_constraint=max_norm(5.),activation='softmax'))(LSTM2)\n",
    "    model = Model(inputs=sentence_indices,outputs=Act)\n",
    "    \n",
    "    return model"
   ]
  },
  {
   "cell_type": "code",
   "execution_count": 113,
   "metadata": {},
   "outputs": [
    {
     "name": "stdout",
     "output_type": "stream",
     "text": [
      "_________________________________________________________________\n",
      "Layer (type)                 Output Shape              Param #   \n",
      "=================================================================\n",
      "input_3 (InputLayer)         (None, 140)               0         \n",
      "_________________________________________________________________\n",
      "embedding_3 (Embedding)      (None, 140, 64)           32640     \n",
      "_________________________________________________________________\n",
      "bidirectional_9 (Bidirection (None, 140, 256)          197632    \n",
      "_________________________________________________________________\n",
      "bidirectional_10 (Bidirectio (None, 140, 256)          394240    \n",
      "_________________________________________________________________\n",
      "time_distributed_7 (TimeDist (None, 140, 58)           14906     \n",
      "=================================================================\n",
      "Total params: 639,418\n",
      "Trainable params: 639,418\n",
      "Non-trainable params: 0\n",
      "_________________________________________________________________\n"
     ]
    }
   ],
   "source": [
    "model = parse_model((maxLen,), numSuperClasses, numActions)\n",
    "model.summary()"
   ]
  },
  {
   "cell_type": "code",
   "execution_count": 120,
   "metadata": {},
   "outputs": [],
   "source": [
    "model.compile(optimizer='adam', loss='categorical_crossentropy', metrics=['accuracy'])"
   ]
  },
  {
   "cell_type": "code",
   "execution_count": null,
   "metadata": {},
   "outputs": [
    {
     "name": "stdout",
     "output_type": "stream",
     "text": [
      "Train on 109235 samples, validate on 36412 samples\n",
      "Epoch 1/10\n",
      "109235/109235 [==============================] - 3204s 29ms/step - loss: 0.0628 - acc: 0.9784 - val_loss: 0.0439 - val_acc: 0.9843\n",
      "Epoch 2/10\n",
      " 34944/109235 [========>.....................] - ETA: 34:40 - loss: 0.0455 - acc: 0.9831"
     ]
    }
   ],
   "source": [
    "history = model.fit(X_train, Y_train_oh, epochs=10, batch_size=32,validation_split=0.25)"
   ]
  },
  {
   "cell_type": "code",
   "execution_count": null,
   "metadata": {
    "collapsed": true
   },
   "outputs": [],
   "source": [
    "plt.plot(history.history['loss'])\n",
    "plt.plot(history.history['val_loss'])\n",
    "plt.title('model train vs validation loss')\n",
    "plt.ylabel('loss')\n",
    "plt.xlabel('epoch')\n",
    "plt.legend(['train', 'validation'], loc='upper right')\n",
    "plt.show()"
   ]
  },
  {
   "cell_type": "code",
   "execution_count": null,
   "metadata": {
    "collapsed": true
   },
   "outputs": [],
   "source": [
    "plt.plot(history.history['acc'])\n",
    "plt.plot(history.history['val_acc'])\n",
    "plt.title('model train vs validation accuracy')\n",
    "plt.ylabel('accuracy')\n",
    "plt.xlabel('epoch')\n",
    "plt.legend(['train', 'validation'], loc='upper right')\n",
    "plt.show()"
   ]
  },
  {
   "cell_type": "code",
   "execution_count": null,
   "metadata": {
    "collapsed": true
   },
   "outputs": [],
   "source": [
    "model.save('parse.h5')"
   ]
  },
  {
   "cell_type": "code",
   "execution_count": 116,
   "metadata": {},
   "outputs": [
    {
     "name": "stdout",
     "output_type": "stream",
     "text": [
      "(None, 140)\n",
      "(None, 140)\n",
      "Emb\n",
      "(None, 140)\n",
      "(None, 140, 64)\n",
      "LSTM1\n",
      "(None, 140, 64)\n",
      "(None, 140, 256)\n",
      "LSTM2\n",
      "(None, 140, 256)\n",
      "(None, 140, 256)\n",
      "Act\n",
      "(None, 140, 256)\n",
      "(None, 140, 58)\n",
      "Numactions\n",
      "58\n",
      "(145647, 140)\n"
     ]
    }
   ],
   "source": [
    "print(model.layers[0].input_shape)\n",
    "print(model.layers[0].output_shape)\n",
    "print('Emb')\n",
    "print(model.layers[1].input_shape)\n",
    "print(model.layers[1].output_shape)\n",
    "print('LSTM1')\n",
    "print(model.layers[2].input_shape)\n",
    "print(model.layers[2].output_shape)\n",
    "print('LSTM2')\n",
    "print(model.layers[3].input_shape)\n",
    "print(model.layers[3].output_shape)\n",
    "print('Act')\n",
    "print(model.layers[4].input_shape)\n",
    "print(model.layers[4].output_shape)\n",
    "print('Numactions')\n",
    "print(numActions)\n",
    "print(Y_train.shape)"
   ]
  },
  {
   "cell_type": "code",
   "execution_count": 71,
   "metadata": {},
   "outputs": [
    {
     "name": "stdout",
     "output_type": "stream",
     "text": [
      "[   2.  422.  314.  422.  158.   31.  138.  422.    2.  422.  314.  422.\n",
      "  314.  422.  278.    0.    0.    0.    0.    0.    0.    0.    0.    0.\n",
      "    0.    0.    0.    0.    0.    0.    0.    0.    0.    0.    0.    0.\n",
      "    0.    0.    0.    0.    0.    0.    0.    0.    0.    0.    0.    0.\n",
      "    0.    0.    0.    0.    0.    0.    0.    0.    0.    0.    0.    0.\n",
      "    0.    0.    0.    0.    0.    0.    0.    0.    0.    0.    0.    0.\n",
      "    0.    0.    0.    0.    0.    0.    0.    0.    0.    0.    0.    0.\n",
      "    0.    0.    0.    0.    0.    0.    0.    0.    0.    0.    0.    0.\n",
      "    0.    0.    0.    0.    0.    0.    0.    0.    0.    0.    0.    0.\n",
      "    0.    0.    0.    0.    0.    0.    0.    0.    0.    0.    0.    0.\n",
      "    0.    0.    0.    0.    0.    0.    0.    0.    0.    0.    0.    0.\n",
      "    0.    0.    0.    0.    0.    0.    0.    0.]\n",
      "(145647, 140)\n"
     ]
    },
    {
     "ename": "TypeError",
     "evalue": "'Tensor' object is not callable",
     "output_type": "error",
     "traceback": [
      "\u001b[0;31m---------------------------------------------------------------------------\u001b[0m",
      "\u001b[0;31mTypeError\u001b[0m                                 Traceback (most recent call last)",
      "\u001b[0;32m<ipython-input-71-9abee0407ba6>\u001b[0m in \u001b[0;36m<module>\u001b[0;34m()\u001b[0m\n\u001b[1;32m      1\u001b[0m \u001b[0mprint\u001b[0m\u001b[0;34m(\u001b[0m\u001b[0mX_train\u001b[0m\u001b[0;34m[\u001b[0m\u001b[0;36m0\u001b[0m\u001b[0;34m]\u001b[0m\u001b[0;34m)\u001b[0m\u001b[0;34m\u001b[0m\u001b[0m\n\u001b[1;32m      2\u001b[0m \u001b[0mprint\u001b[0m\u001b[0;34m(\u001b[0m\u001b[0mnp\u001b[0m\u001b[0;34m.\u001b[0m\u001b[0mshape\u001b[0m\u001b[0;34m(\u001b[0m\u001b[0mX_train\u001b[0m\u001b[0;34m)\u001b[0m\u001b[0;34m)\u001b[0m\u001b[0;34m\u001b[0m\u001b[0m\n\u001b[0;32m----> 3\u001b[0;31m \u001b[0mprint\u001b[0m\u001b[0;34m(\u001b[0m\u001b[0memb\u001b[0m\u001b[0;34m(\u001b[0m\u001b[0mX_train\u001b[0m\u001b[0;34m)\u001b[0m\u001b[0;34m)\u001b[0m\u001b[0;34m\u001b[0m\u001b[0m\n\u001b[0m",
      "\u001b[0;31mTypeError\u001b[0m: 'Tensor' object is not callable"
     ]
    }
   ],
   "source": [
    "print(X_train[0])\n",
    "print(np.shape(X_train))\n",
    "print(emb(X_train))"
   ]
  },
  {
   "cell_type": "code",
   "execution_count": 128,
   "metadata": {},
   "outputs": [
    {
     "name": "stdout",
     "output_type": "stream",
     "text": [
      "(2795, 140)\n"
     ]
    }
   ],
   "source": [
    "Yin = Y[:2795]\n",
    "print(np.shape(Yin))"
   ]
  },
  {
   "cell_type": "code",
   "execution_count": 26,
   "metadata": {
    "collapsed": true
   },
   "outputs": [],
   "source": [
    "def read_data(file):\n",
    "    with open(file, 'r') as f:\n",
    "        out = []\n",
    "        for line in f:\n",
    "            list = []\n",
    "            line = line.strip().split()\n",
    "            for i in line:\n",
    "                list.append(i)\n",
    "            out.append(list)\n",
    "    return np.asarray(out) "
   ]
  },
  {
   "cell_type": "code",
   "execution_count": 27,
   "metadata": {
    "collapsed": true
   },
   "outputs": [],
   "source": [
    "LeftList  = read_data('brackets_left.txt')\n",
    "RightList = read_data('brackets_right.txt')"
   ]
  },
  {
   "cell_type": "code",
   "execution_count": 104,
   "metadata": {
    "collapsed": true
   },
   "outputs": [],
   "source": [
    "def l_to_indices(X, max_len):\n",
    "\n",
    "    m = X.shape[0]                                   # number of training examples\n",
    "    \n",
    "    # Initialize X_indices as a numpy matrix of zeros and the correct shape (≈ 1 line)\n",
    "    X_indices = np.zeros((m,max_len,1))\n",
    "\n",
    "    for i in range(m):                               # loop over training examples\n",
    "        \n",
    "        # Convert the ith training sentence in lower case and split it into words. You should get a list of words.\n",
    "        list = X[i]\n",
    "\n",
    "        j = 0\n",
    "        \n",
    "        # Loop over the words of sentence_words\n",
    "        for w in list:\n",
    "            try:\n",
    "                X_indices[i, j, 0] = float(w)\n",
    "            except:\n",
    "                print(\"Not a float/integer: \", w)\n",
    "                X_indices[i, j, 0] = 0  # unknown\n",
    "            # Increment j to j + 1\n",
    "            j = j + 1\n",
    "            \n",
    "    return X_indices\n"
   ]
  },
  {
   "cell_type": "code",
   "execution_count": 105,
   "metadata": {
    "collapsed": true
   },
   "outputs": [],
   "source": [
    "Left = l_to_indices(LeftList, maxLen)\n",
    "Right = l_to_indices(RightList, maxLen)"
   ]
  },
  {
   "cell_type": "code",
   "execution_count": 46,
   "metadata": {},
   "outputs": [
    {
     "name": "stdout",
     "output_type": "stream",
     "text": [
      "[ 1.  2.  2.  1.  1.  1.  0.  1.  1.  1.  1.  1.  1.  0.  2.  0.  1.  2.\n",
      "  1.  1.  1.  4.  0.  1.  2.  1.  1.  0.  0.  1.  2.  0.  1.  2.  1.  0.\n",
      "  1.  1.  1.  0.  2.  0.  1.  3.  1.  0.  1.  0.  1.  2.  4.  0.  1.  0.\n",
      "  1.  0.  1.  0.  2.  0.  1.  2.  0.  1.  0.  1.  2.  0.  2.  0.  2.  0.\n",
      "  1.  1.  1.  0.  1.  0.  0.  0.  0.  0.  0.  0.  0.  0.  0.  0.  0.  0.\n",
      "  0.  0.  0.  0.  0.  0.  0.  0.  0.  0.  0.  0.  0.  0.  0.  0.  0.  0.\n",
      "  0.  0.  0.  0.  0.  0.  0.  0.  0.  0.  0.  0.  0.  0.  0.  0.  0.  0.\n",
      "  0.  0.  0.  0.  0.  0.  0.  0.  0.  0.  0.  0.  0.  0.]\n",
      "(2795, 140)\n"
     ]
    }
   ],
   "source": [
    "print(Left[0])\n",
    "print(np.shape(Left))"
   ]
  },
  {
   "cell_type": "code",
   "execution_count": 185,
   "metadata": {
    "collapsed": true
   },
   "outputs": [],
   "source": [
    "sentence_indices = Input(shape = (maxLen,), dtype = 'int32')"
   ]
  },
  {
   "cell_type": "code",
   "execution_count": 186,
   "metadata": {
    "collapsed": true
   },
   "outputs": [],
   "source": [
    "emb = Embedding(numSuperClasses,64,trainable=True,mask_zero=True)(sentence_indices)"
   ]
  },
  {
   "cell_type": "code",
   "execution_count": 187,
   "metadata": {
    "collapsed": true,
    "scrolled": true
   },
   "outputs": [],
   "source": [
    "X = Bidirectional(LSTM(256, dropout=0.2, recurrent_dropout=0.2, return_sequences=True))(emb)\n",
    "X = Bidirectional(LSTM(256, dropout=0.2, recurrent_dropout=0.2, return_sequences=True))(X)"
   ]
  },
  {
   "cell_type": "code",
   "execution_count": 188,
   "metadata": {
    "collapsed": true
   },
   "outputs": [],
   "source": [
    "YL = TimeDistributed(Dense(32,kernel_constraint=max_norm(5.)))(X)\n",
    "ZL = TimeDistributed(Dense(32,kernel_constraint=max_norm(5.)))(X)"
   ]
  },
  {
   "cell_type": "code",
   "execution_count": 189,
   "metadata": {
    "collapsed": true
   },
   "outputs": [],
   "source": [
    "L =  TimeDistributed(Dense(1,kernel_constraint=max_norm(5.)))(YL)\n",
    "outl = Activation('relu')(L)"
   ]
  },
  {
   "cell_type": "code",
   "execution_count": 190,
   "metadata": {
    "collapsed": true
   },
   "outputs": [],
   "source": [
    "R =  TimeDistributed(Dense(1,kernel_constraint=max_norm(5.)))(ZL)\n",
    "outr = Activation('relu')(R)"
   ]
  },
  {
   "cell_type": "code",
   "execution_count": 191,
   "metadata": {},
   "outputs": [
    {
     "name": "stdout",
     "output_type": "stream",
     "text": [
      "__________________________________________________________________________________________________\n",
      "Layer (type)                    Output Shape         Param #     Connected to                     \n",
      "==================================================================================================\n",
      "input_8 (InputLayer)            (None, 140)          0                                            \n",
      "__________________________________________________________________________________________________\n",
      "embedding_6 (Embedding)         (None, 140, 64)      57024       input_8[0][0]                    \n",
      "__________________________________________________________________________________________________\n",
      "bidirectional_14 (Bidirectional (None, 140, 512)     657408      embedding_6[0][0]                \n",
      "__________________________________________________________________________________________________\n",
      "bidirectional_15 (Bidirectional (None, 140, 512)     1574912     bidirectional_14[0][0]           \n",
      "__________________________________________________________________________________________________\n",
      "time_distributed_21 (TimeDistri (None, 140, 32)      16416       bidirectional_15[0][0]           \n",
      "__________________________________________________________________________________________________\n",
      "time_distributed_22 (TimeDistri (None, 140, 32)      16416       bidirectional_15[0][0]           \n",
      "__________________________________________________________________________________________________\n",
      "time_distributed_23 (TimeDistri (None, 140, 1)       33          time_distributed_21[0][0]        \n",
      "__________________________________________________________________________________________________\n",
      "time_distributed_24 (TimeDistri (None, 140, 1)       33          time_distributed_22[0][0]        \n",
      "__________________________________________________________________________________________________\n",
      "activation_16 (Activation)      (None, 140, 1)       0           time_distributed_23[0][0]        \n",
      "__________________________________________________________________________________________________\n",
      "activation_17 (Activation)      (None, 140, 1)       0           time_distributed_24[0][0]        \n",
      "==================================================================================================\n",
      "Total params: 2,322,242\n",
      "Trainable params: 2,322,242\n",
      "Non-trainable params: 0\n",
      "__________________________________________________________________________________________________\n"
     ]
    }
   ],
   "source": [
    "model = Model(sentence_indices, [outl, outr])\n",
    "model.summary()"
   ]
  },
  {
   "cell_type": "code",
   "execution_count": 192,
   "metadata": {
    "collapsed": true
   },
   "outputs": [],
   "source": [
    "model.compile(optimizer='rmsprop', loss=['mse','mse']) "
   ]
  },
  {
   "cell_type": "code",
   "execution_count": 193,
   "metadata": {},
   "outputs": [
    {
     "name": "stdout",
     "output_type": "stream",
     "text": [
      "Train on 2236 samples, validate on 559 samples\n",
      "Epoch 1/30\n",
      "2236/2236 [==============================] - 159s 71ms/step - loss: 6.9297 - activation_16_loss: 1.0293 - activation_17_loss: 5.9004 - val_loss: 5.0428 - val_activation_16_loss: 0.5925 - val_activation_17_loss: 4.4504\n",
      "Epoch 2/30\n",
      "2236/2236 [==============================] - 149s 67ms/step - loss: 2.8369 - activation_16_loss: 0.5996 - activation_17_loss: 2.2373 - val_loss: 2.1068 - val_activation_16_loss: 0.4636 - val_activation_17_loss: 1.6433\n",
      "Epoch 3/30\n",
      "2236/2236 [==============================] - 162s 72ms/step - loss: 1.9260 - activation_16_loss: 0.4413 - activation_17_loss: 1.4847 - val_loss: 1.7798 - val_activation_16_loss: 0.3378 - val_activation_17_loss: 1.4420\n",
      "Epoch 4/30\n",
      "2236/2236 [==============================] - 153s 69ms/step - loss: 1.6837 - activation_16_loss: 0.3338 - activation_17_loss: 1.3499 - val_loss: 2.2846 - val_activation_16_loss: 0.3057 - val_activation_17_loss: 1.9789\n",
      "Epoch 5/30\n",
      "2236/2236 [==============================] - 155s 69ms/step - loss: 1.4985 - activation_16_loss: 0.2969 - activation_17_loss: 1.2017 - val_loss: 1.5359 - val_activation_16_loss: 0.2621 - val_activation_17_loss: 1.2738\n",
      "Epoch 6/30\n",
      "2236/2236 [==============================] - 150s 67ms/step - loss: 1.3988 - activation_16_loss: 0.2702 - activation_17_loss: 1.1285 - val_loss: 1.7974 - val_activation_16_loss: 0.2991 - val_activation_17_loss: 1.4982\n",
      "Epoch 7/30\n",
      "2236/2236 [==============================] - 149s 66ms/step - loss: 1.3170 - activation_16_loss: 0.2506 - activation_17_loss: 1.0663 - val_loss: 1.3029 - val_activation_16_loss: 0.2274 - val_activation_17_loss: 1.0754\n",
      "Epoch 8/30\n",
      "2236/2236 [==============================] - 148s 66ms/step - loss: 1.2140 - activation_16_loss: 0.2344 - activation_17_loss: 0.9796 - val_loss: 1.2166 - val_activation_16_loss: 0.2091 - val_activation_17_loss: 1.0076\n",
      "Epoch 9/30\n",
      "2236/2236 [==============================] - 152s 68ms/step - loss: 1.1519 - activation_16_loss: 0.2252 - activation_17_loss: 0.9267 - val_loss: 1.1924 - val_activation_16_loss: 0.2044 - val_activation_17_loss: 0.9880\n",
      "Epoch 10/30\n",
      "2236/2236 [==============================] - 157s 70ms/step - loss: 1.1024 - activation_16_loss: 0.2169 - activation_17_loss: 0.8854 - val_loss: 1.1685 - val_activation_16_loss: 0.1933 - val_activation_17_loss: 0.9752\n",
      "Epoch 11/30\n",
      "2236/2236 [==============================] - 170s 76ms/step - loss: 1.0391 - activation_16_loss: 0.2098 - activation_17_loss: 0.8293 - val_loss: 1.0880 - val_activation_16_loss: 0.2066 - val_activation_17_loss: 0.8815\n",
      "Epoch 12/30\n",
      "2236/2236 [==============================] - 161s 72ms/step - loss: 1.0154 - activation_16_loss: 0.2057 - activation_17_loss: 0.8097 - val_loss: 1.1836 - val_activation_16_loss: 0.2084 - val_activation_17_loss: 0.9752\n",
      "Epoch 13/30\n",
      "2236/2236 [==============================] - 155s 70ms/step - loss: 0.9780 - activation_16_loss: 0.2017 - activation_17_loss: 0.7764 - val_loss: 1.0725 - val_activation_16_loss: 0.1934 - val_activation_17_loss: 0.8792\n",
      "Epoch 14/30\n",
      "2236/2236 [==============================] - 150s 67ms/step - loss: 0.9487 - activation_16_loss: 0.1976 - activation_17_loss: 0.7510 - val_loss: 1.0482 - val_activation_16_loss: 0.1855 - val_activation_17_loss: 0.8627\n",
      "Epoch 15/30\n",
      "2236/2236 [==============================] - 151s 68ms/step - loss: 0.9110 - activation_16_loss: 0.1924 - activation_17_loss: 0.7186 - val_loss: 1.0318 - val_activation_16_loss: 0.1793 - val_activation_17_loss: 0.8526\n",
      "Epoch 16/30\n",
      "2236/2236 [==============================] - 152s 68ms/step - loss: 0.8986 - activation_16_loss: 0.1878 - activation_17_loss: 0.7108 - val_loss: 1.0087 - val_activation_16_loss: 0.1786 - val_activation_17_loss: 0.8301\n",
      "Epoch 17/30\n",
      "2236/2236 [==============================] - 150s 67ms/step - loss: 0.8567 - activation_16_loss: 0.1863 - activation_17_loss: 0.6705 - val_loss: 1.0208 - val_activation_16_loss: 0.1731 - val_activation_17_loss: 0.8477\n",
      "Epoch 18/30\n",
      "2236/2236 [==============================] - 152s 68ms/step - loss: 0.8454 - activation_16_loss: 0.1823 - activation_17_loss: 0.6631 - val_loss: 0.9668 - val_activation_16_loss: 0.1763 - val_activation_17_loss: 0.7905\n",
      "Epoch 19/30\n",
      "2236/2236 [==============================] - 149s 67ms/step - loss: 0.8262 - activation_16_loss: 0.1787 - activation_17_loss: 0.6475 - val_loss: 0.9771 - val_activation_16_loss: 0.1715 - val_activation_17_loss: 0.8056\n",
      "Epoch 20/30\n",
      "2236/2236 [==============================] - 153s 68ms/step - loss: 0.7842 - activation_16_loss: 0.1761 - activation_17_loss: 0.6082 - val_loss: 0.9625 - val_activation_16_loss: 0.1807 - val_activation_17_loss: 0.7817\n",
      "Epoch 21/30\n",
      "2236/2236 [==============================] - 152s 68ms/step - loss: 0.7706 - activation_16_loss: 0.1719 - activation_17_loss: 0.5987 - val_loss: 1.0370 - val_activation_16_loss: 0.1853 - val_activation_17_loss: 0.8516\n",
      "Epoch 22/30\n",
      "2236/2236 [==============================] - 2052s 918ms/step - loss: 0.7506 - activation_16_loss: 0.1724 - activation_17_loss: 0.5781 - val_loss: 1.0268 - val_activation_16_loss: 0.1622 - val_activation_17_loss: 0.8647\n",
      "Epoch 23/30\n",
      "2236/2236 [==============================] - 300s 134ms/step - loss: 0.7425 - activation_16_loss: 0.1674 - activation_17_loss: 0.5751 - val_loss: 0.9371 - val_activation_16_loss: 0.1795 - val_activation_17_loss: 0.7576\n",
      "Epoch 24/30\n",
      "2236/2236 [==============================] - 248s 111ms/step - loss: 0.7266 - activation_16_loss: 0.1660 - activation_17_loss: 0.5606 - val_loss: 1.0456 - val_activation_16_loss: 0.1773 - val_activation_17_loss: 0.8682\n",
      "Epoch 25/30\n",
      "2236/2236 [==============================] - 236s 106ms/step - loss: 0.6972 - activation_16_loss: 0.1624 - activation_17_loss: 0.5348 - val_loss: 1.0174 - val_activation_16_loss: 0.1599 - val_activation_17_loss: 0.8575\n",
      "Epoch 26/30\n",
      "2236/2236 [==============================] - 331s 148ms/step - loss: 0.6935 - activation_16_loss: 0.1604 - activation_17_loss: 0.5331 - val_loss: 0.9657 - val_activation_16_loss: 0.1616 - val_activation_17_loss: 0.8042\n",
      "Epoch 27/30\n",
      "2236/2236 [==============================] - 439s 196ms/step - loss: 0.6779 - activation_16_loss: 0.1576 - activation_17_loss: 0.5203 - val_loss: 0.9171 - val_activation_16_loss: 0.1558 - val_activation_17_loss: 0.7613\n",
      "Epoch 28/30\n",
      "2236/2236 [==============================] - 392s 175ms/step - loss: 0.6575 - activation_16_loss: 0.1569 - activation_17_loss: 0.5005 - val_loss: 0.9401 - val_activation_16_loss: 0.1555 - val_activation_17_loss: 0.7846\n",
      "Epoch 29/30\n",
      "2236/2236 [==============================] - 295s 132ms/step - loss: 0.6372 - activation_16_loss: 0.1539 - activation_17_loss: 0.4832 - val_loss: 0.9527 - val_activation_16_loss: 0.1738 - val_activation_17_loss: 0.7788\n",
      "Epoch 30/30\n",
      "2236/2236 [==============================] - 313s 140ms/step - loss: 0.6200 - activation_16_loss: 0.1513 - activation_17_loss: 0.4686 - val_loss: 0.9337 - val_activation_16_loss: 0.1577 - val_activation_17_loss: 0.7760\n"
     ]
    }
   ],
   "source": [
    "history = model.fit(Yin, [Left,Right], epochs=30, batch_size=32,validation_split=0.2)"
   ]
  },
  {
   "cell_type": "code",
   "execution_count": 197,
   "metadata": {
    "collapsed": true
   },
   "outputs": [],
   "source": [
    "Lpred, Rpred = model.predict(Y)"
   ]
  },
  {
   "cell_type": "code",
   "execution_count": 160,
   "metadata": {},
   "outputs": [
    {
     "name": "stdout",
     "output_type": "stream",
     "text": [
      "(3320, 140, 1)\n"
     ]
    }
   ],
   "source": [
    "print(np.shape(Lpred))"
   ]
  },
  {
   "cell_type": "code",
   "execution_count": 162,
   "metadata": {},
   "outputs": [
    {
     "name": "stdout",
     "output_type": "stream",
     "text": [
      "[ 1.93247151  0.99550194  0.          3.08669186  0.          0.          0.\n",
      "  0.          0.          0.          0.          0.          0.          0.\n",
      "  0.          0.          0.          0.          0.          0.          0.\n",
      "  0.          0.          0.          0.          0.          0.          0.\n",
      "  0.          0.          0.          0.          0.          0.          0.\n",
      "  0.          0.          0.          0.          0.          0.          0.\n",
      "  0.          0.          0.          0.          0.          0.          0.\n",
      "  0.          0.          0.          0.          0.          0.          0.\n",
      "  0.          0.          0.          0.          0.          0.          0.\n",
      "  0.          0.          0.          0.          0.          0.          0.\n",
      "  0.          0.          0.          0.          0.          0.          0.\n",
      "  0.          0.          0.          0.          0.          0.          0.\n",
      "  0.          0.          0.          0.          0.          0.          0.\n",
      "  0.          0.          0.          0.          0.          0.          0.\n",
      "  0.          0.          0.          0.          0.          0.          0.\n",
      "  0.          0.          0.          0.          0.          0.          0.\n",
      "  0.          0.          0.          0.          0.          0.          0.\n",
      "  0.          0.          0.          0.          0.          0.          0.\n",
      "  0.          0.          0.          0.          0.          0.          0.\n",
      "  0.          0.          0.          0.          0.          0.          0.        ]\n"
     ]
    }
   ],
   "source": [
    "print(Lpred[1000,:,0])"
   ]
  },
  {
   "cell_type": "code",
   "execution_count": 201,
   "metadata": {
    "collapsed": true
   },
   "outputs": [],
   "source": [
    "def print_word(word):\n",
    "    if word == \"(\":\n",
    "        print('\"(\"', end=' ')\n",
    "    elif word == \")\":\n",
    "        print('\")\"', end=' ')\n",
    "    else:\n",
    "        print(word, end=' ')    \n",
    "    \n",
    "\n",
    "def print_prediction(ws, left, right):\n",
    "    li = left.astype(int)\n",
    "    ri = right.astype(int)\n",
    "    for i in range(len(ws)):\n",
    "        open = li[i]\n",
    "        print(\"(\"*open, end=' ')\n",
    "        print_word(ws[i])\n",
    "        close = ri[i]\n",
    "        print(\")\"*close, end=' ')"
   ]
  },
  {
   "cell_type": "code",
   "execution_count": 172,
   "metadata": {
    "collapsed": true
   },
   "outputs": [],
   "source": [
    "def parse_predict(sentno):\n",
    "    print_prediction(words[sentno], Lpred[sentno,:,0], Rpred[sentno,:,0])\n",
    "    print(\"\")\n",
    "    print_prediction(words[sentno], Left[sentno,:,0], Right[sentno,:,0])"
   ]
  },
  {
   "cell_type": "code",
   "execution_count": 203,
   "metadata": {},
   "outputs": [
    {
     "name": "stdout",
     "output_type": "stream",
     "text": [
      "( S'   il   confirme  ( son   objectif  ( de  ( freiner   la   progression   du   chômage ))))  en   fin   d'   année ))))))))) (( ,   il ) ( sait   aussi )  qu'  (( en  ( trois   mois ) ( 100.000  ( demandeurs   d'   emploi   supplémentaires )))  ont   été   recensés )))))))  .  \n",
      "(( S'  ( il  ( confirme  ( son  ( objectif  ( de  (( freiner  ( la  ( progression  ( du   chômage )))) ( en  ( fin  ( d'   année )))))))))) (( ,   il ) (( sait   aussi ) ( qu'  (( en  ( trois   mois )) (( 100.000  (( demandeurs  ( d'   emploi ))  supplémentaires )) ( ont  ( été   recensés ))))))))  .  "
     ]
    }
   ],
   "source": [
    "parse_predict(2002)"
   ]
  },
  {
   "cell_type": "code",
   "execution_count": 168,
   "metadata": {},
   "outputs": [
    {
     "name": "stdout",
     "output_type": "stream",
     "text": [
      "(( Une  ( entreprise  ( de  ( conditionnement   , ))) (( France-Maîtrise   ,   serait  ( d'  (( accord   pour  ( démarrer   une )  entreprise  ( d'  ( insertion  ( sur   la )))))))  commune   .  "
     ]
    }
   ],
   "source": [
    "print_prediction(words[1003], Lpred[1003,:,0], Rpred[1003,:,0])"
   ]
  },
  {
   "cell_type": "code",
   "execution_count": 169,
   "metadata": {},
   "outputs": [
    {
     "name": "stdout",
     "output_type": "stream",
     "text": [
      "((( Une  ( entreprise  ( de   conditionnement ))) ( ,   France-Maîtrise )) ((( ,   serait ) ( d'   accord )) ( pour  (( démarrer  ( une  ( entreprise  ( d'   insertion )))) ( sur  ( la   commune ))))))  .  "
     ]
    }
   ],
   "source": [
    "print_prediction(words[1003], Left[1003,:,0], Right[1003,:,0])"
   ]
  },
  {
   "cell_type": "code",
   "execution_count": 148,
   "metadata": {},
   "outputs": [
    {
     "name": "stdout",
     "output_type": "stream",
     "text": [
      "['Son', 'rôle', ':', 'créer', 'une', 'synergie', 'entre', 'organismes', 'et', 'associations', '.']\n"
     ]
    }
   ],
   "source": [
    "print(words[1000])"
   ]
  },
  {
   "cell_type": "code",
   "execution_count": 131,
   "metadata": {},
   "outputs": [
    {
     "name": "stdout",
     "output_type": "stream",
     "text": [
      "[[ 3.51808262]\n",
      " [ 0.        ]\n",
      " [ 1.06027424]\n",
      " [ 0.        ]\n",
      " [ 2.71995115]\n",
      " [ 0.        ]\n",
      " [ 2.04945779]\n",
      " [ 0.        ]\n",
      " [ 1.07729733]\n",
      " [ 1.14353406]\n",
      " [ 0.44215032]\n",
      " [ 1.10520411]\n",
      " [ 1.05459976]\n",
      " [ 0.        ]\n",
      " [ 2.13619494]\n",
      " [ 0.        ]\n",
      " [ 1.00193095]\n",
      " [ 0.99981958]\n",
      " [ 1.06076026]\n",
      " [ 1.04573667]\n",
      " [ 1.08062315]\n",
      " [ 0.        ]\n",
      " [ 0.        ]\n",
      " [ 0.        ]\n",
      " [ 0.        ]\n",
      " [ 0.        ]\n",
      " [ 0.        ]\n",
      " [ 0.        ]\n",
      " [ 0.        ]\n",
      " [ 0.        ]\n",
      " [ 0.        ]\n",
      " [ 0.        ]\n",
      " [ 0.        ]\n",
      " [ 0.        ]\n",
      " [ 0.        ]\n",
      " [ 0.        ]\n",
      " [ 0.        ]\n",
      " [ 0.        ]\n",
      " [ 0.        ]\n",
      " [ 0.        ]\n",
      " [ 0.        ]\n",
      " [ 0.        ]\n",
      " [ 0.        ]\n",
      " [ 0.        ]\n",
      " [ 0.        ]\n",
      " [ 0.        ]\n",
      " [ 0.        ]\n",
      " [ 0.        ]\n",
      " [ 0.        ]\n",
      " [ 0.        ]\n",
      " [ 0.        ]\n",
      " [ 0.        ]\n",
      " [ 0.        ]\n",
      " [ 0.        ]\n",
      " [ 0.        ]\n",
      " [ 0.        ]\n",
      " [ 0.        ]\n",
      " [ 0.        ]\n",
      " [ 0.        ]\n",
      " [ 0.        ]\n",
      " [ 0.        ]\n",
      " [ 0.        ]\n",
      " [ 0.        ]\n",
      " [ 0.        ]\n",
      " [ 0.        ]\n",
      " [ 0.        ]\n",
      " [ 0.        ]\n",
      " [ 0.        ]\n",
      " [ 0.        ]\n",
      " [ 0.        ]\n",
      " [ 0.        ]\n",
      " [ 0.        ]\n",
      " [ 0.        ]\n",
      " [ 0.        ]\n",
      " [ 0.        ]\n",
      " [ 0.        ]\n",
      " [ 0.        ]\n",
      " [ 0.        ]\n",
      " [ 0.        ]\n",
      " [ 0.        ]\n",
      " [ 0.        ]\n",
      " [ 0.        ]\n",
      " [ 0.        ]\n",
      " [ 0.        ]\n",
      " [ 0.        ]\n",
      " [ 0.        ]\n",
      " [ 0.        ]\n",
      " [ 0.        ]\n",
      " [ 0.        ]\n",
      " [ 0.        ]\n",
      " [ 0.        ]\n",
      " [ 0.        ]\n",
      " [ 0.        ]\n",
      " [ 0.        ]\n",
      " [ 0.        ]\n",
      " [ 0.        ]\n",
      " [ 0.        ]\n",
      " [ 0.        ]\n",
      " [ 0.        ]\n",
      " [ 0.        ]\n",
      " [ 0.        ]\n",
      " [ 0.        ]\n",
      " [ 0.        ]\n",
      " [ 0.        ]\n",
      " [ 0.        ]\n",
      " [ 0.        ]\n",
      " [ 0.        ]\n",
      " [ 0.        ]\n",
      " [ 0.        ]\n",
      " [ 0.        ]\n",
      " [ 0.        ]\n",
      " [ 0.        ]\n",
      " [ 0.        ]\n",
      " [ 0.        ]\n",
      " [ 0.        ]\n",
      " [ 0.        ]\n",
      " [ 0.        ]\n",
      " [ 0.        ]\n",
      " [ 0.        ]\n",
      " [ 0.        ]\n",
      " [ 0.        ]\n",
      " [ 0.        ]\n",
      " [ 0.        ]\n",
      " [ 0.        ]\n",
      " [ 0.        ]\n",
      " [ 0.        ]\n",
      " [ 0.        ]\n",
      " [ 0.        ]\n",
      " [ 0.        ]\n",
      " [ 0.        ]\n",
      " [ 0.        ]\n",
      " [ 0.        ]\n",
      " [ 0.        ]\n",
      " [ 0.        ]\n",
      " [ 0.        ]\n",
      " [ 0.        ]\n",
      " [ 0.        ]\n",
      " [ 0.        ]\n",
      " [ 0.        ]\n",
      " [ 0.        ]]\n"
     ]
    }
   ],
   "source": [
    "print(Lpred[1000])"
   ]
  },
  {
   "cell_type": "code",
   "execution_count": 132,
   "metadata": {},
   "outputs": [
    {
     "name": "stdout",
     "output_type": "stream",
     "text": [
      "[[ 0.        ]\n",
      " [ 1.01456225]\n",
      " [ 0.        ]\n",
      " [ 2.68298173]\n",
      " [ 0.        ]\n",
      " [ 0.93558681]\n",
      " [ 0.        ]\n",
      " [ 0.        ]\n",
      " [ 0.        ]\n",
      " [ 0.        ]\n",
      " [ 1.7421037 ]\n",
      " [ 0.        ]\n",
      " [ 0.        ]\n",
      " [ 6.3043251 ]\n",
      " [ 0.        ]\n",
      " [ 1.07220888]\n",
      " [ 0.        ]\n",
      " [ 0.        ]\n",
      " [ 0.        ]\n",
      " [ 0.        ]\n",
      " [ 0.        ]\n",
      " [ 9.12233067]\n",
      " [ 0.        ]\n",
      " [ 0.        ]\n",
      " [ 0.        ]\n",
      " [ 0.        ]\n",
      " [ 0.        ]\n",
      " [ 0.        ]\n",
      " [ 0.        ]\n",
      " [ 0.        ]\n",
      " [ 0.        ]\n",
      " [ 0.        ]\n",
      " [ 0.        ]\n",
      " [ 0.        ]\n",
      " [ 0.        ]\n",
      " [ 0.        ]\n",
      " [ 0.        ]\n",
      " [ 0.        ]\n",
      " [ 0.        ]\n",
      " [ 0.        ]\n",
      " [ 0.        ]\n",
      " [ 0.        ]\n",
      " [ 0.        ]\n",
      " [ 0.        ]\n",
      " [ 0.        ]\n",
      " [ 0.        ]\n",
      " [ 0.        ]\n",
      " [ 0.        ]\n",
      " [ 0.        ]\n",
      " [ 0.        ]\n",
      " [ 0.        ]\n",
      " [ 0.        ]\n",
      " [ 0.        ]\n",
      " [ 0.        ]\n",
      " [ 0.        ]\n",
      " [ 0.        ]\n",
      " [ 0.        ]\n",
      " [ 0.        ]\n",
      " [ 0.        ]\n",
      " [ 0.        ]\n",
      " [ 0.        ]\n",
      " [ 0.        ]\n",
      " [ 0.        ]\n",
      " [ 0.        ]\n",
      " [ 0.        ]\n",
      " [ 0.        ]\n",
      " [ 0.        ]\n",
      " [ 0.        ]\n",
      " [ 0.        ]\n",
      " [ 0.        ]\n",
      " [ 0.        ]\n",
      " [ 0.        ]\n",
      " [ 0.        ]\n",
      " [ 0.        ]\n",
      " [ 0.        ]\n",
      " [ 0.        ]\n",
      " [ 0.        ]\n",
      " [ 0.        ]\n",
      " [ 0.        ]\n",
      " [ 0.        ]\n",
      " [ 0.        ]\n",
      " [ 0.        ]\n",
      " [ 0.        ]\n",
      " [ 0.        ]\n",
      " [ 0.        ]\n",
      " [ 0.        ]\n",
      " [ 0.        ]\n",
      " [ 0.        ]\n",
      " [ 0.        ]\n",
      " [ 0.        ]\n",
      " [ 0.        ]\n",
      " [ 0.        ]\n",
      " [ 0.        ]\n",
      " [ 0.        ]\n",
      " [ 0.        ]\n",
      " [ 0.        ]\n",
      " [ 0.        ]\n",
      " [ 0.        ]\n",
      " [ 0.        ]\n",
      " [ 0.        ]\n",
      " [ 0.        ]\n",
      " [ 0.        ]\n",
      " [ 0.        ]\n",
      " [ 0.        ]\n",
      " [ 0.        ]\n",
      " [ 0.        ]\n",
      " [ 0.        ]\n",
      " [ 0.        ]\n",
      " [ 0.        ]\n",
      " [ 0.        ]\n",
      " [ 0.        ]\n",
      " [ 0.        ]\n",
      " [ 0.        ]\n",
      " [ 0.        ]\n",
      " [ 0.        ]\n",
      " [ 0.        ]\n",
      " [ 0.        ]\n",
      " [ 0.        ]\n",
      " [ 0.        ]\n",
      " [ 0.        ]\n",
      " [ 0.        ]\n",
      " [ 0.        ]\n",
      " [ 0.        ]\n",
      " [ 0.        ]\n",
      " [ 0.        ]\n",
      " [ 0.        ]\n",
      " [ 0.        ]\n",
      " [ 0.        ]\n",
      " [ 0.        ]\n",
      " [ 0.        ]\n",
      " [ 0.        ]\n",
      " [ 0.        ]\n",
      " [ 0.        ]\n",
      " [ 0.        ]\n",
      " [ 0.        ]\n",
      " [ 0.        ]\n",
      " [ 0.        ]\n",
      " [ 0.        ]\n",
      " [ 0.        ]\n",
      " [ 0.        ]]\n"
     ]
    }
   ],
   "source": [
    "print(Rpred[0])"
   ]
  },
  {
   "cell_type": "code",
   "execution_count": null,
   "metadata": {
    "collapsed": true
   },
   "outputs": [],
   "source": []
  }
 ],
 "metadata": {
  "coursera": {
   "course_slug": "nlp-sequence-models",
   "graded_item_id": "RNnEs",
   "launcher_item_id": "acNYU"
  },
  "kernelspec": {
   "display_name": "Python 3",
   "language": "python",
   "name": "python3"
  },
  "language_info": {
   "codemirror_mode": {
    "name": "ipython",
    "version": 3
   },
   "file_extension": ".py",
   "mimetype": "text/x-python",
   "name": "python",
   "nbconvert_exporter": "python",
   "pygments_lexer": "ipython3",
   "version": "3.6.3"
  }
 },
 "nbformat": 4,
 "nbformat_minor": 2
}
