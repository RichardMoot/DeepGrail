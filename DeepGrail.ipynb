{
 "cells": [
  {
   "cell_type": "markdown",
   "metadata": {},
   "source": [
    "# LSTM part-of-speech tagging for the French Treebank: \n",
    "\n",
    "This notebook trains a part-of-speech tagger for the French Treebank using a vanilla bi-direction LSTM network.\n",
    "\n",
    "Run the following cell to load the Keras packages."
   ]
  },
  {
   "cell_type": "code",
   "execution_count": 1,
   "metadata": {},
   "outputs": [
    {
     "name": "stderr",
     "output_type": "stream",
     "text": [
      "Using TensorFlow backend.\n"
     ]
    }
   ],
   "source": [
    "import numpy as np\n",
    "import matplotlib.pyplot as plt\n",
    "import pandas as pd\n",
    "import re\n",
    "\n",
    "from keras.models import Model\n",
    "from keras.layers import Bidirectional, Dense, Input, Dropout, LSTM, Activation, TimeDistributed, BatchNormalization\n",
    "from keras.layers.embeddings import Embedding\n",
    "from keras.preprocessing import sequence\n",
    "from keras.utils import to_categorical\n",
    "from keras.initializers import glorot_uniform\n",
    "from sklearn.model_selection import train_test_split\n",
    "\n",
    "%matplotlib inline\n",
    "\n",
    "np.random.seed(1)"
   ]
  },
  {
   "cell_type": "code",
   "execution_count": 159,
   "metadata": {
    "collapsed": true
   },
   "outputs": [],
   "source": [
    "# normalizes word according to the conventions of fastText; only transforms the word to lower case\n",
    "\n",
    "def normalize_word(orig_word):\n",
    "    word = orig_word.lower()\n",
    "    if (word is \"[\"):\n",
    "        word = \"(\"\n",
    "    if (word is \"]\"):\n",
    "        word = \")\"\n",
    "    \n",
    "    return word"
   ]
  },
  {
   "cell_type": "code",
   "execution_count": 3,
   "metadata": {
    "collapsed": true
   },
   "outputs": [],
   "source": [
    "def read_maxentdata(file):\n",
    "    with open(file, 'r') as f:\n",
    "        vocabulary = set()\n",
    "        vnorm = set()\n",
    "        partsofspeech1 = set()\n",
    "        partsofspeech2 = set()\n",
    "        superset = set()\n",
    "        sentno = 0\n",
    "        maxlen = 0\n",
    "        words = []\n",
    "        postags1 = []\n",
    "        postags2 = []\n",
    "        supertags = []\n",
    "        allwords = []\n",
    "        allpos1 = []\n",
    "        allpos2 = []\n",
    "        allsuper = []\n",
    "        for line in f:\n",
    "            line = line.strip().split()\n",
    "            length = len(line)\n",
    "            if (length > maxlen):\n",
    "                maxlen = length\n",
    "            for l in range(length):\n",
    "                item = line[l].split('|')\n",
    "                orig_word = item[0]\n",
    "                word = normalize_word(orig_word)\n",
    "                postag = item[1]\n",
    "                supertag = item[2]\n",
    "                poslist = postag.split('-')\n",
    "                pos1 = poslist[0]\n",
    "                pos2 = poslist[1]\n",
    "                vocabulary.add(orig_word)\n",
    "                vnorm.add(word)\n",
    "                partsofspeech1.add(pos1)\n",
    "                partsofspeech2.add(pos2)\n",
    "                superset.add(supertag)\n",
    "                words.append(orig_word)\n",
    "                postags1.append(pos1)\n",
    "                postags2.append(pos2)\n",
    "                supertags.append(supertag)\n",
    "            allwords.append(words)\n",
    "            allpos1.append(postags1)\n",
    "            allpos2.append(postags2)\n",
    "            allsuper.append(supertags)\n",
    "            words = []\n",
    "            postags1 = []\n",
    "            postags2 = []\n",
    "            supertags = []\n",
    "            \n",
    "        X = np.asarray(allwords)\n",
    "        Y1 = np.asarray(allpos1)\n",
    "        Y2 = np.asarray(allpos2)\n",
    "        Z = np.asarray(allsuper)\n",
    "        return X, Y1, Y2, Z, vocabulary, vnorm, partsofspeech1, partsofspeech2, superset, maxlen"
   ]
  },
  {
   "cell_type": "code",
   "execution_count": null,
   "metadata": {
    "collapsed": true
   },
   "outputs": [],
   "source": [
    "# very small initial part of corpus (only file aa1)\n",
    "# X, Y1, Y2, Z, vocabulary, vnorm, partsofspeech1, partsofspeech2, superset, maxLen = read_maxentdata('aa1.txt')"
   ]
  },
  {
   "cell_type": "code",
   "execution_count": 97,
   "metadata": {
    "collapsed": true
   },
   "outputs": [],
   "source": [
    "# small initial part of corpus (files aa1, aa2, ab2 and ae1)\n",
    "# number of sentences, train: 1195, test: 398, dev: 399  \n",
    "X, Y1, Y2, Z, vocabulary, vnorm, partsofspeech1, partsofspeech2, superset, maxLen = read_maxentdata('aa1_ae1.txt')"
   ]
  },
  {
   "cell_type": "code",
   "execution_count": 96,
   "metadata": {
    "collapsed": true
   },
   "outputs": [],
   "source": [
    "# entire corpus\n",
    "# X, Y1, Y2, Z, vocabulary, vnorm, partsofspeech1, partsofspeech2, superset, maxLen = read_maxentdata('m2.txt')"
   ]
  },
  {
   "cell_type": "code",
   "execution_count": 98,
   "metadata": {},
   "outputs": [
    {
     "name": "stdout",
     "output_type": "stream",
     "text": [
      "\n",
      "Longest sentence   :  119\n",
      "Number of POS tags :  31\n",
      "Number of supertags:  518\n"
     ]
    }
   ],
   "source": [
    "numClasses = len(partsofspeech2)+1\n",
    "numSuperClasses = len(superset)+1\n",
    "\n",
    "print()\n",
    "print(\"Longest sentence   : \", maxLen)\n",
    "print(\"Number of POS tags : \", numClasses)\n",
    "print(\"Number of supertags: \", numSuperClasses)\n"
   ]
  },
  {
   "cell_type": "markdown",
   "metadata": {},
   "source": [
    "## 1. Split the input into train/dev/test\n",
    "\n",
    "Split the full training set into 60% train, 20% dev and 20% test."
   ]
  },
  {
   "cell_type": "code",
   "execution_count": 99,
   "metadata": {},
   "outputs": [
    {
     "name": "stdout",
     "output_type": "stream",
     "text": [
      "Train:  (1195,)\n",
      "Test:   (398,)\n",
      "Dev:    (399,)\n"
     ]
    }
   ],
   "source": [
    "# split the training data into the standard 60% train, 20% dev, 20% test \n",
    "X_train, X_testdev, Y_train, Y_testdev = train_test_split(X, Y2, test_size=0.4)\n",
    "X_test, X_dev, Y_test, Y_dev = train_test_split(X_testdev, Y_testdev, test_size=0.5)\n",
    "print(\"Train: \", X_train.shape)\n",
    "print(\"Test:  \", X_test.shape)\n",
    "print(\"Dev:   \", X_dev.shape)\n"
   ]
  },
  {
   "cell_type": "markdown",
   "metadata": {},
   "source": [
    "## 2. Create auxiliary mappings\n",
    "\n",
    "Create mappings from supertags and the two sets of part-of-speech tags to integers and back."
   ]
  },
  {
   "cell_type": "code",
   "execution_count": 100,
   "metadata": {
    "collapsed": true
   },
   "outputs": [],
   "source": [
    "# create a bi-directional mapping (using two dictionaries) translating elements of a set to and from integers\n",
    "\n",
    "def indexify (set):\n",
    "    i = 1\n",
    "    item_to_index = {}\n",
    "    index_to_item = {}\n",
    "\n",
    "    for item in set:\n",
    "        item_to_index[item] = i\n",
    "        index_to_item[i] = item\n",
    "        i = i + 1\n",
    "\n",
    "    return item_to_index, index_to_item    "
   ]
  },
  {
   "cell_type": "code",
   "execution_count": 101,
   "metadata": {},
   "outputs": [
    {
     "name": "stdout",
     "output_type": "stream",
     "text": [
      "{'VER:ppre': 1, 'VER:simp': 2, 'NUM': 3, 'SYM': 4, 'ADV': 5, 'ABR': 6, 'PRO:REL': 7, 'INT': 8, 'NOM': 9, 'VER:pper': 10, 'VER:impf': 11, 'PRP:det': 12, 'ADJ': 13, 'PUN': 14, 'VER:futu': 15, 'PUN:cit': 16, 'PRO:PER': 17, 'NAM': 18, 'VER:subp': 19, 'VER:pres': 20, 'DET:POS': 21, 'KON': 22, 'PRP': 23, 'VER:infi': 24, 'VER:cond': 25, 'VER:impe': 26, 'PRO': 27, 'DET:ART': 28, 'PRO:IND': 29, 'PRO:DEM': 30}\n"
     ]
    }
   ],
   "source": [
    "# create mapping for the two POS tagset and for the supertags\n",
    "\n",
    "super_to_index, index_to_super = indexify(superset)\n",
    "pos1_to_index, index_to_pos1 = indexify(partsofspeech1)\n",
    "pos2_to_index, index_to_pos2 = indexify(partsofspeech2)\n",
    "print(pos2_to_index)"
   ]
  },
  {
   "cell_type": "markdown",
   "metadata": {},
   "source": [
    "## 3. Obtain the word vector information\n",
    "\n",
    "We are using a shell call to the compiled fastText code to produce a file _vectors.txt_ with the relevant vectors. "
   ]
  },
  {
   "cell_type": "markdown",
   "metadata": {},
   "source": [
    "### 3.1. Special treatment for numbers\n",
    "\n",
    "fastText does not include native numbers; internally, these are translated into sequences of the words \"zéro\", \"un\", etc. \n",
    "\n",
    "We add new entries averaging over the number symbols for numbers appearing in the French Treebank."
   ]
  },
  {
   "cell_type": "code",
   "execution_count": 102,
   "metadata": {
    "collapsed": true
   },
   "outputs": [],
   "source": [
    "with open(\"num_vec.txt\", 'r') as f:\n",
    "    number = {}\n",
    "    for line in f:\n",
    "        line = line.strip().split()\n",
    "        numc = line[0]\n",
    "        emb = np.array(line[1:], dtype=np.float64)\n",
    "        number[numc] = emb"
   ]
  },
  {
   "cell_type": "code",
   "execution_count": 103,
   "metadata": {},
   "outputs": [
    {
     "name": "stdout",
     "output_type": "stream",
     "text": [
      "0\n",
      "1\n",
      "2\n",
      "3\n",
      "4\n",
      "5\n",
      "6\n",
      "7\n",
      "8\n",
      "9\n",
      ",\n",
      ".\n",
      "-\n",
      "/\n"
     ]
    }
   ],
   "source": [
    "for i in number.keys():\n",
    "    print(i)"
   ]
  },
  {
   "cell_type": "code",
   "execution_count": 104,
   "metadata": {
    "collapsed": true
   },
   "outputs": [],
   "source": [
    "def is_numeral (string):\n",
    "    return re.match(r'\\A\\-?\\d[\\d\\.\\,-/]*\\Z', string) is not None"
   ]
  },
  {
   "cell_type": "code",
   "execution_count": 105,
   "metadata": {},
   "outputs": [
    {
     "name": "stdout",
     "output_type": "stream",
     "text": [
      "True\n",
      "False\n",
      "True\n",
      "False\n"
     ]
    }
   ],
   "source": [
    "print(is_numeral(\"-1.234,56\"))\n",
    "print(is_numeral(\"1 2 3 \"))\n",
    "print(is_numeral(\"3/4\"))\n",
    "print(is_numeral(\"+1\"))"
   ]
  },
  {
   "cell_type": "code",
   "execution_count": 106,
   "metadata": {
    "collapsed": true
   },
   "outputs": [],
   "source": [
    "def num_to_vec (ns):\n",
    "    vecsize = np.size(number[\"0\"])\n",
    "    avg = np.zeros(vecsize)\n",
    "\n",
    "    cl = list(ns)\n",
    "    i = 0\n",
    "    for char in cl:\n",
    "        avg += number[char]\n",
    "        i += 1\n",
    "    avg = avg/i\n",
    "    return avg"
   ]
  },
  {
   "cell_type": "code",
   "execution_count": 107,
   "metadata": {},
   "outputs": [
    {
     "data": {
      "text/plain": [
       "array([ -1.63150000e-01,   1.27537333e-01,  -1.14730100e-01,\n",
       "         2.43636667e-01,   1.12086667e-01,  -1.32714333e-01,\n",
       "         2.47716667e-02,   6.04950000e-02,  -1.29726667e-02,\n",
       "         1.87775000e-01,  -1.68472333e-01,   8.62280000e-02,\n",
       "        -1.88148667e-01,   1.57618333e-01,  -2.10669667e-01,\n",
       "         5.37993333e-02,  -4.35270000e-02,   5.43833333e-02,\n",
       "        -7.87723333e-02,  -1.28075333e-01,   1.40230333e-01,\n",
       "        -1.07276667e-01,  -3.42530000e-02,  -9.27800000e-03,\n",
       "        -2.79923333e-02,  -9.28250000e-02,   2.37066667e-03,\n",
       "        -1.11023333e-01,  -2.42835667e-01,  -9.00413333e-02,\n",
       "         5.75456667e-02,   1.85236667e-01,   2.68430000e-02,\n",
       "         1.75517667e-01,   1.87653000e-01,   1.98363333e-02,\n",
       "         1.10892267e-01,  -6.92060000e-02,   2.81330000e-02,\n",
       "         1.92766333e-01,   5.47740000e-02,   2.61433333e-03,\n",
       "         1.49333333e-02,  -8.27696667e-02,   3.63566667e-02,\n",
       "        -1.41419333e-01,  -4.82583333e-02,   7.40089600e-02,\n",
       "        -9.76400000e-02,   2.08363333e-01,   1.20894000e-01,\n",
       "         5.31470000e-02,   4.71523333e-02,  -2.03042667e-02,\n",
       "        -6.93630000e-02,  -1.50183333e-01,  -1.16807000e-01,\n",
       "         1.50213333e-01,   1.83543667e-01,   1.03580000e-02,\n",
       "         1.03256000e-01,   1.97583333e-01,   1.99590000e-01,\n",
       "         2.70710000e-02,  -1.86818000e-01,   2.28693333e-02,\n",
       "         1.32586667e-01,   1.18606429e-01,   2.88313333e-02,\n",
       "        -1.82991333e-01,   1.25460000e-02,   1.35284667e-01,\n",
       "        -1.02487067e-01,  -3.81526667e-02,  -1.79110000e-01,\n",
       "         4.60986667e-02,   1.01247667e-01,   9.30420000e-02,\n",
       "        -1.66510000e-01,  -6.92266667e-02,  -3.86993333e-02,\n",
       "         9.35606667e-03,  -7.30086667e-02,  -3.96700000e-03,\n",
       "         3.02933333e-03,   1.88319667e-01,  -2.78060000e-01,\n",
       "         5.76616667e-02,   4.25180000e-02,  -2.14814000e-01,\n",
       "        -1.13664000e-01,  -6.59994333e-02,  -1.08268000e-01,\n",
       "         6.15033333e-02,  -2.83956667e-03,   9.47166667e-02,\n",
       "        -9.97743333e-02,   5.75116667e-02,  -5.30076667e-02,\n",
       "        -3.93886667e-01,   6.77700000e-02,   3.54700000e-02,\n",
       "        -8.89393333e-02,   1.73676667e-01,  -8.56900000e-02,\n",
       "         4.94500000e-02,   1.18897667e-01,  -3.60230000e-02,\n",
       "         2.47874667e-01,   1.93166667e-01,   1.67366667e-02,\n",
       "        -3.31963333e-02,  -2.93433667e-02,  -1.33303000e-01,\n",
       "         1.08495000e-01,   6.28233333e-03,   3.81753333e-02,\n",
       "        -4.86600000e-02,  -2.21636333e-02,  -3.52040000e-02,\n",
       "         1.39993500e-01,  -1.00303667e-01,  -1.86347667e-01,\n",
       "         1.34468000e-01,  -1.47274000e-01,   2.37006667e-02,\n",
       "         8.14933333e-02,   1.24760667e-01,  -6.85213767e-02,\n",
       "         2.98343333e-01,  -4.00700000e-02,  -9.52100000e-02,\n",
       "        -6.12340000e-02,   2.71383333e-02,   1.82816667e-01,\n",
       "        -1.16385000e-01,  -3.74786667e-02,   7.12123333e-02,\n",
       "         1.53460333e-01,   1.09736667e-02,   9.34490000e-02,\n",
       "         2.54030000e-02,  -6.11290000e-02,  -1.73813667e-01,\n",
       "         1.46333333e-04,   9.32366667e-02,  -1.84853333e-01,\n",
       "         1.06573100e-01,  -1.52303333e-01,   1.48459333e-01,\n",
       "         2.29894667e-01,  -7.82726667e-02,  -9.35113333e-02,\n",
       "        -9.75770000e-02,   6.18976667e-02,  -4.66706667e-02,\n",
       "        -1.10517000e-01,   1.04431333e-01,  -1.48022333e-02,\n",
       "         3.73180000e-01,  -3.13046667e-01,  -1.89117000e-01,\n",
       "         1.52727000e-01,   1.07918333e-01,  -2.44873333e-01,\n",
       "        -7.90340000e-02,   9.58423333e-02,   5.90100000e-02,\n",
       "         6.53797000e-02,  -3.19783667e-02,  -1.40039333e-01,\n",
       "        -1.69745667e-01,   1.31571333e-01,   1.20100000e-02,\n",
       "         9.75166667e-02,  -2.59528333e-01,   9.11803000e-02,\n",
       "         7.74778000e-02,   1.08590000e-01,  -2.23750000e-01,\n",
       "        -1.12135333e-01,   2.88853333e-02,  -2.50566667e-02,\n",
       "        -2.21057333e-01,   1.26176000e-01,   2.95103333e-01,\n",
       "         3.18120000e-02,   1.08264667e-01,   2.03233333e-02,\n",
       "         2.46688000e-02,  -1.55840667e-01,   1.52125000e-01,\n",
       "         9.08666667e-03,   2.00606333e-01,   1.39917000e-01,\n",
       "        -3.74416333e-02,   2.45090000e-01,  -8.07835333e-03,\n",
       "        -1.27380000e-02,  -8.93566667e-03,   1.49913333e-01,\n",
       "         5.21183333e-02,  -5.45670000e-02,   1.41582667e-01,\n",
       "        -7.90730000e-02,  -2.60203333e-01,  -1.67546667e-02,\n",
       "         1.23166667e-02,  -3.69100000e-03,  -6.15550000e-02,\n",
       "         2.35984667e-01,  -1.19087667e-01,   1.99363333e-01,\n",
       "        -1.54036667e-02,  -2.20154667e-01,   3.23000000e-01,\n",
       "        -5.77806667e-02,  -1.00001667e-01,   4.80176667e-02,\n",
       "        -1.48753333e-02,   6.82576667e-02,   5.86566667e-02,\n",
       "         1.74930000e-02,   7.93066667e-02,   1.44756667e-01,\n",
       "         8.13714667e-02,   9.64120000e-02,   7.49666667e-03,\n",
       "         7.98216667e-02,   1.34965000e-01,   1.52421000e-01,\n",
       "         1.12760333e-01,   1.46888000e-01,   5.85446667e-02,\n",
       "        -5.58763333e-02,  -1.28978700e-01,   1.66160000e-01,\n",
       "        -2.20213000e-01,  -4.83080000e-02,  -6.97561000e-02,\n",
       "        -3.14300000e-02,  -1.08093600e-01,   1.40205000e-01,\n",
       "         2.62090000e-01,  -1.81959333e-01,  -2.61626667e-01,\n",
       "        -1.61201667e-01,  -6.45093333e-02,   8.86250000e-02,\n",
       "         1.60986000e-01,   2.49873333e-01,  -4.33466433e-02,\n",
       "         1.38963333e-02,  -5.65846667e-02,   1.46643333e-01,\n",
       "        -1.22933667e-01,  -1.16070700e-01,  -2.47043333e-01,\n",
       "         2.31367667e-02,   5.39146667e-02,  -1.07179333e-01,\n",
       "        -2.71120000e-01,   1.94536333e-01,  -1.29612000e-01,\n",
       "        -7.69090000e-02,   4.87843333e-02,   5.09933333e-03,\n",
       "        -9.29123333e-02,  -8.23880000e-02,  -2.47796667e-01,\n",
       "        -3.03040000e-02,   2.41526667e-01,   2.90765667e-02,\n",
       "         9.46146667e-02,  -2.17056667e-01,  -2.10566667e-02,\n",
       "        -7.34290000e-02,  -2.22583333e-01,  -1.12906667e-01,\n",
       "         5.86086667e-02,   1.90907333e-01,   2.22867867e-01,\n",
       "        -1.80037667e-01,  -1.61056667e-02,  -6.30196667e-02,\n",
       "         5.62786667e-02,   3.31153667e-02,   1.81967000e-01,\n",
       "         8.14093333e-02,  -7.19768000e-02,  -1.26484033e-01,\n",
       "         6.29126100e-02,   1.84486667e-01,  -1.92326333e-01,\n",
       "         2.76836667e-02,   9.49513333e-02,   2.18196667e-02,\n",
       "         2.40023333e-01,  -1.91052333e-01,   1.90997667e-01])"
      ]
     },
     "execution_count": 107,
     "metadata": {},
     "output_type": "execute_result"
    }
   ],
   "source": [
    "num_to_vec(\"1/4\")"
   ]
  },
  {
   "cell_type": "markdown",
   "metadata": {
    "collapsed": true
   },
   "source": [
    "### 3.2. Feature vectors"
   ]
  },
  {
   "cell_type": "markdown",
   "metadata": {},
   "source": [
    "#### Suffixes"
   ]
  },
  {
   "cell_type": "code",
   "execution_count": 108,
   "metadata": {
    "collapsed": true
   },
   "outputs": [],
   "source": [
    "def read_suffixes(file):\n",
    "    i = 1\n",
    "    suffixes = {}\n",
    "\n",
    "    with open(file, 'r') as f:\n",
    "        for line in f:\n",
    "            line = line.strip()\n",
    "            suffixes[line] = i\n",
    "            i = i + 1\n",
    "\n",
    "    return suffixes       "
   ]
  },
  {
   "cell_type": "code",
   "execution_count": 109,
   "metadata": {
    "scrolled": true
   },
   "outputs": [
    {
     "name": "stdout",
     "output_type": "stream",
     "text": [
      "{'a': 1, 'able': 2, 'acé': 3, 'acée': 4, 'acées': 5, 'acés': 6, 'ade': 7, 'adique': 8, 'age': 9, 'ai': 10, 'aie': 11, 'aient': 12, 'ail': 13, 'aille': 14, 'ailler': 15, 'ain': 16, 'aine': 17, 'aire': 18, 'ais': 19, 'aise': 20, 'aises': 21, 'aison': 22, 'ait': 23, 'al': 24, 'âmes': 25, 'amment': 26, 'ance': 27, 'ane': 28, 'ant': 29, 'ante': 30, 'antes': 31, 'ants': 32, 'archie': 33, 'ard': 34, 'asse': 35, 'assent': 36, 'asses': 37, 'assiez': 38, 'assions': 39, 'at': 40, 'ât': 41, 'ate': 42, 'âtes': 43, 'ateur': 44, 'atif': 45, 'ation': 46, 'âtre': 47, 'atrice': 48, 'aud': 49, 'bourg': 50, 'céphale': 51, 'chorie': 52, 'culteur': 53, 'dingue': 54, 'drome': 55, 'e': 56, 'é': 57, 'eau': 58, 'eaux': 59, 'ectomie': 60, 'èdre': 61, 'édrique': 62, 'ée': 63, 'el': 64, 'elle': 65, 'ème': 66, 'émie': 67, 'ence': 68, 'ène': 69, 'ent': 70, 'er': 71, 'erai': 72, 'eraie': 73, 'eraient': 74, 'erais': 75, 'erait': 76, 'èrent': 77, 'eresse': 78, 'erez': 79, 'erie': 80, 'erons': 81, 'eront': 82, 'esque': 83, 'esse': 84, 'et': 85, 'eté': 86, 'ette': 87, 'eur': 88, 'euse': 89, 'eux': 90, 'ez': 91, 'fère': 92, 'fier': 93, 'gate': 94, 'gène': 95, 'génie': 96, 'génique': 97, 'gramme': 98, 'graphe': 99, 'graphie': 100, 'ible': 101, 'iche': 102, 'ie': 103, 'iel': 104, 'ième': 105, 'ien': 106, 'ienne': 107, 'ier': 108, 'ière': 109, 'iez': 110, 'if': 111, 'ificateur': 112, 'ification': 113, 'ifier': 114, 'in': 115, 'ine': 116, 'ing': 117, 'ions': 118, 'ique': 119, 'ir': 120, 'is': 121, 'iser': 122, 'isme': 123, 'ïsme': 124, 'isse': 125, 'issime': 126, 'iste': 127, 'it': 128, 'ît': 129, 'ite': 130, 'ité': 131, 'itude': 132, 'lingue': 133, 'lithe': 134, 'logie': 135, 'logique': 136, 'logue': 137, 'lyse': 138, 'man': 139, 'mancie': 140, 'mane': 141, 'manie': 142, 'ment': 143, 'mètre': 144, 'métrie': 145, 'morphe': 146, 'muche': 147, 'o': 148, 'oche': 149, 'oïde': 150, 'oient': 151, 'oïque': 152, 'oir': 153, 'oire': 154, 'ois': 155, 'oise': 156, 'oison': 157, 'ole': 158, 'ome': 159, 'on': 160, 'ons': 161, 'os': 162, 'ose': 163, 'osité': 164, 'ot': 165, 'ote': 166, 'oter': 167, 'otte': 168, 'ouse': 169, 'ouze': 170, 'oyer': 171, 'pathe': 172, 'pathie': 173, 'pause': 174, 'phage': 175, 'phile': 176, 'philie': 177, 'phobie': 178, 'phone': 179, 'phore': 180, 'plastie': 181, 'pole': 182, 'ptile': 183, 'quin': 184, 're': 185, 's': 186, 'scope': 187, 'sphère': 188, 'té': 189, 'teur': 190, 'thermique': 191, 'tion': 192, 'tomie': 193, 'trice': 194, 'trophe': 195, 'u': 196, 'unième': 197, 'ure': 198, 'ville': 199, 'vore': 200, 'woman': 201, 'x': 202, 'yne': 203}\n",
      "203\n"
     ]
    }
   ],
   "source": [
    "french_suffixes = read_suffixes('suffixes.txt')\n",
    "print(french_suffixes)\n",
    "print(len(french_suffixes))"
   ]
  },
  {
   "cell_type": "code",
   "execution_count": 110,
   "metadata": {
    "collapsed": true
   },
   "outputs": [],
   "source": [
    "def suffix_vector(word, suffixes=french_suffixes):\n",
    "    length = len(suffixes)+1\n",
    "    vector = np.zeros(length)\n",
    "    for suf,num in suffixes.items():\n",
    "        if word.endswith(suf):\n",
    "            vector[num] = 1.0\n",
    "        else:\n",
    "            vector[num] = 0.0\n",
    "    return vector        "
   ]
  },
  {
   "cell_type": "code",
   "execution_count": 111,
   "metadata": {},
   "outputs": [
    {
     "data": {
      "text/plain": [
       "array([ 0.,  0.,  0.,  0.,  0.,  0.,  0.,  0.,  0.,  0.,  0.,  0.,  1.,\n",
       "        0.,  0.,  0.,  0.,  0.,  0.,  0.,  0.,  0.,  0.,  0.,  0.,  0.,\n",
       "        0.,  0.,  0.,  0.,  0.,  0.,  0.,  0.,  0.,  0.,  0.,  0.,  0.,\n",
       "        0.,  0.,  0.,  0.,  0.,  0.,  0.,  0.,  0.,  0.,  0.,  0.,  0.,\n",
       "        0.,  0.,  0.,  0.,  0.,  0.,  0.,  0.,  0.,  0.,  0.,  0.,  0.,\n",
       "        0.,  0.,  0.,  0.,  0.,  1.,  0.,  0.,  0.,  1.,  0.,  0.,  0.,\n",
       "        0.,  0.,  0.,  0.,  0.,  0.,  0.,  0.,  0.,  0.,  0.,  0.,  0.,\n",
       "        0.,  0.,  0.,  0.,  0.,  0.,  0.,  0.,  0.,  0.,  0.,  0.,  0.,\n",
       "        0.,  0.,  0.,  0.,  0.,  0.,  0.,  0.,  0.,  0.,  0.,  0.,  0.,\n",
       "        0.,  0.,  0.,  0.,  0.,  0.,  0.,  0.,  0.,  0.,  0.,  0.,  0.,\n",
       "        0.,  0.,  0.,  0.,  0.,  0.,  0.,  0.,  0.,  0.,  0.,  0.,  0.,\n",
       "        0.,  0.,  0.,  0.,  0.,  0.,  0.,  0.,  0.,  0.,  0.,  0.,  0.,\n",
       "        0.,  0.,  0.,  0.,  0.,  0.,  0.,  0.,  0.,  0.,  0.,  0.,  0.,\n",
       "        0.,  0.,  0.,  0.,  0.,  0.,  0.,  0.,  0.,  0.,  0.,  0.,  0.,\n",
       "        0.,  0.,  0.,  0.,  0.,  0.,  0.,  0.,  0.,  0.,  0.,  0.,  0.,\n",
       "        0.,  0.,  0.,  0.,  0.,  0.,  0.,  0.,  0.])"
      ]
     },
     "execution_count": 111,
     "metadata": {},
     "output_type": "execute_result"
    }
   ],
   "source": [
    "suffix_vector(\"seraient\", french_suffixes)"
   ]
  },
  {
   "cell_type": "markdown",
   "metadata": {},
   "source": [
    "#### Manually designed features"
   ]
  },
  {
   "cell_type": "code",
   "execution_count": 160,
   "metadata": {
    "collapsed": true
   },
   "outputs": [],
   "source": [
    "def word_features(word, unknown=False):\n",
    "    list = []\n",
    "    # word is in all-caps\n",
    "    if word.isupper():\n",
    "        list.append(1.0)\n",
    "    else:\n",
    "        list.append(0.0)\n",
    "    # word starts with upper-case character    \n",
    "    if word[0].isupper():\n",
    "        list.append(1.0)\n",
    "    else:\n",
    "        list.append(0.0)\n",
    "    # word is composed of [0-9]    \n",
    "    if word.isnumeric():\n",
    "        list.append(1.0)\n",
    "    else:\n",
    "        list.append(0.0)\n",
    "    # word contains non-alphanumeric characters    \n",
    "    if word.isalnum():\n",
    "        list.append(0.0)\n",
    "    else:\n",
    "        list.append(1.0)\n",
    "    # word starts with a hyphen    \n",
    "    if word[0] == \"-\":\n",
    "         list.append(1.0)\n",
    "    else:\n",
    "        list.append(0.0)\n",
    "    # word is a number (according to is_numeral)    \n",
    "    if is_numeral(word):\n",
    "         list.append(1.0)\n",
    "    else:\n",
    "        list.append(0.0)\n",
    "    # hyphen in the middle of a word     \n",
    "    if \"-\" in word[1:]:\n",
    "        list.append(1.0)\n",
    "    else:\n",
    "        list.append(0.0)\n",
    "    # word is an angular bracket (fasttext normalizes these away)    \n",
    "    if (word is \"[\") or (word is \"]\"):\n",
    "         list.append(1.0)\n",
    "    else:\n",
    "        list.append(0.0)\n",
    "    # word is a quotation mark    \n",
    "    if (word is \"'\") or (word is '\"'):\n",
    "         list.append(1.0)\n",
    "    else:\n",
    "        list.append(0.0)\n",
    "    # word is unknown by the embedding    \n",
    "    if unknown:\n",
    "         list.append(1.0)\n",
    "    else:\n",
    "        list.append(0.0)\n",
    "    \n",
    "    ar = np.asarray(list)\n",
    "    return ar"
   ]
  },
  {
   "cell_type": "code",
   "execution_count": 113,
   "metadata": {},
   "outputs": [
    {
     "name": "stdout",
     "output_type": "stream",
     "text": [
      "[ 1.  1.  0.  0.  0.  0.  0.  0.]\n",
      "[ 0.  1.  0.  0.  0.  0.  0.  0.]\n",
      "[ 0.  0.  1.  0.  0.  1.  0.  0.]\n",
      "[ 0.  0.  0.  1.  0.  0.  0.  0.]\n",
      "[ 0.  1.  0.  1.  0.  0.  1.  0.]\n",
      "[ 0.  0.  0.  1.  1.  0.  1.  0.]\n"
     ]
    }
   ],
   "source": [
    "print(word_features(\"ABCD\"))\n",
    "print(word_features(\"Abcd\"))\n",
    "print(word_features(\"1234\"))\n",
    "print(word_features(\"*%\"))\n",
    "print(word_features(\"Ab-cd\"))\n",
    "print(word_features(\"-t-il\"))\n"
   ]
  },
  {
   "cell_type": "markdown",
   "metadata": {},
   "source": [
    "### 3.3. Sending the vocabulary through the fasttext executable"
   ]
  },
  {
   "cell_type": "markdown",
   "metadata": {},
   "source": [
    "Write the vocabulary to an output file, then pass it to the fastText executable to produce the relevant word embeddings for our text. Since the fastText model is over 5 Gb, the shell call can take some time."
   ]
  },
  {
   "cell_type": "code",
   "execution_count": 114,
   "metadata": {
    "collapsed": true
   },
   "outputs": [],
   "source": [
    "with open(\"vocab.txt\", 'w') as vocab_file:\n",
    "    for w in vnorm:\n",
    "        print(w, file=vocab_file)"
   ]
  },
  {
   "cell_type": "markdown",
   "metadata": {},
   "source": [
    "Shell call to `fasttext` for my Macbook Air"
   ]
  },
  {
   "cell_type": "code",
   "execution_count": null,
   "metadata": {
    "collapsed": true
   },
   "outputs": [],
   "source": [
    "!/Users/moot/Software/fastText-master/fasttext print-word-vectors /Users/moot/Corpus/wiki.fr/wiki.fr.bin < vocab.txt > vectors.txt"
   ]
  },
  {
   "cell_type": "markdown",
   "metadata": {},
   "source": [
    "Shell call to `fasttest` for my Macbook Pro, with `wiki.fr.bin` on external drive"
   ]
  },
  {
   "cell_type": "code",
   "execution_count": 115,
   "metadata": {
    "collapsed": true
   },
   "outputs": [],
   "source": [
    "!/Users/moot/Software/fastText-master/fasttext print-word-vectors /Volumes/LaCie/Corpus/fastText/wiki/wiki.fr.bin < vocab.txt > vectors.txt"
   ]
  },
  {
   "cell_type": "markdown",
   "metadata": {},
   "source": [
    "#### Combine all vector information\n",
    "\n",
    "Combined all information from fasttext, suffixes, manually selected features and the features for digits (which are not in fasttext) to produce combined feature vectors for all words "
   ]
  },
  {
   "cell_type": "code",
   "execution_count": 116,
   "metadata": {
    "collapsed": true
   },
   "outputs": [],
   "source": [
    "def read_vecs(file):\n",
    "    with open(file, 'r') as f:\n",
    "        words = set()\n",
    "        vocabn = vnorm\n",
    "        vocab = vocabulary\n",
    "        word_to_vec_map = {}\n",
    "        emsize = 0\n",
    "        # special treatment for numerals\n",
    "        numset = set()\n",
    "        for w in vocabn:\n",
    "            if is_numeral(w):\n",
    "                numset.add(w)\n",
    "                words.add(w)\n",
    "                emb = num_to_vec(w)\n",
    "                features = word_features(w)\n",
    "                suf = suffix_vector(w)\n",
    "                word_to_vec_map[w] = np.concatenate((emb,suf,features))\n",
    "        vocabn = vocabn.difference(numset)\n",
    "        vocab = vocab.difference(numset)\n",
    "        for line in f:\n",
    "            line = line.strip().split()\n",
    "            curr_word = line[0]\n",
    "            if (curr_word in vocabn):\n",
    "                vocabn.remove(curr_word)\n",
    "                vocab.discard(curr_word)\n",
    "                words.add(curr_word)                \n",
    "                emb = np.array(line[1:], dtype=np.float64)\n",
    "                emsize = np.size(emb)\n",
    "                features = word_features(curr_word)\n",
    "                suf = suffix_vector(curr_word)\n",
    "                word_to_vec_map[curr_word] = np.concatenate((emb,suf,features))\n",
    "\n",
    "        for w in vocab:\n",
    "            words.add(w)\n",
    "            wn = normalize_word(w)\n",
    "            emb = np.zeros(emsize)\n",
    "            suf = suffix_vector(wn)\n",
    "            try:\n",
    "                vec = word_to_vec_map[wn]\n",
    "            except:  \n",
    "                print(w)\n",
    "                features = word_features(w, unknown=True)\n",
    "                word_to_vec_map[w] = np.concatenate((emb,suf,features))\n",
    "            else:\n",
    "                emb = vec[0:emsize]\n",
    "                features = word_features(w)\n",
    "                word_to_vec_map[w] = np.concatenate((emb,suf,features))\n",
    "\n",
    "        for w in vocabn:\n",
    "            words.add(w)\n",
    "            try:\n",
    "                vec = word_to_vec_map[w]\n",
    "            except:  \n",
    "                print(w)\n",
    "                features = word_features(w, unknown=True)\n",
    "                emb = np.zeros(emsize)\n",
    "                suf = suffix_vector(w)\n",
    "                word_to_vec_map[w] = np.concatenate((emb,suf,features))\n",
    "        \n",
    "                \n",
    "        i = 2  # keep 1 for unknown\n",
    "        words_to_index = {}\n",
    "        index_to_words = {}\n",
    "        for w in sorted(words):\n",
    "            words_to_index[w] = i\n",
    "            index_to_words[i] = w\n",
    "            i = i + 1\n",
    "    return words_to_index, index_to_words, word_to_vec_map\n"
   ]
  },
  {
   "cell_type": "code",
   "execution_count": 161,
   "metadata": {},
   "outputs": [],
   "source": [
    "word_to_index, index_to_word, word_to_vec_map = read_vecs('vectors.txt')"
   ]
  },
  {
   "cell_type": "markdown",
   "metadata": {},
   "source": [
    "### 3.4 - The Embedding layer\n",
    "\n",
    "In Keras, the embedding matrix is represented as a \"layer\", and maps positive integers (indices corresponding to words) into dense vectors of fixed size (the embedding vectors). It can be trained or initialized with a pretrained embedding. In this part, we create an [Embedding()](https://keras.io/layers/embeddings/) layer in Keras, and initialize it with the fastTeX vectors loaded earlier in the notebook. \n",
    "\n",
    "The `Embedding()` layer takes an integer matrix of size (batch size, max input length) as input. This corresponds to sentences converted into lists of indices (integers), as shown in the figure below.\n",
    "\n",
    "The largest integer (i.e. word index) in the input should be no larger than the vocabulary size. The layer outputs an array of shape (batch size, max input length, dimension of word vectors).\n",
    "\n",
    "We first convert all our training sentences into lists of indices, and then zero-pad all these lists so that their length is the length of the longest sentence. \n",
    "\n",
    "**TODO**: I'd like try if it makes any difference to add the </s> end tag to the end of each sentence. "
   ]
  },
  {
   "cell_type": "code",
   "execution_count": 162,
   "metadata": {
    "collapsed": true
   },
   "outputs": [],
   "source": [
    "def lists_to_indices(X, item_to_index, max_len, normalize=False):\n",
    "\n",
    "    m = X.shape[0]                                   # number of training examples\n",
    "    \n",
    "    # Initialize X_indices as a numpy matrix of zeros and the correct shape (≈ 1 line)\n",
    "    X_indices = np.zeros((m,max_len))\n",
    "\n",
    "    for i in range(m):                               # loop over training examples\n",
    "        \n",
    "        # Convert the ith training sentence in lower case and split it into words. You should get a list of words.\n",
    "        list = X[i]\n",
    "\n",
    "        j = 0\n",
    "        \n",
    "        # Loop over the words of sentence_words\n",
    "        for w in list:\n",
    "            if normalize == True:\n",
    "                w = normalize_word(w)\n",
    "            # Set the (i,j)th entry of X_indices to the index of the correct word.\n",
    "            try:\n",
    "                X_indices[i, j] = item_to_index[w]\n",
    "            except:\n",
    "                print(\"Unknown: \", w)\n",
    "                X_indices[i, j] = 1  # unknown\n",
    "            # Increment j to j + 1\n",
    "            j = j + 1\n",
    "            \n",
    "    return X_indices\n"
   ]
  },
  {
   "cell_type": "code",
   "execution_count": 163,
   "metadata": {
    "collapsed": true
   },
   "outputs": [],
   "source": [
    "# GRADED FUNCTION: sentences_to_indices\n",
    "\n",
    "def sentences_to_indices(X, word_to_index, max_len):\n",
    "    \"\"\"\n",
    "    Converts an array of sentences (strings) into an array of indices corresponding to words in the sentences.\n",
    "    The output shape should be such that it can be given to `Embedding()` (described in Figure 4). \n",
    "    \n",
    "    Arguments:\n",
    "    X -- array of sentences (strings), of shape (m, 1)\n",
    "    word_to_index -- a dictionary containing the each word mapped to its index\n",
    "    max_len -- maximum number of words in a sentence. You can assume every sentence in X is no longer than this. \n",
    "    \n",
    "    Returns:\n",
    "    X_indices -- array of indices corresponding to words in the sentences from X, of shape (m, max_len)\n",
    "    \"\"\"\n",
    "    \n",
    "    m = X.shape[0]                                   # number of training examples\n",
    "    \n",
    "    ### START CODE HERE ###\n",
    "    # Initialize X_indices as a numpy matrix of zeros and the correct shape (≈ 1 line)\n",
    "    X_indices = np.zeros((m,max_len))\n",
    "    \n",
    "    for i in range(m):                               # loop over training examples\n",
    "        \n",
    "        # Convert the ith training sentence in lower case and split it into words. You should get a list of words.\n",
    "        sentence_words = X[i]\n",
    "        \n",
    "        # Initialize j to 0\n",
    "        j = 0\n",
    "        \n",
    "        # Loop over the words of sentence_words\n",
    "        for w in sentence_words:\n",
    "            w = normalize_word(w)\n",
    "            # Set the (i,j)th entry of X_indices to the index of the correct word.\n",
    "            try:\n",
    "                X_indices[i, j] = word_to_index[w]\n",
    "            except:\n",
    "                print(\"Unknown: \", w)\n",
    "                X_indices[i, j] = 1   # index for unknown words\n",
    "            # Increment j to j + 1\n",
    "            j = j + 1\n",
    "            \n",
    "    ### END CODE HERE ###\n",
    "    \n",
    "    return X_indices"
   ]
  },
  {
   "cell_type": "markdown",
   "metadata": {},
   "source": [
    "Run the following cell to check what `sentences_to_indices()` does, and check your results."
   ]
  },
  {
   "cell_type": "code",
   "execution_count": 164,
   "metadata": {},
   "outputs": [
    {
     "data": {
      "text/plain": [
       "array([[  2.98600000e+03,   9.22000000e+03,   3.76900000e+03, ...,\n",
       "          0.00000000e+00,   0.00000000e+00,   0.00000000e+00],\n",
       "       [  2.94100000e+03,   7.44500000e+03,   5.06300000e+03, ...,\n",
       "          0.00000000e+00,   0.00000000e+00,   0.00000000e+00],\n",
       "       [  6.14600000e+03,   8.65200000e+03,   9.45500000e+03, ...,\n",
       "          0.00000000e+00,   0.00000000e+00,   0.00000000e+00],\n",
       "       ..., \n",
       "       [  3.00000000e+00,   5.36300000e+03,   4.79600000e+03, ...,\n",
       "          0.00000000e+00,   0.00000000e+00,   0.00000000e+00],\n",
       "       [  7.33900000e+03,   6.95600000e+03,   2.74200000e+03, ...,\n",
       "          0.00000000e+00,   0.00000000e+00,   0.00000000e+00],\n",
       "       [  5.89200000e+03,   3.90400000e+03,   3.76900000e+03, ...,\n",
       "          0.00000000e+00,   0.00000000e+00,   0.00000000e+00]])"
      ]
     },
     "execution_count": 164,
     "metadata": {},
     "output_type": "execute_result"
    }
   ],
   "source": [
    "sentences_to_indices(X_train, word_to_index, maxLen)"
   ]
  },
  {
   "cell_type": "markdown",
   "metadata": {},
   "source": [
    "We now build the `Embedding()` layer for use with Keras, using pre-trained word vectors. After this layer is built, we can pass the output of `sentences_to_indices()` to it as an input, and the `Embedding()` layer will return the word embeddings for a sentence. \n",
    "\n",
    "We use the following steps:\n",
    "1. Initialize the embedding matrix as a numpy array of zeroes with the correct shape.\n",
    "2. Fill in the embedding matrix with all the word embeddings extracted from `word_to_vec_map`.\n",
    "3. Define Keras embedding layer. Use [Embedding()](https://keras.io/layers/embeddings/). Be sure to make this layer non-trainable, by setting `trainable = False` when calling `Embedding()`. If you were to set `trainable = True`, then it will allow the optimization algorithm to modify the values of the word embeddings. \n",
    "4. Set the embedding weights to be equal to the embedding matrix "
   ]
  },
  {
   "cell_type": "code",
   "execution_count": 165,
   "metadata": {
    "collapsed": true
   },
   "outputs": [],
   "source": [
    "\n",
    "def pretrained_embedding_layer(word_to_vec_map, word_to_index):\n",
    "    \"\"\"\n",
    "    Creates a Keras Embedding() layer and loads in pre-trained GloVe 50-dimensional vectors.\n",
    "    \n",
    "    Arguments:\n",
    "    word_to_vec_map -- dictionary mapping words to their GloVe vector representation.\n",
    "    word_to_index -- dictionary mapping from words to their indices in the vocabulary (400,001 words)\n",
    "\n",
    "    Returns:\n",
    "    embedding_layer -- pretrained layer Keras instance\n",
    "    \"\"\"\n",
    "    \n",
    "    vocab_len = len(word_to_index) + 2                  # adding 1 to fit Keras embedding (requirement)\n",
    "    emb_dim = word_to_vec_map[\"est\"].shape[0]      # define dimensionality of your GloVe word vectors (= 50)\n",
    "    \n",
    "    # Initialize the embedding matrix as a numpy array of zeros of shape (vocab_len, dimensions of word vectors = emb_dim)\n",
    "    emb_matrix = np.zeros((vocab_len,emb_dim))\n",
    "    \n",
    "    # Set each row \"index\" of the embedding matrix to be the word vector representation of the \"index\"th word of the vocabulary\n",
    "    for word, index in word_to_index.items():\n",
    "        emb_matrix[index, :] = word_to_vec_map[word]\n",
    "\n",
    "    # Define Keras embedding layer with the correct output/input sizes, make it trainable. Use Embedding(...). Make sure to set trainable=False. \n",
    "    embedding_layer = Embedding(vocab_len,emb_dim,trainable=False,mask_zero=True)\n",
    "    ### END CODE HERE ###\n",
    "\n",
    "    # Build the embedding layer, it is required before setting the weights of the embedding layer. Do not modify the \"None\".\n",
    "    embedding_layer.build((None,))\n",
    "    \n",
    "    # Set the weights of the embedding layer to the embedding matrix. Your layer is now pretrained.\n",
    "    embedding_layer.set_weights([emb_matrix])\n",
    "    \n",
    "    return embedding_layer"
   ]
  },
  {
   "cell_type": "code",
   "execution_count": 166,
   "metadata": {},
   "outputs": [
    {
     "name": "stdout",
     "output_type": "stream",
     "text": [
      "weights[0][2][1] = 0.19175\n"
     ]
    }
   ],
   "source": [
    "embedding_layer = pretrained_embedding_layer(word_to_vec_map, word_to_index)\n",
    "print(\"weights[0][2][1] =\", embedding_layer.get_weights()[0][2][1])"
   ]
  },
  {
   "cell_type": "markdown",
   "metadata": {},
   "source": [
    "**Expected Output**:\n",
    "\n",
    "<table>\n",
    "    <tr>\n",
    "        <td>\n",
    "            **weights[0][2][1] =**\n",
    "        </td>\n",
    "        <td>\n",
    "           0.19175\n",
    "        </td>\n",
    "    </tr>\n",
    "</table>"
   ]
  },
  {
   "cell_type": "markdown",
   "metadata": {},
   "source": [
    "## 4. Building the Part-of-Speech tagger\n",
    "\n",
    "We now build the POS-tagger model using the previously built enbedding layer and feed its output to a bidirectional LSTM network with 128 states in each direction. \n",
    "\n"
   ]
  },
  {
   "cell_type": "code",
   "execution_count": 174,
   "metadata": {
    "collapsed": true
   },
   "outputs": [],
   "source": [
    "# POS_model\n",
    "\n",
    "def POS_model(input_shape, word_to_vec_map, word_to_index):\n",
    "    \"\"\"\n",
    "    Function creating the Emojify-v2 model's graph.\n",
    "    \n",
    "    Arguments:\n",
    "    input_shape -- shape of the input, usually (max_len,)\n",
    "    word_to_vec_map -- dictionary mapping every word in a vocabulary into its 50-dimensional vector representation\n",
    "    word_to_index -- dictionary mapping from words to their indices in the vocabulary (400,001 words)\n",
    "\n",
    "    Returns:\n",
    "    model -- a model instance in Keras\n",
    "    \"\"\"\n",
    "    \n",
    "    # Define sentence_indices as the input of the graph, it should be of shape input_shape and dtype 'int32' (as it contains indices).\n",
    "    sentence_indices = Input(shape = input_shape, dtype = 'int32')\n",
    "    \n",
    "    # Create the embedding layer pretrained with GloVe Vectors (≈1 line)\n",
    "    embedding_layer = pretrained_embedding_layer(word_to_vec_map, word_to_index)\n",
    "    \n",
    "    # Propagate sentence_indices through your embedding layer, you get back the embeddings\n",
    "    embeddings = embedding_layer(sentence_indices)   \n",
    "    \n",
    "    # Propagate the embeddings through an LSTM layer with 128-dimensional hidden state\n",
    "    # returning a batch of sequences.\n",
    "    X = LSTM(128, return_sequences=True)(embeddings)\n",
    "    X = BatchNormalization()(X)\n",
    "    Y = Dropout(0.5)(X)\n",
    "    # Add a (time distributed) Dense layer followed by a softmax activation\n",
    "    Y = TimeDistributed(Dense(numClasses, activation='softmax'))(Y)\n",
    "    \n",
    "    # Create Model instance which converts sentence_indices into X.\n",
    "    model = Model(inputs=sentence_indices,outputs=Y)\n",
    "        \n",
    "    return model"
   ]
  },
  {
   "cell_type": "markdown",
   "metadata": {},
   "source": [
    "Run the following cell to create your model and check its summary. Because all sentences in the dataset are less than 10 words, we chose `max_len = 10`.  You should see your architecture, it uses \"20,223,927\" parameters, of which 20,000,050 (the word embeddings) are non-trainable, and the remaining 223,877 are. Because our vocabulary size has 400,001 words (with valid indices from 0 to 400,000) there are 400,001\\*50 = 20,000,050 non-trainable parameters. "
   ]
  },
  {
   "cell_type": "code",
   "execution_count": 175,
   "metadata": {
    "scrolled": false
   },
   "outputs": [
    {
     "name": "stdout",
     "output_type": "stream",
     "text": [
      "_________________________________________________________________\n",
      "Layer (type)                 Output Shape              Param #   \n",
      "=================================================================\n",
      "input_7 (InputLayer)         (None, 119)               0         \n",
      "_________________________________________________________________\n",
      "embedding_12 (Embedding)     (None, 119, 514)          5154392   \n",
      "_________________________________________________________________\n",
      "lstm_7 (LSTM)                (None, 119, 128)          329216    \n",
      "_________________________________________________________________\n",
      "batch_normalization_7 (Batch (None, 119, 128)          512       \n",
      "_________________________________________________________________\n",
      "dropout_7 (Dropout)          (None, 119, 128)          0         \n",
      "_________________________________________________________________\n",
      "time_distributed_7 (TimeDist (None, 119, 31)           3999      \n",
      "=================================================================\n",
      "Total params: 5,488,119\n",
      "Trainable params: 333,471\n",
      "Non-trainable params: 5,154,648\n",
      "_________________________________________________________________\n"
     ]
    }
   ],
   "source": [
    "model = POS_model((maxLen,), word_to_vec_map, word_to_index)\n",
    "model.summary()"
   ]
  },
  {
   "cell_type": "markdown",
   "metadata": {},
   "source": [
    "As usual, after creating your model in Keras, you need to compile it and define what loss, optimizer and metrics your are want to use. Compile your model using `categorical_crossentropy` loss, `adam` optimizer and `['accuracy']` metrics:"
   ]
  },
  {
   "cell_type": "code",
   "execution_count": 176,
   "metadata": {
    "collapsed": true
   },
   "outputs": [],
   "source": [
    "model.compile(loss='categorical_crossentropy', optimizer='adam', metrics=['accuracy'])"
   ]
  },
  {
   "cell_type": "markdown",
   "metadata": {},
   "source": [
    "It's time to train your model. Your Emojifier-V2 `model` takes as input an array of shape (`m`, `max_len`) and outputs probability vectors of shape (`m`, `number of classes`). We thus have to convert X_train (array of sentences as strings) to X_train_indices (array of sentences as list of word indices), and Y_train (labels as indices) to Y_train_oh (labels as one-hot vectors)."
   ]
  },
  {
   "cell_type": "code",
   "execution_count": 177,
   "metadata": {},
   "outputs": [],
   "source": [
    "X_train_indices = lists_to_indices(X_train, word_to_index, maxLen)\n",
    "Y_train_indices = lists_to_indices(Y_train, pos2_to_index, maxLen)\n",
    "Y_train_oh = to_categorical(Y_train_indices, num_classes=numClasses)"
   ]
  },
  {
   "cell_type": "code",
   "execution_count": 178,
   "metadata": {},
   "outputs": [
    {
     "name": "stdout",
     "output_type": "stream",
     "text": [
      "[ 30.   9.  10.  20.  12.  18.  18.  28.   9.  13.  23.  24.   6.  14.   0.\n",
      "   0.   0.   0.   0.   0.   0.   0.   0.   0.   0.   0.   0.   0.   0.   0.\n",
      "   0.   0.   0.   0.   0.   0.   0.   0.   0.   0.   0.   0.   0.   0.   0.\n",
      "   0.   0.   0.   0.   0.   0.   0.   0.   0.   0.   0.   0.   0.   0.   0.\n",
      "   0.   0.   0.   0.   0.   0.   0.   0.   0.   0.   0.   0.   0.   0.   0.\n",
      "   0.   0.   0.   0.   0.   0.   0.   0.   0.   0.   0.   0.   0.   0.   0.\n",
      "   0.   0.   0.   0.   0.   0.   0.   0.   0.   0.   0.   0.   0.   0.   0.\n",
      "   0.   0.   0.   0.   0.   0.   0.   0.   0.   0.   0.   0.   0.   0.]\n",
      "[[ 0.  0.  0. ...,  0.  0.  1.]\n",
      " [ 0.  0.  0. ...,  0.  0.  0.]\n",
      " [ 0.  0.  0. ...,  0.  0.  0.]\n",
      " ..., \n",
      " [ 1.  0.  0. ...,  0.  0.  0.]\n",
      " [ 1.  0.  0. ...,  0.  0.  0.]\n",
      " [ 1.  0.  0. ...,  0.  0.  0.]]\n"
     ]
    }
   ],
   "source": [
    "print(Y_train_indices[1])\n",
    "print(Y_train_oh[1])"
   ]
  },
  {
   "cell_type": "code",
   "execution_count": 179,
   "metadata": {
    "collapsed": true
   },
   "outputs": [],
   "source": [
    "X_dev_indices = lists_to_indices(X_dev, word_to_index, max_len = maxLen)\n",
    "Y_dev_indices = lists_to_indices(Y_dev, pos2_to_index, max_len = maxLen)\n",
    "Y_dev_oh = to_categorical(Y_dev_indices, num_classes = numClasses)"
   ]
  },
  {
   "cell_type": "markdown",
   "metadata": {},
   "source": [
    "Fit the Keras model on `X_train_indices` and `Y_train_oh`. We will use `epochs = 50` and `batch_size = 32`."
   ]
  },
  {
   "cell_type": "code",
   "execution_count": 180,
   "metadata": {
    "scrolled": true
   },
   "outputs": [
    {
     "name": "stdout",
     "output_type": "stream",
     "text": [
      "Train on 1195 samples, validate on 399 samples\n",
      "Epoch 1/50\n",
      "1195/1195 [==============================] - 12s 10ms/step - loss: 2.1220 - acc: 0.4649 - val_loss: 0.7537 - val_acc: 0.8053\n",
      "Epoch 2/50\n",
      "1195/1195 [==============================] - 10s 8ms/step - loss: 0.5984 - acc: 0.8421 - val_loss: 0.2826 - val_acc: 0.9282\n",
      "Epoch 3/50\n",
      "1195/1195 [==============================] - 10s 8ms/step - loss: 0.3075 - acc: 0.9259 - val_loss: 0.1763 - val_acc: 0.9552\n",
      "Epoch 4/50\n",
      "1195/1195 [==============================] - 10s 8ms/step - loss: 0.2096 - acc: 0.9483 - val_loss: 0.1327 - val_acc: 0.9664\n",
      "Epoch 5/50\n",
      "1195/1195 [==============================] - 10s 8ms/step - loss: 0.1615 - acc: 0.9590 - val_loss: 0.1184 - val_acc: 0.9701\n",
      "Epoch 6/50\n",
      "1195/1195 [==============================] - 11s 9ms/step - loss: 0.1317 - acc: 0.9655 - val_loss: 0.1055 - val_acc: 0.9723\n",
      "Epoch 7/50\n",
      "1195/1195 [==============================] - 11s 9ms/step - loss: 0.1175 - acc: 0.9689 - val_loss: 0.0960 - val_acc: 0.9747\n",
      "Epoch 8/50\n",
      "1195/1195 [==============================] - 10s 8ms/step - loss: 0.1035 - acc: 0.9722 - val_loss: 0.0922 - val_acc: 0.9760\n",
      "Epoch 9/50\n",
      "1195/1195 [==============================] - 10s 8ms/step - loss: 0.0942 - acc: 0.9742 - val_loss: 0.0864 - val_acc: 0.9770\n",
      "Epoch 10/50\n",
      "1195/1195 [==============================] - 10s 8ms/step - loss: 0.0839 - acc: 0.9769 - val_loss: 0.0871 - val_acc: 0.9775\n",
      "Epoch 11/50\n",
      "1195/1195 [==============================] - 10s 8ms/step - loss: 0.0766 - acc: 0.9793 - val_loss: 0.0872 - val_acc: 0.9775\n",
      "Epoch 12/50\n",
      "1195/1195 [==============================] - 10s 8ms/step - loss: 0.0720 - acc: 0.9794 - val_loss: 0.0817 - val_acc: 0.9787\n",
      "Epoch 13/50\n",
      "1195/1195 [==============================] - 10s 9ms/step - loss: 0.0677 - acc: 0.9807 - val_loss: 0.0829 - val_acc: 0.9786\n",
      "Epoch 14/50\n",
      "1195/1195 [==============================] - 11s 9ms/step - loss: 0.0613 - acc: 0.9826 - val_loss: 0.0798 - val_acc: 0.9797\n",
      "Epoch 15/50\n",
      "1195/1195 [==============================] - 10s 8ms/step - loss: 0.0583 - acc: 0.9847 - val_loss: 0.0807 - val_acc: 0.9789\n",
      "Epoch 16/50\n",
      "1195/1195 [==============================] - 10s 8ms/step - loss: 0.0563 - acc: 0.9833 - val_loss: 0.0811 - val_acc: 0.9790\n",
      "Epoch 17/50\n",
      "1195/1195 [==============================] - 10s 8ms/step - loss: 0.0520 - acc: 0.9855 - val_loss: 0.0803 - val_acc: 0.9791\n",
      "Epoch 18/50\n",
      "1195/1195 [==============================] - 10s 8ms/step - loss: 0.0500 - acc: 0.9860 - val_loss: 0.0792 - val_acc: 0.9791\n",
      "Epoch 19/50\n",
      "1195/1195 [==============================] - 10s 8ms/step - loss: 0.0477 - acc: 0.9865 - val_loss: 0.0799 - val_acc: 0.9795\n",
      "Epoch 20/50\n",
      "1195/1195 [==============================] - 10s 8ms/step - loss: 0.0471 - acc: 0.9862 - val_loss: 0.0839 - val_acc: 0.9796\n",
      "Epoch 21/50\n",
      "1195/1195 [==============================] - 10s 8ms/step - loss: 0.0425 - acc: 0.9875 - val_loss: 0.0808 - val_acc: 0.9803\n",
      "Epoch 22/50\n",
      "1195/1195 [==============================] - 10s 8ms/step - loss: 0.0397 - acc: 0.9885 - val_loss: 0.0807 - val_acc: 0.9800\n",
      "Epoch 23/50\n",
      "1195/1195 [==============================] - 10s 8ms/step - loss: 0.0368 - acc: 0.9892 - val_loss: 0.0823 - val_acc: 0.9804\n",
      "Epoch 24/50\n",
      "1195/1195 [==============================] - 10s 8ms/step - loss: 0.0389 - acc: 0.9881 - val_loss: 0.0817 - val_acc: 0.9800\n",
      "Epoch 25/50\n",
      "1195/1195 [==============================] - 10s 8ms/step - loss: 0.0364 - acc: 0.9887 - val_loss: 0.0833 - val_acc: 0.9801\n",
      "Epoch 26/50\n",
      "1195/1195 [==============================] - 10s 8ms/step - loss: 0.0343 - acc: 0.9895 - val_loss: 0.0832 - val_acc: 0.9806\n",
      "Epoch 27/50\n",
      "1195/1195 [==============================] - 10s 8ms/step - loss: 0.0320 - acc: 0.9907 - val_loss: 0.0869 - val_acc: 0.9798\n",
      "Epoch 28/50\n",
      "1195/1195 [==============================] - 10s 8ms/step - loss: 0.0310 - acc: 0.9909 - val_loss: 0.0843 - val_acc: 0.9810\n",
      "Epoch 29/50\n",
      "1195/1195 [==============================] - 10s 8ms/step - loss: 0.0297 - acc: 0.9906 - val_loss: 0.0864 - val_acc: 0.9795\n",
      "Epoch 30/50\n",
      "1195/1195 [==============================] - 10s 8ms/step - loss: 0.0287 - acc: 0.9913 - val_loss: 0.0892 - val_acc: 0.9798\n",
      "Epoch 31/50\n",
      "1195/1195 [==============================] - 10s 8ms/step - loss: 0.0273 - acc: 0.9916 - val_loss: 0.0886 - val_acc: 0.9800\n",
      "Epoch 32/50\n",
      "1195/1195 [==============================] - 11s 9ms/step - loss: 0.0250 - acc: 0.9928 - val_loss: 0.0925 - val_acc: 0.9796\n",
      "Epoch 33/50\n",
      "1195/1195 [==============================] - 10s 8ms/step - loss: 0.0248 - acc: 0.9927 - val_loss: 0.0939 - val_acc: 0.9791\n",
      "Epoch 34/50\n",
      "1195/1195 [==============================] - 10s 8ms/step - loss: 0.0224 - acc: 0.9934 - val_loss: 0.0928 - val_acc: 0.9790\n",
      "Epoch 35/50\n",
      "1195/1195 [==============================] - 10s 8ms/step - loss: 0.0216 - acc: 0.9936 - val_loss: 0.0907 - val_acc: 0.9803\n",
      "Epoch 36/50\n",
      "1195/1195 [==============================] - 10s 9ms/step - loss: 0.0208 - acc: 0.9938 - val_loss: 0.0937 - val_acc: 0.9791\n",
      "Epoch 37/50\n",
      "1195/1195 [==============================] - 10s 8ms/step - loss: 0.0207 - acc: 0.9940 - val_loss: 0.0912 - val_acc: 0.9807\n",
      "Epoch 38/50\n",
      "1195/1195 [==============================] - 10s 8ms/step - loss: 0.0185 - acc: 0.9940 - val_loss: 0.0970 - val_acc: 0.9799\n",
      "Epoch 39/50\n",
      "1195/1195 [==============================] - 10s 8ms/step - loss: 0.0166 - acc: 0.9952 - val_loss: 0.0960 - val_acc: 0.9791\n",
      "Epoch 40/50\n",
      "1195/1195 [==============================] - 10s 9ms/step - loss: 0.0181 - acc: 0.9949 - val_loss: 0.0952 - val_acc: 0.9804\n",
      "Epoch 41/50\n",
      "1195/1195 [==============================] - 10s 8ms/step - loss: 0.0174 - acc: 0.9947 - val_loss: 0.0991 - val_acc: 0.9789\n",
      "Epoch 42/50\n",
      "1195/1195 [==============================] - 10s 8ms/step - loss: 0.0177 - acc: 0.9943 - val_loss: 0.1003 - val_acc: 0.9801\n",
      "Epoch 43/50\n",
      "1195/1195 [==============================] - 10s 8ms/step - loss: 0.0153 - acc: 0.9956 - val_loss: 0.1008 - val_acc: 0.9792\n",
      "Epoch 44/50\n",
      "1195/1195 [==============================] - 10s 8ms/step - loss: 0.0155 - acc: 0.9956 - val_loss: 0.0973 - val_acc: 0.9789\n",
      "Epoch 45/50\n",
      "1195/1195 [==============================] - 10s 8ms/step - loss: 0.0146 - acc: 0.9956 - val_loss: 0.1005 - val_acc: 0.9796\n",
      "Epoch 46/50\n",
      "1195/1195 [==============================] - 10s 8ms/step - loss: 0.0138 - acc: 0.9958 - val_loss: 0.1013 - val_acc: 0.9792\n",
      "Epoch 47/50\n",
      "1195/1195 [==============================] - 10s 9ms/step - loss: 0.0135 - acc: 0.9960 - val_loss: 0.1016 - val_acc: 0.9800\n",
      "Epoch 48/50\n",
      "1195/1195 [==============================] - 11s 9ms/step - loss: 0.0120 - acc: 0.9966 - val_loss: 0.1073 - val_acc: 0.9792\n",
      "Epoch 49/50\n",
      "1195/1195 [==============================] - 10s 8ms/step - loss: 0.0121 - acc: 0.9963 - val_loss: 0.1052 - val_acc: 0.9788\n",
      "Epoch 50/50\n",
      "1195/1195 [==============================] - 10s 8ms/step - loss: 0.0116 - acc: 0.9967 - val_loss: 0.1061 - val_acc: 0.9795\n"
     ]
    }
   ],
   "source": [
    "history = model.fit(X_train_indices, Y_train_oh, epochs = 50, batch_size = 32, shuffle=True, validation_data=(X_dev_indices,Y_dev_oh))"
   ]
  },
  {
   "cell_type": "markdown",
   "metadata": {},
   "source": [
    "Your model should perform close to **100% accuracy** on the training set. The exact accuracy you get may be a little different. Run the following cell to evaluate your model on the test set. "
   ]
  },
  {
   "cell_type": "code",
   "execution_count": 181,
   "metadata": {},
   "outputs": [
    {
     "data": {
      "image/png": "[encoded data removed]",
      "text/plain": [
       "<matplotlib.figure.Figure at 0x1a4195e860>"
      ]
     },
     "metadata": {},
     "output_type": "display_data"
    }
   ],
   "source": [
    "plt.plot(history.history['loss'])\n",
    "plt.plot(history.history['val_loss'])\n",
    "plt.title('model train vs validation loss')\n",
    "plt.ylabel('loss')\n",
    "plt.xlabel('epoch')\n",
    "plt.legend(['train', 'validation'], loc='upper right')\n",
    "plt.show()"
   ]
  },
  {
   "cell_type": "code",
   "execution_count": 182,
   "metadata": {},
   "outputs": [
    {
     "data": {
      "image/png": "[encoded data removed]",
      "text/plain": [
       "<matplotlib.figure.Figure at 0x1a3bb22198>"
      ]
     },
     "metadata": {},
     "output_type": "display_data"
    }
   ],
   "source": [
    "plt.plot(history.history['acc'])\n",
    "plt.plot(history.history['val_acc'])\n",
    "plt.title('model train vs validation accuracy')\n",
    "plt.ylabel('accuracy')\n",
    "plt.xlabel('epoch')\n",
    "plt.legend(['train', 'validation'], loc='upper right')\n",
    "plt.show()"
   ]
  },
  {
   "cell_type": "code",
   "execution_count": 183,
   "metadata": {
    "scrolled": true
   },
   "outputs": [
    {
     "name": "stdout",
     "output_type": "stream",
     "text": [
      "399/399 [==============================] - 1s 3ms/step\n",
      "\n",
      "Test accuracy =  0.979546124774\n"
     ]
    }
   ],
   "source": [
    "loss, acc = model.evaluate(X_dev_indices, Y_dev_oh)\n",
    "print()\n",
    "print(\"Test accuracy = \", acc)"
   ]
  },
  {
   "cell_type": "markdown",
   "metadata": {},
   "source": [
    "You should get a test accuracy of about 94.8% for a vanilla model using only aa1.txt.\n",
    "A vanilla POS model on the full training set gets a dev accuracy of 98.50%!"
   ]
  },
  {
   "cell_type": "code",
   "execution_count": 78,
   "metadata": {
    "collapsed": true
   },
   "outputs": [],
   "source": [
    "def plot_confusion_matrix(y_actu, y_pred, title='Confusion matrix', cmap=plt.cm.gray_r):\n",
    "    \n",
    "    df_confusion = pd.crosstab(y_actu, y_pred.reshape(y_pred.shape[0],), rownames=['Actual'], colnames=['Predicted'], margins=True)\n",
    "    \n",
    "    df_conf_norm = df_confusion / df_confusion.sum(axis=1)\n",
    "    \n",
    "    plt.matshow(df_confusion, cmap=cmap) # imshow\n",
    "    #plt.title(title)\n",
    "    plt.colorbar()\n",
    "    tick_marks = np.arange(len(df_confusion.columns))\n",
    "    plt.xticks(tick_marks, df_confusion.columns, rotation=45)\n",
    "    plt.yticks(tick_marks, df_confusion.index)\n",
    "    #plt.tight_layout()\n",
    "    plt.ylabel(df_confusion.index.name)\n",
    "    plt.xlabel(df_confusion.columns.name)\n"
   ]
  },
  {
   "cell_type": "code",
   "execution_count": 79,
   "metadata": {},
   "outputs": [
    {
     "ename": "ValueError",
     "evalue": "cannot reshape array of size 250096 into shape (98,)",
     "output_type": "error",
     "traceback": [
      "\u001b[0;31m---------------------------------------------------------------------------\u001b[0m",
      "\u001b[0;31mValueError\u001b[0m                                Traceback (most recent call last)",
      "\u001b[0;32m<ipython-input-79-add4178eaa3b>\u001b[0m in \u001b[0;36m<module>\u001b[0;34m()\u001b[0m\n\u001b[1;32m      4\u001b[0m \u001b[0;31m# print('           '+ label_to_emoji(0)+ '    ' + label_to_emoji(1) + '    ' +  label_to_emoji(2)+ '    ' + label_to_emoji(3)+'   ' + label_to_emoji(4))\u001b[0m\u001b[0;34m\u001b[0m\u001b[0;34m\u001b[0m\u001b[0m\n\u001b[1;32m      5\u001b[0m \u001b[0;31m# print(pd.crosstab(Y_dev, pred_test.reshape(56,), rownames=['Actual'], colnames=['Predicted'], margins=True))\u001b[0m\u001b[0;34m\u001b[0m\u001b[0;34m\u001b[0m\u001b[0m\n\u001b[0;32m----> 6\u001b[0;31m \u001b[0mplot_confusion_matrix\u001b[0m\u001b[0;34m(\u001b[0m\u001b[0mY_dev\u001b[0m\u001b[0;34m,\u001b[0m \u001b[0mpred\u001b[0m\u001b[0;34m)\u001b[0m\u001b[0;34m\u001b[0m\u001b[0m\n\u001b[0m",
      "\u001b[0;32m<ipython-input-78-196d75cfaa8c>\u001b[0m in \u001b[0;36mplot_confusion_matrix\u001b[0;34m(y_actu, y_pred, title, cmap)\u001b[0m\n\u001b[1;32m      1\u001b[0m \u001b[0;32mdef\u001b[0m \u001b[0mplot_confusion_matrix\u001b[0m\u001b[0;34m(\u001b[0m\u001b[0my_actu\u001b[0m\u001b[0;34m,\u001b[0m \u001b[0my_pred\u001b[0m\u001b[0;34m,\u001b[0m \u001b[0mtitle\u001b[0m\u001b[0;34m=\u001b[0m\u001b[0;34m'Confusion matrix'\u001b[0m\u001b[0;34m,\u001b[0m \u001b[0mcmap\u001b[0m\u001b[0;34m=\u001b[0m\u001b[0mplt\u001b[0m\u001b[0;34m.\u001b[0m\u001b[0mcm\u001b[0m\u001b[0;34m.\u001b[0m\u001b[0mgray_r\u001b[0m\u001b[0;34m)\u001b[0m\u001b[0;34m:\u001b[0m\u001b[0;34m\u001b[0m\u001b[0m\n\u001b[1;32m      2\u001b[0m \u001b[0;34m\u001b[0m\u001b[0m\n\u001b[0;32m----> 3\u001b[0;31m     \u001b[0mdf_confusion\u001b[0m \u001b[0;34m=\u001b[0m \u001b[0mpd\u001b[0m\u001b[0;34m.\u001b[0m\u001b[0mcrosstab\u001b[0m\u001b[0;34m(\u001b[0m\u001b[0my_actu\u001b[0m\u001b[0;34m,\u001b[0m \u001b[0my_pred\u001b[0m\u001b[0;34m.\u001b[0m\u001b[0mreshape\u001b[0m\u001b[0;34m(\u001b[0m\u001b[0my_pred\u001b[0m\u001b[0;34m.\u001b[0m\u001b[0mshape\u001b[0m\u001b[0;34m[\u001b[0m\u001b[0;36m0\u001b[0m\u001b[0;34m]\u001b[0m\u001b[0;34m,\u001b[0m\u001b[0;34m)\u001b[0m\u001b[0;34m,\u001b[0m \u001b[0mrownames\u001b[0m\u001b[0;34m=\u001b[0m\u001b[0;34m[\u001b[0m\u001b[0;34m'Actual'\u001b[0m\u001b[0;34m]\u001b[0m\u001b[0;34m,\u001b[0m \u001b[0mcolnames\u001b[0m\u001b[0;34m=\u001b[0m\u001b[0;34m[\u001b[0m\u001b[0;34m'Predicted'\u001b[0m\u001b[0;34m]\u001b[0m\u001b[0;34m,\u001b[0m \u001b[0mmargins\u001b[0m\u001b[0;34m=\u001b[0m\u001b[0;32mTrue\u001b[0m\u001b[0;34m)\u001b[0m\u001b[0;34m\u001b[0m\u001b[0m\n\u001b[0m\u001b[1;32m      4\u001b[0m \u001b[0;34m\u001b[0m\u001b[0m\n\u001b[1;32m      5\u001b[0m     \u001b[0mdf_conf_norm\u001b[0m \u001b[0;34m=\u001b[0m \u001b[0mdf_confusion\u001b[0m \u001b[0;34m/\u001b[0m \u001b[0mdf_confusion\u001b[0m\u001b[0;34m.\u001b[0m\u001b[0msum\u001b[0m\u001b[0;34m(\u001b[0m\u001b[0maxis\u001b[0m\u001b[0;34m=\u001b[0m\u001b[0;36m1\u001b[0m\u001b[0;34m)\u001b[0m\u001b[0;34m\u001b[0m\u001b[0m\n",
      "\u001b[0;31mValueError\u001b[0m: cannot reshape array of size 250096 into shape (98,)"
     ]
    }
   ],
   "source": [
    "X_dev_indices = lists_to_indices(X_test, word_to_index, maxLen)\n",
    "pred = model.predict(X_dev_indices)\n",
    "\n",
    "# print('           '+ label_to_emoji(0)+ '    ' + label_to_emoji(1) + '    ' +  label_to_emoji(2)+ '    ' + label_to_emoji(3)+'   ' + label_to_emoji(4))\n",
    "# print(pd.crosstab(Y_dev, pred_test.reshape(56,), rownames=['Actual'], colnames=['Predicted'], margins=True))\n",
    "plot_confusion_matrix(Y_dev, pred)"
   ]
  },
  {
   "cell_type": "code",
   "execution_count": 184,
   "metadata": {},
   "outputs": [
    {
     "name": "stdout",
     "output_type": "stream",
     "text": [
      "Expected POS tag: Britannnique|NOM prediction: Britannnique|NAM\n",
      "Expected POS tag: pourquoi|ADV prediction: pourquoi|KON\n",
      "Expected POS tag: Naître|NAM prediction: Naître|VER:infi\n",
      "Expected POS tag: grandir|NAM prediction: grandir|VER:infi\n",
      "Expected POS tag: issue|VER:pper prediction: issue|NOM\n",
      "Expected POS tag: comme|ADV prediction: comme|KON\n",
      "Expected POS tag: portable|ADJ prediction: portable|NOM\n",
      "Expected POS tag: [|PUN prediction: [|ADJ\n",
      "Expected POS tag: le|PRO:PER prediction: le|DET:ART\n",
      "Expected POS tag: est|NOM prediction: est|VER:pres\n",
      "Expected POS tag: les|PRO:PER prediction: les|DET:ART\n",
      "Expected POS tag: que|KON prediction: que|PRO:REL\n",
      "Expected POS tag: améliorera|VER:futu prediction: améliorera|VER:pres\n",
      "Expected POS tag: toute|PRO:IND prediction: toute|ADV\n",
      "Expected POS tag: s'|KON prediction: s'|PRO:PER\n",
      "Expected POS tag: Intercontinental|NAM prediction: Intercontinental|ADJ\n",
      "Expected POS tag: n|ABR prediction: n|KON\n",
      "Expected POS tag: plein|ADJ prediction: plein|ADV\n",
      "Expected POS tag: les|PRO:PER prediction: les|DET:ART\n",
      "Expected POS tag: M|NAM prediction: M|ABR\n",
      "Expected POS tag: aurons|VER:futu prediction: aurons|VER:pres\n",
      "Expected POS tag: que|PRO:REL prediction: que|KON\n",
      "Expected POS tag: termitière|NOM prediction: termitière|NUM\n",
      "Expected POS tag: captifs|ADJ prediction: captifs|NOM\n",
      "Expected POS tag: la|PRO:PER prediction: la|DET:ART\n",
      "Expected POS tag: est|NOM prediction: est|VER:pres\n",
      "Expected POS tag: qu'|ADV prediction: qu'|KON\n",
      "Expected POS tag: A|NOM prediction: A|ABR\n",
      "Expected POS tag: Z|NOM prediction: Z|ABR\n",
      "Expected POS tag: comme|ADV prediction: comme|KON\n",
      "Expected POS tag: -ils|PRO:PER prediction: -ils|ADJ\n",
      "Expected POS tag: garde|VER:pres prediction: garde|NOM\n",
      "Expected POS tag: macro-|ADV prediction: macro-|ADJ\n",
      "Expected POS tag: ainsi|KON prediction: ainsi|ADV\n",
      "Expected POS tag: toutes|PRO:IND prediction: toutes|ADV\n",
      "Expected POS tag: Tout|ADV prediction: Tout|PRO:IND\n",
      "Expected POS tag: électrique|ADJ prediction: électrique|NOM\n",
      "Expected POS tag: île-de-France|NAM prediction: île-de-France|NOM\n",
      "Expected POS tag: toutes|PRO:IND prediction: toutes|ADV\n",
      "Expected POS tag: même|ADV prediction: même|ADJ\n",
      "Expected POS tag: autres|PRO:IND prediction: autres|ADJ\n",
      "Expected POS tag: quitte|ADJ prediction: quitte|VER:pres\n",
      "Expected POS tag: industrialisés|VER:pper prediction: industrialisés|ADJ\n",
      "Expected POS tag: jusque|PRP prediction: jusque|ADV\n",
      "Expected POS tag: que|PRO:REL prediction: que|KON\n",
      "Expected POS tag: outre|PRP prediction: outre|ADV\n",
      "Expected POS tag: intersyndicale|ADJ prediction: intersyndicale|NOM\n",
      "Expected POS tag: accrue|VER:pper prediction: accrue|ADJ\n",
      "Expected POS tag: nouvelle|NOM prediction: nouvelle|ADJ\n",
      "Expected POS tag: tempère|VER:pres prediction: tempère|NOM\n",
      "Expected POS tag: alors|ADV prediction: alors|KON\n",
      "Expected POS tag: bien|NOM prediction: bien|ADV\n",
      "Expected POS tag: micro-|ADV prediction: micro-|NOM\n",
      "Expected POS tag: consentiraient|VER:cond prediction: consentiraient|VER:impf\n",
      "Expected POS tag: alors|ADV prediction: alors|KON\n",
      "Expected POS tag: technologique|ADJ prediction: technologique|NOM\n",
      "Expected POS tag: lesdits|PRO:DEM prediction: lesdits|PRO:PER\n",
      "Expected POS tag: anciens|ADJ prediction: anciens|NOM\n",
      "Expected POS tag: NV|ABR prediction: NV|NAM\n",
      "Expected POS tag: l'|PRO:PER prediction: l'|DET:ART\n",
      "Expected POS tag: le|PRO:PER prediction: le|DET:ART\n",
      "Expected POS tag: météorologiques|ADJ prediction: météorologiques|NOM\n",
      "Expected POS tag: démesure|NOM prediction: démesure|ADJ\n",
      "Expected POS tag: pas|NOM prediction: pas|ADV\n",
      "Expected POS tag: la|PRO:PER prediction: la|DET:ART\n",
      "Expected POS tag: expo-vente|NOM prediction: expo-vente|VER:pres\n",
      "Expected POS tag: alors|ADV prediction: alors|KON\n",
      "Expected POS tag: qu'|ADV prediction: qu'|KON\n",
      "Expected POS tag: net|ADJ prediction: net|NOM\n",
      "Expected POS tag: mondial|ADJ prediction: mondial|NOM\n",
      "Expected POS tag: seconde|NUM prediction: seconde|NOM\n",
      "Expected POS tag: dégraisse|VER:subp prediction: dégraisse|VER:pres\n",
      "Expected POS tag: comme|KON prediction: comme|ADV\n",
      "Expected POS tag: feu|ADJ prediction: feu|NOM\n",
      "Expected POS tag: Matin|NAM prediction: Matin|NOM\n",
      "Expected POS tag: en|PRO:PER prediction: en|PRP\n",
      "Expected POS tag: marin|ADJ prediction: marin|NOM\n",
      "Expected POS tag: pouvoir|NOM prediction: pouvoir|VER:infi\n",
      "Expected POS tag: l'|PRO:PER prediction: l'|DET:ART\n",
      "Expected POS tag: eût|VER:subp prediction: eût|VER:impf\n",
      "Expected POS tag: conseiller|VER:infi prediction: conseiller|NOM\n",
      "Expected POS tag: qu'|PRO:REL prediction: qu'|KON\n",
      "Expected POS tag: que|KON prediction: que|ADV\n",
      "Expected POS tag: Comme|ADV prediction: Comme|KON\n",
      "Expected POS tag: l'|DET:ART prediction: l'|PRO:PER\n",
      "Expected POS tag: américain|ADJ prediction: américain|NOM\n",
      "Expected POS tag: R.|ABR prediction: R.|PRO:PER\n",
      "Expected POS tag: ainsi|KON prediction: ainsi|ADV\n",
      "Expected POS tag: l'|PRO:PER prediction: l'|DET:ART\n",
      "Expected POS tag: toutes|PRO:IND prediction: toutes|ADV\n",
      "Expected POS tag: AG|ABR prediction: AG|NAM\n",
      "Expected POS tag: datant|VER:ppre prediction: datant|NOM\n",
      "Expected POS tag: enclines|ADJ prediction: enclines|VER:pper\n",
      "Expected POS tag: vives|ADJ prediction: vives|NOM\n",
      "Expected POS tag: radio-télévision|NOM prediction: radio-télévision|ADV\n",
      "Expected POS tag: toute|PRO:IND prediction: toute|ADV\n",
      "Expected POS tag: préféreriez|VER:cond prediction: préféreriez|VER:impf\n",
      "Expected POS tag: en|PRO:PER prediction: en|PRP\n",
      "Expected POS tag: autre|PRO:IND prediction: autre|ADJ\n",
      "Expected POS tag: M3|ABR prediction: M3|NAM\n",
      "Expected POS tag: qu'|PRO:REL prediction: qu'|KON\n",
      "Expected POS tag: l'|DET:ART prediction: l'|PRO:PER\n",
      "Expected POS tag: mort|ADJ prediction: mort|NOM\n",
      "Expected POS tag: présente|ADJ prediction: présente|VER:pres\n",
      "Expected POS tag: Comme|ADV prediction: Comme|KON\n",
      "Expected POS tag: qu'|PRO:REL prediction: qu'|KON\n",
      "Expected POS tag: inquiet|ADJ prediction: inquiet|VER:pres\n",
      "Expected POS tag: plein|ADJ prediction: plein|NOM\n",
      "Expected POS tag: l'|PRO:PER prediction: l'|DET:ART\n",
      "Expected POS tag: même|ADV prediction: même|ADJ\n",
      "Expected POS tag: le|PRO:PER prediction: le|DET:ART\n",
      "Expected POS tag: Enjoué|ADJ prediction: Enjoué|VER:pper\n",
      "Expected POS tag: volubile|ADJ prediction: volubile|VER:pres\n",
      "Expected POS tag: portables|ADJ prediction: portables|VER:pper\n",
      "Expected POS tag: zappeurs|NOM prediction: zappeurs|ADJ\n",
      "Expected POS tag: moyen|ADJ prediction: moyen|NOM\n",
      "Expected POS tag: anticipée|VER:pper prediction: anticipée|ADJ\n",
      "Expected POS tag: garde|VER:pres prediction: garde|NOM\n",
      "Expected POS tag: que|PRO:REL prediction: que|KON\n",
      "Expected POS tag: que|PRO:REL prediction: que|KON\n",
      "Expected POS tag: depuis|ADV prediction: depuis|PRP\n",
      "Expected POS tag: carrée|ADJ prediction: carrée|VER:pper\n",
      "Expected POS tag: encombrant|VER:ppre prediction: encombrant|ADJ\n",
      "Expected POS tag: dessus|ADV prediction: dessus|NOM\n",
      "Expected POS tag: napperon|NOM prediction: napperon|VER:pres\n",
      "Expected POS tag: principale|ADJ prediction: principale|NOM\n",
      "Expected POS tag: qu'|PRO:REL prediction: qu'|KON\n",
      "Expected POS tag: file|NOM prediction: file|NUM\n",
      "Expected POS tag: initiés|NOM prediction: initiés|VER:pper\n",
      "Expected POS tag: que|PRO:REL prediction: que|KON\n",
      "Expected POS tag: compte|VER:pres prediction: compte|NOM\n",
      "Expected POS tag: ARD|NAM prediction: ARD|ABR\n",
      "Expected POS tag: note|NOM prediction: note|VER:pres\n",
      "Expected POS tag: télévisées|VER:pper prediction: télévisées|ADJ\n",
      "Expected POS tag: que|ADV prediction: que|KON\n",
      "Expected POS tag: l'|PRO:PER prediction: l'|DET:ART\n",
      "Expected POS tag: manufacturés|VER:pper prediction: manufacturés|ADJ\n",
      "Expected POS tag: nette|ADJ prediction: nette|NOM\n",
      "Expected POS tag: Cahin-caha|ADV prediction: Cahin-caha|NAM\n",
      "Expected POS tag: alors|KON prediction: alors|ADV\n",
      "Expected POS tag: apparente|ADJ prediction: apparente|VER:pres\n",
      "Expected POS tag: carbure|VER:pres prediction: carbure|ADJ\n",
      "Expected POS tag: gamberge|VER:pres prediction: gamberge|NOM\n",
      "Expected POS tag: moyen|ADJ prediction: moyen|PRP\n",
      "Expected POS tag: micro-|ADV prediction: micro-|NOM\n",
      "Expected POS tag: informatique|NOM prediction: informatique|ADJ\n",
      "Expected POS tag: qu'|ADV prediction: qu'|KON\n",
      "Expected POS tag: due|VER:pper prediction: due|ADJ\n",
      "Expected POS tag: seul|ADJ prediction: seul|ADV\n",
      "Expected POS tag: devant|NOM prediction: devant|PRP\n",
      "Expected POS tag: net|ADJ prediction: net|NOM\n",
      "Expected POS tag: faites|VER:impe prediction: faites|VER:pper\n",
      "Expected POS tag: l'|PRO:PER prediction: l'|DET:ART\n",
      "Expected POS tag: ainsi|KON prediction: ainsi|ADV\n",
      "Expected POS tag: le|PRO:PER prediction: le|DET:ART\n",
      "Expected POS tag: qu'|PRO:REL prediction: qu'|KON\n",
      "Expected POS tag: Belges|NOM prediction: Belges|NAM\n",
      "Expected POS tag: luxembourgeois|NOM prediction: luxembourgeois|ADJ\n",
      "Expected POS tag: progressive|ADJ prediction: progressive|NOM\n",
      "Expected POS tag: en|PRO:PER prediction: en|PRP\n",
      "Expected POS tag: pleine|ADJ prediction: pleine|NOM\n",
      "Expected POS tag: Air|NAM prediction: Air|NOM\n",
      "Expected POS tag: seule|ADV prediction: seule|ADJ\n",
      "Expected POS tag: s'|KON prediction: s'|PRO:PER\n",
      "Expected POS tag: Entre-temps|ADV prediction: Entre-temps|NOM\n",
      "Expected POS tag: l'|PRO:PER prediction: l'|DET:ART\n",
      "Expected POS tag: aurez|VER:futu prediction: aurez|VER:impe\n",
      "Expected POS tag: micro|ADJ prediction: micro|NOM\n",
      "Expected POS tag: Total|NAM prediction: Total|NOM\n",
      "Expected POS tag: qu'|PRO:REL prediction: qu'|KON\n",
      "Expected POS tag: alors|ADV prediction: alors|KON\n",
      "Expected POS tag: pouvoir|VER:infi prediction: pouvoir|NOM\n",
      "Expected POS tag: fort|ADJ prediction: fort|ADV\n",
      "Expected POS tag: le|PRO:PER prediction: le|DET:ART\n",
      "Expected POS tag: licencier|VER:infi prediction: licencier|NOM\n",
      "Expected POS tag: la|PRO:PER prediction: la|DET:ART\n",
      "Expected POS tag: chloroforme|NOM prediction: chloroforme|ADJ\n",
      "Expected POS tag: salarié|VER:pper prediction: salarié|ADJ\n",
      "Expected POS tag: muni|VER:pper prediction: muni|VER:ppre\n",
      "Expected POS tag: cent|NOM prediction: cent|NUM\n",
      "Expected POS tag: mini-|ADV prediction: mini-|NOM\n",
      "Expected POS tag: MBB|NAM prediction: MBB|ABR\n",
      "Expected POS tag: tout|PRO:IND prediction: tout|ADV\n",
      "Expected POS tag: ô|INT prediction: ô|ADV\n",
      "Expected POS tag: prochain|ADJ prediction: prochain|ADV\n",
      "Expected POS tag: descendant|VER:ppre prediction: descendant|NOM\n",
      "Expected POS tag: autre|PRO:IND prediction: autre|ADJ\n",
      "Expected POS tag: Seule|ADV prediction: Seule|ADJ\n",
      "Expected POS tag: réserve|VER:pres prediction: réserve|NOM\n",
      "Expected POS tag: encombrant|VER:ppre prediction: encombrant|ADJ\n",
      "Expected POS tag: qu'|PRO:REL prediction: qu'|KON\n",
      "Expected POS tag: casanier|ADJ prediction: casanier|ADV\n",
      "Expected POS tag: consécutif|ADJ prediction: consécutif|NOM\n",
      "Expected POS tag: étroit|NOM prediction: étroit|ADJ\n",
      "Expected POS tag: l'|PRO:PER prediction: l'|DET:ART\n",
      "Expected POS tag: actionnaire|NOM prediction: actionnaire|ADJ\n",
      "Expected POS tag: le|PRO:PER prediction: le|DET:ART\n",
      "Expected POS tag: voulez|VER:pres prediction: voulez|PRO:PER\n",
      "Expected POS tag: l'|PRO:PER prediction: l'|DET:ART\n",
      "Expected POS tag: comme|KON prediction: comme|ADV\n",
      "Expected POS tag: ainsi|KON prediction: ainsi|ADV\n",
      "Expected POS tag: Un|NUM prediction: Un|DET:ART\n",
      "Expected POS tag: en|PRO:PER prediction: en|PRP\n",
      "Expected POS tag: choqua|VER:simp prediction: choqua|ADJ\n",
      "Expected POS tag: même|ADV prediction: même|ADJ\n",
      "Expected POS tag: revenu|VER:pper prediction: revenu|NOM\n",
      "Expected POS tag: dernier|ADJ prediction: dernier|NOM\n",
      "Expected POS tag: qu'|KON prediction: qu'|PRO:REL\n",
      "Expected POS tag: équilibrée|VER:pper prediction: équilibrée|ADJ\n",
      "Expected POS tag: strict|ADJ prediction: strict|NOM\n",
      "Expected POS tag: prêt|ADJ prediction: prêt|NOM\n",
      "Expected POS tag: tout|PRO:IND prediction: tout|ADV\n",
      "Expected POS tag: qu'|ADV prediction: qu'|KON\n",
      "Expected POS tag: maximale|ADJ prediction: maximale|NOM\n",
      "Expected POS tag: communiste|NOM prediction: communiste|ADJ\n",
      "Expected POS tag: le|PRO:PER prediction: le|DET:ART\n",
      "Expected POS tag: Seule|ADV prediction: Seule|ADJ\n",
      "Expected POS tag: en|PRO:PER prediction: en|PRP\n",
      "Expected POS tag: qu'|PRO:REL prediction: qu'|KON\n",
      "Expected POS tag: comme|ADV prediction: comme|KON\n",
      "Expected POS tag: alors|ADV prediction: alors|KON\n",
      "Expected POS tag: autres|PRO:IND prediction: autres|ADJ\n",
      "Expected POS tag: que|PRO:REL prediction: que|KON\n",
      "Expected POS tag: lourde|ADJ prediction: lourde|NOM\n",
      "Expected POS tag: en|PRO:PER prediction: en|PRP\n",
      "Expected POS tag: relative|ADJ prediction: relative|NOM\n",
      "Expected POS tag: qu'|PRO:REL prediction: qu'|KON\n",
      "Expected POS tag: que|PRO:REL prediction: que|KON\n",
      "Expected POS tag: que|PRO:REL prediction: que|KON\n",
      "Expected POS tag: hertziennes|ADJ prediction: hertziennes|VER:pper\n",
      "Expected POS tag: corresp.|ABR prediction: corresp.|PRO:DEM\n",
      "Expected POS tag: bang|NOM prediction: bang|ADJ\n",
      "Expected POS tag: que|PRO:REL prediction: que|KON\n",
      "Expected POS tag: flair|NOM prediction: flair|ADJ\n",
      "Expected POS tag: tout|PRO:IND prediction: tout|ADV\n",
      "Expected POS tag: mondial|ADJ prediction: mondial|NOM\n",
      "Expected POS tag: comme|ADV prediction: comme|KON\n",
      "Expected POS tag: pressante|VER:ppre prediction: pressante|ADJ\n",
      "Expected POS tag: là-bas|ADV prediction: là-bas|PRP\n",
      "Expected POS tag: toute|PRO:IND prediction: toute|ADV\n",
      "Expected POS tag: en|PRO:PER prediction: en|PRP\n",
      "Expected POS tag: exempts|ADJ prediction: exempts|VER:pper\n",
      "Expected POS tag: s'|PRO:PER prediction: s'|KON\n",
      "Expected POS tag: devant|VER:ppre prediction: devant|PRP\n",
      "Expected POS tag: ferme|ADJ prediction: ferme|NOM\n",
      "Expected POS tag: communiqué|NOM prediction: communiqué|VER:pper\n",
      "Expected POS tag: Force|NAM prediction: Force|NOM\n",
      "Expected POS tag: Ouvrière|NAM prediction: Ouvrière|ADJ\n",
      "Expected POS tag: en|PRO:PER prediction: en|PRP\n",
      "Expected POS tag: que|ADV prediction: que|KON\n",
      "Expected POS tag: Qu'|PRO:REL prediction: Qu'|KON\n",
      "Expected POS tag: en|PRO:PER prediction: en|PRP\n",
      "Expected POS tag: depuis|ADV prediction: depuis|PRP\n",
      "Expected POS tag: morte|VER:pper prediction: morte|ADJ\n",
      "Expected POS tag: Économiste|NOM prediction: Économiste|ADJ\n",
      "Expected POS tag: il|PRO:PER prediction: il|DET:ART\n",
      "Expected POS tag: hauts|NOM prediction: hauts|ADJ\n",
      "Expected POS tag: accrus|VER:pper prediction: accrus|ADJ\n",
      "Total  :  12640\n",
      "Correct:  12382\n",
      "Wrong  :  258\n",
      "Correct %:  97.95886075949367\n",
      "Wrong   %:  2.0411392405063293\n"
     ]
    }
   ],
   "source": [
    "# This code allows you to see the mislabelled examples\n",
    "\n",
    "y_dev_oh = to_categorical(Y_dev_indices, num_classes = numClasses)\n",
    "X_dev_indices = lists_to_indices(X_dev, word_to_index, maxLen)\n",
    "pred = model.predict(X_dev_indices)\n",
    "\n",
    "correct = 0\n",
    "wrong = 0\n",
    "\n",
    "\n",
    "for i in range(len(X_dev)-1):\n",
    "    for j in range(len(X_dev[i])):\n",
    "        num = np.argmax(pred[i][j])\n",
    "        if(num != Y_dev_indices[i][j]):\n",
    "            wrong = wrong + 1\n",
    "            print('Expected POS tag: '+ X_dev[i][j] + '|' + Y_dev[i][j] + ' prediction: '+ X_dev[i][j] + '|' + index_to_pos2[num])\n",
    "        else:\n",
    "            correct = correct + 1\n",
    "total = wrong + correct\n",
    "print(\"Total  : \", total)\n",
    "print(\"Correct: \", correct)\n",
    "print(\"Wrong  : \", wrong)\n",
    "\n",
    "cpct = (100*correct)/total\n",
    "wpct = (100*wrong)/total\n",
    "print(\"Correct %: \", cpct)\n",
    "print(\"Wrong   %: \", wpct)"
   ]
  },
  {
   "cell_type": "markdown",
   "metadata": {},
   "source": [
    "### POStagger results on development set\n",
    "\n",
    "| tagset | LTSM units | batchnorm | dropout | epochs | results |\n",
    "|:-----|---------:|:----------:|-------:|-----:|----------:|\n",
    "| tt | 128 | no | 0 |  50 | 98.50 |\n"
   ]
  },
  {
   "cell_type": "code",
   "execution_count": null,
   "metadata": {
    "collapsed": true
   },
   "outputs": [],
   "source": [
    "model.save('tt_pos.h5')"
   ]
  },
  {
   "cell_type": "markdown",
   "metadata": {},
   "source": [
    "## 5. Training the Supertagger\n",
    "\n",
    "We split the data as before, only using Z (supertags) instead of Y2 (treetagger POStag set) as the goal"
   ]
  },
  {
   "cell_type": "code",
   "execution_count": 185,
   "metadata": {},
   "outputs": [
    {
     "name": "stdout",
     "output_type": "stream",
     "text": [
      "Train:  (1195,)\n",
      "Test:   (398,)\n",
      "Dev:    (399,)\n"
     ]
    }
   ],
   "source": [
    "# split the training data into the standard 60% train, 20% dev, 20% test \n",
    "X_train, X_testdev, Y_super_train, Y_super_testdev = train_test_split(X, Z, test_size=0.4)\n",
    "X_test, X_dev, Y_super_test, Y_super_dev = train_test_split(X_testdev, Y_super_testdev, test_size=0.5)\n",
    "print(\"Train: \", X_train.shape)\n",
    "print(\"Test:  \", X_test.shape)\n",
    "print(\"Dev:   \", X_dev.shape)"
   ]
  },
  {
   "cell_type": "code",
   "execution_count": 245,
   "metadata": {
    "collapsed": true
   },
   "outputs": [],
   "source": [
    "# Super_model\n",
    "\n",
    "def Super_model(input_shape, word_to_vec_map, word_to_index):\n",
    "    \"\"\"\n",
    "    Function creating the Emojify-v2 model's graph.\n",
    "    \n",
    "    Arguments:\n",
    "    input_shape -- shape of the input, usually (max_len,)\n",
    "    word_to_vec_map -- dictionary mapping every word in a vocabulary into its 50-dimensional vector representation\n",
    "    word_to_index -- dictionary mapping from words to their indices in the vocabulary (400,001 words)\n",
    "\n",
    "    Returns:\n",
    "    model -- a model instance in Keras\n",
    "    \"\"\"\n",
    "    \n",
    "    # Define sentence_indices as the input of the graph, it should be of shape input_shape and dtype 'int32' (as it contains indices).\n",
    "    sentence_indices = Input(shape = input_shape, dtype = 'int32')\n",
    "    \n",
    "    # Create the embedding layer pretrained with GloVe Vectors (≈1 line)\n",
    "    embedding_layer = pretrained_embedding_layer(word_to_vec_map, word_to_index)\n",
    "    \n",
    "    # Propagate sentence_indices through your embedding layer, you get back the embeddings\n",
    "    embeddings = embedding_layer(sentence_indices)   \n",
    "    \n",
    "    # Propagate the embeddings through an LSTM layer with 128-dimensional hidden state\n",
    "    # returning a batch of sequences.\n",
    "    X = LSTM(128, return_sequences=True)(embeddings) \n",
    "    X = BatchNormalization()(X)\n",
    "    X = Dropout(0.5)(X)\n",
    "    \n",
    "    # Add a (time distributed) Dense layer followed by a softmax activation\n",
    "    X = TimeDistributed(Dense(numSuperClasses, activation='softmax'))(X)\n",
    "    \n",
    "    # Create Model instance which converts sentence_indices into X.\n",
    "    model = Model(inputs=sentence_indices,outputs=X)\n",
    "        \n",
    "    return model"
   ]
  },
  {
   "cell_type": "code",
   "execution_count": 246,
   "metadata": {},
   "outputs": [
    {
     "name": "stdout",
     "output_type": "stream",
     "text": [
      "_________________________________________________________________\n",
      "Layer (type)                 Output Shape              Param #   \n",
      "=================================================================\n",
      "input_9 (InputLayer)         (None, 119)               0         \n",
      "_________________________________________________________________\n",
      "embedding_14 (Embedding)     (None, 119, 514)          5154392   \n",
      "_________________________________________________________________\n",
      "lstm_9 (LSTM)                (None, 119, 128)          329216    \n",
      "_________________________________________________________________\n",
      "batch_normalization_9 (Batch (None, 119, 128)          512       \n",
      "_________________________________________________________________\n",
      "dropout_9 (Dropout)          (None, 119, 128)          0         \n",
      "_________________________________________________________________\n",
      "time_distributed_9 (TimeDist (None, 119, 518)          66822     \n",
      "=================================================================\n",
      "Total params: 5,550,942\n",
      "Trainable params: 396,294\n",
      "Non-trainable params: 5,154,648\n",
      "_________________________________________________________________\n"
     ]
    }
   ],
   "source": [
    "supermodel = Super_model((maxLen,), word_to_vec_map, word_to_index)\n",
    "supermodel.summary()"
   ]
  },
  {
   "cell_type": "code",
   "execution_count": 247,
   "metadata": {
    "collapsed": true
   },
   "outputs": [],
   "source": [
    "supermodel.compile(loss='categorical_crossentropy', optimizer='adam', metrics=['accuracy'])"
   ]
  },
  {
   "cell_type": "code",
   "execution_count": 248,
   "metadata": {
    "collapsed": true
   },
   "outputs": [],
   "source": [
    "X_train_indices = lists_to_indices(X_train, word_to_index, maxLen)\n",
    "Y_super_train_indices = lists_to_indices(Y_super_train, super_to_index, maxLen)\n",
    "Y_super_train_oh = to_categorical(Y_super_train_indices, num_classes=numSuperClasses)"
   ]
  },
  {
   "cell_type": "code",
   "execution_count": 249,
   "metadata": {},
   "outputs": [
    {
     "name": "stdout",
     "output_type": "stream",
     "text": [
      "151.0\n",
      "[ 0.  0.  0.  0.  0.  0.  0.  0.  0.  0.  0.  0.  0.  0.  0.  0.  0.  0.\n",
      "  0.  0.  0.  0.  0.  0.  0.  0.  0.  0.  0.  0.  0.  0.  0.  0.  0.  0.\n",
      "  0.  0.  0.  0.  0.  0.  0.  0.  0.  0.  0.  0.  0.  0.  0.  0.  0.  0.\n",
      "  0.  0.  0.  0.  0.  0.  0.  0.  0.  0.  0.  0.  0.  0.  0.  0.  0.  0.\n",
      "  0.  0.  0.  0.  0.  0.  0.  0.  0.  0.  0.  0.  0.  0.  0.  0.  0.  0.\n",
      "  0.  0.  0.  0.  0.  0.  0.  0.  0.  0.  0.  0.  0.  0.  0.  0.  0.  0.\n",
      "  0.  0.  0.  0.  0.  0.  0.  0.  0.  0.  0.  0.  0.  0.  0.  0.  0.  0.\n",
      "  0.  0.  0.  0.  0.  0.  0.  0.  0.  0.  0.  0.  0.  0.  0.  0.  0.  0.\n",
      "  0.  0.  0.  0.  0.  0.  0.  1.  0.  0.  0.  0.  0.  0.  0.  0.  0.  0.\n",
      "  0.  0.  0.  0.  0.  0.  0.  0.  0.  0.  0.  0.  0.  0.  0.  0.  0.  0.\n",
      "  0.  0.  0.  0.  0.  0.  0.  0.  0.  0.  0.  0.  0.  0.  0.  0.  0.  0.\n",
      "  0.  0.  0.  0.  0.  0.  0.  0.  0.  0.  0.  0.  0.  0.  0.  0.  0.  0.\n",
      "  0.  0.  0.  0.  0.  0.  0.  0.  0.  0.  0.  0.  0.  0.  0.  0.  0.  0.\n",
      "  0.  0.  0.  0.  0.  0.  0.  0.  0.  0.  0.  0.  0.  0.  0.  0.  0.  0.\n",
      "  0.  0.  0.  0.  0.  0.  0.  0.  0.  0.  0.  0.  0.  0.  0.  0.  0.  0.\n",
      "  0.  0.  0.  0.  0.  0.  0.  0.  0.  0.  0.  0.  0.  0.  0.  0.  0.  0.\n",
      "  0.  0.  0.  0.  0.  0.  0.  0.  0.  0.  0.  0.  0.  0.  0.  0.  0.  0.\n",
      "  0.  0.  0.  0.  0.  0.  0.  0.  0.  0.  0.  0.  0.  0.  0.  0.  0.  0.\n",
      "  0.  0.  0.  0.  0.  0.  0.  0.  0.  0.  0.  0.  0.  0.  0.  0.  0.  0.\n",
      "  0.  0.  0.  0.  0.  0.  0.  0.  0.  0.  0.  0.  0.  0.  0.  0.  0.  0.\n",
      "  0.  0.  0.  0.  0.  0.  0.  0.  0.  0.  0.  0.  0.  0.  0.  0.  0.  0.\n",
      "  0.  0.  0.  0.  0.  0.  0.  0.  0.  0.  0.  0.  0.  0.  0.  0.  0.  0.\n",
      "  0.  0.  0.  0.  0.  0.  0.  0.  0.  0.  0.  0.  0.  0.  0.  0.  0.  0.\n",
      "  0.  0.  0.  0.  0.  0.  0.  0.  0.  0.  0.  0.  0.  0.  0.  0.  0.  0.\n",
      "  0.  0.  0.  0.  0.  0.  0.  0.  0.  0.  0.  0.  0.  0.  0.  0.  0.  0.\n",
      "  0.  0.  0.  0.  0.  0.  0.  0.  0.  0.  0.  0.  0.  0.  0.  0.  0.  0.\n",
      "  0.  0.  0.  0.  0.  0.  0.  0.  0.  0.  0.  0.  0.  0.  0.  0.  0.  0.\n",
      "  0.  0.  0.  0.  0.  0.  0.  0.  0.  0.  0.  0.  0.  0.  0.  0.  0.  0.\n",
      "  0.  0.  0.  0.  0.  0.  0.  0.  0.  0.  0.  0.  0.  0.]\n"
     ]
    }
   ],
   "source": [
    "print(Y_super_train_indices[2][1])\n",
    "print(Y_super_train_oh[2][1])"
   ]
  },
  {
   "cell_type": "code",
   "execution_count": 250,
   "metadata": {
    "collapsed": true
   },
   "outputs": [],
   "source": [
    "X_dev_indices = lists_to_indices(X_dev, word_to_index, max_len = maxLen)\n",
    "Y_super_dev_indices = lists_to_indices(Y_super_dev, super_to_index, max_len = maxLen)\n",
    "Y_super_dev_oh = to_categorical(Y_super_dev_indices, num_classes = numSuperClasses)"
   ]
  },
  {
   "cell_type": "code",
   "execution_count": 254,
   "metadata": {},
   "outputs": [
    {
     "name": "stdout",
     "output_type": "stream",
     "text": [
      "Train on 1195 samples, validate on 399 samples\n",
      "Epoch 1/10\n",
      "1195/1195 [==============================] - 19s 16ms/step - loss: 0.7764 - acc: 0.7914 - val_loss: 0.8250 - val_acc: 0.7828\n",
      "Epoch 2/10\n",
      "1195/1195 [==============================] - 19s 16ms/step - loss: 0.7457 - acc: 0.7954 - val_loss: 0.8462 - val_acc: 0.7765\n",
      "Epoch 3/10\n",
      "1195/1195 [==============================] - 18s 15ms/step - loss: 0.7218 - acc: 0.7980 - val_loss: 0.8246 - val_acc: 0.7806\n",
      "Epoch 4/10\n",
      "1195/1195 [==============================] - 18s 15ms/step - loss: 0.7009 - acc: 0.8047 - val_loss: 0.8041 - val_acc: 0.7873\n",
      "Epoch 5/10\n",
      "1195/1195 [==============================] - 18s 15ms/step - loss: 0.6802 - acc: 0.8090 - val_loss: 0.7958 - val_acc: 0.7890\n",
      "Epoch 6/10\n",
      "1195/1195 [==============================] - 18s 15ms/step - loss: 0.6515 - acc: 0.8132 - val_loss: 0.8002 - val_acc: 0.7874\n",
      "Epoch 7/10\n",
      "1195/1195 [==============================] - 19s 16ms/step - loss: 0.6324 - acc: 0.8161 - val_loss: 0.8125 - val_acc: 0.7873\n",
      "Epoch 8/10\n",
      "1195/1195 [==============================] - 19s 16ms/step - loss: 0.6172 - acc: 0.8214 - val_loss: 0.8139 - val_acc: 0.7860\n",
      "Epoch 9/10\n",
      "1195/1195 [==============================] - 18s 15ms/step - loss: 0.5993 - acc: 0.8246 - val_loss: 0.8038 - val_acc: 0.7869\n",
      "Epoch 10/10\n",
      "1195/1195 [==============================] - 18s 15ms/step - loss: 0.5799 - acc: 0.8285 - val_loss: 0.8015 - val_acc: 0.7891\n"
     ]
    }
   ],
   "source": [
    "history = supermodel.fit(X_train_indices, Y_super_train_oh, epochs = 10, batch_size = 32, shuffle=True, validation_data=(X_dev_indices,Y_super_dev_oh))"
   ]
  },
  {
   "cell_type": "code",
   "execution_count": 255,
   "metadata": {},
   "outputs": [
    {
     "data": {
      "image/png": "[encoded data removed]",
      "text/plain": [
       "<matplotlib.figure.Figure at 0x1a3e444a20>"
      ]
     },
     "metadata": {},
     "output_type": "display_data"
    }
   ],
   "source": [
    "plt.plot(history.history['loss'])\n",
    "plt.plot(history.history['val_loss'])\n",
    "plt.title('model train vs validation loss')\n",
    "plt.ylabel('loss')\n",
    "plt.xlabel('epoch')\n",
    "plt.legend(['train', 'validation'], loc='upper right')\n",
    "plt.show()"
   ]
  },
  {
   "cell_type": "code",
   "execution_count": 256,
   "metadata": {},
   "outputs": [
    {
     "data": {
      "image/png": "[encoded data removed]",
      "text/plain": [
       "<matplotlib.figure.Figure at 0x1a3e4def28>"
      ]
     },
     "metadata": {},
     "output_type": "display_data"
    }
   ],
   "source": [
    "plt.plot(history.history['acc'])\n",
    "plt.plot(history.history['val_acc'])\n",
    "plt.title('model train vs validation accuracy')\n",
    "plt.ylabel('accuracy')\n",
    "plt.xlabel('epoch')\n",
    "plt.legend(['train', 'validation'], loc='upper right')\n",
    "plt.show()"
   ]
  },
  {
   "cell_type": "code",
   "execution_count": 195,
   "metadata": {},
   "outputs": [
    {
     "name": "stdout",
     "output_type": "stream",
     "text": [
      "399/399 [==============================] - 4s 9ms/step\n",
      "\n",
      "Test accuracy =  0.772707043286\n"
     ]
    }
   ],
   "source": [
    "loss, acc = supermodel.evaluate(X_dev_indices, Y_super_dev_oh)\n",
    "print()\n",
    "print(\"Test accuracy = \", acc)"
   ]
  },
  {
   "cell_type": "code",
   "execution_count": null,
   "metadata": {
    "collapsed": true
   },
   "outputs": [],
   "source": [
    "supermodel.save('supertagger.h5')"
   ]
  },
  {
   "cell_type": "markdown",
   "metadata": {},
   "source": [
    "### Supertagger results on development set\n",
    "\n",
    "| LTSM units | batchnorm | dropout | epochs | results |\n",
    "|---------:|:----------:|-------:|----:|----------:|\n",
    "| 128 | yes | .2 |  50 | 80.21 |\n",
    "| 256 | yes | .2 |  50 | |"
   ]
  },
  {
   "cell_type": "code",
   "execution_count": 303,
   "metadata": {
    "collapsed": true
   },
   "outputs": [],
   "source": [
    "def tag_sequence(sentence, model, wmap, imap):\n",
    "    list = sentence.strip().split()\n",
    "    arr = np.array([list])\n",
    "    indices = lists_to_indices(arr, wmap, max_len = maxLen, normalize=True)\n",
    "    pred = model.predict(indices)\n",
    "    for j in range(len(list)):\n",
    "        num = np.argmax(pred[0][j])        \n",
    "        print(list[j] + '|' + imap[num], end=' ')\n",
    "\n"
   ]
  },
  {
   "cell_type": "code",
   "execution_count": 304,
   "metadata": {},
   "outputs": [
    {
     "name": "stdout",
     "output_type": "stream",
     "text": [
      "yves|NOM acceptera|VER:futu le|DET:ART lait|NOM "
     ]
    }
   ],
   "source": [
    "tag_sequence(\"yves acceptera le lait\", model, word_to_index, index_to_pos2)"
   ]
  },
  {
   "cell_type": "code",
   "execution_count": 305,
   "metadata": {},
   "outputs": [
    {
     "name": "stdout",
     "output_type": "stream",
     "text": [
      "yves|dr(0,np,np) acceptera|dr(0,dl(0,np,s),np) le|dr(0,np,n) lait|n "
     ]
    }
   ],
   "source": [
    "tag_sequence(\"yves acceptera le lait\", supermodel, word_to_index, index_to_super)"
   ]
  },
  {
   "cell_type": "code",
   "execution_count": 312,
   "metadata": {},
   "outputs": [],
   "source": [
    "def print_tagged(X, model, wmap, imap, maxLen):\n",
    "\n",
    "    Xi = lists_to_indices(X, wmap, maxLen)\n",
    "    pred = model.predict(Xi) \n",
    "    \n",
    "    for i in range(len(X)-1):\n",
    "        for j in range(len(X[i])):\n",
    "            num = np.argmax(pred[i][j])\n",
    "            print(X[i][j] + '|' + imap[num], end = ' ')\n",
    "        print()\n",
    "\n",
    "def print_tagged_beta(X, model, beta, wmap, imap, maxLen):\n",
    "\n",
    "    Xi = lists_to_indices(X, wmap, maxLen)\n",
    "    pred = model.predict(Xi) \n",
    "    \n",
    "    for i in range(len(X)-1):\n",
    "        for j in range(len(X[i])):\n",
    "            maxp = np.max(pred[i][j])\n",
    "            bm = beta * maxp\n",
    "            tags = {}\n",
    "            for k in range(len(pred[i][j])):\n",
    "                thisprob = pred[i][j][k]\n",
    "                if (pred[i][j][k] >= bm):\n",
    "                    tags[k] = thisprob\n",
    "            print(X[i][j], end = '')\n",
    "            print('|', end='')\n",
    "            print(len(tags), end='')\n",
    "            for key,value in tags.items():\n",
    "                print('|', end='')\n",
    "                print(imap[key], end='')\n",
    "                print('|', end='')\n",
    "                print(value, end='')\n",
    "            print(' ', end='')    \n",
    "        print()\n",
    "\n",
    "        \n",
    "def predict_beta(vec,beta):\n",
    "    tags = {}\n",
    "    maxp = np.max(vec)\n",
    "    bm = maxp * beta\n",
    "    for k in range(len(vec)):\n",
    "        kprob = vec[k]\n",
    "        if (kprob >= bm):\n",
    "            tags[k] = kprob\n",
    "    return tags"
   ]
  },
  {
   "cell_type": "code",
   "execution_count": 313,
   "metadata": {},
   "outputs": [
    {
     "name": "stdout",
     "output_type": "stream",
     "text": [
      "A|PRP propos|NOM des|PRP:det conjoints|NOM (|PUN principale|ADJ préoccupation|NOM des|PRP:det agents|NOM concernés|VER:pper )|PUN ,|PUN le|DET:ART plan|NOM se|PRO:PER contente|VER:pres de|PRP préciser|VER:infi que|KON la|DET:ART condition|NOM de|PRP ceux|PRO:DEM qui|PRO:REL sont|VER:pres non|ADV fonctionnaires|NOM et|KON seront|VER:futu obligés|VER:pper de|PRP quitter|VER:infi leur|DET:POS emploi|NOM sera|VER:futu examinée|VER:pper par|PRP l'|DET:ART ANPE|ABR .|PUN \n",
      "Il|PRO:PER ne|ADV fait|VER:pres aucun|PRO:IND doute|NOM que|KON ,|PUN les|DET:ART élections|NOM approchant|VER:ppre ,|PUN les|DET:ART propos|NOM optimistes|ADJ se|PRO:PER feront|VER:futu de|PRP plus|ADV en|PRP plus|ADV nombreux|ADJ de|PRP la|DET:ART part|NOM d'|PRP une|DET:ART administration|NOM à|PRP la|DET:ART recherche|NOM d'|PRP un|DET:ART nouveau|ADJ mandat|NOM .|PUN \n",
      "Oui|ADV ,|PUN une|DET:ART banque|NOM se|PRO:PER doit|VER:pres de|PRP prendre|VER:infi des|PRP:det risques|NOM :|PUN on|PRO:PER leur|PRO:PER reproche|VER:pres assez|ADV leur|DET:POS timidité|NOM ,|PUN leurs|DET:POS prises|NOM de|PRP garantie|NOM multiples|ADJ ,|PUN quand|KON l'|DET:ART emploi|NOM est|VER:pres en|PRP jeu|NOM .|PUN \n"
     ]
    }
   ],
   "source": [
    "print_tagged(X_dev[1:5], model, word_to_index, index_to_pos2, maxLen)"
   ]
  },
  {
   "cell_type": "code",
   "execution_count": 314,
   "metadata": {},
   "outputs": [
    {
     "name": "stdout",
     "output_type": "stream",
     "text": [
      "A|dr(0,dr(0,s,s),np) propos|n des|dr(0,np,n) conjoints|n (|let principale|n préoccupation|n des|dr(0,dl(0,n,n),n) agents|n concernés|dl(0,n,n) )|let ,|let le|dr(0,np,n) plan|n se|cl_r contente|dr(0,dl(0,cl_r,dl(0,np,s)),dl(0,n,n)) de|dr(0,dl(0,np,s_inf),dl(0,np,s_inf)) préciser|dr(0,dl(0,np,s_inf),np) que|dr(0,s_q,s) la|dr(0,np,n) condition|n de|dr(0,dl(0,n,n),dl(0,np,s_inf)) ceux|np qui|dr(0,dl(0,np,np),dl(0,np,s)) sont|dr(0,dl(0,np,s),dl(0,np,s_pass)) non|dr(0,dl(1,s,s),dl(1,s,s)) fonctionnaires|np et|dr(0,dl(0,np,np),np) seront|dr(0,dl(0,np,s),dl(0,np,s_pass)) obligés|dr(0,dl(0,np,s_pass),dl(0,np,s_inf)) de|dr(0,dl(0,np,s_inf),dl(0,np,s_inf)) quitter|dr(0,dl(0,np,s_inf),np) leur|dr(0,np,n) emploi|n sera|dr(0,dl(0,np,s),dl(0,np,s_pass)) examinée|dl(0,np,s_pass) par|dr(0,pp_par,np) l'|dr(0,np,n) ANPE|n .|dl(0,s,txt) \n",
      "Il|np ne|dr(0,dl(0,np,s),dl(0,np,s)) fait|dr(0,dr(0,dl(0,np,s),pp_de),np) aucun|dr(0,np,n) doute|n que|dr(0,s_q,s) ,|let les|dr(0,np,n) élections|n approchant|dr(0,dl(0,np,s_ppres),np) ,|let les|dr(0,np,n) propos|n optimistes|dl(0,n,n) se|cl_r feront|dl(0,cl_r,dl(0,np,s)) de|dr(0,pp_de,np) plus|np en|dr(0,dl(0,pp_de,dl(1,s,s)),dl(1,s,s)) plus|dr(0,dl(0,n,n),dl(0,n,n)) nombreux|dl(0,n,n) de|dr(0,pp_de,n) la|dr(0,np,n) part|n d'|dr(0,dl(0,n,n),np) une|dr(0,np,n) administration|n à|dr(0,dl(0,n,n),n) la|dr(0,np,n) recherche|n d'|dr(0,dl(0,n,n),np) un|dr(0,np,n) nouveau|dr(0,n,n) mandat|n .|dl(0,s,txt) \n",
      "Oui|dr(0,s,s) ,|let une|dr(0,np,n) banque|n se|cl_r doit|dr(0,dl(0,np,s),dl(0,np,s_inf)) de|dr(0,dl(0,np,s_inf),dl(0,np,s_inf)) prendre|dr(0,dl(0,np,s_inf),np) des|dr(0,np,n) risques|n :|dr(0,dl(0,s,s),s) on|np leur|dr(0,dl(0,np,s),dr(0,dl(0,np,s),dia(1,box(1,pp_a)))) reproche|n assez|dr(0,dl(1,s,s),dl(1,s,s)) leur|dr(0,np,n) timidité|n ,|let leurs|dr(0,np,n) prises|n de|dr(0,dl(0,n,n),n) garantie|n multiples|dl(0,n,n) ,|let quand|dr(0,dl(1,s,s),s) l'|dr(0,np,n) emploi|n est|dr(0,dl(0,np,s),dl(0,n,n)) en|dr(0,pp,n) jeu|n .|dl(0,s,txt) \n"
     ]
    }
   ],
   "source": [
    "print_tagged(X_dev[1:5], supermodel, word_to_index, index_to_super, maxLen)"
   ]
  },
  {
   "cell_type": "code",
   "execution_count": 315,
   "metadata": {},
   "outputs": [
    {
     "name": "stdout",
     "output_type": "stream",
     "text": [
      "A|2|dr(0,dr(0,s,s),n)|0.111666|dr(0,dr(0,s,s),np)|0.767915 propos|2|n|0.468681|dr(0,n,pp_de)|0.457682 des|2|dr(0,np,n)|0.870016|dr(0,pp_de,n)|0.103846 conjoints|1|n|0.998239 (|3|dr(0,dl(0,n,n),n)|0.0596518|let|0.518719|dr(0,dl(0,np,np),np)|0.272697 principale|2|n|0.572758|dr(0,n,n)|0.405027 préoccupation|1|n|0.999454 des|1|dr(0,dl(0,n,n),n)|0.976948 agents|1|n|0.999983 concernés|1|dl(0,n,n)|0.978061 )|1|let|0.99202 ,|1|let|0.872162 le|1|dr(0,np,n)|0.990728 plan|1|n|0.999861 se|1|cl_r|0.999855 contente|5|dr(0,dl(0,cl_r,dl(0,np,s)),dl(0,n,n))|0.303658|dl(0,cl_r,dl(0,np,s))|0.0420082|dr(0,dl(0,cl_r,dl(0,np,s)),pp_de)|0.0304842|dr(0,dl(0,cl_r,dl(0,np,s)),dl(0,np,s_inf))|0.27917|dr(0,dl(0,cl_r,dl(0,np,s)),s_q)|0.185643 de|1|dr(0,dl(0,np,s_inf),dl(0,np,s_inf))|0.991917 préciser|1|dr(0,dl(0,np,s_inf),np)|0.991679 que|1|dr(0,s_q,s)|0.887036 la|1|dr(0,np,n)|0.998633 condition|1|n|0.99993 de|4|dr(0,dl(0,n,n),n)|0.279869|dr(0,dl(0,n,n),dl(0,np,s_inf))|0.358178|dr(0,dl(0,np,s_inf),dl(0,np,s_inf))|0.124039|dr(0,dl(0,n,n),np)|0.229163 ceux|1|np|0.995427 qui|1|dr(0,dl(0,np,np),dl(0,np,s))|0.99088 sont|4|dr(0,dl(0,np,s),dl(0,n,n))|0.230926|dr(0,dl(0,np,s),np)|0.238485|dr(0,dr(0,s,np),dl(0,np,s_pass))|0.047509|dr(0,dl(0,np,s),dl(0,np,s_pass))|0.335604 non|4|dr(0,dl(1,s,s),dl(1,s,s))|0.426621|dr(0,dl(0,np,s),dl(0,np,s))|0.234319|dl(1,s,s)|0.159854|dr(0,dl(0,n,n),dl(0,n,n))|0.0897668 fonctionnaires|2|n|0.152524|np|0.753799 et|4|dr(0,dl(0,s,s),s)|0.0696721|dr(0,dl(0,np,np),np)|0.599206|dr(0,dl(0,dl(0,n,n),dl(0,n,n)),dl(0,n,n))|0.0733728|dr(0,dl(0,pp,pp),pp)|0.069849 seront|2|dr(0,dl(0,np,s),dl(0,n,n))|0.152195|dr(0,dl(0,np,s),dl(0,np,s_pass))|0.751176 obligés|2|dr(0,dl(0,n,n),dl(0,np,s_inf))|0.299041|dr(0,dl(0,np,s_pass),dl(0,np,s_inf))|0.653464 de|1|dr(0,dl(0,np,s_inf),dl(0,np,s_inf))|0.998579 quitter|1|dr(0,dl(0,np,s_inf),np)|0.960373 leur|1|dr(0,np,n)|0.997291 emploi|1|n|0.999968 sera|2|dr(0,dl(0,np,s),dl(0,n,n))|0.363526|dr(0,dl(0,np,s),dl(0,np,s_pass))|0.597265 examinée|2|dr(0,dl(0,np,s_pass),pp_par)|0.24631|dl(0,np,s_pass)|0.650137 par|1|dr(0,pp_par,np)|0.926792 l'|1|dr(0,np,n)|0.99606 ANPE|1|n|0.999869 .|1|dl(0,s,txt)|0.972921 \n",
      "Il|1|np|0.992953 ne|1|dr(0,dl(0,np,s),dl(0,np,s))|0.995764 fait|7|dr(0,dl(0,np,s),dl(0,np,s_inf))|0.0535731|dr(0,dr(0,s,np),np)|0.0311469|dr(0,dr(0,dl(0,np,s),pp_a),np)|0.0779814|dr(0,dl(0,np,s_ppart),np)|0.0729012|dr(0,dr(0,dl(0,np,s),pp_de),np)|0.251774|dr(0,dl(0,np,s),s_q)|0.112838|dr(0,dl(0,np,s),np)|0.159381 aucun|2|dr(0,np,n)|0.777447|np|0.154347 doute|1|n|0.986473 que|1|dr(0,s_q,s)|0.803063 ,|1|let|0.979435 les|1|dr(0,np,n)|0.995174 élections|1|n|0.999991 approchant|10|dr(0,dl(0,np,s_ppres),dl(0,n,n))|0.0366364|dr(0,dl(0,np,s_ppres),np)|0.235336|dr(0,dl(0,n,n),pp_a)|0.0337953|dr(0,dl(0,np,s_ppres),pp)|0.0319157|dl(0,np,s_ppres)|0.0374914|dr(0,dl(0,np,s_ppres),dl(0,np,s_inf))|0.0771125|dr(0,dl(0,n,n),pp_de)|0.0248524|dl(0,n,n)|0.22539|dr(0,dl(0,n,n),np)|0.0308955|dr(0,dl(0,n,n),dl(0,n,n))|0.0416605 ,|1|let|0.980937 les|1|dr(0,np,n)|0.994875 propos|1|n|0.966696 optimistes|1|dl(0,n,n)|0.995073 se|1|cl_r|0.999922 feront|5|dr(0,dl(0,cl_r,dl(0,np,s)),dl(0,n,n))|0.299975|dl(0,cl_r,dl(0,np,s))|0.308265|dr(0,dl(0,cl_r,dl(0,np,s)),pp_de)|0.118627|dr(0,dl(0,cl_r,dl(0,np,s)),np)|0.0430821|dr(0,dl(0,cl_r,dl(0,np,s)),dl(0,np,s_inf))|0.0521748 de|2|dr(0,pp_de,np)|0.663278|dr(0,dl(0,np,s_inf),dl(0,np,s_inf))|0.246292 plus|5|dr(0,dl(1,s,s),dl(1,s,s))|0.100615|np|0.295688|dr(0,np,pp_de)|0.256672|dr(0,dr(0,n,n),dr(0,n,n))|0.0730617|dl(1,s,s)|0.112941 en|6|dr(0,dl(0,pp_de,dl(0,n,n)),dl(0,n,n))|0.12852|dr(0,dl(0,np,s),dr(0,dl(0,np,s),dia(1,box(1,pp_de))))|0.0388952|dr(0,pp,n)|0.149077|dr(0,dl(1,s,s),n)|0.0773234|dr(0,dl(0,pp_de,dl(1,s,s)),dl(1,s,s))|0.342369|dr(0,dl(1,s,s),np)|0.0635881 plus|5|dr(0,dl(1,s,s),dl(1,s,s))|0.0509745|dr(0,np,pp_de)|0.184409|dr(0,dr(0,dl(0,n,n),s_q),dl(0,n,n))|0.0615238|dl(1,s,s)|0.0737023|dr(0,dl(0,n,n),dl(0,n,n))|0.458793 nombreux|1|dl(0,n,n)|0.887111 de|7|dr(0,dl(0,n,n),n)|0.199096|dr(0,dl(0,np,np),dl(0,np,s_inf))|0.0403708|dr(0,dl(0,np,np),n)|0.206139|dr(0,dl(0,n,n),dl(0,np,s_inf))|0.0349918|dr(0,pp_de,n)|0.276213|dr(0,dl(0,np,s_inf),dl(0,np,s_inf))|0.102368|dr(0,dl(0,n,n),np)|0.0388589 la|1|dr(0,np,n)|0.981493 part|1|n|0.999326 d'|3|dr(0,dl(0,n,n),n)|0.296414|dr(0,dl(0,n,n),dl(0,np,s_inf))|0.0544755|dr(0,dl(0,n,n),np)|0.533282 une|1|dr(0,np,n)|0.997099 administration|1|n|0.999994 à|3|dr(0,dl(0,n,n),n)|0.480947|dr(0,dl(0,np,np),np)|0.0517916|dr(0,dl(0,n,n),np)|0.343209 la|1|dr(0,np,n)|0.990173 recherche|1|n|0.999749 d'|2|dr(0,dl(0,n,n),n)|0.254624|dr(0,dl(0,n,n),np)|0.736494 un|1|dr(0,np,n)|0.99538 nouveau|2|n|0.249508|dr(0,n,n)|0.749782 mandat|1|n|0.999802 .|1|dl(0,s,txt)|0.986203 \n",
      "Oui|2|np|0.217793|dr(0,s,s)|0.712228 ,|1|let|0.941331 une|1|dr(0,np,n)|0.991797 banque|1|n|0.999664 se|1|cl_r|0.999851 doit|2|dr(0,dl(0,np,s),dl(0,np,s_inf))|0.634554|dr(0,dl(0,cl_r,dl(0,np,s)),s_q)|0.298613 de|1|dr(0,dl(0,np,s_inf),dl(0,np,s_inf))|0.986986 prendre|2|dr(0,dl(0,np,s_inf),np)|0.832661|dr(0,dr(0,dl(0,np,s_inf),pp),np)|0.142721 des|1|dr(0,np,n)|0.995663 risques|1|n|0.99999 :|3|dr(0,dl(0,s,s),np)|0.128879|dr(0,dl(0,s,s),s)|0.499089|dr(0,dl(0,np,np),np)|0.313409 on|1|np|0.999641 leur|3|dr(0,dl(0,np,s),dr(0,dl(0,np,s),dia(1,box(1,pp_a))))|0.41456|dr(0,dl(0,np,s),dr(0,dl(0,np,s),dia(1,box(1,np))))|0.194949|dr(0,np,n)|0.387913 reproche|3|n|0.46417|dr(0,dr(0,dl(0,np,s),dl(0,np,s_inf)),np)|0.191779|dr(0,dr(0,dl(0,np,s),dl(0,np,s_inf)),pp_a)|0.110619 assez|3|dr(0,dl(1,s,s),dl(1,s,s))|0.577303|dl(1,s,s)|0.161068|dr(0,dl(0,n,n),dl(0,n,n))|0.215892 leur|1|dr(0,np,n)|0.975316 timidité|1|n|0.999947 ,|1|let|0.807834 leurs|1|dr(0,np,n)|0.996965 prises|1|n|0.959866 de|2|dr(0,dl(0,n,n),n)|0.591621|dr(0,dl(0,n,n),np)|0.301015 garantie|1|n|0.999912 multiples|1|dl(0,n,n)|0.971215 ,|3|dr(0,dl(0,n,n),n)|0.0950508|let|0.558836|dr(0,dl(0,np,np),np)|0.17345 quand|1|dr(0,dl(1,s,s),s)|0.75626 l'|1|dr(0,np,n)|0.985355 emploi|1|n|0.999996 est|5|dr(0,dl(0,np,s),dl(0,np,s_ppart))|0.158306|dr(0,dl(0,np,s),dl(0,n,n))|0.304176|dr(0,dl(0,np,s),np)|0.221833|dr(0,dl(0,np,s),pp)|0.103273|dr(0,dl(0,np,s),dl(0,np,s_pass))|0.182033 en|2|dr(0,pp,n)|0.711749|dr(0,dl(1,s,s),n)|0.171584 jeu|1|n|0.99956 .|1|dl(0,s,txt)|0.963012 \n"
     ]
    }
   ],
   "source": [
    "print_tagged_beta(X_dev[1:5], supermodel, 0.1, word_to_index, index_to_super, maxLen)"
   ]
  },
  {
   "cell_type": "code",
   "execution_count": null,
   "metadata": {
    "collapsed": true
   },
   "outputs": [],
   "source": []
  }
 ],
 "metadata": {
  "coursera": {
   "course_slug": "nlp-sequence-models",
   "graded_item_id": "RNnEs",
   "launcher_item_id": "acNYU"
  },
  "kernelspec": {
   "display_name": "Python 3",
   "language": "python",
   "name": "python3"
  },
  "language_info": {
   "codemirror_mode": {
    "name": "ipython",
    "version": 3
   },
   "file_extension": ".py",
   "mimetype": "text/x-python",
   "name": "python",
   "nbconvert_exporter": "python",
   "pygments_lexer": "ipython3",
   "version": "3.6.3"
  }
 },
 "nbformat": 4,
 "nbformat_minor": 2
}
