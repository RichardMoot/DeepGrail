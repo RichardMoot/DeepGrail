{
 "cells": [
  {
   "cell_type": "markdown",
   "metadata": {},
   "source": [
    "# LSTM part-of-speech tagging for the French Treebank: \n",
    "\n",
    "This notebook trains a part-of-speech tagger for the French Treebank using a vanilla bi-direction LSTM network.\n",
    "\n",
    "Run the following cell to load the Keras packages."
   ]
  },
  {
   "cell_type": "code",
   "execution_count": 1,
   "metadata": {},
   "outputs": [
    {
     "name": "stderr",
     "output_type": "stream",
     "text": [
      "Using TensorFlow backend.\n"
     ]
    }
   ],
   "source": [
    "import numpy as np\n",
    "import matplotlib.pyplot as plt\n",
    "import pandas as pd\n",
    "import re\n",
    "\n",
    "from keras.models import Model\n",
    "from keras.layers import Bidirectional, Dense, Input, Dropout, LSTM, Activation, TimeDistributed, BatchNormalization, concatenate, Concatenate\n",
    "from keras.layers.embeddings import Embedding\n",
    "from keras.preprocessing import sequence\n",
    "from keras.utils import to_categorical\n",
    "from keras.initializers import glorot_uniform\n",
    "from sklearn.model_selection import train_test_split\n",
    "\n",
    "from grail_data_utils import *\n",
    "\n",
    "%matplotlib inline\n",
    "\n",
    "np.random.seed(1)"
   ]
  },
  {
   "cell_type": "code",
   "execution_count": null,
   "metadata": {
    "collapsed": true
   },
   "outputs": [],
   "source": [
    "# very small initial part of corpus (only file aa1)\n",
    "# X, Y1, Y2, Z, vocabulary, vnorm, partsofspeech1, partsofspeech2, superset, maxLen = read_maxentdata('aa1.txt')"
   ]
  },
  {
   "cell_type": "code",
   "execution_count": 4,
   "metadata": {
    "collapsed": true
   },
   "outputs": [],
   "source": [
    "# small initial part of corpus (files aa1, aa2, ab2 and ae1)\n",
    "# number of sentences, train: 1195, test: 398, dev: 399  \n",
    "# X, Y1, Y2, Z, vocabulary, vnorm, partsofspeech1, partsofspeech2, superset, maxLen = read_maxentdata('aa1_ae1.txt')"
   ]
  },
  {
   "cell_type": "code",
   "execution_count": 63,
   "metadata": {
    "collapsed": true
   },
   "outputs": [],
   "source": [
    "# entire corpus\n",
    "# number of sentences, train: 9449, test: 3150, dev: 3150\n",
    "X, Y1, Y2, Z, vocabulary, vnorm, partsofspeech1, partsofspeech2, superset, maxLen = read_maxentdata('m2.txt')"
   ]
  },
  {
   "cell_type": "code",
   "execution_count": 61,
   "metadata": {},
   "outputs": [
    {
     "name": "stdout",
     "output_type": "stream",
     "text": [
      "\n",
      "Longest sentence   :  266\n",
      "Number of POS tags :  32\n",
      "Number of supertags:  891\n"
     ]
    }
   ],
   "source": [
    "numClasses = len(partsofspeech2)+1\n",
    "numSuperClasses = len(superset)+1\n",
    "\n",
    "print()\n",
    "print(\"Longest sentence   : \", maxLen)\n",
    "print(\"Number of POS tags : \", numClasses)\n",
    "print(\"Number of supertags: \", numSuperClasses)\n"
   ]
  },
  {
   "cell_type": "markdown",
   "metadata": {},
   "source": [
    "## 1. Split the input into train/dev/test\n",
    "\n",
    "Split the full training set into 60% train, 20% dev and 20% test."
   ]
  },
  {
   "cell_type": "code",
   "execution_count": 62,
   "metadata": {},
   "outputs": [
    {
     "name": "stdout",
     "output_type": "stream",
     "text": [
      "Train:  (9449,)\n",
      "Test:   (3150,)\n",
      "Dev:    (3150,)\n"
     ]
    }
   ],
   "source": [
    "# split the training data into the standard 60% train, 20% dev, 20% test \n",
    "X_train, X_testdev, Y_train, Y_testdev = train_test_split(X, Y2, test_size=0.4)\n",
    "X_test, X_dev, Y_test, Y_dev = train_test_split(X_testdev, Y_testdev, test_size=0.5)\n",
    "print(\"Train: \", X_train.shape)\n",
    "print(\"Test:  \", X_test.shape)\n",
    "print(\"Dev:   \", X_dev.shape)\n"
   ]
  },
  {
   "cell_type": "markdown",
   "metadata": {},
   "source": [
    "## 2. Create auxiliary mappings\n",
    "\n",
    "Create mappings from supertags and the two sets of part-of-speech tags to integers and back."
   ]
  },
  {
   "cell_type": "code",
   "execution_count": 64,
   "metadata": {},
   "outputs": [
    {
     "name": "stdout",
     "output_type": "stream",
     "text": [
      "{'PRO:REL': 1, 'VER:simp': 2, 'NAM': 3, 'VER:ppre': 4, 'DET:ART': 5, 'SYM': 6, 'ABR': 7, 'ADJ': 8, 'KON': 9, 'VER:cond': 10, 'VER:pres': 11, 'NOM': 12, 'VER:futu': 13, 'INT': 14, 'VER:impf': 15, 'NUM': 16, 'PRO:IND': 17, 'PUN': 18, 'PRO:PER': 19, 'PRO': 20, 'ADV': 21, 'VER:subp': 22, 'PRP:det': 23, 'VER:pper': 24, 'VER:impe': 25, 'PUN:cit': 26, 'DET:POS': 27, 'PRO:DEM': 28, 'PRO:POS': 29, 'VER:infi': 30, 'PRP': 31}\n"
     ]
    }
   ],
   "source": [
    "# create mapping for the two POS tagset and for the supertags\n",
    "\n",
    "super_to_index, index_to_super = indexify(superset)\n",
    "pos1_to_index, index_to_pos1 = indexify(partsofspeech1)\n",
    "pos2_to_index, index_to_pos2 = indexify(partsofspeech2)\n",
    "print(pos2_to_index)"
   ]
  },
  {
   "cell_type": "markdown",
   "metadata": {},
   "source": [
    "## 3. Obtain the word vector information\n",
    "\n",
    "We are using a shell call to the compiled fastText code to produce a file _vectors.txt_ with the relevant vectors. "
   ]
  },
  {
   "cell_type": "markdown",
   "metadata": {},
   "source": [
    "### 3.1. Special treatment for numbers\n",
    "\n",
    "fastText does not include native numbers; internally, these are translated into sequences of the words \"zéro\", \"un\", etc. \n",
    "\n",
    "We add new entries averaging over the number symbols for numbers appearing in the French Treebank."
   ]
  },
  {
   "cell_type": "code",
   "execution_count": 9,
   "metadata": {
    "collapsed": true
   },
   "outputs": [],
   "source": [
    "with open(\"num_vec.txt\", 'r') as f:\n",
    "    number = {}\n",
    "    for line in f:\n",
    "        line = line.strip().split()\n",
    "        numc = line[0]\n",
    "        emb = np.array(line[1:], dtype=np.float64)\n",
    "        number[numc] = emb"
   ]
  },
  {
   "cell_type": "code",
   "execution_count": 10,
   "metadata": {},
   "outputs": [
    {
     "name": "stdout",
     "output_type": "stream",
     "text": [
      "0\n",
      "1\n",
      "2\n",
      "3\n",
      "4\n",
      "5\n",
      "6\n",
      "7\n",
      "8\n",
      "9\n",
      ",\n",
      ".\n",
      "-\n",
      "/\n"
     ]
    }
   ],
   "source": [
    "for i in number.keys():\n",
    "    print(i)"
   ]
  },
  {
   "cell_type": "markdown",
   "metadata": {
    "collapsed": true
   },
   "source": [
    "### 3.2. Feature vectors"
   ]
  },
  {
   "cell_type": "markdown",
   "metadata": {},
   "source": [
    "#### Suffixes"
   ]
  },
  {
   "cell_type": "code",
   "execution_count": null,
   "metadata": {
    "scrolled": true
   },
   "outputs": [],
   "source": [
    "french_suffixes = read_suffixes('suffixes.txt')\n",
    "print(len(french_suffixes))"
   ]
  },
  {
   "cell_type": "code",
   "execution_count": 18,
   "metadata": {},
   "outputs": [
    {
     "data": {
      "text/plain": [
       "array([ 0.,  0.,  0.,  0.,  0.,  0.,  0.,  0.,  0.,  0.,  0.,  0.,  1.,\n",
       "        0.,  0.,  0.,  0.,  0.,  0.,  0.,  0.,  0.,  0.,  0.,  0.,  0.,\n",
       "        0.,  0.,  0.,  0.,  0.,  0.,  0.,  0.,  0.,  0.,  0.,  0.,  0.,\n",
       "        0.,  0.,  0.,  0.,  0.,  0.,  0.,  0.,  0.,  0.,  0.,  0.,  0.,\n",
       "        0.,  0.,  0.,  0.,  0.,  0.,  0.,  0.,  0.,  0.,  0.,  0.,  0.,\n",
       "        0.,  0.,  0.,  0.,  0.,  1.,  0.,  0.,  0.,  1.,  0.,  0.,  0.,\n",
       "        0.,  0.,  0.,  0.,  0.,  0.,  0.,  0.,  0.,  0.,  0.,  0.,  0.,\n",
       "        0.,  0.,  0.,  0.,  0.,  0.,  0.,  0.,  0.,  0.,  0.,  0.,  0.,\n",
       "        0.,  0.,  0.,  0.,  0.,  0.,  0.,  0.,  0.,  0.,  0.,  0.,  0.,\n",
       "        0.,  0.,  0.,  0.,  0.,  0.,  0.,  0.,  0.,  0.,  0.,  0.,  0.,\n",
       "        0.,  0.,  0.,  0.,  0.,  0.,  0.,  0.,  0.,  0.,  0.,  0.,  0.,\n",
       "        0.,  0.,  0.,  0.,  0.,  0.,  0.,  0.,  0.,  0.,  0.,  0.,  0.,\n",
       "        0.,  0.,  0.,  0.,  0.,  0.,  0.,  0.,  0.,  0.,  0.,  0.,  0.,\n",
       "        0.,  0.,  0.,  0.,  0.,  0.,  0.,  0.,  0.,  0.,  0.,  0.,  0.,\n",
       "        0.,  0.,  0.,  0.,  0.,  0.,  0.,  0.,  0.,  0.,  0.,  0.,  0.,\n",
       "        0.,  0.,  0.,  0.,  0.,  0.,  0.,  0.,  0.])"
      ]
     },
     "execution_count": 18,
     "metadata": {},
     "output_type": "execute_result"
    }
   ],
   "source": [
    "suffix_vector(\"seraient\", french_suffixes)"
   ]
  },
  {
   "cell_type": "markdown",
   "metadata": {},
   "source": [
    "#### Manually designed features"
   ]
  },
  {
   "cell_type": "code",
   "execution_count": 99,
   "metadata": {},
   "outputs": [
    {
     "name": "stdout",
     "output_type": "stream",
     "text": [
      "[ 1.  1.  0.  0.  0.  0.  0.  0.  0.  0.  0.  0.  0.  0.  0.  0.  0.  0.\n",
      "  0.  0.  0.  0.  0.  0.  0.  0.]\n",
      "[ 0.  1.  0.  0.  0.  0.  0.  0.  0.  0.  0.  0.  0.  0.  0.  0.  0.  0.\n",
      "  0.  0.  0.  0.  0.  0.  0.  0.]\n",
      "[ 0.  0.  1.  0.  0.  0.  1.  0.  0.  0.  0.  0.  0.  0.  0.  0.  0.  0.\n",
      "  0.  0.  0.  0.  0.  0.  0.  0.]\n",
      "[ 0.  0.  0.  1.  0.  0.  0.  0.  0.  0.  0.  0.  0.  0.  0.  0.  0.  0.\n",
      "  0.  0.  0.  0.  0.  0.  0.  0.]\n",
      "[ 0.  1.  0.  1.  0.  0.  0.  1.  0.  0.  0.  0.  0.  0.  0.  0.  0.  0.\n",
      "  0.  0.  0.  0.  0.  0.  0.  0.]\n",
      "[ 0.  0.  0.  1.  1.  0.  0.  1.  0.  0.  0.  0.  0.  0.  0.  0.  0.  1.\n",
      "  0.  0.  0.  0.  0.  0.  0.  0.]\n",
      "[ 0.  1.  0.  0.  0.  0.  0.  0.  0.  0.  0.  0.  0.  0.  1.  0.  0.  0.\n",
      "  0.  0.  0.  0.  1.  0.  0.  0.]\n",
      "[ 0.  0.  0.  0.  0.  0.  0.  0.  0.  0.  0.  0.  0.  0.  1.  0.  0.  0.\n",
      "  0.  0.  0.  0.  0.  0.  0.  0.]\n",
      "[ 0.  0.  0.  1.  0.  1.  0.  0.  0.  0.  0.  0.  0.  0.  0.  0.  0.  0.\n",
      "  0.  0.  0.  0.  0.  0.  0.  0.]\n",
      "[ 0.  0.  0.  0.  0.  0.  0.  0.  0.  0.  0.  0.  0.  0.  0.  0.  0.  0.\n",
      "  0.  0.  1.  0.  0.  0.  0.  0.]\n",
      "[ 0.  0.  0.  0.  0.  0.  0.  0.  0.  0.  0.  0.  0.  0.  0.  0.  0.  0.\n",
      "  0.  0.  1.  0.  0.  0.  0.  0.]\n",
      "[ 0.  0.  0.  1.  1.  0.  0.  1.  0.  0.  0.  0.  0.  0.  0.  0.  0.  1.\n",
      "  0.  0.  0.  0.  0.  0.  0.  0.]\n",
      "[ 0.  0.  0.  1.  1.  0.  0.  0.  0.  0.  0.  0.  0.  0.  0.  0.  0.  1.\n",
      "  0.  0.  0.  0.  0.  0.  0.  0.]\n",
      "[ 0.  0.  0.  1.  1.  0.  0.  0.  0.  0.  0.  0.  0.  0.  0.  0.  0.  1.\n",
      "  0.  0.  0.  0.  0.  0.  0.  0.]\n",
      "[ 0.  0.  0.  0.  0.  0.  0.  0.  0.  0.  0.  0.  1.  0.  0.  0.  0.  0.\n",
      "  0.  0.  0.  0.  0.  0.  0.  0.]\n"
     ]
    }
   ],
   "source": [
    "print(word_features(\"ABCD\"))\n",
    "print(word_features(\"Abcd\"))\n",
    "print(word_features(\"1234\"))\n",
    "print(word_features(\"*%\"))\n",
    "print(word_features(\"Ab-cd\"))\n",
    "print(word_features(\"-t-il\"))\n",
    "print(word_features(\"Contre\"))\n",
    "print(word_features(\"dans\"))\n",
    "print(word_features(\"anti-\"))\n",
    "print(word_features(\"et\"))\n",
    "print(word_features(\"ou\"))\n",
    "print(word_features(\"-t-il\"))\n",
    "print(word_features(\"-il\"))\n",
    "print(word_features(\"-tu\"))\n",
    "print(word_features(\"eussent\"))"
   ]
  },
  {
   "cell_type": "markdown",
   "metadata": {},
   "source": [
    "### 3.3. Sending the vocabulary through the fasttext executable"
   ]
  },
  {
   "cell_type": "markdown",
   "metadata": {},
   "source": [
    "Write the vocabulary to an output file, then pass it to the fastText executable to produce the relevant word embeddings for our text. Since the fastText model is over 5 Gb, the shell call can take some time."
   ]
  },
  {
   "cell_type": "code",
   "execution_count": 94,
   "metadata": {
    "collapsed": true
   },
   "outputs": [],
   "source": [
    "with open(\"vocab.txt\", 'w') as vocab_file:\n",
    "    for w in vnorm:\n",
    "        print(w, file=vocab_file)"
   ]
  },
  {
   "cell_type": "markdown",
   "metadata": {},
   "source": [
    "Shell call to `fasttext` for my Macbook Air"
   ]
  },
  {
   "cell_type": "code",
   "execution_count": null,
   "metadata": {
    "collapsed": true
   },
   "outputs": [],
   "source": [
    "!/Users/moot/Software/fastText-master/fasttext print-word-vectors /Users/moot/Corpus/wiki.fr/wiki.fr.bin < vocab.txt > vectors.txt"
   ]
  },
  {
   "cell_type": "markdown",
   "metadata": {},
   "source": [
    "Shell call to `fasttest` for my Macbook Pro, with `wiki.fr.bin` on external drive"
   ]
  },
  {
   "cell_type": "code",
   "execution_count": 100,
   "metadata": {
    "collapsed": true
   },
   "outputs": [],
   "source": [
    "!/Users/moot/Software/fastText-master/fasttext print-word-vectors /Volumes/LaCie/Corpus/fastText/wiki/wiki.fr.bin < vocab.txt > vectors.txt"
   ]
  },
  {
   "cell_type": "markdown",
   "metadata": {},
   "source": [
    "#### Combine all vector information\n",
    "\n",
    "Combined all information from fasttext, suffixes, manually selected features and the features for digits (which are not in fasttext) to produce combined feature vectors for all words "
   ]
  },
  {
   "cell_type": "code",
   "execution_count": 102,
   "metadata": {},
   "outputs": [],
   "source": [
    "word_to_index, index_to_word, word_to_vec_map = read_vecs('vectors.txt')"
   ]
  },
  {
   "cell_type": "markdown",
   "metadata": {},
   "source": [
    "### 3.4 - The Embedding layer\n",
    "\n",
    "In Keras, the embedding matrix is represented as a \"layer\", and maps positive integers (indices corresponding to words) into dense vectors of fixed size (the embedding vectors). It can be trained or initialized with a pretrained embedding. In this part, we create an [Embedding()](https://keras.io/layers/embeddings/) layer in Keras, and initialize it with the fastTeX vectors loaded earlier in the notebook. \n",
    "\n",
    "The `Embedding()` layer takes an integer matrix of size (batch size, max input length) as input. This corresponds to sentences converted into lists of indices (integers), as shown in the figure below.\n",
    "\n",
    "The largest integer (i.e. word index) in the input should be no larger than the vocabulary size. The layer outputs an array of shape (batch size, max input length, dimension of word vectors).\n",
    "\n",
    "We first convert all our training sentences into lists of indices, and then zero-pad all these lists so that their length is the length of the longest sentence. \n",
    "\n",
    "**TODO**: I'd like try if it makes any difference to add the </s> end tag to the end of each sentence. "
   ]
  },
  {
   "cell_type": "markdown",
   "metadata": {},
   "source": [
    "Run the following cell to check what `sentences_to_indices()` does, and check your results."
   ]
  },
  {
   "cell_type": "code",
   "execution_count": 105,
   "metadata": {},
   "outputs": [
    {
     "data": {
      "text/plain": [
       "array([[ 25333.,  18015.,  15541., ...,      0.,      0.,      0.],\n",
       "       [ 22968.,    342.,  24828., ...,      0.,      0.,      0.],\n",
       "       [ 17688.,  10362.,  22915., ...,      0.,      0.,      0.],\n",
       "       ..., \n",
       "       [ 34528.,  15584.,  25319., ...,      0.,      0.,      0.],\n",
       "       [ 22139.,  18264.,  15531., ...,      0.,      0.,      0.],\n",
       "       [ 21058.,  20941.,  22717., ...,      0.,      0.,      0.]])"
      ]
     },
     "execution_count": 105,
     "metadata": {},
     "output_type": "execute_result"
    }
   ],
   "source": [
    "sentences_to_indices(X_train, word_to_index, maxLen)"
   ]
  },
  {
   "cell_type": "markdown",
   "metadata": {},
   "source": [
    "We now build the `Embedding()` layer for use with Keras, using pre-trained word vectors. After this layer is built, we can pass the output of `sentences_to_indices()` to it as an input, and the `Embedding()` layer will return the word embeddings for a sentence. \n",
    "\n",
    "We use the following steps:\n",
    "1. Initialize the embedding matrix as a numpy array of zeroes with the correct shape.\n",
    "2. Fill in the embedding matrix with all the word embeddings extracted from `word_to_vec_map`.\n",
    "3. Define Keras embedding layer. Use [Embedding()](https://keras.io/layers/embeddings/). Be sure to make this layer non-trainable, by setting `trainable = False` when calling `Embedding()`. If you were to set `trainable = True`, then it will allow the optimization algorithm to modify the values of the word embeddings. \n",
    "4. Set the embedding weights to be equal to the embedding matrix "
   ]
  },
  {
   "cell_type": "code",
   "execution_count": 106,
   "metadata": {
    "collapsed": true
   },
   "outputs": [],
   "source": [
    "\n",
    "def pretrained_embedding_layer(word_to_vec_map, word_to_index):\n",
    "    \"\"\"\n",
    "    Creates a Keras Embedding() layer and loads in pre-trained GloVe 50-dimensional vectors.\n",
    "    \n",
    "    Arguments:\n",
    "    word_to_vec_map -- dictionary mapping words to their GloVe vector representation.\n",
    "    word_to_index -- dictionary mapping from words to their indices in the vocabulary (400,001 words)\n",
    "\n",
    "    Returns:\n",
    "    embedding_layer -- pretrained layer Keras instance\n",
    "    \"\"\"\n",
    "    \n",
    "    vocab_len = len(word_to_index) + 2                  # adding 1 to fit Keras embedding (requirement)\n",
    "    emb_dim = word_to_vec_map[\"est\"].shape[0]      # define dimensionality of your GloVe word vectors (= 50)\n",
    "    \n",
    "    # Initialize the embedding matrix as a numpy array of zeros of shape (vocab_len, dimensions of word vectors = emb_dim)\n",
    "    emb_matrix = np.zeros((vocab_len,emb_dim))\n",
    "    \n",
    "    # Set each row \"index\" of the embedding matrix to be the word vector representation of the \"index\"th word of the vocabulary\n",
    "    for word, index in word_to_index.items():\n",
    "        emb_matrix[index, :] = word_to_vec_map[word]\n",
    "\n",
    "    # Define Keras embedding layer with the correct output/input sizes, make it trainable. Use Embedding(...). Make sure to set trainable=False. \n",
    "    embedding_layer = Embedding(vocab_len,emb_dim,trainable=False,mask_zero=True)\n",
    "    ### END CODE HERE ###\n",
    "\n",
    "    # Build the embedding layer, it is required before setting the weights of the embedding layer. Do not modify the \"None\".\n",
    "    embedding_layer.build((None,))\n",
    "    \n",
    "    # Set the weights of the embedding layer to the embedding matrix. Your layer is now pretrained.\n",
    "    embedding_layer.set_weights([emb_matrix])\n",
    "    \n",
    "    return embedding_layer"
   ]
  },
  {
   "cell_type": "code",
   "execution_count": 107,
   "metadata": {},
   "outputs": [
    {
     "name": "stdout",
     "output_type": "stream",
     "text": [
      "weights[0][2][1] = 0.19175\n"
     ]
    }
   ],
   "source": [
    "embedding_layer = pretrained_embedding_layer(word_to_vec_map, word_to_index)\n",
    "print(\"weights[0][2][1] =\", embedding_layer.get_weights()[0][2][1])"
   ]
  },
  {
   "cell_type": "markdown",
   "metadata": {},
   "source": [
    "**Expected Output**:\n",
    "\n",
    "<table>\n",
    "    <tr>\n",
    "        <td>\n",
    "            **weights[0][2][1] =**\n",
    "        </td>\n",
    "        <td>\n",
    "           0.19175\n",
    "        </td>\n",
    "    </tr>\n",
    "</table>"
   ]
  },
  {
   "cell_type": "markdown",
   "metadata": {},
   "source": [
    "## 4. Building the Part-of-Speech tagger\n",
    "\n",
    "We now build the POS-tagger model using the previously built enbedding layer and feed its output to a bidirectional LSTM network with 128 states in each direction. \n",
    "\n"
   ]
  },
  {
   "cell_type": "code",
   "execution_count": 108,
   "metadata": {
    "collapsed": true
   },
   "outputs": [],
   "source": [
    "# POS_model\n",
    "\n",
    "def POS_model(input_shape, word_to_vec_map, word_to_index):\n",
    "    \"\"\"\n",
    "    Function creating the Emojify-v2 model's graph.\n",
    "    \n",
    "    Arguments:\n",
    "    input_shape -- shape of the input, usually (max_len,)\n",
    "    word_to_vec_map -- dictionary mapping every word in a vocabulary into its 50-dimensional vector representation\n",
    "    word_to_index -- dictionary mapping from words to their indices in the vocabulary (400,001 words)\n",
    "\n",
    "    Returns:\n",
    "    model -- a model instance in Keras\n",
    "    \"\"\"\n",
    "    \n",
    "    # Define sentence_indices as the input of the graph, it should be of shape input_shape and dtype 'int32' (as it contains indices).\n",
    "    sentence_indices = Input(shape = input_shape, dtype = 'int32')\n",
    "    \n",
    "    # Create the embedding layer pretrained with GloVe Vectors (≈1 line)\n",
    "    embedding_layer = pretrained_embedding_layer(word_to_vec_map, word_to_index)\n",
    "    \n",
    "    # Propagate sentence_indices through your embedding layer, you get back the embeddings\n",
    "    embeddings = embedding_layer(sentence_indices)   \n",
    "    \n",
    "    # Propagate the embeddings through an LSTM layer with 128-dimensional hidden state\n",
    "    # returning a batch of sequences.\n",
    "    X = LSTM(128, return_sequences=True)(embeddings)\n",
    "    X = BatchNormalization()(X)\n",
    "    Y = Dropout(0.5)(X)\n",
    "    # Add a (time distributed) Dense layer followed by a softmax activation\n",
    "    Y = TimeDistributed(Dense(numClasses, activation='softmax'))(Y)\n",
    "    \n",
    "    # Create Model instance which converts sentence_indices into X.\n",
    "    model = Model(inputs=sentence_indices,outputs=Y)\n",
    "        \n",
    "    return model"
   ]
  },
  {
   "cell_type": "markdown",
   "metadata": {},
   "source": [
    "Run the following cell to create your model and check its summary. Because all sentences in the dataset are less than 10 words, we chose `max_len = 10`.  You should see your architecture, it uses \"20,223,927\" parameters, of which 20,000,050 (the word embeddings) are non-trainable, and the remaining 223,877 are. Because our vocabulary size has 400,001 words (with valid indices from 0 to 400,000) there are 400,001\\*50 = 20,000,050 non-trainable parameters. "
   ]
  },
  {
   "cell_type": "code",
   "execution_count": 109,
   "metadata": {
    "scrolled": false
   },
   "outputs": [
    {
     "name": "stdout",
     "output_type": "stream",
     "text": [
      "_________________________________________________________________\n",
      "Layer (type)                 Output Shape              Param #   \n",
      "=================================================================\n",
      "input_4 (InputLayer)         (None, 266)               0         \n",
      "_________________________________________________________________\n",
      "embedding_7 (Embedding)      (None, 266, 530)          18862700  \n",
      "_________________________________________________________________\n",
      "lstm_4 (LSTM)                (None, 266, 128)          337408    \n",
      "_________________________________________________________________\n",
      "batch_normalization_4 (Batch (None, 266, 128)          512       \n",
      "_________________________________________________________________\n",
      "dropout_4 (Dropout)          (None, 266, 128)          0         \n",
      "_________________________________________________________________\n",
      "time_distributed_4 (TimeDist (None, 266, 32)           4128      \n",
      "=================================================================\n",
      "Total params: 19,204,748\n",
      "Trainable params: 341,792\n",
      "Non-trainable params: 18,862,956\n",
      "_________________________________________________________________\n"
     ]
    }
   ],
   "source": [
    "model = POS_model((maxLen,), word_to_vec_map, word_to_index)\n",
    "model.summary()"
   ]
  },
  {
   "cell_type": "markdown",
   "metadata": {},
   "source": [
    "As usual, after creating your model in Keras, you need to compile it and define what loss, optimizer and metrics your are want to use. Compile your model using `categorical_crossentropy` loss, `adam` optimizer and `['accuracy']` metrics:"
   ]
  },
  {
   "cell_type": "code",
   "execution_count": 110,
   "metadata": {
    "collapsed": true
   },
   "outputs": [],
   "source": [
    "model.compile(loss='categorical_crossentropy', optimizer='adam', metrics=['accuracy'])"
   ]
  },
  {
   "cell_type": "markdown",
   "metadata": {},
   "source": [
    "It's time to train your model. Your Emojifier-V2 `model` takes as input an array of shape (`m`, `max_len`) and outputs probability vectors of shape (`m`, `number of classes`). We thus have to convert X_train (array of sentences as strings) to X_train_indices (array of sentences as list of word indices), and Y_train (labels as indices) to Y_train_oh (labels as one-hot vectors)."
   ]
  },
  {
   "cell_type": "code",
   "execution_count": 111,
   "metadata": {},
   "outputs": [],
   "source": [
    "X_train_indices = lists_to_indices(X_train, word_to_index, maxLen)\n",
    "Y_train_indices = lists_to_indices(Y_train, pos2_to_index, maxLen)\n",
    "Y_train_oh = to_categorical(Y_train_indices, num_classes=numClasses)"
   ]
  },
  {
   "cell_type": "code",
   "execution_count": 112,
   "metadata": {},
   "outputs": [
    {
     "name": "stdout",
     "output_type": "stream",
     "text": [
      "[  5.  16.  12.   8.  23.  12.   3.  11.  24.  24.  31.  16.  12.  31.  12.\n",
      "   8.  18.  12.  18.   1.  11.  31.   8.  12.   9.  26.  21.   8.  23.  12.\n",
      "   3.  26.  18.   0.   0.   0.   0.   0.   0.   0.   0.   0.   0.   0.   0.\n",
      "   0.   0.   0.   0.   0.   0.   0.   0.   0.   0.   0.   0.   0.   0.   0.\n",
      "   0.   0.   0.   0.   0.   0.   0.   0.   0.   0.   0.   0.   0.   0.   0.\n",
      "   0.   0.   0.   0.   0.   0.   0.   0.   0.   0.   0.   0.   0.   0.   0.\n",
      "   0.   0.   0.   0.   0.   0.   0.   0.   0.   0.   0.   0.   0.   0.   0.\n",
      "   0.   0.   0.   0.   0.   0.   0.   0.   0.   0.   0.   0.   0.   0.   0.\n",
      "   0.   0.   0.   0.   0.   0.   0.   0.   0.   0.   0.   0.   0.   0.   0.\n",
      "   0.   0.   0.   0.   0.   0.   0.   0.   0.   0.   0.   0.   0.   0.   0.\n",
      "   0.   0.   0.   0.   0.   0.   0.   0.   0.   0.   0.   0.   0.   0.   0.\n",
      "   0.   0.   0.   0.   0.   0.   0.   0.   0.   0.   0.   0.   0.   0.   0.\n",
      "   0.   0.   0.   0.   0.   0.   0.   0.   0.   0.   0.   0.   0.   0.   0.\n",
      "   0.   0.   0.   0.   0.   0.   0.   0.   0.   0.   0.   0.   0.   0.   0.\n",
      "   0.   0.   0.   0.   0.   0.   0.   0.   0.   0.   0.   0.   0.   0.   0.\n",
      "   0.   0.   0.   0.   0.   0.   0.   0.   0.   0.   0.   0.   0.   0.   0.\n",
      "   0.   0.   0.   0.   0.   0.   0.   0.   0.   0.   0.   0.   0.   0.   0.\n",
      "   0.   0.   0.   0.   0.   0.   0.   0.   0.   0.   0.]\n",
      "[[ 0.  0.  0. ...,  0.  0.  0.]\n",
      " [ 0.  0.  0. ...,  0.  0.  0.]\n",
      " [ 0.  0.  0. ...,  0.  0.  0.]\n",
      " ..., \n",
      " [ 1.  0.  0. ...,  0.  0.  0.]\n",
      " [ 1.  0.  0. ...,  0.  0.  0.]\n",
      " [ 1.  0.  0. ...,  0.  0.  0.]]\n"
     ]
    }
   ],
   "source": [
    "print(Y_train_indices[1])\n",
    "print(Y_train_oh[1])"
   ]
  },
  {
   "cell_type": "code",
   "execution_count": 113,
   "metadata": {
    "collapsed": true
   },
   "outputs": [],
   "source": [
    "X_dev_indices = lists_to_indices(X_dev, word_to_index, max_len = maxLen)\n",
    "Y_dev_indices = lists_to_indices(Y_dev, pos2_to_index, max_len = maxLen)\n",
    "Y_dev_oh = to_categorical(Y_dev_indices, num_classes = numClasses)"
   ]
  },
  {
   "cell_type": "markdown",
   "metadata": {},
   "source": [
    "Fit the Keras model on `X_train_indices` and `Y_train_oh`. We will use `epochs = 50` and `batch_size = 32`."
   ]
  },
  {
   "cell_type": "code",
   "execution_count": null,
   "metadata": {
    "scrolled": true
   },
   "outputs": [
    {
     "name": "stdout",
     "output_type": "stream",
     "text": [
      "Train on 9449 samples, validate on 3150 samples\n",
      "Epoch 1/30\n",
      "9449/9449 [==============================] - 192s 20ms/step - loss: 0.5163 - acc: 0.8716 - val_loss: 0.0948 - val_acc: 0.9740\n",
      "Epoch 2/30\n",
      "9449/9449 [==============================] - 191s 20ms/step - loss: 0.1100 - acc: 0.9701 - val_loss: 0.0721 - val_acc: 0.9793\n",
      "Epoch 3/30\n",
      "9449/9449 [==============================] - 185s 20ms/step - loss: 0.0851 - acc: 0.9757 - val_loss: 0.0660 - val_acc: 0.9802\n",
      "Epoch 4/30\n",
      "9449/9449 [==============================] - 194s 20ms/step - loss: 0.0748 - acc: 0.9783 - val_loss: 0.0614 - val_acc: 0.9822\n",
      "Epoch 5/30\n",
      "9449/9449 [==============================] - 191s 20ms/step - loss: 0.0681 - acc: 0.9801 - val_loss: 0.0604 - val_acc: 0.9827\n",
      "Epoch 6/30\n",
      "9449/9449 [==============================] - 191s 20ms/step - loss: 0.0632 - acc: 0.9811 - val_loss: 0.0547 - val_acc: 0.9836\n",
      "Epoch 7/30\n",
      "9449/9449 [==============================] - 193s 20ms/step - loss: 0.0585 - acc: 0.9824 - val_loss: 0.0531 - val_acc: 0.9841\n",
      "Epoch 8/30\n",
      "9449/9449 [==============================] - 195s 21ms/step - loss: 0.0552 - acc: 0.9832 - val_loss: 0.0521 - val_acc: 0.9843\n",
      "Epoch 9/30\n",
      "2496/9449 [======>.......................] - ETA: 2:09 - loss: 0.0500 - acc: 0.9847"
     ]
    }
   ],
   "source": [
    "history = model.fit(X_train_indices, Y_train_oh, epochs = 30, batch_size = 32, shuffle=True, validation_data=(X_dev_indices,Y_dev_oh))"
   ]
  },
  {
   "cell_type": "markdown",
   "metadata": {},
   "source": [
    "Your model should perform close to **100% accuracy** on the training set. The exact accuracy you get may be a little different. Run the following cell to evaluate your model on the test set. "
   ]
  },
  {
   "cell_type": "code",
   "execution_count": 38,
   "metadata": {},
   "outputs": [
    {
     "data": {
      "image/png": "[encoded data removed]",
      "text/plain": [
       "<matplotlib.figure.Figure at 0x1a3025e3c8>"
      ]
     },
     "metadata": {},
     "output_type": "display_data"
    }
   ],
   "source": [
    "plt.plot(history.history['loss'])\n",
    "plt.plot(history.history['val_loss'])\n",
    "plt.title('model train vs validation loss')\n",
    "plt.ylabel('loss')\n",
    "plt.xlabel('epoch')\n",
    "plt.legend(['train', 'validation'], loc='upper right')\n",
    "plt.show()"
   ]
  },
  {
   "cell_type": "code",
   "execution_count": 39,
   "metadata": {},
   "outputs": [
    {
     "data": {
      "image/png": "[encoded data removed]",
      "text/plain": [
       "<matplotlib.figure.Figure at 0x1a305f5dd8>"
      ]
     },
     "metadata": {},
     "output_type": "display_data"
    }
   ],
   "source": [
    "plt.plot(history.history['acc'])\n",
    "plt.plot(history.history['val_acc'])\n",
    "plt.title('model train vs validation accuracy')\n",
    "plt.ylabel('accuracy')\n",
    "plt.xlabel('epoch')\n",
    "plt.legend(['train', 'validation'], loc='upper right')\n",
    "plt.show()"
   ]
  },
  {
   "cell_type": "code",
   "execution_count": 40,
   "metadata": {
    "scrolled": true
   },
   "outputs": [
    {
     "name": "stdout",
     "output_type": "stream",
     "text": [
      "399/399 [==============================] - 1s 4ms/step\n",
      "\n",
      "Test accuracy =  0.98049475092\n"
     ]
    }
   ],
   "source": [
    "loss, acc = model.evaluate(X_dev_indices, Y_dev_oh)\n",
    "print()\n",
    "print(\"Test accuracy = \", acc)"
   ]
  },
  {
   "cell_type": "markdown",
   "metadata": {},
   "source": [
    "You should get a test accuracy of about 94.8% for a vanilla model using only aa1.txt.\n",
    "A vanilla POS model on the full training set gets a dev accuracy of 98.50%!"
   ]
  },
  {
   "cell_type": "code",
   "execution_count": null,
   "metadata": {},
   "outputs": [],
   "source": [
    "X_dev_indices = lists_to_indices(X_test, word_to_index, maxLen)\n",
    "pred = model.predict(X_dev_indices)\n",
    "\n",
    "# print('           '+ label_to_emoji(0)+ '    ' + label_to_emoji(1) + '    ' +  label_to_emoji(2)+ '    ' + label_to_emoji(3)+'   ' + label_to_emoji(4))\n",
    "# print(pd.crosstab(Y_dev, pred_test.reshape(56,), rownames=['Actual'], colnames=['Predicted'], margins=True))\n",
    "plot_confusion_matrix(Y_dev, pred)"
   ]
  },
  {
   "cell_type": "code",
   "execution_count": 41,
   "metadata": {},
   "outputs": [
    {
     "name": "stdout",
     "output_type": "stream",
     "text": [
      "Expected POS tag: le|PRO:PER prediction: le|DET:ART\n",
      "Expected POS tag: qu'|PRO:REL prediction: qu'|KON\n",
      "Expected POS tag: connus|VER:pper prediction: connus|ADJ\n",
      "Expected POS tag: alourdis|VER:pper prediction: alourdis|ADJ\n",
      "Expected POS tag: croisés|VER:pper prediction: croisés|ADJ\n",
      "Expected POS tag: horaire|ADJ prediction: horaire|NOM\n",
      "Expected POS tag: qu'|KON prediction: qu'|PRO:REL\n",
      "Expected POS tag: depuis|ADV prediction: depuis|PRP\n",
      "Expected POS tag: Lever|NAM prediction: Lever|VER:infi\n",
      "Expected POS tag: anglo-néerlandaise|ADJ prediction: anglo-néerlandaise|NOM\n",
      "Expected POS tag: hertziennes|ADJ prediction: hertziennes|VER:pper\n",
      "Expected POS tag: nette|ADJ prediction: nette|NOM\n",
      "Expected POS tag: suspectés|VER:pper prediction: suspectés|ADJ\n",
      "Expected POS tag: automobiles|NOM prediction: automobiles|ADJ\n",
      "Expected POS tag: irrités|VER:pper prediction: irrités|ADJ\n",
      "Expected POS tag: vite|ADJ prediction: vite|ADV\n",
      "Expected POS tag: logique|NOM prediction: logique|ADJ\n",
      "Expected POS tag: poussée|NOM prediction: poussée|VER:pper\n",
      "Expected POS tag: la|PRO:PER prediction: la|DET:ART\n",
      "Expected POS tag: tout|ADV prediction: tout|PRO:IND\n",
      "Expected POS tag: monétaire|ADJ prediction: monétaire|NOM\n",
      "Expected POS tag: obligataire|ADJ prediction: obligataire|NOM\n",
      "Expected POS tag: ajoutons|VER:impe prediction: ajoutons|VER:pres\n",
      "Expected POS tag: bas|NOM prediction: bas|ADJ\n",
      "Expected POS tag: la|DET:ART prediction: la|PRO:PER\n",
      "Expected POS tag: leur|PRO:PER prediction: leur|DET:POS\n",
      "Expected POS tag: enjoint|VER:pper prediction: enjoint|NOM\n",
      "Expected POS tag: a|PRP prediction: a|VER:pres\n",
      "Expected POS tag: or|NOM prediction: or|KON\n",
      "Expected POS tag: progressive|ADJ prediction: progressive|NOM\n",
      "Expected POS tag: gré|NOM prediction: gré|VER:pper\n",
      "Expected POS tag: pensée|VER:pper prediction: pensée|NOM\n",
      "Expected POS tag: en|PRO:PER prediction: en|PRP\n",
      "Expected POS tag: qu'|PRO:REL prediction: qu'|KON\n",
      "Expected POS tag: une|NUM prediction: une|DET:ART\n",
      "Expected POS tag: Sinon|KON prediction: Sinon|ADV\n",
      "Expected POS tag: un|NUM prediction: un|DET:ART\n",
      "Expected POS tag: l'|PRO:PER prediction: l'|DET:ART\n",
      "Expected POS tag: s'|KON prediction: s'|PRO:PER\n",
      "Expected POS tag: fait|VER:pres prediction: fait|NOM\n",
      "Expected POS tag: due|VER:pper prediction: due|ADJ\n",
      "Expected POS tag: tous|PRO:IND prediction: tous|ADV\n",
      "Expected POS tag: dix-sept|NUM prediction: dix-sept|ADV\n",
      "Expected POS tag: reclasse|VER:pres prediction: reclasse|NOM\n",
      "Expected POS tag: qu'|KON prediction: qu'|PRO:REL\n",
      "Expected POS tag: achète|VER:subp prediction: achète|VER:pres\n",
      "Expected POS tag: tout|PRO:IND prediction: tout|ADV\n",
      "Expected POS tag: ô|INT prediction: ô|NOM\n",
      "Expected POS tag: dernière|ADJ prediction: dernière|NOM\n",
      "Expected POS tag: manufacturés|VER:pper prediction: manufacturés|ADJ\n",
      "Expected POS tag: nette|ADJ prediction: nette|NOM\n",
      "Expected POS tag: expo-vente|NOM prediction: expo-vente|VER:pres\n",
      "Expected POS tag: la|PRO:PER prediction: la|DET:ART\n",
      "Expected POS tag: Tout|PRO:IND prediction: Tout|ADV\n",
      "Expected POS tag: grâce|NOM prediction: grâce|VER:pper\n",
      "Expected POS tag: devant|VER:ppre prediction: devant|PRP\n",
      "Expected POS tag: adjoint|ADJ prediction: adjoint|NOM\n",
      "Expected POS tag: électronique|NOM prediction: électronique|ADJ\n",
      "Expected POS tag: rigide|ADJ prediction: rigide|NOM\n",
      "Expected POS tag: japonais|NOM prediction: japonais|ADJ\n",
      "Expected POS tag: réduit|VER:pres prediction: réduit|VER:pper\n",
      "Expected POS tag: vite|ADJ prediction: vite|ADV\n",
      "Expected POS tag: qu'|PRO:REL prediction: qu'|KON\n",
      "Expected POS tag: basse-cour|NOM prediction: basse-cour|NAM\n",
      "Expected POS tag: haut|ADV prediction: haut|ADJ\n",
      "Expected POS tag: dernière|ADJ prediction: dernière|NOM\n",
      "Expected POS tag: s'|KON prediction: s'|PRO:PER\n",
      "Expected POS tag: employée|NOM prediction: employée|VER:pper\n",
      "Expected POS tag: champagne|NOM prediction: champagne|NAM\n",
      "Expected POS tag: coca-cola|NOM prediction: coca-cola|PRO:DEM\n",
      "Expected POS tag: alors|ADV prediction: alors|KON\n",
      "Expected POS tag: faites|VER:impe prediction: faites|VER:pper\n",
      "Expected POS tag: toutes|ADV prediction: toutes|PRO:IND\n",
      "Expected POS tag: françaises|NOM prediction: françaises|ADJ\n",
      "Expected POS tag: essuie|VER:pres prediction: essuie|NOM\n",
      "Expected POS tag: plein|ADJ prediction: plein|NOM\n",
      "Expected POS tag: colorés|VER:pper prediction: colorés|ADJ\n",
      "Expected POS tag: seconde|NOM prediction: seconde|NUM\n",
      "Expected POS tag: en|PRO:PER prediction: en|PRP\n",
      "Expected POS tag: liquide|VER:pres prediction: liquide|ADJ\n",
      "Expected POS tag: double|ADJ prediction: double|NOM\n",
      "Expected POS tag: Nouvel|NAM prediction: Nouvel|ADJ\n",
      "Expected POS tag: Petit|ADJ prediction: Petit|NAM\n",
      "Expected POS tag: fonctionnaires|NOM prediction: fonctionnaires|ADJ\n",
      "Expected POS tag: alors|ADV prediction: alors|KON\n",
      "Expected POS tag: autres|PRO:IND prediction: autres|ADJ\n",
      "Expected POS tag: que|PRO:REL prediction: que|KON\n",
      "Expected POS tag: Qu'|PRO:REL prediction: Qu'|KON\n",
      "Expected POS tag: en|PRO:PER prediction: en|PRP\n",
      "Expected POS tag: les|PRO:PER prediction: les|DET:ART\n",
      "Expected POS tag: atteint|VER:pres prediction: atteint|VER:pper\n",
      "Expected POS tag: les|DET:ART prediction: les|PRO:PER\n",
      "Expected POS tag: ROUTIÈRE|ADJ prediction: ROUTIÈRE|ABR\n",
      "Expected POS tag: gelées|VER:pper prediction: gelées|NOM\n",
      "Expected POS tag: le|PRO:PER prediction: le|DET:ART\n",
      "Expected POS tag: plébiscite|VER:pres prediction: plébiscite|NOM\n",
      "Expected POS tag: bang|NOM prediction: bang|NAM\n",
      "Expected POS tag: FEHAP|NAM prediction: FEHAP|ABR\n",
      "Expected POS tag: leur|DET:POS prediction: leur|PRO:PER\n",
      "Expected POS tag: les|PRO:PER prediction: les|DET:ART\n",
      "Expected POS tag: leur|PRO:PER prediction: leur|DET:POS\n",
      "Expected POS tag: État|NOM prediction: État|NAM\n",
      "Expected POS tag: Eaux|NAM prediction: Eaux|NOM\n",
      "Expected POS tag: Les|PRO:PER prediction: Les|DET:ART\n",
      "Expected POS tag: que|KON prediction: que|PRO:REL\n",
      "Expected POS tag: m'|PRO:PER prediction: m'|DET:ART\n",
      "Expected POS tag: tentaculaires|ADJ prediction: tentaculaires|NOM\n",
      "Expected POS tag: triche|VER:pres prediction: triche|ADJ\n",
      "Expected POS tag: tous|ADV prediction: tous|PRO:IND\n",
      "Expected POS tag: soit|VER:subp prediction: soit|KON\n",
      "Expected POS tag: permis|NOM prediction: permis|VER:pper\n",
      "Expected POS tag: Tout|PRO:IND prediction: Tout|ADV\n",
      "Expected POS tag: un|NUM prediction: un|DET:ART\n",
      "Expected POS tag: qu'|ADV prediction: qu'|KON\n",
      "Expected POS tag: satisfaisante|VER:ppre prediction: satisfaisante|ADJ\n",
      "Expected POS tag: participants|ADJ prediction: participants|NOM\n",
      "Expected POS tag: défavorisés|VER:pper prediction: défavorisés|ADJ\n",
      "Expected POS tag: seule|ADJ prediction: seule|ADV\n",
      "Expected POS tag: automobile|NOM prediction: automobile|ADJ\n",
      "Expected POS tag: conduit|VER:pres prediction: conduit|VER:pper\n",
      "Expected POS tag: juste|ADJ prediction: juste|ADV\n",
      "Expected POS tag: problématiques|ADJ prediction: problématiques|NOM\n",
      "Expected POS tag: exerçant|VER:ppre prediction: exerçant|NOM\n",
      "Expected POS tag: tués|NOM prediction: tués|VER:pper\n",
      "Expected POS tag: soit|VER:subp prediction: soit|KON\n",
      "Expected POS tag: croisse|VER:subp prediction: croisse|ADJ\n",
      "Expected POS tag: que|ADV prediction: que|KON\n",
      "Expected POS tag: que|KON prediction: que|PRO:REL\n",
      "Expected POS tag: désinflationnistes|ADJ prediction: désinflationnistes|NOM\n",
      "Expected POS tag: que|KON prediction: que|PRO:REL\n",
      "Expected POS tag: strict|ADJ prediction: strict|NOM\n",
      "Expected POS tag: tout|PRO:IND prediction: tout|ADV\n",
      "Expected POS tag: derniers|NOM prediction: derniers|ADJ\n",
      "Expected POS tag: traverse|VER:pres prediction: traverse|NOM\n",
      "Expected POS tag: comme|KON prediction: comme|ADV\n",
      "Expected POS tag: en|PRO:PER prediction: en|PRP\n",
      "Expected POS tag: toutes|ADV prediction: toutes|NOM\n",
      "Expected POS tag: prises|NOM prediction: prises|VER:pper\n",
      "Expected POS tag: même|ADV prediction: même|ADJ\n",
      "Expected POS tag: le|PRO:PER prediction: le|DET:ART\n",
      "Expected POS tag: nul|PRO:IND prediction: nul|NOM\n",
      "Expected POS tag: doute|VER:pres prediction: doute|NOM\n",
      "Expected POS tag: avancées|VER:pper prediction: avancées|ADJ\n",
      "Expected POS tag: étonnant|VER:ppre prediction: étonnant|ADJ\n",
      "Expected POS tag: consécutive|ADJ prediction: consécutive|VER:pres\n",
      "Expected POS tag: produit|VER:pper prediction: produit|NOM\n",
      "Expected POS tag: le|PRO:PER prediction: le|DET:ART\n",
      "Expected POS tag: un|NUM prediction: un|DET:ART\n",
      "Expected POS tag: alors|ADV prediction: alors|KON\n",
      "Expected POS tag: Naître|NAM prediction: Naître|VER:infi\n",
      "Expected POS tag: grandir|NAM prediction: grandir|VER:infi\n",
      "Expected POS tag: ébahis|VER:pper prediction: ébahis|ADJ\n",
      "Expected POS tag: ravis|VER:pper prediction: ravis|ADJ\n",
      "Expected POS tag: enfouis|VER:pper prediction: enfouis|NOM\n",
      "Expected POS tag: qu'|KON prediction: qu'|PRO:REL\n",
      "Expected POS tag: CNDP|NAM prediction: CNDP|ABR\n",
      "Expected POS tag: ainsi|KON prediction: ainsi|ADV\n",
      "Expected POS tag: que|ADV prediction: que|PRO:REL\n",
      "Expected POS tag: craint|VER:pper prediction: craint|VER:pres\n",
      "Expected POS tag: la|PRO:PER prediction: la|DET:ART\n",
      "Expected POS tag: le|DET:ART prediction: le|PRO:PER\n",
      "Expected POS tag: FS|NAM prediction: FS|ABR\n",
      "Expected POS tag: quitte|ADJ prediction: quitte|NOM\n",
      "Expected POS tag: que|KON prediction: que|PRO:REL\n",
      "Expected POS tag: fassent|VER:subp prediction: fassent|VER:pres\n",
      "Expected POS tag: désaffectés|VER:pper prediction: désaffectés|NOM\n",
      "Expected POS tag: que|KON prediction: que|PRO:REL\n",
      "Expected POS tag: liés|VER:pper prediction: liés|ADJ\n",
      "Expected POS tag: juste|ADJ prediction: juste|ADV\n",
      "Expected POS tag: sinon|KON prediction: sinon|ADV\n",
      "Expected POS tag: procédure|NOM prediction: procédure|VER:pres\n",
      "Expected POS tag: l'|PRO:PER prediction: l'|DET:ART\n",
      "Expected POS tag: apparente|ADJ prediction: apparente|VER:pres\n",
      "Expected POS tag: carbure|VER:pres prediction: carbure|ADJ\n",
      "Expected POS tag: gamberge|VER:pres prediction: gamberge|NOM\n",
      "Expected POS tag: prématuré|ADJ prediction: prématuré|VER:pper\n",
      "Expected POS tag: entre|VER:pres prediction: entre|PRP\n",
      "Expected POS tag: le|DET:ART prediction: le|PRO:PER\n",
      "Expected POS tag: phare|NOM prediction: phare|ADV\n",
      "Expected POS tag: mirobolants|ADJ prediction: mirobolants|NOM\n",
      "Expected POS tag: flamboyants|ADJ prediction: flamboyants|NOM\n",
      "Expected POS tag: en|PRP prediction: en|PRO:PER\n",
      "Expected POS tag: descendant|VER:ppre prediction: descendant|NOM\n",
      "Expected POS tag: autre|PRO:IND prediction: autre|ADJ\n",
      "Expected POS tag: Que|KON prediction: Que|PRO:REL\n",
      "Expected POS tag: en|PRO:PER prediction: en|PRP\n",
      "Expected POS tag: récurrent|ADJ prediction: récurrent|VER:pres\n",
      "Expected POS tag: tôt|ADV prediction: tôt|ADJ\n",
      "Expected POS tag: le|PRO:PER prediction: le|DET:ART\n",
      "Expected POS tag: comme|KON prediction: comme|ADV\n",
      "Expected POS tag: le|PRO:PER prediction: le|DET:ART\n",
      "Expected POS tag: souscrit|VER:pper prediction: souscrit|NOM\n",
      "Expected POS tag: informatique|NOM prediction: informatique|ADJ\n",
      "Expected POS tag: Prenons|VER:impe prediction: Prenons|VER:pres\n",
      "Expected POS tag: organisons|VER:impe prediction: organisons|NOM\n",
      "Expected POS tag: que|ADV prediction: que|KON\n",
      "Expected POS tag: le|DET:ART prediction: le|PRO:PER\n",
      "Expected POS tag: que|PRO:REL prediction: que|KON\n",
      "Expected POS tag: fiente|NOM prediction: fiente|VER:pres\n",
      "Expected POS tag: l'|PRO:PER prediction: l'|DET:ART\n",
      "Expected POS tag: accusant|VER:ppre prediction: accusant|NOM\n",
      "Expected POS tag: le|PRO:PER prediction: le|DET:ART\n",
      "Expected POS tag: dessaisissant|VER:ppre prediction: dessaisissant|NOM\n",
      "Expected POS tag: que|ADV prediction: que|KON\n",
      "Expected POS tag: que|ADV prediction: que|KON\n",
      "Expected POS tag: qu'|KON prediction: qu'|PRO:REL\n",
      "Expected POS tag: Le|DET:ART prediction: Le|NAM\n",
      "Expected POS tag: qu'|ADV prediction: qu'|KON\n",
      "Expected POS tag: poursuivraient|VER:cond prediction: poursuivraient|VER:impf\n",
      "Expected POS tag: ajoutons|VER:impe prediction: ajoutons|VER:pres\n",
      "Expected POS tag: défende|VER:subp prediction: défende|VER:pres\n",
      "Expected POS tag: que|PRO:REL prediction: que|KON\n",
      "Expected POS tag: comme|KON prediction: comme|ADV\n",
      "Expected POS tag: flamber|VER:infi prediction: flamber|NOM\n",
      "Expected POS tag: qu'|KON prediction: qu'|PRO:REL\n",
      "Expected POS tag: que|KON prediction: que|PRO:REL\n",
      "Expected POS tag: sévère|ADJ prediction: sévère|NOM\n",
      "Expected POS tag: produit|VER:pres prediction: produit|NOM\n",
      "Expected POS tag: État|NOM prediction: État|NAM\n",
      "Expected POS tag: donatrice|ADJ prediction: donatrice|NAM\n",
      "Expected POS tag: même|ADV prediction: même|ADJ\n",
      "Expected POS tag: derniers|NOM prediction: derniers|ADJ\n",
      "Expected POS tag: l'|PRO:PER prediction: l'|DET:ART\n",
      "Expected POS tag: intersyndicale|ADJ prediction: intersyndicale|NOM\n",
      "Expected POS tag: futur|ADJ prediction: futur|NOM\n",
      "Expected POS tag: Confederation|NOM prediction: Confederation|NAM\n",
      "Expected POS tag: dépendante|ADJ prediction: dépendante|VER:ppre\n",
      "Expected POS tag: en|PRP prediction: en|PRO:PER\n",
      "Expected POS tag: affiche|VER:pres prediction: affiche|NOM\n",
      "Expected POS tag: entreprises|VER:pper prediction: entreprises|ADJ\n",
      "Expected POS tag: avant|NOM prediction: avant|PRP\n",
      "Expected POS tag: comme|KON prediction: comme|ADV\n",
      "Expected POS tag: raffermi|VER:pper prediction: raffermi|ADJ\n",
      "Expected POS tag: derniers|NOM prediction: derniers|ADJ\n",
      "Expected POS tag: idéalisés|VER:pper prediction: idéalisés|ADJ\n",
      "Expected POS tag: Supposons|VER:impe prediction: Supposons|VER:pres\n",
      "Expected POS tag: privilégié|VER:pper prediction: privilégié|ADJ\n",
      "Expected POS tag: les|DET:ART prediction: les|PRO:PER\n",
      "Expected POS tag: tchèques|ADJ prediction: tchèques|NOM\n",
      "Expected POS tag: textile|NOM prediction: textile|ADJ\n",
      "Expected POS tag: FETESE|NAM prediction: FETESE|ABR\n",
      "Expected POS tag: Cahin-caha|ADV prediction: Cahin-caha|NAM\n",
      "Expected POS tag: que|ADV prediction: que|KON\n",
      "Expected POS tag: dernier|ADJ prediction: dernier|NOM\n",
      "Expected POS tag: satisfait|VER:pres prediction: satisfait|VER:pper\n",
      "Expected POS tag: uns|PRO prediction: uns|NOM\n",
      "Total  :  12641\n",
      "Correct:  12395\n",
      "Wrong  :  246\n",
      "Correct %:  98.05395142789337\n",
      "Wrong   %:  1.9460485721066372\n"
     ]
    }
   ],
   "source": [
    "# This code allows you to see the mislabelled examples\n",
    "\n",
    "y_dev_oh = to_categorical(Y_dev_indices, num_classes = numClasses)\n",
    "X_dev_indices = lists_to_indices(X_dev, word_to_index, maxLen)\n",
    "pred = model.predict(X_dev_indices)\n",
    "\n",
    "correct = 0\n",
    "wrong = 0\n",
    "\n",
    "\n",
    "for i in range(len(X_dev)-1):\n",
    "    for j in range(len(X_dev[i])):\n",
    "        num = np.argmax(pred[i][j])\n",
    "        if(num != Y_dev_indices[i][j]):\n",
    "            wrong = wrong + 1\n",
    "            print('Expected POS tag: '+ X_dev[i][j] + '|' + Y_dev[i][j] + ' prediction: '+ X_dev[i][j] + '|' + index_to_pos2[num])\n",
    "        else:\n",
    "            correct = correct + 1\n",
    "total = wrong + correct\n",
    "print(\"Total  : \", total)\n",
    "print(\"Correct: \", correct)\n",
    "print(\"Wrong  : \", wrong)\n",
    "\n",
    "cpct = (100*correct)/total\n",
    "wpct = (100*wrong)/total\n",
    "print(\"Correct %: \", cpct)\n",
    "print(\"Wrong   %: \", wpct)"
   ]
  },
  {
   "cell_type": "markdown",
   "metadata": {},
   "source": [
    "### POStagger results on development set\n",
    "\n",
    "| tagset | LTSM units | batchnorm | dropout | epochs | results |\n",
    "|:-----|---------:|:----------:|-------:|-----:|----------:|\n",
    "| tt | 128 | no | 0 |  50 | 98.50 |\n"
   ]
  },
  {
   "cell_type": "code",
   "execution_count": null,
   "metadata": {
    "collapsed": true
   },
   "outputs": [],
   "source": [
    "model.save('tt_pos.h5')"
   ]
  },
  {
   "cell_type": "markdown",
   "metadata": {},
   "source": [
    "## 5. Training the Supertagger\n",
    "\n",
    "We split the data as before, only using Z (supertags) instead of Y2 (treetagger POStag set) as the goal"
   ]
  },
  {
   "cell_type": "code",
   "execution_count": 42,
   "metadata": {},
   "outputs": [
    {
     "name": "stdout",
     "output_type": "stream",
     "text": [
      "Train:  (1195,)\n",
      "Test:   (398,)\n",
      "Dev:    (399,)\n"
     ]
    }
   ],
   "source": [
    "# split the training data into the standard 60% train, 20% dev, 20% test \n",
    "X_train, X_testdev, Y_super_train, Y_super_testdev = train_test_split(X, Z, test_size=0.4)\n",
    "X_test, X_dev, Y_super_test, Y_super_dev = train_test_split(X_testdev, Y_super_testdev, test_size=0.5)\n",
    "print(\"Train: \", X_train.shape)\n",
    "print(\"Test:  \", X_test.shape)\n",
    "print(\"Dev:   \", X_dev.shape)"
   ]
  },
  {
   "cell_type": "code",
   "execution_count": null,
   "metadata": {
    "collapsed": true
   },
   "outputs": [],
   "source": [
    "# Super_model\n",
    "# this is a direct supertag model not using the part-of-speech tags\n",
    "\n",
    "def Super_model(input_shape, word_to_vec_map, word_to_index):\n",
    "    \"\"\"\n",
    "    Function creating the Emojify-v2 model's graph.\n",
    "    \n",
    "    Arguments:\n",
    "    input_shape -- shape of the input, usually (max_len,)\n",
    "    word_to_vec_map -- dictionary mapping every word in a vocabulary into its 50-dimensional vector representation\n",
    "    word_to_index -- dictionary mapping from words to their indices in the vocabulary (400,001 words)\n",
    "\n",
    "    Returns:\n",
    "    model -- a model instance in Keras\n",
    "    \"\"\"\n",
    "    \n",
    "    # Define sentence_indices as the input of the graph, it should be of shape input_shape and dtype 'int32' (as it contains indices).\n",
    "    sentence_indices = Input(shape = input_shape, dtype = 'int32')\n",
    "    \n",
    "    # Create the embedding layer pretrained with GloVe Vectors (≈1 line)\n",
    "    embedding_layer = pretrained_embedding_layer(word_to_vec_map, word_to_index)\n",
    "    \n",
    "    # Propagate sentence_indices through your embedding layer, you get back the embeddings\n",
    "    embeddings = embedding_layer(sentence_indices)   \n",
    "    \n",
    "    # Propagate the embeddings through an LSTM layer with 128-dimensional hidden state\n",
    "    # returning a batch of sequences.\n",
    "    X = LSTM(128, return_sequences=True)(embeddings) \n",
    "    X = BatchNormalization()(X)\n",
    "    X = Dropout(0.5)(X)\n",
    "    \n",
    "    # Add a (time distributed) Dense layer followed by a softmax activation\n",
    "    X = TimeDistributed(Dense(numSuperClasses, activation='softmax'))(X)\n",
    "    \n",
    "    # Create Model instance which converts sentence_indices into X.\n",
    "    model = Model(inputs=sentence_indices,outputs=X)\n",
    "        \n",
    "    return model"
   ]
  },
  {
   "cell_type": "code",
   "execution_count": null,
   "metadata": {},
   "outputs": [],
   "source": [
    "supermodel = Super_model((maxLen,), word_to_vec_map, word_to_index)\n",
    "supermodel.summary()"
   ]
  },
  {
   "cell_type": "code",
   "execution_count": null,
   "metadata": {
    "collapsed": true
   },
   "outputs": [],
   "source": [
    "supermodel.compile(loss='categorical_crossentropy', optimizer='adam', metrics=['accuracy'])"
   ]
  },
  {
   "cell_type": "code",
   "execution_count": 47,
   "metadata": {
    "collapsed": true
   },
   "outputs": [],
   "source": [
    "X_train_indices = lists_to_indices(X_train, word_to_index, maxLen)\n",
    "Y_super_train_indices = lists_to_indices(Y_super_train, super_to_index, maxLen)\n",
    "Y_super_train_oh = to_categorical(Y_super_train_indices, num_classes=numSuperClasses)"
   ]
  },
  {
   "cell_type": "code",
   "execution_count": 48,
   "metadata": {},
   "outputs": [
    {
     "name": "stdout",
     "output_type": "stream",
     "text": [
      "430.0\n",
      "[ 0.  0.  0.  0.  0.  0.  0.  0.  0.  0.  0.  0.  0.  0.  0.  0.  0.  0.\n",
      "  0.  0.  0.  0.  0.  0.  0.  0.  0.  0.  0.  0.  0.  0.  0.  0.  0.  0.\n",
      "  0.  0.  0.  0.  0.  0.  0.  0.  0.  0.  0.  0.  0.  0.  0.  0.  0.  0.\n",
      "  0.  0.  0.  0.  0.  0.  0.  0.  0.  0.  0.  0.  0.  0.  0.  0.  0.  0.\n",
      "  0.  0.  0.  0.  0.  0.  0.  0.  0.  0.  0.  0.  0.  0.  0.  0.  0.  0.\n",
      "  0.  0.  0.  0.  0.  0.  0.  0.  0.  0.  0.  0.  0.  0.  0.  0.  0.  0.\n",
      "  0.  0.  0.  0.  0.  0.  0.  0.  0.  0.  0.  0.  0.  0.  0.  0.  0.  0.\n",
      "  0.  0.  0.  0.  0.  0.  0.  0.  0.  0.  0.  0.  0.  0.  0.  0.  0.  0.\n",
      "  0.  0.  0.  0.  0.  0.  0.  0.  0.  0.  0.  0.  0.  0.  0.  0.  0.  0.\n",
      "  0.  0.  0.  0.  0.  0.  0.  0.  0.  0.  0.  0.  0.  0.  0.  0.  0.  0.\n",
      "  0.  0.  0.  0.  0.  0.  0.  0.  0.  0.  0.  0.  0.  0.  0.  0.  0.  0.\n",
      "  0.  0.  0.  0.  0.  0.  0.  0.  0.  0.  0.  0.  0.  0.  0.  0.  0.  0.\n",
      "  0.  0.  0.  0.  0.  0.  0.  0.  0.  0.  0.  0.  0.  0.  0.  0.  0.  0.\n",
      "  0.  0.  0.  0.  0.  0.  0.  0.  0.  0.  0.  0.  0.  0.  0.  0.  0.  0.\n",
      "  0.  0.  0.  0.  0.  0.  0.  0.  0.  0.  0.  0.  0.  0.  0.  0.  0.  0.\n",
      "  0.  0.  0.  0.  0.  0.  0.  0.  0.  0.  0.  0.  0.  0.  0.  0.  0.  0.\n",
      "  0.  0.  0.  0.  0.  0.  0.  0.  0.  0.  0.  0.  0.  0.  0.  0.  0.  0.\n",
      "  0.  0.  0.  0.  0.  0.  0.  0.  0.  0.  0.  0.  0.  0.  0.  0.  0.  0.\n",
      "  0.  0.  0.  0.  0.  0.  0.  0.  0.  0.  0.  0.  0.  0.  0.  0.  0.  0.\n",
      "  0.  0.  0.  0.  0.  0.  0.  0.  0.  0.  0.  0.  0.  0.  0.  0.  0.  0.\n",
      "  0.  0.  0.  0.  0.  0.  0.  0.  0.  0.  0.  0.  0.  0.  0.  0.  0.  0.\n",
      "  0.  0.  0.  0.  0.  0.  0.  0.  0.  0.  0.  0.  0.  0.  0.  0.  0.  0.\n",
      "  0.  0.  0.  0.  0.  0.  0.  0.  0.  0.  0.  0.  0.  0.  0.  0.  0.  0.\n",
      "  0.  0.  0.  0.  0.  0.  0.  0.  0.  0.  0.  0.  0.  0.  0.  0.  1.  0.\n",
      "  0.  0.  0.  0.  0.  0.  0.  0.  0.  0.  0.  0.  0.  0.  0.  0.  0.  0.\n",
      "  0.  0.  0.  0.  0.  0.  0.  0.  0.  0.  0.  0.  0.  0.  0.  0.  0.  0.\n",
      "  0.  0.  0.  0.  0.  0.  0.  0.  0.  0.  0.  0.  0.  0.  0.  0.  0.  0.\n",
      "  0.  0.  0.  0.  0.  0.  0.  0.  0.  0.  0.  0.  0.  0.  0.  0.  0.  0.\n",
      "  0.  0.  0.  0.  0.  0.  0.  0.  0.  0.  0.  0.  0.  0.]\n"
     ]
    }
   ],
   "source": [
    "print(Y_super_train_indices[2][1])\n",
    "print(Y_super_train_oh[2][1])"
   ]
  },
  {
   "cell_type": "code",
   "execution_count": 49,
   "metadata": {
    "collapsed": true
   },
   "outputs": [],
   "source": [
    "X_dev_indices = lists_to_indices(X_dev, word_to_index, max_len = maxLen)\n",
    "Y_super_dev_indices = lists_to_indices(Y_super_dev, super_to_index, max_len = maxLen)\n",
    "Y_super_dev_oh = to_categorical(Y_super_dev_indices, num_classes = numSuperClasses)"
   ]
  },
  {
   "cell_type": "code",
   "execution_count": null,
   "metadata": {},
   "outputs": [],
   "source": [
    "history = supermodel.fit(X_train_indices, Y_super_train_oh, epochs = 10, batch_size = 32, shuffle=True, validation_data=(X_dev_indices,Y_super_dev_oh))"
   ]
  },
  {
   "cell_type": "code",
   "execution_count": null,
   "metadata": {
    "scrolled": true
   },
   "outputs": [],
   "source": [
    "plt.plot(history.history['loss'])\n",
    "plt.plot(history.history['val_loss'])\n",
    "plt.title('model train vs validation loss')\n",
    "plt.ylabel('loss')\n",
    "plt.xlabel('epoch')\n",
    "plt.legend(['train', 'validation'], loc='upper right')\n",
    "plt.show()"
   ]
  },
  {
   "cell_type": "code",
   "execution_count": null,
   "metadata": {},
   "outputs": [],
   "source": [
    "plt.plot(history.history['acc'])\n",
    "plt.plot(history.history['val_acc'])\n",
    "plt.title('model train vs validation accuracy')\n",
    "plt.ylabel('accuracy')\n",
    "plt.xlabel('epoch')\n",
    "plt.legend(['train', 'validation'], loc='upper right')\n",
    "plt.show()"
   ]
  },
  {
   "cell_type": "code",
   "execution_count": null,
   "metadata": {},
   "outputs": [],
   "source": [
    "loss, acc = supermodel.evaluate(X_dev_indices, Y_super_dev_oh)\n",
    "print()\n",
    "print(\"Test accuracy = \", acc)"
   ]
  },
  {
   "cell_type": "code",
   "execution_count": null,
   "metadata": {
    "collapsed": true
   },
   "outputs": [],
   "source": [
    "supermodel.save('supertagger.h5')"
   ]
  },
  {
   "cell_type": "markdown",
   "metadata": {},
   "source": [
    "### Supertagger results on development set\n",
    "\n",
    "| LTSM units | batchnorm | dropout | epochs | results |\n",
    "|---------:|:----------:|-------:|----:|----------:|\n",
    "| 128 | yes | .2 |  50 | 80.21 |\n",
    "| 256 | yes | .2 |  50 | |"
   ]
  },
  {
   "cell_type": "code",
   "execution_count": 54,
   "metadata": {},
   "outputs": [
    {
     "name": "stdout",
     "output_type": "stream",
     "text": [
      "yves|PRO:PER acceptera|VER:futu le|DET:ART lait|NOM "
     ]
    }
   ],
   "source": [
    "tag_sequence(\"yves acceptera le lait\", model, word_to_index, index_to_pos2)"
   ]
  },
  {
   "cell_type": "code",
   "execution_count": 56,
   "metadata": {},
   "outputs": [
    {
     "name": "stdout",
     "output_type": "stream",
     "text": [
      "yves|np acceptera|dr(0,dl(0,np,s),dl(0,np,s_inf)) le|dr(0,np,n) lait|n "
     ]
    }
   ],
   "source": [
    "tag_sequence(\"yves acceptera le lait\", superposmodel, word_to_index, index_to_super)"
   ]
  },
  {
   "cell_type": "code",
   "execution_count": 58,
   "metadata": {},
   "outputs": [
    {
     "name": "stdout",
     "output_type": "stream",
     "text": [
      "Par|PRP petits|ADJ groupes|NOM ,|PUN chacun|PRO:IND va|VER:pres commentant|VER:ppre le|DET:ART futur|NOM ou|KON ,|PUN comme|ADV dans|PRP les|DET:ART vieux|ADJ couples|NOM qui|PRO:REL n'|ADV arrivent|VER:pres pas|ADV à|PRP se|PRO:PER faire|VER:infi à|PRP l'|DET:ART idée|NOM du|PRP:det veuvage|NOM ,|PUN ressassant|VER:ppre le|DET:ART passé|NOM .|PUN \n",
      "En|PRP un|DET:ART an|NOM (|PUN décembre|NOM 1991|ADJ comparé|VER:pper à|PRP décembre|NOM 1990|ADJ )|PUN ,|PUN la|DET:ART hausse|NOM des|PRP:det prix|NOM de|PRP détail|NOM est|VER:pres de|PRP 3,1|DET:ART %|SYM .|PUN \n",
      "Le|DET:ART repli|NOM du|PRP:det mark|NOM a|VER:pres ,|PUN très|ADV logiquement|ADV ,|PUN été|VER:pper profitable|ADJ pour|PRP les|DET:ART autres|ADJ monnaies|NOM du|PRP:det système|NOM monétaire|ADJ européen|ADJ ,|PUN surtout|ADV le|DET:ART franc|NOM français|ADJ ,|PUN le|DET:ART cours|NOM de|PRP la|DET:ART devise|NOM allemande|ADJ revenant|VER:ppre ,|PUN à|PRP Paris|NAM ,|PUN à|PRP son|DET:POS cours|NOM d'|PRP il|PRO:PER y|PRO:PER a|VER:pres neuf|VER:pper semaines|NOM :|PUN 3,4130|DET:ART F|NOM ,|PUN ce|PRO:DEM qui|PRO:REL soulage|VER:pres nettement|ADV la|DET:ART banque|NOM de|PRP France|NOM .|PUN \n",
      "Les|DET:ART hommes|NOM politiques|ADJ observent|VER:pres le|DET:ART silence|NOM en|PRP arguant|VER:ppre de|PRP la|DET:ART seule|ADJ compétence|NOM du|PRP:det CSA|NOM ,|PUN ou|KON ne|ADV versent|VER:pres guère|ADV de|PRP larmes|NOM .|PUN \n",
      "Sur|PRP deux|DET:ART ans|NOM ,|PUN le|DET:ART gouvernement|NOM espère|VER:pres la|DET:ART création|NOM de|PRP 100.000|DET:POS à|PRP 150.000|DET:ART emplois|NOM ,|PUN essentiellement|ADV à|PRP temps|NOM partiel|ADJ ,|PUN dont|PRO:REL 50.000|DET:ART proviendraient|VER:impf du|PRP:det blanchiment|NOM du|PRP:det travail|NOM au|PRP:det noir|NOM .|PUN \n",
      "À|PRP l'|DET:ART occasion|NOM de|PRP la|DET:ART présentation|NOM de|PRP ses|DET:POS voeux|NOM à|PRP la|DET:ART population|NOM allemande|ADJ ,|PUN retransmise|VER:pper à|PRP la|DET:ART télévision|NOM lundi|INT 30|ADJ décembre|NOM ,|PUN M.|ABR Helmut|NAM Kohl|NAM a|VER:pres mis|VER:pper en|PRP garde|NOM les|DET:ART syndicats|NOM contre|PRP les|DET:ART conséquences|NOM de|PRP dérapages|NOM salariaux|ADJ .|PUN \n",
      "Les|DET:ART salariés|NOM de|PRP la|DET:ART chaîne|NOM de|PRP télévision|NOM sont|VER:pres encore|ADV sous|PRP le|DET:ART choc|NOM de|PRP l'|DET:ART annonce|NOM du|PRP:det dépôt|NOM de|PRP bilan|NOM .|PUN \n",
      "Les|DET:ART inquiétudes|NOM que|KON suscite|VER:pres en|PRP France|NOM l'|DET:ART arrêt|NOM de|PRP la|DET:ART reprise|NOM économique|ADJ dans|PRP les|DET:ART pays|NOM anglo-saxons|VER:pres auront|VER:pres été|VER:pper atténuées|VER:pper en|PRP fin|NOM d'|PRP année|NOM par|PRP les|DET:ART bonnes|ADJ nouvelles|ADJ du|PRP:det commerce|NOM extérieur|ADJ .|PUN \n",
      "Il|PRO:PER n'|ADV y|PRO:PER a|VER:pres rien|VER:pper à|PRP ajouter|VER:infi ,|PUN personne|PRO:IND ne|ADV reprend|VER:pres la|DET:ART parole|NOM dans|PRP cette|PRO:DEM assemblée|NOM pourtant|ADV habituée|VER:pper à|PRP manier|VER:infi le|DET:ART micro|NOM .|PUN \n",
      "D'|PRP autres|ADJ mesures|NOM seront|VER:futu arrêtées|VER:pper prochainement|ADV par|PRP des|PRP:det comités|NOM interministériels|ADJ ,|PUN afin|ADV de|PRP compléter|VER:infi la|DET:ART liste|NOM des|PRP:det organismes|NOM qui|PRO:REL devront|VER:pres être|VER:infi décentralisés|ADJ durant|PRP les|DET:ART trois|ADJ prochaines|ADJ années|NOM .|PUN \n",
      "-|PUN Les|DET:ART chefs|NOM de|PRP train|NOM et|KON le|PRO:PER personnel|NOM d'|PRP accompagnement|NOM des|PRP:det chemins|NOM de|PRP fer|NOM italiens|ADJ (|PUN FS|NOM )|PUN sont|VER:pres appelés|VER:pper par|PRP le|DET:ART syndicat|NOM autonome|ADJ COBAS|NOM à|PRP cesser|VER:infi le|DET:ART travail|NOM ,|PUN mercredi|INT 8|ADJ janvier|NOM ,|PUN de|PRP 9|PRO:PER heures|NOM à|PRP 18|PRO:PER heures|NOM .|PUN \n",
      "L'|DET:ART évolution|NOM spontanée|ADJ des|PRP:det taux|NOM d'|PRP intérêt|NOM les|PRO:PER y|PRO:PER encourage|VER:pres .|PUN \n",
      "La|DET:ART COB|ABR reproche|VER:pres aussi|ADV aux|PRP:det anciens|ADJ dirigeants|NOM de|PRP VEV|ABR d'|PRP avoir|VER:infi cédé|VER:pper des|DET:ART titres|NOM d'|PRP autocontrôle|NOM peu|ADV avant|PRP la|DET:ART suspension|NOM de|PRP la|DET:ART cotation|NOM et|KON d'|PRP avoir|VER:infi inscrit|VER:pper dans|PRP les|DET:ART comptes|NOM une|DET:ART plus-value|NOM fictive|ADJ .|PUN \n",
      "La|DET:ART télévision|NOM est|VER:pres devenue|VER:pper un|DET:ART géant|NOM social|ADJ ,|PUN un|DET:ART grand|ADJ \"|PUN:cit potlach|NOM chronophage|ADJ \"|PUN:cit ,|PUN un|DET:ART autel|NOM domestique|ADJ sur|PRP lequel|PRO:REL nous|PRO:PER immolons|VER:pres notre|DET:POS temps|NOM disponible|ADJ ,|PUN voire|KON exorcisons|VER:pres l'|DET:ART angoisse|NOM du|PRP:det long|ADJ face-à-face|NOM des|PRP:det couples|NOM qu'|PRO:REL allonge|VER:pres une|DET:ART durée|NOM de|PRP vie|NOM croissante|ADJ .|PUN \n",
      "La|DET:ART TIPP|ABR aura|VER:pres rapporté|VER:pper à|PRP l'|DET:ART Etat|NOM 116,5|DET:ART milliards|NOM de|PRP francs|NOM en|PRP 1991|PRO:PER .|PUN \n",
      "Au|PRP:det fil|NOM des|PRP:det pages|NOM ,|PUN le|DET:ART lecteur|NOM de|PRP cette|PRO:DEM bible|NOM apprenait|VER:impf que|KON le|DET:ART délai|NOM d'|PRP écriture|NOM du|PRP:det synopsis|NOM devrait|VER:cond être|VER:infi de|PRP \"|PUN:cit cinq|DET:ART jours|NOM pleins|ADJ (|PUN week-end|NOM inclus|VER:pper )|PUN \"|PUN:cit .|PUN \n",
      "L'|DET:ART automobile|NOM sera|VER:futu le|DET:ART gros|ADJ dossier|NOM économique|ADJ de|PRP la|DET:ART visite|NOM au|PRP:det Japon|NOM du|PRP:det président|NOM américain|ADJ ,|PUN M.|ABR George|NAM Bush|NAM ,|PUN à|PRP partir|VER:infi du|PRP:det mardi|NOM 7|ADJ janvier|NOM .|PUN \n",
      "Mais|KON ils|PRO:PER ont|VER:pres en|PRP commun|NOM une|ADJ activité|NOM à|PRP haute|ADJ visibilité|NOM -|PUN pour|PRP le|DET:ART grand|ADJ public|NOM -|PUN et|KON souvent|ADV à|PRP grande|ADJ opacité|NOM -|PUN pour|PRP les|DET:ART comptes|NOM .|PUN \n",
      "\"|PUN:cit Je|PRO:PER déplore|VER:pres ces|DET:ART difficultés|NOM .|PUN \n",
      "Alors|KON que|KON M.|ABR Louis|NAM Viannet|NAM devrait|VER:cond succéder|VER:infi à|PRP M.|ABR Henri|NAM Krasucki|NAM au|PRP:det poste|NOM de|PRP secrétaire|NOM général|ADJ ,|PUN la|DET:ART moitié|NOM du|PRP:det bureau|NOM confédéral|ADJ (|PUN seize|DET:ART membres|PRP )|PUN pourrait|VER:cond être|VER:infi renouvelée|VER:pper .|PUN \n",
      "De|PRP son|DET:POS côté|NOM ,|PUN \"|PUN:cit l'|DET:ART amicale|NOM des|PRP:det Teochew|NAM \"|PUN:cit assure|VER:pres qu'|KON elle|PRO:DEM est|VER:pres \"|PUN:cit une|DET:ART association|NOM régionale|ADJ et|KON culturelle|ADJ \"|PUN:cit .|PUN \n",
      "Ils|PRO:PER ont|VER:pres expliqué|VER:pper que|KON pour|PRP obtenir|VER:infi des|DET:ART devises|NOM le|PRO:PER gouvernement|NOM a|VER:pres décidé|VER:pper que|KON les|DET:ART exportateurs|NOM russes|ADJ devaient|VER:impf maintenant|ADV échanger|VER:infi 40|DET:ART %|SYM de|PRP leurs|DET:POS devises|NOM auprès|PRP d'|PRP un|DET:ART fond|NOM spécial|ADJ de|PRP la|DET:ART Vnesheconombank|NAM .|PUN \n",
      "Ils|PRO:PER estiment|VER:pres que|KON la|DET:ART reprise|NOM outre-Atlantique|ADJ est|VER:pres à|PRP portée|NOM de|PRP main|NOM ,|PUN appuyant|VER:ppre leur|DET:POS discours|NOM sur|PRP le|DET:ART fait|NOM que|PRO:REL si|KON les|DET:ART statistiques|NOM américaines|ADJ ne|ADV sont|VER:pres pas|ADV bonnes|ADJ ,|PUN elles|PRO:PER sont|VER:pres moins|ADV mauvaises|ADJ que|PRO:REL prévu|VER:pper .|PUN \n",
      "De|PRP même|ADV ,|PUN dès|PRP soixante|DET:ART ans|NOM ,|PUN les|DET:ART idées|NOM traditionalistes|ADJ sur|PRP les|DET:ART grands|ADJ thèmes|NOM de|PRP société|NOM s'|PRO:PER incrustent|VER:pres :|PUN 40|DET:ART %|SYM des|PRP:det soixante|NUM et|KON un|DET:ART à|PRP soixante-cinq|DET:ART ans|NOM estiment|VER:pres le|DET:ART mariage|NOM indissoluble|ADJ ,|PUN 50|DET:ART %|SYM des|PRP:det personnes|NOM de|PRP cette|PRO:DEM même|ADJ classe|NOM d'|PRP âge|NOM s'|PRO:PER en|PRO:PER remettent|VER:pres totalement|ADV au|PRP:det médecin|NOM pour|PRP les|DET:ART problèmes|NOM de|PRP santé|NOM et|KON ne|ADV croient|VER:pres pas|ADV à|PRP la|DET:ART responsabilisation|NOM du|PRP:det malade|NOM ,|PUN 50|DET:ART %|SYM toujours|ADV pensent|VER:pres que|KON les|DET:ART découvertes|NOM scientifiques|ADJ n'|ADV améliorent|VER:pres pas|ADV du|PRP:det tout|NOM la|PRO:PER vie|NOM .|PUN \n",
      "En|PRP outre|NOM ,|PUN le|DET:ART constructeur|NOM allemand|ADJ est|VER:pres toujours|ADV en|PRP pourparlers|NOM avec|PRP Liaz|NAM et|KON Tatra|NAM ,|PUN les|DET:ART deux|ADJ autres|ADJ constructeurs|NOM tchèques|ADJ de|PRP camions|NOM .|PUN \n",
      "\"|PUN:cit En|PRP Belgique|NOM et|KON en|PRP Allemagne|NOM ,|PUN nous|PRO:PER achetons|VER:pres les|DET:ART voitures|NOM avec|PRP des|PRP:det prix|NOM de|PRP 20|DET:POS à|PRP 24|PRO:PER %|SYM inférieurs|ADJ à|PRP ceux|PRO:DEM pratiqués|VER:pper en|PRP France|NOM ,|PUN précise|VER:pres M.|ABR Michel|NAM Leclerc|NAM .|PUN \n",
      "La|DET:ART commission|NOM supérieure|ADJ du|PRP:det service|NOM public|ADJ des|PRP:det postes|NOM et|KON télécommunications|NOM (|PUN formée|VER:pper en|PRP majorité|NOM de|PRP parlementaires|NOM et|KON chargée|VER:pper de|PRP veiller|VER:infi sur|PRP l'|DET:ART application|NOM de|PRP la|DET:ART réforme|NOM des|PRP:det P|ABR et|KON T|ABR )|PUN ,|PUN est|VER:pres ,|PUN elle|PRO:DEM ,|PUN plutôt|ADV déçue|VER:pper par|PRP ce|PRO:DEM contrat|NOM de|PRP plan|NOM signé|VER:pper jeudi|INT 9|ADJ janvier|NOM :|PUN \"|PUN:cit Le|DET:ART principe|NOM de|PRP juste|ADV rémunération|NOM des|PRP:det prestations|NOM rendues|VER:pper à|PRP l'|DET:ART Etat|NOM n'|ADV est|VER:pres pas|ADV concrétisé|VER:pper .|PUN \n",
      "50|DET:POS %|SYM du|PRP:det panel|NOM interrogé|VER:pper estime|PRP que|KON les|DET:ART choses|NOM ne|ADV se|PRO:PER sont|VER:pres pas|ADV passées|VER:pper comme|PRP les|PRO:PER écrivent|VER:pres les|DET:ART journaux|NOM (|PUN contre|PRP 47|DET:ART %|SYM en|PRP 1987|PRO:PER )|PUN ,|PUN tandis|KON que|KON 54|DET:ART %|SYM estiment|VER:pres que|KON la|DET:ART réalité|NOM est|VER:pres telle|ADJ que|KON la|DET:ART relate|VER:pres la|DET:ART radio|NOM (|PUN contre|PRP 56|DET:ART %|SYM il|PRO:PER y|PRO:PER a|VER:pres cinq|DET:ART ans|NOM )|PUN .|PUN \n",
      "La|DET:ART loi|NOM du|PRP:det 25|ADJ juin|NOM 1991|ADJ reprend|VER:pres les|DET:ART grandes|ADJ lignes|NOM de|PRP la|DET:ART directive|NOM concernant|VER:ppre les|DET:ART obligations|NOM réciproques|ADJ de|PRP l'|DET:ART agent|NOM commercial|ADJ et|KON de|PRP son|DET:POS mandant|NOM et|KON succède|VER:pres au|PRP:det décret|NOM du|PRP:det 23|ADJ décembre|NOM 1958|ADJ sur|PRP l'|DET:ART organisation|NOM de|PRP cette|PRO:DEM profession|NOM .|PUN \n",
      "Comme|KON les|PRO:PER autres|ADJ régions|NOM d'|PRP outre-mer|NOM et|KON comme|ADV la|DET:ART Corse|NOM ,|PUN La|DET:ART Réunion|NAM est|VER:pres considérée|VER:pper par|PRP la|DET:ART Commission|NOM de|PRP Bruxelles|NAM comme|PRO:REL une|DET:ART \"|PUN:cit région|NOM en|PRO:PER retard|NOM de|PRP développement|NOM \"|PUN:cit .|PUN \n",
      "Le|DET:ART conflit|NOM portait|VER:impf sur|PRP les|DET:ART effectifs|NOM et|KON les|DET:ART conditions|NOM de|PRP travail|NOM .|PUN \n",
      "Le|DET:ART dépôt|NOM de|PRP bilan|NOM ne|ADV signifie|VER:pres pas|ADV forcément|ADV dans|PRP l'|DET:ART immédiat|NOM l'|PRO:PER arrêt|NOM des|PRP:det émissions|NOM .|PUN \n",
      "Ces|DET:ART opérations|NOM ,|PUN selon|PRP la|DET:ART société|NOM ,|PUN doivent|VER:pres permettre|VER:infi notamment|ADV de|PRP \"|PUN:cit renforcer|VER:infi les|DET:ART positions|NOM de|PRP chacune|PRO:IND des|PRP:det filiales|NOM dans|PRP leur|DET:POS secteur|NOM d'|PRP activité|NOM \"|PUN:cit et|KON \"|PUN:cit d'|PRP accroître|VER:infi leurs|DET:POS parts|NOM de|PRP marché|NOM par|PRP de|PRP nouveaux|ADJ axes|NOM de|PRP développement|NOM .|PUN \n",
      "Pour|PRP les|DET:ART accidents|NOM du|PRP:det travail|NOM ,|PUN il|PRO:PER s'|PRO:PER établit|VER:pres à|PRP 712,20|DET:ART francs|NOM .|PUN \n",
      "De|PRP même|ADV que|KON le|DET:ART surinvestissement|NOM avait|VER:impf fini|VER:pper par|PRP miner|VER:infi la|DET:ART situation|NOM financière|ADJ des|PRP:det entreprises|NOM ,|PUN de|PRP même|ADV la|DET:ART pause|NOM des|PRP:det achats|NOM d'|PRP équipement|NOM et|KON la|DET:ART maîtrise|NOM des|PRP:det stocks|NOM vont|VER:pres permettre|VER:infi de|PRP la|PRO:PER rétablir|VER:infi .|PUN \n",
      "Le|DET:ART tribunal|NOM de|PRP commerce|NOM de|PRP Luxembourg|NOM a|VER:pres prononcé|VER:pper ,|PUN vendredi|INT 3|ADJ janvier|NOM ,|PUN la|DET:ART liquidation|NOM de|PRP la|DET:ART Banque|NOM of|PRP:det Credit|NOM and|KON Commerce|NAM International|ADJ (|PUN BCCI|ABR SA|ABR )|PUN ,|PUN fermée|VER:pper pour|PRP activités|NOM frauduleuses|ADJ depuis|PRP le|DET:ART 1|ADJ août|NOM dernier|ADJ (|PUN le|DET:ART Monde|NOM du|PRP:det 8|ADJ août|NOM 1991|ADJ )|PUN .|PUN \n",
      "L'|DET:ART enjeu|NOM évoqué|VER:pper ?|PUN \n",
      "Le|DET:ART vocabulaire|NOM s'|PRO:PER enrichit|VER:pres avec|PRP ,|PUN maintenant|ADV ,|PUN les|DET:ART diverses|ADJ dispositions|NOM d'|PRP ordre|NOM maritime|ADJ (|PUN DDOM|NAM )|PUN que|PRO:REL le|DET:ART secrétaire|NOM d'|PRP Etat|NOM à|PRP la|DET:ART mer|NOM ,|PUN M.|ABR Jean-Yves|NAM Le|DET:ART Drian|NAM ,|PUN a|VER:pres fait|VER:pper adopter|VER:infi le|DET:ART 3|ADJ janvier|NOM au|PRP:det conseil|NOM des|PRP:det ministres|NOM .|PUN \n",
      "Elle|PRO:DEM devra|VER:futu permettre|VER:infi d'|PRP augmenter|VER:infi le|DET:ART cercle|NOM des|PRP:det emprunteurs|NOM en|PRP eurofrancs|NOM .|PUN \n",
      "De|PRP l'|DET:ART évolution|NOM de|PRP ces|DET:ART deux|ADJ secteurs|NOM ,|PUN actuellement|ADV en|PRP crise|NOM ,|PUN dépendra|VER:futu largement|ADV ,|PUN selon|PRP M.|ABR Eysymontt|NAM ,|PUN celle|PRO:DEM de|PRP la|DET:ART conjoncture|NOM en|PRP général|NOM ,|PUN et|KON c'|PRO:DEM est|VER:pres pourquoi|ADV il|PRO:PER est|VER:pres nécessaire|ADJ de|PRP les|PRO:PER protéger|VER:infi ,|PUN au|PRP:det besoin|NOM en|PRP relevant|VER:ppre les|DET:ART droits|NOM de|PRP douane|NOM .|PUN \n",
      "Et|KON le|DET:ART moindre|ADJ de|PRP ses|DET:POS paradoxes|NOM n'|ADV est|VER:pres pas|ADV que|ADV ,|PUN dans|PRP la|DET:ART dialectique|NOM qui|PRO:REL s'|PRO:PER est|VER:pres installée|VER:pper entre|PRP l'|DET:ART objet|NOM -|PUN téléviseur|NOM et|KON le|DET:ART sujet|NOM -|PUN téléspectateur|NOM ,|PUN c'|PRO:DEM est|VER:pres pour|PRP l'|DET:ART instant|NOM le|DET:ART second|ADJ qui|PRO:REL en|PRO:PER a|VER:pres été|VER:pper le|DET:ART plus|ADV modifié|VER:pper .|PUN \n",
      "Réduire|VER:infi les|DET:ART périodes|NOM de|PRP découvert|NOM \n",
      "La|DET:ART Sécu|NOM nous|PRO:PER a|VER:pres avisés|VER:pper ,|PUN triomphalement|ADV ,|PUN qu'|KON on|PRO:PER allait|VER:impf tout|ADV simplifier|VER:infi ,|PUN et|KON que|KON -|PUN ô|VER:pres miracle|ADJ -|PUN on|PRO:PER pourrait|VER:cond ,|PUN l'|PRO:PER an|NOM prochain|ADJ ,|PUN déduire|VER:infi une|DET:ART partie|NOM de|PRP ces|DET:POS salaires|NOM versés|VER:pper de|PRP nos|DET:POS revenus|NOM .|PUN \n",
      "M.|ABR Major|NAM estime|VER:pres qu'|KON une|DET:ART reprise|NOM ,|PUN bien|ADV qu'|KON irrégulière|ADJ ,|PUN est|VER:pres quand|KON même|ADV en|PRP cours|NOM dans|PRP son|DET:POS pays|NOM .|PUN \n",
      "Une|DET:ART fois|NOM les|DET:ART réformes|NOM lancées|VER:pper ,|PUN les|DET:ART Occidentaux|ADJ consentiraient|VER:impf ,|PUN alors|ADV ,|PUN un|DET:ART soutien|NOM technique|ADJ et|KON financier|ADJ important|ADJ ,|PUN sous|PRP l'|DET:ART égide|NOM des|PRP:det organismes|NOM internationaux|ADJ .|PUN \n",
      "La|DET:ART balance|NOM commerciale|ADJ de|PRP la|DET:ART France|NOM est|VER:pres en|PRP train|NOM de|PRP se|PRO:PER rétablir|VER:infi après|PRP des|PRP:det années|NOM de|PRP déficit|NOM aggravé|ADJ .|PUN \n",
      "La|DET:ART technique|NOM ne|ADV vient|VER:pres qu'|ADV épauler|VER:infi ,|PUN compléter|VER:infi la|DET:ART pratique|NOM d'|PRP une|DET:ART profession|NOM liée|VER:pper à|PRP l'|DET:ART histoire|NOM marchande|ADJ du|PRP:det monde|NOM .|PUN \n",
      "Il|PRO:PER sera|VER:futu politiquement|ADV difficile|ADJ à|PRP la|DET:ART Communauté|NAM ,|PUN compte|VER:pres tenu|VER:pper des|PRP:det engagements|NOM pris|VER:pper au|PRP:det cours|NOM de|PRP l'|DET:ART Uruguay|NOM round|VER:pres de|PRP renforcer|VER:infi les|DET:ART règles|NOM et|KON disciplines|NOM du|PRP:det GATT|NOM ,|PUN de|PRP ne|ADV pas|ADV s'|PRO:PER incliner|VER:infi devant|PRP l'|DET:ART arbitrage|NOM des|PRP:det experts|NOM .|PUN \n",
      "Membre|VER:pres du|PRP:det CES|ABR ,|PUN à|PRP Bruxelles|NAM ,|PUN depuis|PRP 1986|PRO:PER ,|PUN sur|PRP proposition|NOM de|PRP la|DET:ART CFDT|ABR ,|PUN François|NAM Staedelin|NAM avait|VER:impf été|VER:pper élu|VER:pper président|PRO:PER du|PRP:det collège|NOM des|PRP:det travailleurs|NOM puis|KON ,|PUN en|PRP octobre|NOM 1990|ADJ ,|PUN porté|VER:pper à|PRP la|DET:ART présidence|NOM de|PRP l'|DET:ART institution|NOM ,|PUN exercée|VER:pper alternativement|ADV ,|PUN tous|ADV les|DET:ART deux|ADJ ans|NOM ,|PUN par|PRP un|DET:ART représentant|NOM des|PRP:det employeurs|NOM ou|KON des|PRP:det salariés|NOM .|PUN \n",
      "Or|KON l'|DET:ART ordinateur|NOM a|VER:pres quitté|VER:pper le|DET:ART bureau|NOM pour|PRP envahir|VER:infi le|DET:ART domicile|NOM .|PUN \n",
      "Si|KON l'|DET:ART on|PRO:PER compare|VER:pres l'|DET:ART ensemble|NOM des|PRP:det cotisations|NOM versées|VER:pper par|PRP les|DET:ART anciens|ADJ salariés|NOM durant|PRP leur|DET:POS vie|NOM active|ADJ et|KON le|DET:ART total|NOM des|PRP:det pensions|NOM perçues|VER:pper (|PUN qu'|PRO:REL il|PRO:PER s'|PRO:PER agisse|VER:pres de|PRP la|DET:ART sécurité|NOM sociale|ADJ ou|KON des|PRP:det régimes|NOM complémentaires|ADJ )|PUN ,|PUN peu|ADV de|PRP différences|NOM apparaissent|VER:pres entre|PRP catégories|NOM socio-professionnelles|ADJ .|PUN \n",
      "La|DET:ART majorité|NOM du|PRP:det capital|NOM restera|VER:futu toujours|ADV détenue|VER:pper par|PRP son|DET:POS fondateur|NOM ,|PUN M.|ABR François|NAM Marland|NAM .|PUN \n",
      "Néanmoins|ADV ,|PUN le|DET:ART clivage|NOM entre|PRP communistes|NOM et|KON non-|ADV communistes|NOM ne|ADV devrait|VER:cond pas|ADV constituer|VER:infi l'|DET:ART enjeu|NOM principal|ADJ de|PRP ce|PRO:DEM 44|PRO:REL congrès|NOM .|PUN \n",
      "Celle|PRO:DEM -ci|ADV prévoit|VER:pres que|KON l'|DET:ART autorisation|NOM d'|PRP émettre|VER:infi ,|PUN la|DET:ART \"|PUN:cit fréquence|NOM \"|PUN:cit de|PRP télévision|NOM ,|PUN est|VER:pres un|DET:ART élément|NOM du|PRP:det domaine|NOM public|ADJ ,|PUN non|ADV cessible|ADJ ,|PUN qui|PRO:REL ne|ADV fait|VER:pres donc|ADV pas|ADV partie|VER:pres du|PRP:det fonds|NOM de|PRP commerce|NOM .|PUN \n",
      "Actuellement|ADV ,|PUN pour|PRP 550.000|DET:ART emplois|NOM à|PRP domicile|NOM déclarés|VER:pper ,|PUN on|PRO:PER estime|VER:pres entre|PRP 200.000|DET:POS et|KON 300.000|DET:ART le|DET:ART nombre|NOM de|PRP ceux|PRO:DEM qui|PRO:REL sont|VER:pres occupés|VER:pper sans|PRP couverture|NOM sociale|ADJ .|PUN \n",
      "Le|DET:ART CSA|NOM est|VER:pres la|DET:ART seule|ADJ autorité|NOM qui|PRO:REL a|VER:pres pouvoir|VER:infi de|PRP prendre|VER:infi des|DET:ART décisions|NOM ,|PUN et|KON il|PRO:PER faut|VER:pres accepter|VER:infi les|DET:ART règles|NOM du|PRP:det jeu|NOM mises|VER:pper en|PRP place|NOM à|PRP partir|VER:infi de|PRP 1981|PRO:PER \"|PUN:cit ,|PUN a|VER:pres conclu|VER:pper le|DET:ART ministre|NOM .|PUN \n",
      "Objectif|NOM :|PUN faire|VER:infi partir|VER:infi provisoirement|ADV à|PRP Paris|NAM ,|PUN Lyon|NAM ou|KON Toulouse|NAM 2.000|DET:POS à|PRP 3.000|DET:POS jeunes|NOM en|PRP quête|NOM d'|PRP une|DET:ART formation|NOM de|PRP qualité|NOM pour|PRP soulager|VER:infi le|DET:ART marché|NOM du|PRP:det travail|NOM .|PUN \n",
      "En|PRP octobre|NOM ,|PUN le|DET:ART groupe|NOM annonce|VER:pres une|DET:ART perte|NOM semestrielle|ADJ de|PRP 68|DET:ART millions|NOM de|PRP francs|NOM ,|PUN mais|KON se|PRO:PER veut|VER:pres optimiste|ADJ pour|PRP l'|DET:ART ensemble|NOM de|PRP l'|DET:ART année|NOM .|PUN \n",
      "Ces|DET:ART responsables|NOM ont|VER:pres indiqué|VER:pper au|PRP:det pool|NOM bancaire|ADJ occidental|ADJ conduit|VER:pres par|PRP la|DET:ART Deutsche|NAM bank|NOM ,|PUN le|DET:ART Crédit|NOM lyonnais|ADJ et|KON l'|DET:ART Industrial|NAM bank|ADJ of|PRP Japan|NAM qu'|PRO:REL ils|PRO:PER \"|PUN:cit pourraient|VER:cond interrompre|VER:infi temporairement|ADV le|DET:ART paiement|NOM des|PRP:det intérêts|NOM \"|PUN:cit de|PRP la|DET:ART dette|NOM .|PUN \n",
      "C'|PRO:DEM est|VER:pres la|DET:ART porte|NOM ouverte|VER:pper à|PRP une|DET:ART série|NOM de|PRP \"|PUN:cit mondes|NOM virtuels|ADJ \"|PUN:cit (|PUN le|DET:ART Monde|NOM du|PRP:det 25|ADJ janvier|NOM 1991|ADJ )|PUN dans|PRP lesquels|PRO:REL nous|PRO:PER allons|VER:pres pouvoir|VER:infi nous|PRO:PER immerger|VER:infi .|PUN \n",
      "Cette|PRO:DEM lettre|NOM précisait|VER:impf notamment|ADV que|KON la|DET:ART législation|NOM française|ADJ autorisait|VER:impf \"|PUN:cit l'|DET:ART échange|NOM de|PRP stagiaires|NOM professionnels|ADJ \"|PUN:cit et|KON conseillait|VER:impf aux|PRP:det entreprises|NOM de|PRP rémunérer|VER:infi ces|DET:ART derniers|NOM \"|PUN:cit environ|ADV 2.000|DET:ART francs|NOM pour|PRP 169|DET:ART heures|NOM de|PRP travail|NOM par|PRP mois|NOM \"|PUN:cit .|PUN \n",
      "Elle|PRO:DEM précède|VER:pres la|DET:ART mise|NOM en|PRP service|NOM de|PRP portiques|NOM à|PRP conteneurs|NOM (|PUN plus|ADV de|PRP 100|DET:POS millions|NOM de|PRP francs|NOM d'|PRP investissement|NOM )|PUN en|PRP 1993|PRO:PER .|PUN \n",
      "D'|PRP un|DET:ART côté|NOM ,|PUN celle|PRO:DEM -ci|ADV paraît|VER:pres avoir|VER:infi renoncé|VER:pper ,|PUN au|PRP:det moins|NOM provisoirement|ADV ,|PUN à|PRP son|DET:POS objectif|NOM de|PRP monnaie|NOM nationale|ADJ ,|PUN mais|KON ,|PUN de|PRP l'|DET:ART autre|NOM ,|PUN elle|PRO:PER se|PRO:PER prépare|VER:pres à|PRP distribuer|VER:infi à|PRP la|DET:ART population|NOM des|PRP:det \"|PUN:cit coupons|NOM réutilisables|ADJ \"|PUN:cit fabriqués|VER:pper en|PRP France|NOM ,|PUN véritable|ADJ monnaie|NOM parallèle|ADJ .|PUN \n",
      "Qui|PRO:REL aurait|VER:cond exercé|VER:pper la|DET:ART responsabilité|NOM budgétaire|ADJ des|PRP:det 700|NUM millions|NOM de|PRP francs|NOM qu'|PRO:REL Antenne|NAM 2|PRO:REL injecte|VER:pres dans|PRP l'|DET:ART information|NOM ?|PUN \n",
      "M.|ABR Jacques|NAM Boutet|NAM ,|PUN président|NOM du|PRP:det CSA|NOM ,|PUN l'|DET:ART a|VER:pres d'|PRP ailleurs|NOM clairement|ADV réaffirmé|VER:pper dans|PRP son|DET:POS discours|NOM de|PRP voeux|NOM prononcé|VER:pper le|DET:ART 15|ADJ janvier|NOM :|PUN \"|PUN:cit Non|ADV ,|PUN le|DET:ART Conseil|NOM ne|ADV pourrait|VER:cond accepter|VER:infi un|DET:ART repreneur|NOM qui|PRO:REL poserait|VER:cond pour|PRP condition|NOM une|DET:ART modification|NOM des|PRP:det formats|NOM autorisés|VER:pper ou|KON une|DET:ART atténuation|NOM de|PRP la|DET:ART réglementation|NOM .|PUN \n",
      "D'|PRP abord|NOM l'|DET:ART ouverture|NOM de|PRP l'|DET:ART antenne|NOM le|PRO:PER matin|NOM ,|PUN à|PRP partir|VER:infi de|PRP 1984|PRO:PER ,|PUN pour|PRP une|DET:ART tranche|NOM d'|PRP animation|NOM incluant|VER:ppre quelques|DET:ART dessins|NOM animés|VER:pper à|PRP picorer|VER:infi avant|PRP l'|DET:ART école|NOM .|PUN \n",
      "Les|DET:ART pressions|NOM se|PRO:PER font|VER:pres fortes|ADJ sur|PRP les|DET:ART syndicats|NOM pour|PRP qu'|KON ils|PRO:PER tiennent|VER:pres compte|VER:pres du|PRP:det ralentissement|NOM de|PRP l'|DET:ART économie|NOM allemande|ADJ et|KON de|PRP l'|DET:ART inflation|NOM qui|PRO:REL a|VER:pres atteint|VER:pres 4,2|DET:ART %|SYM en|PRP décembre|NOM .|PUN \n",
      "Celui|PRO:DEM -ci|ADV s'|PRO:PER élève|VER:pres à|PRP la|DET:ART fois|NOM contre|PRP \"|PUN:cit le|DET:ART nombre|NOM excessif|ADJ de|PRP candidatures|NOM \"|PUN:cit présentées|VER:pper et|KON le|DET:ART refus|NOM opposé|VER:pper à|PRP une|DET:ART vingtaine|NOM de|PRP militants|NOM par|PRP ailleurs|NOM adhérents|NOM du|PRP:det PS|ABR .|PUN \n",
      "\"|PUN:cit Lorsque|KON ces|DET:ART actionnaires|NOM se|PRO:PER sont|VER:pres portés|VER:pper acquéreurs|PRO:IND ,|PUN ils|PRO:PER connaissaient|VER:impf la|DET:ART législation|NOM ,|PUN a|VER:pres encore|ADV déclaré|VER:pper M.|ABR Mitterrand|NAM .|PUN \n"
     ]
    },
    {
     "name": "stdout",
     "output_type": "stream",
     "text": [
      "Cette|PRO:DEM dix-septième|NUM édition|NOM ,|PUN réalisée|VER:pper sous|PRP la|DET:ART direction|NOM de|PRP Michel|NAM Boyer|NAM ,|PUN comprend|VER:pres 192|DET:ART pages|NOM et|KON de|PRP nombreuses|ADJ illustrations|NOM .|PUN \n",
      "\"|PUN:cit C'|PRO:DEM est|VER:pres tout|ADV le|DET:ART contraire|NOM !|PUN ,|PUN affirme|VER:pres même|ADV Anne-Marie|NAM Meissonnier|NAM .|PUN \n",
      "À|PRP ces|PRO:DEM cinq|DET:ART départs|NOM du|PRP:det bureau|NOM confédéral|ADJ ,|PUN trois|DET:ART autres|ADJ sont|VER:pres susceptibles|ADJ de|PRP s'|PRO:PER ajouter|VER:infi :|PUN ceux|PRO:DEM de|PRP Mme|ABR Jacqueline|ADJ Léonard|NAM et|KON de|PRP MM.|ABR Johannès|NAM Galland|NAM et|KON Jean-Claude|NAM Laroze|NAM .|PUN \n",
      "Il|PRO:PER devra|VER:futu toutefois|ADV se|PRO:PER plier|VER:infi aux|PRP:det règles|NOM en|PRP vigueur|NOM -|PUN n'|ADV avait|VER:impf -il|ADV pas|ADV souscrit|VER:pper aux|PRP:det promesses|NOM faites|VER:pper par|PRP Hachette|NAM en|PRP octobre|NOM 1990|ADJ ,|PUN aux|PRP:det côtés|NOM duquel|PRO:REL il|PRO:PER figurait|VER:impf ?|PUN \n",
      "Peu|ADV avant|PRP Noël|NAM ,|PUN ils|PRO:PER ont|VER:pres été|VER:pper introduits|VER:pper à|PRP la|DET:ART Bourse|NOM de|PRP Paris|NAM .|PUN \n",
      "Décret|NOM n|NOM 92|DET:ART -|PUN 506|DET:POS du|PRP:det 10|ADJ juin|NOM 1992|ADJ ,|PUN journal|NAM officiel|ADJ du|PRP:det 12|ADJ juin|NOM 1992|ADJ ,|PUN pages|NOM 7719|PRO:PER et|KON 7720|ADJ .|PUN \n",
      "Nouvel|ADJ homme|NOM fort|ADJ de|PRP l'|DET:ART économie|NOM en|PRO:PER Pologne|NOM ,|PUN ministre|NOM du|PRP:det Plan|NOM et|KON président|PRO:PER du|PRP:det comité|NOM économique|ADJ du|PRP:det gouvernement|NOM ,|PUN M.|ABR Jerzy|NAM Eysymontt|NAM doit|VER:pres ,|PUN à|PRP cinquante-cinq|DET:ART ans|NOM ,|PUN mener|VER:infi une|DET:ART tâche|NOM délicate|ADJ :|PUN mettre|VER:infi en|PRP oeuvre|NOM le|DET:ART programme|NOM économique|ADJ du|PRP:det jeune|ADJ gouvernement|NOM de|PRP M.|ABR Jan|NAM Olszewski|NAM ,|PUN qui|PRO:REL a|VER:pres promis|VER:pper davantage|ADV d'|PRP actions|NOM sociales|ADJ .|PUN \n",
      "\"|PUN:cit imaginez|VER:impe la|DET:ART tête|NOM des|PRP:det concessionnaires|NOM lorsqu'|KON ils|PRO:PER doivent|VER:pres assurer|VER:infi ,|PUN sans|PRP aucun|PRO:IND profit|NOM ,|PUN les|DET:ART services|NOM liés|VER:pper à|PRP la|DET:ART garantie|NOM de|PRP véhicules|NOM vendus|VER:pper par|PRP des|DET:ART mandataires|NOM \"|PUN:cit ,|PUN souligne|VER:pres un|DET:ART responsable|NOM du|PRP:det CNPA|NOM .|PUN \n",
      "Pour|PRP le|DET:ART dire|VER:infi autrement|ADV :|PUN vous|PRO:PER voulez|VER:pres supprimer|VER:infi le|DET:ART chômage|NOM ?|PUN \n",
      "La|DET:ART Banque|NOM du|PRP:det Japon|NOM n'|ADV a|VER:pres -t-elle|PRO:PER pas|ADV abaissé|VER:pper son|DET:POS taux|NOM d'|PRP escompte|NOM pour|PRP la|DET:ART troisième|NUM fois|NOM en|PRP un|PRO:PER an|NOM ,|PUN le|DET:ART ramenant|VER:ppre à|PRP 4,50|DET:ART %|SYM ?|PUN \n",
      "Lors|ADV de|PRP l'|DET:ART appel|NOM d'|PRP offres|NOM lancé|VER:pper par|PRP Avia|NAM au|PRP:det début|NOM de|PRP 1991|PRO:PER ,|PUN c'|PRO:DEM est|VER:pres en|PRP connaissance|NOM de|PRP cause|NOM qu'|KON il|PRO:PER sélectionna|VER:impf RVI|ABR et|KON Iveco|NAM comme|ADJ partenaires|NOM potentiels|ADJ :|PUN \"|PUN:cit Aucun|DET:ART d'|PRP entre|PRP eux|PRO:PER n'|ADV a|VER:pres répondu|VER:pper à|PRP notre|DET:POS cahier|NOM des|PRP:det charges|NOM .|PUN \n",
      "Personne|PRO:IND ,|PUN il|PRO:PER y|PRO:PER a|VER:pres encore|ADV un|DET:ART mois|NOM ,|PUN n'|ADV aurait|VER:cond parié|VER:pper un|DET:ART cent|NUM sur|PRP les|DET:ART chances|NOM de|PRP Wall|NAM Street|NAM de|PRP réussir|VER:infi ce|PRO:DEM mini-|ADV exploit|NOM .|PUN \n",
      "À|PRP première|NUM vue|NOM ,|PUN cette|PRO:DEM prévision|NOM ne|ADV relève|VER:pres pas|ADV de|PRP la|DET:ART simple|ADJ méthode|NOM Coué|NAM .|PUN \n",
      "Parmi|PRP les|DET:ART principales|ADJ aides|NOM européennes|ADJ ,|PUN on|PRO:PER retiendra|VER:futu :|PUN 1|DET:ART milliard|NOM de|PRP francs|NOM du|PRP:det Fonds|NOM social|ADJ européen|ADJ pour|PRP la|DET:ART formation|NOM des|PRP:det jeunes|NOM de|PRP moins|ADV de|PRP vingt-cinq|NUM ans|NOM et|KON des|PRP:det chômeurs|NOM de|PRP longue|ADJ durée|NOM ;|PUN 938|DET:ART millions|NOM de|PRP francs|NOM du|PRP:det Fonds|NOM régional|ADJ pour|PRP l'|DET:ART aéroport|NOM de|PRP Gillot|NAM ,|PUN les|DET:ART équipements|NOM portuaires|ADJ ,|PUN le|DET:ART transfert|NOM et|KON la|DET:ART canalisation|NOM des|PRP:det eaux|NOM de|PRP la|DET:ART partie|NOM est|VER:pres de|PRP l'|DET:ART île|NOM (|PUN très|ADV arrosée|VER:pper )|PUN vers|PRP l'|DET:ART ouest|NOM .|PUN \n",
      "Le|DET:ART gouvernement|NOM a|VER:pres souligné|VER:pper que|KON l'|DET:ART évolution|NOM de|PRP son|DET:POS indice|NOM composite|ADJ ces|PRP:det quatre|DET:ART derniers|ADJ mois|NOM reflétait|VER:impf une|DET:ART faiblesse|NOM généralisée|ADJ de|PRP l'|DET:ART activité|NOM économique|ADJ pendant|PRP cette|PRO:DEM période|NOM .|PUN \n",
      "Le|DET:ART cabinet|NOM Arthur|NAM Andersen|NAM ,|PUN administrateur|NOM judiciaire|ADJ du|PRP:det titre|NOM depuis|PRP l'|DET:ART effondrement|NOM de|PRP l'|DET:ART empire|NOM Maxwell|ADJ en|PRP décembre|NOM 1991|ADJ ,|PUN a|VER:pres indiqué|VER:pper que|KON les|DET:ART nouveaux|ADJ propriétaires|NOM allaient|VER:impf poursuivre|VER:infi la|DET:ART publication|NOM .|PUN \n",
      "Alors|KON qu'|KON en|PRP juin|NOM M.|ABR Krasucki|NAM s'|PRO:PER en|PRO:PER était|VER:impf pris|VER:pper au|PRP:det \"|PUN:cit monolithisme|NOM \"|PUN:cit qui|PRO:REL \"|PUN:cit appauvrit|VER:pres dangereusement|ADV la|DET:ART CGT|NOM \"|PUN:cit ,|PUN l'|DET:ART avenir|NOM de|PRP la|DET:ART centrale|NOM syndicale|ADJ paraît|VER:pres avant|PRP tout|PRO:IND dépendre|VER:infi des|DET:ART débats|NOM internes|ADJ au|PRP:det Parti|NOM communiste|ADJ .|PUN \n",
      "La|DET:ART Société|NOM des|PRP:det journalistes|NOM et|KON les|DET:ART syndicats|NOM ,|PUN réunis|VER:pper dans|PRP un|DET:ART comité|NOM de|PRP défense|NOM ,|PUN s'|PRO:PER activent|VER:pres auprès|PRP du|PRP:det CSA|NOM et|KON des|PRP:det partenaires|NOM potentiels|ADJ pour|PRP susciter|VER:infi des|DET:ART solutions|NOM de|PRP reprise|NOM .|PUN \n",
      "Ceci|PRO:DEM expliquant|VER:ppre cela|PRO:DEM .|PUN \n",
      "Il|PRO:PER en|PRO:PER va|VER:pres de|PRP même|ADV pour|PRP MM.|ABR René|NAM Lomet|NAM ,|PUN Bernard|NAM Lacombe|NAM et|KON Pierre|NAM Koehler|NAM ,|PUN tous|ADV sortants|NOM du|PRP:det bureau|NOM confédéral|ADJ (|PUN dont|PRO:REL les|DET:ART membres|NOM ,|PUN élus|VER:pper lors|ADV de|PRP chaque|PRO:IND congrès|NOM ,|PUN sont|VER:pres choisis|VER:pper au|PRP:det sein|NOM de|PRP la|DET:ART commission|NOM exécutive|ADJ )|PUN ,|PUN qui|PRO:REL ,|PUN eux|PRO:PER non|ADV plus|ADV ,|PUN n'|ADV ont|VER:pres pas|ADV fait|VER:pper acte|ADJ de|PRP candidature|NOM .|PUN \n",
      "Les|DET:ART coûts|NOM unitaires|ADJ du|PRP:det travail|NOM et|KON les|DET:ART taux|NOM d'|PRP intérêt|NOM à|PRP long|ADJ terme|NOM risquent|VER:pres alors|ADV de|PRP rester|VER:infi trop|ADV élevés|ADJ et|KON pénalisent|VER:pres les|DET:ART autres|ADJ secteurs|NOM .|PUN \n",
      "L'|DET:ART accord|NOM prévoit|VER:pres une|DET:ART diminution|NOM sensible|ADJ du|PRP:det nombre|NOM de|PRP dockers|NOM (|PUN de|PRP 450|DET:POS ,|PUN les|DET:ART effectifs|NOM passeront|VER:futu à|PRP 300|DET:POS )|PUN ,|PUN compensée|VER:pper par|PRP une|DET:ART amélioration|NOM des|PRP:det statuts|NOM et|KON des|PRP:det salaires|NOM .|PUN \n",
      "La|DET:ART veille|NOM ,|PUN Bruno|NAM Masure|NAM avait|VER:impf confraternellement|ADV diffusé|VER:pper le|DET:ART \"|PUN:cit rap|NOM \"|PUN:cit concocté|VER:pper par|PRP la|DET:ART partie|NOM \"|PUN:cit activiste|NOM \"|PUN:cit de|PRP la|DET:ART rédaction|NOM de|PRP la|DET:ART Cinq|NAM ,|PUN le|DET:ART soir|NOM du|PRP:det fameux|ADJ \"|PUN:cit mardi|NOM noir|ADJ \"|PUN:cit ,|PUN lorsqu'|KON Yves|NAM Sabouret|NAM avait|VER:impf annoncé|VER:pper son|DET:POS plan|NOM de|PRP licenciements|NOM .|PUN \n",
      "En|PRP jouant|VER:ppre la|DET:ART carte|NOM d'|PRP une|DET:ART amélioration|NOM qualitative|ADJ de|PRP ses|DET:POS services|NOM ,|PUN la|DET:ART Pointe-des-Galets|NAM ambitionne|VER:pres de|PRP compenser|VER:infi son|DET:POS handicap|NOM majeur|ADJ face|NOM aux|PRP:det ports|NOM concurrents|ADJ comme|PRP Port-Louis|NAM à|PRP l'|DET:ART île|NOM Maurice|NAM et|KON Tamatave|NAM à|PRP Madagascar|NAM ,|PUN à|PRP savoir|VER:infi un|DET:ART coût|NOM de|PRP la|DET:ART main-d'oeuvre|NOM bien|ADV supérieur|ADJ .|PUN \n",
      "L'|DET:ART Allemagne|NOM nouvelle|ADJ compte|VER:pres ainsi|ADV onze|PRP:det établissements|NOM régionaux|ADJ de|PRP télévision|NOM ,|PUN qui|PRO:REL forment|VER:pres l'|DET:ART ossature|NOM de|PRP la|DET:ART première|NUM chaîne|NOM ARD|ADJ ,|PUN la|DET:ART seconde|NUM chaîne|NOM publique|ADJ ZDF|NOM étant|VER:ppre nationale|ADJ (|PUN Le|DET:ART Monde|NOM du|PRP:det 27|ADJ octobre|NOM 1990|ADJ )|PUN .|PUN \n",
      "Initialement|ADV ,|PUN pour|PRP pouvoir|VER:infi assurer|VER:infi leurs|DET:POS engagements|NOM à|PRP l'|DET:ART égard|NOM de|PRP leur|DET:POS clientèle|NOM ,|PUN les|DET:ART sociétés|NOM de|PRP bourse|NOM devaient|VER:impf contribuer|VER:infi à|PRP un|DET:ART fond|NOM de|PRP garantie|NOM de|PRP façon|NOM régulière|ADJ et|KON trimestrielle|ADJ .|PUN \n",
      "Or|KON ,|PUN le|DET:ART fait|NOM est|VER:pres que|KON contre|PRP chaque|DET:ART médium|NOM l'|DET:ART Etat|NOM a|VER:pres fini|VER:pper par|PRP perdre|VER:infi sa|DET:POS bataille|NOM .|PUN \n",
      "M.|ABR Yves|NAM Sabouret|NAM ,|PUN PDG|NOM de|PRP la|DET:ART Cinq|NAM ,|PUN devait|VER:impf annoncer|VER:infi ,|PUN mardi|NOM 31|ADJ décembre|NOM ,|PUN à|PRP l'|DET:ART issue|NOM d'|PRP un|DET:ART conseil|NOM d'|PRP administration|NOM extraordinaire|ADJ ,|PUN le|DET:ART dépôt|NOM de|PRP bilan|NOM de|PRP la|DET:ART chaîne|NOM de|PRP télévision|NOM dans|PRP les|DET:ART premiers|ADJ jours|NOM de|PRP janvier|NOM .|PUN \n",
      "Le|DET:ART chômage|NOM peut|VER:pres ainsi|ADV apparaître|VER:infi comme|ADV le|DET:ART résidu|NOM ,|PUN mal|ADV dénommé|VER:pper ,|PUN mal|ADV rémunéré|VER:pper (|PUN allocations|NOM ,|PUN RMI|ABR ,|PUN charité|NOM ,|PUN TUC|NAM ,|PUN SIVP|ABR ,|PUN etc.|ABR )|PUN et|KON parfois|ADV non|ADV rémunéré|VER:pper ,|PUN du|PRP:det temps|NOM social|ADJ .|PUN \n",
      "Compte|VER:pres tenu|VER:pper de|PRP ces|DET:POS remboursements|NOM très|ADV lourds|ADJ (|PUN la|DET:ART dette|NOM extérieure|ADJ totale|ADJ s'|PRO:PER élevant|VER:ppre à|PRP 33,4|DET:ART milliards|NOM de|PRP dollars|NOM )|PUN ,|PUN le|DET:ART Nigéria|NOM continue|VER:pres de|PRP réclamer|VER:infi un|DET:ART allègement|NOM exceptionnel|ADJ de|PRP son|DET:POS endettement|NOM ,|PUN du|PRP:det type|NOM de|PRP celui|PRO:DEM dont|PRO:REL bénéficient|VER:pres les|DET:ART pays|NOM les|PRO:PER plus|ADV pauvres|ADJ .|PUN \n",
      "En|PRP critiquant|VER:ppre l'|DET:ART accord|NOM ,|PUN on|PRO:PER le|PRO:PER montre|VER:pres ainsi|ADV du|PRP:det doigt|NOM .|PUN \n",
      "Ce|PRO:DEM SME|ABR ,|PUN la|DET:ART Suède|NOM n'|ADV en|PRO:PER deviendra|VER:futu pas|ADV membre|VER:pres avant|PRP une|DET:ART date|NOM comprise|ADJ entre|PRP 1994|PRO:PER et|KON 1997|PRO:PER ,|PUN a|VER:pres déclaré|VER:pper Thomas|NAM Frantzen|NAM ,|PUN sous-gouverneur|NUM de|PRP la|DET:ART banque|NOM centrale|ADJ suédoise|ADJ .|PUN \n",
      "Sur|PRP ce|PRO:DEM total|NOM ,|PUN la|DET:ART partie|NOM orientale|ADJ de|PRP l'|DET:ART Allemagne|NOM a|VER:pres représenté|VER:pper en|PRP 1991|PRO:PER quelque|PRO:IND 6,9|PRO:PER %|SYM du|PRP:det PNB|NOM total|ADJ de|PRP l'|DET:ART Allemagne|NOM unifiée|VER:pper alors|KON qu'|KON elle|PRO:DEM en|PRO:PER représentait|VER:impf 7,2|DET:ART %|SYM au|PRP:det second|NUM semestre|NOM de|PRP 1991|PRO:PER .|PUN \n",
      "L'|DET:ART évolution|NOM des|PRP:det salaires|NOM ,|PUN elle|PRO:PER ,|PUN reste|VER:pres inconnue|ADJ ,|PUN le|DET:ART Parlement|NOM russe|ADJ s'|PRO:PER étant|VER:ppre borné|VER:pper à|PRP fixer|VER:infi un|DET:ART revenu|NOM minimum|ADJ mensuel|NOM de|PRP 342|DET:ART roubles|NOM (|PUN à|PRP peine|NOM plus|ADV de|PRP 3|DET:ART dollars|NOM sur|PRP le|DET:ART marché|NOM libre|ADJ !|PUN )|PUN .|PUN \n",
      "A|PRP moins|ADV de|PRP se|PRO:PER passer|VER:infi du|PRP:det commerce|NOM ,|PUN on|PRO:PER ne|ADV se|PRO:PER passera|VER:futu pas|ADV du|PRP:det commerçant|NOM .|PUN \n",
      "Abondamment|ADV relayées|VER:pper par|PRP les|DET:ART médias|NOM ,|PUN elles|PRO:PER avaient|VER:impf pour|PRP origine|NOM des|PRP:det propos|NOM au|PRP:det Nouvel|ADJ Observateur|NAM par|PRP M.|ABR Abel|NAM Farnoux|NAM ,|PUN le|DET:ART conseiller|NOM spécial|ADJ de|PRP Mme|ABR Edith|NAM Cresson|NAM ,|PUN et|KON des|PRP:det déclarations|NOM du|PRP:det ministre|NOM de|PRP l'|DET:ART industrie|NOM ,|PUN M.|ABR Dominique|NAM Strauss-Kahn|NAM ,|PUN lors|ADV de|PRP la|DET:ART présentation|NOM des|PRP:det voeux|NOM à|PRP la|DET:ART presse|NOM .|PUN \n",
      "Lancées|VER:pper à|PRP grand|ADJ renfort|NOM de|PRP publicité|NOM ,|PUN les|DET:ART exonérations|NOM de|PRP charges|NOM sociales|ADJ pour|PRP l'|DET:ART embauche|NOM de|PRP jeunes|NOM sans|PRP diplôme|NOM rencontrent|VER:pres -elles|PRO:PER le|DET:ART succès|NOM ?|PUN \n",
      "Le|DET:ART Conseil|NOM des|PRP:det Bourses|NOM de|PRP valeurs|NOM (|PUN CBV|NOM )|PUN a|VER:pres rejeté|VER:pper ,|PUN mercredi|INT 15|ADJ janvier|NOM ,|PUN la|DET:ART demande|NOM de|PRP dérogation|NOM à|PRP l'|DET:ART obligation|NOM de|PRP déposer|VER:infi une|DET:ART offre|NOM publique|ADJ d'|PRP achat|NOM (|PUN OPA|NOM )|PUN sur|PRP Perrier|NAM qui|PRO:REL lui|PRO:PER était|VER:impf présentée|VER:pper par|PRP les|DET:ART sociétés|NOM Exor|NAM ,|PUN Généval|NAM ,|PUN Ominco|NAM et|KON Saint|NAM Louis|NAM .|PUN \n",
      "Youppie|NAM !|PUN !|PUN !|PUN \n",
      "Les|DET:ART recettes|NOM touristiques|ADJ globales|ADJ sont|VER:pres passées|VER:pper de|PRP 588|PRO:PER milliards|NOM de|PRP francs|NOM en|PRP 1990|PRO:PER à|PRP 620|DET:ART milliards|NOM ,|PUN soit|KON une|DET:ART progression|NOM de|PRP 4,7|DET:ART %|SYM .|PUN \n",
      "Les|DET:ART entreprises|NOM ne|ADV se|PRO:PER sont|VER:pres pas|ADV bousculées|VER:pper au|PRP:det portillon|NOM cette|PRO:DEM année|NOM .|PUN \n",
      "Pour|PRP la|DET:ART première|NUM fois|NOM ,|PUN l'|DET:ART activité|NOM touristique|ADJ devrait|VER:cond se|PRO:PER placer|VER:infi au|PRP:det premier|NUM rang|NOM de|PRP l'|DET:ART économie|NOM française|ADJ devant|PRP l'|DET:ART agroalimentaire|NOM ,|PUN s'|PRO:PER est|VER:pres félicité|VER:pper ,|PUN mercredi|INT 15|ADJ janvier|NOM ,|PUN le|DET:ART ministre|NOM délégué|ADJ au|PRP:det tourisme|NOM ,|PUN M.|ABR Jean-Michel|NAM Baylet|NAM .|PUN \n",
      "Mais|KON ,|PUN depuis|PRP la|DET:ART crise|NOM du|PRP:det Golfe|NOM ,|PUN le|DET:ART relèvement|NOM ne|ADV représente|VER:pres plus|ADV que|KON la|DET:ART moitié|NOM de|PRP la|DET:ART hausse|NOM des|PRP:det prix|NOM ,|PUN soit|KON 1,5|DET:ART %|SYM pour|PRP un|DET:ART taux|NOM d'|PRP inflation|NOM de|PRP 3|DET:ART %|SYM en|PRP 1991|PRO:PER .|PUN \n",
      "Assurance|NOM -|PUN chômage|NOM :|PUN la|DET:ART cotisation|NOM des|PRP:det salariés|NOM à|PRP l'|DET:ART UNEDIC|NOM augmente|VER:pres de|PRP 0,06|DET:POS point|NOM à|PRP compter|VER:infi du|PRP:det 1|ADJ janvier|NOM .|PUN \n",
      "-|PUN dialogue|NOM avec|PRP les|DET:ART organisations|NOM syndicales|ADJ .|PUN \n",
      "\"|PUN:cit La|DET:ART question|NOM n'|ADV est|VER:pres pas|ADV tant|ADV de|PRP savoir|VER:infi ce|PRO:DEM que|PRO:REL la|DET:ART télé|NOM fait|VER:pres à|PRP l'|DET:ART enfant|NOM que|PRO:REL ce|PRO:DEM que|PRO:REL l'|DET:ART enfant|NOM fait|VER:pres de|PRP la|DET:ART télé|NOM \"|PUN:cit ,|PUN affirme|VER:pres Pierre|NAM Corset|NAM ,|PUN auteur|NOM avec|PRP Mireille|NAM Chalvon|NAM ,|PUN responsable|NOM des|PRP:det productions|NOM \"|PUN:cit jeunesse|NOM \"|PUN:cit au|PRP:det sein|NOM des|PRP:det chaînes|NOM publiques|ADJ ,|PUN et|KON Michel|NAM Souchon|NAM ,|PUN directeur|NOM des|PRP:det études|NOM à|PRP la|DET:ART présidence|NOM d'|PRP Antenne2-FR3|NAM ,|PUN d'|PRP un|DET:ART livre|NOM didactique|ADJ et|KON très|ADV complet|ADJ sur|PRP l'|DET:ART enfant|NOM devant|PRP la|DET:ART télé|NOM .|PUN \n",
      "Tokyo|NAM envisage|VER:pres différentes|ADJ mesures|NOM destinées|VER:pper à|PRP faciliter|VER:infi les|DET:ART importations|NOM d'|PRP automobiles|NOM :|PUN une|DET:ART révision|NOM de|PRP la|DET:ART procédure|NOM d'|PRP homologation|NOM des|PRP:det véhicules|NOM (|PUN acceptation|NOM des|PRP:det tests|NOM américains|ADJ pour|PRP les|DET:ART freins|NOM et|KON des|PRP:det normes|NOM internationales|ADJ pour|PRP les|DET:ART appuis-tête|NOM )|PUN .|PUN \n"
     ]
    },
    {
     "name": "stdout",
     "output_type": "stream",
     "text": [
      "Il|PRO:PER est|VER:pres ainsi|ADV possible|ADJ ,|PUN avec|PRP un|DET:ART petit|ADJ laser|NOM ,|PUN de|PRP projeter|VER:infi des|DET:ART images|NOM directement|ADV sur|PRP la|DET:ART rétine|NOM humaine|ADJ .|PUN \n",
      "L'|DET:ART affaire|NOM Avia|ADJ connaîtra|VER:futu -t-elle|DET:ART le|DET:ART même|ADJ sort|NOM que|KON Skoda|NAM ?|PUN \n",
      "Pour|PRP une|DET:ART simplification|NOM ,|PUN c'|PRO:DEM était|VER:impf une|DET:ART simplification|NOM !|PUN \n",
      "D'|PRP autant|ADV que|KON ces|DET:ART programmes|NOM servent|VER:pres aussi|ADV d'|PRP appâts|NOM pour|PRP attirer|VER:infi ,|PUN grâce|VER:pres aux|PRP:det enfants|NOM ,|PUN le|DET:ART public|NOM des|PRP:det parents|NOM .|PUN \n",
      "La|DET:ART compagnie|NOM d'|PRP assurances|NOM néerlandaise|ADJ Aegon|NAM NV|ABR a|VER:pres récemment|ADV procédé|VER:pper à|PRP un|DET:ART tirage|NOM de|PRP ce|PRO:DEM genre|NOM .|PUN \n",
      "Ceux-ci|PRO:DEM prévoient|VER:pres en|PRP effet|NOM que|KON l'|DET:ART exonération|NOM peut|VER:pres aussi|ADV être|VER:infi acquise|VER:pper pour|PRP des|DET:ART jeunes|NOM ayant|VER:ppre interrompu|VER:pper leur|DET:POS scolarité|NOM en|PRP dernière|NUM année|NOM de|PRP CAP|NOM ou|KON BEP|NOM ,|PUN \"|PUN:cit ou|KON en|PRP seconde|NUM ,|PUN première|NUM et|KON terminale|ADJ de|PRP l'|DET:ART enseignement|NOM général|ADJ \"|PUN:cit .|PUN \n",
      "192|ADJ pages|NOM ,|PUN 49|PRO:PER francs|NOM ,|PUN chez|PRP les|DET:ART marchands|NOM de|PRP journaux|NOM .|PUN \n",
      "Mais|KON si|KON ,|PUN en|PRP dix|DET:ART jours|NOM ,|PUN la|DET:ART place|NOM américaine|ADJ a|VER:pres presque|ADV doublé|VER:pper ses|DET:POS gains|NOM accumulés|VER:pper jusqu'|PRP alors|ADV ,|PUN les|DET:ART Etats-Unis|NOM n'|ADV ont|VER:pres pas|ADV pour|PRP autant|ADV mis|VER:pper un|DET:ART terme|NOM à|PRP la|PRO:PER récession|NOM .|PUN \n",
      "En|PRP effet|NOM ,|PUN la|DET:ART compagnie|NOM que|PRO:REL dirige|VER:pres M.|ABR Bernard|NAM Attali|NAM a|VER:pres été|VER:pper retenue|VER:pper par|PRP les|DET:ART autorités|NOM de|PRP Prague|NAM pour|PRP apporter|VER:infi son|DET:POS aide|NOM à|PRP CSA|NOM ,|PUN de|PRP préférence|NOM à|PRP British|NAM Airways|NAM ,|PUN à|PRP Austrian|NAM Airlines|NAM ,|PUN à|PRP All|NAM Nippon|NAM Airways|NAM et|KON à|PRP Singapore|NAM Airlines|NAM .|PUN \n",
      "Pour|PRP ce|PRO:DEM qui|PRO:REL est|VER:pres du|PRP:det franc|NOM français|ADJ ,|PUN le|DET:ART flot|NOM normal|ADJ des|PRP:det nouvelles|ADJ émissions|NOM d'|PRP euro-obligations|NOM n'|ADV a|VER:pres pas|ADV encore|ADV repris|VER:pper .|PUN \n",
      "\"|PUN:cit on|PRO:PER regrettera|VER:pres cette|PRO:DEM rédaction|NOM qu'|PRO:REL on|PRO:PER a|VER:pres créée|VER:pper ensemble|ADV ,|PUN ce|PRO:DEM côté|NOM basse-cour|ADJ ,|PUN famille|NOM juive|ADJ ou|KON provençale|ADJ qui|PRO:REL parle|VER:pres haut|ADV mais|KON se|PRO:PER ressoude|VER:pres dans|PRP l'|DET:ART adversité|NOM .|PUN \n",
      "L'|DET:ART EXISTENCE|NOM de|PRP cycles|NOM économiques|ADJ et|KON l'|DET:ART explication|NOM de|PRP leurs|DET:POS origines|NOM sont|VER:pres des|PRP:det questions|NOM débattues|VER:pper de|PRP longue|ADJ date|NOM .|PUN \n",
      "Le|DET:ART Crédit|NOM Lyonnais|ADJ doit|VER:pres entreprendre|VER:infi la|DET:ART même|ADJ négociation|NOM la|DET:ART semaine|NOM prochaine|ADJ .|PUN \n",
      "A|PRP de|PRP rares|ADJ exceptions|NOM ,|PUN c'|PRO:DEM est|VER:pres la|DET:ART sollicitation|NOM excessive|ADJ d'|PRP un|DET:ART ou|KON de|PRP plusieurs|PRO:IND facteurs|NOM de|PRP production|NOM (|PUN travail|NOM ,|PUN matières|NOM premières|ADJ et|KON énergie|NOM ,|PUN équipements|NOM )|PUN qui|PRO:REL finit|VER:pres par|PRP bloquer|VER:infi l'|DET:ART activité|NOM puis|KON entraîner|VER:infi sa|DET:POS chute|NOM .|PUN \n",
      "\"|PUN:cit Les|DET:ART difficultés|NOM du|PRP:det câble|NOM en|PRP France|NOM ont|VER:pres empêché|VER:pper la|DET:ART chaîne|NOM de|PRP prendre|VER:infi son|DET:POS essor|NOM ,|PUN mais|KON le|DET:ART triomphe|NOM de|PRP ses|DET:POS modèles|NOM dans|PRP le|DET:ART monde|NOM (|PUN notamment|ADV Nickelodeon|NAM qui|PRO:REL compte|VER:pres cinquante|DET:ART millions|NOM d'|PRP abonnés|NOM aux|PRP:det Etats-Unis|NOM )|PUN témoigne|VER:pres de|PRP la|DET:ART réalité|NOM d'|PRP un|DET:ART créneau|NOM .|PUN \n",
      "\"|PUN:cit Selon|PRP des|DET:ART prévisions|NOM de|PRP la|DET:ART délégation|NOM générale|ADJ pour|PRP l'|DET:ART armement|NOM ,|PUN la|DET:ART seule|ADV année|NOM 1992|ADJ pourrait|VER:cond voir|VER:infi la|DET:ART suppression|NOM de|PRP quelque|PRO:IND dix-huit|NUM mille|NUM postes|NOM (|PUN le|DET:ART Monde|NOM du|PRP:det 14|ADJ janvier|NOM )|PUN .|PUN \n",
      "L'|DET:ART Observatoire|NOM -|PUN qui|PRO:REL dépend|VER:pres de|PRP la|DET:ART direction|NOM générale|ADJ de|PRP l'|DET:ART énergie|NOM et|KON des|PRP:det matières|NOM premières|ADJ au|PRP:det ministère|NOM de|PRP l'|DET:ART industrie|NOM et|KON du|PRP:det commerce|NOM extérieur|ADJ -|PUN note|VER:pres d'|PRP autre|ADJ part|NOM des|PRP:det disparités|NOM régionales|ADJ :|PUN le|DET:ART Centre-Ouest|NAM (|PUN Bretagne|NOM ,|PUN Normandie|NAM ,|PUN Centre|NAM et|KON Aquitaine|VER:pres )|PUN est|VER:pres ,|PUN globalement|ADV ,|PUN la|DET:ART région|NOM où|PRO:REL le|PRO:PER taux|NOM d'|PRP équipement|NOM est|VER:pres le|DET:ART plus|ADV élevé|VER:pper (|PUN avec|PRP une|DET:ART préférence|NOM pour|PRP l'|DET:ART électrique|NOM )|PUN ,|PUN exception|NOM faite|VER:pper de|PRP l'|DET:ART île-de-France|NOM ,|PUN championne|VER:pper toutes|ADV catégories|NOM (|PUN 88,4|DET:ART %|SYM )|PUN .|PUN \n",
      "M.|ABR Kohl|NAM a|VER:pres rappelé|VER:pper l'|DET:ART importance|NOM de|PRP l'|DET:ART investissement|NOM des|PRP:det entreprises|NOM ,|PUN l'|DET:ART un|PRO:PER des|PRP:det principaux|ADJ moteurs|NOM de|PRP la|DET:ART forte|ADJ croissance|NOM des|PRP:det années|NOM 80|ADJ ,|PUN susceptible|ADJ d'|PRP être|VER:infi mis|VER:pper en|PRP péril|NOM en|PRP cas|NOM de|PRP concessions|NOM salariales|ADJ trop|ADV fortes|ADJ .|PUN \n",
      "Les|DET:ART obstacles|NOM culturels|ADJ ,|PUN économiques|ADJ et|KON politiques|ADJ ne|ADV manquent|VER:pres pas|ADV .|PUN \n",
      "En|PRP amont|NOM ,|PUN du|PRP:det côté|NOM de|PRP l'|DET:ART offre|NOM de|PRP marchandises|NOM ,|PUN la|DET:ART dégradation|NOM des|PRP:det termes|NOM de|PRP l'|DET:ART échange|NOM a|VER:pres provoqué|VER:pper chez|PRP les|DET:ART pays|NOM producteurs|ADJ qui|PRO:REL en|PRO:PER étaient|VER:impf victimes|VER:pper un|DET:ART phénomène|NOM de|PRP rejet|NOM .|PUN \n",
      "La|DET:ART tension|NOM entre|PRP l'|DET:ART Europe|NOM et|KON les|DET:ART autres|ADJ pays|NOM participants|PRO:PER ,|PUN notamment|ADV les|DET:ART Etats-Unis|NOM ,|PUN à|PRP propos|NOM de|PRP ces|DET:POS négociations|NOM commerciales|ADJ internationales|ADJ (|PUN Uruguay|NOM round|VER:pres )|PUN ,|PUN risque|VER:pres de|PRP s'|PRO:PER envenimer|VER:infi encore|ADV avec|PRP la|DET:ART condamnation|NOM ,|PUN le|DET:ART 15|ADJ janvier|NOM ,|PUN par|PRP une|DET:ART instance|NOM d'|PRP arbitrage|NOM du|PRP:det GATT|ABR ,|PUN de|PRP Deutsche|NAM Airbus|NAM (|PUN le|DET:ART partenaire|NOM allemand|ADJ du|PRP:det consortium|NOM )|PUN ,|PUN pour|PRP avoir|VER:infi bénéficié|VER:pper de|PRP la|DET:ART part|NOM du|PRP:det gouvernement|NOM de|PRP Bonn|NAM d'|PRP un|DET:ART système|NOM contestable|ADJ de|PRP garantie|NOM de|PRP change|NOM .|PUN \n",
      "Celui-ci|PRO:DEM propose|VER:pres l'|DET:ART ouverture|NOM des|PRP:det magasins|NOM six|PRP:det dimanches|NOM par|PRP an|NOM ,|PUN à|PRP titre|NOM expérimental|ADJ ,|PUN dans|PRP le|DET:ART respect|NOM de|PRP la|DET:ART légalité|NOM .|PUN \n",
      "La|DET:ART conjoncture|NOM économique|ADJ et|KON financière|ADJ de|PRP la|DET:ART seconde|NUM partie|NOM des|PRP:det années|NOM 80|ADJ a|VER:pres placé|VER:pper cette|PRO:DEM profession|NOM en|PRP position|NOM délicate|ADJ .|PUN \n",
      "La|DET:ART Haute|ADJ Cour|NOM de|PRP Londres|NAM a|VER:pres ordonné|VER:pper ,|PUN mardi|DET:ART 14|ADJ janvier|NOM ,|PUN la|DET:ART liquidation|NOM de|PRP la|DET:ART Bank|NAM of|PRP credit|NOM and|KON commerce|NOM international|ADJ (|PUN BCCI|ABR )|PUN en|PRP Grande-Bretagne|NAM ,|PUN en|PRP réponse|NOM à|PRP une|DET:ART demande|NOM présentée|VER:pper en|PRP juillet|NOM 1991|ADJ par|PRP la|DET:ART Banque|NOM d'|PRP Angleterre|NOM (|PUN nos|DET:POS dernières|ADJ éditions|NOM du|PRP:det 15|ADJ janvier|NOM )|PUN .|PUN \n",
      "Mettant|VER:ppre en|PRP cause|NOM des|PRP:det sociétés|NOM étrangères|ADJ ,|PUN et|KON de|PRP plus|ADV cotées|VER:pper en|PRP Bourse|NAM ,|PUN ils|PRO:PER donnent|VER:pres à|PRP la|DET:ART scène|NOM internationale|ADJ une|ADJ image|NOM déplorable|ADJ des|PRP:det moeurs|NOM industrielles|ADJ de|PRP l'|DET:ART hexagone|NOM .|PUN \n",
      "Dans|PRP les|DET:ART deux|ADJ cas|NOM ,|PUN le|DET:ART négociant|NOM est|VER:pres constamment|ADV \"|PUN:cit arbitré|VER:pper \"|PUN:cit sur|PRP des|DET:ART marchés|NOM à|PRP terme|NOM suffisamment|ADV fluides|ADJ pour|PRP constituer|VER:infi une|DET:ART contrepartie|NOM fiable|ADJ .|PUN \n",
      "La|DET:ART révolution|NOM de|PRP l'|DET:ART automatisation|NOM n'|ADV apparaît|VER:pres en|PRP fait|NOM que|PRO:REL dans|PRP les|DET:ART années|NOM postérieures|ADJ à|PRP la|DET:ART crise|NOM ,|PUN avec|PRP les|DET:ART automates|NOM programmables|ADJ ,|PUN la|DET:ART conception|NOM assistée|VER:pper par|PRP ordinateur|NOM ,|PUN les|DET:ART systèmes|NOM d'|PRP aide|NOM à|PRP la|DET:ART maintenance|NOM ,|PUN et|KON toutes|ADV les|DET:ART techniques|NOM qui|PRO:REL rendent|VER:pres la|DET:ART production|NOM souple|ADJ .|PUN \n",
      "L'|DET:ART argent|NOM proviendra|VER:pres pour|PRP moitié|NOM d'|PRP emprunts|NOM bancaires|ADJ et|KON pour|PRP le|DET:ART reste|NOM d'|PRP une|DET:ART augmentation|NOM de|PRP capital|NOM .|PUN \n",
      "M.|ABR François|NAM Mitterrand|NAM a|VER:pres ,|PUN au|PRP:det cours|NOM du|PRP:det conseil|NOM des|PRP:det ministres|NOM du|PRP:det 15|ADJ janvier|NOM ,|PUN vivement|ADV critiqué|VER:pper les|DET:ART propositions|NOM actuelles|ADJ de|PRP M.|ABR Arthur|NAM Dunkel|NAM ,|PUN directeur|NOM général|ADJ du|PRP:det GATT|NOM ,|PUN dont|PRO:REL le|DET:ART rejet|NOM par|PRP les|DET:ART Européens|NOM bloque|VER:pres la|DET:ART conclusion|NOM des|PRP:det négociations|NOM commerciales|ADJ multilatérales|ADJ (|PUN nos|DET:POS dernières|ADJ éditions|NOM du|PRP:det 16|ADJ janvier|NOM )|PUN .|PUN \n",
      "Est|VER:pres -ce|PRO:DEM son|DET:POS droit|NOM de|PRP préemption|NOM possible|ADJ sur|PRP le|DET:ART futur|ADJ canal|NOM libéré|VER:pper ?|PUN \n",
      "L'|DET:ART acquéreur|NOM est|VER:pres donc|ADV un|DET:ART groupe|NOM bien|ADV français|ADJ ,|PUN Saint|NAM Louis|NAM .|PUN \n",
      "Le|DET:ART marasme|NOM économique|ADJ est|VER:pres donc|ADV abordé|VER:pper avec|PRP réalisme|NOM .|PUN \n",
      "Bref|ADV ,|PUN tout|ADV le|DET:ART monde|NOM a|VER:pres pris|VER:pper son|DET:POS parti|NOM de|PRP la|DET:ART disparition|NOM de|PRP la|DET:ART chaîne|NOM ;|PUN tout|ADV le|PRO:PER monde|NOM ,|PUN sauf|PRP le|DET:ART personnel|NOM ,|PUN toujours|ADV mobilisé|VER:pper pour|PRP sauver|VER:infi son|DET:POS antenne|NOM et|KON 820|DET:ART emplois|NOM ,|PUN et|KON qui|PRO:REL brocarde|VER:pres dans|PRP un|DET:ART \"|PUN:cit rap|NOM \"|PUN:cit ironique|ADJ hommes|NOM politiques|ADJ ,|PUN CSA|NOM et|KON dirigeants|NOM .|PUN \n",
      "La|DET:ART baisse|NOM spectaculaire|ADJ des|PRP:det rendements|NOM observée|VER:pper à|PRP Paris|NAM ,|PUN en|PRP ce|PRO:DEM début|NOM d'|PRP année|NOM ,|PUN paraît|VER:pres bien|ADV rapide|ADJ ,|PUN trop|ADV rapide|ADJ suivant|PRP certains|PRO:IND ,|PUN puisqu'|KON elle|PRO:DEM anticipe|VER:pres ,|PUN avec|PRP un|DET:ART bel|ADJ optimisme|NOM ,|PUN sur|PRP une|DET:ART décrue|NOM sensible|ADJ des|PRP:det taux|NOM à|PRP long|ADJ terme|NOM en|PRO:PER France|NOM .|PUN \n",
      "\"|PUN:cit Généreusement|ADV accordé|VER:pper ,|PUN le|DET:ART RMI|NOM a|VER:pres un|DET:ART \"|PUN:cit effet|NOM chloroforme|ADJ \"|PUN:cit et|KON beaucoup|ADV de|PRP jeunes|PRO:PER ou|KON de|PRP chômeurs|NOM peu|ADV formés|VER:pper n'|ADV éprouvent|VER:pres aucune|PRO:IND envie|NOM de|PRP chercher|VER:infi un|DET:ART travail|NOM salarié|VER:pper aléatoire|ADJ dans|PRP le|DET:ART secteur|NOM privé|ADJ .|PUN \n",
      "A|PRP suivre|VER:infi .|PUN \n",
      "Le|DET:ART CSA|NOM recouvre|VER:pres alors|ADV le|DET:ART pouvoir|NOM de|PRP disposer|VER:infi de|PRP cette|PRO:DEM autorisation|NOM ,|PUN et|KON la|DET:ART floraison|NOM actuelle|ADJ des|PRP:det hypothèses|NOM montre|VER:pres que|KON l'|DET:ART après-|ADV Hachette|NAM a|VER:pres déjà|ADV commencé|VER:pper .|PUN \n",
      "\"|PUN:cit les|DET:ART collectivités|NOM locales|ADJ jouent|VER:pres la|DET:ART carte|NOM de|PRP l'|DET:ART intercommunalité|NOM :|PUN vingt-deux|DET:ART communes|NOM se|PRO:PER sont|VER:pres unies|VER:pper pour|PRP séduire|VER:infi l'|DET:ART investisseur|NOM d'|PRP outre-Rhin|NOM .|PUN \n",
      "Cette|PRO:DEM nouvelle|ADJ tempère|NOM les|DET:ART espoirs|NOM d'|PRP une|DET:ART reprise|NOM prochaine|ADJ aux|PRP:det Etats-Unis|NOM .|PUN \n",
      "Une|DET:ART hausse|NOM de|PRP 1,8|DET:ART %|SYM est|VER:pres prévue|VER:pper au|PRP:det 1|ADJ juillet|NOM .|PUN \n",
      "En|PRP annonçant|VER:ppre le|DET:ART transfert|NOM en|PRP province|NOM de|PRP vingt-quatre|DET:ART organismes|NOM publics|ADJ ,|PUN le|DET:ART gouvernement|NOM avait|VER:impf pris|VER:pper ,|PUN fin|NOM 1991|PRO:PER ,|PUN une|DET:ART décision|NOM courageuse|ADJ .|PUN \n",
      "Quant|ADV au|PRP:det chancelier|NOM de|PRP l'|DET:ART Echiquier|NAM ,|PUN M.|ABR Norman|NAM Lamont|NAM ,|PUN il|PRO:PER admet|VER:pres que|KON la|DET:ART reprise|NOM sera|VER:futu plus|ADV longue|ADJ que|PRO:REL prévu|VER:pper à|PRP se|PRO:PER manifester|VER:infi .|PUN \n",
      "Quels|PRO:REL partenaires|NOM ?|PUN \n",
      "Ce|PRO:DEM premier|NUM téléviseur|NOM a|VER:pres six|DET:ART ans|NOM d'|PRP âge|NOM ,|PUN est|VER:pres en|PRP couleurs|NOM (|PUN 93|DET:ART %|SYM des|PRP:det cas|NOM )|PUN ,|PUN muni|VER:pper d'|PRP une|DET:ART télécommande|NOM (|PUN 67|DET:ART %|SYM )|PUN ,|PUN d'|PRP un|DET:ART grand|ADJ écran|NOM ,|PUN et|KON il|PRO:PER est|VER:pres installé|VER:pper dans|PRP la|DET:ART salle|NOM de|PRP séjour|NOM (|PUN 87|DET:ART %|SYM )|PUN .|PUN \n",
      "Avia|NAM et|KON son|DET:POS partenaire|NOM auraient|VER:impf décidé|VER:pper de|PRP produire|VER:infi en|PRP commun|NOM ,|PUN dans|PRP le|DET:ART cadre|NOM d'|PRP une|DET:ART nouvelle|ADJ société|NOM dont|PRO:REL celui-ci|PRO:DEM détiendrait|VER:cond 31|DET:ART %|SYM du|PRP:det capital|NOM ,|PUN des|DET:ART camions|NOM et|KON véhicules|NOM utilitaires|ADJ légers|ADJ sous|PRP la|DET:ART marque|NOM Mercedes|NAM .|PUN \n",
      "Sinon|ADV ,|PUN on|PRO:PER refait|VER:pres la|DET:ART copie|NOM .|PUN \n",
      "Sept|DET:ART mois|NOM après|PRP avoir|VER:infi acquis|VER:pper le|DET:ART premier|NUM producteur|NOM polonais|ADJ de|PRP lessive|NOM Pollena|NAM (|PUN depuis|PRP privatisé|NOM et|KON rebaptisé|VER:pper Lever|VER:infi Polska|NAM )|PUN ,|PUN la|DET:ART multinationale|NOM anglo-néerlandaise|ADJ Unilever|NAM poursuit|VER:pres son|DET:POS implantation|NOM en|PRP Europe|NOM de|PRP l'|DET:ART Est|NAM .|PUN \n",
      "Et|KON on|PRO:PER a|VER:pres attendu|VER:pper la|DET:ART simplification|NOM ...|PUN \n"
     ]
    },
    {
     "name": "stdout",
     "output_type": "stream",
     "text": [
      "Pour|PRP qu'|KON une|DET:ART telle|ADJ comparaison|NOM soit|VER:subp valable|ADJ ,|PUN il|PRO:PER faudrait|VER:pres que|KON les|DET:ART actions|NOM sur|PRP les|DET:ART prix|NOM soient|VER:subp accompagnées|VER:pper de|PRP nombreuses|ADJ autres|ADJ mesures|NOM :|PUN autorisation|PRP de|PRP la|DET:ART propriété|NOM privée|ADJ (|PUN des|DET:ART terres|NOM et|KON des|PRP:det entreprises|NOM )|PUN ,|PUN libéralisation|NOM des|PRP:det échanges|NOM internationaux|ADJ ,|PUN création|NOM d'|PRP un|DET:ART droit|NOM des|PRP:det entreprises|NOM (|PUN notamment|ADV sur|PRP les|DET:ART faillites|NOM )|PUN ,|PUN etc|ABR .|PUN \n",
      "Le|DET:ART président|NOM en|PRP a|VER:pres profité|VER:pper pour|PRP révéler|VER:infi une|DET:ART partie|NOM des|PRP:det mesures|NOM qu'|PRO:REL il|PRO:PER annoncerait|VER:cond à|PRP la|DET:ART fin|NOM du|PRP:det mois|NOM :|PUN diminution|VER:pres de|PRP la|DET:ART taxation|NOM sur|PRP les|DET:ART plus-values|NOM mobilières|ADJ ,|PUN extension|NOM des|PRP:det crédits|NOM d'|PRP impôt|NOM pour|PRP la|DET:ART recherche|NOM ,|PUN mesures|NOM favorables|ADJ aux|PRP:det acheteurs|NOM d'|PRP une|DET:ART première|NUM maison|NOM et|KON ,|PUN pour|PRP couronner|VER:infi le|DET:ART tout|NOM ,|PUN \"|PUN:cit un|DET:ART bon|ADJ programme|NOM de|PRP santé|NOM \"|PUN:cit ,|PUN c'|PRO:DEM est-à-dire|VER:pres probablement|ADV des|PRP:det prestations|NOM améliorées|ADJ .|PUN \n",
      "Quatre|DET:ART résidences|NOM principales|ADJ sur|PRP cinq|DET:ART sont|VER:pres pourvues|VER:pper d'|PRP un|DET:ART chauffage|NOM central|ADJ contre|PRP une|DET:ART sur|PRP deux|DET:ART en|PRP 1975|PRO:PER ,|PUN selon|PRP une|DET:ART étude|NOM de|PRP l'|DET:ART Observatoire|NOM de|PRP l'|DET:ART énergie|NOM basée|VER:pper sur|PRP les|DET:ART résultats|NOM du|PRP:det dernier|ADJ recensement|NOM de|PRP 1990|PRO:PER .|PUN \n",
      "Car|KON pour|PRP en|PRO:PER apprécier|VER:infi tous|ADV les|DET:ART atouts|NOM ,|PUN la|DET:ART TVHD|ABR doit|VER:pres être|VER:infi regardée|VER:pper de|PRP près|ADV ,|PUN ou|KON sur|PRP un|DET:ART grand|ADJ écran|NOM .|PUN \n",
      "M.|ABR Silvio|NAM Berlusconi|NAM a|VER:pres créé|VER:pper une|DET:ART seconde|NUM fois|NOM l'|DET:ART événement|NOM ,|PUN en|PRP rendant|VER:ppre publique|ADJ ,|PUN dans|PRP l'|DET:ART après-midi|NOM du|PRP:det 15|ADJ janvier|NOM ,|PUN sa|DET:POS proposition|NOM de|PRP prendre|VER:infi en|PRP main|NOM le|DET:ART destin|NOM de|PRP la|DET:ART Cinq|NAM .|PUN \n",
      "L'|DET:ART autre|NOM raison|NOM de|PRP ce|PRO:DEM transfert|NOM aurait|VER:cond été|VER:pper motivée|VER:pper par|PRP les|DET:ART craintes|NOM d'|PRP un|DET:ART raid|NOM imminent|ADJ effectué|VER:pper par|PRP le|DET:ART suisse|NOM Nestlé|ADJ .|PUN \n",
      "Jusqu'|PRP alors|KON sceptique|ADJ ,|PUN Wall|NAM Street|NAM s'|PRO:PER est|VER:pres mise|VER:pper à|PRP y|PRO:PER croire|VER:infi .|PUN \n",
      "Dans|PRP une|DET:ART note|NOM ,|PUN son|DET:POS groupe|NOM multimédias|ADJ ,|PUN Fininvest|NAM Communication|NAM -|PUN actionnaire|NOM à|PRP 25|DET:ART %|SYM de|PRP la|DET:ART chaîne|NOM ,|PUN depuis|PRP ses|DET:POS débuts|NOM en|PRP février|NOM 1986|ADJ -|PUN se|PRO:PER \"|PUN:cit déclarait|VER:impf disponible|ADJ ,|PUN dans|PRP le|DET:ART respect|NOM de|PRP la|DET:ART réglementation|NOM en|PRO:PER vigueur|NOM ,|PUN à|PRP poursuivre|VER:infi l'|DET:ART exploitation|NOM du|PRP:det réseau|NOM ,|PUN en|PRP respectant|VER:ppre le|DET:ART rôle|NOM de|PRP l'|DET:ART information|NOM ;|PUN à|PRP ouvrir|VER:infi de|PRP nouvelles|ADJ discussions|NOM ,|PUN en|PRP assumant|VER:ppre le|DET:ART rôle|NOM d'|PRP opérateur|NOM ;|PUN à|PRP proposer|VER:infi la|DET:ART reprise|NOM d'|PRP un|DET:ART important|ADJ nombre|NOM de|PRP salariés|NOM et|KON ,|PUN dans|PRP des|DET:ART conditions|NOM à|PRP:det préciser|VER:infi ,|PUN celle|PRO:DEM d'|PRP une|DET:ART part|NOM significative|ADJ des|PRP:det programmes|NOM et|KON des|PRP:det productions|NOM réalisées|VER:pper ou|KON en|PRP cours|NOM de|PRP réalisation|NOM ;|PUN à|PRP contribuer|VER:infi à|PRP la|DET:ART réduction|NOM du|PRP:det passif|NOM de|PRP la|DET:ART chaîne|NOM \"|PUN:cit .|PUN \n",
      "Les|DET:ART collectivités|NOM locales|ADJ interviennent|VER:pres massivement|ADV dans|PRP tous|ADV les|DET:ART secteurs|NOM ,|PUN distribuant|VER:ppre des|PRP:det subventions|NOM et|KON garantissant|VER:ppre les|DET:ART emprunts|NOM .|PUN \n",
      "Il|PRO:PER en|PRO:PER va|VER:pres ainsi|ADV du|PRP:det fameux|ADJ indice|NOM composite|ADJ ,|PUN en|PRP baisse|NOM de|PRP 0,3|DET:ART %|SYM seulement|ADV en|PRP novembre|NOM (|PUN au|PRP:det lieu|NOM du|PRP:det 0,4|ADJ %|SYM redouté|ADJ )|PUN .|PUN \n",
      "GEC-Alsthom|NAM et|KON Balfour|NAM Beatty|NAM Projects|NAM ,|PUN un|DET:ART groupe|NOM spécialisé|ADJ dans|PRP l'|DET:ART ingénierie|NOM et|KON la|DET:ART construction|NOM ,|PUN réaliseront|VER:futu cette|PRO:DEM centrale|NOM à|PRP Barking-Reach|NAM ,|PUN dans|PRP la|DET:ART banlieue|NOM est|VER:pres de|PRP la|DET:ART capitale|NOM britannique|ADJ ,|PUN où|PRO:REL les|DET:ART besoins|NOM sont|VER:pres \"|PUN:cit très|ADV urgents|ADJ \"|PUN:cit ,|PUN selon|PRP GEC-Alsthom|NAM .|PUN \n",
      "\"|PUN:cit Cette|PRO:DEM dernière|NOM réforme|NOM ,|PUN estime|VER:pres l'|DET:ART auteur|NOM de|PRP l'|DET:ART étude|NOM ,|PUN Mme|ABR Sophie|NAM Ponthieux|NAM ,|PUN aurait|VER:cond donc|ADV pour|PRP effet|NOM d'|PRP accroître|VER:infi les|DET:ART disparités|NOM entre|PRP catégories|NOM sociales|ADJ \"|PUN:cit .|PUN \n",
      "Ils|PRO:PER ont|VER:pres tous|ADV subi|VER:pper l'|DET:ART augmentation|NOM \"|PUN:cit administrative|ADJ \"|PUN:cit de|PRP 70|DET:POS %|SYM environ|ADV des|PRP:det prix|NOM de|PRP détail|NOM entrée|VER:pper en|PRP vigueur|NOM en|PRP avril|NOM dernier|ADJ ,|PUN après|PRP de|PRP longues|ADJ hésitations|NOM de|PRP la|DET:ART part|NOM des|PRP:det anciennes|ADJ équipes|NOM dirigeantes|ADJ .|PUN \n",
      "Or|KON ,|PUN contrairement|ADV aux|PRP:det rêves|NOM de|PRP croissance|NOM équilibrée|ADJ ,|PUN la|DET:ART probabilité|NOM d'|PRP emballement|NOM d'|PRP une|DET:ART économie|NOM développée|VER:pper est|VER:pres toujours|ADV élevée|VER:pper .|PUN \n",
      "Voilà|VER:impe de|PRP retour|NOM in|PRP fine|NOM l'|DET:ART ancienne|ADJ \"|PUN:cit déqualification-surqualification|NOM \"|PUN:cit ,|PUN aussi|ADV poussiéreuse|ADJ que|KON la|DET:ART technique|NOM et|KON les|DET:ART recherches|NOM sur|PRP la|DET:ART technique|NOM ...|PUN \n",
      "Cet|PRO:DEM organisme|NOM ,|PUN basé|VER:pper à|PRP Bruxelles|NAM ,|PUN regroupe|VER:pres 67|DET:ART syndicats|NOM de|PRP cinquante-trois|DET:ART pays|NOM .|PUN \n",
      "Quand|KON bien|ADV même|ADV certains|PRO:IND investisseurs|NOM le|PRO:PER pensent|VER:pres .|PUN \n",
      "Baltica|NAM a|VER:pres perdu|VER:pper 2|DET:ART milliards|NOM de|PRP couronnes|NOM (|PUN 1,74|DET:ART milliard|NOM de|PRP francs|NOM )|PUN sur|PRP ses|DET:POS investissements|NOM stratégiques|ADJ effectués|VER:pper depuis|PRP 1989|PRO:PER dans|PRP Suez|NAM et|KON Victoire|NOM (|PUN 3,56|DET:ART milliards|NOM de|PRP francs|NOM pour|PRP la|DET:ART totalité|NOM )|PUN où|PRO:REL il|PRO:PER détient|VER:pres respectivement|ADV 3|DET:ART %|SYM et|KON 5|DET:ART %|SYM du|PRP:det capital|NOM .|PUN \n",
      "Sans|PRP remettre|VER:infi en|PRP question|NOM le|DET:ART règlement|NOM 123-85|PRP:det ,|PUN ce|PRO:DEM texte|NOM précise|VER:pres les|DET:ART conditions|NOM d'|PRP activité|NOM d'|PRP une|DET:ART profession|NOM qui|PRO:REL s'|PRO:PER est|VER:pres largement|ADV développée|VER:pper depuis|PRP :|PUN les|DET:ART intermédiaires|ADJ mandataires|ADJ .|PUN \n",
      "Quant|ADV à|PRP moi|NOM ,|PUN je|PRO:PER trouve|VER:pres qu'|ADV on|PRO:PER se|PRO:PER fiche|VER:pres du|PRP:det monde|NOM en|PRP n'|ADV expliquant|VER:ppre pas|ADV les|DET:ART choses|NOM en|PRO:PER langage|NOM courant|ADJ .|PUN \n",
      "D'|PRP un|DET:ART coup|NOM les|DET:ART concurrents|NOM qui|PRO:REL n'|ADV avaient|VER:impf pas|ADV vu|VER:pper le|DET:ART coup|NOM venir|VER:infi ,|PUN les|DET:ART actionnaires|NOM minoritaires|ADJ d'|PRP Exor|NAM et|KON les|DET:ART éleveurs|NOM de|PRP brebis|NOM de|PRP l'|DET:ART Aveyron|NOM se|PRO:PER sont|VER:pres retrouvés|VER:pper sur|PRP le|DET:ART même|ADJ terrain|NOM ...|PUN \n",
      "L'|DET:ART Etat|NOM français|ADJ s'|PRO:PER est|VER:pres interdit|VER:pper depuis|PRP 1986|PRO:PER de|PRP faire|VER:infi appel|VER:pres aux|PRP:det banques|NOM pour|PRP des|PRP:det raisons|NOM structurelles|ADJ (|PUN encouragement|NOM à|PRP l'|DET:ART épargne|NOM longue|ADJ ,|PUN création|NOM d'|PRP un|DET:ART marché|NOM monétaire|ADJ large|ADJ )|PUN et|KON désinflationnistes|ADJ (|PUN réduction|NOM de|PRP la|DET:ART part|NOM des|PRP:det actifs|NOM les|PRO:PER plus|ADV mobilisables|ADJ )|PUN .|PUN \n",
      "Leur|DET:POS syndicat|NOM ,|PUN l'|DET:ART USPA|NOM ,|PUN estime|VER:pres que|KON les|DET:ART sommes|NOM en|PRP jeu|NOM se|PRO:PER chiffrent|VER:pres à|PRP plus|ADV de|PRP 300|DET:POS millions|NOM de|PRP francs|NOM ,|PUN avec|PRP plus|ADV d'|PRP une|DET:ART cinquantaine|NOM d'|PRP entreprises|NOM touchées|VER:pper ,|PUN dont|PRO:REL une|DET:ART dizaine|NOM en|PRP danger|NOM .|PUN \n",
      "Du|PRP:det côté|NOM français|ADJ ,|PUN on|PRO:PER s'|PRO:PER attend|VER:pres à|PRP des|PRP:det retombées|NOM en|PRP termes|NOM de|PRP commandes|NOM d'|PRP appareils|NOM ,|PUN et|KON CSA|NAM devrait|VER:cond acquérir|VER:infi prochainement|ADV quatre|DET:ART avions|NOM franco-italiens|ADJ de|PRP transport|NOM régional|ADJ ATR|NAM .|PUN \n",
      "Quant|ADV aux|PRP:det opérateurs|NOM métropolitains|ADJ ,|PUN certains|PRO:IND d'|PRP entre|PRP eux|PRO:PER ne|ADV veulent|VER:pres pas|ADV \"|PUN:cit rater|VER:infi le|DET:ART train|NOM \"|PUN:cit de|PRP la|DET:ART diminution|NOM des|PRP:det taux|NOM longs|ADJ ,|PUN les|DET:ART gérants|NOM de|PRP portefeuilles|NOM de|PRP SICAV|NOM de|PRP trésorerie|NOM commençant|VER:ppre à|PRP passer|VER:infi du|PRP:det monétaire|NOM (|PUN court|ADJ terme|NOM sans|PRP risque|VER:pres )|PUN à|PRP l'|DET:ART obligataire|NOM :|PUN ajoutons|VER:pres que|KON ,|PUN dans|PRP l'|DET:ART optique|NOM d'|PRP un|DET:ART achèvement|NOM de|PRP l'|DET:ART Union|NOM monétaire|ADJ européenne|ADJ ,|PUN l'|PRO:PER acquisition|NOM d'|PRP emprunts|NOM français|ADJ aux|PRP:det niveaux|NOM actuels|ADJ ,|PUN assez|ADV élevés|VER:pper ,|PUN peut|VER:pres paraître|VER:infi judicieuse|ADJ ,|PUN l'|DET:ART alignement|NOM des|PRP:det rendements|NOM étant|VER:ppre susceptible|ADJ de|PRP s'|PRO:PER effectuer|VER:infi par|PRP le|DET:ART bas|ADJ .|PUN \n",
      "A|PRP contrario|NOM ,|PUN les|DET:ART prix|NOM de|PRP l'|DET:ART énergie|NOM ont|VER:pres baissé|VER:pper de|PRP 1,1|DET:ART %|SYM .|PUN \n",
      "La|DET:ART disparition|NOM de|PRP l'|DET:ART écran|NOM \n",
      "Mais|KON la|DET:ART quasi-|ADV disparition|NOM du|PRP:det déficit|NOM commercial|ADJ avec|PRP notre|DET:POS voisin|NOM d'|PRP outre-Rhin|NOM (|PUN -|PUN 450|DET:ART millions|NOM de|PRP francs|NOM par|PRP mois|NOM en|PRP 1991|PRO:PER contre|PRP -|PUN 5|DET:ART milliards|NOM de|PRP francs|NOM en|PRP 1989|PRO:PER )|PUN est|VER:pres trop|ADV rapide|ADJ pour|PRP être|VER:infi durable|ADJ .|PUN \n",
      "La|DET:ART triple|ADJ série|NOM ne|ADV vit|VER:simp jamais|ADV le|DET:ART jour|NOM .|PUN \n",
      "Selon|PRP le|DET:ART cinquième|NUM sondage|NOM annuel|ADJ sur|PRP la|DET:ART crédibilité|NOM des|PRP:det médias|NOM réalisé|VER:pper fin|PRP 1991|PRO:PER par|PRP la|DET:ART SOFRES|NOM ,|PUN à|PRP la|DET:ART demande|NOM de|PRP la|DET:ART Croix|NAM ,|PUN Télérama|NAM et|KON Médiaspouvoirs|NAM (|PUN 1|DET:ART )|PUN ,|PUN 71|DET:ART %|SYM des|PRP:det personnes|NOM interrogées|VER:pper s'|PRO:PER intéressent|VER:pres aux|PRP:det informations|NOM (|PUN ils|PRO:PER étaient|VER:impf 62|DET:ART %|SYM en|PRP octobre|NOM 1987|ADJ )|PUN .|PUN \n",
      "Ils|PRO:PER considèrent|VER:pres ,|PUN à|PRP juste|ADJ titre|NOM ,|PUN que|KON les|DET:ART possibilités|NOM de|PRP gains|NOM en|PRP capital|NOM sur|PRP les|DET:ART obligations|NOM européennes|ADJ sont|VER:pres assez|ADV substantielles|ADJ ,|PUN en|PRP Europe|NOM ,|PUN par|PRP rapport|VER:pper aux|PRP:det Etats-Unis|NOM ,|PUN où|PRO:REL elles|PRO:PER deviennent|VER:pres problématiques|ADJ à|PRP l'|DET:ART heure|NOM actuelle|ADJ ,|PUN avec|PRP un|DET:ART risque|NOM de|PRP remontée|NOM des|PRP:det rendements|NOM ultérieurement|ADV ,|PUN donc|ADV de|PRP baisse|NOM des|PRP:det cours|NOM .|PUN \n",
      "S'|KON il|PRO:PER était|VER:impf passé|VER:pper outre|ADJ à|PRP l'|DET:ART interdiction|NOM d'|PRP ouvrir|VER:infi ce|PRO:DEM jour|NOM -là|PRO:PER ,|PUN il|PRO:PER aurait|VER:cond dû|VER:pper acquitter|VER:infi une|DET:ART nouvelle|ADJ fois|NOM une|DET:ART astreinte|NOM de|PRP 50.000|DET:POS francs|NOM par|PRP heure|NOM d'|PRP ouverture|NOM ,|PUN soit|KON au|PRP:det total|NOM 500.000|DET:ART francs|NOM pour|PRP le|DET:ART magasin|NOM des|PRP:det Champs-Elysées|NAM .|PUN \n",
      "La|DET:ART place|NOM de|PRP la|DET:ART France|NOM dans|PRP la|DET:ART compétition|NOM européenne|ADJ reste|VER:pres encore|ADV dépendante|ADJ de|PRP l'|DET:ART attraction|NOM trop|ADV exclusive|ADJ de|PRP la|DET:ART \"|PUN:cit région|NOM -|PUN capitale|VER:pres \"|PUN:cit et|KON rend|VER:pres nécessaire|ADJ le|PRO:PER renforcement|NOM des|PRP:det grands|ADJ pôles|NOM régionaux|ADJ ,|PUN estime|VER:pres le|DET:ART gouvernement|NOM .|PUN \n",
      "Qui|PRO:REL n'|ADV est|VER:pres pas|ADV toujours|ADV celle|PRO:DEM que|PRO:REL l'|DET:ART on|PRO:PER croit|VER:pres ,|PUN ni|KON celle|PRO:DEM que|PRO:REL l'|PRO:PER on|PRO:PER voudrait|VER:pres qu'|PRO:REL elle|PRO:PER soit|VER:subp (|PUN le|DET:ART Monde|NOM du|PRP:det 7|ADJ janvier|NOM )|PUN .|PUN \n",
      "La|DET:ART plupart|ADV sont|VER:pres bien|ADV connues|VER:pper des|PRP:det conjoncturistes|NOM qui|PRO:REL les|PRO:PER ont|VER:pres observées|VER:pper en|PRP permanence|NOM depuis|PRP les|DET:ART années|NOM 50|ADJ ...|PUN sans|PRP toujours|ADV se|PRO:PER douter|VER:infi que|KON leur|PRO:PER sélection|NOM découlait|VER:impf directement|ADV des|PRP:det réflexions|NOM des|PRP:det années|NOM 30|ADJ !|PUN \n",
      "Pour|PRP sa|DET:POS part|NOM ,|PUN M.|ABR Charles|NAM Pasqua|NAM ,|PUN invité|NOM du|PRP:det \"|PUN:cit Grand|ADJ Jury|NAM RTL|NAM -|PUN le|DET:ART Monde|NOM \"|PUN:cit du|PRP:det 5|ADJ janvier|NOM ,|PUN a|VER:pres noté|VER:pper que|KON \"|PUN:cit le|DET:ART Sénat|NOM est|VER:pres tout|ADV à|PRP fait|VER:pres disposé|VER:pper à|PRP examiner|VER:infi une|DET:ART réforme|NOM de|PRP fond|NOM de|PRP l'|DET:ART audiovisuel|NOM ,|PUN mais|KON le|DET:ART gouvernement|NOM ne|ADV nous|PRO:PER propose|VER:pres que|ADV des|PRP:det replâtrages|NOM qui|PRO:REL ne|ADV permettent|VER:pres pas|ADV de|PRP résoudre|VER:infi les|DET:ART problèmes|NOM \"|PUN:cit .|PUN \n",
      "M.|ABR Louis|NAM Schweitzer|NAM ,|PUN directeur|NOM général|ADJ de|PRP Renault|NAM et|KON dauphin|NOM désigné|VER:pper de|PRP M.|ABR Raymond|NAM Lévy|NAM lorsque|KON celui-ci|PRO:DEM prendra|VER:futu sa|DET:POS retraite|NOM au|PRP:det printemps|NOM ,|PUN ne|ADV serait|VER:cond pas|ADV en|PRP odeur|NOM de|PRP sainteté|NUM à|PRP Matignon|NAM .|PUN \n",
      "Malgré|PRP la|DET:ART réduction|NOM du|PRP:det déficit|NOM -|PUN aux|PRP:det alentours|NOM de|PRP 6|DET:ART milliards|NOM de|PRP francs|NOM en|PRP 1992|PRO:PER après|PRP 14|DET:ART milliards|NOM l'|PRO:PER an|NOM passé|VER:pper ,|PUN -|PUN il|PRO:PER faudra|VER:pres dans|PRP les|DET:ART prochains|ADJ mois|NOM que|PRO:REL le|DET:ART Trésor|NOM vole|VER:pres en|PRP plusieurs|PRO:IND occasions|NOM au|PRP:det secours|NOM de|PRP la|DET:ART trésorerie|NOM de|PRP la|DET:ART \"|PUN:cit Sécu|NOM \"|PUN:cit .|PUN \n",
      "La|DET:ART création|NOM d'|PRP une|DET:ART rédaction|NOM commune|ADJ posait|VER:impf d'|PRP autre|ADJ part|NOM un|DET:ART problème|NOM financier|ADJ et|KON hiérarchique|ADJ insoluble|ADJ .|PUN \n",
      "Sans|PRP oublier|VER:infi Michelin|NAM (|PUN +|SYM 90|DET:POS %|SYM )|PUN et|KON Elf|NAM Aquitaine|NAM (|PUN +|SYM 36|DET:ART %|SYM )|PUN .|PUN \n",
      "La|DET:ART multiplication|NOM des|PRP:det réceptions|NOM par|PRP satellite|NOM et|KON la|DET:ART généralisation|NOM des|PRP:det écrans|NOM plats|ADJ ,|PUN faciles|ADJ à|PRP intégrer|VER:infi aux|PRP:det décors|NOM quotidiens|ADJ ,|PUN iront|VER:futu dans|PRP le|DET:ART même|ADJ sens|NOM d'|PRP ubiquité|NOM de|PRP l'|DET:ART image|NOM .|PUN \n"
     ]
    },
    {
     "name": "stdout",
     "output_type": "stream",
     "text": [
      "Le|DET:ART juge|NOM des|PRP:det référés|NOM du|PRP:det tribunal|NOM de|PRP grande|ADJ instance|NOM de|PRP Paris|NAM a|VER:pres d'|PRP autre|ADJ part|NOM rejeté|VER:pper la|DET:ART demande|NOM de|PRP la|DET:ART CFDT|ABR visant|VER:ppre à|PRP faire|VER:infi fixer|VER:infi à|PRP 200.000|DET:POS francs|NOM l'|DET:ART astreinte|NOM de|PRP 50.000|DET:POS francs|NOM par|PRP heure|NOM d'|PRP ouverture|NOM ,|PUN définie|VER:pper le|DET:ART 27|ADJ décembre|NOM .|PUN \n",
      "D'|PRP ores|NOM et|KON déjà|ADV ,|PUN les|DET:ART entreprises|NOM dont|PRO:REL l'|DET:ART effectif|NOM se|PRO:PER situe|VER:pres entre|PRP 50|DET:POS et|KON 400|NUM salariés|NOM acquittent|VER:pres leurs|DET:POS cotisations|NOM le|PRO:PER 5|ADJ du|PRP:det mois|NOM au|PRP:det lieu|NOM du|PRP:det 15|ADJ et|KON le|DET:ART versement|NOM des|PRP:det dotations|NOM aux|PRP:det hôpitaux|NOM a|VER:pres été|VER:pper modifié|VER:pper .|PUN \n",
      "La|DET:ART BCCI|ABR SA|ABR et|KON la|DET:ART BCCI|ABR Holding|NOM ont|VER:pres toutes|ADV deux|DET:ART leur|DET:POS siège|NOM au|PRP:det Luxembourg|NOM .|PUN \n",
      "Alerté|VER:pper par|PRP notre|DET:POS courrier|NOM ,|PUN Pierre|NAM Grimblat|NAM nous|PRO:PER a|VER:pres contactés|VER:pper \"|PUN:cit .|PUN \n",
      "Du|PRP:det côté|NOM du|PRP:det ministère|NOM du|PRP:det travail|NOM ,|PUN on|PRO:PER garde|VER:pres toutefois|ADV bon|ADJ espoir|NOM .|PUN \n",
      "Comment|ADV absoudre|VER:infi une|DET:ART chaîne|NOM qui|PRO:REL ne|ADV comprend|VER:pres qu'|ADV au|PRP:det bout|NOM de|PRP quelques|PRO:IND semaines|NOM que|PRO:REL les|DET:ART croix|ADJ gammées|ADJ dessinées|VER:pper sur|PRP les|DET:ART costumes|NOM des|PRP:det héros|NOM d'|PRP une|DET:ART série|NOM ont|VER:pres des|PRP:det relents|NOM de|PRP fascisme|NOM ?|PUN \n",
      "Il|PRO:PER n'|ADV y|PRO:PER avait|VER:impf jamais|ADV eu|VER:pper d'|PRP accord|NOM salarial|ADJ à|PRP la|DET:ART BNP|ABR ,|PUN où|PRO:REL on|PRO:PER se|PRO:PER félicite|VER:pres de|PRP cette|PRO:DEM \"|PUN:cit première|NUM relation|NOM contractuelle|ADJ \"|PUN:cit avec|PRP les|DET:ART syndicats|NOM .|PUN \n",
      "Les|DET:ART différents|ADJ fournisseurs|NOM de|PRP la|DET:ART chaîne|NOM ,|PUN dont|PRO:REL les|DET:ART créances|NOM sont|VER:pres maintenant|ADV gelées|NOM ,|PUN commencent|VER:pres pour|PRP leur|PRO:PER part|NOM à|PRP chiffrer|VER:infi les|DET:ART conséquences|NOM de|PRP ce|PRO:DEM sinistre|NOM .|PUN \n",
      "Interrogé|VER:pper sur|PRP son|DET:POS projet|NOM de|PRP chaîne|NOM musicale|ADJ ,|PUN M.|ABR Lang|NAM a|VER:pres estimé|VER:pper qu'|KON il|PRO:PER serait|VER:cond \"|PUN:cit absurde|ADJ \"|PUN:cit de|PRP l'|DET:ART installer|VER:infi sur|PRP le|DET:ART réseau|NOM de|PRP la|DET:ART Cinq|NAM mais|KON a|VER:pres esquivé|VER:pper l'|DET:ART éventuelle|ADJ installation|NOM de|PRP la|DET:ART SEPT|NAM ,|PUN la|DET:ART chaîne|NOM culturelle|ADJ franco-allemande|ADJ ,|PUN à|PRP sa|DET:POS place|NOM .|PUN \n",
      "Pour|PRP l'|DET:ART ensemble|NOM de|PRP l'|DET:ART Europe|NOM de|PRP l'|DET:ART Ouest|NOM ,|PUN la|DET:ART hausse|NOM est|VER:pres plus|ADV modeste|ADJ avec|PRP un|DET:ART total|NOM de|PRP 2,4|DET:ART millions|NOM de|PRP véhicules|NOM vendus|VER:pper (|PUN +|SYM 4|DET:ART %|SYM par|PRP rapport|VER:pper à|PRP l'|DET:ART année|NOM 1990|ADJ )|PUN .|PUN \n",
      "Ils|PRO:PER savent|VER:pres que|KON la|DET:ART technicité|NOM dans|PRP la|DET:ART gestion|NOM du|PRP:det \"|PUN:cit papier|NOM \"|PUN:cit ,|PUN maintenant|ADV largement|ADV répandue|VER:pper au-delà|PRP du|PRP:det monde|NOM des|PRP:det \"|PUN:cit traders|NOM \"|PUN:cit proprement|ADV dits|VER:pper ,|PUN ne|ADV suffit|VER:pres pas|ADV .|PUN \n",
      "Si|KON la|DET:ART loi|NOM ne|ADV permet|VER:pres pas|ADV de|PRP regroupement|NOM ,|PUN il|PRO:PER faut|VER:pres convaincre|VER:infi le|DET:ART législateur|NOM de|PRP changer|VER:infi la|DET:ART loi|NOM .|PUN \n",
      "BOURSE|NOM \n",
      "Le|DET:ART dernier|ADJ point|NOM sur|PRP lequel|PRO:REL ce|PRO:DEM sondage|NOM met|VER:pres l'|DET:ART accent|NOM concerne|VER:pres l'|DET:ART indépendance|NOM des|PRP:det journalistes|NOM .|PUN \n",
      "Quant|ADV au|PRP:det minimum|NOM vieillesse|NOM ,|PUN il|PRO:PER est|VER:pres porté|VER:pper de|PRP 36.055|DET:POS francs|NOM à|PRP 36.420|DET:ART francs|NOM par|PRP an|NOM pour|PRP une|DET:ART personne|NOM seule|ADJ (|PUN 65.340|DET:ART francs|NOM par|PRP an|NOM pour|PRP un|DET:ART couple|NOM )|PUN .|PUN \n",
      "Le|DET:ART produit|NOM national|ADJ brut|ADJ de|PRP l'|DET:ART Allemagne|NOM de|PRP l'|DET:ART Ouest|NOM (|PUN RFA|ABR d'|PRP avant|PRP la|DET:ART réunification|NOM )|PUN a|VER:pres progressé|VER:pper en|PRP 1991|PRO:PER de|PRP 3,2|DET:ART %|SYM contre|PRP 4,5|DET:ART %|SYM en|PRP 1990|PRO:PER ,|PUN selon|PRP les|DET:ART chiffres|NOM provisoires|ADJ annoncés|VER:pper le|DET:ART 15|ADJ janvier|NOM par|PRP l'|DET:ART Office|NAM fédéral|ADJ des|PRP:det statistiques|NOM .|PUN \n",
      "Pendant|PRP une|DET:ART OPA|NOM ,|PUN les|DET:ART actes|NOM qui|PRO:REL dépassent|VER:pres la|DET:ART gestion|NOM courante|ADJ doivent|VER:pres être|VER:infi notifiés|VER:pper au|PRP:det gendarme|NOM de|PRP la|DET:ART Bourse|NOM .|PUN \n",
      "Il|PRO:PER aura|VER:futu fallu|VER:pper plus|ADV d'|PRP une|DET:ART année|NOM de|PRP négociations|NOM ardues|ADJ entre|PRP les|DET:ART sociétés|NOM de|PRP manutention|NOM ,|PUN la|DET:ART direction|NOM du|PRP:det port|NOM et|KON les|DET:ART organisations|NOM syndicales|ADJ de|PRP dockers|NOM pour|PRP parvenir|VER:infi à|PRP un|DET:ART accord|NOM qui|PRO:REL satisfait|VER:pres les|DET:ART uns|ADJ et|KON les|PRO:PER autres|ADJ .|PUN \n",
      "Les|DET:ART possibilités|NOM restreintes|ADJ de|PRP diversification|NOM qui|PRO:REL leur|PRO:PER sont|VER:pres offertes|VER:pper interdisent|VER:pres la|DET:ART mise|NOM en|PRP oeuvre|NOM de|PRP tels|ADJ projets|NOM \"|PUN:cit ,|PUN indique|VER:pres l'|DET:ART APCCA|NAM ,|PUN dans|PRP un|DET:ART communiqué|NOM .|PUN \n",
      "La|DET:ART première|NUM mouture|NOM du|PRP:det plan|NOM d'|PRP accompagnement|NOM social|ADJ ,|PUN présentée|VER:pper il|PRO:PER y|PRO:PER a|VER:pres quelques|PRO:IND jours|NOM aux|PRP:det délégués|NOM des|PRP:det fédérations|NOM de|PRP fonctionnaires|NOM ,|PUN risque|VER:pres pourtant|ADV de|PRP laisser|VER:infi plus|ADV d'|PRP un|DET:ART agent|NOM concerné|VER:pper sur|PRP sa|DET:POS faim|NOM .|PUN \n",
      "Notre|DET:POS science|NOM du|PRP:det travail|NOM est|VER:pres bien|ADV balbutiante|ADJ ,|PUN malgré|PRP cette|PRO:DEM épopée|NOM de|PRP la|DET:ART torture|NOM (|PUN tripalium|NOM ,|PUN l'|DET:ART instrument|NOM de|PRP torture|NOM ,|PUN donna|VER:impf le|DET:ART mot|NOM travail|PRO:PER )|PUN chantée|VER:pper il|PRO:PER y|PRO:PER a|VER:pres plus|ADV d'|PRP un|DET:ART siècle|NOM par|PRP Karl|NAM Marx|NAM .|PUN \n",
      "Il|PRO:PER a|VER:pres d'|PRP ailleurs|NOM accompagné|VER:pper M.|ABR Dominique|NAM Strauss-Kahn|NAM en|PRO:PER septembre|NOM ,|PUN lorsque|KON le|DET:ART ministre|NOM de|PRP l'|DET:ART industrie|NOM et|KON du|PRP:det commerce|NOM extérieur|ADJ est|VER:pres allé|VER:pper en|PRP Afrique|NOM du|PRP:det Sud|NOM .|PUN \n",
      "Déjà|ADV ,|PUN le|DET:ART gouvernement|NOM a|VER:pres décidé|VER:pper le|DET:ART transfert|NOM de|PRP vingt-quatre|DET:ART organismes|NOM ,|PUN soit|KON plus|ADV de|PRP 4.000|DET:POS emplois|NOM ,|PUN dont|PRO:REL la|DET:ART mise|NOM en|PRP oeuvre|NOM interviendra|VER:pres en|PRP 1992|PRO:PER ou|KON à|PRP titre|NOM exceptionnel|ADJ en|PRO:PER 1993|PRO:PER .|PUN \n",
      "PENDANT|PRP des|PRP:det années|NOM ,|PUN remplir|VER:infi les|DET:ART bulletins|NOM de|PRP paie|NOM de|PRP l'|DET:ART indispensable|NOM et|KON industrieuse|ADJ \"|PUN:cit employée|VER:pper de|PRP maison|NOM \"|PUN:cit (|PUN terme|NOM plus|ADV noble|ADJ que|KON celui|PRO:DEM ,|PUN légèrement|ADV méprisant|ADJ ,|PUN de|PRP \"|PUN:cit femme|NOM de|PRP ménage|NOM \"|PUN:cit )|PUN était|VER:impf une|DET:ART corvée|NOM pesante|ADJ à|PRP assumer|VER:infi .|PUN \n",
      "Du|PRP:det coup|NOM ,|PUN le|DET:ART déficit|NOM du|PRP:det commerce|NOM extérieur|ADJ ,|PUN qui|PRO:REL devait|VER:impf avoisiner|VER:infi 50|DET:POS milliards|NOM de|PRP francs|NOM cette|PRO:DEM année|NOM ,|PUN -|PUN comme|PRP en|PRO:PER 1990|PRO:PER ,|PUN -|PUN dépassera|VER:futu à|PRP peine|NOM 30|DET:ART milliards|NOM de|PRP francs|NOM .|PUN \n",
      "L'|DET:ART \"|PUN:cit alu|NOM \"|PUN:cit s'|PRO:PER alourdit|VER:pres \n",
      "Le|DET:ART résultat|NOM est|VER:pres un|DET:ART taux|NOM d'|PRP épargne|NOM élevé|VER:pper ,|PUN mais|KON qui|PRO:REL ne|ADV s'|PRO:PER accroît|VER:pres plus|ADV ,|PUN et|KON dont|PRO:REL la|DET:ART structure|NOM se|PRO:PER modifie|VER:pres au|PRP:det détriment|NOM des|PRP:det placements|NOM longs|ADJ .|PUN \n",
      "La|DET:ART mise|NOM en|PRP place|NOM d'|PRP un|DET:ART dispositif|NOM de|PRP sauvegarde|NOM de|PRP plusieurs|PRO:IND dizaines|NOM de|PRP bateaux|NOM de|PRP pêche|NOM d'|PRP antan|ADJ ,|PUN à|PRP des|PRP:det fins|NOM culturelles|ADJ ou|KON pédagogiques|ADJ ;|PUN \n",
      "Leur|DET:POS progression|NOM ,|PUN qui|PRO:REL était|VER:impf encore|ADV de|PRP 13|DET:ART %|SYM en|PRP 1990|PRO:PER ,|PUN s'|PRO:PER est|VER:pres établie|VER:pper à|PRP 9|PRO:PER %|SYM l'|DET:ART an|NOM passé|VER:pper ,|PUN indique|VER:pres l'|DET:ART institut|NOM national|ADJ de|PRP la|DET:ART statistique|NOM et|KON des|PRP:det études|NOM économiques|ADJ ,|PUN dans|PRP une|DET:ART étude|NOM rendue|VER:pper publique|ADJ mardi|INT 7|ADJ janvier|NOM .|PUN \n",
      "Quand|KON un|DET:ART bateau|NOM de|PRP plaisance|NOM ou|KON un|DET:ART scooter|NOM heurte|VER:pres un|DET:ART baigneur|NOM ,|PUN les|DET:ART indemnités|NOM susceptibles|ADJ d'|PRP être|VER:infi versées|VER:pper à|PRP la|DET:ART victime|NOM en|PRP vertu|NOM de|PRP la|DET:ART Convention|NOM de|PRP Londres|NAM (|PUN 1976|DET:ART )|PUN sont|VER:pres plafonnées|VER:pper .|PUN \n",
      "Quant|ADV à|PRP l'|DET:ART ensemble|NOM Mecklenbourg-Poméranie|NAM ,|PUN il|PRO:PER sera|VER:futu couvert|VER:pper par|PRP l'|DET:ART extension|NOM du|PRP:det Norddeutscher|NOM Rundfunk|NAM (|PUN NDR|ABR )|PUN de|PRP Hambourg|NAM .|PUN \n",
      "L'|DET:ART agent|NOM commercial|ADJ peut|VER:pres aussi|ADV exiger|VER:infi de|PRP son|DET:POS mandant|NOM qu'|PRO:REL il|PRO:PER lui|PRO:PER fournisse|VER:pres tous|ADV les|DET:ART documents|NOM comptables|ADJ nécessaires|ADJ pour|PRP vérifier|VER:infi le|DET:ART montant|NOM des|PRP:det commissions|NOM .|PUN \n",
      "Moins|ADV satisfaisante|ADJ ,|PUN en|PRP revanche|NOM ,|PUN la|DET:ART croissance|NOM du|PRP:det produit|NOM national|ADJ brut|ADJ a|VER:pres été|VER:pper ,|PUN l'|DET:ART an|NOM dernier|ADJ ,|PUN largement|ADV distancée|VER:pper par|PRP les|DET:ART performances|NOM japonaise|ADJ et|KON allemande|ADJ .|PUN \n",
      "Cette|PRO:DEM prise|NOM de|PRP position|NOM survient|VER:pres deux|DET:ART jours|NOM après|PRP une|DET:ART rencontre|NOM infructueuse|ADJ avec|PRP le|DET:ART secrétaire|NOM d'|PRP Etat|NOM à|PRP la|DET:ART mer|NOM ,|PUN M.|ABR Jean-Yves|NAM Le|DET:ART Drian|NAM .|PUN \n",
      "Sur|PRP le|DET:ART terrain|NOM ,|PUN c'|PRO:DEM est|VER:pres l'|DET:ART armistice|NOM :|PUN contrairement|ADV à|PRP ce|PRO:DEM qu'|PRO:REL il|PRO:PER avait|VER:impf fait|VER:pper la|DET:ART semaine|NOM précédente|ADJ ,|PUN M.|ABR Patrick|NAM Zelnik|NAM ,|PUN président|NOM de|PRP Virgin|NAM France|NAM ,|PUN a|VER:pres renoncé|VER:pper à|PRP ouvrir|VER:infi dimanche|DET:ART 5|ADJ janvier|NOM ses|DET:POS magasins|NOM de|PRP Paris|NAM ,|PUN Bordeaux|NAM et|KON Marseille|NAM .|PUN \n",
      "En|PRP moyenne|NOM ,|PUN M.|ABR Dupont|NAM a|VER:pres donc|ADV vu|VER:pper 10.350|DET:ART spots|NOM ,|PUN dont|PRO:REL 500|DET:ART pour|PRP des|PRP:det automobiles|NOM ,|PUN 600|DET:ART pour|PRP des|PRP:det disques|NOM ,|PUN 320|DET:ART pour|PRP des|PRP:det lessives|NOM et|KON 520|DET:ART pour|PRP des|PRP:det fromages|NOM ,|PUN les|DET:ART quatre|ADJ familles|NOM de|PRP produits|NOM qui|PRO:REL investissent|VER:pres le|DET:ART plus|ADV dans|PRP la|DET:ART publicité|NOM télévisée|VER:pper .|PUN \n",
      "A|PRP la|DET:ART Cinq|NAM ,|PUN l'|DET:ART administrateur|NOM judiciaire|ADJ nommé|VER:pper début|VER:pres janvier|NOM ,|PUN Me|ABR Hubert|NAM Lafont|NAM ,|PUN a|VER:pres annoncé|VER:pper au|PRP:det comité|NOM d'|PRP entreprise|NOM ,|PUN réuni|VER:pper le|DET:ART 6|ADJ janvier|NOM ,|PUN qu'|KON il|PRO:PER ouvrait|VER:impf aux|PRP:det salariés|NOM une|DET:ART procédure|NOM de|PRP départs|NOM volontaires|ADJ jusqu'|PRP à|PRP fin|NOM janvier|NOM :|PUN ceux|PRO:DEM qui|PRO:REL le|PRO:PER souhaitent|VER:pres pourront|VER:futu quitter|VER:infi la|DET:ART chaîne|NOM sous|PRP la|DET:ART forme|NOM d'|PRP un|DET:ART licenciement|NOM économique|ADJ avec|PRP indemnités|NOM .|PUN \n",
      "Un|DET:ART rebond|NOM très|ADV attendu|VER:pper ,|PUN puisqu'|KON au|PRP:det cours|NOM des|PRP:det onze|ADJ premiers|NUM mois|NOM de|PRP 1991|PRO:PER ,|PUN la|DET:ART valeur|NOM des|PRP:det constructions|NOM neuves|ADJ se|PRO:PER situait|VER:impf à|PRP 11|DET:ART %|SYM en|PRP deçà|NOM de|PRP son|DET:POS niveau|NOM de|PRP la|DET:ART période|NOM équivalente|ADJ de|PRP 1990|PRO:PER et|KON que|KON ce|PRO:DEM pourcentage|NOM atteignait|VER:impf 18|DET:ART %|SYM pour|PRP le|DET:ART secteur|NOM non|ADV résidentiel|ADJ .|PUN \n",
      "L'|DET:ART objectif|NOM officiel|ADJ est|VER:pres d'|PRP aboutir|VER:infi ,|PUN à|PRP l'|DET:ART horizon|NOM 2000|ADJ ,|PUN à|PRP la|DET:ART décentralisation|NOM de|PRP 30.000|DET:POS emplois|NOM .|PUN \n",
      "Ironiquement|ADV ,|PUN la|DET:ART TVHD|NOM pourrait|VER:cond pourtant|ADV bien|ADV tuer|VER:infi le|DET:ART téléviseur|NOM ,|PUN du|PRP:det moins|NOM tel|ADJ que|KON nous|PRO:PER le|PRO:PER connaissons|VER:pres ...|PUN \n",
      "La|DET:ART simple|ADJ absorption|NOM des|PRP:det feuilles|NOM d'|PRP explication|NOM m'|PUN a|VER:pres pris|VER:pper un|DET:ART bon|ADJ moment|NOM ,|PUN et|KON j'|PRO:PER ai|VER:pres eu|VER:pper un|DET:ART mal|NOM de|PRP chien|NOM à|PRP comprendre|VER:infi .|PUN \n",
      "La|DET:ART preuve|NOM en|PRO:PER est|VER:pres :|PUN la|DET:ART moitié|NOM de|PRP cette|PRO:DEM hausse|NOM a|VER:pres été|VER:pper acquise|VER:pper au|PRP:det cours|NOM des|PRP:det dix|PRP:det derniers|ADJ jours|NOM .|PUN \n",
      "L'|DET:ART année|NOM 1992|ADJ a|VER:pres commencé|VER:pper en|PRP fanfare|NOM sur|PRP le|DET:ART marché|NOM financier|ADJ de|PRP Paris|NAM ,|PUN avec|PRP une|DET:ART baisse|NOM sensible|ADJ des|PRP:det taux|NOM d'|PRP intérêt|NOM à|PRP long|ADJ terme|NOM ,|PUN relevée|VER:pper lors|ADV de|PRP la|DET:ART première|NUM adjudication|NOM mensuelle|ADJ d'|PRP obligations|NOM assimilables|ADJ du|PRP:det Trésor|NOM (|PUN OAT|ABR )|PUN effectuée|VER:pper pour|PRP 10,6|DET:ART milliards|NOM de|PRP francs|NOM jeudi|INT 2|ADJ janvier|NOM ,|PUN à|PRP valoir|VER:infi sur|PRP les|DET:ART 135|ADJ milliards|NOM de|PRP francs|NOM que|PRO:REL l'|DET:ART État|NOM devra|VER:pres emprunter|VER:infi cette|DET:ART année|NOM .|PUN \n",
      "Le|DET:ART conseil|NOM des|PRP:det chefs|NOM de|PRP gouvernement|NOM de|PRP la|DET:ART Communauté|NAM des|PRP:det Etats|NOM indépendants|ADJ (|PUN CEI|ABR )|PUN se|PRO:PER réunira|VER:futu ,|PUN le|DET:ART 25|ADJ janvier|NOM ,|PUN à|PRP Moscou|NAM pour|PRP \"|PUN:cit étudier|VER:infi les|DET:ART premiers|NUM effets|NOM de|PRP cette|PRO:DEM libéralisation|NOM des|PRP:det prix|NOM \"|PUN:cit .|PUN \n",
      "Insensiblement|ADV ,|PUN il|PRO:PER se|PRO:PER pourrait|VER:cond que|KON ,|PUN ce|PRO:DEM faisant|VER:ppre ,|PUN l'|DET:ART intention|NOM d'|PRP origine|NOM soit|VER:subp modifiée|VER:pper .|PUN \n",
      "Allocations|NOM familiales|ADJ :|PUN la|DET:ART base|NOM de|PRP calcul|NOM des|PRP:det prestations|NOM familiales|ADJ augmente|VER:pres de|PRP 1|DET:ART %|SYM (|PUN 1.939,64|DET:ART francs|NOM )|PUN .|PUN \n",
      "-|PUN L'|DET:ART indice|NOM composite|ADJ ,|PUN qui|PRO:REL rassemble|VER:pres les|DET:ART principaux|ADJ indicateurs|NOM de|PRP l'|DET:ART économie|NOM américaine|ADJ (|PUN production|NOM ,|PUN consommation|NOM ,|PUN finances|NOM ,|PUN échanges|NOM ...|PUN )|PUN ,|PUN a|VER:pres baissé|VER:pper de|PRP 0,3|DET:POS %|SYM en|PRP novembre|NOM aux|PRP:det Etats-Unis|NOM ,|PUN a|VER:pres annoncé|VER:pper mardi|DET:ART 31|ADJ décembre|NOM le|ADJ département|NOM du|PRP:det commerce|NOM .|PUN \n",
      "\"|PUN:cit nous|PRO:PER pouvons|VER:pres maintenant|ADV discerner|VER:infi les|DET:ART premiers|ADJ signes|NOM de|PRP la|DET:ART reprise|NOM ,|PUN et|KON tous|ADV les|DET:ART experts|NOM s'|PRO:PER attendent|VER:pres à|PRP voir|VER:infi notre|DET:POS économie|NOM croître|VER:infi de|PRP nouveau|ADJ cette|PRO:DEM année|NOM \"|PUN:cit :|PUN dans|PRP son|DET:POS message|NOM de|PRP Nouvel|NAM An|NOM ,|PUN mardi|NOM 31|ADJ décembre|NOM ,|PUN M.|ABR John|NAM Major|NAM s'|PRO:PER est|VER:pres efforcé|VER:pper de|PRP dissiper|VER:infi le|DET:ART climat|NOM de|PRP dépression|NOM économique|ADJ ,|PUN nourri|VER:pper par|PRP plusieurs|PRO:IND indices|NOM défavorables|ADJ (|PUN Le|DET:ART Monde|NOM du|PRP:det 25|ADJ décembre|NOM 1991|ADJ )|PUN ,|PUN qui|PRO:REL persiste|VER:pres en|PRP Grande-Bretagne|NAM .|PUN \n",
      "A|PRP La|DET:ART Réunion|NAM ,|PUN à|PRP cause|NOM de|PRP la|DET:ART pression|NOM démographique|ADJ ,|PUN les|DET:ART 3.500|ADJ emplois|NOM nouveaux|ADJ créés|VER:pper chaque|PRO:IND année|NOM suffisent|VER:pres à|PRP peine|NOM à|PRP contenter|VER:infi la|DET:ART moitié|NOM des|PRP:det 7.000|NUM demandeurs|NOM supplémentaires|ADJ ...|PUN \n",
      "Le|DET:ART ministre|NOM n'|ADV est|VER:pres en|PRP revanche|NOM guère|ADV optimiste|ADJ pour|PRP la|DET:ART population|NOM ,|PUN qui|PRO:REL \"|PUN:cit ne|ADV peut|VER:pres s'|PRO:PER attendre|VER:infi à|PRP une|DET:ART augmentation|NOM du|PRP:det niveau|NOM de|PRP vie|NOM \"|PUN:cit et|KON sera|VER:futu victime|ADJ de|PRP la|DET:ART libération|NOM (|PUN progressive|NOM )|PUN du|PRP:det prix|NOM des|PRP:det services|NOM et|KON des|PRP:det coupes|NOM sévères|ADJ dans|PRP les|DET:ART budgets|NOM sociaux|ADJ .|PUN \n"
     ]
    },
    {
     "name": "stdout",
     "output_type": "stream",
     "text": [
      "Ceux-ci|PRO:DEM feront|VER:futu partie|VER:pres d'|PRP un|DET:ART ensemble|NOM de|PRP mesures|NOM \"|PUN:cit destinées|VER:pper à|PRP favoriser|VER:infi la|DET:ART croissance|NOM \"|PUN:cit ,|PUN dont|PRO:REL le|DET:ART contenu|NOM exact|ADJ sera|VER:futu révélé|VER:pper le|DET:ART 28|ADJ janvier|NOM à|PRP l'|DET:ART occasion|NOM du|PRP:det traditionnel|ADJ message|NOM du|PRP:det président|NOM sur|PRP l'|DET:ART état|NOM de|PRP l'|DET:ART union|NOM .|PUN \n",
      "La|DET:ART deuxième|NUM solution|NOM est|VER:pres souvent|ADV plus|ADV coûteuse|ADJ que|KON la|DET:ART première|NUM .|PUN \n",
      "En|PRP fonction|NOM de|PRP cet|PRO:DEM \"|PUN:cit objectif|NOM annuel|ADJ \"|PUN:cit ,|PUN les|DET:ART tarifs|NOM seront|VER:futu ajustés|VER:pper à|PRP la|DET:ART baisse|NOM ou|KON à|PRP la|DET:ART hausse|NOM .|PUN \n",
      "ce|PRO:DEM sera|VER:futu probablement|ADV un|DET:ART de|PRP ses|DET:POS principaux|ADJ clients|NOM dont|PRO:REL elle|PRO:DEM connaît|VER:pres les|DET:ART besoins|NOM financiers|ADJ .|PUN \n",
      "\"|PUN:cit Nous|PRO:PER aurons|VER:pres 150|DET:ART points|NOM de|PRP vente|NOM d'|PRP ici|NOM à|PRP cinq|DET:ART ans|NOM ,|PUN affirme|VER:pres -t-il|PRO:PER .|PUN \n",
      "Du|PRP:det côté|NOM des|PRP:det valeurs|NOM ,|PUN les|DET:ART fins|NOM d'|PRP année|NOM sont|VER:pres traditionnellement|ADV propices|ADJ aux|PRP:det bilans|NOM .|PUN \n",
      "Le|DET:ART groupe|NOM a|VER:pres ,|PUN en|PRP revanche|NOM ,|PUN enregistré|VER:pper un|DET:ART net|ADJ repli|NOM sur|PRP le|DET:ART marché|NOM nord-américain|ADJ :|PUN 300.000|DET:ART véhicules|NOM vendus|VER:pper ,|PUN -|PUN 11|DET:ART %|SYM par|PRP rapport|VER:pper à|PRP l'|DET:ART année|NOM précédente|ADJ .|PUN \n",
      "Hélas|ADV !|PUN \n",
      "\"|PUN:cit L'|DET:ART heure|NOM n'|ADV est|VER:pres plus|ADV aux|PRP:det happenings|NOM ,|PUN confirme|VER:pres un|DET:ART journaliste|NOM .|PUN \n",
      "Pas|ADV de|PRP démesure|NOM ,|PUN mais|KON de|PRP petits|ADJ décors|NOM fixes|VER:pper :|PUN le|DET:ART commissariat|NOM ,|PUN l'|DET:ART appartement|NOM du|PRP:det front|NOM de|PRP Seine|NOM ,|PUN le|DET:ART café|NOM tenu|VER:pper par|PRP Catherine|NAM Allégret|NAM ...|PUN \n",
      "Difficile|ADJ de|PRP soupçonner|VER:infi le|DET:ART PDG|NOM d'|PRP Avia|NAM de|PRP francophobie|NOM :|PUN à|PRP cinquante-huit|DET:ART ans|NOM ,|PUN il|PRO:PER fut|VER:impf l'|DET:ART un|PRO:PER des|PRP:det promoteurs|NOM de|PRP la|DET:ART coopération|NOM engagée|VER:pper en|PRP 1967|PRO:PER avec|PRP Renault|NAM pour|PRP la|DET:ART fabrication|NOM des|PRP:det camions|NOM sous|PRP licence|NOM Saviem|ADJ .|PUN \n",
      "Réunis|VER:pper ,|PUN vendredi|INT 3|ADJ janvier|NOM ,|PUN à|PRP Paris|NAM ,|PUN les|DET:ART dix-sept|NOM pays|NOM créanciers|ADJ de|PRP l'|DET:ART ancienne|ADJ Union|NOM soviétique|ADJ ont|VER:pres confirmé|VER:pper aux|PRP:det représentants|NOM de|PRP la|DET:ART banque|NOM du|PRP:det commerce|NOM extérieur|ADJ soviétique|ADJ (|PUN VEB|ABR )|PUN le|DET:ART report|NOM du|PRP:det remboursement|NOM des|PRP:det échéances|NOM de|PRP la|DET:ART dette|NOM de|PRP l'|DET:ART ex-|ADV URSS|ABR ,|PUN dette|NOM qui|PRO:REL atteint|VER:pres environ|ADV 80|DET:ART milliards|NOM de|PRP dollars|NOM .|PUN \n",
      "Il|PRO:PER est|VER:pres encore|ADV trop|ADV tôt|ADV pour|PRP le|DET:ART dire|VER:infi ,|PUN la|DET:ART mesure|NOM ayant|VER:ppre été|VER:pper arrêtée|VER:pper le|DET:ART 16|ADJ octobre|NOM 1991|ADJ en|PRP conseil|NOM des|PRP:det ministres|NOM ,|PUN et|KON applicable|VER:pres immédiatement|ADV pour|PRP une|DET:ART période|NOM de|PRP sept|DET:ART mois|NOM et|KON demi|NOM .|PUN \n",
      "\"|PUN:cit Car|KON les|DET:ART potentialités|NOM de|PRP l'|DET:ART outil|NOM sont|VER:pres énormes|ADJ .|PUN \n",
      "Les|DET:ART chefs|NOM d'|PRP entreprise|NOM croyaient|VER:impf à|PRP dix|DET:ART ans|NOM d'|PRP expansion|NOM continue|VER:pres .|PUN \n",
      "Lire|VER:infi page|NOM 16|PRO:PER les|DET:ART articles|NOM d'|PRP ALAIN|NAM LEBAUBE|NAM \n",
      "Tout|PRO:IND n'|ADV augmente|VER:pres pas|ADV :|PUN les|DET:ART revalorisations|NOM sont|VER:pres traditionnelles|ADJ à|PRP la|DET:ART Sécurité|NOM sociale|ADJ ,|PUN mais|KON on|PRO:PER note|VER:pres des|PRP:det baisses|NOM pour|PRP certains|PRO:IND tarifs|NOM téléphoniques|ADJ .|PUN \n",
      "Un|DET:ART argument|NOM qui|PRO:REL a|VER:pres du|PRP:det mal|NOM à|PRP convaincre|VER:infi mais|KON qui|PRO:REL illustre|VER:pres à|PRP quel|PRO:REL point|NOM les|DET:ART facteurs|NOM psychologiques|ADJ sont|VER:pres jugés|VER:pper importants|ADJ pour|PRP le|DET:ART déclenchement|NOM de|PRP la|DET:ART reprise|NOM au|PRP:det cours|NOM de|PRP ces|DET:ART prochains|ADJ mois|NOM .|PUN \n",
      "Dans|PRP le|DET:ART hall|ADJ luxueux|ADJ de|PRP l'|DET:ART immeuble|NOM où|PRO:REL leur|PRO:PER direction|NOM s'|PRO:PER est|VER:pres installée|VER:pper il|PRO:PER y|PRO:PER a|VER:pres tout|ADV juste|ADV deux|DET:ART mois|NOM ,|PUN stars|NOM et|KON soutiens|NOM de|PRP la|DET:ART chaîne|NOM ,|PUN en|PRO:PER costume|NOM ou|KON en|PRP pull-over|NOM ,|PUN sont|VER:pres amers|ADJ et|KON calmes|ADJ .|PUN \n",
      "Le|DET:ART groupe|NOM papetier|ADJ et|KON agroalimentaire|ADJ Saint|NAM Louis|NAM a|VER:pres acquis|VER:pper ,|PUN vendredi|INT 3|ADJ janvier|NOM ,|PUN 13,8|DET:ART %|SYM du|PRP:det capital|NOM de|PRP source|NOM Perrier|NAM et|KON devient|VER:pres ainsi|ADJ l'|DET:ART un|NOM des|PRP:det actionnaires|NOM importants|ADJ de|PRP la|DET:ART firme|NOM de|PRP Vergèze|NAM .|PUN \n",
      "Il|PRO:PER en|PRO:PER coûtera|VER:futu entre|PRP 200|DET:ART et|KON 300|NUM francs|NOM .|PUN \n",
      "Comme|KON il|PRO:PER est|VER:pres fréquent|ADJ depuis|PRP une|DET:ART dizaine|NOM de|PRP mois|NOM ,|PUN le|DET:ART bilan|NOM de|PRP santé|NOM du|PRP:det marché|NOM ,|PUN établi|VER:pper à|PRP la|DET:ART fin|NOM du|PRP:det mois|NOM de|PRP décembre|NOM 1991|ADJ ,|PUN comporte|VER:pres à|PRP la|DET:ART fois|NOM des|PRP:det signes|NOM encourageants|ADJ et|KON des|PRP:det motifs|NOM de|PRP préoccupation|NOM .|PUN \n",
      "Le|DET:ART dépôt|NOM de|PRP bilan|NOM de|PRP la|DET:ART Cinq|NAM était|VER:impf inéluctable|ADJ depuis|PRP quelques|PRO:IND jours|NOM ,|PUN Hachette|NAM et|KON ses|DET:POS associés|NOM ayant|VER:ppre refusé|VER:pper d'|PRP assumer|VER:infi les|DET:ART pertes|NOM de|PRP la|DET:ART chaîne|NOM (|PUN 600|DET:POS millions|NOM prévus|VER:pper en|PRP 1992|PRO:PER ,|PUN après|PRP 1,12|DET:ART milliard|NOM cette|PRO:DEM année|NOM )|PUN .|PUN \n",
      "Mais|KON elle|PRO:DEM guette|VER:pres aussi|ADV les|DET:ART prochains|ADJ résultats|NOM de|PRP la|DET:ART balance|NOM commerciale|ADJ ,|PUN qui|PRO:REL pourraient|VER:cond commencer|VER:infi à|PRP refléter|VER:infi les|DET:ART premiers|NUM effets|NOM de|PRP l'|DET:ART impulsion|NOM donnée|VER:pper aux|PRP:det exportations|NOM par|PRP un|DET:ART dollar|NOM rendu|VER:pper très|ADV léger|ADJ par|PRP la|DET:ART chute|NOM des|PRP:det taux|NOM .|PUN \n",
      "Des|PRP:det spots|NOM dans|PRP les|DET:ART journaux|NOM télévisés|VER:pper \n",
      "\"|PUN:cit Il|PRO:PER s'|PRO:PER agit|VER:pres d'|PRP un|DET:ART reclasssement|NOM des|PRP:det actions|NOM d'|PRP autocontrôle|NOM de|PRP Perrier|NAM \"|PUN:cit ,|PUN réalisé|VER:pper en|PRP accord|NOM avec|PRP Exor|NAM et|KON Ominco|NAM (|PUN Société|NAM générale|ADJ )|PUN ,|PUN apprenait|VER:impf -on|PRO:PER ,|PUN lundi|INT 6|ADJ janvier|NOM ,|PUN auprès|PRP de|PRP la|DET:ART Société|NAM des|PRP:det Bourses|NOM françaises|ADJ (|PUN SBF|ABR )|PUN .|PUN \n",
      "Créant|VER:ppre une|DET:ART première|NUM surprise|NOM ,|PUN M.|ABR Charles|NAM Pasqua|NAM ,|PUN président|NOM (|PUN RPR|ABR )|PUN du|PRP:det conseil|NOM général|ADJ des|PRP:det Hauts-de-Seine|NOM ,|PUN indiquait|VER:impf mercredi|INT 15|ADJ janvier|NOM dans|PRP la|DET:ART matinée|NOM qu'|PRO:REL il|PRO:PER avait|VER:impf écrit|VER:pper aux|PRP:det présidents|NOM des|PRP:det conseils|NOM généraux|ADJ et|KON régionaux|ADJ et|KON aux|PRP:det maires|NOM des|PRP:det grandes|ADJ villes|NOM de|PRP France|NOM afin|ADV de|PRP créer|VER:infi une|DET:ART société|NOM d'|PRP économie|NOM mixte|ADJ (|PUN SEM|NOM )|PUN ,|PUN susceptible|ADJ de|PRP \"|PUN:cit s'|PRO:PER associer|VER:infi avec|PRP des|DET:ART partenaires|NOM publics|ADJ ou|KON privés|ADJ à|PRP un|DET:ART plan|NOM de|PRP reprise|NOM de|PRP la|DET:ART Cinq|NAM \"|PUN:cit (|PUN nos|DET:POS dernières|ADJ éditions|NOM du|PRP:det 16|ADJ janvier|NOM )|PUN .|PUN \n",
      "Selon|PRP les|DET:ART données|NOM publiées|VER:pper récemment|ADV par|PRP la|DET:ART Fédération|NOM des|PRP:det syndicats|NOM de|PRP travailleurs|NOM de|PRP l'|DET:ART industrie|NOM textile|ADJ ,|PUN la|DET:ART FETESE|NAM ,|PUN près|ADV de|PRP 50.000|DET:POS salariés|NOM de|PRP ce|PRO:DEM secteur|NOM ont|VER:pres perdu|VER:pper leur|DET:POS emploi|NOM l'|DET:ART an|NOM dernier|ADJ .|PUN \n",
      "Selon|PRP les|DET:ART statistiques|NOM publiées|VER:pper jeudi|INT 2|ADJ janvier|NOM par|PRP le|DET:ART département|NOM du|PRP:det commerce|NOM ,|PUN cette|PRO:DEM diminution|NOM est|VER:pres surtout|ADV le|DET:ART fait|NOM de|PRP l'|DET:ART immobilier|NOM non|ADV résidentiel|ADJ (|PUN les|DET:ART bureaux|NOM ,|PUN en|PRP particulier|NOM )|PUN ,|PUN tandis|KON que|KON les|DET:ART constructions|NOM de|PRP logement|NOM sont|VER:pres restées|VER:pper stables|ADJ (|PUN -|PUN 0,1|DET:ART %|SYM )|PUN .|PUN \n",
      "Le|DET:ART financement|NOM monétaire|ADJ ,|PUN usuel|ADJ chez|PRP les|DET:ART anglo-saxons|NOM ,|PUN n'|ADV est|VER:pres pas|ADV l'|DET:ART apanage|NOM des|PRP:det pays|NOM inflationnistes|ADJ :|PUN en|PRP Allemagne|NOM ,|PUN les|DET:ART crédits|NOM bancaires|ADJ à|PRP l'|DET:ART Etat|NOM atteignaient|VER:impf 30|DET:ART %|SYM de|PRP M3|NOM (|PUN agrégat|NOM monétaire|ADJ large|ADJ )|PUN avant|PRP l'|DET:ART unification|NOM monétaire|ADJ ,|PUN soit|VER:subp près|ADV du|PRP:det double|ADJ de|PRP ce|PRO:DEM qu'|PRO:REL ils|PRO:PER sont|VER:pres en|PRP France|NOM .|PUN \n",
      "Le|DET:ART minimum|NOM des|PRP:det pensions|NOM de|PRP reversion|NOM est|VER:pres fixé|VER:pper à|PRP 15.520|DET:ART francs|NOM par|PRP an|NOM au|PRP:det 1|ADJ janvier|NOM .|PUN \n",
      "Dans|PRP le|DET:ART pays|NOM de|PRP l'|DET:ART investisseur|NOM ,|PUN un|DET:ART emprunt|NOM normal|ADJ ,|PUN dépourvu|VER:pper de|PRP clause|NOM de|PRP conversion|NOM ,|PUN serait|VER:cond vraisemblablement|ADV moins|ADV intéressant|ADJ du|PRP:det fait|NOM de|PRP l'|DET:ART impôt|NOM qui|PRO:REL grèverait|VER:cond le|DET:ART revenu|NOM provenant|VER:ppre du|PRP:det gain|NOM en|PRP capital|NOM .|PUN \n",
      "De|PRP plus|ADV ,|PUN la|DET:ART loi|NOM limite|VER:pres à|PRP 25|DET:ART %|SYM les|DET:ART parts|NOM qu'|PRO:REL une|DET:ART même|ADJ entité|NOM peut|VER:pres détenir|VER:infi dans|PRP une|DET:ART télévision|NOM .|PUN \n",
      "Ces|DET:ART opérations|NOM sont|VER:pres visiblement|ADV destinées|VER:pper à|PRP des|PRP:det particuliers|NOM que|PRO:REL ne|ADV manqueront|VER:pres pas|ADV d'|PRP attirer|VER:infi la|DET:ART qualité|NOM des|PRP:det signatures|NOM ,|PUN la|DET:ART courte|ADJ durée|NOM des|PRP:det titres|NOM et|KON ,|PUN surtout|ADV en|PRP ce|PRO:DEM qui|PRO:REL concerne|VER:pres l'|DET:ART écu|NOM ,|PUN des|PRP:det rendements|NOM apparemment|ADV très|ADV élevés|ADJ .|PUN \n",
      "A|PRP la|DET:ART période|NOM d'|PRP équipement|NOM et|KON de|PRP décollage|NOM semble|VER:pres devoir|VER:infi succéder|VER:infi une|DET:ART phase|NOM de|PRP plus|ADV grande|ADJ maturité|NOM de|PRP la|DET:ART demande|NOM .|PUN \n",
      "De|PRP tous|ADV temps|NOM ,|PUN l'|DET:ART activité|NOM commerciale|ADJ a|VER:pres permis|VER:pper de|PRP lier|VER:infi entre|PRP elles|PRO:PER les|PRO:PER différentes|ADJ parties|NOM du|PRP:det monde|NOM qui|PRO:REL ne|ADV demandent|VER:pres qu'|ADV à|PRP se|PRO:PER rapprocher|VER:infi encore|ADV ,|PUN à|PRP échanger|VER:infi toujours|ADV plus|ADV .|PUN \n",
      "En|PRP fait|NOM ,|PUN compte|VER:pres tenu|VER:pper du|PRP:det prix|NOM auquel|PRO:REL les|PRO:PER obligations|NOM sont|VER:pres offertes|VER:pper ,|PUN les|DET:ART conditions|NOM sont|VER:pres sévères|ADJ ,|PUN trop|ADV certainement|ADV ,|PUN pour|PRP attirer|VER:infi des|DET:ART investisseurs|NOM institutionnels|ADJ .|PUN \n",
      "M.|ABR Charles|NAM Pasqua|NAM ,|PUN président|NOM (|PUN RPR|ABR )|PUN du|PRP:det conseil|NOM général|ADJ des|PRP:det Hauts-de-Seine|NOM ,|PUN a|VER:pres écrit|VER:pper ,|PUN mercredi|INT 15|ADJ janvier|NOM ,|PUN \"|PUN:cit à|PRP l'|DET:ART ensemble|NOM des|PRP:det présidents|NOM des|PRP:det conseils|NOM régionaux|ADJ et|KON généraux|ADJ et|KON aux|PRP:det maires|NOM de|PRP grandes|ADJ villes|NOM pour|PRP leur|PRO:PER proposer|VER:infi de|PRP créer|VER:infi ensemble|ADV une|DET:ART société|NOM d'|PRP économie|NOM mixte|ADJ \"|PUN:cit (|PUN SEM|NAM )|PUN susceptible|ADJ \"|PUN:cit de|PRP s'|PRO:PER associer|VER:infi avec|PRP des|DET:ART partenaires|NOM publics|ADJ ou|KON privés|ADJ à|PRP un|DET:ART plan|NOM de|PRP reprise|NOM de|PRP la|DET:ART Cinq|NAM \"|PUN:cit ,|PUN qui|PRO:REL deviendrait|VER:cond une|DET:ART \"|PUN:cit grande|ADJ chaîne|NOM nationale|ADJ et|KON régionale|ADJ \"|PUN:cit .|PUN \n",
      "Au|PRP:det lendemain|NOM de|PRP l'|DET:ART entrée|NOM de|PRP Saint|NAM Louis|NAM chez|PRP Perrier|NAM ,|PUN les|DET:ART interrogations|NOM sont|VER:pres multiples|ADJ .|PUN \n",
      "Par|PRP ailleurs|NOM ,|PUN le|DET:ART ministre|NOM délégué|ADJ au|PRP:det commerce|NOM ,|PUN à|PRP l'|DET:ART artisanat|NOM ,|PUN au|PRP:det commerce|NOM et|KON à|PRP la|DET:ART consommation|NOM ,|PUN M.|ABR François|NAM Doubin|NAM ,|PUN a|VER:pres assuré|VER:pper que|KON le|DET:ART projet|NOM de|PRP loi|NOM réformant|ADJ les|DET:ART règles|NOM d'|PRP ouverture|NOM dominicale|ADJ sera|VER:futu présenté|VER:pper \"|PUN:cit dans|PRP les|DET:ART prochaines|ADJ semaines|NOM \"|PUN:cit au|PRP:det conseil|NOM des|PRP:det ministres|NOM et|KON soumis|VER:pper au|PRP:det Parlement|NOM ,|PUN \"|PUN:cit dès|PRP la|DET:ART session|NOM de|PRP printemps|NOM \"|PUN:cit .|PUN \n",
      "En|PRP outre|NOM ,|PUN un|DET:ART comité|NOM de|PRP crise|NOM créé|VER:pper au|PRP:det sein|NOM de|PRP la|DET:ART rédaction|NOM va|VER:pres lancer|VER:infi une|DET:ART campagne|NOM visant|VER:ppre à|PRP inciter|VER:infi les|DET:ART annonceurs|NOM à|PRP continuer|VER:infi d'|PRP investir|VER:infi sur|PRP la|DET:ART Cinq|NAM .|PUN \n",
      "Oui|ADV ,|PUN en|PRP revanche|NOM ,|PUN dans|PRP le|DET:ART cadre|NOM du|PRP:det strict|ADJ respect|NOM de|PRP la|DET:ART loi|NOM ,|PUN le|PRO:PER CSA|NOM est|VER:pres prêt|ADJ à|PRP examiner|VER:infi tout|ADV projet|NOM de|PRP continuation|NOM de|PRP la|DET:ART chaîne|NOM qui|PRO:REL lui|PRO:PER serait|VER:cond soumis|VER:pper par|PRP l'|DET:ART administrateur|NOM judiciaire|ADJ .|PUN \n",
      "Ce|PRO:DEM qui|PRO:REL n'|ADV a|VER:pres pas|ADV empêché|VER:pper le|PRO:PER gouvernement|NOM de|PRP repousser|VER:infi sine|ADV die|NOM l'|DET:ART ouverture|NOM de|PRP négociations|NOM sur|PRP la|DET:ART mobilité|NOM ,|PUN de|PRP peur|NOM de|PRP s'|PRO:PER attirer|VER:infi certaines|PRO:IND foudres|NOM syndicales|ADJ .|PUN \n"
     ]
    },
    {
     "name": "stdout",
     "output_type": "stream",
     "text": [
      "L'|DET:ART administrateur|NOM judiciaire|ADJ nommé|VER:pper la|DET:ART semaine|NOM dernière|ADJ (|PUN le|DET:ART Monde|NOM daté|VER:pper 5|PRO:IND -|PUN 6|DET:ART janvier|NOM )|PUN ,|PUN Me|ABR Hubert|VER:pres Lafont|NAM ,|PUN a|VER:pres souligné|VER:pper aussitôt|KON que|KON le|DET:ART délai|NOM de|PRP trois|DET:ART mois|NOM qui|PRO:REL lui|PRO:PER avait|VER:impf été|VER:pper accordé|VER:pper pour|PRP élaborer|VER:infi des|DET:ART solutions|NOM de|PRP survie|NOM pour|PRP la|DET:ART chaîne|NOM \"|PUN:cit ne|ADV signifiait|VER:impf rien|PRO:IND :|PUN si|KON aucune|DET:ART solution|NOM n'|ADV est|VER:pres possible|ADJ ,|PUN ma|DET:POS mission|NOM durera|VER:futu trois|DET:ART semaines|NOM .|PUN \n",
      "Comment|ADV concilier|VER:infi la|DET:ART protection|NOM des|PRP:det investissements|NOM des|PRP:det constructeurs|NOM automobiles|ADJ dans|PRP des|DET:ART réseaux|NOM de|PRP distributeurs|NOM spécialisés|ADJ avec|PRP le|DET:ART droit|NOM du|PRP:det consommateur|NOM d'|PRP acheter|VER:infi des|DET:ART voitures|NOM dans|PRP toute|ADV la|DET:ART Communauté|NAM ?|PUN \n",
      "Continuation|NOM ou|KON liquidation|NOM ?|PUN \n",
      "Où|PRO:REL s'|PRO:PER arrête|VER:pres la|DET:ART série|NOM TV|ABR et|KON où|PRO:REL commence|VER:pres le|DET:ART dessin|NOM animé|VER:pper quand|KON Zorro|NAM et|KON Tarzan|NAM sévissent|VER:pres dans|PRP les|DET:ART deux|ADJ genres|NOM ?|PUN \n",
      "Concurrence|NOM sauvage|ADJ \n",
      "L'|DET:ART intersyndicale|NOM de|PRP la|DET:ART Cinq|NAM a|VER:pres déclaré|VER:pper dans|PRP la|DET:ART soirée|NOM du|PRP:det 15|ADJ janvier|NOM qu'|PRO:REL elle|PRO:DEM enregistrait|VER:impf \"|PUN:cit avec|PRP satisfaction|NOM \"|PUN:cit l'|DET:ART annonce|NOM du|PRP:det groupe|NOM Berlusconi|ADJ mais|KON qu'|KON elle|PRO:DEM \"|PUN:cit s'|PRO:PER interrogeait|VER:impf sur|PRP l'|DET:ART importance|NOM du|PRP:det nombre|NOM de|PRP salariés|NOM repris|VER:pper par|PRP le|DET:ART futur|NOM opérateur|NOM \"|PUN:cit .|PUN \n",
      "Encore|ADV faut|VER:pres -il|PRO:PER user|VER:infi de|PRP ce|PRO:DEM même|ADJ courage|NOM dans|PRP leur|DET:POS mise|NOM en|PRP oeuvre|NOM .|PUN \n",
      "\"|PUN:cit ni|KON l'|DET:ART un|NOM ni|KON l'|DET:ART autre|NOM ,|PUN un|DET:ART immense|ADJ enthousiasme|NOM au|PRP:det départ|NOM ,|PUN beaucoup|ADV d'|PRP amertume|NOM à|PRP l'|DET:ART arrivée|NOM \"|PUN:cit ,|PUN répond|VER:pres Yves|NAM Sabouret|NAM qui|PRO:REL aura|VER:futu au|PRP:det passage|NOM largement|ADV égratigné|VER:pper une|DET:ART classe|NOM politique|ADJ qui|PRO:REL n'|ADV a|VER:pres \"|PUN:cit à|PRP aucun|DET:ART moment|NOM compris|VER:pper les|DET:ART problèmes|NOM de|PRP l'|DET:ART audiovisuel|NOM \"|PUN:cit .|PUN \n",
      "Elle|PRO:DEM a|VER:pres pétillé|VER:pper dans|PRP le|DET:ART paysage|NOM audiovisuel|ADJ ,|PUN avec|PRP une|DET:ART équipe|NOM jeune|ADJ qui|PRO:REL secouait|VER:impf les|DET:ART habitudes|NOM ,|PUN quitte|VER:pres à|PRP ce|PRO:DEM que|PRO:REL ses|DET:POS programmes|NOM fassent|VER:pres parfois|ADV déborder|VER:infi la|DET:ART coupe|NOM en|PRP matière|NOM de|PRP violence|NOM ,|PUN de|PRP sexe|NOM ou|KON de|PRP chasse|NOM au|PRP:det scoop|NOM .|PUN \n",
      "En|PRP raison|NOM de|PRP la|DET:ART hausse|NOM des|PRP:det besoins|NOM d'|PRP investissement|NOM et|KON des|PRP:det coûts|NOM du|PRP:det travail|NOM ,|PUN elles|PRO:PER s'|PRO:PER endettent|VER:pres de|PRP plus|ADV en|PRO:PER plus|ADV .|PUN \n",
      "Il|PRO:PER écrivait|VER:impf en|PRP début|NOM de|PRP semaine|NOM :|PUN \"|PUN:cit Au|PRP:det vu|NOM des|PRP:det promesses|NOM faites|VER:pper aux|PRP:det salariés|NOM de|PRP la|DET:ART Cinq|NAM et|KON à|PRP leur|PRO:PER famille|NOM ,|PUN il|PRO:PER y|PRO:PER a|VER:pres un|DET:ART an|NOM ,|PUN et|KON du|PRP:det non-|ADV respect|NOM de|PRP ces|PRO:DEM engagements|NOM moraux|ADJ ,|PUN la|DET:ART CFTC|NOM Bourse|NAM estime|VER:pres qu'|KON une|DET:ART entreprise|NOM qui|PRO:REL a|VER:pres si|ADV peu|ADV de|PRP parole|NOM vis-à-vis|PRO:PER de|PRP ses|DET:POS proches|ADJ collaborateurs|NOM n'|ADV a|VER:pres aucune|ADV raison|NOM d'|PRP en|PRO:PER avoir|VER:infi plus|ADV vis-à-vis|PRP de|PRP ses|DET:POS actionnaires|NOM ...|PUN \"|PUN:cit \n",
      "Mais|KON ,|PUN dans|PRP le|DET:ART même|ADJ temps|NOM ,|PUN M.|ABR Franz|NAM Steinkühler|NAM ,|PUN le|DET:ART patron|NOM d'|PRP IG|NAM Metall|NAM national|ADJ ,|PUN recommandait|VER:impf aux|PRP:det syndicats|NOM régionaux|ADJ de|PRP ne|ADV pas|ADV réclamer|VER:infi des|DET:ART augmentations|NOM supérieures|ADJ à|PRP 9,5|DET:ART %|SYM .|PUN \n",
      "En|PRP réalité|NOM ,|PUN le|DET:ART risque|NOM lié|VER:pper au|PRP:det négoce|NOM international|ADJ est|VER:pres tout|ADV relatif|ADJ parce|KON qu'|KON il|PRO:PER s'|PRO:PER appuie|VER:pres sur|PRP une|DET:ART contrepartie|NOM ,|PUN la|DET:ART marchandise|NOM .|PUN \n",
      "Ainsi|ADV ,|PUN un|DET:ART ressortissant|NOM allemand|ADJ ou|KON une|DET:ART société|NOM grecque|ADJ pourront|VER:futu ,|PUN désormais|ADV ,|PUN posséder|VER:infi un|DET:ART navire|NOM battant|VER:ppre pavillon|NOM français|ADJ pourvu|VER:pper que|KON le|DET:ART bateau|NOM (|PUN de|PRP commerce|NOM ou|KON de|PRP pêche|NOM )|PUN soit|VER:subp exploité|VER:pper à|PRP partir|VER:infi d'|PRP un|DET:ART établissement|NOM situé|VER:pper en|PRP France|NOM .|PUN \n",
      "Obligeant|VER:ppre notamment|ADV les|DET:ART sociétés|NOM dites|VER:pper mandataires|ADJ à|PRP apparaître|VER:infi clairement|ADV comme|KON des|PRP:det \"|PUN:cit prestataires|NOM de|PRP services|NOM \"|PUN:cit et|KON non|ADV comme|KON des|PRP:det \"|PUN:cit revendeurs|NOM \"|PUN:cit ,|PUN le|DET:ART texte|NOM de|PRP la|DET:ART Commission|NOM vient|VER:pres clarifier|VER:infi l'|DET:ART application|NOM des|PRP:det anciens|ADJ textes|NOM de|PRP la|DET:ART CEE|ABR .|PUN \n",
      "Il|PRO:PER suit|VER:pres en|PRP cela|PRO:DEM l'|DET:ART exemple|NOM du|PRP:det numéro|NOM un|ADJ américain|NOM R.|ABR R.|ABR Donnelley|NAM and|KON sons|NOM ,|PUN qui|PRO:REL a|VER:pres ouvert|VER:pper au|PRP:det printemps|NOM sa|DET:POS première|NUM filiale|NOM mexicaine|ADJ non|ADV loin|ADV de|PRP la|DET:ART frontière|NOM du|PRP:det Texas|NAM .|PUN \n",
      "Dès|PRP le|DET:ART 9|ADJ août|NOM dernier|ADJ ,|PUN M.|ABR Pierre|NAM Jaans|NAM ,|PUN directeur|NOM de|PRP l'|DET:ART Institut|NAM monétaire|ADJ luxembourgeois|NOM (|PUN IML|ABR )|PUN ,|PUN autorité|NOM bancaire|ADJ centrale|ADJ du|PRP:det Grand-Duché|NOM ,|PUN avait|VER:impf menacé|VER:pper de|PRP demander|VER:infi à|PRP la|DET:ART Cour|NOM de|PRP Luxembourg|NOM de|PRP liquider|VER:infi la|DET:ART BCCI|ABR SA|ABR (|PUN Le|DET:ART Monde|NOM du|PRP:det 9|ADJ août|NOM 1991|ADJ )|PUN .|PUN \n",
      "La|DET:ART numérisation|NOM de|PRP l'|DET:ART image|NOM ne|ADV change|VER:pres pas|ADV seulement|ADV ses|DET:POS qualités|NOM de|PRP conservation|NOM ,|PUN de|PRP transport|NOM ou|KON de|PRP transformation|NOM .|PUN \n",
      "Là|PRO:DEM où|PRO:REL les|DET:ART enfants|NOM des|PRP:det années|NOM 60|ADJ devaient|VER:impf se|PRO:PER contenter|VER:infi ,|PUN en|PRP s'|PRO:PER en|PRO:PER délectant|VER:ppre ,|PUN d'|PRP un|DET:ART rendez-vous|NOM quotidien|NOM avec|PRP Nounours|NAM ,|PUN Nicolas|NAM et|KON Pimprenelle|NAM ,|PUN et|KON d'|PRP un|DET:ART programme|NOM spécial|ADJ le|PRO:PER jeudi|NOM après-midi|ADJ ,|PUN les|DET:ART \"|PUN:cit kids|NOM \"|PUN:cit des|PRP:det années|NOM 90|ADJ ont|VER:pres aujourd'hui|ADV grand|ADJ choix|NOM .|PUN \n",
      "\"|PUN:cit La|DET:ART relation|NOM de|PRP sujétion|NOM de|PRP l'|DET:ART homme|NOM à|PRP la|DET:ART machine|NOM s'|PRO:PER inverse|VER:pres \"|PUN:cit .|PUN \n",
      "Le|DET:ART CBI|NOM qui|PRO:REL ,|PUN il|PRO:PER y|PRO:PER a|VER:pres quelques|PRO:IND mois|NOM ,|PUN envisageait|VER:impf une|DET:ART croissance|NOM de|PRP l'|DET:ART économie|NOM de|PRP 1,7|PRO:PER %|SYM ,|PUN indique|VER:pres que|KON celle|PRO:DEM -ci|ADV ne|ADV dépassera|VER:futu pas|ADV 1|DET:ART %|SYM ,|PUN soit|KON une|DET:ART croissance|NOM de|PRP plus|ADV de|PRP moitié|NOM inférieure|ADJ aux|PRP:det estimations|NOM officielles|ADJ .|PUN \n",
      "Un|DET:ART vote|NOM positif|ADJ des|PRP:det personnels|NOM du|PRP:det journal|NOM sur|PRP ce|PRO:DEM plan|NOM de|PRP financement|NOM général|ADJ donnera|VER:futu à|PRP la|DET:ART direction|NOM de|PRP Libération|NAM le|DET:ART droit|NOM de|PRP présenter|VER:infi ses|DET:POS décisions|NOM au|PRP:det conseil|NOM d'|PRP administration|NOM .|PUN \n",
      "Les|DET:ART moyens|NOM à|PRP la|DET:ART disposition|NOM des|PRP:det opérateurs|NOM publics|ADJ concourant|VER:pper à|PRP la|DET:ART promotion|NOM des|PRP:det ventes|NOM françaises|ADJ au|PRP:det Japon|NOM augmenteront|VER:pres de|PRP plus|ADV de|PRP 40|DET:POS %|SYM dès|PRP 1992|PRO:PER ,|PUN une|DET:ART priorité|NOM qui|PRO:REL devrait|VER:cond être|VER:infi confirmée|VER:pper en|PRP 1993|PRO:PER et|KON 1994|PRO:PER .|PUN \n",
      "La|DET:ART financière|NOM Marland|NAM ,|PUN spécialisée|VER:pper à|PRP l'|DET:ART origine|NOM dans|PRP le|DET:ART commerce|NOM de|PRP gros|ADJ de|PRP la|DET:ART confiserie|NOM ,|PUN qui|PRO:REL deviendra|VER:futu le|DET:ART 2|ADJ janvier|NOM Marland|ADJ distribution|NAM SA|ABR ,|PUN a|VER:pres décidé|VER:pper de|PRP procéder|VER:infi le|DET:ART 17|ADJ janvier|NOM à|PRP une|DET:ART augmentation|NOM de|PRP capital|NOM de|PRP 150|DET:ART millions|NOM de|PRP francs|NOM .|PUN \n",
      "Deux|DET:ART facteurs-clés|NOM expliquent|VER:pres en|PRP partie|NOM ce|PRO:DEM changement|NOM .|PUN \n",
      "Ensemble|ADV ,|PUN ces|DET:ART partenaires|NOM détiennent|VER:pres 49,3|DET:ART %|SYM de|PRP Perrier|NAM ,|PUN ce|PRO:DEM qui|PRO:REL rend|VER:pres quasiment|ADV impossible|ADJ tout|ADV raid|NOM contre|PRP le|DET:ART numéro|NOM un|ADJ mondial|ADJ des|PRP:det eaux|NOM minérales|ADJ .|PUN \n",
      "Est|VER:pres -ce|PRO:DEM être|VER:infi nostalgique|ADJ que|KON de|PRP demander|VER:infi si|ADV alors|KON ,|PUN sans|PRP téléviseur|NOM et|KON sans|PRP salon|NOM ,|PUN ce|PRO:DEM sera|VER:futu toujours|ADV la|DET:ART télévision|NOM ?|PUN \n",
      "Bien|ADV que|KON les|DET:ART exportations|NOM globales|ADJ américaines|ADJ à|PRP destination|NOM du|PRP:det Japon|NOM aient|VER:subp doublé|VER:pper au|PRP:det cours|NOM des|PRP:det cinq|ADJ dernières|ADJ années|NOM pour|PRP atteindre|VER:infi 52,3|DET:ART milliards|NOM de|PRP dollars|NOM (|PUN 271|DET:ART milliards|NOM de|PRP francs|NOM )|PUN ,|PUN le|DET:ART déficit|NOM commercial|ADJ avec|PRP le|DET:ART Japon|NOM représentait|VER:impf 57|DET:ART %|SYM du|PRP:det déficit|NOM commercial|ADJ total|ADJ des|PRP:det Etats-Unis|NOM au|PRP:det cours|NOM du|PRP:det troisième|NUM trimestre|NOM 1991|ADJ .|PUN \n",
      "En|PRP tout|PRO:IND cas|NOM ,|PUN en|PRP France|NOM ,|PUN il|PRO:PER comblerait|VER:cond les|DET:ART voeux|NOM du|PRP:det président|NOM de|PRP la|DET:ART République|NOM et|KON serait|VER:cond le|DET:ART bienvenu|ADJ en|PRP mettant|VER:ppre un|DET:ART terme|NOM à|PRP la|DET:ART \"|PUN:cit langueur|NOM \"|PUN:cit .|PUN \n",
      "Fin|NOM novembre|NOM ,|PUN à|PRP Moscou|NAM ,|PUN les|DET:ART sept|DET:ART principaux|ADJ pays|NOM industrialisés|ADJ avaient|VER:impf accordé|VER:pper un|DET:ART report|NOM jusque|PRP fin|NOM 1992|DET:ART ,|PUN des|PRP:det échéances|NOM pour|PRP les|DET:ART emprunts|NOM contractés|VER:pper avant|PRP le|DET:ART début|NOM de|PRP janvier|NOM 1991|ADJ .|PUN \n",
      "Le|DET:ART rôle|NOM de|PRP la|DET:ART politique|NOM monétaire|ADJ est|VER:pres évident|ADJ pour|PRP tous|ADV ;|PUN celui|PRO:DEM de|PRP la|DET:ART politique|NOM budgétaire|ADJ semble|VER:pres l'|DET:ART être|VER:infi moins|ADV ,|PUN à|PRP en|PRO:PER juger|VER:infi par|PRP certaines|DET:ART propositions|NOM qui|PRO:REL peuvent|VER:pres aller|VER:infi à|PRP l'|PRO:PER encontre|NOM de|PRP l'|DET:ART objectif|NOM visé|VER:pper .|PUN \n"
     ]
    },
    {
     "name": "stdout",
     "output_type": "stream",
     "text": [
      "En|PRP Allemagne|NOM même|ADJ ,|PUN le|DET:ART rendement|NOM des|PRP:det emprunts|NOM d'|PRP Etat|NOM est|VER:pres revenu|VER:pper des|PRP:det 8,20|NUM %|SYM -|PUN 8,35|DET:ART %|SYM de|PRP ce|PRO:DEM dernier|ADJ mois|NOM à|PRP 8|DET:ART %|SYM et|KON moins|ADV :|PUN c'|PRO:DEM est|VER:pres à|PRP 8|DET:ART %|SYM qu'|PRO:REL ont|VER:pres été|VER:pper adjugés|VER:pper les|DET:ART 4,55|ADJ milliards|NOM de|PRP marks|NOM d'|PRP obligations|NOM du|PRP:det Fonds|NOM de|PRP l'|DET:ART unité|NOM ,|PUN s'|PRO:PER ajoutant|VER:ppre aux|PRP:det 3|ADJ milliards|NOM de|PRP marks|NOM du|PRP:det début|NOM de|PRP la|DET:ART semaine|NOM ,|PUN soit|KON ,|PUN au|PRP:det total|NOM ,|PUN l'|DET:ART équivalent|NOM de|PRP 28|DET:ART milliards|NOM de|PRP francs|NOM .|PUN \n",
      "Mais|KON ce|PRO:DEM géant|NOM social|ADJ est|VER:pres demeuré|VER:pper un|DET:ART \"|PUN:cit nain|NOM financier|ADJ \"|PUN:cit (|PUN 2|DET:ART )|PUN :|PUN le|DET:ART chiffre|NOM d'|PRP affaires|NOM cumulé|VER:pper de|PRP toutes|ADV les|DET:ART chaînes|NOM françaises|ADJ n'|ADV atteint|VER:pres pas|ADV 22|ADJ milliards|NOM de|PRP francs|NOM ,|PUN soit|KON moins|ADV que|KON celui|PRO:DEM des|PRP:det filiales|NOM françaises|ADJ de|PRP Fiat|NAM ou|KON Nestlé|NAM .|PUN \n",
      "Les|DET:ART syndicats|NOM protestent|VER:pres aussi|ADV contre|PRP le|DET:ART blocage|NOM ,|PUN \"|PUN:cit depuis|PRP deux|DET:ART ans|NOM \"|PUN:cit ,|PUN des|DET:ART revendications|NOM statutaires|ADJ de|PRP tous|ADV les|DET:ART corps|NOM du|PRP:det personnel|NOM et|KON réclament|VER:pres l'|DET:ART ouverture|NOM de|PRP négociations|NOM ainsi|ADJ que|KON la|DET:ART création|NOM de|PRP postes|NOM techniques|ADJ et|KON administratifs|ADJ .|PUN \n",
      "\"|PUN:cit Comment|ADV la|DET:ART clause|NOM exigeant|VER:ppre des|PRP:det constructeurs|NOM nippons|ADJ qu'|KON ils|PRO:PER ne|ADV concentrent|VER:pres pas|ADV leurs|DET:POS ventes|NOM [|PUN à|PRP partir|VER:infi du|PRP:det 1|ADJ janvier|NOM 1993|ADJ ]|PUN sur|PRP les|DET:ART marchés|NOM les|PRO:PER plus|ADV protégés|VER:pper -|PUN dont|PRO:REL précisément|ADV la|DET:ART France|NOM ,|PUN l'|DET:ART Italie|NOM et|KON l'|DET:ART Espagne|NOM ,|PUN -|PUN pourrait|VER:cond -elle|PRO:PER être|VER:infi efficace|ADJ si|KON l'|DET:ART activité|NOM des|PRP:det mandataires|NOM brouille|VER:pres les|DET:ART cartes|NOM de|PRP la|DET:ART destination|NOM initiale|ADJ des|PRP:det véhicules|NOM ?|PUN \"|PUN:cit ,|PUN s'|PRO:PER interroge|VER:pres -t-on|PRO:PER à|PRP Bruxelles|NAM .|PUN \n",
      "En|PRP France|NOM -|PUN où|PRO:REL la|DET:ART croissance|NOM demeure|VER:pres légèrement|ADV positive|ADJ ,|PUN -|PUN M.|ABR François|NAM Mitterrand|NAM a|VER:pres déclaré|VER:pper mardi|DET:ART 31|ADJ décembre|NOM qu'|PRO:REL \"|PUN:cit on|PRO:PER s'|PRO:PER est|VER:pres lassé|VER:pper d'|PRP attendre|VER:infi la|DET:ART reprise|NOM \"|PUN:cit .|PUN \n",
      "Pauvre|ADJ télévision|NOM !|PUN \n",
      "Une|DET:ART revalorisation|NOM de|PRP 1,8|DET:ART %|SYM est|VER:pres prévue|VER:pper le|DET:ART 1|ADJ juillet|NOM .|PUN \n",
      "Sauf|PRP accident|NOM ,|PUN M.|ABR Viannet|NAM succédera|VER:futu à|PRP M.|ABR Krasucki|NAM au|PRP:det poste|NOM de|PRP secrétaire|NOM général|ADJ .|PUN \n",
      "Paribas|NAM et|KON l'|DET:ART UAP|NOM ,|PUN tous|ADV deux|DET:ART actionnaires|NOM d'|PRP Hafnia|NAM ,|PUN pourraient|VER:cond être|VER:infi candidats|VER:pper à|PRP cette|PRO:DEM reprise|NOM .|PUN \n",
      "BUENOS-AIRES|ABR de|PRP notre|DET:POS correspondante|NOM .|PUN \n",
      "En|PRP cette|PRO:DEM période|NOM de|PRP fêtes|NOM ,|PUN les|DET:ART difficultés|NOM de|PRP l'|DET:ART économie|NOM étaient|VER:impf présentes|VER:pper dans|PRP les|DET:ART propos|NOM tenus|VER:pper par|PRP les|DET:ART responsables|NOM des|PRP:det principaux|ADJ pays|NOM industriels|ADJ à|PRP l'|DET:ART occasion|NOM de|PRP la|DET:ART nouvelle|ADJ année|NOM .|PUN \n",
      "L'|DET:ART échec|NOM est|VER:pres d'|PRP abord|NOM celui|PRO:DEM de|PRP Hachette|NAM :|PUN jamais|ADV remis|VER:pper de|PRP sa|DET:POS défaite|NOM face|VER:pres à|PRP Bouygues|NAM ,|PUN en|PRP 1987|PRO:PER ,|PUN pour|PRP la|DET:ART conquête|NOM de|PRP TF|ABR 1|PRO:PER ,|PUN le|DET:ART groupe|NOM n'|ADV a|VER:pres eu|VER:pper de|PRP cesse|NOM de|PRP mettre|VER:infi la|DET:ART main|NOM sur|PRP une|DET:ART télévision|NOM pour|PRP assouvir|VER:infi ses|DET:POS ambitions|NOM multimédiatiques|ADJ .|PUN \n",
      "A|PRP propos|NOM des|PRP:det conjoints|NOM (|PUN principale|ADJ préoccupation|NOM des|PRP:det agents|NOM concernés|VER:pper )|PUN ,|PUN le|DET:ART plan|NOM se|PRO:PER contente|VER:pres de|PRP préciser|VER:infi que|KON la|DET:ART condition|NOM de|PRP ceux|PRO:DEM qui|PRO:REL sont|VER:pres non|ADV fonctionnaires|VER:pper et|KON seront|VER:futu obligés|VER:pper de|PRP quitter|VER:infi leur|DET:POS emploi|NOM sera|VER:futu examinée|VER:pper par|PRP l'|DET:ART ANPE|NOM .|PUN \n",
      "Ce|PRO:DEM procès|NOM gagné|VER:pper donne|VER:pres au|PRP:det Crédit|NOM Lyonnais|ADJ les|DET:ART coudées|NOM franches|ADJ pour|PRP gérer|VER:infi MGM|NAM .|PUN \n",
      "La|DET:ART tentation|NOM est|VER:pres grande|ADJ de|PRP dire|VER:infi que|KON ces|DET:ART fluctuations|NOM nous|PRO:PER sont|VER:pres imposées|VER:pper de|PRP l'|DET:ART extérieur|NOM et|KON que|KON la|DET:ART politique|NOM économique|ADJ est|VER:pres impuissante|ADJ à|PRP les|DET:ART résorber|VER:infi .|PUN \n",
      "La|DET:ART consommation|NOM publique|ADJ s'|PRO:PER est|VER:pres elle|PRO:PER aussi|PRO:PER ralentie|VER:pres avec|PRP 1,2|DET:ART %|SYM de|PRP hausse|NOM en|PRP 1991|PRO:PER contre|PRP 2,1|DET:ART %|SYM en|PRP 1990|PRO:PER .|PUN \n",
      "Evidemment|ADV ,|PUN cette|PRO:DEM analyse|NOM en|PRP terme|NOM de|PRP \"|PUN:cit récupération|NOM \"|PUN:cit n'|ADV a|VER:pres qu'|ADV une|DET:ART valeur|NOM indicative|ADJ puisque|KON le|DET:ART mécanisme|NOM de|PRP la|DET:ART répartition|NOM implique|VER:pres que|KON les|DET:ART salariés|NOM ne|ADV cotisent|VER:pres pas|ADV pour|PRP eux|PRO:PER mais|KON pour|PRP les|DET:ART retraités|NOM du|PRP:det moment|NOM .|PUN \n",
      "Il|PRO:PER représente|VER:pres 2.184,79|DET:ART francs|NOM par|PRP mois|NOM pour|PRP une|DET:ART personne|NOM seule|ADJ .|PUN \n",
      "Un|DET:ART peu|NOM partout|ADJ ,|PUN on|PRO:PER n'|ADV hésite|VER:pres pas|ADV à|PRP placer|VER:infi dans|PRP le|DET:ART GATT|NOM les|PRO:PER chances|NOM d'|PRP une|DET:ART reprise|NOM rapide|ADJ .|PUN \n",
      "En|PRP 1994|PRO:PER ,|PUN les|DET:ART constructeurs|NOM japonais|ADJ devraient|VER:cond ainsi|PRO:PER importer|VER:infi pour|PRP 7,4|DET:ART milliards|NOM de|PRP dollars|NOM (|PUN 38|DET:ART milliards|NOM de|PRP francs|NOM )|PUN d'|PRP automobiles|NOM américaines|ADJ .|PUN \n",
      "Il|PRO:PER faut|VER:pres franchir|VER:infi le|DET:ART Rubicon|NAM de|PRP l'|DET:ART économie|NOM de|PRP marché|NOM .|PUN \n",
      "De|PRP cette|PRO:DEM relative|NOM liberté|NOM politique|ADJ et|KON technique|ADJ et|KON de|PRP ce|PRO:DEM lien|NOM accru|ADJ avec|PRP l'|DET:ART individu|NOM -|PUN client|NOM qu'|PRO:REL induit|VER:pres le|DET:ART péage|NOM ,|PUN que|PRO:REL va|VER:pres -t-il|PRO:PER surgir|VER:infi ?|PUN \n",
      "Selon|PRP le|DET:ART ministre|NOM ,|PUN le|DET:ART rapport|NOM de|PRP la|DET:ART mission|NOM dirigée|VER:pper par|PRP M.|ABR Robert|NAM Cottave|NAM (|PUN le|DET:ART Monde|NOM du|PRP:det 15|ADJ janvier|NOM )|PUN a|VER:pres permis|VER:pper de|PRP \"|PUN:cit renouveler|VER:infi le|DET:ART débat|NOM sur|PRP les|DET:ART problèmes|NOM de|PRP société|NOM \"|PUN:cit et|KON constitue|VER:pres un|DET:ART \"|PUN:cit processus|NOM de|PRP pédagogie|NOM politique|ADJ et|KON démocratique|ADJ \"|PUN:cit .|PUN \n",
      "\"|PUN:cit Sous-traités|VER:pper en|PRP Corée|NOM ou|KON colorés|ADJ dans|PRP de|PRP vastes|ADJ ateliers|NOM à|PRP la|DET:ART main-d'oeuvre|NOM peu|ADV qualifiée|VER:pper et|KON aux|PRP:det salaires|NOM très|ADV bas|ADJ ,|PUN les|DET:ART dessins|NOM animés|VER:pper japonais|ADJ utilisent|VER:pres un|DET:ART procédé|NOM limitant|VER:ppre le|DET:ART nombre|NOM d'|PRP images|NOM à|PRP cinq|DET:ART ou|KON sept|DET:ART par|PRP seconde|NUM au|PRP:det lieu|NOM de|PRP quinze|DET:ART à|PRP vingt|DET:ART .|PUN \n",
      "Total|NAM ,|PUN qui|PRO:REL a|VER:pres continué|VER:pper de|PRP bénéficier|VER:infi cette|PRO:DEM semaine|NOM de|PRP l'|DET:ART importance|NOM des|PRP:det ressources|NOM du|PRP:det gisement|NOM colombien|ADJ qu'|KON il|PRO:PER exploite|VER:pres en|PRP commun|NOM avec|PRP British|NAM Petroleum|NAM .|PUN \n",
      "A|PRP Antenne|NAM 2|PRP:det ?|PUN \n",
      "Bref|ADV ,|PUN le|DET:ART tribunal|NOM de|PRP commerce|NOM ne|ADV peut|VER:pres se|PRO:PER substituer|VER:infi au|PRP:det CSA|NOM pour|PRP autoriser|VER:infi le|DET:ART transfert|NOM de|PRP cette|PRO:DEM autorisation|NOM .|PUN \n",
      "Il|PRO:PER intervient|VER:pres alors|ADV que|KON des|DET:ART tensions|NOM de|PRP plus|ADV en|PRO:PER plus|ADV vives|ADJ apparaissent|VER:pres entre|PRP les|DET:ART deux|ADJ rives|NOM de|PRP l'|DET:ART Atlantique|NOM à|PRP propos|NOM de|PRP la|DET:ART manière|NOM de|PRP conclure|VER:infi l'|DET:ART Uruguay|NOM round|VER:pres .|PUN \n",
      "M.|ABR Lamont|NAM reconnaît|VER:pres que|KON la|DET:ART croissance|NOM est|VER:pres actuellement|ADV plus|ADV faible|ADJ que|PRO:REL ce|PRO:DEM qu'|PRO:REL il|PRO:PER prévoyait|VER:impf il|PRO:PER y|PRO:PER a|VER:pres un|DET:ART mois|NOM encore|ADJ ,|PUN mais|KON qu'|KON il|PRO:PER n'|ADV est|VER:pres pas|ADV pour|PRP autant|ADV nécessaire|ADJ d'|PRP adopter|VER:infi des|DET:ART mesures|NOM d'|PRP incitation|NOM budgétaire|ADJ .|PUN \n",
      "Ces|DET:ART quatre|ADJ firmes|NOM agissant|VER:ppre de|PRP concert|NOM devraient|VER:cond donc|ADV lancer|VER:infi une|DET:ART OPA|NOM sur|PRP la|DET:ART firme|NOM de|PRP Vergèze|NAM à|PRP moins|ADV qu'|PRO:REL elles|PRO:PER ne|ADV tentent|VER:pres d'|PRP obtenir|VER:infi une|DET:ART nouvelle|ADJ dérogation|NOM une|ADJ fois|NOM la|DET:ART situation|NOM clarifiée|VER:pper .|PUN \n",
      "Il|PRO:PER s'|PRO:PER agit|VER:pres ici|VER:pres d'|PRP un|DET:ART jour|NOM normal|ADJ de|PRP la|DET:ART semaine|NOM et|KON un|DET:ART inventaire|NOM scrupuleux|ADJ exigerait|VER:cond que|ADV l'|DET:ART on|PRO:PER prenne|VER:pres également|ADV en|PRP compte|VER:pres l'|DET:ART offre|NOM accrue|ADJ du|PRP:det mercredi|NOM (|PUN 6|PRP:det h|NOM 20|ADJ sur|PRP TF1|ABR ,|PUN 5|DET:ART h|NOM 30|ADJ sur|PRP FR3|NAM ,|PUN 4|DET:ART h|NOM 30|ADJ sur|PRP A2|ABR et|KON La|DET:ART 5|ADJ ...|PUN )|PUN ,|PUN du|PRP:det samedi|NOM et|KON du|PRP:det dimanche|NOM .|PUN \n",
      "Le|DET:ART président|NOM exécutif|ADJ du|PRP:det CDS|NOM a|VER:pres souhaité|VER:pper qu'|PRO:REL un|DET:ART débat|NOM sur|PRP l'|DET:ART audiovisuel|NOM ait|VER:subp lieu|VER:pper à|PRP l'|DET:ART occasion|NOM de|PRP la|DET:ART session|NOM extraordinaire|ADJ du|PRP:det Parlement|NOM le|PRO:PER 8|ADJ janvier|NOM .|PUN \n",
      "M.|ABR André|NAM Ramoff|NAM ,|PUN conseiller|NOM maître|ADJ à|PRP la|DET:ART cour|NOM des|PRP:det comptes|NOM ,|PUN sera|VER:futu chargé|VER:pper de|PRP suivre|VER:infi cette|PRO:DEM politique|NOM de|PRP décentralisation|NOM .|PUN \n",
      "In|PRP fine|NOM ,|PUN la|DET:ART dépense|NOM supplémentaire|ADJ liée|VER:pper à|PRP la|DET:ART rémunération|NOM des|PRP:det intérêts|NOM atteint|VER:pres 60|DET:ART millions|NOM de|PRP francs|NOM .|PUN \n",
      "VARSOVIE|NAM de|PRP notre|DET:POS envoyée|NOM spéciale|ADJ \n",
      "Tout|PRO:IND en|PRP déclarant|VER:ppre que|KON \"|PUN:cit le|DET:ART problème|NOM avec|PRP le|DET:ART libre|ADJ échange|NOM n'|ADV est|VER:pres pas|ADV que|ADV j'|PRO:PER achète|VER:pres aux|PRP:det autres|ADJ ,|PUN c'|PRO:DEM est|VER:pres qu'|KON ils|PRO:PER ne|ADV m'|PRO:PER achètent|VER:pres rien|PRO:IND \"|PUN:cit ,|PUN le|DET:ART président|NOM du|PRP:det troisième|NUM constructeur|NOM automobile|NOM américain|ADJ a|VER:pres estimé|VER:pper que|KON la|DET:ART firme|NOM devra|VER:futu passer|VER:infi des|DET:ART accords|NOM avec|PRP des|DET:ART constructeurs|NOM étrangers|ADJ pour|PRP rester|VER:infi dans|PRP la|DET:ART compétition|NOM internationale|ADJ .|PUN \n",
      "Inaugurant|VER:ppre le|DET:ART congrès|NOM ,|PUN le|DET:ART président|NOM russe|ADJ ,|PUN M.|ABR Boris|NAM Eltsine|NAM ,|PUN s'|PRO:PER est|VER:pres prononcé|VER:pper en|PRP faveur|NOM de|PRP la|DET:ART privatisation|NOM de|PRP 25|PRO:PER %|SYM de|PRP l'|DET:ART appareil|NOM d'|PRP Etat|NOM avant|PRP la|DET:ART fin|NOM de|PRP 1992|PRO:PER ,|PUN un|DET:ART pourcentage|NOM devant|PRP ,|PUN selon|PRP lui|PRO:PER ,|PUN monter|VER:infi jusqu'|PRP à|PRP 70|DET:ART %|SYM pour|PRP les|DET:ART entreprises|NOM du|PRP:det secteur|NOM des|PRP:det services|NOM .|PUN \n",
      "Un|DET:ART important|ADJ marché|NOM de|PRP consommateurs|NOM .|PUN \n",
      "\"|PUN:cit ce|PRO:DEM pourrait|VER:cond être|VER:infi très|ADV beau|ADJ soupire|NOM un|DET:ART journaliste|NOM .|PUN \n",
      "Pourtant|ADV ,|PUN globalement|ADV ,|PUN l'|DET:ART économie|NOM n'|ADV est|VER:pres pas|ADV apathique|ADJ .|PUN \n",
      "On|PRO:PER compte|VER:pres 25000|DET:ART agents|NOM commerciaux|ADJ en|PRP France|NOM :|PUN ce|PRO:DEM sont|VER:pres des|DET:ART mandataires|NOM qui|PRO:REL ,|PUN à|PRP titre|NOM de|PRP profession|NOM indépendante|ADJ ,|PUN sont|VER:pres chargés|VER:pper de|PRP façon|NOM permanente|ADJ de|PRP négocier|VER:infi pour|PRP le|DET:ART compte|NOM d'|PRP industriels|NOM ,|PUN de|PRP commerçants|NOM ou|KON de|PRP fabricants|NOM ,|PUN dénommés|VER:pper \"|PUN:cit mandants|PRO:PER \"|PUN:cit .|PUN \n",
      "Baisse|NOM des|PRP:det rendements|NOM \n",
      "Quant|ADV aux|PRP:det déclarations|NOM de|PRP son|DET:POS \"|PUN:cit associé|NOM \"|PUN:cit italien|ADJ ,|PUN le|DET:ART groupe|NOM Berlusconi|ADJ ,|PUN mettant|VER:ppre en|PRP cause|NOM la|DET:ART gestion|NOM Hachette|NAM ,|PUN le|DET:ART président|NOM failli|ADJ les|PRO:PER attribue|VER:pres à|PRP la|DET:ART plume|NOM d'|PRP un|DET:ART avocat|NOM .|PUN \n",
      "Un|DET:ART comité|NOM de|PRP défense|NOM de|PRP la|DET:ART Cinq|NAM ,|PUN formé|VER:pper par|PRP l'|DET:ART intersyndicale|NOM et|KON la|DET:ART société|NOM des|PRP:det journalistes|NOM ,|PUN a|VER:pres écrit|VER:pper au|PRP:det président|NOM de|PRP la|DET:ART République|NOM ,|PUN au|PRP:det premier|NUM ministre|NOM ,|PUN aux|PRP:det présidents|NOM du|PRP:det Sénat|NOM et|KON de|PRP l'|DET:ART Assemblée|NOM nationale|ADJ et|KON à|PRP différents|ADJ ministres|NOM pour|PRP leur|PRO:PER demander|VER:infi d'|PRP accorder|VER:infi des|DET:ART dérogations|NOM provisoires|ADJ à|PRP la|DET:ART chaîne|NOM ,|PUN sous|PRP le|DET:ART contrôle|NOM du|PRP:det Conseil|NOM supérieur|ADJ de|PRP l'|DET:ART audiovisuel|NOM ,|PUN afin|ADV de|PRP lui|PRO:PER permettre|VER:infi de|PRP survivre|VER:infi .|PUN \n",
      "Il|PRO:PER ne|ADV suffit|VER:pres pas|ADV de|PRP prendre|VER:infi des|PRP:det décisions|NOM courageuses|ADJ .|PUN \n",
      "Celui|PRO:DEM -ci|ADV a|VER:pres importé|VER:pper à|PRP tout|PRO:IND va|VER:pres pour|PRP les|DET:ART besoins|NOM de|PRP la|DET:ART réunification|NOM .|PUN \n",
      "En|PRP revanche|NOM ,|PUN il|PRO:PER doit|VER:pres communiquer|VER:infi à|PRP son|DET:POS mandant|NOM les|DET:ART informations|NOM utiles|ADJ à|PRP la|DET:ART réalisation|NOM du|PRP:det contrat|NOM .|PUN \n",
      "Un|DET:ART coût|NOM qui|PRO:REL pourrait|VER:cond être|VER:infi compensé|VER:pper soit|KON par|PRP des|DET:ART recettes|NOM nouvelles|ADJ ,|PUN soit|KON par|PRP une|DET:ART compression|NOM des|PRP:det dépenses|NOM ,|PUN sans|PRP doute|NOM à|PRP caractère|NOM militaire|ADJ .|PUN \n",
      "Elles|PRO:PER reprennent|VER:pres et|KON amplifient|VER:pres des|DET:ART programmes|NOM existants|ADJ ou|KON en|PRP cours|NOM d'|PRP adaptation|NOM ,|PUN avec|PRP le|DET:ART souci|NOM d'|PRP apporter|VER:infi un|DET:ART traitement|NOM plus|ADV personnalisé|VER:pper à|PRP des|PRP:det situations|NOM différentes|ADJ .|PUN \n",
      "Cet|PRO:DEM organisme|NOM ,|PUN chargé|VER:pper du|PRP:det fonctionnement|NOM des|PRP:det marchés|NOM ,|PUN attend|VER:pres donc|ADV prochainement|ADV une|DET:ART déclaration|NOM d'|PRP \"|PUN:cit action|NOM de|PRP concert|NOM \"|PUN:cit de|PRP la|DET:ART part|NOM d'|PRP Ominco|NAM ,|PUN Exor|NAM et|KON Saint|NAM Louis|NAM .|PUN \n",
      "La|DET:ART contrainte|NOM extérieure|ADJ ,|PUN n'|ADV a|VER:pres pas|ADV encore|ADV disparu|VER:pper ...|PUN \n",
      "Il|PRO:PER ne|ADV marque|VER:pres pas|ADV ,|PUN cependant|ADV ,|PUN la|DET:ART fin|NOM de|PRP ses|DET:POS soucis|NOM dans|PRP les|DET:ART médias|NOM :|PUN la|DET:ART banque|NOM est|VER:pres largement|ADV engagée|VER:pper auprès|PRP du|PRP:det groupe|NOM Maxwell|ADJ ,|PUN autre|ADJ \"|PUN:cit flibustier|NOM \"|PUN:cit du|PRP:det secteur|NOM .|PUN \n",
      "Cent|DET:ART quatre-vingt-quinze|NUM épisodes|NOM au|PRP:det total|NOM que|PRO:REL la|DET:ART chaîne|NOM comptait|VER:impf diffuser|VER:infi quotidiennement|ADV et|KON dont|PRO:REL elle|PRO:DEM décrivait|VER:impf minutieusement|ADV le|DET:ART caractère|NOM des|PRP:det personnages|NOM ,|PUN les|DET:ART conditions|NOM de|PRP tournage|NOM ,|PUN le|DET:ART nombre|NOM d'|PRP acteurs|NOM et|KON de|PRP figurants|NOM par|PRP épisode|NOM ...|PUN \n",
      "Cette|PRO:DEM filiale|NOM à|PRP 59,9|DET:ART %|SYM du|PRP:det Crédit|NOM Lyonnais|ADJ ,|PUN spécialisée|VER:pper dans|PRP les|DET:ART services|NOM bancaires|ADJ et|KON monétiques|ADJ et|KON l'|DET:ART ingénierie|NOM informatique|ADJ ,|PUN a|VER:pres annoncé|VER:pper jeudi|INT 2|ADJ janvier|NOM avoir|VER:infi acquis|VER:pper une|DET:ART participation|NOM de|PRP 51|DET:ART %|SYM dans|PRP la|DET:ART société|NOM de|PRP services|NOM informatiques|ADJ londonienne|ADJ Nexus|NAM Payment|NAM .|PUN \n",
      "Vendredi|INT ,|PUN M.|ABR Patrick|NAM Zelnick|NAM ,|PUN PDG|NOM de|PRP Virgin|NAM France|NAM ,|PUN qui|PRO:REL a|VER:pres engagé|VER:pper des|PRP:det discussions|NOM avec|PRP le|DET:ART ministère|NOM du|PRP:det travail|NOM ,|PUN a|VER:pres été|VER:pper reçu|VER:pper par|PRP M.|ABR François|NAM Doubin|NAM ,|PUN ministre|NOM du|PRP:det commerce|NOM et|KON de|PRP l'|DET:ART artisanat|NOM ,|PUN qui|PRO:REL lui|PRO:PER aurait|VER:pres signifié|VER:pper que|KON \"|PUN:cit le|DET:ART gouvernement|NOM était|VER:impf déterminé|VER:pper à|PRP faire|VER:infi sanctionner|VER:infi les|DET:ART violations|NOM délibérées|ADJ de|PRP la|DET:ART loi|NOM \"|PUN:cit .|PUN \n"
     ]
    },
    {
     "name": "stdout",
     "output_type": "stream",
     "text": [
      "Dans|PRP le|DET:ART cadre|NOM de|PRP son|DET:POS programme|NOM de|PRP soutien|NOM à|PRP l'|DET:ART automobile|NOM américaine|ADJ ,|PUN Toyota|NAM entend|VER:pres en|PRP outre|ADJ multiplier|VER:infi par|PRP quatre|DET:ART ,|PUN au|PRP:det cours|NOM des|PRP:det deux|ADJ prochaines|ADJ années|NOM ,|PUN ses|DET:POS achats|NOM de|PRP pièces|NOM détachées|VER:pper automobiles|NOM de|PRP General|NAM Motors|NAM (|PUN qui|PRO:REL atteindront|VER:futu 6,3|DET:ART milliards|NOM de|PRP dollars|NOM )|PUN .|PUN \n",
      "La|DET:ART 6|ADJ (|PUN qui|PRO:REL ne|ADV dispose|VER:pres pas|ADV officiellement|ADV d'|PRP unité|NOM \"|PUN:cit jeunesse|VER:pres \"|PUN:cit )|PUN est|VER:pres bien|ADV la|DET:ART seule|ADJ d'|PRP ailleurs|NOM à|PRP ne|ADV pas|ADV les|PRO:PER laisser|VER:infi dépourvus|VER:pper quand|KON midi|VER:pres est|VER:pres venu|VER:pper :|PUN \"|PUN:cit Ma|DET:POS sorcière|NOM bien|ADV aimée|VER:pper (|PUN 12|DET:ART h|NOM 30|ADJ )|PUN rappelle|VER:pres quelques|PRO:IND souvenirs|NOM à|PRP leurs|DET:POS parents|NOM tandis|KON que|KON le|DET:ART \"|PUN:cit Cosby|NAM show|INT \"|PUN:cit (|PUN 13|DET:ART heures|NOM )|PUN ,|PUN en|PRP rediffusion|NOM ,|PUN provoque|VER:pres le|DET:ART même|ADJ tabac|NOM .|PUN \n",
      "La|DET:ART nouvelle|ADJ diminution|NOM du|PRP:det taux|NOM d'|PRP escompte|NOM de|PRP la|DET:ART Banque|NOM du|PRP:det Japon|NOM n'|ADV a|VER:pres nullement|ADV déprimé|VER:pper la|DET:ART monnaie|NOM japonaise|ADJ ,|PUN au|PRP:det contraire|NOM .|PUN \n",
      "À|PRP la|DET:ART veille|NOM des|PRP:det déclarations|NOM de|PRP M.|ABR Lamont|NAM ,|PUN la|DET:ART société|NOM d'|PRP informations|NOM financières|ADJ Dun|NAM and|KON Bradstreet|NAM a|VER:pres fait|VER:pper savoir|VER:infi que|KON le|DET:ART nombre|NOM de|PRP faillites|NOM d'|PRP entreprises|NOM britanniques|ADJ avait|VER:impf augmenté|VER:pper de|PRP 65|PRO:PER %|SYM en|PRP 1991|PRO:PER ,|PUN atteignant|VER:ppre 47.800|DET:ART ,|PUN montant|NOM le|DET:ART plus|ADV élevé|VER:pper enregistré|VER:pper depuis|PRP 1980|PRO:PER ,|PUN année|NOM de|PRP mise|NOM en|PRP place|NOM de|PRP cet|PRO:DEM indicateur|NOM .|PUN \n",
      "Le|DET:ART groupe|NOM Hachette|NAM a|VER:pres vendu|VER:pper à|PRP la|DET:ART société|NOM imprimeries|ADJ Québecor|NAM de|PRP Montréal|NAM (|PUN Canada|NOM )|PUN l'|DET:ART imprimerie|NOM Graficas|ADV Monte|NAM Alban|NAM qu'|PRO:REL il|PRO:PER possédait|VER:impf au|PRP:det Mexique|NOM .|PUN \n",
      "Née|VER:pper et|KON noyée|VER:pper dans|PRP le|DET:ART champagne|NOM ...|PUN \n",
      "L'|DET:ART attention|NOM des|PRP:det spécialistes|NOM se|PRO:PER porte|VER:pres pour|PRP l'|DET:ART instant|NOM encore|ADV sur|PRP les|DET:ART emprunts|NOM privés|ADJ ou|KON \"|PUN:cit réservés|VER:pper \"|PUN:cit ,|PUN comme|KON on|PRO:PER les|PRO:PER désigne|VER:pres dans|PRP les|DET:ART documents|NOM officiels|ADJ .|PUN \n",
      "Cela|PRO:DEM n'|ADV aurait|VER:cond pu|VER:pper se|PRO:PER faire|VER:infi qu'|ADV au|PRP:det prix|NOM de|PRP la|DET:ART refonte|NOM d'|PRP autres|ADJ services|NOM ,|PUN ce|PRO:DEM qui|PRO:REL risquait|VER:impf de|PRP désorganiser|VER:infi totalement|ADV la|DET:ART chaîne|NOM .|PUN \n",
      "D'|PRP autre|ADJ part|NOM ,|PUN les|DET:ART progrès|NOM technologiques|ADJ (|PUN transports|NOM et|KON télécommunications|NOM )|PUN ouvrent|VER:pres de|PRP nouvelles|ADJ possibilités|NOM pour|PRP un|DET:ART fonctionnement|NOM décentralisé|VER:pper des|PRP:det entreprises|NOM et|KON des|PRP:det pouvoirs|NOM publics|ADJ .|PUN \n",
      "Dans|PRP la|DET:ART situation|NOM présente|VER:pres ,|PUN les|DET:ART taux|NOM d'|PRP intérêt|NOM réels|ADJ élevés|VER:pper handicapent|VER:pres doublement|ADV la|DET:ART reprise|NOM :|PUN ils|PRO:PER entravent|VER:pres l'|DET:ART assainissement|NOM des|PRP:det comptes|NOM des|PRP:det entreprises|NOM ,|PUN à|PRP cause|NOM des|PRP:det charges|NOM financières|ADJ ,|PUN et|KON de|PRP ceux|PRO:DEM des|PRP:det banques|NOM par|PRP l'|DET:ART inversion|NOM des|PRP:det taux|NOM ;|PUN ils|PRO:PER réduisent|VER:pres abusivement|ADV le|DET:ART crédit|NOM et|KON la|DET:ART liquidité|NOM .|PUN \n",
      "L'|DET:ART inventaire|NOM que|PRO:REL dresse|VER:pres Jean-Pierre|NAM Dumont|NAM est|VER:pres impressionnant|ADJ :|PUN depuis|PRP dix|DET:ART ans|NOM ,|PUN la|DET:ART quasi-|ADV totalité|NOM de|PRP nos|DET:POS partenaires|NOM se|PRO:PER sont|VER:pres lancés|VER:pper dans|PRP des|DET:ART politiques|NOM de|PRP ralentissement|NOM de|PRP leurs|DET:POS budgets|NOM d'|PRP assurance-maladie|NOM et|KON se|PRO:PER sont|VER:pres efforcés|VER:pper de|PRP programmer|VER:infi une|DET:ART remise|NOM à|PRP niveau|NOM de|PRP leurs|DET:POS mécanismes|NOM de|PRP retraite|NOM en|PRP fonction|NOM des|PRP:det évolutions|NOM démographiques|ADJ .|PUN \n",
      "Il|PRO:PER ne|ADV fait|VER:pres aucun|PRO:IND doute|VER:pres que|ADV ,|PUN les|DET:ART élections|NOM approchant|VER:ppre ,|PUN les|DET:ART propos|NOM optimistes|ADJ se|PRO:PER feront|VER:futu de|PRP plus|ADV en|PRO:PER plus|ADV nombreux|ADJ de|PRP la|DET:ART part|NOM d'|PRP une|DET:ART administration|NOM à|PRP la|DET:ART recherche|NOM d'|PRP un|DET:ART nouveau|ADJ mandat|NOM .|PUN \n",
      "Le|DET:ART financement|NOM monétaire|ADJ de|PRP la|DET:ART part|NOM automatique|ADJ du|PRP:det déficit|NOM serait|VER:cond par|PRP définition|NOM une|DET:ART mesure|NOM temporaire|ADJ ;|PUN car|KON ,|PUN en|PRP phase|NOM de|PRP haute|ADJ conjoncture|NOM ,|PUN l'|DET:ART Etat|NOM devrait|VER:cond utiliser|VER:infi son|DET:POS excédent|NOM pour|PRP rembourser|VER:infi les|DET:ART prêts|NOM et|KON contribuer|VER:infi à|PRP prévenir|VER:infi la|DET:ART surchauffe|NOM en|PRP réduisant|VER:ppre la|DET:ART liquidité|NOM .|PUN \n",
      "Ce|PRO:DEM véritable|ADJ inventaire|NOM à|PRP la|DET:ART Prévert|NAM pour|PRP le|DET:ART béotien|NOM fit|VER:impf scandale|ADJ auprès|PRP d'|PRP auteurs|NOM prompts|ADJ à|PRP dénoncer|VER:infi l'|DET:ART intolérable|NOM atteinte|NOM à|PRP leur|DET:POS liberté|NOM de|PRP création|NOM .|PUN \n"
     ]
    }
   ],
   "source": [
    "print_tagged(X_dev, model, word_to_index, index_to_pos2, maxLen)"
   ]
  },
  {
   "cell_type": "code",
   "execution_count": null,
   "metadata": {},
   "outputs": [],
   "source": [
    "print_tagged(X_dev[1:5], supermodel, word_to_index, index_to_super, maxLen)"
   ]
  },
  {
   "cell_type": "code",
   "execution_count": 59,
   "metadata": {},
   "outputs": [
    {
     "name": "stdout",
     "output_type": "stream",
     "text": [
      "En|2|dr(0,dr(0,s,s),np)|0.259765|dr(0,dr(0,s,s),n)|0.671566 un|1|dr(0,np,n)|0.915497 an|1|n|0.999245 (|3|dr(0,dl(0,np,np),np)|0.0912289|dr(0,dl(0,n,n),n)|0.197649|let|0.621854 décembre|1|n|0.999471 1991|1|dl(0,n,n)|0.994922 comparé|1|dr(0,dl(0,n,n),pp_a)|0.836407 à|1|dr(0,pp_a,np)|0.982554 décembre|1|n|0.996595 1990|1|dl(0,n,n)|0.983148 )|1|let|0.985655 ,|1|let|0.918759 la|1|dr(0,np,n)|0.99396 hausse|1|n|0.999978 des|1|dr(0,dl(0,n,n),n)|0.976999 prix|1|n|0.999981 de|2|dr(0,dl(0,n,n),n)|0.0903013|dr(0,dl(0,n,n),np)|0.873184 détail|1|n|0.999734 est|6|dr(0,dl(0,np,s),dl(0,np,s_ppart))|0.217642|dr(0,dl(0,np,s),dl(0,np,s_inf))|0.0629479|dr(0,dl(0,np,s),dl(0,n,n))|0.366272|dr(0,dl(0,np,s),dl(0,np,s_pass))|0.102817|dr(0,dl(0,np,s),pp)|0.046258|dr(0,dl(0,np,s),np)|0.165869 de|1|dr(0,dl(0,np,s_inf),dl(0,np,s_inf))|0.909677 3,1|1|dr(0,np,n)|0.992401 %|1|n|0.999559 .|1|dl(0,s,txt)|0.992957 \n",
      "Le|1|dr(0,np,n)|0.987906 repli|1|n|0.999915 du|1|dr(0,dl(0,n,n),n)|0.993707 mark|1|n|0.987322 a|1|dr(0,dl(0,np,s),dl(0,np,s_ppart))|0.988613 ,|1|let|0.975334 très|3|dr(0,dl(1,s,s),dl(1,s,s))|0.311037|dr(0,dl(0,np,s),dl(0,np,s))|0.493392|dr(0,dl(0,n,n),dl(0,n,n))|0.0791716 logiquement|2|dl(1,s,s)|0.585828|dr(0,dl(0,np,s),dl(0,np,s))|0.372496 ,|1|let|0.975715 été|1|dr(0,dl(0,np,s_ppart),dl(0,np,s_pass))|0.916486 profitable|1|dl(0,n,n)|0.937381 pour|4|dr(0,dl(0,dl(0,np,s),dl(0,np,s)),dl(0,np,s_inf))|0.076176|dr(0,dl(0,np,s_inf),dl(0,np,s_inf))|0.607346|dr(0,dl(0,n,n),dl(0,np,s_inf))|0.12584|dr(0,dl(1,s,s),dl(0,np,s_inf))|0.0607539 les|1|dr(0,np,n)|0.998366 autres|1|dr(0,n,n)|0.955963 monnaies|1|n|0.999622 du|1|dr(0,dl(0,n,n),n)|0.90883 système|1|n|0.999981 monétaire|1|dl(0,n,n)|0.999791 européen|1|dl(0,n,n)|0.997635 ,|1|let|0.943857 surtout|8|dr(0,dl(1,s,s),dl(1,s,s))|0.216906|dr(0,dl(0,s,s),dl(0,s,s))|0.0285346|dr(0,s,s)|0.0276319|dl(1,s,s)|0.144109|dr(0,pp,pp)|0.0258626|dr(0,dl(0,np,s),dl(0,np,s))|0.107311|dr(0,dl(0,n,n),dl(0,n,n))|0.231176|dr(0,np,np)|0.0568978 le|1|dr(0,np,n)|0.959968 franc|1|n|0.974513 français|1|dl(0,n,n)|0.994561 ,|2|dr(0,dl(0,np,np),np)|0.0823038|let|0.822671 le|1|dr(0,np,n)|0.977449 cours|1|n|0.999889 de|2|dr(0,dl(0,n,n),n)|0.105706|dr(0,dl(0,n,n),np)|0.881206 la|1|dr(0,np,n)|0.998667 devise|1|n|0.999697 allemande|1|dl(0,n,n)|0.999944 revenant|6|dr(0,dl(0,np,s_ppres),dl(0,np,s_inf))|0.0993629|dr(0,dl(0,n,n),pp)|0.0459927|dr(0,dl(0,n,n),dl(0,np,s_inf))|0.0423145|dl(0,n,n)|0.228335|dr(0,dl(0,n,n),pp_de)|0.0393157|dr(0,dl(0,n,n),np)|0.38001 ,|1|let|0.909917 à|3|dr(0,dl(1,s,s),np)|0.148508|dr(0,dl(0,np,s_inf),dl(0,np,s_inf))|0.598177|dr(0,pp_a,np)|0.100512 Paris|1|np|0.999659 ,|1|let|0.866257 à|3|dr(0,dl(1,s,s),np)|0.19432|dr(0,dl(0,np,s_inf),dl(0,np,s_inf))|0.500067|dr(0,pp_a,np)|0.138708 son|1|dr(0,np,n)|0.999605 cours|1|n|0.999602 d'|2|dr(0,dl(0,n,n),n)|0.706213|dr(0,dl(0,n,n),np)|0.164558 il|1|np|0.996185 y|2|dr(0,dl(0,np,s),dr(0,dl(0,np,s),dia(1,box(1,pp_a))))|0.0930027|cl_y|0.841835 a|4|dr(0,dl(0,cl_y,dl(0,np,dl(1,dl(0,n,n),dl(0,n,n)))),np)|0.0667568|dr(0,dl(0,cl_y,dl(0,np,s)),np)|0.164814|dr(0,dl(0,cl_y,dl(0,np,dl(1,s,s))),np)|0.53344|dr(0,dl(0,cl_y,dl(0,np,s)),dl(0,np,s_inf))|0.0989274 neuf|2|np|0.637612|dr(0,np,n)|0.333049 semaines|1|n|0.998206 :|3|dr(0,dl(0,s,s),s)|0.563984|dr(0,s_q,s)|0.169159|dr(0,dl(0,s,s),np)|0.1934 3,4130|1|dr(0,np,n)|0.981779 F|1|n|0.996148 ,|2|dr(0,dl(0,np,np),np)|0.0982429|let|0.76834 ce|2|np|0.489063|dr(0,np,n)|0.497624 qui|1|dr(0,dl(0,np,np),dl(0,np,s))|0.983854 soulage|1|dr(0,dl(0,np,s),np)|0.876548 nettement|2|dl(1,s,s)|0.713291|dr(0,dl(0,np,s),dl(0,np,s))|0.184588 la|1|dr(0,np,n)|0.997997 banque|1|n|0.999975 de|3|dr(0,dl(0,n,n),n)|0.250263|dr(0,dl(0,n,n),dl(0,np,s_inf))|0.0920372|dr(0,dl(0,n,n),np)|0.608029 France|1|n|0.997464 .|1|dl(0,s,txt)|0.988379 \n"
     ]
    }
   ],
   "source": [
    "print_tagged_beta(X_dev[1:4], superposmodel, 0.1, word_to_index, index_to_super, maxLen)"
   ]
  },
  {
   "cell_type": "code",
   "execution_count": null,
   "metadata": {},
   "outputs": [],
   "source": [
    "eval_beta(X_dev, Y_super_dev, supermodel, word_to_index, super_to_index, index_to_super, 0.01)"
   ]
  },
  {
   "cell_type": "code",
   "execution_count": null,
   "metadata": {},
   "outputs": [],
   "source": []
  },
  {
   "cell_type": "markdown",
   "metadata": {},
   "source": [
    "## Combined part-of-speech and supertagger"
   ]
  },
  {
   "cell_type": "code",
   "execution_count": 43,
   "metadata": {
    "collapsed": true
   },
   "outputs": [],
   "source": [
    "# Super_model\n",
    "# this is a direct supertag model not using the part-of-speech tags\n",
    "\n",
    "def Super_pos_model(input_shape, pos_model, word_to_vec_map, word_to_index):\n",
    "    \"\"\"\n",
    "    Function creating the Emojify-v2 model's graph.\n",
    "    \n",
    "    Arguments:\n",
    "    input_shape -- shape of the input, usually (max_len,)\n",
    "    word_to_vec_map -- dictionary mapping every word in a vocabulary into its 50-dimensional vector representation\n",
    "    word_to_index -- dictionary mapping from words to their indices in the vocabulary (400,001 words)\n",
    "\n",
    "    Returns:\n",
    "    model -- a model instance in Keras\n",
    "    \"\"\"\n",
    "    \n",
    "    # Define sentence_indices as the input of the graph, it should be of shape input_shape and dtype 'int32' (as it contains indices).\n",
    "    sentence_indices = Input(shape = input_shape, dtype = 'int32')\n",
    "    \n",
    "    # Create the embedding layer pretrained with GloVe Vectors (≈1 line)\n",
    "    embedding_layer = pretrained_embedding_layer(word_to_vec_map, word_to_index)\n",
    "    \n",
    "    # Propagate sentence_indices through your embedding layer, you get back the embeddings\n",
    "    embeddings = embedding_layer(sentence_indices)\n",
    "    \n",
    "    # get probability distribution over parts_of_speech from pos_model\n",
    "    parts_of_speech = pos_model(sentence_indices)\n",
    "    \n",
    "    # concatenate with the embeddings\n",
    "    merged = concatenate([parts_of_speech,embeddings])\n",
    "    \n",
    "    # Propagate the embeddings through an LSTM layer with 128-dimensional hidden state\n",
    "    # returning a batch of sequences.\n",
    "    X = LSTM(128, return_sequences=True)(merged) \n",
    "    X = BatchNormalization()(X)\n",
    "    X = Dropout(0.5)(X)\n",
    "    \n",
    "    # Add a (time distributed) Dense layer followed by a softmax activation\n",
    "    X = TimeDistributed(Dense(numSuperClasses, activation='softmax'))(X)\n",
    "    \n",
    "    # Create Model instance which converts sentence_indices into X.\n",
    "    model = Model(inputs=sentence_indices,outputs=X)\n",
    "        \n",
    "    return model"
   ]
  },
  {
   "cell_type": "code",
   "execution_count": 44,
   "metadata": {},
   "outputs": [
    {
     "name": "stdout",
     "output_type": "stream",
     "text": [
      "__________________________________________________________________________________________________\n",
      "Layer (type)                    Output Shape         Param #     Connected to                     \n",
      "==================================================================================================\n",
      "input_2 (InputLayer)            (None, 119)          0                                            \n",
      "__________________________________________________________________________________________________\n",
      "model_1 (Model)                 (None, 119, 31)      5561899     input_2[0][0]                    \n",
      "__________________________________________________________________________________________________\n",
      "embedding_3 (Embedding)         (None, 119, 521)     5224588     input_2[0][0]                    \n",
      "__________________________________________________________________________________________________\n",
      "concatenate_1 (Concatenate)     (None, 119, 552)     0           model_1[1][0]                    \n",
      "                                                                 embedding_3[0][0]                \n",
      "__________________________________________________________________________________________________\n",
      "lstm_2 (LSTM)                   (None, 119, 128)     348672      concatenate_1[0][0]              \n",
      "__________________________________________________________________________________________________\n",
      "batch_normalization_2 (BatchNor (None, 119, 128)     512         lstm_2[0][0]                     \n",
      "__________________________________________________________________________________________________\n",
      "dropout_2 (Dropout)             (None, 119, 128)     0           batch_normalization_2[0][0]      \n",
      "__________________________________________________________________________________________________\n",
      "time_distributed_2 (TimeDistrib (None, 119, 518)     66822       dropout_2[0][0]                  \n",
      "==================================================================================================\n",
      "Total params: 11,202,493\n",
      "Trainable params: 752,805\n",
      "Non-trainable params: 10,449,688\n",
      "__________________________________________________________________________________________________\n"
     ]
    }
   ],
   "source": [
    "superposmodel = Super_pos_model((maxLen,), model, word_to_vec_map, word_to_index)\n",
    "superposmodel.summary()"
   ]
  },
  {
   "cell_type": "code",
   "execution_count": 45,
   "metadata": {
    "collapsed": true
   },
   "outputs": [],
   "source": [
    "superposmodel.compile(loss='categorical_crossentropy', optimizer='adam', metrics=['accuracy'])"
   ]
  },
  {
   "cell_type": "code",
   "execution_count": 50,
   "metadata": {},
   "outputs": [
    {
     "name": "stdout",
     "output_type": "stream",
     "text": [
      "Train on 1195 samples, validate on 399 samples\n",
      "Epoch 1/20\n",
      "1195/1195 [==============================] - 33s 28ms/step - loss: 3.7801 - acc: 0.3415 - val_loss: 1.9954 - val_acc: 0.6180\n",
      "Epoch 2/20\n",
      "1195/1195 [==============================] - 31s 26ms/step - loss: 1.8326 - acc: 0.6440 - val_loss: 1.3539 - val_acc: 0.7144\n",
      "Epoch 3/20\n",
      "1195/1195 [==============================] - 31s 26ms/step - loss: 1.3795 - acc: 0.7144 - val_loss: 1.0929 - val_acc: 0.7475\n",
      "Epoch 4/20\n",
      "1195/1195 [==============================] - 31s 26ms/step - loss: 1.1545 - acc: 0.7402 - val_loss: 0.9558 - val_acc: 0.7652\n",
      "Epoch 5/20\n",
      "1195/1195 [==============================] - 32s 27ms/step - loss: 1.0189 - acc: 0.7546 - val_loss: 0.8921 - val_acc: 0.7748\n",
      "Epoch 6/20\n",
      "1195/1195 [==============================] - 31s 26ms/step - loss: 0.9342 - acc: 0.7676 - val_loss: 0.8545 - val_acc: 0.7834\n",
      "Epoch 7/20\n",
      "1195/1195 [==============================] - 31s 26ms/step - loss: 0.8662 - acc: 0.7795 - val_loss: 0.8378 - val_acc: 0.7844\n",
      "Epoch 8/20\n",
      "1195/1195 [==============================] - 32s 27ms/step - loss: 0.8246 - acc: 0.7848 - val_loss: 0.8144 - val_acc: 0.7892\n",
      "Epoch 9/20\n",
      "1195/1195 [==============================] - 32s 26ms/step - loss: 0.7776 - acc: 0.7934 - val_loss: 0.7867 - val_acc: 0.7957\n",
      "Epoch 10/20\n",
      "1195/1195 [==============================] - 31s 26ms/step - loss: 0.7461 - acc: 0.7993 - val_loss: 0.7954 - val_acc: 0.7937\n",
      "Epoch 11/20\n",
      "1195/1195 [==============================] - 31s 26ms/step - loss: 0.7140 - acc: 0.8058 - val_loss: 0.7685 - val_acc: 0.7988\n",
      "Epoch 12/20\n",
      "1195/1195 [==============================] - 31s 26ms/step - loss: 0.6813 - acc: 0.8115 - val_loss: 0.7641 - val_acc: 0.8004\n",
      "Epoch 13/20\n",
      "1195/1195 [==============================] - 31s 26ms/step - loss: 0.6544 - acc: 0.8165 - val_loss: 0.7591 - val_acc: 0.8015\n",
      "Epoch 14/20\n",
      "1195/1195 [==============================] - 31s 26ms/step - loss: 0.6352 - acc: 0.8196 - val_loss: 0.7886 - val_acc: 0.7989\n",
      "Epoch 15/20\n",
      "1195/1195 [==============================] - 32s 27ms/step - loss: 0.6213 - acc: 0.8230 - val_loss: 0.7544 - val_acc: 0.8061\n",
      "Epoch 16/20\n",
      "1195/1195 [==============================] - 31s 26ms/step - loss: 0.5941 - acc: 0.8290 - val_loss: 0.7536 - val_acc: 0.8034\n",
      "Epoch 17/20\n",
      "1195/1195 [==============================] - 31s 26ms/step - loss: 0.5795 - acc: 0.8343 - val_loss: 0.7578 - val_acc: 0.8023\n",
      "Epoch 18/20\n",
      "1195/1195 [==============================] - 31s 26ms/step - loss: 0.5598 - acc: 0.8374 - val_loss: 0.7608 - val_acc: 0.8056\n",
      "Epoch 19/20\n",
      "1195/1195 [==============================] - 32s 27ms/step - loss: 0.5406 - acc: 0.8404 - val_loss: 0.7824 - val_acc: 0.8012\n",
      "Epoch 20/20\n",
      "1195/1195 [==============================] - 31s 26ms/step - loss: 0.5261 - acc: 0.8439 - val_loss: 0.7857 - val_acc: 0.8001\n"
     ]
    }
   ],
   "source": [
    "history = superposmodel.fit(X_train_indices, Y_super_train_oh, epochs = 20, batch_size = 32, shuffle=True, validation_data=(X_dev_indices,Y_super_dev_oh))"
   ]
  },
  {
   "cell_type": "code",
   "execution_count": 51,
   "metadata": {},
   "outputs": [
    {
     "data": {
      "image/png": "[encoded data removed]",
      "text/plain": [
       "<matplotlib.figure.Figure at 0x1a68bd3908>"
      ]
     },
     "metadata": {},
     "output_type": "display_data"
    }
   ],
   "source": [
    "plt.plot(history.history['loss'])\n",
    "plt.plot(history.history['val_loss'])\n",
    "plt.title('model train vs validation loss')\n",
    "plt.ylabel('loss')\n",
    "plt.xlabel('epoch')\n",
    "plt.legend(['train', 'validation'], loc='upper right')\n",
    "plt.show()"
   ]
  },
  {
   "cell_type": "code",
   "execution_count": 52,
   "metadata": {},
   "outputs": [
    {
     "data": {
      "image/png": "[encoded data removed]",
      "text/plain": [
       "<matplotlib.figure.Figure at 0x1a30537b38>"
      ]
     },
     "metadata": {},
     "output_type": "display_data"
    }
   ],
   "source": [
    "plt.plot(history.history['acc'])\n",
    "plt.plot(history.history['val_acc'])\n",
    "plt.title('model train vs validation accuracy')\n",
    "plt.ylabel('accuracy')\n",
    "plt.xlabel('epoch')\n",
    "plt.legend(['train', 'validation'], loc='upper right')\n",
    "plt.show()"
   ]
  },
  {
   "cell_type": "code",
   "execution_count": null,
   "metadata": {
    "collapsed": true
   },
   "outputs": [],
   "source": []
  },
  {
   "cell_type": "code",
   "execution_count": null,
   "metadata": {
    "collapsed": true
   },
   "outputs": [],
   "source": []
  }
 ],
 "metadata": {
  "coursera": {
   "course_slug": "nlp-sequence-models",
   "graded_item_id": "RNnEs",
   "launcher_item_id": "acNYU"
  },
  "kernelspec": {
   "display_name": "Python 3",
   "language": "python",
   "name": "python3"
  },
  "language_info": {
   "codemirror_mode": {
    "name": "ipython",
    "version": 3
   },
   "file_extension": ".py",
   "mimetype": "text/x-python",
   "name": "python",
   "nbconvert_exporter": "python",
   "pygments_lexer": "ipython3",
   "version": "3.6.3"
  }
 },
 "nbformat": 4,
 "nbformat_minor": 2
}
