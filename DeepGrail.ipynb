{
 "cells": [
  {
   "cell_type": "markdown",
   "metadata": {},
   "source": [
    "# LSTM part-of-speech tagging and supertagging for the French Treebank: \n",
    "\n",
    "This notebook trains a part-of-speech tagger and supertagger for the French Treebank using a vanilla bi-direction LSTM network.\n",
    "\n",
    "Run the following cell to load the Keras packages."
   ]
  },
  {
   "cell_type": "code",
   "execution_count": 1,
   "metadata": {},
   "outputs": [
    {
     "name": "stderr",
     "output_type": "stream",
     "text": [
      "Using TensorFlow backend.\n"
     ]
    }
   ],
   "source": [
    "import numpy as np\n",
    "import matplotlib.pyplot as plt\n",
    "import pandas as pd\n",
    "import sys\n",
    "\n",
    "from keras.models import Model, load_model\n",
    "from keras.layers import Bidirectional, Dense, Input, Dropout, LSTM, Activation, TimeDistributed, BatchNormalization, concatenate, Concatenate\n",
    "from keras.layers.embeddings import Embedding\n",
    "from keras.constraints import max_norm\n",
    "from keras import regularizers\n",
    "from keras.preprocessing import sequence\n",
    "from keras.utils import to_categorical\n",
    "from keras.initializers import glorot_uniform\n",
    "from keras import backend as K\n",
    "from sklearn.model_selection import train_test_split\n",
    "\n",
    "from grail_data_utils import *\n",
    "\n",
    "%matplotlib inline\n",
    "\n",
    "np.random.seed(1)"
   ]
  },
  {
   "cell_type": "markdown",
   "metadata": {},
   "source": [
    "### Read the TLGbank file"
   ]
  },
  {
   "cell_type": "code",
   "execution_count": 2,
   "metadata": {
    "collapsed": true
   },
   "outputs": [],
   "source": [
    "# very small initial part of corpus (only file aa1)\n",
    "# X, Y1, Y2, Z, vocabulary, vnorm, partsofspeech1, partsofspeech2, superset, maxLen = read_maxentdata('aa1.txt')"
   ]
  },
  {
   "cell_type": "code",
   "execution_count": 3,
   "metadata": {
    "collapsed": true
   },
   "outputs": [],
   "source": [
    "# small initial part of corpus (files aa1, aa2, ab2 and ae1)\n",
    "# number of sentences, train: 1195, test: 398, dev: 399  \n",
    "# X, Y1, Y2, Z, vocabulary, vnorm, partsofspeech1, partsofspeech2, superset, maxLen = read_maxentdata('aa1_ae1.txt')"
   ]
  },
  {
   "cell_type": "code",
   "execution_count": 4,
   "metadata": {
    "collapsed": true
   },
   "outputs": [],
   "source": [
    "# entire corpus\n",
    "# number of sentences, train: 9449, test: 3150, dev: 3150\n",
    "X, Y1, Y2, Z, vocabulary, vnorm, partsofspeech1, partsofspeech2, superset, maxLen = read_maxentdata('m2.txt')"
   ]
  },
  {
   "cell_type": "code",
   "execution_count": 5,
   "metadata": {},
   "outputs": [
    {
     "name": "stdout",
     "output_type": "stream",
     "text": [
      "\n",
      "Longest sentence   :  266\n",
      "Number of POS tags :  32\n",
      "Number of supertags:  891\n"
     ]
    }
   ],
   "source": [
    "numClasses = len(partsofspeech2)+1\n",
    "numSuperClasses = len(superset)+1\n",
    "\n",
    "print()\n",
    "print(\"Longest sentence   : \", maxLen)\n",
    "print(\"Number of POS tags : \", numClasses)\n",
    "print(\"Number of supertags: \", numSuperClasses)\n"
   ]
  },
  {
   "cell_type": "markdown",
   "metadata": {},
   "source": [
    "## 1. Split the input into train/dev/test\n",
    "\n",
    "Split the full training set into 60% train, 20% dev and 20% test."
   ]
  },
  {
   "cell_type": "code",
   "execution_count": 6,
   "metadata": {},
   "outputs": [
    {
     "name": "stdout",
     "output_type": "stream",
     "text": [
      "Train:  (9449,)\n",
      "Test:   (3150,)\n",
      "Dev:    (3150,)\n"
     ]
    }
   ],
   "source": [
    "# split the training data into the standard 60% train, 20% dev, 20% test \n",
    "X_train, X_testdev, Y_train, Y_testdev = train_test_split(X, Y2, test_size=0.4)\n",
    "X_test, X_dev, Y_test, Y_dev = train_test_split(X_testdev, Y_testdev, test_size=0.5)\n",
    "print(\"Train: \", X_train.shape)\n",
    "print(\"Test:  \", X_test.shape)\n",
    "print(\"Dev:   \", X_dev.shape)\n"
   ]
  },
  {
   "cell_type": "markdown",
   "metadata": {},
   "source": [
    "## 2. Create auxiliary mappings\n",
    "\n",
    "Create mappings from supertags and the two sets of part-of-speech tags to integers and back."
   ]
  },
  {
   "cell_type": "code",
   "execution_count": 7,
   "metadata": {},
   "outputs": [
    {
     "name": "stdout",
     "output_type": "stream",
     "text": [
      "{'PUN': 1, 'PRO:REL': 2, 'VER:cond': 3, 'PRO:IND': 4, 'ADJ': 5, 'ADV': 6, 'KON': 7, 'INT': 8, 'VER:impe': 9, 'DET:ART': 10, 'VER:simp': 11, 'VER:pper': 12, 'ABR': 13, 'PRO': 14, 'NAM': 15, 'PRO:DEM': 16, 'VER:subp': 17, 'VER:futu': 18, 'NOM': 19, 'DET:POS': 20, 'NUM': 21, 'SYM': 22, 'PRO:POS': 23, 'VER:infi': 24, 'VER:ppre': 25, 'PUN:cit': 26, 'VER:pres': 27, 'PRP': 28, 'PRP:det': 29, 'VER:impf': 30, 'PRO:PER': 31}\n"
     ]
    }
   ],
   "source": [
    "# create mapping for the two POS tagset and for the supertags\n",
    "\n",
    "super_to_index, index_to_super = indexify(superset)\n",
    "pos1_to_index, index_to_pos1 = indexify(partsofspeech1)\n",
    "pos2_to_index, index_to_pos2 = indexify(partsofspeech2)\n",
    "print(pos2_to_index)"
   ]
  },
  {
   "cell_type": "markdown",
   "metadata": {},
   "source": [
    "## 3. Obtain the word vector information\n",
    "\n",
    "We are using a shell call to the compiled fastText code to produce a file _vectors.txt_ with the relevant vectors. "
   ]
  },
  {
   "cell_type": "markdown",
   "metadata": {
    "collapsed": true
   },
   "source": [
    "### 3.1. Feature vectors"
   ]
  },
  {
   "cell_type": "markdown",
   "metadata": {},
   "source": [
    "#### Suffixes"
   ]
  },
  {
   "cell_type": "code",
   "execution_count": null,
   "metadata": {
    "collapsed": true,
    "scrolled": true
   },
   "outputs": [],
   "source": [
    "french_suffixes = read_suffixes('suffixes.txt')\n",
    "print(len(french_suffixes))"
   ]
  },
  {
   "cell_type": "code",
   "execution_count": null,
   "metadata": {
    "collapsed": true
   },
   "outputs": [],
   "source": [
    "suffix_vector(\"seraient\", french_suffixes)"
   ]
  },
  {
   "cell_type": "markdown",
   "metadata": {},
   "source": [
    "#### Manually designed features"
   ]
  },
  {
   "cell_type": "code",
   "execution_count": null,
   "metadata": {
    "collapsed": true
   },
   "outputs": [],
   "source": [
    "print(word_features(\"ABCD\"))\n",
    "print(word_features(\"Abcd\"))\n",
    "print(word_features(\"1234\"))\n",
    "print(word_features(\"*%\"))\n",
    "print(word_features(\"Ab-cd\"))\n",
    "print(word_features(\"-t-il\"))\n",
    "print(word_features(\"Contre\"))\n",
    "print(word_features(\"dans\"))\n",
    "print(word_features(\"anti-\"))\n",
    "print(word_features(\"et\"))\n",
    "print(word_features(\"ou\"))\n",
    "print(word_features(\"-t-il\"))\n",
    "print(word_features(\"-il\"))\n",
    "print(word_features(\"-tu\"))\n",
    "print(word_features(\"eussent\"))"
   ]
  },
  {
   "cell_type": "markdown",
   "metadata": {},
   "source": [
    "### 3.2. Sending the vocabulary through the fasttext executable"
   ]
  },
  {
   "cell_type": "markdown",
   "metadata": {},
   "source": [
    "Write the vocabulary to an output file, then pass it to the fastText executable to produce the relevant word embeddings for our text. Since the fastText model is over 5 Gb, the shell call can take some time."
   ]
  },
  {
   "cell_type": "code",
   "execution_count": null,
   "metadata": {
    "collapsed": true
   },
   "outputs": [],
   "source": [
    "with open(\"vocab.txt\", 'w') as vocab_file:\n",
    "    for w in vnorm:\n",
    "        print(w, file=vocab_file)"
   ]
  },
  {
   "cell_type": "markdown",
   "metadata": {},
   "source": [
    "Shell call to `fasttext` for my Macbook Air"
   ]
  },
  {
   "cell_type": "code",
   "execution_count": null,
   "metadata": {
    "collapsed": true
   },
   "outputs": [],
   "source": [
    "!/Users/moot/Software/fastText-master/fasttext print-word-vectors /Users/moot/Corpus/wiki.fr/wiki.fr.bin < vocab.txt > vectors.txt"
   ]
  },
  {
   "cell_type": "markdown",
   "metadata": {},
   "source": [
    "Shell call to `fasttest` for my Macbook Pro, with `wiki.fr.bin` on external drive"
   ]
  },
  {
   "cell_type": "code",
   "execution_count": null,
   "metadata": {
    "collapsed": true
   },
   "outputs": [],
   "source": [
    "!/Users/moot/Software/fastText-master/fasttext print-word-vectors /Volumes/LaCie/Corpus/fastText/wiki/wiki.fr.bin < vocab.txt > vectors.txt"
   ]
  },
  {
   "cell_type": "markdown",
   "metadata": {},
   "source": [
    "#### Combine all vector information\n",
    "\n",
    "Combined all information from fasttext, suffixes, manually selected features and the features for digits (which are not in fasttext) to produce combined feature vectors for all words "
   ]
  },
  {
   "cell_type": "code",
   "execution_count": null,
   "metadata": {
    "collapsed": true
   },
   "outputs": [],
   "source": [
    "word_to_index, index_to_word, word_to_vec_map = read_vecs('vectors.txt', vnorm, vocabulary)"
   ]
  },
  {
   "cell_type": "markdown",
   "metadata": {},
   "source": [
    "#### Save auxiliary mapping to files\n",
    "\n",
    "Use pickle to save the auxiliary dictionaries to files. This avoids having to generate them from scratch when using the model. "
   ]
  },
  {
   "cell_type": "code",
   "execution_count": null,
   "metadata": {
    "collapsed": true
   },
   "outputs": [],
   "source": [
    "import pickle\n",
    "\n",
    "def save_obj(obj, name):\n",
    "    with open(name + '.pkl', 'wb+') as f:\n",
    "        pickle.dump(obj, f, pickle.HIGHEST_PROTOCOL)\n",
    "\n",
    "def load_obj(name):\n",
    "    with open(name + '.pkl', 'rb') as f:\n",
    "        return pickle.load(f)"
   ]
  },
  {
   "cell_type": "code",
   "execution_count": null,
   "metadata": {
    "collapsed": true
   },
   "outputs": [],
   "source": [
    "save_obj(word_to_index, 'word_to_index')\n",
    "save_obj(index_to_word, 'index_to_word')\n",
    "save_obj(word_to_vec_map, 'word_to_vec_map')"
   ]
  },
  {
   "cell_type": "markdown",
   "metadata": {},
   "source": [
    "### 3.3. Alternative word embeddings using CWindow\n",
    "\n",
    "Instead of the fastText embeddings, we can use the `wang2vec` embeddings which should be more appropriate for\n",
    "syntactic applications."
   ]
  },
  {
   "cell_type": "code",
   "execution_count": 21,
   "metadata": {
    "collapsed": true
   },
   "outputs": [],
   "source": [
    "from gensim.models import KeyedVectors\n",
    "\n",
    "def remove_prefix(text, prefix):\n",
    "    if text.startswith(prefix):\n",
    "        return text[len(prefix):]\n",
    "    return text\n",
    "\n",
    "wv = KeyedVectors.load_word2vec_format('../wang2vec/frwiki_cwindow50_10.bin', binary=True)\n",
    "veclength = 50\n"
   ]
  },
  {
   "cell_type": "markdown",
   "metadata": {},
   "source": [
    "Compute `word_to_vec_map` for all words in the vocabulary using only the `cwindow` embeddings"
   ]
  },
  {
   "cell_type": "code",
   "execution_count": 22,
   "metadata": {},
   "outputs": [
    {
     "name": "stdout",
     "output_type": "stream",
     "text": [
      "{'1645', 'Wonder', 'Nursultan', 'au-delà', 'Giancardo', 'ISSC', 'anti-', 'VMS', 'Obnubilées', '42', 'Hypotheken', '285', 'nord-est', 'OFP', 'politiquement', '5.760', 'Rio-de-Janeiro', 'échaudées', 'baby-sitter', '171,5', 'CIO', 'allègrement', 'Jonh', '1er', '1915', 'Ernewein', 'Marceau', 'Adnan', '4,21', 'OPZZ', '740', '164', 'Newsweek', '390', 'surpiquer', 'Ebbene', '2009', 'Alphandery', 'Strauss-Kahn', 'celles-ci', '4,45', 'repointent', 'Briand', 'NV', 'garden', 'Chanteloup-les-Vignes', 'Officiellement', '9,3', 'Taxil', 'INFINT', 'Loira', 'Goetzfrid', 'Djebel-Ali', '67,9', 'Brighton', 'Manet', 'Guinée-Equatoriale', 'Duisbourg', 'Motors', 'injustement', 'chauves-souris', 'Daily', 'life', 'Haulage', '98', '40', '15,5', 'Agnelli', '2,9', '1999', 'Rizzoli', 'après-midi', '1.974,55', 'mini-rencontres', 'SOFIREM', '310', 'DSF', 'N1', '16,33', 'P', 'Marie-Marvingt', 'Kia', '38', 'Winterthur', '1914-1918', 'Esterel', 'isolément', 'Lopez', '1869', 'Afflelou', 'roupillait', '30', 'Saint-Honoré', 'Street', 'Pinault', '134.804', 'relecteurs', 'ressaisies', 'scénarisation', 'Pirelli', 'titres-chocs', '226', 'Rémy-Cointreau', 'Desmure', 'récessionniste', 'Autrement', 'Rowntree', 'périscolaire', 'surqualification', '1859', 'Shinbun', 'Calcio', 'Midwest', 'Sanio', 'redise', 'Dresdnerbank', 'uniquement', 'AG', 'exagérément', '50.000', 'Borel', 'Johannès', 'Quick', '131.000', 'tellement', '220725478X', '20,2', 'Définitivement', 'Leiris', 'Sunrise', 'Sheik', 'sub-', 'contre-visite', 'taiwanaise', 'brusquement', 'Chefresne', 'VOLTA-REDONDA', '1785', 'Ltd', 'Samuel-Lajeunesse', 'Abbas', 'Mahé', 'Saint-Martin-Rivoli', 'Banexi', 'Edouard', 'trois-quarts', 'Reveglio', 'crûment', 'Sochata', '33,8', '4,99', 'Distrigaz', 'Fréjus', 'Paris-Lyon', '32,10', 'ICP', '1,70', 'Naftalski', 'Products', 'théoriquement', '2.900', 'integrazione', 'Deng', 'LIBERTAD', 'Kopchinsky', 'descendions', 'Rohou', 'opportunément', 'J+1', 'Allgemeine', 'FDP', 'Xantia', 'All', 'Taxdisk', 'voleraient', '11.870', 'gonfleraient', '44.000', 'éléments-clés', 'Lingesler', 'rasséréner', 'acquitteront', 'administrativement', '27.000', 'markka', 'Andreuzza', 'toujours-plus', '4.890', 'Gear', 'Mont-Blanc', 'ITT', 'recomptent', 'Saab', 'contraventionnelles', 'Cointreau', 'Créteil', 'Graficas', 'Montedison', '277', \"côte-d'ivoire\", 'Sesa', 'sous-traitée', '1910', '6,40', '732', 'n', '1,13', '750.000', 'Goldenberg', 'pêle-mêle', 'Durand', '1989', 'Etat-nation', '4.200', 'Puy-en-Velay', '1834', 'Lebaube', '1840', 'Denvers', 'XIX', 'Economist', 'Kuala-Lumpur', 'par-dessus', 'eurowarrants', 'DIA', '2266106333', '1460', 'Souk-al-Sabt', 'Laffont', 'recéder', 'décapitalisation', 'ternissait', 'J', 'assurément', 'surteint', 'B-2', '1,9', 'Masson', '550000', 'Castro', '400000', 'Aulagnon', 'deflation', 'ci-dessous', '775', 'CIFUS', 'GATT', 'Gyver', 'Euromarché', 'Pulitzer', 'Châlons-sur-Marne', 'déja', 'San-Francisco', 'Blue', 'Graal', \"Boissy-d'Anglas\", 'Spotkania', 'trop-plein', 'Spie-Batignolles', 'CNJA', 'anticiperaient', '531', 'Ninja', 'Kleinwort', '331', 'Brugières', 'Bydgoszcz', 'Sous-traités', 'Béghin-Say', 'Maxéville', 'TF1', 'adds', 'mégavilles', 'Elf-Aquitaine', 'Dupont', 'Ufima', 'formation-reclassement', 'Hany', '2', 'Jack-Yves', 'Riboud', 'essaient', 'Beirut', 'assurance-vie', 'MITI', '1.200', 'repartager', 'frauduleusement', 'Maurienne', 'babyboomers', 'worsred', '5,3', 'Intermediazioni', 'gouvenement', '4,1', 'FFA', 'Hammoutène', 'Sud-est', 'Karasz', 'Marie-Thérèse', 'Guestier', 'Lardjane', 'PLA', '75007', 'exceptionnellement', 'Watanabe', '12', '67025', 'float', 'Baudy', 'politico-financiers', 'passivement', 'nouveau-né', 'precise', '11,2', 'Ghosn', '650', '3.193,65', 'barilsjour', 'Pyrénées-atlantiques', 'Coal', 'Modling', 'regagnez', 'french', 'Parretti', '2000-5', 'Paribas', 'Pirani', \"Monde-l'économie\", '34,6', 'empourpre', 'Zentih', '(...)', 'sous-traiter', 'Natwest', 'quarante-quatre', 'Stépachine', '14.533', 'Laffont-Leenhard', 'Escoubous', 'Vuong', 'Bacquet', 'way', \"trompe-l'oeil\", '674', 'funk', 'graduellement', 'trouait', 'américano-hongrois', 'Vénasque', 'West', 'Haroon', '3.168,83', '88.560', 'Tatra', '471.000', 'Grabis', 'Hills', 'quarante-deux', 'dissuadées', '150000', 'beaux-arts', 'Viannay', '3.300', 'Galbrun', '0,42', 'grand-messes', '35.000', 'monétiques', '16e', 'Mesle', '1000', '31.000', 'Publisher', 'Scoupe', 'Leenhardt', 'BBV', 'quatre-vingt-deux', 'Atlantique-2', 'hispaniser', \"dizaï'neur\", 'Salinas', 'Marubeni', '1.600', \"man's\", 'Pharmaceuticals', 'cash-flow', 'Brégou', '39.155', 'sportswear', 'contre-choc', 'Barnier', 'Koehler', 'montable', 'Elysée', '380.000', 'trachytique', 'branle-bas', 'Extrême-Orient', 'Begemann', 'rééchelonnés', '7,50', 'East', 'Bundes', 'Sorepark', '6,57', 'Myers', 'semi-conducteurs', '3,7', 'Eclerc', 'Monde-Economie', 'narcotrafiquants', '144,8', 'Alomar', 'over', '3,9', 'surendettement', 'Altech', 'CNRS', 'aisément', 'Manifestement', 'Brazzaville-Kinshasa', 'BID', '1992', 'Apep', 'GPL', '75005', 'UCPA', 'étroitement', 'Bank', 'abasourdies', '1979-1986', 'ACESA', '7.500', 'Bloch-lainé', 'Visegrad', 'secteurs-clés', '1.566', '200.000', 'Pfauwadel', 'passionnément', 'Sanyo', 'appelations', 'Sligos', 'Talleyrand', '46,7', 'BANUS', 'quittâmes', 'sous-préfet', 'Tcheliabinsk', 'bonnement', 'Saint-Pierre-et-Miquelon', '600000', 'auto-', 'coactionnaires', 'J.-F.-Kennedy', '5,49', '2023', '1973', '33,5', 'Politics', 'discrètement', 'G8', '808', '1.326', 'navals', 'FN', 'Jean-Cyrille', 'A3', 'Zelentchuk', '=', 'redécollage', 'Volkswagen', 'feuilletez', '3,25', '210.000', '2000', 'beteiligungs', 'M', 'Wahl', '1900-1904', 'Carthage', 'sicomi', 'Kreditinstitut', 'Pohlmann', 'Enterprise', '145.000', 'hâterait', '95,4', 'redécouvreur', 'Leyrey', '130.000', 'selette', '3', 'Fein', 'moribondes', '2,87', 'Leser', 'prochainement', '77,4', 'Slaskie', '147,06', 'Démilac', 'sit-in', '12.150', 'étonnamment', '9', 'C02', 'Marboré', 'Shimbun', 'Sodiaal', 'jazz-funk', 'CCFA', 'Nipoué', 'IFTIM', 'effectivement', '625.000', 'Enagas', 'Garett', '1903', '218.000', 'décemment', 'SME', 'Copperman', '7,4', 'Schaaff', 'M3', '29,5', 'Héricourt', 'Généreusement', '3,3', 'F', 'SZPT', 'Pflimlin', '1830', '3,4250', 'Mirror', 'kids', 'Château-Margaux', '5,70', 'PJ', 'COB', 'Ménétrez', 'CDS', 'Entre-temps', 'J.-L.', 'Corradetti', '2002', 'Raffarin', 'Gazzetta', 'Welt', 'contre-courant', 'Meurice', 'Geneimwirtschaft', '184', '104,8', '1250', 'directement', 'Industrial', 'caméramen', '8,20', 'Vergez', 'cléricalisant', 'Ingénico', 'Cardenas', 'Cinzano', 'bobologie', 'Béart', 'Weekly', '1,8', '111', 'Jean-Baptiste', 'Kinki', 'Jensen', 'Montrémy', 'Twingo', 'Branco', '%', '4,867', 'SNAM', 'Mozart', 'SMH', 'remue-ménage', 'logements-passerelles', 'MGM', '20,5', 'arrière-garde', 'totalement', 'Prince-de-Galles', '62,7', 'Berlusconi', 'banquaires', 'Laneuville', 'Régniere', 'revoyaient', '1', 'aincu', 'Durement', '640', '0,4', 'Perot', 'Guéno', 'Frankfurter', 'ras-le-bol', 'Furniture', '1946', '55.000', 'Ramond', 'Jankowski', 'Atlantique-nord', 'sous-estimation', '1893', 'Adidas', 'Nihon', '672', 'Belaïd', 'Fillon', '1978', 'JEF', '2.200', 'septicisme', 'SFF', 'Pérouse', 'Mobalpa', '2,25', '12.360', 'Orly-Paris', '6.829', 'France-soir', 'traiterions', 'FIEHP', 'X', 'Dufournet', 'PSA-Citroën', '7720', 'soixante-cinq', 'délibérément', 'Becker', 'Rouméas', 'uninominal', 'Ciolina', '129', '880', 'Sontag', 'Tecni', 'Vidéopole', 'länder', 'Mazowiecki', '120', 'Alleau', 'Iacocca', '17.600', 'Garrec', 'Cerro', '1843', 'Grosrichard', 'céréaliculture', '6ème', '36.055', '240', 'Séguillon', 'sacré-coeur', 'Kauffmann', 'médicalement', 'Julliard', '10.500', '1,80', 'Formellement', 'Born', 'entreprises-phares', 'PUF', 'Delaporte', 'périodiquement', 'Knowlton', 'SAP', 'PLC', 'Rhône-Poulenc', 'Free', 'at', 'épouvantait', '565', 'Manufacturers', 'Montmorency-Laval', 'Rotillon', 'Tupolev', '78,6', 'Chambéry', 'qualité-prix', 'Khrunichev', 'baisseraient', '240.000', 'bourrèrent', 'Suwaidiyah', 'Dassault-aviation', 'Goethe', 'Swaleh', '7,40', 'Mafouz', '3,6', 'Scheveningen', 'Fennebresque', '10,7', 'Gaîté-lyrique', 'machines-outils', 'Duménil-Leblé', 'coll.', 'Kubrick', 'Great', 'anglo-saxonnes', 'Renon', 'cm³', \"Automobil'\", 'chèques-vacances', 'Bertrand-Faure', 'Suchard', 'honoreraient', 'Belot', 'Lanquetin', 'Szentes', 'ébahies', '-ci', '41,017', 'Craxi', 'Eramet', 'indo-pakistanais', 'denim', 'Ash-Sham', '9,442', 'Carolco', 'Brittan', 'Jonson', 'sous-gouverneur', '272', 'Co.', 'Zuchowicz', 'continuellement', 'XVII', '170', 'grand-chose', '717', '5,2', 'potentiellement', 'Muzelle', 'Mobil', 'QG', 'Tricentrol', 'co-', 'triréacteur', 'Electric', '1981', '13,72', 'recelé', 'respectivement', 'Cassandre', '5,22', '1,50', 'TBB', 'PS', '42,95', 'Jibril', 'Den', 'Republica', 'Macmillan', 'rationnellement', 'CIRI', '108.000', '60e', 'hors-cote', '217,5', 'lentement', 'Dominati', 'Léotin', 'est-à-dire', 'suspendrait', 'socialement', 'Etat-providence', 'Kross', '0,20', 'vététistes', 'next', 'Institutional', 'pré-', 'Bigre', 'CGC', '6.700', 'Sassou', 'froissera', '17e', 'Chevènement', 'Kabuto-cho', 'Exchange', 'clopidogel', 'Nyrup', 'contre-enquête', 'tranquillement', 'subitement', 'cinquante-six', 'Dussart', 'casse-tête', 'Dumas', '8000', 'Jawa', 'Séguin', 'disinformation', '5,45', 'Giroud', 'Latrell', 'CISI', '506', 'Exor-Perrier', 'hi-fi', 'ci-contre', '°c', 'heureusement', 'Herta', '145', '3,35', 'G20', 'secondariser', 'Arbenz', '509', 'montâmes', 'turn-over', '1990-1992', 'Storebrand', 'eurosceptiques', 'pare-brise', 'MULLER', 'IPAA', 'interminablement', '13', 'payiez', '30,30', '501', 'Théoriquement', 'avant-coureur', 'Moellemann', 'Sprewell', 'Toledo', 'saint-Gobain', 'Frigoscandia', 'Carli', '36.420', 'Yonnne', 'anglo-germano-française', '28,6', '10000', 'Mast', '23.700', 'Northwest', '1750', 'Poullain', 'pianoter', 'sud-américains', 'Port-Louis', 'Vasconi', '16,37', 'JDD', 'Galliffet', '38,5', 'Branly', 'Sainsaulieu', 'OPV', 'Europ-Assistance', 'Expanso', 'Charléty', ';', 'Vôge', 'Faure', 'Just', 'PAYS-BAS', 'Lajoinie', 'old', 'plate-forme', '56', 'austro-hongrois', 'explicitement', '64,5', 'Cementos', '350.000', 'Singh', 'Cléon', 'arrière-pays', '796', 'Télécâble', 'Rovno', 'CGCT', 'Balkany', 'Buba', '767', 'chiffre-clé', 'incorrectement', 'Bisounours', 'Alcara', 'G.', 'Benarnenses', 'County', 'Puel', '4,7', 'difficilement', 'ANDA', 'prudemment', '198', 'pratiquement', 'Soler', '1981-1984', 'Kouchner', '2003', 'Rey', '18,50', '938', 'Zeitung', 'Romorantin', '57,5', 'Arun', '92.1269', 'véritablement', 'diabolicum', '2812500', 'méditera', 'Monark', 'Salta', 'Agassi', '9.200', 'Berlin-Est', 'Soisson', 'Birt', '353', '56.000', 'Serang', 'Vaclav', 'XIXe', 'social-démocrate', 'extraordinairement', '42.000', 'escarpeur', '749,4', '10,3', '92.866', 'Haute-Marne', 'Maistre', '28', 'manifestement', '1,04', 'vingt-sept', 'U', '956', 'IIIe', 'INSEE', 'minifundisme', 'Contractuellement', 'GLAM', '660', 'curieusement', '266', 'Sandoglass', 'elle-même', '29.910', 'ARD', 'ejidos', '205', 'USGS', 'là-dessus', '32,9', 'Bidegain', '92,96', 'Weinberg', 'absolument', 'fondamentalement', '494', 'Equipment', '3900', 'grand-père', '1,75', 'Dhabi', 'décrû', '4,2', 'Caim', 'Bouw', 'évènement', '1,57', '1917', 'consacrerons', 'clouter', '37,5', 'Tardivat', 'Commerzbank', 'Transatlantic', '93', 'normalement', 'Communication-développement', 'SEITA', 'trente-quatre', '36,1', '8,8', 'Setubal', 'VLM', 'reposâmes', '591', 'Perier', 'Sagawa', 'Fellous', 'Baloutchistan', 'Valréal', 'Andiamo', 'Dumez', 'Mulroney', 'Vendôme', 'Duménil', 'révisaient', 'désengagements', 'Alitalia', '180', '208', 'sournoisement', 'raffermis', 'Orsini', 'Flaubert', '0,18', 'Vauvilliers', 'Carnival', 'Escande', 'Medicines', 'Nogent-sur-Marne', '90.870', 'monde-campus', 'Pedreno', 'Goldman', 'APEC', 'flattai', 'Sabouret', 'Scaime', 'Ledoucin', 'Harvard', 'Niel', 'Accounting', 'Souchon', 'Sat', 'Xiaoping', '7,7', 'AVS', '32,5', 'ANPE', 'sud-africain', 'Saint-Etienne', 'euromarché', 'Modrow', 'Kléber', 'macro-', 'IME', 'Ribaud', 'Schreiber', '1787', 'UER', 'sciemment', '1950', 'bien-fondé', 'Gallimard', '12,5', '1611,4', 'QPL', '348', 'CAF', 'contre-feux', 'CFM-56', 'Mazeaud', 'American', 'entaillaient', 'hirudine', 'bank', 'Thiriot', 'Gesellschaft', '60', 'chiffrera', '5,34', 'Möllemann', '1970', '3.066.400', 'CND', 'Engoncées', 'Shore', '46', 'CGV', 'Thatcher', 'UNIM', 'PABX', '3.379,50', 'vis-à-vis', 'Pasumot', '110', 'obérés', '1,65', 'France-Télécom', 'UNEDIC', 'venture', 'medium-term', 'Clermont-Ferrand', 'forge-matriçage', '0,9', 'Iavlinski', 'Utrecht', 'Riberolles', 'RM', 'Aix-en-Provence', '378', '117.000', 'Birkin', 'Fanchon', 'and', 'Tchernomyrdine', 'Doctoring', 'Stuyvesant', '1815', 'Eaux-Chaudes', '3-0', 'GmbH', 'Delessert', '2.600', '9,36', 'CNPF', 'indo-pakistanaises', 'CGE', 'Sarrelouis', '3,85', 'Lugano', 'Ladreit', 'Bernardini', 'vaguement', '16.754', '1448', 'Esper', 'procéduraux', 'Japan', 'j', 'Bayard', 'Trèves', 'SGE', 'zig-Zag', '95,8', 'UIMM', 'sino-britannique', 'Vercken', 'immolons', '96', 'Mexès', '70.000', 'Wagram', 'Aumonier', '15,68', 'sous-épargne', 'Ruhr', 'Limbourg', '3.045', 'Sopharga', 'Educâble', '55', 'Nkoum', 'Vignemale', 'Compania', 'long-courriers', '172,8', 'Sportage', 'Bund', 'Walibi', 'Nèu', 'Grandin', 'Sri-Lanka', 'SCA', '700.000', 'Buchanan', 'Ciba', 'cèderait', 'Bodel', '820', '957', 'reclasssement', 'Aker', 'particulièrement', 'Silla', '8.500', '4,19', 'GMF', '0,80', 'invariablement', '9,2', 'Arouy', '768.000', 'Dnes', 'Multivalores', 'Somatem', 'Haïfa', 'Peng', 'Giraud', 'Corinthe', 'Lagardère', 'vice-président', '48e', 'SODERS', 'Jean-Noël', '65', '109,70', 'mulard', 'MDR', 'Dutchman', 'agréablement', 'joliment', 'Eurosport', 'carabineros', '108.500', 'A-6', 'Shui-bian', 'probablement', 'Gimvindus', 'Swatch-mobile', 'OLP', 'nationalement', 'antipollution', 'bâtiments-relais', 'Vale', 'debt', 'Thouvenel', '254', 'incivique', '721,8', 'Jouve', 'hautement', 'Michelin', 'vraisemblablement', '1,832', '68.000', 'Kozo', 'Nazarbaïev', '0,62', 'indexait', '4,65', 'Logata', '206', 'Maucher', '3,50', 'Dassault', 'sous-direction', 'MTV3', '169', 'pélagiques', 'psys', 'Milred', '3,2972', 'perpendiculairement', '332', 'désinflationnistes', '3,04', 'grands-parents', '83.505', 'Usiminas', '63.000', '312', '2.765', 'PDO', 'maine-anjou', '358', '7,9', 'salarialement', 'Cegelec', 'CNT', '10,1', 'Fondiaria', 'Bordet', 'COLLECTIVEMENT', 'Gerpresse', 'Gèdre', 'Charasse', 'FIJ', '60.000', 'pâtiraient', 'Brenen', 'évidemment', '35,7', '20.000', 'réellement', 'October', 'Laffont-Leenhardt', 'CFP', '10,70', 'Fère', 'Sochaux-Montbéliard', 'plein-air', 'Aga', 'chatouillant', 'cogitent', 'malheureusement', '28.000', '22.627', 'Albright', 'Celui-ci', 'Lomet', 'Galotte', 'Edinter', 'BHF', 'Largement', 'déjeunâmes', 'ONG', 'Celles-ci', 'Elkabbach', 'Lodz', 'Heseltine', 'Lacroix', 'Tompkins', '75,4', 'San-Joseph', 'Deir-Ez-Zor', 'Schengen', 'Carambar', 'NEC', 'Orlyval', 'veuillez', 'Damoclès', '15.000', '93.000', 'guingois', 'gravement', 'EPAR', 'ultra-', '50e', 'verticalement', 'quo', 'Besnier', 'RPR-UDF', 'télépéage', 'distribuions', 'NNPC', 'Nordez', 'CG2A', 'Cassani', 'RFP', 'Saint-Sylvestre', 'provisionnées', 'Simmermann', 'précisément', 'Bandoung', 'cuisinistes', 'Hongkong', 'franchement', '16,353', 'welfare', 'GPA', 'Shanghaï', 'Etonic', '606', 'champs-Elysées', '4e', '918', 'Cauteretz', 'prudentiels', 'Grandier', 'SOLA', '2.000', 'Pareillement', 'social-démocrates', 'CEE', 'Evidemment', 'Richier', 'm2', 'vidéosphère', '1993', 'Doctored', 'Gaïdar', 'élaborerait', 'UDF', 'J.-P.', 'SED', '26,8', 'désirai', 'soixante-six', 'BERD', '117.600', 'désespérément', '22.964', '5,19', 'évènements', '33,3', 'renchérissait', 'R.19', 'Bousquet', 'STC', '16', 'LIFFE', '1981-1982', '2ème', 'Herzog', 'Rausch', 'Paranal', 'Repa', 'off-shore', 'Rothmans', 'Hyundai', '380', 'Kinston', 'Szpiner', 'Drabu', 'Bouréquat', '66,7', 'UGB', 'Morgan-Stanley', 'Trente-deux', 'illégalement', 'exposition-vente', 'Tywersus', 'VW', 'cinquante-sept', 'come-back', '10', 'Economic', '11', '1966', 'monoproductions', 'United', 'chauffe-eau', 'Flandre', 'Imax', 'Stéphan', '48.000', 'house', 'Eysymontt', 'Bundesrat', 'Azun', 'Deutsches', 'Trichet', 'Benco', 'Indochine-France', 'gratuitement', 'Krasucki', 'Platinum', 'Grièvement', \"Val-d'Oise\", '1.164', '14,7', '106,6', 'VMTV', 'Bagnères-de-Luchon', 'longeons', 'Aachener', 'Superphénix', 'conspirationniste', 'Stern', 'dix-neuf', 'sous-évalués', 'Orzo', 'DRH', 'Mandela', 'Payment', 'çà', '1,2', 'cléricafard', 'principalement', 'Saint-Germain', 'extensification', 'Haute-Corse', 'Newco', 'di', '32.000', '750000', '615', '45,3', '13,55', '500.000', 'loans', 'fortiori', 'téléréservation', 'Lévi', 'crève-ballons', '16,6', 'apple-pie', '100', 'Allégret', 'BFCE', 'tourette', 'Bundestag', 'Telephone', '50', 'Portelli', 'pétillent', 'EDF', 'Hedin', 'Eska', 'impécunieuse', '0,2', 'credit', 'Coframines', 'projet-clé', 'Eaux-Bonnes', '3,56', '103', 'Elmalek', 'Jawaharlal', 'tout-images', 'Disney', '405', 'démutualisation', 'AT', 'UET', '24,2', 'FNSEA-CNJA', 'Koweit', 'Ribéry', 'quarante-cinq', 'Tallandier', 'Régionalement', 'récessionnistes', 'au-dessus', 'N2', 'petit-fils', 'Pierluigi', 'mini-', 'Venezuela', 'médiatiquement', 'Energy', '33,7', 'EDS', 'Deverloy', 'Zajac', 'Cans', 'Duperier', 'Berger-Levrault', '16,53', 'Pays-Bas', 'Skandia', '1,49', 'CEA-Industries', 'VAG', 'Saint-Jean', '5.720', 'IFOP', 'Bertucci', '43.900', 'Desjeux', 'nord-américaines', 'Bentsen', 'm²', 'Guyomard', '560', 'financièrement', '180.000', 'visitable', '154', 'UDF-PSD', 'dir-cab', '32,2', 'Languedoc-Roussillon', '22,3', 'Tissot', 'minimum-vieillesse', 'Hoover', 'valses-hésitations', 'ATT', 'Pompidou', 'TVS', '600.000', '2.700.000', '576', 'IV', 'IPSN', 'Warcholak', 'Oural', 'Reydel', 'louvoyé', '39,4', 'Bin', 'L.', 'BP', 'Bull', 'Bertinotti', 'vingts', 'Altus', 'Bourg-Saint-Maurice', 'Prévert', 'take', 'Stoclet', 'SDP', 'Kissan', 'Traditionnellement', 'Wojcik', 'certainement', 'franco-suédoise', '1,59', 'Arboust', 'Youpi', '1.100', 'outre-Manche', 'ejideros', 'Malvy', 'ARTE', 'amoncelait', 'rétrocommissions', 'to', 'agro-alimentaires', '152', 'Lazio', 'Comtet', 'Île-de-France', '720', 'UNIFA', 'Insta', 'Transdev', '0,7', 'IIb/IIIa', '8,30', 'Salenques', 'Auque', '287', 'CVS', 'Abedi', 'Seydoux', 'Desset', 'mogul', 'à-coups', 'Cedel', '0,5', 'Palazzi', '11,52', '301', '30.000', 'Soleil-Levant', 'withdraws', 'lottizzazione', '1,44', '30000', 'Matuikhin', '520', 'Barbât', 'Hezbollah', 'traumatisent', 'clairement', '695', 'Khler', 'Dien', 'Kutuzov', 'Walck-Pfaffenhoffen', '1991', '997', 'contrats-formation', 'Kyubin', 'circonspectes', 'simplificateurs', '150', 'Prado', 'plantais', 'Rose-Croix', 'extrêmement', '1,689', '533', 'Paradoxalement', '5629148', 'Danané', 'convenablement', '8011', 'Oparine', 'Cogéma', 'Plan-des-Etangs', 'Moggiopoli', 'Breguet-Atlantic', 'Bar-le-Duc', 'Dietlin', 'abordions', '302', 'minutieusement', 'Arud', 'Sandomierz', '30,5', 'Saint-Vincent-de-Paul', '2.224,11', '88,97', 'Chartered', 'Ogilvy', 'Bergons', '160', '122.2', 'Lifson', '25,2', 'mainoue', '155.000', 'Clean', '87.125', 'Dracula', 'Moureaux', 'Overseas', 'Tiananmen', '3,43', 'Benedetti', 'soixante-neuf', '2,53', '0,1', 'RBMK', 'Léotard', '23,2', 'Zinsou', 'Espana', \"Chavannes-sur-l'Etang\", 'concèderont', '3,5', 'RVI', '7,5', '1,74', 'outsourcing', 'CE1', 'Mentzelopoulos', 'Yergin', '11.000', 'RTP', 'group', 'tiralleurs', '24', 'est-européennes', '685', 'cinquante-huit', 'Sinn', 'amicalement', '17,9', 'IRC', 'passablement', 'autoritairement', '92.1270', 'rousseauiste', 'Genève', 'Moret', '700', 'Lotharingie', 'inévitablement', 'Malheureusement', 'semi-remorque', '168,4', 'court-circuite', 'agro-alimentaire', 'AGRR', 'Punta-del-Este', 'Delacre', 'Orléans', '270,20', 'No.', '35,5', 'Claude-Annick', 'Régulièrement', 'ni-ni', 'random', '88,4', 'hypocritement', 'Lathière', 'J.', 'Scrivener', '74', 'European', 'Signoles', 'Portillo', 'Matthey', 'SEMPAP', 'réadmettre', 'multifonctionnel', 'Tuffier', 'Leipzig', 'brièvement', 'AGIRC', 'Finalement', '188,7', 'Zemin', '47,5', 'Electricidad', 'Washington-New-York', '10.000', 'x', 'voulez', '268', 'Buy', '14,3', 'anglo-néerlandais', '540', 'Bolatto', '64', 'VEV', 'Schaer', '92.494', 'AC', '4,5', 'Bertolt', 'différemment', 'Mermet', 'Guigou', 'Maurice-Henry', '2.014,05', 'Diderot', 'communément', '47,6', 'success', 'immédiatement', 'Monclain', 'Jeancourt-Galignani', 'Aubry', 'Sogenal', 'Mr', 'Recapitalisation', 'Nickelodeon', '2.303', 'économiquement', 'Peut-être', 'Boublil', '42,3', '9,52', 'ATOS', '21-22', 'Monory', '1935', 'Diberder', '28,85', '5.666', 'Stéfann', 'avivés', 'BTF', '223450', 'Fains-Véel', 'Jean-Benoit', 'Kampf', 'nord-ouest', 'Neues', 'H/C/562', 'historiquement', '84', 'Culet', 'Jean-René', '1997', '5.543,30', 'Bertez', '385', 'Abou', '76,4', '5,4', 'conjointement', '770.000', '9,5', 'Lockerbie', 'Locabail', 'Triboulottes', 'E.', 'LPG', 'EUROCRATES', 'Ostdeutscher', 'Sodero', 'Bourdieu', '1,62', '3,4130', 'Saint-Siège', 'UAW', 'CIF', 'Daher', 'Mazères', 'KIO', 'éco-fin', 'Par-delà', 'sous-équipées', 'Sélectour', 'Tamatave', '8,769', 'PvdA', 'Angoulème', '1968', '15000', 'Sonauto', 'chronotachygraphe', 'guigner', 'expovente', 'Mitteldeutscher', 'Alliot-Marie', '7500', 'Salam', '453', 'oscuro', 'Galland', 'Sopad', '7,3', '2018', 'Chalvon', '50000', '25,7', '65.340', 'Mobis', 'LS', 'Over', 'suréquipées', 'attrape-tout', 'Niedermowwe', 'Ferman', 'Lupot', 'Cetelem', 'Statistical', 'Rivasseau', 'Quesnot', 'Kuweit', 'Andrésy', '252.000', 'RTL', 'damn', 'Saviem', 'momentanément', '22,4', 'porte-parole', 'V6', 'Rivkin', 'plus-values', 'Tardieu', 'revendons', 'patiemment', 'leader-ship', '900', 'CDF', 'moitié-moitié', 'mystérieusement', '59,9', 'Angestellter', '13.000', 'Aminu', 'Bouissou', 'écourtent', 'potlach', 'Vanden', 'ronchonnaient', 'Picade', 'chauffeur-routier', 'Comau', 'Anguilcourt-le-Sart', 'Braniff', 'phytosanitaire', 'vingt-neuf', '92.535', 'Tim.', '38,9', 'viscéralement', 'M-53', 'laborieusement', 'Barucci', 'Fiszer', 'Royaume-Uni', 'Drei', 'Moon', 'Burget', '2.115', '1867', '8,77', '0,02', 'Orangina', 'SNAV', '8,1', 'insensiblement', 'Moulard', 'MMB', '1964', '5,5', 'Belhassine', 'Chichester', 'Sergueï', 'Méridian', 'ATR', '131.39', 'Parnassus', 'Bâtibail', 'Nederland', 'Buhler', 'basse-cour', 'Nikkei', 'bi-', 'privatisable', 'Chamard', '1.703', 'trinquera', '189', '666', 'Foucauld', '170.000', '125', '354300', 'Fed', '8.445', 'Veracruz', 'là-même', 'AUD', '8.544.988', '204', 'Sogénor', 'Diff.', '1833', 'joyeusement', 'Exo-jeunes', 'Securities', 'Aerospace', 'Apparemment', 'Réveilhac', '24,7', 'Naville', 'Makeover', '25-34', 'Bouches-du-Rhône', 'Plessey', 'Parayre', 'sud-ouest', 'Norilsk', 'Excelsior', 'délitait', 'fesons', 'Particulièrement', 'revascularisations', '1845', 'Lander', 'Canadian', 'Sedgwick', '18.000', '246', '1988', 'Monts-Maudits', 'XVIII', 'Milewski', 'anciennement', 'Kogaz', '3.809', 'Grass', 'Ynetnews', 'CSF', 'sous-consommation', '3e', 'Knightley', '67', 'Villacoublay', '68,3', 'ESO', 'détériorerait', 'prédéfinis', 'gentiment', '3,80', '1,4450', 'Smith', '8,80', 'Nederkoorn', 'Guérard', 'Keynes', '177', 'Financial', 'Dutoya', 'Fall', '805', 'Arianespace', 'épongés', 'FMI', 'Chauvinière', '5,8', 'trente-et-une', 'Iribarne', '281', 'anglo-allemande', '2400', 'Telettra', '199.920', 'XXe', '3.665', 'Grand-Duché', 'Kadosh', '4000', '2234052785', 'Varaut', '6,6', 'Iraq', 'quasiment', '54.120', 'Prévost-Desprez', 'Giuily', '2.389', 'Partex', 'étalon-boeuf', 'AFRIQUE-EUROPE', '3,4070', '15,7', '3,1', 'CRS', '8,48', 'Emile', 'Jules-Romains', '81', 'movie', 'Hata', 'G7', 'Pache', 'F-117A', 'au-dessous', 'FNE', '5,50', 'Bordeaux-Mérignac', '1983', 'F.L.', 'running', 'franco-française', 'sous-préfectures', 'Mei-Kuei', 'Smoke', 'Chrysler', 'dissuation', 'spécialement', 'ralentissons', '55,4', '2-1', 'robusta', 'Dammarie-sur-Saulx', 'Ramirez', '2006-08-08', 'Schumpeter', '0,15', 'Evgueni', 'anser-anser', 'Nord-Europe', 'Novellino', 'Fachinetti', 'Gilliam', 'Constantinople', 'eux-mêmes', '1929', '168,5', 'Rodrigues', 'Eno', '391', 'Enfants-magazine', 'OPA', 'Monti', 'Egaz', 'latifundisme', 'rupiahs', 'autoentretenue', 'Bourquin', '132.000', '523', 'Gilson', 'AP', 'Tobacco', 'Maus', '17.000', '840', 'nouvel', 'partiellement', 'beau-père', 'Pioneer', 'prioritairement', 'Habituellement', 'socio-culturel', 'technologiquement', 'Hervet', '1.800', 'AFR', 'from', '96,23', 'Microsoft', '99', '9,75', '1956', 'amnistiable', 'fortuitement', 'appuis-tête', 'Yohann', '74.000', '5,97', 'surréaction', '3.000', '67.240', 'Barrat', 'Maly', 'Ex-', 'MR', '..', 'MATIF', 'Kanemaru', 'aérobic', '75008', 'it', 'OUA', 'Nijdam', 'Secondat', 'billettiste', 'toyotisme', '31,8', '890', 'savoir-faire', 'approvisionneront', '503', 'dernièrement', 'Plon', 'Indochine', 'hutchinzia', 'vraiment', 'Procopio', '75', 'Ieoh', 'Alsace-Lorraine', 'crève-misère', 'Darcet', 'empiriquement', 'dommages-intérêts', 'voulûmes', 'Legris', 'Gorbatchev', 'Edenor', 'SPP', 'Coué', 'Gutenberg', 'Kaufhof', 'rétro-', 'Darralde', '4.000', 'Balcerowicz', 'littéralement', 'Conformément', 'Contrairement', 'poinçonneurs', 'Cabaud', '430', '1926', '16,2', 'cyclo', 'Mandag', '20000', 'Jean-Albert', 'EO', 'Urwald', '15-25', 'Fourquet', 'Coudanne', '1958', 'Roussel-Uclaf', 'HBO', 'Lanvin', '79,2', 'INPI', 'Saint-Paul', 'actions-maison', 'Broendby', 'SAINT-DENIS', 'CMB', 'Pierlot', '90', '\"', 'Bundesbank', 'Laske', '23/12/2006', '4X4', 'Guillemette', 'n88-70', 'italo-suisse', \"Bailey's\", '215', 'temporairement', '588', 'Levin', 'Ciampi', 'Marca', '2.014', '441000', 'SAE', '2840985314', '69,5', '65,4', 'Schumacher', 'Bosnie-Herzégovine', 'Guarda', 'Editor', '1.440', 'Loo', '.', 'Inco', '400', 'Christophersen', '422', '1969', 'Wroclaw', '985,4', 'Cesano', 'Costa-Rica', 'paiera', 'GLNF', 'phytosanitaires', 'Eyadema', 'peronnellement', 'Andrézieux-Bouthéon', 'Malraux', '283', 'AMR', 'Nec', 'extra-', 'Châtelet', '1,10', 'Bruxelles-Lambert', '9.500', '1963-1967', 'Colonna', 'dégarnissent', 'G.O.', 'rédigeai', '46e', '1959-1962', '58', 'George-V', 'Ferrari', 'dûment', 'R.-G.', 'ceux-ci', 'Toubon', 'nord-américain', 'Castelo', 'assemblée-marathon', 'Creeks', 'descendîmes', 'KS', '250', 'VNF', 'Rau', '6,3', 'Alma-Ata', 'Hleb', 'Marionnaud', 'Kosovo', 'Sabatier', 'Metpart', '3,3570', '790', 'TV6', 'esquivaient', 'ballotins', '7.958', 'Summers', \"M'Vila\", 'Charlie-hebdo', '717,5', 'Caire', 'statistiquement', 'sud-coréen', '7.400', 'Verdunois', '21,40', 'triomphalement', 'GEB', 'fréquemment', 'Andreotti', 'rebaisser', 'Selenia', 'Louvie', '13,6', 'Pierre-I', 'TOLUCA', '178.000', 'logosphère', 'Octopussy', 'microéconomie', 'assurances-vie', 'PAC', 'Frantzen', 'Huchon', 'Perigot', 'terre-à-terre', 'en-dessous', 'Iberduero', 'Lunéville', 'Pèna-Blanca', 'LRM', 'Pallywood', 'Mels', 'chèques-restaurant', 'Gherardi', 'président-secrétaire', 'URL', 'Pentland', 'Arte', 'CFIUS', 'intouchées', 'CNCC', 'ECG', 'Braga', 'nommément', 'Nijni-Novgorod', 'Wouts', 'révât', 'incomplètement', 'Ouattara', '2.184,79', '546-571', 'Vrillière', 'scoubidous', 'Bagnères', '81,8', 'Caillaud', 'Bohême-Moravie', 'délestées', 'volta-redonda', 'Drian', 'HP', 'Majdanek', '2.982', '111547', 'réceptionnistes', '85.300', 'abusivement', 'arithmétiquement', 'Pas-de-Calais', 'Successivement', 'Questiaux', 'zappeurs', 'CEEP', '1,77', 'Problem', 'Group', 'Torre', '1934', 'UGAP', 'Stoltenberg', 'hold-up', 'Denfert-Rochereau', 'A26', 'Anciennement', '220', 'Ringier', '43,9', '5,95', '3,4305', '19.200', '41', '91,63', 'Vascons', '35,4', '143', '500', 'investment', '64,41', 'Rioumaou', '3,63', 'Là-dessus', 'Asset', 'Calvet', 'Saratov', 'Jean-Sébastien', 'Milken', 'franco-allemand', 'FNAC', 'infléchissements', 'Historiquement', 'IRDI', 'f', 'free', 'new-yorkais', 'pipi-room', 'Falcon-900', '320.000', 'Camargue', 'séparément', '675', 'Nissan', 'Münster', 'vidéocommunication', 'Pétain', 'Westdeutsche', '52,3', 'FNB', 'FITCA', 'joint-ventures', '1.500', 'CBI', 'mal-aimée', 'Curien', 'Metalbox', '442,6', '1988-1990', '1988-1989', 'paneuropéenne', 'Baltica', '1,5940', 'Canaan', 'commercialement', '70e', 'Indiscutablement', 'Philips', 'Nietzsche', 'alternativement', 'NEW-YORK', 'Marie-Noëlle', 'Saint-Dominique', 'raffermira', '1955', 'Schönhuber', 'Boulogne-sur-mer', 'Flandres', 'Cadel', 'deçà', 'Stéphanos', 'Clinvest', 'Repsol', 'drois', 'herbagers', 'Kvant', 'Confartigianato', 'Navarro', 'Flying', 'CISL', 'SDR', 'Nobel', 'ESSEC', '304,5', 'Kéloglanian', '2028', 'Brin-sur-Seille', '1870', '1764', 'essai-erreur', 'Akers', '2.400', '43,25', 'memoria', 'Foreign', 'courtisons', 'Doutriaux', 'Courau', '2.309.130', 'UUP', 'questions-clés', 'Luchon', '53.000', 'globalement', 'Electronic', 'Brown', 'Olivetti', '25/01/06', 'Tourmalet', 'Peiffer', 'Saint-Nazaire', '104', 'Charente-Maritime', '72.355', '5,23', '374', '345', 'RDA', '969', '10,2', 'Burgelin', 'obligatoirement', '68.470', '2.934.000', 'Lancôme', 'Domange', 'Roissy', 'Costdisk', '11,6', 'Peabody', 'Tchécoslovaquie', '135', 'Fauvet', 'Denoël', 'Vis-à-vis', 'seulement', '1942', 'Koninklijke', 'Smoby', '3.400', '(', 'Satory', 'étourdisse', '4ème', 'Benyamin', 'Airways', 'Lévy', 'CEFTA', '1990-1991', '0,6', 'Landeau', '1,3', 'grand-messe', 'anglo-saxonne', '7.960', 'Catia', '0,35', 'Gaudillère', 'GPT', 'Alahaji', 'Add', 'emphythéotique', 'Télérama', 'Marie-Claude', 'CEA-Industrie', '3,65', 'face-à-face', 'SNI-PEGC', 'Talancé', 'Saintignon', '6,2', '5,14', '450.000', 'vingt-deux', '8,99', 'Gillant', 'Handels', 'monospaces', '92.1389', 'Schlüter', 'commutant-type', '717,6', 'Handelsblatt', '7700', 'under-class', 'eurosceptique', 'Paris-Bâle', 'Grosser', '14,2', 'homme-terminal', '44.485', 'Berthiaume', 'Primakov', 'UDC', 'terratenientes', '1.441', 'Compusearch', 'entièrement', 'sociétés-écrans', '103,9', 'Soum', 'contre-performances', 'Roseman', 'Moravie', '2077', '40,2', 'Barrère-Maurisson', 'Franchissez', 'Georgyi', 'SIVP', 'habituellement', 'modérément', '8,74', 'Unzen', 'laisser-aller', 'Kaufman', '4,8', '355', 'CSL', '435,7', 'Vogelweith', 'simplement', 'laïcisant', 'maitrisée', 'Nicholls', 'Souain', '80', '7,1', 'approximativement', '4,3', 'Valenciana', 'Pacifique-Ouest', 'massivement', 'Disc', 'Drexel', 'Mauroy', 'Renan', 'Hans-Joachim', 'Gare-du-Nord', 'tâtaient', '847', 'deutschen', 'Marone', 'Cliparim', '39', 'ad', 'différens', '12.500', 'Clémenceau', 'Montigny-les-Metz', 'relativement', '70', '505', 'Verdome', 'Figaro-Economie', 'Sopalin', '171.000', 'Desmukh', 'SCPI', '30,4', 'Teulade', '340.000', 'Nimes', 'fahr.', '3,10', 'médiocrement', 'tamisés', 'Istat', 'pétillé', 'STASI', 'Chen-Feng', '1948', 'PCF', '*', 'Juventus', 'saisonnalité', 'aromathérapie', '-6', 'Pardini', '168', 'techniquement', 'FAO', 'Pronasol', '415000', 'Pandraud', 'Crabioules', 'Ecco', 'Lessons', 'BUENOS-AIRES', 'Onché', 'Haut-Rhin', '5,12', '7000', 'Rambo', 'Darnal', 'non-respect', 'Montpellier-I', '1,762', 'Boishebert', 'quant', '1839', '6,76', 'Paz', 'autrement', 'Gatt', 'banks', '1979-1982', '13,4', '38.503', 'Vedial', '3.200', 'CUT', '18,5', '49,7', 'F-16', 'Marne-la-Vallée', 'NHS', 'vingt-quatre', 'terriblement', 'GEC', 'Vernholes', 'PLANTU', 'Brongniart', 'société-holding', '1.288.000', '56400', 'Brutalement', \"Ma'Pub\", 'sous-chef', 'CBV', '3000', 'Brasiliens', 'compagnon-serrurier', '703.000', 'stockeurs', 'Ocalan', 'CNAM', '1952-1953', 'écotaxe', 'Belfond', 'S.', 'Hara-kiri', 'Modanais', 'XIIIe', 'joint-venture', 'My', 'Centrest', '2011', 'désoeuvrement', 'Dunhill', 'tout-tourisme', 'Swiss', 'apurés', 'MCI', 'Floch', 'CPI', 'Sorbonne', 'Teissier', 'Coudari', '175', '827', '2010', '9,10', 'CD.F-chimie', 'Brazil', '53', 'Saint-Just-en-chaussée', 'Seurat', 'Mochis', '3413,24', 'Eurojob', 'épaississaient', 'Sud-Ouest', 'Appâtées', 'BRS', 'SCOPD', 'bibliothèque-médiathèque', 'ANPLIE', 'France-Antilles', 'Wirtschaft', 'avant-veille', 'avant-projet', '120.000', 'finanza', 'CEPII', 'Austria', 'Farnoux', 'PRI', 'Volvo', 'C', 'Uni-Régions', 'Pétriat', 'Zimmermann', 'Nintendo', 'Ouest-France', '88', 'Mercuria', 'URSSAF', 'Grove', 'Liu', '91-92', 'quelques-uns', '31', 'solidement', 'syndicalisés', 'formation-emploi', 'Seasons', 'Waldeck-Rousseau', 'Monnet', 'photographer', 'SAN-FRANCISCO', 'Marriott', '17,4', '1948-1953', '1.857,78', 'Vnesheconombank', 'Trasgo', 'Etat-caisses', 'SSII', 'Fronta', 'anglo-néerlandaise', '1937', 'Georgescu-Roegen', '6,68', 'Schreiner', 'anglo-saxons', '1957', 'Cosmetica', '0,60', '504', 'mots-clefs', 'contre-sanctions', 'congé-maladie', 'Dimitrievitch', 'OCDE', '78e', 'biocarburants', '130000', '103,28', 'Vilaseca', 'voitures-ventouses', 'sous-préfecture', 'Drome', '11,5', 'Banqueting', 'MK2', 'FNTP', 'Duramé', 'corp.', '1642', 'Honda', 'PSU', '118', 'agiotateurs', 'Maniacs', 'Telcom', 'UGICT-CGT', 'Soditik', 'UDF-PR', 'Lenôtre', 'franco-américain', 'réalignements', 'Laroze', '693.200', 'enlisera', 'irrémédiablement', '°C', 'Broadcasting', 'Gillot', 'Manglou', 'homeless', 'Cornéa', '362', '14000', '380000', 'animez', 'Baring', 'Uhrenbetrieb', '250.000', 'chènes', 'Probablement', 'Act', 'outre-Rhin', 'Alsthom', 'Météo-France', 'm3', 'Rao', '3.440', 'Moggi', 'Shanghai', '118.385', 'parfaitement', 'Seat', 'Void-Vacon', 'Mannesmann', 'Celle-ci', '575', 'Swatchmobile', 'roche-sur-Yon', 'Ecurey', '221', 'Roosel', 'Failure', 'élisabethains', 'Harley-Davidson', 'Pragnères', 'Vuillaume', 'eurocrates', '360', '431', 'Colonia', 'grosso', 'PTT', 'Rambaut', '79', 'Off-Shore', 'CIM', 'Inc.', 'CSCE', 'Upomami', 'Fleury-Michon', 'passionneront', '2.032.100', 'OEA', 'Himalaya', 'Cusiana', '1.400', 'downgrading', 'Giffaumont-Champaubert', 'rapportai', '51,4', 'HCR', 'Tardi', 'Jean-Claude', 'RPR-UDF-UDC', 'pleinement', 'ci-dessus', 'délégatif', '1992-1995', 'ex-', 'unanimement', 'militaro-industriel', 'Devaquet', 'Shearson', '37,7', 'Asko', 'hedge', 'self-made-men', 'Périgord', 'Ponviane', '15.520', 'RFA', 'Ciba-Geigy', 'Poliet', '915.000', 'rendez-vous', 'Marie-Jo', 'Bayard-presse', 'marchandise-étalon', 'diamantées', 'Dintilhac', 'Nicolaï', 'Bf.G', 'Pilviteuil', 'Gauthier', 'Fisher', 'Schlesinger', '148', 'Dupart', 'France3', 'Boel', '17.905', '17605', '53,9', 'Cie', '800', '370', 'names', '13,5', 'implicitement', 'Mazda', 'Workers', 'Urbina', 'ultrasophistiqué', '...', '86.000', 'Catteau', 'Mineau', '1990', '3,3675', 'Eurotunnel', 'HomeFed', 'entre-temps', 'Metropolitan', '1992-1993', 'contructions', 'éternellement', '3,90', '72', 'TKM', 'Arjil', '3,886', '11.694', 'Descours', 'Premièrement', 'Vlajko', '12500', '220.000', 'Favier', 'anglo-américaine', 'dix-huitième', 'Letourneur', 'Lloris', 'expert-comptable', 'téléphobes', 'trente-six', 'Designe', 'sous-évaluation', 'RMistes', 'Jeunet', 'mesures-miroirs', 'stand-by', 'Corrand', 'crunch', '30,3', 'Boccon-Gidod', 'Zelnick', 'progresseraient', '36.100', '9500', 'maison-mère', 'soi-disant', '2005-2006', 'Sainte-Anne', 'SGEN-CFDT', 'jump', '485.000', 'Ruset', 'TF', 'craquait', '28,5', 'ouest-allemands', 'Point-clé', 'Benetton', 'Maladetta', 'Dresdner', '49,5', 'tee-shirt', 'Thiollet', 'Mitsui', 'posteriori', 'Euroc', 'Rotterdam', 'tromba', 'protègé', 'loi-programme', 'Vauthier', 'remarquablement', '5,10', '1,4', 'CERC', 'radio-télévision', '17,6', 'SADE', 'durement', 'Dumon', 'autogonflables', 'Enders', 'doucement', 'Smithkline', 'Val-Fréjus', 'Alassane', 'LGN', 'Viannet', '342', 'actuellement', 'équilibrera', 'Karenztag', 'malle-poste', 'solidairement', 'Piraben', 'CESI', 'préalablement', 'Academy', 'Montek', 'IML', '52', 'parallèlement', 'Grande-Bretagne', 'Sécu', 'efficacement', 'quatre-vingt-dix', 'Quarante-huit', 'Lyonnaise-Dumez', 'cow-boys', '78,5', '2.275', 'Bielhe', 'Frydman', 'experts-comptables', '162.900', '1998', '112', 'CBC', '10,5', 'UE', 'Joumblatt', '29.751', 'sobrement', 'consciencieusement', '0,69', 'Vigot', 'Lafayette', 'Ecofin', 'reconciliation', 'Drug', '1ère', 'Demoskopie', 'Arguydal', 'thatchérien', 'drolatiques', 'anglo-américanisme', 'Lufthansa', 'drastiquement', 'FR', 'CNPA', 'Robelin', 'micro-', 'CFE', 'Zeid', '9,1', 'Angeles', 'Mlada', 'Dassler', 'Poto-Poto', 'constamment', 'Montreux-Château', 'toute-puissance', '19,9', '2,5', 'Teochew', 'Louis-Pascal', '310000', 'Gaudin', 'EDI', 'Mabinvest', 'SFH', 'Quillery', '41.000', 'Am', 'H.', 'Bourdet', '26,5', 'réassureurs', 'Villepin', 'pronostiquait', 'Collins', 'Olipar', 'Aufbruch', 'Sachs', 'Syntec', 'Giaccobi', 'Saint-Amans', '196,66', '19,4', 'exclusivement', 'foies-gras', 'Sud-Est', 'Grand-Prairie', 'réajustant', 'Gandois', 'Granada', '1784', 'Aritmos', 'Mehta', 'Andrevon', 'House', '3.753', '850', 'Laisné', 'Rockseller', '20,4', 'Seine-et-Marne', 'Floch-Prigent', 'Commergnat', 'Loir-et-Cher', 'Co', 'Baïkonour', 'Inexorablement', 'Ultrafertile', 'Jean-Moulin', '54,5', 'machine-outil', '0,57', '146000', 'Milosevic', 'Chicago', 'Alfonsin', 'Projects', '2268052621', '18,2', 'Epéda-Bertrand-Faure', 'BBC', 'avant-dernière', 'CCAS', 'B', 'Joxe', '558', 'Beauty', '3.500', 'ombreuse', 'GNL', '5.630', 'Gutmann', '275000', 'montai', 'Pictures', 'Pelège', '97', 'compte-rendus', 'réputait', 'war', 'Gunthert', 'Karmitz', 'croisance', '4700', 'Halbwax', 'RCS', 'Palladio', 'contre-attaque', 'Méziré', 'Oréal', '245', 'ADNOC', 'Leblé', 'Broad', 'Alduy', 'Louxor', '3,38', 'Verilog', 'SGS-Thomson', 'Lambiotte', 'Zenith', 'Caf', 'Filippot', '625', 'Meciar', 'Mercadé', 'systèmatiquement', 'Besta', '1954', 'CNAF', 'Bergé', 'Vieux-Colombier', 'week-end', 'Lechat', 'Aircraft', 'concassant', 'Bohbot', 'Izzadeen', 'passe-partout', 'UIR', 'noblement', 'SDIS', '102.433', 'CD-ROM', 'Rougier', 'CSN', 'Ssangyong', 'Ambérieu', 'damoclès', 'Kuwait', 'Aeritalia', 'après-mars', 'Laigneau', 'soixante-trois', 'ultérieurement', 'Kapferer', '9,28', 'ADP', 'Mont-de-Marsan', 'avant-guerre', 'coca-cola', 'plombier-zingueur', 'Keating', 'plein-emploi', 'Fath', 'Papon', '8,5', \"Optim'hommes\", 'SNEP', 'sensu', 'Next', 'lourdement', 'inlassablement', 'Beach', 'Simoën', 'Puy-de-Dôme', 'Nérac', 'PSA', 'Skoda', '1976', 'Decampse', 'provided', 'Cosby', 'après-', '61', 'Béthune', 'Budapest-Ferihegy', 'Heilbronner', '97,47', 'Sarkozy', 'accord-cadre', 'suon', 'Immédiatement', 'UPA', '18,6', 'Desfossés', 'Neddy', 'Committee', 'GFD', '17', 'Azoulay', 'Hassep', 'Ifop', 'J.-C.', 'I', 'Telecommunication', 'Guyau', 'Godart', 'strictement', 'aides-éducateurs', 'Industry', '14,4', 'Canaries', '83', '637', 'bleu-verte', '557,4', '2,59', 'sous-estimées', 'Lyon-Alemand', '16,10', 'anticoncurrentielle', '1,27', 'Mirage-2000', 'Conforama', 'Lamennais', 'Carnegie', '121.2', '4,76', '2.610.000', 'CF', 'Odudu', '60,60', '215,10', 'fiscalement', 'Pointe-des-Galets', 'initialement', '450', '98,6', 'sureffectifs', 'maritalement', 'USDA', 'très-considérable', '17,494', 'Morin', 'Sussex', 'SBF', '1980', 'Dupuit', 'roastbeef', 'euro-obligations', 'Picture', 'hispano-Suiza', 'UJJEF', 'CNDP', '19,1', '200', '22,15', 'Dautry', 'pareillement', 'Credito', '1,25', '350', 'IX', 'quatre-vingts', 'Lenoir', 'VVER-440', '5,06', 'Bizac', '12,7', '56,9', '123-85', '75ème', 'Demokratisches', 'Caillaou', 'congés-conversion', 'Gaulle', '1983-1990', 'Sov', 'EMBLÉE', '18,8', '2.251', 'chrétien-démocrate', 'Reliquet', 'FGAAC', 'Visos', 'Muller', '235', 'unanimiste', 'fimes', 'Up', '62.000', 'M.', 'Mont-Cenis', '2.807,7', '5,11', 'DDOF', 'Morgen', '91', 'Hannoun', 'CM2', 'FEHAP', '55000', '1,858', 'Monopoly', 'Filofax', '2,45', 'Professionnellement', 'Stromboni', 'Taiwan', \"main-d'oeuvre\", '60,1', 'Vergèze', 'Virgin', '40,5', \"pin's\", 'U-2', 'devils', 'Bokassa', 'Ghigonis', 'Guimaraes', 'Hervieu', 'Hang-Seng', '29,2', 'RER', 'COURCELLES-LES-MONTBELIARD', 'Horst-Udo', 'fraudent', 'persona', 'Paggio', 'Logiquement', 'Psychologiquement', 'ARRCO', 'fébrilement', 'extremis', 'Wever', '173', 'pâtissier-traiteur', '7-8', 'succursalistes', '260', 'Navarre', '2,95', '178', '1914', '36.000', 'quotidiennement', 'Veil', 'soixante-dix', 'non-dits', 'notamment', 'monts-de-piété', 'artificiellement', '101,5', 'ANC', 'etc', 'CIC', 'Barking-Reach', 'Giga', 'Azeglio', '22,20', 'progressivement', '2,569', 'demi-', '410', 'Pepsi-Cola', 'SOFIPA', 'NORTHERN', 'Boudiaf', 'Isoète', '23', 'lease-back', 'PKK', 'sourdaient', 'IFIL', 'Benghazi', 'Bonny', 'Joyot', 'TAT', '3,41', 'Thérond', 'Juppé', 'Haddad', '22,5', 'Ostrava', 'Mutual', 'virtuellement', 'Plaza-Athénée', 'gagne-pain', '1989-1995', 'calendaire', '69.900', 'Sportfernsehen', 'Troisièmement', 'Boutet', 'CSG', 'SCOPD-Manufrance', '51,3', 'Baylet', 'Covent', '45.000', 'Botts', '8,7', 'Elf-Sanofi', '62', 'Fauchers', 'Candia', '2004', 'SACER', 'grognes', 'reclassification', 'Mezzogiorno', 'prêteuses', '289', 'XIV', 'montbéliardais', '275', 'articulerait', 'Delors', 'Qatargas', 'hafnia', 'Lafon', 'Bolzon', 'how', 'péniblement', '525', 'Lalique', '4,4', 'OPR', '1,40', '550.000', 'SMC', 'Jean-Yves', 'sacro-saintes', 'incontestablement', 'Gbm.H', 'travel', 'ratatinée', 'Klerk', 'Telekom', 'peut-être', 'Egypte', 'Sun', 'CEI', 'carrément', 'Touzet', '163', 'stations-service', '1947', 'Babangida', 'Barèges', '5,28', 'Dassault-Electronique', 'Perez', 'Chronopost', '1924', 'surperformé', '192', 'SAR', 'CSO', '730', 'fortement', 'cinéma-télévision', 'Proche-Orient', 'Jean-Christophe', 'Notat', '129,5', 'culpa', 'chambériens', 'Wehbé', 'UNIRS', 'avant-dernier', 'Rubber', 'Brantôme', 'DGI', 'rugissaient', 'struggle', 'vitae', 'proprement', 'Var-Matin', 'délocaliserons', 'subodorent', 'Après-midi', 'TPI', 'Peylevade', 'pollueur-payeur', '45,4', 'Messier-Bugatti', 'crevait', '4,75', 'Nocivelli', 'repousserons', 'Euroclear', 'Médiamétrie', 'MODEF', 'Anchor', 'Nobil', 'Rmistes', '29,9', '16,75', 'Seatib', 'hula-hoop', 'automatiquement', 'Général-Beuret', 'Notre-Dame', '1.416', 'Kothari', 'popiwek', 'Nouvelle-Zélande', 'Danske', 'Nord-Est', 'Agreement', 'Schneider', '28,8', 'Joly', 'Singularisons', 'Blatter', 'Gaube', 'est-européen', 'Gaboriau', 'Peugeot-Citroën', '225.000', 'généralement', 'Zahidi', 'Finchley', 'cadeaux-souvenirs', '458', 'Kélian', '2001', 'EBZ', '18855', '40,95', 'bruyamment', 'pangermanique', 'reforestation', 'hip-hop', 'University', 'VERNHOLES', 'Royère', 'substantiellement', 'aucunement', 'Sole-24', 'néantisés', 'Anne-Marie', '16.757', 'AGA', 'CSEE', 'Poitou-Charentes', 'arrière-grand-mère', 'DASA', 'CNTS', '42000', '7.000', 'Lefoulon', 'Merlin-Gérin', 'essentiellement', 'Bogart', 'barbouzarde', '60.680', 'Ouest-allemands', '233', 'Arlington', 'Ironiquement', 'objectivement', '24,9', 'Taïpeh', 'Langoni', 'Development', 'Falcon-50', 'Estom', 'Gael', 'ferrata', 'Leibinger', 'washingtonien', 'Apollonies', 'GDF', '571-597', '?', 'Fottorino', 'import-export', 'Olszewski', 'Dumay', 'Pichincha', 'économiserons', '123,75', 'Aix-la-Chapelle', 'Finanz', 'soixante-sept', 'Funkoverload', 'Montacié', 'Galien', 'paieront', 'Lefebvre', 'Pierre-Alain', 'ISBN', 'A1', 'Taine', 'Normandin', '1972', 'Monribot', 'Rupo', 'Hill', 'parcourons', 'custom', 'Queens', 'Jean-Daniel', 'pragoises', 'Stone', 'cahotantes', 'Louts', 'déprécia', '1500', 'pare-soleil', '80.000', 'Credit', 'sur-investissement', 'Raymondeau-Castanet', 'Jones', '675.000', '12,3', 'Saint-Cyr', 'Tchuruk', 'QGPC', 'indûment', 'visiblement', 'Energie-Sud', '530000', 'stent', 'Italcementi', 'Jose', 'Army', '132.100', 'laissâmes', 'Samsung', 'mama', 'Schwartz', '8,50', 'Bradstreet', 'réembauches', 'Zelnik', 'Offenstadt', 'storming', 'Week-End', 'Jean-Marc', '35000', 'IG', 'ASAT', 'Cofreth', '1902', 'MM.', '1936', 'Usinor-Sacilor', 'Swatch', 'passe-passe', 'Vinci', '42,1', 'déferait', 'bitoniaux', 'Hilmar', 'localement', '21.000', 'Dunod', 'Naf', 'Heyris', 'Simeoni', 'Deutschland', '23,7', 'Gian-franco', 'Edzard', '5,52', 'Fitz-Pegado', 'Hauts-de-Seine', 'Brüggemann', 'Cousances', 'Hector-Malot', 'réindustrialiser', 'Sutherland', 'multimédiatiques', '712,20', '6,20', 'Baa1', 'zapperaient', 'Soubiran', 'Saint-Clément', 'boucs-émissaires', 'sainte-Victoire', 'caféiers', 'avant-première', 'Tiberi', 'C.', '1987', 'Saint-Cricq', 'R.', 'Hénin', 'coroné', 'Despuech', 'COJO', '23,5', 'arrière-petit-fils', '18,10', 'SPC', 'Fabiani', 'Footsie', '874', 'UNOSTRA', '12.102', 'télé-poche', 'Deviers-Joncour', '30,45', 'Gavalda', 'Ganett', 'Terriblement', 'euro-américain', 'Keizai', 'technico-économique', '33,4', 'dessaisissant', '530', 'Thomson-Brandt', 'Lebègue', 'junk', '3.111', 'Gaulandeau', 'Volskwagen', 'Zielona-Gora', 'indépendamment', 'Sephia', '8,3', 'Moreau', 'Dominguez', '44,772', 'miraculeusement', 'relevions', 'refroidissaient', 'Jacques-Bailleurs', '465', '2,8', 'EBF', '488.000', '3,333', 'paient', 'Barbaroux', '1400', 'Ameen', 'VLT', 'Reboul', 'raisonnablement', 'Vaillant-miroir-sprint', 'Etats-Unis', 'Fère-Champenoise', 'Au-delà', 'gavages', 'Eins', 'presseraient', 'Strong', 'VVD', 'Bade-Wurtemberg', 'Loral', 'décret-loi', 'Findus', 'Tout-Paris', 'latifundio', 'Mahfouz', '8,72', 'Guffey', 'Vivendi', 'quatre-vingt-quatre', 'G.P.S', 'maxima', 'Ouest-allemandes', 'Gitaï', 'B.', 'Relativement', '5,75', '1,47', 'ETAM', 'assurance-maladie', '3.754', '8,96', 'graphosphère', 'Law', 'AGF', 'CREDOC', 'Cournot', 'Baudéan', '1930', 'successivement', '209', '65,6', 'Di', 'FNCA', 'Lyon-Libération', '388', 'Védrine', 'DFF', 'Nigerian', 'Groep', 'directeur-fondateur', 'Hedge', '2.253', 'SERGUEI', 'Shteynberg', 'antidumping', 'UCSIP', 'Grand-Dallas', 'Godefroy', 'Berryer', 'Fayette', '1634', 'Dauphiné', 'Balladur', '1894', 'First', 'IW', 'Auto-Éco', 'lestement', 'quarante-trois', 'Eco-Systeme', 'sous-employés', '1921', '0-6', 'XVI', 'money', 'Fès', '566', '16,5', 'sous-sol', 'Carnaud', 'Attali', 'Family', 'OPCVM', 'Drinking', 'réunionais', 'Patten', 'doctor', '495.000', '13,3', '27', 'Salt', 'Farrad', 'Artzner', 'au-dehors', '10,81', '44', '149', 'cognito', 'sacro-saint', 'imprudemment', '4,55', 'Blancard', 'suffisamment', 'Feb', 'V', 'DSIN', 'UNC', 'Lamartine', 'Franès', 'contrepartiste', 'Cushionning', 'fidèlement', 'centre-gauche', 'Dumont', 'CPR', 'SNTPCT', '8,9', 'Arouja', 'DTB', 'Deluchat', 'qui-vive', 'éventuellement', 'motor', 'Moulinex', '50,6', 'Przemyslu', 'Messenger', '2,72', '8,4', 'là-dedans', '21,5', '7719', 'elles-mêmes', 'ITV', 'Nord-matin', '15,6', '472', 'Larosière', 'Outre-Rhin', 'Corp.', '210', '10,4', 'Vatelot', '1974', 'Bongrain', 'Cognacq-Jay', 'Bollaert', 'Smirnoff', 'Maastricht', 'Abessalam', 'Huy', 'Fokker', '7535', 'statu', 'IFREMER', '1939', 'CTCE', 'Neiertz', 'Tintin', '85,6', 'AEG', '13,8', 'deficiency', '250000', 'tête-à-tête', 'Meissonnier', 'BSN', 'MPCS', 'Desktop-IV', 'auto-allumage', '12.000', 'Caixa', 'OP', 'Visiblement', 'moyen-courrier', 'précoloniale', 'diner', '101', 'vendeurs-acquéreurs-Etat', 'Proprietary', 'SFO', 'Saône', 'Goldsmith', 'Nallet', '121', '4,41', 'Indosuez', '35e', 'EDF-GDF', 'PAP', 'Delort', 'corrélativement', 'casualwear', 'contractualisés', '18ème', 'Haute-Garonne', 'afin', 'Ki-moon', 'Delavenne', 'longuement', 'Testut', 'Quant', 'Curieusement', 'timidement', 'enseignants-chercheurs', 'ruralité', 'DRAM', 'Bonnemire', 'mea', '68,9', 'altering', 'ACOSS', '112,44', 'CLF', 'Ukraine-Sud', 'Wildlife', 'CHS', 'Zorro', '4,95', 'Vandoeuvre', 'Galzin', 'Forget', 'libre-échange', 'Triel', 'majorisme', 'Triange', 'Clinger', 'Sia', '4.500', 'spécifiquement', 'emboîtait', '47.800', 'Notamment', 'SNB-CGC', 'Bolloré', '1971-1975', '5,9', '116', '1,60', 'Midi-Pyrénées', 'Naples', '1994', 'stylicien', 'Jean-Maurice', 'Malouda', 'Maghreb', '280', '49.000', 'lean', '1991-1992', '1.899.484', 'Fares', 'Research', 'DM', 'Mc.', 'sans-abri', 'emploi-solidarité', '5.000', 'Bréhal', 'co-entreprise', 'nihilo', 'soigneusement', '140', 'Rothschild', '107', 'Feyel', 'BNP', 'Shakespeare', 'France-Inter', 'A36', '0,67', 'Benattia', 'Planchon', 'Trente-cinq', '1981-1983', '1941', 'Séraphine', 'Cahin-caha', 'Dreyfus', 'valseurs', 'évanouissaient', 'finalement', 'inter-établissements', 'Ceux-ci', '2500', '12-13', 'Seveso', '1120', '4.4', 'Alkirch', \"'m\", '0,21', 'apprentis-acteurs', '1666', '669', '1.702', 'Biré', 'coûts-bénéfices', 'apparemment', '40,8', 'Viêtnam', 'Delpey', 'spoliatoire', '1951', 'check-list', 'Vindé', 'Murmann', 'Lacharrière', 'Reuter', 'Arcadi', 'Marti', 'Haberler', 'Généval', 'Adjaokuta', 'emmenthal', '10.350', 'laissés-pour-compte', '787', '109', 'savings', '4,25', 'crapahuté', 'Oxbridge', 'PC', 'Nuevo-Leon', 'raffermissant', 'mollétiste', 'dégraisse', 'D66', 'From', 'Tluszczowego', 'Douyère', 'XV', 'rééquilibraient', 'lave-vaisselle', 'voierie', 'commenterait', 'Mather', 'Lebanese', 'Kontavill', 'Kahloon', 'americana', '29,519', 'Falcon-2000', 'Kopper', 'Sombart', 'Hetzel', 'Saint-Sauveur', '71', 'ressources-richesses', 'sud-coréenne', 'Travlane', 'Alcoa', \"Côte-d'\", 'Orkem', 'Timisoara', 'capo', 'Mermaz', 'AVU', '35', 'Dorsner', '600', 'Celsius', '1640', 'israélo-', 'Saint-Pétersbourg', '82', 'CAUE', 'Sogeti', 'mono-industrie', 'world', '166', 'CEPAL', 'libre-échangisme', 'décidément', 'trente-deux', 'accessed', 'sensiblement', 'légalement', '1.360', 'catimini', 'Mézenc', 'Juve', 'Mega-store', 'Chevignon', 'Solana', 'ejidales', 'légumiers', '2006-2007', 'Hygena', 'indifféremment', 'barégine', '1944', 'Stasi', 'Ducros', 'contenterions', 'Milwaukee', 'Iskandar', 'Balmary', 'TD', '9,6', '29', 'Goldwyn', 'Mireille-Bénédicte', 'SANEF', 'Trotski', 'CIB', 'post-', 'cf.', 'lui-même', 'Faugère', 'conjoncturistes', 'Worth', 'Bosnie', 'Ileau', '5,38', 'Vingt-cinq', 'Guintoli', 'Chalande', 'of', 'Korando', '6.500', 'Kwan', 'agro-industrielle', 'OAT', 'SMIC', 'Mitsubishi', 'gracieusement', '1.900', 'Sabeg', 'Kirghiztan', 'primo-accession', 'avantageusement', 'Chalon-sur-Saône', '2.720.000', 'Mans', 'contrario', 'ITCF', 'désaisi', '34,07', 'brutalement', 'antibloquants', '15ème', 'Petroleum', 'embauchons', '1821', '5', 'Raissa', 'décloisonnent', 'dix-huit', '_', '1880', 'Tel-Aviv', 'cinquante-trois', 'Norlain', 'Sassou-Nguesso', '16757', 'Leigh-Pemberton', 'Britsh', 'Monod', 'simultanément', 'Rousselot', 'Sutton', 'Saussure', 'Brungard', '57.000', 'embrassions', '70,9', 'paneuropéennes', '75.900', 'Deloitte', 'celui-ci', 'Berliner', 'concrètement', 'Deutsche', 'Jean-Luc', 'amplifieront', 'Guison', '1450', '6.000', '8,16', 'juridiquement', '21,7', '22000', 'Hurand', 'euro-obligataire', 'Baedecker', 'magyare', 'onuso-américaine', 'officieusement', '3,75', 'mitrons', 'Perthois', 'Coumélie', 'Cambridge', 'Girardin', 'Jean-Manuel', 'CHEVILLOT', 'conspirationnistes', '17,8', '6,5', 'Verneau', '1619', 'Becerril', 'porte-clés', 'bls', '18,3', 'KBG', 'faiblement', '92-1268', 'Immopar', 'Bénasque', 'Kourou', 'Northrop', 'Cluzel', 'Ferruzzi', 'Rasmussen', 'Liquefaction', 'Angoulême', '2,3', 'Elysées', \"Lloyd's\", 'Parallèlement', 'New-Hampshire', 'Initialement', 'Cupiaga', 'Armenia', 'refranchir', 'Corp', 'Whitehall', 'EDA', '36', 'contre-partie', 'pyrénéisme', 'quatre-vingt-huit', 'Baur', 'Willow-Run', 'Gorby', 'Jean-François', 'Khrissate', 'Guardian', 'vingt-trois', 'Solery', 'Décidément', 'rogatoire', 'pétrochimique', 'oeils', '25,3', 'primitivement', 'appuierons', '217', 'Brecht', 'HLM', 'Detroit', 'Schimpf', 'sur-le-champ', 'AFT', 'ULN', 'Gestner', 'main-forte', 'Marionnaux', '176', 'prêt-relais', 'France-info', '2,7', 'society', '1,37', 'Eurostat', '87', 'veux', 'conformément', 'indéfiniment', 'franco-italiens', 'Marriott-prince-de-Galles', 'Tel-presse', 'Accor', 'Maine-et-Loire', 'Isle-sur-le-Doubs', '9,45', '110.000', '4,35', 'EPT', 'Guitton', 'Centre-Ouest', '54,8', 'reparait', 'Kodak', 'Libron', '119.000', 'Finanziaria', 'afro-asiatique', 'Looses', 'Ile-de-France', 'après-guerre', 'Channel', '14,6', \"Rubik's\", '3.028.300', 'D.', 'Val-de-Marne', 'ostensiblement', 'Barisienne', 'FR3', 'ARHV', '8e', 'Pasqua', 'franco-britannique', 'Vannes-le-Châtel', '3.130', 'considérablement', 'Humboldt', 'hors-médias', '1.134', '1,4850', '12,8', '3,14', '1971', 'ponctua', '29.100', 'Yoplait', 'Daubeny', 'écumeux', 'CEREQ', 'SFS', 'Evalué', 'replâtrages', '24,5', 'Courcelles-lès-Montbéliard', 'abondamment', 'DCN', 'Giuly', 'ensuivraient', 'arabis', 'Grenet', 'Saint-Gobain', 'assurerions', 'San-Antonio', 'contre-exemple', 'réacclimater', 'Pernod-Ricard', '11.526', 'natation-triathlon-club', 'vivement', 'Corresp', 'Volski', 'Grand-Charmont', 'Ventilo', 'barisienne', 'tristement', 'déqualification-surqualification', 'TCE', 'Ledru', '5.926', 'Lynch', 'notoirement', '100,62', '19,6', 'Sidjanski', 'Nouvel', '3,2', 'Kondratieff', 'Ier', 'Albin', 'Mayer', '36e', '184,1', 'sus-décalage', '2e', 'républicaniser', 'Moretti', 'PSP', 'Fourchette13', '1962', 'euro-emprunts', 'Gross', 'Etats-nations', 'Poincaré', 'Lazaro', 'Risc', 'Austrian', '7.150', 'Com', '1,785', '2.660', 'temporis', '94', 'ptt', '28,7', 'Senhao', 'Ltd.', 'rapidement', '271', 'Bunuel', 'Chen', 'Martin-Marietta', 'Haussmann', 'BEP', 'Antenne2-FR3', '245.000', 'Guillen', '140.000', 'BTAN', 'SFIO', 'Yazid', 'Safa', '680.000', 'Atalla', 'plus-value', '1732', 'afnium', 'disruption', 'Flins', 'SOFRES', 'anecdotiquement', 'Aznar', 'reconcourir', 'Camdessus', 'Publicis', 'Bucher', 'Santilli', 'Saint-Dizier', 'Fillioud', '1963', 'sous-estimé', 'Compu', 'Houcine', '51', 'raffermissait', 'pots-de-vin', '7,8', '100,2', 'classless', 'TFI', 'Life', 'minifundio', 'Bell', 'Ecollection', 'éminemment', 'OPFI', 'forcément', 'UAP', 'garde-fous', '2004-2005', 'Puy-Guillaume', 'en-tête', 'Girard', 'casus', '66.000', 'TSH', 'sûrement', '2971000', '1984', 'malthusienne', 'prêt-à-porter', '17.500', '196', 'Volontairement', 'Rossinot', 'cléricanaille', 'Levallois-Perret', '1,54', '7.879', 'Argos', 'rocardien', 'fourre-tout', 'Vergès', 'voiturin', 'SPPI', 'wave', 'préemballe', 'sous-traitantes', '262', 'RH', 'omnipuissante', 'Lurçat', '9.000', 'tartarea', '39,7', 'VSD', '6.800', 'Phu', 'Trautmann', 'CS', 'Elf', 'indirectement', '550', 'interférométrique', '13,45', 'Akishima', 'Précédemment', '277.000', 'GUITTON', 'plates-formes', '154.000', 'Delebarre', 'traitre', 'Bankers', '1922', '1956-1957', 'BCE', 'Dunkel', 'Semdim', 'préfèreront', '124,80', '1890', '1,96', 'Telecommunications', 'Seulement', 'Pairetto', 'quatre-vingt-dix-neuf', 'Lesur', 'est-allemande', 'SNVC', 'FGAS', 'rebattent', 'quadruplera', '37,8', 'Wirschaft', 'Power', 'Eridania', 'Finarte', 'Screg', 'Syrota', 'rarement', 'quarante-six', 'Sanson', 'Meana', '25,6', '28,4', '1622', 'Meiji', 'Chaath', 'EMEA', 'Zeller', 'Wadi', 'CEGF', 'partitocratie', '1907', 'Paris-Dakar', 'sustainable', 'Médiamat', 'systématiquement', 'CNB', 'Sraffa', 'majestueusement', 'Eutelsat', 'Dusaulx', '9,85', 'contre-publicité', '2.500', 'île-Longue', 'Rexrodt', 'Bootsy', 'Pittsburgh', 'AGEFI', 'Katowice', '1,93', 'del', 'tissue', 'CME', 'Thyssac', 'Cruise', \"chef-d'oeuvre\", 'Grim', 'Manhattan', 'Megastore', '300000', 'Donzel', 'grièvement', '1789', 'sous-marins', '5,47', '43', 'Hajj', 'Thieblin', 'là-bas', '19,7', 'North-Field', 'trente-trois', 'procès-verbal', 'psychologiquement', 'basisme', 'Aix-les-Bains', '1652', 'Das-Island', 'Lagaffe', 'FNTR', 'Limited', 'Leclerc', 'Pechiney', 'Quantas', 'Gourcuff', 'Pilkington', 'Mont-Perdu', 'Sampermans', 'Meurthe-et-Mosellan', 'Lagouche', 'pence', 'Safrane', 'Youppie', 'fr', 'Chines', 'Groupama', '49,32', 'Perraudin', 'Sega', 'Valeo', 'Bercy', 'condottieri', '18,1', 'traditionnellement', 'Mismanagement', 'Colombier-Fontaine', 'après-vente', 'Sainte-Honorine', 'BD', 'Langlois', '31,6', '12,1', 'Kantor', 'Servan', 'moi-même', 'Skov', '200000', 'SNPB', 'Newspaper', 'Matouk', 'O.S.', '0,95', 'séparabilité', 'énormément', 'BCCI', 'Falcon-10', 'Carbofrance', '2,4', 'PLS', 'essaie', '46,5', 'belli', '1960', 'Marchiani', 'Halfon', 'ci', 'Stordeur', 'IFAV', 'Zaporozhe', 'Casetta', '7,31', 'Thomson', 'DEC', 'confortablement', 'Lantra', 'Nestlé', 'Mérieux', 'Izvestia', 'bonus-malus', 'Lassalle', '330', 'personnellement', 'lave-linge', '14,5', 'CED', 'immobilier-logement', 'Christchurch', 'Egalisation', 'Tupolev-134', '2,6', 'Godard', 'Chimboraço', 'Fitzpatrick', '1,12', 'eaux-Dumez', '190.000', 'grand-mère', 'Estenssoro', 'Nokia', '13,9', 'Comédie-Française', 'Confindustria', 'avoisineraient', '46.000', '155', 'Evian', '34000', 'APCCA', 'Lausanne', 'Rawlings', 'EAI', 'Boeing-727', 'Sony', '1979', '768.1', 'GAN-CIC', '3,36', 'Rosès', 'rondelettes', '93,5', '12,2', '1866', '337', 'Gergorin', 'Ivrea', '1923', 'Fennal', 'EMNID', 'Mourmelon', '15,9', 'laconiquement', 'Rochot', 'devis-type', '13,1', '62,8', '8,35', \"'\", 'inquilinaje', 'Lanini', 'socio-économiques', '32,6', 'sud-', 'Flichy', '92', '41,19', 'Soixante-quinze', 'Council', 'conjoncturiste', '86', '24.000', 'chef-lieu', '594,135', 'Clichois', '107,92', 'LK', 'Flégny', 'Alhuwalia', 'man', 'SGAB', '1110', '8', 'Kaske', 'Kravtchouk', 'Spirou', 'Kuhn', 'latino-américains', 'Burlington', 'Haute-Savoie', 'trente-neuf', 'Nobrega', '870', 'Davigel', 'Rivoli', '632', '1.601', '1.050', '1933', 'Greenwich', '1953', 'SOLEUVRE', 'DDOS', 'Chaumet', 'année-record', 'NDR', '1.470', 'Citizens', 'Vargas', 'Bourgois', '1995', 'intégralement', 'négativement', 'Ouest-allemande', 'résiduaire', 'Charles-Emile', 'AJEF', 'Hanin', 'Aktyubinsk', '2-7113-0389-6', '19.000', 'sous-emploi', '1979-1981', '1673', '29,7', 'Zorn', '1940', 'Lucette', '5.500', 'essuie-tout', '6,7', 'Friesland', 'eurobanques', 'cul-de-sac', '471', 'Castaneda', 'USPA', 'TIPP', '2002-2004', 'nord-américains', 'antiaméricain', '76', 'désorganiserait', 'contre-pouvoirs', 'BIE', 'Fressoz', 'Lamotte', '10500', 'Devillers', 'Bas-Rhin', 'Costé', 'Fortune-France', 'DEFICIT', 'spectaculairement', 'Larkfield', 'inexorablement', 'Sendowski', 'Evobus', '599', '230', 'DeLa', '1/4', 'Franc-maçonnerie', 'Aegon', 'Blas', '40,13', 'Clionnaise', 'ACP', 'Hopkins', 'Littlehampton', 'Yoplait-Candia', 'Mesrahi', 'abciximab', '2006-08-07', 'ex-officio', 'Gulliver', 'FNMA', 'Denormandie', 'républicanisation', '3.763', 'DGCCRF', '40.000', 'Ornain', 'tout-publicité', 'Pony', 'Tardivon', 'Time', 'KLM', 'bund', 'Soulac', 'Brossault', 'hara-kiri', 'roues-pelles', 'SNECMA', 'Techniquement', '3,42', '9,9', 'Taittinger', '466', 'emprunt-phare', '1,15', 'Drut', 'Réau', 'combisme', 'Mexico-City', 'budgéter', 'Sportkanal', 'Cragnotti', 'Béarn', 'Djalloud', 'Scandédition', 'Allianz', 'Game', '770', '3.700', 'mille-feuille', 'Electrolux', 'Beazer', 'prince-de-Galles', 'Hannover', '3,3650', 'BRI', 'sévèrement', 'Vigouroux', 'RPR', 'Alenia', 'Haemmerlin', 'remboursèrent', 'Béré', 'honnêtement', '144', '158', '3.092', 'Vaux-Racine', 'Scitex', 'contre-propositions', '68000', 'Sauterne', 'N.-D.', '25', 'néo-', '1586', 'désinvestissements', 'Bayerischen', '1983-1988', 'top-down', '70-61', 'Juergen', 'Impetus', 'zapperont', 'Euronews', 'MNR', 'Calgary', '5.756,14', 'spaghetti', '5,39', 'préféreriez', '315.000', 'Hansen', 'BNCI', 'Dauzier', 'Photog', '900.000', 'CAC', '1961', 'CIVC', 'PIBOR', '11,67', 'Economica', '2,1', 'Donnell', 'Narasimha', 'AMX-30', 'Vogel', '5.759', 'Wednesday', '10.549.935', 'cinquante-quatre', 'longs-métrages', 'Mendras', 'Pif-gadget', 'UFB', 'Aspè', 'géo-politico-stratégiques', 'Polska', 'base-ball', 'Saint-Maurice', 'Tietmeyer', '340', 'Gamesa', 'Chapat', 'Scali', '39,6', 'Jean-Charles', 'sous-sols', '1788', '^', 'RMO', 'ASNL', 'XX', '1852', 'War', 'CV', 'Moubarak', 'Fermaut', 'Sao-Paulo', 'IDC', 'Deutscher', '33', 'Wagons-Lits', 'GUF', 'étalon-blé', '1985-1988', 'calmement', 'Certainement', 'Babusiaux', 'petits-enfants', 'Saint-pères', 'impunément', '75.000', '45', 'abandonnâmes', 'Cement', 'préventivement', 'UIC', 'Bettencourt', 'pro-', 'CHOMAGE', 'sapeurs-pompiers', 'homéostasique', 'après-cohabitation', '578', '!', 'états-majors', 'Transcet', '213', '2221100824', 'Crouzel', 'Taipeh', '1,90', 'GILLIAM', '11,7', 'Saint-Hubert', 'Chin-Feun', '3.515', 'Mirecurtiens', 'ETATS-UNIS', 'Pérol', 'Au-dessus', \"presqu'île\", 'Sting', '43,3', 'Milutinovic', '288', '0,25', 'Ranque', '73,9', '191', \"Poor's\", 'ATR-72', 'Talamon', 'HSBC', '1986', 'monumens', 'Italtel', '1817', 'Kok', 'OFCE-CEPII', 'Servan-Schreiber', '5,7', 'Gillet', 'époumonés', 'Haye', 'Sysorex', 'jésuitière', 'Coste-cerdan', 'Gosselin', 'Kuo', 'Lalitte', 'Independant', ':', '1741', 'Deverra', '2,28', '136', 'BMW', 'TEM', 'Karachi', '3,3538', 'Quilès', 'pipelets', 'Panouse', '290', 'eurobag', 'Foremost', 'Citibank', '7,6', 'entrainer', 'positivement', 'stockeur', '336e', 'bouche-à-oreille', 'purement', 'Balandier', 'para-', 'Pierrejean', '2,90', '216', 'Bozzo', 'Naf-Naf', 'Domo', 'nettement', 'Blum', 'mi-journée', 'Ménez', 'Arvor', '89', 'catégoriquement', 'OACI', 'Allemange', 'vulgairement', 'Lonsdale', 'destructurantes', 'géographiquement', 'Casadevall', 'vertement', 'livre-fleuve', 'Ballard', 'Grum', 'redistributifs', 'SR-71', 'emblée', 'Dow', '1.1', 'Sanofi', 'Thomson-CEA', '8,14', '314000', '333', 'Elifas', 'houilliers', 'rauco', 'PEKIN', \"dizaï'n\", 'état-major', 'nouvellement', '1,5', 'demeurerons', 'Lesieur', 'ATMA', 'rôdage', '4,50', 'Investment', 'Bonbel', 'parity', 'funds', 'désindustrialise', 'turn', 'Technip', '77', '18,27', 'Dupuy', '14', 'Sharyo', 'Kippour', 'durablement', 'Rhône-Alpes', 'ABOU-DHABI', 'FISSIER', 'largement', '928', 'FS', '28000', 'Ascom', 'cultivons', '11,25', 'Marx', '2A', 'Etat-régions', 'UTA', 'plurifonctionnalité', 'perseverare', 'Strehler', 'Fund', '17,473', 'néerlandophones', '630', '20,05', 'Correa', 'Michel-Edouard', 'perestroika', 'officiellement', 'A-26', 'UDF-CDS', 'Loire-Atlantique', 'OTAN', 'Grunelius', 'Jäggi', 'Fininvest', 'NEDC', 'Pagis', 'concernante', '9,94', 'reconductions', '19', '227.000', 'saint-sylvestre', 'interpellez', '43,1', 'hôtel-restaurant', '13,80', '552.000', 'après-référendum', 'américano-japonais', 'phonographique', 'Rubin', 'Sakik', 'Mercosur', '26,1', 'activement', 'Martignac', 'Fragonard', '0,39', 'Calciopoli', '1928', 'Bulls', 'Z', '134', '1988-1991', 'Rendez-vous', '2226116214', 'Olida', '237', 'barguigner', 'commodément', '8.000', 'Nappi', 'km2', 'AFB', '223', 'procédural', 'Raytheon', 'IP', 'Dutournier', 'Eurogen', 'sino-', 'Heureusement', 'leitender', '26', 'Sapeurs-pompiers', 'Argentina', 'Mirrors', 'all', 'ALENA', 'sociaux-démocrates', 'Burnham', 'OM-Belgrade', 'etc.', 'blocs-notes', 'outre-mer', 'Brauvilliers', 'jésuitard', 'CFE-CGC', '1,5180', 'brocca', 'Greenpeace', 'Chivasso', 'hasardait', 'Lehman', 'LMG', 'SGS', 'Jetbus', 'Lienemann', 'Planck', 'Propria', 'Chegrouche', '11.620', 'Audi', 'Prate', 'lasserait', 'Pocket', 'ADGAS', 'asphyxiait', 'Loïk', 'Lyon-Turin', 'tee-shirts', '4,85', 'Mauroy-Delors', ')', 'IIIème', 'Cerus', '19-20', 'Nordmann', '1939-1945', 'centralement', 'quasi-', 'Pinault-Printemps', 'CNP', 'obstinément', 'Bosson', 'reformatage', '1,3885', 'CGI', 'Beatty', 'Week', 'San-Gennaro', 'Croix-rouge', 'Andre', 'Rétrocommissions', 'Lanka', 'Hitler', 'bêbête-show', 'GTI', 'Litani', 'Abubakar', 'nippent', '6,24', 'Integrated', '2.971.000', 'Ruymbeke', 'refroidissante', 'Ritz', 'Djeddah', 'dénationalisations', '192,10', 'Lagourgue', 'Moverman', 'démocrate-chrétien', '32.900', 'Thames', 'unilatéralement', 'OPAC', 'Asie-Pacifique', '1912', 'Coirre', 'néocapitalisme', 'Deuxièmement', 'Trente-huit', 'Buchsbaum', 'GM', 'Roddick', 'facilement', '14.000', '49,3', 'Champs-Elysées', 'Villin', 'Paris-Montsouris', '7,09', 'gèreront', 'Toshiba', 'Saint-Louis', 'Grundig', 'linéen', 'Velasquez', 'Kookaï', 'Toluca', 'Arab', 'francilien', 'Goldfinger', 'grippa', 'Eastern', 'A2', 'SCOR', 'individuellement', 'nunuche', '406,5', 'Fievet', 'GSA', '228', '1985', 'débandades', '42,13', 'sous-jacentes', 'Dachaud', 'Investments', 'Bruneau', 'Walke', 'bivalirudine', 'Vallerysthal', '1.235', 'Jaffra', 'Syrian', '11.01.02.', 'Bergougnoux', '4600', 'GTE', 'Peybernès', '100.000', '95', '127', '120000', 'Bonn', 'Reuters', 'Houston', '26,4', 'effarouchera', 'Biafra', 'Lang', 'Zouhri', 'semi-Conductor', 'PSA-Peugeot-Citroën', 'Mercedes-Benz', 'fluctuaient', 'eurofrancs', 'SELCUK', 'recapitalisation', 'TACIS', 'Elettrofinanziaria', '293.000', '84.000', 'Port-Salut', '7,45', '0,74', 'libéralement', 'Bazire', '5-6', 'Munchener', 'cruellement', '12,4', '3.035', 'Toyota-City', \"Côte-d'ivoire\", '165', 'Dubaï', 'Grancher', 'CCF', 'States', 'Kier', '12,6', 'FMP', 'EBM', 'Mezrahi', 'Vincenne', 'politico-', 'Sapeur-pompier', '8,25', 'Welle', '2,30', '106', '102', 'Szczecin', 'justement', 'Serratosa', 'inquiéterais', 'Angiox', 'Sofil', '17,1', '49,44', '305', '10,8', 'Saint-Exupéry', 'Terminator', 'violemment', 'Klein', '12,9', 'adjurée', 'minima', 'Saône-et-Loire', '1,7', 'Vevey', 'PEA', 'Torras', 'pc', 'Gysi', 'Agip', 'laisser-faire', '2.231', '881900', 'school', 'Quatre-vingt-quatorze', 'Debonneuil', 'semi-', 'New', 'grandement', 'TEPCO', '3,37', 'sous-estimer', 'Levaux', 'Zenit', 'Wilmans', '174', 'Wagner', 'Lazard', 'humanum', 'Chéreau', '9,83', 'Scuderia', 'raccordables', 'Brillet', 'Lagha', 'ZDF', 'Certeau', 'Terraillon', 'Eridania-Béghin-Say', '48', 'Bf.G.', 'Espingo', \"O'Kane\", '7,63', 'Johannesburg', 'Little', 'Secodip', 'Maxévillois', 'Delos', 'AOC', 'Asturies', '1963-1971', 'MSF', 'Dernièrement', 'significativement', '6,9', 'Hayek', 'Sharry', 'Guillaumat', 'franc-maçon', 'Ccas', '1945', 'Cazalet', 'Smer', 'trop-tôt-considérés-comme-vieux', 'paradoxalement', 'Haute-Loire', '96,69', 'merchant', 'PSA-Renault', 'VINGT-SIX', '13,2', 'Brochand', 'France2', 'secrétaire-général', 'huasipongo', 'chronotachygraphes', 'Aquamot', 'Ericsson', 'CEL', 'souscrira', '14,8', '891', 'T', 'Pump', 'Ricard', 'dizaïgn', 'grata', 'Enron', '4,6', 'assurance-vieillesse', '437', 'Almaz', '570', 'Reebok', 'ouvertement', 'OIC', '108,20', 'Nétanyahou', 'tour-opérateurs', '1633', 'Austerlitz', '1.939,64', 'ponctuellement', '1982-1983', 'Yoshitomi', '18-24', 'non-', 'congratulaient', 'AIEJ', 'VP-Schickedanz', 'Blondelle', 'symboliquement', 'Montbéliard', '0,8', 'Louron', 'Jaans', '2.914571.14.3', '596', 'Essen', 'UBS', 'VEB', '1810', 'Madinier', '2.572.968.000', 'Insensiblement', '5,1', '750', '34', '1906', '1945-1953', 'OIRT', 'Marchelli', 'capital-confiance', 'Paris-Bordeaux', '37,9', 'Sagem', 'celle-ci', 'Hislaire', 'Bruand', '5000', 'nécessairement', '2.969', '926', 'Nederlanden', '2,11', 'Rhazza', 'soixante-quatre', \"Côtes-d'Armor\", 'Peletons', 'débarquons', 'dramatiquement', 'Child', 'soudainement', '3,4', 'qua', 'GRANDE-BRETAGNE', 'CEPME', 'outre-Atlantique', 'Portici', 'Nayirah', 'modo', 'dix-mille', '800.000', 'Compu.Add', 'infiniment', 'Isoré', 'régulièrement', 'Bianco', 'Radonet', 'Elf-Atochem', '2664', 'durillons', '112,20', 'December', 'Ras-Laffan', 'Hachette-Filipacchi', 'Wacziarg', 'Descamps', 'Dewavrin', 'ouistiti-sexe', '24,4', '3.336,16', 'Sock', 'Préalablement', ']', 'trente-cinq', 'high-tech', '11,3', 'TSW', '11,1', 'Legrand', 'Pierson-Bragard', 'OPEP', 'Veszprem', 'Electronics', '9,8', 'pluri-', 'Potentiellement', 'VGE', 'sous-estimant', 'Baker', 'CO2', '1735', 'Zuccarelli', 'Chubu', 'Buffalo', 'sagement', 'Marchianni', 'new-yorkaise', 'Guillaud', 'Maradona', 'sous-groupe', 'CGM', 'Alahadji', 'contrairement', 'Jean-Bedel', 'Tampering', 'Lagayette', 'amplement', '1802', 'Bourgoin-Jallieu', '160.000', 'R', '6,8', 'aseptisaient', 'Valbuena', 'Centrafrique', 'Labinal', 'RD192', 'judicieusement', 'Tête-Défense', 'vigoureusement', 'Jacquin', '1.831', '5,6', '190.500', 'Globalement', '300', 'Pizzetti', 'Cacheux', 'Forkum', 'Ford-Volkswagen', '1918', '1884', 'JAC', 'Stigler', 'peton', 'nerveusement', 'CEA', '1824', 'pré-formateur', 'Duluth', 'Gandillot', 'Bouxières-aux-Dames', 'cinquante-cinq', 'Munzthal', '32', 'associates', '168,3', '22', 'VVER', '76.000', '13,7', 'Singapore', 'proportionnellement', 'S', 'Slobodan', 'confraternellement', 'Duboucher', 'tourisme-loisirs', 'Louise-Yvonne', '500000', 'Montreux-Vieux', \"Abbé-de-l'Epée\", 'par-delà', 'Kissinger', 'surengagés', 'GPG', 'Debatisse', 'Meech', 'Lefur', 'AM', '7,2', 'couramment', '0', 'Levitt', 'Zealand', 'und', 'Calédonie', 'mensualisée', 'Grimblat', 'étalon-or', 'Evaluée', 'Guerra', 'franc-mark', 'Interland', '17,5', 'Delpeyrat', '2806', '3.040', 'Saint-Claude', 'insuffisamment', 'méfiée', 'reprogramment', '1,85', '336', '4,900', 'impérativement', '66,72', 'chrétiens-démocrates', 'Rapidement', '110,44', 'situ', 'Bridel', 'Das', 'rhodanien', 'campaign', 'Villeneuve-lès-Avignon', 'm', 'St-Sauveur', '232', 'entrefaites', 'Verot', '329', 'Takeshita', 'HN', 'Los', 'CFAO', '1366672', 'Roden', 'anonymement', 'F.-X.', 'Dan-Air', 'Weiss', 'NTT', '78', 'Jean-Marie', 'Saint-Brieuc', 'soixante-huitard', 'INRETS', 'Thapar', '1,79', 'Rétrospectivement', 'bâtiment-génie', 'Rabodeau', 'Gaddum', 'BGAG', 'Simplement', 'hebdomadairement', 'Dantin', 'Enel', 'Desktop', 'usine-symbole', 'Jamont', 'Poehlman', 'Pereire', 'Charvet', '10,9', 'Gattegno', 'Hermier', 'Vogica', 'Twain', 'Cogema', '19000', 'shore', \"citizen's\", '49', '252', '556', 'assurance-chômage', 'Puy-de-dôme', '515', '335', 'Defossez', 'Doumer', '1875', 'Airlines', 'Thiaucourt', 'Abidjan', 'Lobry', '31,5', 'vice-', 'Telegraph', 'valse-hésitation', 'Lorentz', 'Nexus', '2007', 'jaspinent', 'sacro-sainte', 'zappent', '317', 'I.', 'Times', 'Berghofer', 'Chérèque', 'vidéocommunications', 'déchanteront', 'George-', 'admits', 'Tanger', 'naturellement', 'FIFA', 'facteurs-clés', 'Aylwin', '1.450', 'facto', 'Fortech', '9,7', 'Cottave', 'Peake', '1949', 'Britannnique', '150.000', '791.667', 'dix-septième', 'crédit-relais', 'Baudesson', 'Afin', 'Quid', 'Sèze', '1700', 'Buenos-Aires', 'CTCOE', 'VIAL', 'scared', '761', 'Boulogne-Billancourt', 'Staedelin', 'Rollat', 'AELE', 'Churchill', 'Centro', 'quatre-vingt-quinze', '1965-1966-1967', 'assurance-dommages', '304', '1874', 'Olmex', '1800', 'Schweitzer', 'ÉTATS-UNIS', 'Caffarelli', 'hélons', 'SPQR', 'week-ends', 'Viet', 'Clearstream', 'be-bop', 'Rarement', 'correctement', 'Cemex', '73,8', '1,09', 'tam-tam', '118,7', 'Moscow', '557,6', 'Méry', 'Jean-Louis', 'Néthou', 'Csesar', 'australo-argentin', 'sous-japonaise', 'City', 'Marnaval', 'Mariet', 'ACEA', 'Jacobs', '11ème', 'follement', 'Saint-Dié', '112.000', 'coiffera', 'Epicure', 'ICL', 'GUILBERT', 'Metro', 'maritimité', 'Zaklady', '1975', '14.500', 'Wild', 'hyperinflation', '316.900', 'évènemens', '225,16', '56000', 'dix-neuvième', 'Phillips', 'sweats', 'Matra-Hachette', 'précipitamment', 'Economiquement', 'Auto-Journal', 'Fimalac', 'Cooke', '45-36', 'aequo', 'soixante-deux', 'mutuellement', '188', 'draîner', 'Backes', 'finement', 'Merrien', 'Théobald', 'TBWA', '3.146', 'ZDS', 'Avant-Scène', 'germano-britannique', 'A2-FR3', '108', 'GUB', 'Pennacchioni', 'CEFRI', 'Schuller-Maréchal', 'Radio-France', 'Miot', 'Zygomusic', '5.200', 'Option-finance', 'EEE', 'exploration-production', '147', 'Bérégovoy', '20', 'Equilbey', 'Apple', '1925', 'dynamic', 'Laffore', 'est-allemand', 'câblo-opérateurs', 'Autoliv', 'para-politiques', 'Saha', 'hors-cadre', 'SAHA', 'UMP', 'CDU', 'Robert-Schuman', 'Pollena', 'Magny-Cours', 'New-York', 'FFD', 'Dai-Ichi', 'profondément', '130', 'Maceo', '3,13', 'banlieusardisation', 'stylique', '40,1', 'Gomez', '1,20', 'liguait', 'Hughes', 'annuellement', 'Lafont', 'corresp.', 'Palomar', 'faux-semblant', '265', 'Prisunic', 'F.', '1767', 'Barbieux', 'Steinkühler', 'Liaz', 'ultramarines', '7,66', 'Vingt-trois', '131.500', '2290052418', 'Duport', 'Korkos', 'sud-africaine', 'chairman', 'Brust', 'façonniers', 'disclaimer', 'RMC', 'industrialisons', '1200', 'Soleuvre', 'Gensis', 'sous-titre', '69', 'Mathussière', 'E', 'quote-part', 'fluidités', '336.210,00', '6,4', 'complétement', 'favorablement', 'Montmartre', 'MS-DOS', '413,5', '18.400', 'Chekland', 'pur-sang', 'Louvre', 'Freedom', '203,38', 'autoparodie', 'Québecor', 'Careil', 'vingt-cinquième', 'Gatwick', 'rééchelonnements', '22,8', '229,8', 'SAGEM', 'SOFIL', 'Deutschen', \"Jeand'Heurs\", 'Nasri', 'Ursul', 'Arco', 'Obama', 'Senneville', '1932', 'défiscalise', 'Stempel', 'SGF', '23,6', '1959', 'commuait', 'tiers-monde', 'yankees', 'air-bag', 'TVHD', '92.538', 'barbarisants', '190', '68', 'Abdesslam', 'croissanterie', '7', 'GEC-Alsthom', '42,5', 'quarante-huit', 'usuellement', '1993-1997', 'Revellin-Falcoz', 'RSF', 'haridelles', 'costards', 'Havilland', '1816', 'acheminâmes', '2,2', 'Pariente', '665', 'Hocking', 'Menem', 'Waigel', 'PROMATT', '1996', 'Deschanel', 'Thabourin', 'Ratier-Figeac', 'cambistes', 'vidéo-communication', 'farouchement', 'Janeiro', 'Unilever', 'Newport', 'Penderecki', 'Satam', '167', 'Kimberly-Clark', 'nous-mêmes', 'ultraminces', 'Ségolène', 'Electroménager', 'Hranice', 'Tchernobyl', '1,58', '18', 'Worms', '193,6', 'Sibille', '232,59', 'Hollywood', 'Bourget', '2,08', 'hirudines', '66,4', 'recherche-développement', 'porte-monnaie', 'Fourcanade', 'Plantade', 'Waïkiki', 'Saurer-Diederichs', 'Lyon-Figaro', '8,71', 'Géorgique', '1.100.000', '9,50', 'quartzeux', 'CHMP', 'Blérancourt', 'Collor', 'CFCA', 'Pierre-François', 'Pei', 'Châtenois-les-Forges', '1,86', '446', '3048', 'Popi', 'GE', 'dangereusement', 'CDME', 'Nécessairement', 'Dusseldorf', 'Korauto', 'valons', '49,9', 'DDE', 'Kirch', 'matériellement', 'Funds', 'CGA', 'Five', '138000', 'isloise', 'Radio-Nostalgie', 'Nehru', 'Récemment', 'spa', '3.800', '0,54', 'Besançon', '79,5', 'Scandedition', 'SNPMI', 'Delannay', 'Bénichou', 'Barrau', 'Madelin', 'avant-garde', 'Cadbury', 'Teillol', 'GP', 'trente-huit', 'Independent', 'CLT', '236', 'franco-italienne', 'VVF', 'Hanson', '64,2', 'Hosneld', '621', 'sous-sections', 'Kohl', 'Kozyreff', 'Donnelley', 'Gutman', 'Bébéar', 'Imaginarium', 'Dynaction', 'San-Diego', 'Khmelnitski', 'LTV', 'Lepicard', 'cours-plancher', '620', '8,17', 'Marrel', 'Bundespost', 'Exor', 'Thomson-CSF', 'DAF', 'NAP', 'FC', 'SP', 'Boucault', 'Savoye', 'Nohant', 'grèverait', 'Sumitomo', 'Sajust', 'Schroders', 'Lentement', 'DOM-TOM', 'Castille', 'GAME', 'traversâmes', 'Westcountry', 'Viard', 'Schönberg', 'Neftegaz', '1.251', '47', 'story', 'pots-de-vins', 'débureaucratiser', 'Eiffel', 'Torte', 'Bensimon', 'Bosch', 'RCCL', 'UEM', '128.000', 'delà', 'découvrimes', '114', 'Yacht-club', 'Bertelsmann', 'sous-traitants', '1.525', '3,40', 'Mangin', 'CBOT', '63', 'ITC', 'MJC', '98,9', 'CCR', 'Kursaal', 'Framatome', 'Compu.', 'UNICEF', 'monte-matériaux', 'Ecosystème', 'SNA', '415', '-', 'Chugbo', 'Boutros-Ghali', 'Fualdès', 'Errare', 'télé-', 'GAO', 'Evoquant', 'Elfi', 'sous-performé', '4,9', 'Interbank', 'Mont-Saint-Martin', 'Herald', 'Miami', 'provisionnant', '1.550', ',', 'itinéraire', '2,23', '51,1', 'Héas', '0,17', 'définitivement', '1.883,64', 'Cracovie', 'Bouygues', 'Soros', 'donnant-donnant', 'Médiaspouvoirs', 'précédemment', 'ministre-président', '2.300', 'Tourmon', 'Falconbridge', 'légèrement', 'IUT', 'Japy', '19,09', 'Staline', 'Krezdorn', 'YLE', 'modestement', 'rugira', 'Barberis', 'pressurées', 'TRW', 'collectivement', 'Tecphy', 'socio-économique', 'SAMT', '14,9', 'hôtellerie-restauration', 'Ossau', 'Carrère', 'Meisonnier', '1,6', 'Biba', 'Poitou', 'Arthuis', '389', '132', 'Marland', 'Alcatel-Alsthom', '59', '70000', '1.000', 'Metall', '25000', 'cinquante-deux', '2.350', '1914-1915', '90.000', 'vice-procureure', 'pub-info', 'FSM', 'stricto', '1573', 'MFI', 'Moyen-Orient', '[', 'éco-bilan', '1,83', '2.211', 'Hafnia', 'Oliveira', 'Tuquoi', 'Clymène', 'Confederation', 'Iveco', 'PCV', 'bio-carburants', 'Croix-Rouge', '272.000', 'procroate', '1920-1921', '8,6', 'Effectivement', 'tragi-comique', 'âprement', '1950-1970', 'Iberia', 'Murielle', 'UBF', '9,4', 'Usine-Publications', '172', '1.700', 'franche-comté', '26,6', '79,95', 'pétrochimiques', 'trente-sept', '1630', '100000', 'empilaient', 'Alègre', 'député-maire', 'Ford', 'Quarante-deux', 'Réole', '598', 'accroitre', 'Dewatre', 'industrial', 'Khiva', 'rétorqueront', '180,6', '54', 'Polygraph', 'vaquait', '131', 'Grindelwald', 'Klippan', 'arrière-petits-enfants', 'Delmas', 'Ramoff', 'access', '2,13', 'Gafner', '45.701', 'feuillants', 'volontairement', 'sans-emploi', 'SNEC', '1904', 'Silco', '72.354', 'Touraine', 'Rubicon', '66', 'physiquement', 'Allensbach', 'librement', 'spontanément', 'Bari', 'Lofti', '6,70', 'Hechter', 'Gascogne', 'percutanée', 'illicitement', 'IFP', 'ISMEA', 'formellement', 'Certano', '107,3', '73.000', 'Liberto', '202.348', 'Devanlay', 'excursionne', 'Péricard', '100,68', 'Yahoo!', '255', 'recède', 'Emmaüs', 'Kombou', 'Blainville', 'bien-être', 'UNAT', 'Eisswein', 'Zapata', 'majoritairement', 'Ceausescu', 'Deux-Sèvres', 'Corbusier', 'États-UNIS', '21', 'Joffre', '671', 'Naqvi', 'Abou-Dhabi', 'Tarcy', 'IFINT', 'Cousteau', 'Keller', 'hypothécables', 'vingt-six', 'Eugénie-les-Bains', 'tonnait', '84,5', 'clopidogrel', 'Fontenay-aux-roses', 'Haute-Saône', 'Geneval', 'tripalium', 'LEBAUBE', '83,5', 'dello', 'Disneyland', '696', 'Rundfunk', 'Abondamment', 'Pintoux', 'EFI', 'memory', 'Goeudevert', 'Sept-Laux', 'trade', '128', 'connaitre', '5,18', 'fabricants-grossistes', '13.719', '44,5', 'Sécuripost', 'sous-jacente', 'AERIENS', '1971-1979', '10.422', '131.38', 'superbement', '52000', 'Lehalle', 'Bourin', '53,5', 'Hourquette', '3.090', '970', 'jalousement', 'gaîté-lyrique', '1842', '6.300', 'moins-values', 'Paris-Nantes', 'F-70', '8,24', 'mi-', '36,30', 'Norddeutscher', '19,3', 'sportivo-', 'KB', 'Rizzo', 'CFA', '37.570', 'Debré', '1,1', '62,5', 'Levrault', 'SPEP', 'récemment', '6,50', \"presqu'\", 'D', 'Sainte-Catherine', '2,96', 'Brothers', '583', 'Fitzgerald', 'sous-réseau', 'inappropriée', 'Actuellement', 'Fernsehfunk', 'René-Coty', 'tout-petits', 'sous-traitance', 'Seiters', 'repète', '64.566', 'franco-allemande', 'prétendument', 'Baudis', 'Mme', 'Harbour', 'Shackle', 'Victoire-Colonia', 'Jean-Jacques', 'Dix-sept', 'État-voyou', 'Andes', '1974-1975', 'admirablement', 'irrésistiblement', 'Scandinavie', 'Chalmin', 'BT', 'Wall', 'courageusement', 'bonasses', 'résolument', '2020', 'Libyan', 'Daimler-Benz', 'dégraissages', '1.225', 'logiquement', 'Corse-du-Sud', 'privatisables', 'Eiffage', 'SMCI', 'Köhler', 'bluff', 'Malev', 'state', 'SIMSET', 'Jaroslava', 'Haberer', 'Orlybus', 'Virgile', 'chevaucheront', 'URSS', 'Fougerolle', '99,8', 'amèrement', 'Mesguish', 'préconisons', '2012', 'Algaro', 'ANGIOX', 'Laeken', 'Mother', 'GRS', '300.000', '57', 'Demange', 'Guerry', 'Springer', 'CCSDN', 'HEC', 'Tholy', 'Arc-et-Senans', '2005', 'sextant-avionique', 'COMECON', '1982', 'Deferre', 'Belfortain', '35-49', 'Schikedanz', '71,3', 'Knicks', 'SAE-Fougerolle', 'Tretorn', 'Gulf', 'Mecklenbourg-Poméranie', '273', '248000', 'chèrement', '1747', 'Morisson', 'dezaïgn', 'COSEC', 'CECA', 'A4', 'Bodard', '1.875', 'ré-inhumé', 'Amelot', 'Jaeggi', 'Niedenhoff', 'sine', '6,1', 'M6', 'Doubin', 'Mainishi', 'II', 'Trade', 'Midy', 'DDOM', 'autoport', 'structurellement', 'Valente', 'Eurofed', '142', '3,8', 'Assad', '258', 'Fiorentina', 'FMC', 'Sarrebrück', 'pull-over', 'dession', 'expo-vente', 'CNN', 'Saxe-Anhalt', 'Chaisaz', 'publiquement', 'ressaisie', '56,4', 'DATAR', 'Saemes', \"Demak'up\", '89,9', '1,17', 'séraphisme', 'payments', 'Jospin', 'sérieusement', 'Bjoernskov', 'Glinn', 'Cadam', 'Alsac', 'Mellick', 'inégalement', 'Johnson', 'bénévolement', 'CSMF', 'SNJ', 'apparaitre', 'efforceraient', 'automne-hiver', 'israélo-arabe', 'Mulhouse-Montbéliard', 'Albessard', '111,12', 'condensats', 'Lockheed', 'Dismisses', '21.032', 'Difficilement', 'PVD', 'Sierra-Léone', '97.000', 'franchissez', '80000', 'Mitterrand', 'Vingt-six', 'mouvemens', 'Nordstern', 'PRET', 'poétiquement', 'Rockefeller', '115.000', 'Petris', 'BV', 'Daum', 'VAZQUEZ', 'Northern', 'Brunhes', '21e', 'appercevoir', '1943', 'contrits', '605', 'franco-italien', 'TSE', 'taiwanais', 'IRI', '73', 'Stojiljkovic', \"Who's\", 'Sephi', 'Corriere', '1920', 'Mc', 'Andros', '4', '162', 'Lopoukhine', 'François-Xavier', '0,06', '270', '1.300', \"Moody's\", 'Midland', '2008', 'Gildas', 'Socpresse', 'allocation-chômage', 'Dray', 'militari', 'Croissez', 'île-de-France', 'Etourneaux', 'Smouha', 'Debray', 'AMB', 'GTM-entrepose', '400.000', 'Conflans', 'Vitez', 'ejido', 'A.', 'Marie-Agnès', 'Turner', '31000', 'Fitoussi', 'IG-Metall', 'ESCA', 'INSEAD', '85.000', 'France-Maîtrise', 'GTEI', 'Mtanious', 'Jacomet', 'Edbro', \"Alpe-d'Huez\", 'Bening', 'Pellerin', 'Fujitsu', 'contre-pouvoir', 'Toulouse-Paris', '0,16', 'Meurthe-et-Moselle', 'Madine', 'Goldorak', 'Imbot', '1977', 'Pierre-Luc', 'Ominco', 'Huxley', '0,89', 'dix-sept', 'Frico', 'courûmes', 'Courcoux', 'Hoeffel', 'Warner-Seven', 'Concrètement', 'Limelight', 'Seiko', 'MPG', 'vainement', 'contre-rapport', 'Sviluppo', '467', '25.000', '1965', 'Sous-traitant', '385000', '1911', '116,5', 'camions-citernes', '23,9', '52.000', '5,53', '2006', 'Halphen', 'SCOA', '1938', 'sous-traitant', 'Bigorre', 'essaierons', 'Speedo', 'UHP', '1986-1988', '2,50', '550,3', 'priori', '3750', 'Jean-Pierre', 'maître-nageur', 'Exupéry', 'Nord-Pas-de-Calais', 'exorcisons', 'Rockwell', 'trente-et-un', 'vingt-huit', 'Abdessalam', '289,80', 'Kojak', 'soupesait', 'Charpin', '37', '/', 'GIE', 'attentivement', '72.000', 'BRGM', 'Sorcy-Saint-Martin', '37,2', '43,610', 'Ikea', 'Sirven', 'Miyazawa', 'Basse-Saxe', 'AB', 'saisie-arrêt', 'vingt-cinq', 'Zurich', '850.000', 'alu', 'recyclables', '1900', 'Wang', 'Glashuetter', '113', 'Giscard', 'fabricant-grossiste', '11e', 'Cadarache', 'Eltsine', 'Regioliner', 'SVT', 'Fokker-100', '2-F4', 'implacablement', 'FETESE', 'super-', 'bethoncourtoise', 'time', 'Vandingenen', '3,73', '1857', '1952', 'CIP', '9,30', 'Poperen', 'Manos', 'Farinet', 'Treuhandanstalt', 'Pierre-Etienne', '11,4', 'Évènement', '260.000', 'singulièrement', 'exactement', 'UDF-RPR', \"chefs-d'oeuvre\", 'Rescue', '8,2', '0,3', 'CIATER', 'Obadia', 'Néouvielle', 'XIIe', '420', 'étranglez', 'Clergerie', 'Lanièce', 'TGV-Est', 'CE2', '314', 'Ponthieux', '295,70', 'Port-Harcourt', 'Repubblica', 'Europerformance', '1493', '320', 'APS', '10,6', 'SPD', 'hébétement', 'Simone-Signoret', 'entrepreunariat', 'INAO', '15,1', 'nord-américaine', 'sommerso', 'ultrafrais', 'Confagricoltura', 'surqualifiés', '15', '959,7', 'Seine-Saint-Denis', 'préqualification', 'Arbour', '27,908', 'Saouma', 'FFP', 'hyper-', 'Contassot', 'dénervé', 'libre-service', 'chauffeurs-routiers', 'charpentent', 'Annan', '107,36', 'réindexer', 'Jacky', 'Cryns', 'Dodd-Frank', 'Jean-Paul', 'épargne-logement', 'Sp', 'contre-offensive', '2,74', 'Saint-Victor', '16,1', 'rez-de-chaussée', '182.000', 'lavanges', 'Nivel', 'Kassbohrer', 'Duhot', 'Karlsruhe', 'Scalbert', 'ville-campagne', 'Bosphore', '280.000', 'Givray', 'radicalement', '455', 'Mi-avril', '6', '335,6', 'Brandenburg', 'microélectronique', 'Edimbourg', 'OJD', 'COBAS', 'Creusot', '650.000', 'hoc', 'Gestapo', 'Jean-Michel', '8,75', '1871', 'Syveton', 'Promifi', 'enjôlements', 'World', 'Egor', '36,7', '39,5', 'Filipacchi', 'votos', 'PII', 'baisserons', 'Rocard', 'Wilhem', 'cogénération', '115', 'habilement', 'inéluctablement', '1967', 'Senderens', 'Montbrial', 'Agency', '10,50', 'Andersen', '77,8', 'fontion', 'Debauche', '544.412', 'Aubert', 'provisoirement', '34,06', 'OFCE', 'Neto', '1734', 'socio-professionnelles', 'niortaise', 'maurassiens', 'bar-tabac', 'Rajni', 'Régnier', '13,54', 'États-Unis', 'Company', 'quart-monde', 'Valat', 'Deere', 'cimentière', 'Three', 'Sonata', 'BESANÇON', 'für', 'Anvers', '50-50', 'Micra', 'Nam', 'songeâmes', '61,7', 'soi-même', 'intra-', 'sous-évalué', '23000', 'Jean-Mathieu', 'Schuller', 'vidusienne', '85', '0,96', 'MBB', 'Chaffoteaux', '6-16', '36-32', 'ABN', 'quarante-sept', 'Telescope', 'pudiquement'}\n",
      "7227\n",
      "23073\n"
     ]
    }
   ],
   "source": [
    "word_to_vec_map = {}\n",
    "unknowns = set()\n",
    "invoc = 0\n",
    "\n",
    "for w in vocabulary:\n",
    "    wn = normalize_word(w)\n",
    "    wr = remove_prefix(wn, \"-t-\")\n",
    "    wr = remove_prefix(wr, \"-\")\n",
    "    try:\n",
    "        vec = wv[wr]\n",
    "        invoc = invoc + 1\n",
    "    except:\n",
    "        unknowns.add(w)\n",
    "        vec = np.zeros(veclength)\n",
    "    word_to_vec_map[w] = vec\n",
    "\n",
    "print(unknowns)\n",
    "print(len(unknowns))\n",
    "print(invoc)"
   ]
  },
  {
   "cell_type": "markdown",
   "metadata": {},
   "source": [
    "Compute `word_to_vec_map` for all words in the vocabulary using the `cwindow` embeddings, plus the suffix and\n",
    "custom feature information"
   ]
  },
  {
   "cell_type": "code",
   "execution_count": 23,
   "metadata": {
    "collapsed": true
   },
   "outputs": [],
   "source": [
    "word_to_vec_map = {}\n",
    "unknowns = set()\n",
    "invoc = 0\n",
    "\n",
    "for w in vocabulary:\n",
    "    wn = normalize_word(w)\n",
    "    wr = remove_prefix(wn, \"-t-\")\n",
    "    wr = remove_prefix(wr, \"-\")\n",
    "    try:\n",
    "        emb = wv[wr]\n",
    "        invoc = invoc + 1\n",
    "        features = word_features(w)\n",
    "    except:\n",
    "        unknowns.add(w)\n",
    "        emb = np.zeros(veclength)\n",
    "        features = word_features(w, unknown=True)\n",
    "    suffix = suffix_vector(wn)\n",
    "    word_to_vec_map[w] = np.concatenate((emb,suffix,features))\n"
   ]
  },
  {
   "cell_type": "markdown",
   "metadata": {},
   "source": [
    "Compute `word_to_index` and `index_to_word` for the entire vocabulary "
   ]
  },
  {
   "cell_type": "code",
   "execution_count": 24,
   "metadata": {
    "collapsed": true
   },
   "outputs": [],
   "source": [
    "word_to_index, index_to_word = indexify(vocabulary)"
   ]
  },
  {
   "cell_type": "markdown",
   "metadata": {},
   "source": [
    "### 3.4. The Embedding layer\n",
    "\n",
    "In Keras, the embedding matrix is represented as a \"layer\", and maps positive integers (indices corresponding to words) into dense vectors of fixed size (the embedding vectors). It can be trained or initialized with a pretrained embedding. In this part, we create an [Embedding()](https://keras.io/layers/embeddings/) layer in Keras, and initialize it with the fastTeX vectors loaded earlier in the notebook. \n",
    "\n",
    "The `Embedding()` layer takes an integer matrix of size (batch size, max input length) as input. This corresponds to sentences converted into lists of indices (integers), as shown in the figure below.\n",
    "\n",
    "The largest integer (i.e. word index) in the input should be no larger than the vocabulary size. The layer outputs an array of shape (batch size, max input length, dimension of word vectors).\n",
    "\n",
    "We first convert all our training sentences into lists of indices, and then zero-pad all these lists so that their length is the length of the longest sentence. \n",
    "\n",
    "**TODO**: I'd like try if it makes any difference to add the </s> end tag to the end of each sentence. "
   ]
  },
  {
   "cell_type": "markdown",
   "metadata": {},
   "source": [
    "Run the following cell to check what `sentences_to_indices()` does, and check your results."
   ]
  },
  {
   "cell_type": "code",
   "execution_count": 25,
   "metadata": {},
   "outputs": [
    {
     "data": {
      "text/plain": [
       "array([[  4816.,  24327.,  25013., ...,      0.,      0.,      0.],\n",
       "       [  5571.,  11400.,   7950., ...,      0.,      0.,      0.],\n",
       "       [  6609.,  29463.,  13376., ...,      0.,      0.,      0.],\n",
       "       ..., \n",
       "       [  1126.,  28292.,  13915., ...,      0.,      0.,      0.],\n",
       "       [ 10367.,   8928.,  28429., ...,      0.,      0.,      0.],\n",
       "       [  5571.,  19012.,  17529., ...,      0.,      0.,      0.]])"
      ]
     },
     "execution_count": 25,
     "metadata": {},
     "output_type": "execute_result"
    }
   ],
   "source": [
    "sentences_to_indices(X_train, word_to_index, maxLen)"
   ]
  },
  {
   "cell_type": "markdown",
   "metadata": {},
   "source": [
    "We now build the `Embedding()` layer for use with Keras, using pre-trained word vectors. After this layer is built, we can pass the output of `sentences_to_indices()` to it as an input, and the `Embedding()` layer will return the word embeddings for a sentence. \n",
    "\n",
    "We use the following steps:\n",
    "1. Initialize the embedding matrix as a numpy array of zeroes with the correct shape.\n",
    "2. Fill in the embedding matrix with all the word embeddings extracted from `word_to_vec_map`.\n",
    "3. Define Keras embedding layer. Use [Embedding()](https://keras.io/layers/embeddings/). Be sure to make this layer non-trainable, by setting `trainable = False` when calling `Embedding()`. If you were to set `trainable = True`, then it will allow the optimization algorithm to modify the values of the word embeddings. \n",
    "4. Set the embedding weights to be equal to the embedding matrix "
   ]
  },
  {
   "cell_type": "code",
   "execution_count": 26,
   "metadata": {
    "collapsed": true
   },
   "outputs": [],
   "source": [
    "\n",
    "def pretrained_embedding_layer(word_to_vec_map, word_to_index):\n",
    "    \"\"\"\n",
    "    Creates a Keras Embedding() layer and loads in pre-trained fastText vectors.\n",
    "    \n",
    "    Arguments:\n",
    "    word_to_vec_map -- dictionary mapping words to their GloVe vector representation.\n",
    "    word_to_index -- dictionary mapping from words to their indices in the vocabulary\n",
    "\n",
    "    Returns:\n",
    "    embedding_layer -- pretrained layer Keras instance\n",
    "    \"\"\"\n",
    "    \n",
    "    vocab_len = len(word_to_index) + 2                  # adding 1 to fit Keras embedding (requirement)\n",
    "    emb_dim = word_to_vec_map[\"est\"].shape[0]      # define dimensionality of your GloVe word vectors (= 50)\n",
    "    \n",
    "    # Initialize the embedding matrix as a numpy array of zeros of shape (vocab_len, dimensions of word vectors = emb_dim)\n",
    "    emb_matrix = np.zeros((vocab_len,emb_dim))\n",
    "    \n",
    "    # Set each row \"index\" of the embedding matrix to be the word vector representation of the \"index\"th word of the vocabulary\n",
    "    for word, index in word_to_index.items():\n",
    "        emb_matrix[index, :] = word_to_vec_map[word]\n",
    "\n",
    "    # Define Keras embedding layer with the correct output/input sizes, make it trainable. Use Embedding(...). Make sure to set trainable=False. \n",
    "    embedding_layer = Embedding(vocab_len,emb_dim,trainable=False,mask_zero=True)\n",
    "    ### END CODE HERE ###\n",
    "\n",
    "    # Build the embedding layer, it is required before setting the weights of the embedding layer. Do not modify the \"None\".\n",
    "    embedding_layer.build((None,))\n",
    "    \n",
    "    # Set the weights of the embedding layer to the embedding matrix. Your layer is now pretrained.\n",
    "    embedding_layer.set_weights([emb_matrix])\n",
    "    \n",
    "    return embedding_layer"
   ]
  },
  {
   "cell_type": "code",
   "execution_count": 27,
   "metadata": {},
   "outputs": [
    {
     "name": "stdout",
     "output_type": "stream",
     "text": [
      "weights[0][2][1] = -0.179958\n"
     ]
    }
   ],
   "source": [
    "embedding_layer = pretrained_embedding_layer(word_to_vec_map, word_to_index)\n",
    "print(\"weights[0][2][1] =\", embedding_layer.get_weights()[0][2][1])"
   ]
  },
  {
   "cell_type": "markdown",
   "metadata": {},
   "source": [
    "**Expected Output**:\n",
    "\n",
    "<table>\n",
    "    <tr>\n",
    "        <td>\n",
    "            **weights[0][2][1] =**\n",
    "        </td>\n",
    "        <td>\n",
    "           0.19175\n",
    "        </td>\n",
    "    </tr>\n",
    "</table>"
   ]
  },
  {
   "cell_type": "markdown",
   "metadata": {},
   "source": [
    "## 4. Building the Part-of-Speech tagger\n",
    "\n",
    "We now build the POS-tagger model using the previously built enbedding layer and feed its output to a bidirectional LSTM network with 128 states in each direction. \n",
    "\n"
   ]
  },
  {
   "cell_type": "code",
   "execution_count": null,
   "metadata": {
    "collapsed": true
   },
   "outputs": [],
   "source": [
    "# POS_model\n",
    "\n",
    "def POS_model(input_shape, word_to_vec_map, word_to_index):\n",
    "    \"\"\"\n",
    "    Function creating the graph for the part-of-speech tagger model\n",
    "    \n",
    "    Arguments:\n",
    "    input_shape -- shape of the input, usually (max_len,)\n",
    "    word_to_vec_map -- dictionary mapping every word in a vocabulary into its fastText vector representation\n",
    "    word_to_index -- dictionary mapping from words to their indices in the vocabulary\n",
    "\n",
    "    Returns:\n",
    "    model -- a model instance in Keras\n",
    "    \"\"\"\n",
    "    \n",
    "    # Define sentence_indices as the input of the graph, it should be of shape input_shape and dtype 'int32' (as it contains indices).\n",
    "    sentence_indices = Input(shape = input_shape, dtype = 'int32')\n",
    "    \n",
    "    # Create the embedding layer pretrained with GloVe Vectors (≈1 line)\n",
    "    embedding_layer = pretrained_embedding_layer(word_to_vec_map, word_to_index)\n",
    "    \n",
    "    # Propagate sentence_indices through your embedding layer, you get back the embeddings\n",
    "    embeddings = embedding_layer(sentence_indices)   \n",
    "    \n",
    "    # Propagate the embeddings through an LSTM layer with 128-dimensional hidden state\n",
    "    # returning a batch of sequences.\n",
    "    X = LSTM(128, return_sequences=True)(embeddings)\n",
    "    X = BatchNormalization()(X)\n",
    "    Y = Dropout(0.5)(X)\n",
    "    # Add a (time distributed) Dense layer followed by a softmax activation\n",
    "    Y = TimeDistributed(Dense(numClasses, activation='softmax'))(Y)\n",
    "    \n",
    "    # Create Model instance which converts sentence_indices into X.\n",
    "    model = Model(inputs=sentence_indices,outputs=Y)\n",
    "        \n",
    "    return model"
   ]
  },
  {
   "cell_type": "markdown",
   "metadata": {},
   "source": [
    "Run the following cell to create your model and check its summary. Because all sentences in the dataset are less than 10 words, we chose `max_len = 10`.  You should see your architecture, it uses \"20,223,927\" parameters, of which 20,000,050 (the word embeddings) are non-trainable, and the remaining 223,877 are. Because our vocabulary size has 400,001 words (with valid indices from 0 to 400,000) there are 400,001\\*50 = 20,000,050 non-trainable parameters. "
   ]
  },
  {
   "cell_type": "code",
   "execution_count": null,
   "metadata": {
    "collapsed": true,
    "scrolled": false
   },
   "outputs": [],
   "source": [
    "model = POS_model((maxLen,), word_to_vec_map, word_to_index)\n",
    "model.summary()"
   ]
  },
  {
   "cell_type": "markdown",
   "metadata": {},
   "source": [
    "As usual, after creating your model in Keras, you need to compile it and define what loss, optimizer and metrics your are want to use. Compile your model using `categorical_crossentropy` loss, `adam` optimizer and `['accuracy']` metrics:"
   ]
  },
  {
   "cell_type": "code",
   "execution_count": null,
   "metadata": {
    "collapsed": true
   },
   "outputs": [],
   "source": [
    "model.compile(loss='categorical_crossentropy', optimizer='adam', metrics=['accuracy'])"
   ]
  },
  {
   "cell_type": "markdown",
   "metadata": {},
   "source": [
    "It's time to train your model. Your Emojifier-V2 `model` takes as input an array of shape (`m`, `max_len`) and outputs probability vectors of shape (`m`, `number of classes`). We thus have to convert X_train (array of sentences as strings) to X_train_indices (array of sentences as list of word indices), and Y_train (labels as indices) to Y_train_oh (labels as one-hot vectors)."
   ]
  },
  {
   "cell_type": "code",
   "execution_count": null,
   "metadata": {
    "collapsed": true
   },
   "outputs": [],
   "source": [
    "X_train_indices = lists_to_indices(X_train, word_to_index, maxLen)\n",
    "Y_train_indices = lists_to_indices(Y_train, pos2_to_index, maxLen)\n",
    "Y_train_oh = to_categorical(Y_train_indices, num_classes=numClasses)"
   ]
  },
  {
   "cell_type": "code",
   "execution_count": null,
   "metadata": {
    "collapsed": true
   },
   "outputs": [],
   "source": [
    "print(Y_train_indices[1])\n",
    "print(Y_train_oh[1])"
   ]
  },
  {
   "cell_type": "code",
   "execution_count": null,
   "metadata": {
    "collapsed": true
   },
   "outputs": [],
   "source": [
    "X_dev_indices = lists_to_indices(X_dev, word_to_index, max_len = maxLen)\n",
    "Y_dev_indices = lists_to_indices(Y_dev, pos2_to_index, max_len = maxLen)\n",
    "Y_dev_oh = to_categorical(Y_dev_indices, num_classes = numClasses)"
   ]
  },
  {
   "cell_type": "markdown",
   "metadata": {},
   "source": [
    "Fit the Keras model on `X_train_indices` and `Y_train_oh`. We will use `epochs = 50` and `batch_size = 32`."
   ]
  },
  {
   "cell_type": "code",
   "execution_count": null,
   "metadata": {
    "collapsed": true,
    "scrolled": true
   },
   "outputs": [],
   "source": [
    "history = model.fit(X_train_indices, Y_train_oh, epochs = 30, batch_size = 32, shuffle=True, validation_data=(X_dev_indices,Y_dev_oh))"
   ]
  },
  {
   "cell_type": "markdown",
   "metadata": {},
   "source": [
    "Your model should perform close to **100% accuracy** on the training set. The exact accuracy you get may be a little different. Run the following cell to evaluate your model on the test set. "
   ]
  },
  {
   "cell_type": "code",
   "execution_count": null,
   "metadata": {
    "collapsed": true
   },
   "outputs": [],
   "source": [
    "plt.plot(history.history['loss'])\n",
    "plt.plot(history.history['val_loss'])\n",
    "plt.title('model train vs validation loss')\n",
    "plt.ylabel('loss')\n",
    "plt.xlabel('epoch')\n",
    "plt.legend(['train', 'validation'], loc='upper right')\n",
    "plt.show()"
   ]
  },
  {
   "cell_type": "code",
   "execution_count": null,
   "metadata": {
    "collapsed": true
   },
   "outputs": [],
   "source": [
    "plt.plot(history.history['acc'])\n",
    "plt.plot(history.history['val_acc'])\n",
    "plt.title('model train vs validation accuracy')\n",
    "plt.ylabel('accuracy')\n",
    "plt.xlabel('epoch')\n",
    "plt.legend(['train', 'validation'], loc='upper right')\n",
    "plt.show()"
   ]
  },
  {
   "cell_type": "code",
   "execution_count": null,
   "metadata": {
    "collapsed": true,
    "scrolled": true
   },
   "outputs": [],
   "source": [
    "loss, acc = model.evaluate(X_dev_indices, Y_dev_oh)\n",
    "print()\n",
    "print(\"Dev accuracy = \", acc)"
   ]
  },
  {
   "cell_type": "markdown",
   "metadata": {},
   "source": [
    "You should get a test accuracy of about 94.8% for a vanilla model using only aa1.txt.\n",
    "A vanilla POS model on the full training set gets a dev accuracy of 98.50%!"
   ]
  },
  {
   "cell_type": "code",
   "execution_count": null,
   "metadata": {
    "collapsed": true
   },
   "outputs": [],
   "source": [
    "X_dev_indices = lists_to_indices(X_test, word_to_index, maxLen)\n",
    "pred = model.predict(X_dev_indices)\n",
    "\n",
    "# print('           '+ label_to_emoji(0)+ '    ' + label_to_emoji(1) + '    ' +  label_to_emoji(2)+ '    ' + label_to_emoji(3)+'   ' + label_to_emoji(4))\n",
    "# print(pd.crosstab(Y_dev, pred_test.reshape(56,), rownames=['Actual'], colnames=['Predicted'], margins=True))\n",
    "plot_confusion_matrix(Y_dev, pred)"
   ]
  },
  {
   "cell_type": "code",
   "execution_count": null,
   "metadata": {
    "collapsed": true
   },
   "outputs": [],
   "source": [
    "# This code allows you to see the mislabelled examples\n",
    "\n",
    "y_dev_oh = to_categorical(Y_dev_indices, num_classes = numClasses)\n",
    "X_dev_indices = lists_to_indices(X_dev, word_to_index, maxLen)\n",
    "pred = model.predict(X_dev_indices)\n",
    "\n",
    "correct = 0\n",
    "wrong = 0\n",
    "\n",
    "\n",
    "for i in range(len(X_dev)-1):\n",
    "    for j in range(len(X_dev[i])):\n",
    "        num = np.argmax(pred[i][j])\n",
    "        if(num != Y_dev_indices[i][j]):\n",
    "            wrong = wrong + 1\n",
    "            print('Expected POS tag: '+ X_dev[i][j] + '|' + Y_dev[i][j] + ' prediction: '+ X_dev[i][j] + '|' + index_to_pos2[num])\n",
    "        else:\n",
    "            correct = correct + 1\n",
    "total = wrong + correct\n",
    "print(\"Total  : \", total)\n",
    "print(\"Correct: \", correct)\n",
    "print(\"Wrong  : \", wrong)\n",
    "\n",
    "cpct = (100*correct)/total\n",
    "wpct = (100*wrong)/total\n",
    "print(\"Correct %: \", cpct)\n",
    "print(\"Wrong   %: \", wpct)"
   ]
  },
  {
   "cell_type": "markdown",
   "metadata": {},
   "source": [
    "### POStagger results on development set\n",
    "\n",
    "| tagset | LTSM units | batchnorm | dropout | epochs | results |\n",
    "|:-----|---------:|:----------:|-------:|-----:|----------:|\n",
    "| tt | 128 | no | 0 |  50 | 98.50 |\n",
    "| tt | 128 | yes | 0.5 | 30 | 98.76 |\n"
   ]
  },
  {
   "cell_type": "code",
   "execution_count": null,
   "metadata": {
    "collapsed": true
   },
   "outputs": [],
   "source": [
    "model.save('tt_pos.h5')"
   ]
  },
  {
   "cell_type": "markdown",
   "metadata": {},
   "source": [
    "## 5. Training the Supertagger\n",
    "\n"
   ]
  },
  {
   "cell_type": "markdown",
   "metadata": {},
   "source": [
    "### Prepare the training and development data\n",
    "\n",
    "We split the data as before, only using Z (supertags) instead of Y2 (treetagger POStag set) as the goal"
   ]
  },
  {
   "cell_type": "code",
   "execution_count": 28,
   "metadata": {},
   "outputs": [
    {
     "name": "stdout",
     "output_type": "stream",
     "text": [
      "Train:  (9449,)\n",
      "Test:   (3150,)\n",
      "Dev:    (3150,)\n"
     ]
    }
   ],
   "source": [
    "# split the training data into the standard 60% train, 20% dev, 20% test \n",
    "X_train, X_testdev, Y_super_train, Y_super_testdev = train_test_split(X, Z, test_size=0.4)\n",
    "X_test, X_dev, Y_super_test, Y_super_dev = train_test_split(X_testdev, Y_super_testdev, test_size=0.5)\n",
    "print(\"Train: \", X_train.shape)\n",
    "print(\"Test:  \", X_test.shape)\n",
    "print(\"Dev:   \", X_dev.shape)"
   ]
  },
  {
   "cell_type": "markdown",
   "metadata": {},
   "source": [
    "#### Prepare training data\n",
    "\n",
    "Transform the training data into the form most convenient for the supertag model"
   ]
  },
  {
   "cell_type": "code",
   "execution_count": 29,
   "metadata": {
    "collapsed": true
   },
   "outputs": [],
   "source": [
    "X_train_indices = lists_to_indices(X_train, word_to_index, maxLen)\n",
    "Y_super_train_indices = lists_to_indices(Y_super_train, super_to_index, maxLen)\n",
    "Y_super_train_oh = to_categorical(Y_super_train_indices, num_classes=numSuperClasses)"
   ]
  },
  {
   "cell_type": "markdown",
   "metadata": {},
   "source": [
    "#### Prepare development data\n",
    "\n",
    "Do the same for the development data. The development data allows us to check for over/underfitting."
   ]
  },
  {
   "cell_type": "code",
   "execution_count": 30,
   "metadata": {
    "collapsed": true
   },
   "outputs": [],
   "source": [
    "X_dev_indices = lists_to_indices(X_dev, word_to_index, max_len = maxLen)\n",
    "Y_super_dev_indices = lists_to_indices(Y_super_dev, super_to_index, max_len = maxLen)\n",
    "Y_super_dev_oh = to_categorical(Y_super_dev_indices, num_classes = numSuperClasses)"
   ]
  },
  {
   "cell_type": "markdown",
   "metadata": {},
   "source": [
    "### Define the model\n",
    "\n",
    "We define the structure of the model"
   ]
  },
  {
   "cell_type": "code",
   "execution_count": null,
   "metadata": {
    "collapsed": true
   },
   "outputs": [],
   "source": [
    "# Super_model\n",
    "# this is a direct supertag model not using the part-of-speech tags\n",
    "\n",
    "def Super_model(input_shape, word_to_vec_map, word_to_index):\n",
    "    \"\"\"\n",
    "    Function creating the direct supertagger model's graph\n",
    "    \n",
    "    Arguments:\n",
    "    input_shape -- shape of the input, usually (max_len,)\n",
    "    word_to_vec_map -- dictionary mapping every word in a vocabulary into its fastText vector representation\n",
    "    word_to_index -- dictionary mapping from words to their indices in the vocabulary\n",
    "\n",
    "    Returns:\n",
    "    model -- a model instance in Keras\n",
    "    \"\"\"\n",
    "    \n",
    "    # Define sentence_indices as the input of the graph, it should be of shape input_shape and dtype 'int32' (as it contains indices).\n",
    "    sentence_indices = Input(shape = input_shape, dtype = 'int32')\n",
    "    \n",
    "    # Create the embedding layer pretrained with GloVe Vectors (≈1 line)\n",
    "    embedding_layer = pretrained_embedding_layer(word_to_vec_map, word_to_index)\n",
    "    \n",
    "    # Propagate sentence_indices through your embedding layer, you get back the embeddings\n",
    "    embeddings = embedding_layer(sentence_indices)   \n",
    "    \n",
    "    # Propagate the embeddings through an LSTM layer with 128-dimensional hidden state\n",
    "    # returning a batch of sequences.\n",
    "    X = LSTM(256, return_sequences=True)(embeddings) \n",
    "    X = BatchNormalization()(X)\n",
    "    X = Dropout(0.5)(X)\n",
    "\n",
    "#    merged = concatenate([embeddings,X])\n",
    "#    X = LSTM(128, return_sequences=True)(merged) \n",
    "#    X = BatchNormalization()(X)\n",
    "#    X = Dropout(0.5)(X)\n",
    "\n",
    "    # Add a (time distributed) Dense layer followed by a softmax activation\n",
    "    X = TimeDistributed(Dense(numSuperClasses, activation='softmax'))(X)\n",
    "    \n",
    "    # Create Model instance which converts sentence_indices into X.\n",
    "    model = Model(inputs=sentence_indices,outputs=X)\n",
    "        \n",
    "    return model"
   ]
  },
  {
   "cell_type": "code",
   "execution_count": null,
   "metadata": {},
   "outputs": [],
   "source": [
    "supermodel = Super_model((maxLen,), word_to_vec_map, word_to_index)\n",
    "supermodel.summary()"
   ]
  },
  {
   "cell_type": "code",
   "execution_count": null,
   "metadata": {
    "collapsed": true
   },
   "outputs": [],
   "source": [
    "supermodel.compile(loss='categorical_crossentropy', optimizer='adam', metrics=['accuracy'])"
   ]
  },
  {
   "cell_type": "code",
   "execution_count": null,
   "metadata": {},
   "outputs": [],
   "source": [
    "history = supermodel.fit(X_train_indices, Y_super_train_oh, epochs = 50, batch_size = 64, shuffle=True, validation_data=(X_dev_indices,Y_super_dev_oh))"
   ]
  },
  {
   "cell_type": "code",
   "execution_count": null,
   "metadata": {
    "collapsed": true,
    "scrolled": true
   },
   "outputs": [],
   "source": [
    "plt.plot(history.history['loss'])\n",
    "plt.plot(history.history['val_loss'])\n",
    "plt.title('model train vs validation loss')\n",
    "plt.ylabel('loss')\n",
    "plt.xlabel('epoch')\n",
    "plt.legend(['train', 'validation'], loc='upper right')\n",
    "plt.show()"
   ]
  },
  {
   "cell_type": "code",
   "execution_count": null,
   "metadata": {
    "collapsed": true,
    "scrolled": true
   },
   "outputs": [],
   "source": [
    "plt.plot(history.history['acc'])\n",
    "plt.plot(history.history['val_acc'])\n",
    "plt.title('model train vs validation accuracy')\n",
    "plt.ylabel('accuracy')\n",
    "plt.xlabel('epoch')\n",
    "plt.legend(['train', 'validation'], loc='upper right')\n",
    "plt.show()"
   ]
  },
  {
   "cell_type": "code",
   "execution_count": null,
   "metadata": {
    "collapsed": true
   },
   "outputs": [],
   "source": [
    "loss, acc = supermodel.evaluate(X_dev_indices, Y_super_dev_oh)\n",
    "print()\n",
    "print(\"Test accuracy = \", acc)"
   ]
  },
  {
   "cell_type": "code",
   "execution_count": null,
   "metadata": {
    "collapsed": true
   },
   "outputs": [],
   "source": [
    "supermodel.save('supertagger.h5')"
   ]
  },
  {
   "cell_type": "code",
   "execution_count": null,
   "metadata": {
    "collapsed": true
   },
   "outputs": [],
   "source": [
    "# This code allows you to see the mislabelled examples\n",
    "\n",
    "y_dev_oh = to_categorical(Y_super_dev_indices, num_classes = numSuperClasses)\n",
    "X_dev_indices = lists_to_indices(X_dev, word_to_index, maxLen)\n",
    "pred = supermodel.predict(X_dev_indices)\n",
    "\n",
    "correct = 0\n",
    "wrong = 0\n",
    "\n",
    "f = open('superlog_raw.txt', 'w')\n",
    "for i in range(len(X_dev)-1):\n",
    "    for j in range(len(X_dev[i])):\n",
    "        num = np.argmax(pred[i][j])\n",
    "        if(num != Y_super_dev_indices[i][j]):\n",
    "            wrong = wrong + 1\n",
    "            f.write(X_dev[i][j]+\"|\"+Y_super_dev[i][j]+\"|\"+index_to_super[num]+\"\\n\")\n",
    "            print('Expected supertag: '+ X_dev[i][j] + '|' + Y_super_dev[i][j] + ' prediction: '+ X_dev[i][j] + '|' + index_to_super[num])\n",
    "        else:\n",
    "            correct = correct + 1\n",
    "f.close()\n",
    "total = wrong + correct\n",
    "\n",
    "print(\"Total  : \", total)\n",
    "print(\"Correct: \", correct)\n",
    "print(\"Wrong  : \", wrong)\n",
    "\n",
    "cpct = (100*correct)/total\n",
    "wpct = (100*wrong)/total\n",
    "print(\"Correct %: \", cpct)\n",
    "print(\"Wrong   %: \", wpct)"
   ]
  },
  {
   "cell_type": "code",
   "execution_count": null,
   "metadata": {
    "collapsed": true
   },
   "outputs": [],
   "source": [
    "y_dev_oh = to_categorical(Y_super_dev_indices, num_classes = numSuperClasses)\n",
    "X_dev_indices = lists_to_indices(X_dev, word_to_index, maxLen)\n",
    "pred = supermodel.predict(X_dev_indices)\n",
    "\n",
    "correct = 0\n",
    "wrong = 0\n",
    "\n",
    "fo = open('super_out.txt', 'w')\n",
    "fc = open('super_correct.txt', 'w')\n",
    "for i in range(len(X_dev)-1):\n",
    "    for j in range(len(X_dev[i])):\n",
    "        num = np.argmax(pred[i][j])\n",
    "        fc.write(X_dev[i][j]+\"|\"+Y_super_dev[i][j]+\"\\n\")\n",
    "        fo.write(X_dev[i][j]+\"|\"+index_to_super[num]+\"\\n\")\n",
    "fc.close()\n",
    "fo.close()"
   ]
  },
  {
   "cell_type": "markdown",
   "metadata": {},
   "source": [
    "### Supertagger results on development set\n",
    "\n",
    "\n",
    "Vanilla LSTM model (new feature set 20180309)\n",
    "\n",
    "| embedding | dimension| LTSM units | batchnorm | dropout | epochs | train | devel |\n",
    "|:-----|-----:|---------:|:----------:|-------:|----:|-----:|----------:|\n",
    "| cwindow | 50 | 256 | yes | .5 |  10 | 80.66 | 81.12 |\n",
    "| cwindow | 50 | 256 | yes | .5 |  30 | 85.43 | 82.04 |\n",
    "| cwindow | 50 | 256 | yes | .5 |  50 |  |  |\n",
    "\n",
    "| embedding | dimension| LTSM units | batchnorm | dropout | epochs | train | devel |\n",
    "|:-----|-----:|---------:|:----------:|-------:|----:|-----:|----------:|\n",
    "| cwindow | 50 | 128 | yes | .5 |  10 | 79.57 | 80.53 |\n",
    "| cwindow | 50 | 128 | yes | .5 |  30 | 82.44 | 81.93 |\n",
    "| cwindow | 50 | 128 | yes | .5 |  50 | 84.16 | 82.01 |\n",
    "\n",
    "\n",
    "Vanilla LSTM model (new feature set 20180309)\n",
    "\n",
    "| embedding | dimension| LTSM units | batchnorm | dropout | epochs | train | devel |\n",
    "|:-----|-----:|---------:|:----------:|-------:|----:|-----:|----------:|\n",
    "| cwindow | 50 | 128 | yes | .5 |  10 | 79.42 | 80.70 |\n",
    "| cwindow | 50 | 128 | yes | .5 |  30 | 82.40 | 81.72 |\n",
    "| cwindow | 50 | 128 | yes | .5 |  50 | 84.15 | 82.12 |\n",
    "\n",
    "\n",
    "Vanilla LSTM model (new feature set 20180308)\n",
    "\n",
    "| embedding | dimension| LTSM units | batchnorm | dropout | epochs | train | devel |\n",
    "|:-----|-----:|---------:|:----------:|-------:|----:|-----:|----------:|\n",
    "| cwindow | 50 | 128 | yes | .5 |  10 | 79.18 | 80.01 |\n",
    "| cwindow | 50 | 128 | yes | .5 |  30 | 82.13 | 81.35 |\n",
    "| cwindow | 50 | 128 | yes | .5 |  50 | 83.78 | 81.72 |\n",
    "\n",
    "Vanilla LSTM model (old feature set)\n",
    "\n",
    "| embedding | dimension| LTSM units | batchnorm | dropout | epochs | results |\n",
    "|:-----|-----:|---------:|:----------:|-------:|----:|----------:|\n",
    "| fastText | 200 | 128 | yes | .2 |  50 | 80.21 |\n",
    "| cwindow | 50 | 128 | yes | .2 | 50 | 75.82 |\n",
    "| cwindow | 50 | 128 | yes | .4 | 50 | 79.25  | \n",
    "| cwindow | 50 | 128 | yes | .5 | 50 | 79.59  |\n",
    "| cwindow | 50 | 128 | no | .5 |  10 | 73.60 |\n",
    "| cwindow | 50 | 128 | yes | .5 |  10 | 78.27 |\n",
    "| cwindow | 50 | 128 | no | .5 |  30 | 77.89 |\n",
    "| cwindow | 50 | 128 | yes | .5 |  30 | 79.64 |\n",
    "\n",
    "Second LSTM layer\n",
    "\n",
    "| embedding | dimension| LTSM units | batchnorm | dropout | epochs | results |\n",
    "|:-----|-----:|---------:|:----------:|-------:|----:|----------:|\n",
    "| cwindow | 50 | 2 * 128 | yes | .5 | 10 | 78.32  |\n",
    "| cwindow | 50 | 2 * 128 | yes | .5 | 30 | 80.10  |\n",
    "| cwindow | 50 | 2 * 128 | yes | .5 | 50 |  80.55 |\n",
    "\n",
    "Second LSTM layer plus forward mapping of the word embeddings\n",
    "\n",
    "| embedding | dimension| LTSM units | batchnorm | dropout | epochs | results |\n",
    "|:-----|-----:|---------:|:----------:|-------:|----:|----------:|\n",
    "| cwindow | 50 | 2 * 128 | yes | .5 | 10 |  78.50 |\n",
    "| cwindow | 50 | 2 * 128 | yes | .5 | 30 |  80.45 |\n",
    "| cwindow | 50 | 2 * 128 | yes | .5 | 50 |  80.34 |"
   ]
  },
  {
   "cell_type": "code",
   "execution_count": null,
   "metadata": {
    "collapsed": true
   },
   "outputs": [],
   "source": [
    "tag_sequence(\"yves acceptera le lait\", model, word_to_index, index_to_pos2, maxLen)"
   ]
  },
  {
   "cell_type": "code",
   "execution_count": null,
   "metadata": {
    "collapsed": true
   },
   "outputs": [],
   "source": [
    "tag_sequence(\"yves acceptera le lait\", superposmodel, word_to_index, index_to_super, maxLen)"
   ]
  },
  {
   "cell_type": "code",
   "execution_count": null,
   "metadata": {
    "collapsed": true
   },
   "outputs": [],
   "source": [
    "print_tagged(X_dev, model, word_to_index, index_to_pos2, maxLen)"
   ]
  },
  {
   "cell_type": "code",
   "execution_count": null,
   "metadata": {
    "collapsed": true
   },
   "outputs": [],
   "source": [
    "print_tagged(X_dev[1:5], supermodel, word_to_index, index_to_super, maxLen)"
   ]
  },
  {
   "cell_type": "code",
   "execution_count": null,
   "metadata": {
    "collapsed": true
   },
   "outputs": [],
   "source": [
    "print_tagged_beta(X_dev[1:4], superposmodel, 0.1, word_to_index, index_to_super, maxLen)"
   ]
  },
  {
   "cell_type": "code",
   "execution_count": null,
   "metadata": {
    "collapsed": true
   },
   "outputs": [],
   "source": [
    "eval_beta(X_dev, Y_super_dev, supermodel, word_to_index, super_to_index, index_to_super, 0.01, maxLen)"
   ]
  },
  {
   "cell_type": "code",
   "execution_count": null,
   "metadata": {
    "collapsed": true
   },
   "outputs": [],
   "source": []
  },
  {
   "cell_type": "markdown",
   "metadata": {},
   "source": [
    "## Combined part-of-speech and supertagger"
   ]
  },
  {
   "cell_type": "markdown",
   "metadata": {},
   "source": [
    "### Prepare training and development data"
   ]
  },
  {
   "cell_type": "code",
   "execution_count": 18,
   "metadata": {},
   "outputs": [
    {
     "name": "stdout",
     "output_type": "stream",
     "text": [
      "Train:  (9449,)\n",
      "Test:   (3150,)\n",
      "Dev:    (3150,)\n"
     ]
    }
   ],
   "source": [
    "# split the training data into the standard 60% train, 20% dev, 20% test \n",
    "X_train, X_testdev, Y_super_train, Y_super_testdev = train_test_split(X, Z, test_size=0.4)\n",
    "X_test, X_dev, Y_super_test, Y_super_dev = train_test_split(X_testdev, Y_super_testdev, test_size=0.5)\n",
    "print(\"Train: \", X_train.shape)\n",
    "print(\"Test:  \", X_test.shape)\n",
    "print(\"Dev:   \", X_dev.shape)"
   ]
  },
  {
   "cell_type": "code",
   "execution_count": 19,
   "metadata": {
    "collapsed": true
   },
   "outputs": [],
   "source": [
    "X_train_indices = lists_to_indices(X_train, word_to_index, maxLen)\n",
    "Y_super_train_indices = lists_to_indices(Y_super_train, super_to_index, maxLen)\n",
    "Y_super_train_oh = to_categorical(Y_super_train_indices, num_classes=numSuperClasses)"
   ]
  },
  {
   "cell_type": "code",
   "execution_count": 20,
   "metadata": {
    "collapsed": true
   },
   "outputs": [],
   "source": [
    "X_dev_indices = lists_to_indices(X_dev, word_to_index, max_len = maxLen)\n",
    "Y_super_dev_indices = lists_to_indices(Y_super_dev, super_to_index, max_len = maxLen)\n",
    "Y_super_dev_oh = to_categorical(Y_super_dev_indices, num_classes = numSuperClasses)"
   ]
  },
  {
   "cell_type": "markdown",
   "metadata": {},
   "source": [
    "### Define and train the model"
   ]
  },
  {
   "cell_type": "code",
   "execution_count": null,
   "metadata": {
    "collapsed": true
   },
   "outputs": [],
   "source": [
    "# Super_model\n",
    "# this is a direct supertag model not using the part-of-speech tags\n",
    "\n",
    "def Super_pos_model(input_shape, pos_model, word_to_vec_map, word_to_index):\n",
    "    \"\"\"\n",
    "    Function creating the combined supertag/part-of-speech model's graph.\n",
    "    \n",
    "    Arguments:\n",
    "    input_shape -- shape of the input, usually (max_len,)\n",
    "    pos_model -- the part-of-speech model to incorporate\n",
    "    word_to_vec_map -- dictionary mapping every word in a vocabulary into its fastText vector representation\n",
    "    word_to_index -- dictionary mapping from words to their indices in the vocabulary \n",
    "\n",
    "    Returns:\n",
    "    model -- a model instance in Keras\n",
    "    \"\"\"\n",
    "    \n",
    "    # Define sentence_indices as the input of the graph, it should be of shape input_shape and dtype 'int32' (as it contains indices).\n",
    "    sentence_indices = Input(shape = input_shape, dtype = 'int32')\n",
    "    \n",
    "    # Create the embedding layer pretrained with fastText vectors\n",
    "    embedding_layer = pretrained_embedding_layer(word_to_vec_map, word_to_index)\n",
    "    \n",
    "    # Propagate sentence_indices through your embedding layer, you get back the embeddings\n",
    "    embeddings = embedding_layer(sentence_indices)\n",
    "    \n",
    "    # get probability distribution over parts_of_speech from pos_model\n",
    "    parts_of_speech = pos_model(sentence_indices)\n",
    "    \n",
    "    # concatenate with the embeddings\n",
    "    merged = concatenate([parts_of_speech,embeddings])\n",
    "    \n",
    "    # Propagate the embeddings through an LSTM layer with 128-dimensional hidden state\n",
    "    # returning a batch of sequences.\n",
    "    X = LSTM(128, return_sequences=True)(merged) \n",
    "    X = BatchNormalization()(X)\n",
    "    X = Dropout(0.5)(X)\n",
    "    \n",
    "    # Add a (time distributed) Dense layer followed by a softmax activation\n",
    "    X = TimeDistributed(Dense(numSuperClasses, activation='softmax'))(X)\n",
    "    \n",
    "    # Create Model instance which converts sentence_indices into X.\n",
    "    model = Model(inputs=sentence_indices,outputs=X)\n",
    "        \n",
    "    return model"
   ]
  },
  {
   "cell_type": "code",
   "execution_count": null,
   "metadata": {
    "collapsed": true
   },
   "outputs": [],
   "source": [
    "superposmodel = Super_pos_model((maxLen,), model, word_to_vec_map, word_to_index)\n",
    "superposmodel.summary()\n",
    "print(superposmodel.layers[1])"
   ]
  },
  {
   "cell_type": "code",
   "execution_count": null,
   "metadata": {
    "collapsed": true
   },
   "outputs": [],
   "source": [
    "superposmodel.compile(loss='categorical_crossentropy', optimizer='adam', metrics=['accuracy'])"
   ]
  },
  {
   "cell_type": "code",
   "execution_count": null,
   "metadata": {
    "collapsed": true
   },
   "outputs": [],
   "source": [
    "history = superposmodel.fit(X_train_indices, Y_super_train_oh, epochs = 20, batch_size = 32, shuffle=True, validation_data=(X_dev_indices,Y_super_dev_oh))"
   ]
  },
  {
   "cell_type": "markdown",
   "metadata": {},
   "source": [
    "### Output progress"
   ]
  },
  {
   "cell_type": "code",
   "execution_count": null,
   "metadata": {
    "collapsed": true
   },
   "outputs": [],
   "source": [
    "plt.plot(history.history['loss'])\n",
    "plt.plot(history.history['val_loss'])\n",
    "plt.title('model train vs validation loss')\n",
    "plt.ylabel('loss')\n",
    "plt.xlabel('epoch')\n",
    "plt.legend(['train', 'validation'], loc='upper right')\n",
    "plt.show()"
   ]
  },
  {
   "cell_type": "code",
   "execution_count": null,
   "metadata": {
    "collapsed": true
   },
   "outputs": [],
   "source": [
    "plt.plot(history.history['acc'])\n",
    "plt.plot(history.history['val_acc'])\n",
    "plt.title('model train vs validation accuracy')\n",
    "plt.ylabel('accuracy')\n",
    "plt.xlabel('epoch')\n",
    "plt.legend(['train', 'validation'], loc='upper right')\n",
    "plt.show()"
   ]
  },
  {
   "cell_type": "code",
   "execution_count": null,
   "metadata": {
    "collapsed": true
   },
   "outputs": [],
   "source": [
    "superposmodel.save('superpostagger.h5')"
   ]
  },
  {
   "cell_type": "markdown",
   "metadata": {},
   "source": [
    "## Two-level supertag model\n",
    "\n",
    "Use the probabilities over the supertags produced by the first model as input to a bi-directional LSTM. We should probably add the probabilities over the part-of-speech tags and/or the word vector information as well. This means adding the outputs of, respectively, layers `model_1` (32), `embedding_3` (663) and `concatenate_1` (695)."
   ]
  },
  {
   "cell_type": "markdown",
   "metadata": {},
   "source": [
    "#### Load previously defined model and associated dictionaries"
   ]
  },
  {
   "cell_type": "code",
   "execution_count": null,
   "metadata": {
    "collapsed": true
   },
   "outputs": [],
   "source": [
    "load_obj('word_to_vec_map')\n",
    "load_obj('word_to_index')\n",
    "superposmodel = load_model('superpostagger.h5')"
   ]
  },
  {
   "cell_type": "code",
   "execution_count": null,
   "metadata": {
    "collapsed": true
   },
   "outputs": [],
   "source": [
    "def Super_two_model(input_shape, super_pos_model, word_to_vec_map, word_to_index):\n",
    "    \"\"\"\n",
    "    Function creating the graph of a supertag model over the output probabilities of another supertag model.\n",
    "    This is the simplest way to do this, using only the output but none of the internal activations\n",
    "    \n",
    "    Arguments:\n",
    "    input_shape -- shape of the input, usually (max_len,)\n",
    "    pos_model -- the part-of-speech model to incorporate\n",
    "    word_to_vec_map -- dictionary mapping every word in a vocabulary into its fastText vector representation\n",
    "    word_to_index -- dictionary mapping from words to their indices in the vocabulary \n",
    "\n",
    "    Returns:\n",
    "    model -- a model instance in Keras\n",
    "    \"\"\"\n",
    "     \n",
    "    # Define sentence_indices as the input of the graph, it should be of shape input_shape and dtype 'int32' (as it contains indices).\n",
    "    sentence_indices = Input(shape = input_shape, dtype = 'int32')\n",
    "\n",
    "    # get probability distribution over supertags from super_pos_model\n",
    "    supertags = super_pos_model(sentence_indices)\n",
    "#    posout = supertags.layers['model_1'].output\n",
    "#    embout = supertags.layers['embedding_3'].output\n",
    "\n",
    " \n",
    "    # concatenate with the embeddings\n",
    "#    merged = concatenate([posout,supertags])\n",
    "    \n",
    "    # Propagate the embeddings through an LSTM layer with 128-dimensional hidden state\n",
    "    # returning a batch of sequences.\n",
    "    X = LSTM(128, return_sequences=True)(supertags) \n",
    "#    X = BatchNormalization()(X)\n",
    "    X = Dropout(0.5)(X)\n",
    "    \n",
    "    # Add a (time distributed) Dense layer followed by a softmax activation\n",
    "    X = TimeDistributed(Dense(numSuperClasses, activation='softmax'))(X)\n",
    "    \n",
    "    # Create Model instance which converts sentence_indices into X.\n",
    "    model = Model(inputs=sentence_indices,outputs=X)\n",
    "        \n",
    "    return model"
   ]
  },
  {
   "cell_type": "code",
   "execution_count": null,
   "metadata": {
    "collapsed": true
   },
   "outputs": [],
   "source": [
    "supertwomodel = Super_two_model((maxLen,), superposmodel, word_to_vec_map, word_to_index)\n",
    "supertwomodel.summary()"
   ]
  },
  {
   "cell_type": "code",
   "execution_count": null,
   "metadata": {
    "collapsed": true
   },
   "outputs": [],
   "source": [
    "supertwomodel.compile(loss='categorical_crossentropy', optimizer='adam', metrics=['accuracy'])"
   ]
  },
  {
   "cell_type": "code",
   "execution_count": null,
   "metadata": {
    "collapsed": true
   },
   "outputs": [],
   "source": [
    "history = supertwomodel.fit(X_train_indices, Y_super_train_oh, epochs = 30, batch_size = 32, shuffle=True, validation_data=(X_dev_indices,Y_super_dev_oh))"
   ]
  },
  {
   "cell_type": "code",
   "execution_count": null,
   "metadata": {
    "collapsed": true
   },
   "outputs": [],
   "source": [
    "plt.plot(history.history['loss'])\n",
    "plt.plot(history.history['val_loss'])\n",
    "plt.title('model train vs validation loss')\n",
    "plt.ylabel('loss')\n",
    "plt.xlabel('epoch')\n",
    "plt.legend(['train', 'validation'], loc='upper right')\n",
    "plt.show()"
   ]
  },
  {
   "cell_type": "code",
   "execution_count": null,
   "metadata": {
    "collapsed": true
   },
   "outputs": [],
   "source": [
    "plt.plot(history.history['acc'])\n",
    "plt.plot(history.history['val_acc'])\n",
    "plt.title('model train vs validation accuracy')\n",
    "plt.ylabel('accuracy')\n",
    "plt.xlabel('epoch')\n",
    "plt.legend(['train', 'validation'], loc='upper right')\n",
    "plt.show()"
   ]
  },
  {
   "cell_type": "code",
   "execution_count": null,
   "metadata": {
    "collapsed": true
   },
   "outputs": [],
   "source": [
    "supertwomodel.save('super2tagger.h5')"
   ]
  },
  {
   "cell_type": "code",
   "execution_count": null,
   "metadata": {
    "collapsed": true
   },
   "outputs": [],
   "source": [
    "del supertwomodel"
   ]
  },
  {
   "cell_type": "markdown",
   "metadata": {},
   "source": [
    "### Supertagger results on development set\n",
    "\n",
    "| LTSM units | batchnorm | dropout | epochs | results |\n",
    "|---------:|:----------:|-------:|----:|----------:|\n",
    "| 128 | yes | .5 |  20 | 80.98 |\n",
    "| 128 | no | .5 |  30 |  |\n",
    "\n"
   ]
  },
  {
   "cell_type": "markdown",
   "metadata": {},
   "source": [
    "#### Combine POS-tagger with supertagger output"
   ]
  },
  {
   "cell_type": "code",
   "execution_count": null,
   "metadata": {
    "collapsed": true
   },
   "outputs": [],
   "source": [
    "from keras import backend as K"
   ]
  },
  {
   "cell_type": "code",
   "execution_count": null,
   "metadata": {
    "collapsed": true
   },
   "outputs": [],
   "source": [
    "def Superpos_two_model(input_shape, super_pos_model, word_to_vec_map, word_to_index):\n",
    "    \"\"\"\n",
    "    Function creating the graph of a supertag model over the output probabilities of another supertag model.\n",
    "    This version combines the supertagger output with the output of the POS-tagger\n",
    "    \n",
    "    Arguments:\n",
    "    input_shape -- shape of the input, usually (max_len,)\n",
    "    pos_model -- the part-of-speech model to incorporate\n",
    "    word_to_vec_map -- dictionary mapping every word in a vocabulary into its fastText vector representation\n",
    "    word_to_index -- dictionary mapping from words to their indices in the vocabulary \n",
    "\n",
    "    Returns:\n",
    "    model -- a model instance in Keras\n",
    "    \"\"\"\n",
    "\n",
    "    \n",
    "    # Define sentence_indices as the input of the graph, it should be of shape input_shape and dtype 'int32' (as it contains indices).\n",
    "    sentence_indices = Input(shape = input_shape, dtype = 'int32')\n",
    "\n",
    "    # get probability distribution over supertags from super_pos_model\n",
    "    supertags = super_pos_model(sentence_indices)\n",
    "    \n",
    "    get_1st_layer_output = K.function([supertags[0].input],\n",
    "                                  [supertags[1].output])\n",
    "    posout = get_1st_layer_output([sentence_indices])[0]\n",
    "#    embout = supertags.layers['embedding_3'].output\n",
    "\n",
    " \n",
    "    # concatenate with the embeddings\n",
    "    merged = concatenate([posout,supertags])\n",
    "    \n",
    "    # Propagate the embeddings through an LSTM layer with 128-dimensional hidden state\n",
    "    # returning a batch of sequences.\n",
    "    X = LSTM(128, return_sequences=True)(merged) \n",
    "#    X = BatchNormalization()(X)\n",
    "    X = Dropout(0.5)(X)\n",
    "    \n",
    "    # Add a (time distributed) Dense layer followed by a softmax activation\n",
    "    X = TimeDistributed(Dense(numSuperClasses, activation='softmax'))(X)\n",
    "    \n",
    "    # Create Model instance which converts sentence_indices into X.\n",
    "    model = Model(inputs=sentence_indices,outputs=X)\n",
    "        \n",
    "    return model"
   ]
  },
  {
   "cell_type": "code",
   "execution_count": null,
   "metadata": {
    "collapsed": true
   },
   "outputs": [],
   "source": [
    "superposmodel.summary()"
   ]
  },
  {
   "cell_type": "code",
   "execution_count": null,
   "metadata": {
    "collapsed": true
   },
   "outputs": [],
   "source": [
    "superpos2model = Superpos_two_model((maxLen,), superposmodel, word_to_vec_map, word_to_index)\n",
    "superpos2model.summary()"
   ]
  },
  {
   "cell_type": "markdown",
   "metadata": {},
   "source": [
    "#### Combine word embedding, POS-tagger and supertagger output"
   ]
  },
  {
   "cell_type": "code",
   "execution_count": null,
   "metadata": {
    "collapsed": true
   },
   "outputs": [],
   "source": [
    "def Superstack_model(input_shape, super_pos_model, word_to_vec_map, word_to_index):\n",
    "    \"\"\"\n",
    "    Function creating the graph of a supertag model over the output probabilities of another supertag model.\n",
    "    This version combines the supertagger output with the output of the POS-tagger\n",
    "    \n",
    "    Arguments:\n",
    "    input_shape -- shape of the input, usually (max_len,)\n",
    "    pos_model -- the part-of-speech model to incorporate\n",
    "    word_to_vec_map -- dictionary mapping every word in a vocabulary into its fastText vector representation\n",
    "    word_to_index -- dictionary mapping from words to their indices in the vocabulary \n",
    "\n",
    "    Returns:\n",
    "    model -- a model instance in Keras\n",
    "    \"\"\"\n",
    "\n",
    "   \n",
    "    # Define sentence_indices as the input of the graph, it should be of shape input_shape and dtype 'int32' (as it contains indices).\n",
    "    sentence_indices = Input(shape = input_shape, dtype = 'int32')\n",
    "\n",
    "    # get probability distribution over supertags from super_pos_model\n",
    "    supertags = super_pos_model(sentence_indices)\n",
    "#    posout = supertags.layers['model_1'].output\n",
    "#    embout = supertags.layers['embedding_3'].output\n",
    "    pos_emb = supertags.layers['concatenate_1'].output\n",
    " \n",
    "    # concatenate with the embeddings\n",
    "    merged = concatenate([pos_emb,supertags])\n",
    "    \n",
    "    # Propagate the embeddings through an LSTM layer with 128-dimensional hidden state\n",
    "    # returning a batch of sequences.\n",
    "    X = LSTM(128, return_sequences=True)(merged) \n",
    "#    X = BatchNormalization()(X)\n",
    "    X = Dropout(0.5)(X)\n",
    "    \n",
    "    # Add a (time distributed) Dense layer followed by a softmax activation\n",
    "    X = TimeDistributed(Dense(numSuperClasses, activation='softmax'))(X)\n",
    "    \n",
    "    # Create Model instance which converts sentence_indices into X.\n",
    "    model = Model(inputs=sentence_indices,outputs=X)\n",
    "        \n",
    "    return model"
   ]
  },
  {
   "cell_type": "markdown",
   "metadata": {},
   "source": [
    "### Auxiliary memory management functions\n",
    "\n",
    "`show_mem_usage()` shows the (somewhat larger) objects in the notebook memory, which can then be manually deleted using `del`. "
   ]
  },
  {
   "cell_type": "code",
   "execution_count": null,
   "metadata": {
    "collapsed": true
   },
   "outputs": [],
   "source": [
    "import sys\n",
    "\n",
    "def show_mem_usage():\n",
    "    '''Displays memory usage from inspection\n",
    "    of global variables in this notebook'''\n",
    "    gl = sys._getframe(1).f_globals\n",
    "    vars= {}\n",
    "    for k,v in list(gl.items()):\n",
    "        # for pandas dataframes\n",
    "        if hasattr(v, 'memory_usage'):\n",
    "            mem = v.memory_usage(deep=True)\n",
    "            if not np.isscalar(mem):\n",
    "                mem = mem.sum()\n",
    "            vars.setdefault(id(v),[mem]).append(k)\n",
    "        # work around for a bug\n",
    "        elif isinstance(v,pd.Panel):\n",
    "            v = v.values\n",
    "        vars.setdefault(id(v),[sys.getsizeof(v)]).append(k)\n",
    "    total = 0\n",
    "    for k,(value,*names) in vars.items():\n",
    "        if value>1e6:\n",
    "            print(names,\"%.3fMB\"%(value/1e6))\n",
    "        total += value\n",
    "    print(\"%.3fMB\"%(total/1e6))"
   ]
  },
  {
   "cell_type": "code",
   "execution_count": null,
   "metadata": {
    "collapsed": true
   },
   "outputs": [],
   "source": [
    "show_mem_usage()"
   ]
  },
  {
   "cell_type": "markdown",
   "metadata": {},
   "source": [
    "#### Garbage collection\n",
    "\n",
    "Call garbage collection `gc.collect()` to free unused memory."
   ]
  },
  {
   "cell_type": "code",
   "execution_count": null,
   "metadata": {
    "collapsed": true
   },
   "outputs": [],
   "source": [
    "import gc\n",
    "\n",
    "gc.collect()"
   ]
  },
  {
   "cell_type": "markdown",
   "metadata": {},
   "source": [
    "## Compute prefixes and postfixes\n",
    "\n",
    "Auxiliary function to compute all prefixes and postfixes (occurring more than `Cutoff` times) in the vocabulary. The constant `*OOR*` is used for out-of-range (such as the four-character prefix of the three letter word), and `*UNK*` is used for affixes not seen at all (or less than `Cutoff` times)"
   ]
  },
  {
   "cell_type": "code",
   "execution_count": 11,
   "metadata": {},
   "outputs": [],
   "source": [
    "Cutoff = 2\n",
    "\n",
    "def trim_dict(d, min_count=Cutoff):\n",
    "    for k,v in list(d.items()):\n",
    "        if v < min_count:\n",
    "            del d[k]\n",
    "    d['*UNK*'] = 1\n",
    "    d['*OOR*'] = 1\n",
    "    return d\n",
    "\n",
    "suffixcount1={}\n",
    "suffixcount2={}\n",
    "suffixcount3={}\n",
    "suffixcount4={}\n",
    "suffixcount5={}\n",
    "suffixcount6={}\n",
    "suffixcount7={}\n",
    "prefixcount1={}\n",
    "prefixcount2={}\n",
    "prefixcount3={}\n",
    "prefixcount4={}\n",
    "\n",
    "for word in vocabulary:\n",
    "    # convert to lower case and replace all digits by '9'\n",
    "    word = word.lower()\n",
    "    word = re.sub(r'[0-8]', '9', word)\n",
    "    # take suffixes of length 7 or smaller (to distinguish between 'eraient' and 'aient')    \n",
    "    suf1 = word[-1:]\n",
    "    suf2 = word[-2:]\n",
    "    suf3 = word[-3:]\n",
    "    suf4 = word[-4:]\n",
    "    suf5 = word[-5:]\n",
    "    suf6 = word[-6:]\n",
    "    suf7 = word[-7:]\n",
    "    # take prefixes of length 4 or smaller    \n",
    "    pref1 = word [:1]\n",
    "    pref2 = word [:2]\n",
    "    pref3 = word [:3]\n",
    "    pref4 = word [:4]\n",
    "    \n",
    "    # update all counters for the computed affixes\n",
    "    if len(suf1) > 0:\n",
    "        if suf1 not in suffixcount1:\n",
    "            suffixcount1[suf1] = 1\n",
    "        else:\n",
    "            suffixcount1[suf1] += 1\n",
    "\n",
    "    if len(suf2) > 1: \n",
    "        if suf2 not in suffixcount2:\n",
    "            suffixcount2[suf2] = 1\n",
    "        else:\n",
    "            suffixcount2[suf2] += 1\n",
    "\n",
    "    if len(suf3) > 2: \n",
    "        if suf3 not in suffixcount3:\n",
    "            suffixcount3[suf3] = 1\n",
    "        else:\n",
    "            suffixcount3[suf3] += 1\n",
    "\n",
    "    if len(suf4) > 3: \n",
    "        if suf4 not in suffixcount4:\n",
    "            suffixcount4[suf4] = 1\n",
    "        else:\n",
    "            suffixcount4[suf4] += 1\n",
    "\n",
    "    if len(suf5) > 4: \n",
    "        if suf5 not in suffixcount5:\n",
    "            suffixcount5[suf5] = 1\n",
    "        else:\n",
    "            suffixcount5[suf5] += 1\n",
    "    if len(suf6) > 5: \n",
    "        if suf6 not in suffixcount6:\n",
    "            suffixcount6[suf6] = 1\n",
    "        else:\n",
    "            suffixcount6[suf6] += 1\n",
    "    if len(suf7) > 6: \n",
    "        if suf7 not in suffixcount7:\n",
    "            suffixcount7[suf7] = 1\n",
    "        else:\n",
    "            suffixcount7[suf7] += 1\n",
    "    if len(pref1) > 0:\n",
    "        if pref1 not in prefixcount1:\n",
    "            prefixcount1[pref1] = 1\n",
    "        else:\n",
    "            prefixcount1[pref1] += 1\n",
    "\n",
    "    if len(pref2) > 1:\n",
    "        if pref2 not in prefixcount2:\n",
    "            prefixcount2[pref2] = 1\n",
    "        else:\n",
    "            prefixcount2[pref2] += 1\n",
    "\n",
    "    if len(pref3) > 2:\n",
    "        if pref3 not in prefixcount3:\n",
    "            prefixcount3[pref3] = 1\n",
    "        else:\n",
    "            prefixcount3[pref3] += 1\n",
    "    if len(pref4) > 3:\n",
    "        if pref4 not in prefixcount4:\n",
    "            prefixcount4[pref4] = 1\n",
    "        else:\n",
    "            prefixcount4[pref4] += 1\n",
    "\n",
    "\n",
    "suffixcount1 = trim_dict(suffixcount1)\n",
    "suffixcount2 = trim_dict(suffixcount2)\n",
    "suffixcount3 = trim_dict(suffixcount3)\n",
    "suffixcount4 = trim_dict(suffixcount4)\n",
    "suffixcount5 = trim_dict(suffixcount5)\n",
    "suffixcount6 = trim_dict(suffixcount6)\n",
    "suffixcount7 = trim_dict(suffixcount7)\n",
    "\n",
    "prefixcount1 = trim_dict(prefixcount1)\n",
    "prefixcount2 = trim_dict(prefixcount2)\n",
    "prefixcount3 = trim_dict(prefixcount3)\n",
    "prefixcount4 = trim_dict(prefixcount4)\n",
    "\n",
    "suffix1 = set(suffixcount1.keys())\n",
    "suffix2 = set(suffixcount2.keys())\n",
    "suffix3 = set(suffixcount3.keys())\n",
    "suffix4 = set(suffixcount4.keys())\n",
    "suffix5 = set(suffixcount5.keys())\n",
    "suffix6 = set(suffixcount6.keys())\n",
    "suffix7 = set(suffixcount7.keys())\n",
    "\n",
    "prefix1 = set(prefixcount1.keys())\n",
    "prefix2 = set(prefixcount2.keys())\n",
    "prefix3 = set(prefixcount3.keys())\n",
    "prefix4 = set(prefixcount4.keys())\n",
    "\n"
   ]
  },
  {
   "cell_type": "code",
   "execution_count": 12,
   "metadata": {
    "collapsed": true
   },
   "outputs": [],
   "source": [
    "p1_to_integer, integer_to_p1 = indexify(prefix1)\n",
    "p2_to_integer, integer_to_p2 = indexify(prefix2)\n",
    "p3_to_integer, integer_to_p3 = indexify(prefix3)\n",
    "p4_to_integer, integer_to_p4 = indexify(prefix4)\n",
    "\n",
    "s1_to_integer, integer_to_s1 = indexify(suffix1)\n",
    "s2_to_integer, integer_to_s2 = indexify(suffix2)\n",
    "s3_to_integer, integer_to_s3 = indexify(suffix3)\n",
    "s4_to_integer, integer_to_s4 = indexify(suffix4)\n",
    "s5_to_integer, integer_to_s5 = indexify(suffix5)\n",
    "s6_to_integer, integer_to_s6 = indexify(suffix6)\n",
    "s7_to_integer, integer_to_s7 = indexify(suffix7)"
   ]
  },
  {
   "cell_type": "code",
   "execution_count": 13,
   "metadata": {
    "collapsed": true
   },
   "outputs": [],
   "source": [
    "def word_to_prefvec(word, alen, afset, af_to_int):\n",
    "    if len(word) >= alen:\n",
    "        pref = word[:alen]\n",
    "        if pref in afset:\n",
    "            int = af_to_int[pref]\n",
    "        else:\n",
    "            int = af_to_int['*UNK*']\n",
    "    else:\n",
    "        int = af_to_int['*OOR*']\n",
    "    return to_categorical(int, len(afset)+1)\n"
   ]
  },
  {
   "cell_type": "code",
   "execution_count": 14,
   "metadata": {
    "collapsed": true
   },
   "outputs": [],
   "source": [
    "def word_to_sufvec(word, alen, afset, af_to_int):\n",
    "    if len(word) >= alen:\n",
    "        pref = word[-alen:]\n",
    "        if pref in afset:\n",
    "            int = af_to_int[pref]\n",
    "        else:\n",
    "            int = af_to_int['*UNK*']\n",
    "    else:\n",
    "        int = af_to_int['*OOR*']\n",
    "    return to_categorical(int, len(afset)+1)\n"
   ]
  },
  {
   "cell_type": "code",
   "execution_count": 15,
   "metadata": {
    "collapsed": true
   },
   "outputs": [],
   "source": [
    "def word_to_prefix_vector(word):\n",
    "    p1 = word_to_prefvec(word, 1, prefix1, p1_to_integer)\n",
    "    p2 = word_to_prefvec(word, 2, prefix2, p2_to_integer)\n",
    "    p3 = word_to_prefvec(word, 3, prefix3, p3_to_integer)\n",
    "    p4 = word_to_prefvec(word, 4, prefix4, p4_to_integer)\n",
    "    return np.concatenate((p1,p2,p3,p4))\n",
    "\n",
    "def word_to_suffix_vector(word):\n",
    "    s1 = word_to_sufvec(word, 1, suffix1, s1_to_integer)\n",
    "    s2 = word_to_sufvec(word, 2, suffix2, s2_to_integer)\n",
    "    s3 = word_to_sufvec(word, 3, suffix3, s3_to_integer)\n",
    "    s4 = word_to_sufvec(word, 4, suffix4, s4_to_integer)\n",
    "    s5 = word_to_sufvec(word, 5, suffix5, s5_to_integer)\n",
    "    s6 = word_to_sufvec(word, 6, suffix6, s6_to_integer)\n",
    "    s7 = word_to_sufvec(word, 7, suffix7, s7_to_integer)\n",
    "    return np.concatenate((s1,s2,s3,s4,s5,s6,s7))\n",
    "\n",
    "def word_to_affix_vector(word):\n",
    "    p1 = word_to_prefvec(word, 1, prefix1, p1_to_integer)\n",
    "    p2 = word_to_prefvec(word, 2, prefix2, p2_to_integer)\n",
    "    p3 = word_to_prefvec(word, 3, prefix3, p3_to_integer)\n",
    "    p4 = word_to_prefvec(word, 4, prefix3, p4_to_integer)\n",
    "    s1 = word_to_sufvec(word, 1, suffix1, s1_to_integer)\n",
    "    s2 = word_to_sufvec(word, 2, suffix2, s2_to_integer)\n",
    "    s3 = word_to_sufvec(word, 3, suffix3, s3_to_integer)\n",
    "    s4 = word_to_sufvec(word, 4, suffix4, s4_to_integer)\n",
    "    s5 = word_to_sufvec(word, 5, suffix5, s5_to_integer)\n",
    "    s6 = word_to_sufvec(word, 6, suffix6, s6_to_integer)\n",
    "    s7 = word_to_sufvec(word, 7, suffix7, s7_to_integer)\n",
    "    return np.concatenate((p1,p2,p3,p4,s1,s2,s3,s4,s5,s6,s7))"
   ]
  },
  {
   "cell_type": "code",
   "execution_count": 16,
   "metadata": {
    "collapsed": true
   },
   "outputs": [],
   "source": [
    "def compute_affixes(vocab):\n",
    "    \n",
    "    word_to_suffix = {}\n",
    "    word_to_prefix = {}\n",
    "\n",
    "    for word in vocab:\n",
    "        w = word.lower()\n",
    "        w = re.sub(r'[0-8]', '9', w)\n",
    "        pvec = word_to_prefix_vector(w)\n",
    "        svec = word_to_suffix_vector(w)\n",
    "        word_to_prefix[word] = pvec\n",
    "        word_to_suffix[word] = svec\n",
    "        \n",
    "    return word_to_prefix, word_to_suffix    "
   ]
  },
  {
   "cell_type": "code",
   "execution_count": 17,
   "metadata": {
    "collapsed": true
   },
   "outputs": [],
   "source": [
    "word_to_prefix, word_to_suffix = compute_affixes(vocabulary)"
   ]
  },
  {
   "cell_type": "code",
   "execution_count": null,
   "metadata": {
    "collapsed": true
   },
   "outputs": [],
   "source": [
    "# Super_model\n",
    "# this is a direct supertag model not using the part-of-speech tags\n",
    "\n",
    "def Super_affix_model(input_shape, word_to_vec_map, word_to_prefix, word_to_suffix, word_to_index):\n",
    "    \"\"\"\n",
    "    Function creating the direct supertagger model's graph\n",
    "    \n",
    "    Arguments:\n",
    "    input_shape -- shape of the input, usually (max_len,)\n",
    "    word_to_vec_map -- dictionary mapping every word in a vocabulary into its fastText vector representation\n",
    "    word_to_index -- dictionary mapping from words to their indices in the vocabulary\n",
    "\n",
    "    Returns:\n",
    "    model -- a model instance in Keras\n",
    "    \"\"\"\n",
    "    \n",
    "    # Define sentence_indices as the input of the graph, it should be of shape input_shape and dtype 'int32' (as it contains indices).\n",
    "    sentence_indices = Input(shape = input_shape, dtype = 'int32')\n",
    "    \n",
    "    # Create the embedding layer pretrained with GloVe Vectors (≈1 line)\n",
    "    embedding_layer = pretrained_embedding_layer(word_to_vec_map, word_to_index)\n",
    "    \n",
    "    prefix_emb = pretrained_embedding_layer(word_to_prefix, word_to_index)\n",
    "    suffix_emb = pretrained_embedding_layer(word_to_suffix, word_to_index)\n",
    "    \n",
    "    # Propagate sentence_indices through your embedding layer, you get back the embeddings\n",
    "    embeddings = embedding_layer(sentence_indices)   \n",
    "    \n",
    "    pref = prefix_emb(sentence_indices)\n",
    "    suff = suffix_emb(sentence_indices)\n",
    "    P = Dense(32)(pref)\n",
    "    P = Dropout(0.5)(P)\n",
    "    S = Dense(32)(suff)\n",
    "    S = Dropout(0.5)(S)\n",
    "    merged = concatenate([embeddings,P,S])\n",
    "    # Propagate the embeddings through an LSTM layer with 128-dimensional hidden state\n",
    "    # returning a batch of sequences.\n",
    "    X = LSTM(128, return_sequences=True)(merged) \n",
    "    X = BatchNormalization()(X)\n",
    "    X = Dropout(0.5)(X)\n",
    "    X = LSTM(128, return_sequences=True)(X) \n",
    "    X = BatchNormalization()(X)\n",
    "    X = Dropout(0.5)(X)\n",
    "\n",
    "    # Add a (time distributed) Dense layer followed by a softmax activation\n",
    "    X = TimeDistributed(Dense(32,kernel_constraint=max_norm(5.),kernel_regularizer=regularizers.l2(0.0001)))(X)\n",
    "    X = TimeDistributed(Dense(numSuperClasses, activation='softmax',kernel_constraint=max_norm(5.),kernel_regularizer=regularizers.l2(0.0001)))(X)\n",
    "    \n",
    "    # Create Model instance which converts sentence_indices into X.\n",
    "    model = Model(inputs=sentence_indices,outputs=X)\n",
    "        \n",
    "    return model"
   ]
  },
  {
   "cell_type": "code",
   "execution_count": 35,
   "metadata": {
    "collapsed": true
   },
   "outputs": [],
   "source": [
    "# Super_model\n",
    "# this is a direct supertag model not using the part-of-speech tags\n",
    "\n",
    "def Super_affix_model(input_shape, word_to_vec_map, word_to_prefix, word_to_suffix, word_to_index, Reg):\n",
    "    \"\"\"\n",
    "    Function creating the direct supertagger model's graph\n",
    "    \n",
    "    Arguments:\n",
    "    input_shape -- shape of the input, usually (max_len,)\n",
    "    word_to_vec_map -- dictionary mapping every word in a vocabulary into its fastText vector representation\n",
    "    word_to_index -- dictionary mapping from words to their indices in the vocabulary\n",
    "\n",
    "    Returns:\n",
    "    model -- a model instance in Keras\n",
    "    \"\"\"\n",
    "    \n",
    "    # Define sentence_indices as the input of the graph, it should be of shape input_shape and dtype 'int32' (as it contains indices).\n",
    "    sentence_indices = Input(shape = input_shape, dtype = 'int32')\n",
    "    \n",
    "    # Create the embedding layer pretrained with GloVe Vectors (≈1 line)\n",
    "    embedding_layer = pretrained_embedding_layer(word_to_vec_map, word_to_index)\n",
    "    \n",
    "    prefix_emb = pretrained_embedding_layer(word_to_prefix, word_to_index)\n",
    "    suffix_emb = pretrained_embedding_layer(word_to_suffix, word_to_index)\n",
    "    \n",
    "    # Propagate sentence_indices through your embedding layer, you get back the embeddings\n",
    "    embeddings = embedding_layer(sentence_indices)   \n",
    "    \n",
    "    pref = prefix_emb(sentence_indices)\n",
    "    suff = suffix_emb(sentence_indices)\n",
    "    P = Dense(32)(pref)\n",
    "    S = Dense(32)(suff)\n",
    "    merged = concatenate([embeddings,P,S])\n",
    "    # Propagate the embeddings through an LSTM layer with 128-dimensional hidden state\n",
    "    # returning a batch of sequences.\n",
    "    #  recurrent_dropout=0.2\n",
    "    # kernel_constraint=maxnorm(3)  # recommended for layer before dropout\n",
    "    X = LSTM(128, dropout=0.5, recurrent_activation='sigmoid', kernel_regularizer=Reg, return_sequences=True)(merged) \n",
    "#    X = BatchNormalization()(X)\n",
    "    X = LSTM(128, recurrent_activation='sigmoid', kernel_regularizer=Reg, return_sequences=True)(X) \n",
    "#    X = BatchNormalization()(X)\n",
    "\n",
    "    # Add a (time distributed) Dense layer followed by a softmax activation\n",
    "    X = TimeDistributed(Dense(32,kernel_constraint=max_norm(5.),kernel_regularizer=Reg))(X)\n",
    "    X = TimeDistributed(Dense(numSuperClasses, activation='softmax',kernel_constraint=max_norm(5.),kernel_regularizer=Reg))(X)\n",
    "    X = Dropout{.2}(X)\n",
    "    # Create Model instance which converts sentence_indices into X.\n",
    "    model = Model(inputs=sentence_indices,outputs=X)\n",
    "        \n",
    "    return model"
   ]
  },
  {
   "cell_type": "code",
   "execution_count": 39,
   "metadata": {},
   "outputs": [
    {
     "name": "stdout",
     "output_type": "stream",
     "text": [
      "__________________________________________________________________________________________________\n",
      "Layer (type)                    Output Shape         Param #     Connected to                     \n",
      "==================================================================================================\n",
      "input_3 (InputLayer)            (None, 266)          0                                            \n",
      "__________________________________________________________________________________________________\n",
      "embedding_9 (Embedding)         (None, 266, 5788)    175387976   input_3[0][0]                    \n",
      "__________________________________________________________________________________________________\n",
      "embedding_10 (Embedding)        (None, 266, 14983)   454014866   input_3[0][0]                    \n",
      "__________________________________________________________________________________________________\n",
      "embedding_8 (Embedding)         (None, 266, 429)     12999558    input_3[0][0]                    \n",
      "__________________________________________________________________________________________________\n",
      "dense_9 (Dense)                 (None, 266, 32)      185248      embedding_9[0][0]                \n",
      "__________________________________________________________________________________________________\n",
      "dense_10 (Dense)                (None, 266, 32)      479488      embedding_10[0][0]               \n",
      "__________________________________________________________________________________________________\n",
      "concatenate_3 (Concatenate)     (None, 266, 493)     0           embedding_8[0][0]                \n",
      "                                                                 dense_9[0][0]                    \n",
      "                                                                 dense_10[0][0]                   \n",
      "__________________________________________________________________________________________________\n",
      "lstm_5 (LSTM)                   (None, 266, 128)     318464      concatenate_3[0][0]              \n",
      "__________________________________________________________________________________________________\n",
      "lstm_6 (LSTM)                   (None, 266, 128)     131584      lstm_5[0][0]                     \n",
      "__________________________________________________________________________________________________\n",
      "time_distributed_5 (TimeDistrib (None, 266, 32)      4128        lstm_6[0][0]                     \n",
      "__________________________________________________________________________________________________\n",
      "time_distributed_6 (TimeDistrib (None, 266, 891)     29403       time_distributed_5[0][0]         \n",
      "==================================================================================================\n",
      "Total params: 643,550,715\n",
      "Trainable params: 1,148,315\n",
      "Non-trainable params: 642,402,400\n",
      "__________________________________________________________________________________________________\n"
     ]
    }
   ],
   "source": [
    "supermodel = Super_affix_model((maxLen,), word_to_vec_map, word_to_prefix, word_to_suffix, word_to_index, regularizers.l2(0.000001))\n",
    "supermodel.summary()"
   ]
  },
  {
   "cell_type": "code",
   "execution_count": 40,
   "metadata": {
    "collapsed": true
   },
   "outputs": [],
   "source": [
    "supermodel.compile(loss='categorical_crossentropy', optimizer='adam', metrics=['accuracy'])"
   ]
  },
  {
   "cell_type": "code",
   "execution_count": null,
   "metadata": {},
   "outputs": [
    {
     "name": "stdout",
     "output_type": "stream",
     "text": [
      "Train on 9449 samples, validate on 3150 samples\n",
      "Epoch 1/50\n",
      "9449/9449 [==============================] - 912s 97ms/step - loss: 3.3193 - acc: 0.3903 - val_loss: 2.0305 - val_acc: 0.6146\n",
      "Epoch 2/50\n",
      "9449/9449 [==============================] - 921s 97ms/step - loss: 1.6754 - acc: 0.6858 - val_loss: 1.3353 - val_acc: 0.7405\n",
      "Epoch 3/50\n",
      "9449/9449 [==============================] - 933s 99ms/step - loss: 1.2519 - acc: 0.7481 - val_loss: 1.1188 - val_acc: 0.7694\n",
      "Epoch 4/50\n",
      "9449/9449 [==============================] - 933s 99ms/step - loss: 1.0766 - acc: 0.7730 - val_loss: 1.0064 - val_acc: 0.7855\n",
      "Epoch 5/50\n",
      "9449/9449 [==============================] - 917s 97ms/step - loss: 0.9729 - acc: 0.7884 - val_loss: 0.9387 - val_acc: 0.7936\n",
      "Epoch 6/50\n",
      "9449/9449 [==============================] - 936s 99ms/step - loss: 0.9008 - acc: 0.7991 - val_loss: 0.8887 - val_acc: 0.7999\n",
      "Epoch 7/50\n",
      "9449/9449 [==============================] - 919s 97ms/step - loss: 0.8447 - acc: 0.8078 - val_loss: 0.8538 - val_acc: 0.8052\n",
      "Epoch 8/50\n",
      "9449/9449 [==============================] - 917s 97ms/step - loss: 0.7998 - acc: 0.8161 - val_loss: 0.8294 - val_acc: 0.8092\n",
      "Epoch 9/50\n",
      "9449/9449 [==============================] - 962s 102ms/step - loss: 0.7633 - acc: 0.8224 - val_loss: 0.8124 - val_acc: 0.8120\n",
      "Epoch 10/50\n",
      "2112/9449 [=====>........................] - ETA: 10:24 - loss: 0.7252 - acc: 0.8294"
     ]
    }
   ],
   "source": [
    "history = supermodel.fit(X_train_indices, Y_super_train_oh, epochs = 50, batch_size = 32, shuffle=True, validation_data=(X_dev_indices,Y_super_dev_oh))"
   ]
  },
  {
   "cell_type": "markdown",
   "metadata": {},
   "source": [
    "\n",
    "### Evaluation\n",
    "\n",
    "Two-layer 128-unit model with L2 norm of 10<sup>-5</sup>, and only one dropout layer of .5 for the input.\n",
    "\n",
    "| embedding | dimension| LTSM units | batchnorm | dropout | L2 | epochs | train | devel |\n",
    "|:-----|-----:|---------:|:----------:|-------:|----:|-----:|-----:|----------:|\n",
    "| cwindow | 50 | 128+128 | no | .5+ 0 | 10<sup>-5</sup> | 10 | |\n",
    "\n",
    "Two-layer 128-unit model with a dropout of .5 for the two LSTM layers, and a dropout of .5 for the dense affix layers. Added a second 32-unit `Dense` layer and added regularization (L2 of 0.0001) plus a constraint (`max_norm` of 5) to the final two `Dense` layers.\n",
    "\n",
    "| embedding | dimension| LTSM units | batchnorm | dropout | epochs | train | devel |\n",
    "|:-----|-----:|---------:|:----------:|-------:|----:|-----:|----------:|\n",
    "| cwindow | 50 | 128+128 | yes | .5+.5 |  10 | 80.64 | 81.76 |\n",
    "| cwindow | 50 | 128+128 | yes | .5+.5 |  20 | 82.80 | 82.29 |\n",
    "| cwindow | 50 | 128+128 | yes | .5+.5 |  30 | 84.08 | 82.60 |\n",
    "| cwindow | 50 | 128+128 | yes | .5+.5 |  30 | 85.32 | 82.69 |\n",
    "\n",
    "\n",
    "Two-layer 128-unit model with a dropout of .5 for the two LSTM layers, and a dropout of .5 for the dense affix layers. Obtain free 83.00 as maximum value for development data, but then overfits and stagnates.\n",
    "\n",
    "| embedding | dimension| LTSM units | batchnorm | dropout | epochs | train | devel |\n",
    "|:-----|-----:|---------:|:----------:|-------:|----:|-----:|----------:|\n",
    "| cwindow | 50 | 128+128 | yes | .5+.5 |  10 | 81.16 | 82.04 |\n",
    "| cwindow | 50 | 128+128 | yes | .5+.5 | 20 | 83.09 | 82.82 |\n",
    "| cwindow | 50 | 128+128 | yes | .5+.5 | 30 | 84.34 | 82.91 |\n",
    "\n",
    "Two-layer 128-unit model with a dropout of .5 for the two LSTM layers, and a dropout of .4 for the dense affix layers\n",
    "\n",
    "| embedding | dimension| LTSM units | batchnorm | dropout | epochs | train | devel |\n",
    "|:-----|-----:|---------:|:----------:|-------:|----:|-----:|----------:|\n",
    "| cwindow | 50 | 128+128 | yes | .5+.5 |  10 | 81.41 | 82.27 |\n",
    "| cwindow | 50 | 128+128 | yes | .5+.5 |  20 | 83.66 | 82.83 |\n",
    "| cwindow | 50 | 128+128 | yes | .5+.5 |  30 | 85.79 | 82.77 |\n",
    "\n",
    "Two-layer 128-unit model with a dropout of .5 for the two LSTM layers, and a dropout of .2 for the dense affix layers. Although the results for the development set are slighlty higher than other settings at their peak (close to 82.5), there is still a considerable amount of overfitting after 20 epochs\n",
    "\n",
    "| embedding | dimension| LTSM units | batchnorm | dropout | epochs | train | devel |\n",
    "|:-----|-----:|---------:|:----------:|-------:|----:|-----:|----------:|\n",
    "| cwindow | 50 | 128+128 | yes | .5+.5 |  10 | 81.98 | 82.14 |\n",
    "| cwindow | 50 | 128+128 | yes | .5+.5 |  20 | 84.67 | 82.08 |\n",
    "\n",
    "Two-layer 32-unit model with dropout of .2\n",
    "\n",
    "| embedding | dimension| LTSM units | batchnorm | dropout | epochs | train | devel |\n",
    "|:-----|-----:|---------:|:----------:|-------:|----:|-----:|----------:|\n",
    "| cwindow | 50 | 32+32 | yes | .2+.2 |  10 | 81.43 | 80.82 |\n",
    "| cwindow | 50 | 32+32 | yes | .2+.2 |  30 | 85.63 | 80.89 |\n",
    "| cwindow | 50 | 32+32 | yes | .2+.2 |  50 | 88.24 | 79.75 |\n",
    "\n",
    "Two-layer 32-unit model with dropout of .5. Appears to underfit after 10 epochs; very slow progression on training data, somewhat better on development data (as usual) but still not nowhere near a good performance. \n",
    "\n",
    "| embedding | dimension| LTSM units | batchnorm | dropout | epochs | train | devel |\n",
    "|:-----|-----:|---------:|:----------:|-------:|----:|-----:|----------:|\n",
    "| cwindow | 50 | 32+32 | yes | .5+.5 |  10 | 73.36 | 78.06 |\n",
    "\n",
    "\n",
    "Retraining 64-unit model with dropout of .6\n",
    "\n",
    "| embedding | dimension| LTSM units | batchnorm | dropout | epochs | train | devel |\n",
    "|:-----|-----:|---------:|:----------:|-------:|----:|-----:|----------:|\n",
    "| cwindow | 50 | 64 | yes | .6 |  10 | 81.97 | 81.05 |\n",
    "\n",
    "Retraining 64-unit model with dropout of .5\n",
    "\n",
    "| embedding | dimension| LTSM units | batchnorm | dropout | epochs | train | devel |\n",
    "|:-----|-----:|---------:|:----------:|-------:|----:|-----:|----------:|\n",
    "| cwindow | 50 | 64 | yes | .5 |  10 | 83.35 | 81.11 |\n",
    "\n",
    "\n",
    "\n",
    "Since the 128-unit LSTM model showed significant overfitting, training with smaller 64-unit model but lower dropout (.2). Still overfits considerably, even after 10 epochs.\n",
    "\n",
    "| embedding | dimension| LTSM units | batchnorm | dropout | epochs | train | devel |\n",
    "|:-----|-----:|---------:|:----------:|-------:|----:|-----:|----------:|\n",
    "| cwindow | 50 | 64 | yes | .2 |  10 | 85.66 | 80.85 |\n",
    "\n",
    "First attempt with affix features. Clear overfitting from 10 epochs on.\n",
    "\n",
    "| embedding | dimension| LTSM units | batchnorm | dropout | epochs | train | devel |\n",
    "|:-----|-----:|---------:|:----------:|-------:|----:|-----:|----------:|\n",
    "| cwindow | 50 | 128 | yes | .5 |  10 | 84.84 | 81.17 |\n",
    "| cwindow | 50 | 128 | yes | .5 |  30 | 91.56 | 79.65 |\n",
    "| cwindow | 50 | 128 | yes | .5 |  50 | 94.41 | 78.97 |\n",
    "\n"
   ]
  },
  {
   "cell_type": "code",
   "execution_count": null,
   "metadata": {
    "collapsed": true
   },
   "outputs": [],
   "source": [
    "weights = supermodel.trainable_weights"
   ]
  },
  {
   "cell_type": "code",
   "execution_count": null,
   "metadata": {
    "collapsed": true
   },
   "outputs": [],
   "source": [
    "get_gradients = supermodel.optimizer.get_gradients(supermodel.total_loss, weights)"
   ]
  },
  {
   "cell_type": "code",
   "execution_count": null,
   "metadata": {
    "collapsed": true
   },
   "outputs": [],
   "source": [
    "    input_tensors = [\n",
    "        # input data\n",
    "        supermodel.inputs[0],\n",
    "        # how much to weight each sample by\n",
    "        supermodel.sample_weights[0],\n",
    "        # labels\n",
    "        supermodel.targets[0],\n",
    "        # train or test mode\n",
    "        K.learning_phase()\n",
    "    ]\n"
   ]
  },
  {
   "cell_type": "code",
   "execution_count": null,
   "metadata": {},
   "outputs": [],
   "source": [
    "print(weights[0])\n",
    "print(np.max(K.get_value(weights[0])))\n",
    "print(np.min(K.get_value(weights[0])))\n",
    "\n",
    "print(weights[1])\n",
    "print(np.max(K.get_value(weights[1])))\n",
    "print(np.min(K.get_value(weights[1])))\n",
    "\n",
    "print(weights[2])\n",
    "print(np.max(K.get_value(weights[2])))\n",
    "print(np.min(K.get_value(weights[2])))\n",
    "\n",
    "print(weights[3])\n",
    "print(np.max(K.get_value(weights[3])))\n",
    "print(np.min(K.get_value(weights[3])))\n",
    "\n"
   ]
  },
  {
   "cell_type": "code",
   "execution_count": null,
   "metadata": {},
   "outputs": [],
   "source": [
    "    steps = 0\n",
    "    total_norm = 0\n",
    "    s_w = None\n",
    "    while steps < 32:\n",
    "        X, y = next(data)\n",
    "        # set sample weights to one\n",
    "        # for every input\n",
    "        if s_w is None:\n",
    "            s_w = np.ones(X.shape[0])\n",
    "\n",
    "        gradients = grad_fct([X, s_w, y, 0])\n",
    "        total_norm += np.sqrt(np.sum([np.sum(np.square(g)) for g in gradients]))\n",
    "        steps += 1\n",
    "\n",
    "    return total_norm / float(steps)"
   ]
  },
  {
   "cell_type": "code",
   "execution_count": null,
   "metadata": {
    "collapsed": true
   },
   "outputs": [],
   "source": []
  }
 ],
 "metadata": {
  "coursera": {
   "course_slug": "nlp-sequence-models",
   "graded_item_id": "RNnEs",
   "launcher_item_id": "acNYU"
  },
  "kernelspec": {
   "display_name": "Python 3",
   "language": "python",
   "name": "python3"
  },
  "language_info": {
   "codemirror_mode": {
    "name": "ipython",
    "version": 3
   },
   "file_extension": ".py",
   "mimetype": "text/x-python",
   "name": "python",
   "nbconvert_exporter": "python",
   "pygments_lexer": "ipython3",
   "version": "3.6.3"
  }
 },
 "nbformat": 4,
 "nbformat_minor": 2
}
