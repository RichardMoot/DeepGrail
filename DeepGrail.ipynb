{
 "cells": [
  {
   "cell_type": "markdown",
   "metadata": {},
   "source": [
    "# LSTM part-of-speech tagging for the French Treebank: \n",
    "\n",
    "This notebook trains a part-of-speech tagger for the French Treebank using a vanilla bi-direction LSTM network.\n",
    "\n",
    "Run the following cell to load the Keras packages."
   ]
  },
  {
   "cell_type": "code",
   "execution_count": 1,
   "metadata": {},
   "outputs": [
    {
     "name": "stderr",
     "output_type": "stream",
     "text": [
      "Using TensorFlow backend.\n"
     ]
    }
   ],
   "source": [
    "import numpy as np\n",
    "import matplotlib.pyplot as plt\n",
    "import pandas as pd\n",
    "\n",
    "from keras.models import Model\n",
    "from keras.layers import Bidirectional, Dense, Input, Dropout, LSTM, Activation, TimeDistributed, BatchNormalization, concatenate, Concatenate\n",
    "from keras.layers.embeddings import Embedding\n",
    "from keras.preprocessing import sequence\n",
    "from keras.utils import to_categorical\n",
    "from keras.initializers import glorot_uniform\n",
    "from sklearn.model_selection import train_test_split\n",
    "\n",
    "from grail_data_utils import *\n",
    "\n",
    "%matplotlib inline\n",
    "\n",
    "np.random.seed(1)"
   ]
  },
  {
   "cell_type": "markdown",
   "metadata": {},
   "source": [
    "### Read the TLGbank file"
   ]
  },
  {
   "cell_type": "code",
   "execution_count": null,
   "metadata": {
    "collapsed": true
   },
   "outputs": [],
   "source": [
    "# very small initial part of corpus (only file aa1)\n",
    "# X, Y1, Y2, Z, vocabulary, vnorm, partsofspeech1, partsofspeech2, superset, maxLen = read_maxentdata('aa1.txt')"
   ]
  },
  {
   "cell_type": "code",
   "execution_count": 2,
   "metadata": {},
   "outputs": [],
   "source": [
    "# small initial part of corpus (files aa1, aa2, ab2 and ae1)\n",
    "# number of sentences, train: 1195, test: 398, dev: 399  \n",
    "# X, Y1, Y2, Z, vocabulary, vnorm, partsofspeech1, partsofspeech2, superset, maxLen = read_maxentdata('aa1_ae1.txt')"
   ]
  },
  {
   "cell_type": "code",
   "execution_count": 53,
   "metadata": {
    "collapsed": true
   },
   "outputs": [],
   "source": [
    "# entire corpus\n",
    "# number of sentences, train: 9449, test: 3150, dev: 3150\n",
    "X, Y1, Y2, Z, vocabulary, vnorm, partsofspeech1, partsofspeech2, superset, maxLen = read_maxentdata('m2.txt')"
   ]
  },
  {
   "cell_type": "code",
   "execution_count": 54,
   "metadata": {},
   "outputs": [
    {
     "name": "stdout",
     "output_type": "stream",
     "text": [
      "\n",
      "Longest sentence   :  266\n",
      "Number of POS tags :  32\n",
      "Number of supertags:  891\n"
     ]
    }
   ],
   "source": [
    "numClasses = len(partsofspeech2)+1\n",
    "numSuperClasses = len(superset)+1\n",
    "\n",
    "print()\n",
    "print(\"Longest sentence   : \", maxLen)\n",
    "print(\"Number of POS tags : \", numClasses)\n",
    "print(\"Number of supertags: \", numSuperClasses)\n"
   ]
  },
  {
   "cell_type": "markdown",
   "metadata": {},
   "source": [
    "## 1. Split the input into train/dev/test\n",
    "\n",
    "Split the full training set into 60% train, 20% dev and 20% test."
   ]
  },
  {
   "cell_type": "code",
   "execution_count": 55,
   "metadata": {},
   "outputs": [
    {
     "name": "stdout",
     "output_type": "stream",
     "text": [
      "Train:  (9449,)\n",
      "Test:   (3150,)\n",
      "Dev:    (3150,)\n"
     ]
    }
   ],
   "source": [
    "# split the training data into the standard 60% train, 20% dev, 20% test \n",
    "X_train, X_testdev, Y_train, Y_testdev = train_test_split(X, Y2, test_size=0.4)\n",
    "X_test, X_dev, Y_test, Y_dev = train_test_split(X_testdev, Y_testdev, test_size=0.5)\n",
    "print(\"Train: \", X_train.shape)\n",
    "print(\"Test:  \", X_test.shape)\n",
    "print(\"Dev:   \", X_dev.shape)\n"
   ]
  },
  {
   "cell_type": "markdown",
   "metadata": {},
   "source": [
    "## 2. Create auxiliary mappings\n",
    "\n",
    "Create mappings from supertags and the two sets of part-of-speech tags to integers and back."
   ]
  },
  {
   "cell_type": "code",
   "execution_count": 56,
   "metadata": {},
   "outputs": [
    {
     "name": "stdout",
     "output_type": "stream",
     "text": [
      "{'PRO:POS': 1, 'VER:ppre': 2, 'PRO:IND': 3, 'VER:pres': 4, 'DET:POS': 5, 'SYM': 6, 'PRO:DEM': 7, 'VER:subp': 8, 'VER:impe': 9, 'NUM': 10, 'VER:futu': 11, 'PUN:cit': 12, 'DET:ART': 13, 'PRP': 14, 'PRP:det': 15, 'VER:cond': 16, 'NAM': 17, 'ABR': 18, 'VER:impf': 19, 'PUN': 20, 'KON': 21, 'PRO:REL': 22, 'VER:infi': 23, 'NOM': 24, 'ADJ': 25, 'PRO:PER': 26, 'PRO': 27, 'VER:pper': 28, 'VER:simp': 29, 'ADV': 30, 'INT': 31}\n"
     ]
    }
   ],
   "source": [
    "# create mapping for the two POS tagset and for the supertags\n",
    "\n",
    "super_to_index, index_to_super = indexify(superset)\n",
    "pos1_to_index, index_to_pos1 = indexify(partsofspeech1)\n",
    "pos2_to_index, index_to_pos2 = indexify(partsofspeech2)\n",
    "print(pos2_to_index)"
   ]
  },
  {
   "cell_type": "markdown",
   "metadata": {},
   "source": [
    "## 3. Obtain the word vector information\n",
    "\n",
    "We are using a shell call to the compiled fastText code to produce a file _vectors.txt_ with the relevant vectors. "
   ]
  },
  {
   "cell_type": "markdown",
   "metadata": {
    "collapsed": true
   },
   "source": [
    "### 3.1. Feature vectors"
   ]
  },
  {
   "cell_type": "markdown",
   "metadata": {},
   "source": [
    "#### Suffixes"
   ]
  },
  {
   "cell_type": "code",
   "execution_count": 6,
   "metadata": {
    "scrolled": true
   },
   "outputs": [
    {
     "name": "stdout",
     "output_type": "stream",
     "text": [
      "203\n"
     ]
    }
   ],
   "source": [
    "french_suffixes = read_suffixes('suffixes.txt')\n",
    "print(len(french_suffixes))"
   ]
  },
  {
   "cell_type": "code",
   "execution_count": 7,
   "metadata": {},
   "outputs": [
    {
     "data": {
      "text/plain": [
       "array([ 0.,  0.,  0.,  0.,  0.,  0.,  0.,  0.,  0.,  0.,  0.,  0.,  1.,\n",
       "        0.,  0.,  0.,  0.,  0.,  0.,  0.,  0.,  0.,  0.,  0.,  0.,  0.,\n",
       "        0.,  0.,  0.,  0.,  0.,  0.,  0.,  0.,  0.,  0.,  0.,  0.,  0.,\n",
       "        0.,  0.,  0.,  0.,  0.,  0.,  0.,  0.,  0.,  0.,  0.,  0.,  0.,\n",
       "        0.,  0.,  0.,  0.,  0.,  0.,  0.,  0.,  0.,  0.,  0.,  0.,  0.,\n",
       "        0.,  0.,  0.,  0.,  0.,  1.,  0.,  0.,  0.,  1.,  0.,  0.,  0.,\n",
       "        0.,  0.,  0.,  0.,  0.,  0.,  0.,  0.,  0.,  0.,  0.,  0.,  0.,\n",
       "        0.,  0.,  0.,  0.,  0.,  0.,  0.,  0.,  0.,  0.,  0.,  0.,  0.,\n",
       "        0.,  0.,  0.,  0.,  0.,  0.,  0.,  0.,  0.,  0.,  0.,  0.,  0.,\n",
       "        0.,  0.,  0.,  0.,  0.,  0.,  0.,  0.,  0.,  0.,  0.,  0.,  0.,\n",
       "        0.,  0.,  0.,  0.,  0.,  0.,  0.,  0.,  0.,  0.,  0.,  0.,  0.,\n",
       "        0.,  0.,  0.,  0.,  0.,  0.,  0.,  0.,  0.,  0.,  0.,  0.,  0.,\n",
       "        0.,  0.,  0.,  0.,  0.,  0.,  0.,  0.,  0.,  0.,  0.,  0.,  0.,\n",
       "        0.,  0.,  0.,  0.,  0.,  0.,  0.,  0.,  0.,  0.,  0.,  0.,  0.,\n",
       "        0.,  0.,  0.,  0.,  0.,  0.,  0.,  0.,  0.,  0.,  0.,  0.,  0.,\n",
       "        0.,  0.,  0.,  0.,  0.,  0.,  0.,  0.,  0.])"
      ]
     },
     "execution_count": 7,
     "metadata": {},
     "output_type": "execute_result"
    }
   ],
   "source": [
    "suffix_vector(\"seraient\", french_suffixes)"
   ]
  },
  {
   "cell_type": "markdown",
   "metadata": {},
   "source": [
    "#### Manually designed features"
   ]
  },
  {
   "cell_type": "code",
   "execution_count": 8,
   "metadata": {},
   "outputs": [
    {
     "name": "stdout",
     "output_type": "stream",
     "text": [
      "[ 1.  1.  0.  0.  0.  0.  0.  0.  0.  0.  0.  0.  0.  0.  0.  0.  0.  0.\n",
      "  0.  0.  0.  0.  0.  0.  0.  0.  0.  0.  0.  0.  0.  0.  0.  0.  0.  0.\n",
      "  0.  0.  0.  0.  0.  0.  0.  0.  0.  0.  0.  0.  0.  0.  0.  0.  0.  0.\n",
      "  0.  0.  0.  0.  0.  0.  0.  0.  0.  0.  0.  0.  0.  0.  0.  0.  0.  0.\n",
      "  0.  0.  0.  0.  0.  0.  0.  0.  0.  0.  0.  0.  0.  0.  0.  0.  0.  0.\n",
      "  0.  0.  0.  0.  0.  0.  0.  0.  0.  0.  0.  0.  0.  0.  0.  0.  0.  0.\n",
      "  0.  0.  0.  0.  0.  0.  0.  0.  0.  0.  0.  0.  0.  0.  0.  0.  0.  0.\n",
      "  0.  0.  0.  0.  0.  0.  0.  0.  0.  0.  0.  0.  0.  0.  0.  0.  0.  0.\n",
      "  0.  0.  0.  0.  0.  0.  0.  0.  0.  0.  0.  0.  0.  0.  0.]\n",
      "[ 0.  1.  0.  0.  0.  0.  0.  0.  0.  0.  0.  0.  0.  0.  0.  0.  0.  0.\n",
      "  0.  0.  0.  0.  0.  0.  0.  0.  0.  0.  0.  0.  0.  0.  0.  0.  0.  0.\n",
      "  0.  0.  0.  0.  0.  0.  0.  0.  0.  0.  0.  0.  0.  0.  0.  0.  0.  0.\n",
      "  0.  0.  0.  0.  0.  0.  0.  0.  0.  0.  0.  0.  0.  0.  0.  0.  0.  0.\n",
      "  0.  0.  0.  0.  0.  0.  0.  0.  0.  0.  0.  0.  0.  0.  0.  0.  0.  0.\n",
      "  0.  0.  0.  0.  0.  0.  0.  0.  0.  0.  0.  0.  0.  0.  0.  0.  0.  0.\n",
      "  0.  0.  0.  0.  0.  0.  0.  0.  0.  0.  0.  0.  0.  0.  0.  0.  0.  0.\n",
      "  0.  0.  0.  0.  0.  0.  0.  0.  0.  0.  0.  0.  0.  0.  0.  0.  0.  0.\n",
      "  0.  0.  0.  0.  0.  0.  0.  0.  0.  0.  0.  0.  0.  0.  0.]\n",
      "[ 0.  0.  1.  0.  0.  0.  1.  0.  0.  0.  0.  0.  0.  0.  0.  0.  0.  0.\n",
      "  0.  0.  0.  0.  0.  0.  0.  0.  0.  0.  0.  0.  0.  0.  0.  0.  0.  0.\n",
      "  0.  0.  0.  0.  0.  0.  0.  0.  0.  0.  0.  0.  0.  0.  0.  0.  0.  0.\n",
      "  0.  0.  0.  0.  0.  0.  0.  0.  0.  0.  0.  0.  0.  0.  0.  0.  0.  0.\n",
      "  0.  0.  0.  0.  0.  0.  0.  0.  0.  0.  0.  0.  0.  0.  0.  0.  0.  0.\n",
      "  0.  0.  0.  0.  0.  0.  0.  0.  0.  0.  0.  0.  0.  0.  0.  0.  0.  0.\n",
      "  0.  0.  0.  0.  0.  0.  0.  0.  0.  0.  0.  0.  0.  0.  0.  0.  0.  0.\n",
      "  0.  0.  0.  0.  0.  0.  0.  0.  0.  0.  0.  0.  0.  0.  0.  0.  0.  0.\n",
      "  0.  0.  0.  0.  0.  0.  0.  0.  0.  0.  0.  0.  0.  0.  0.]\n",
      "[ 0.  0.  0.  1.  0.  0.  0.  0.  0.  0.  0.  0.  0.  0.  0.  0.  0.  0.\n",
      "  0.  0.  0.  0.  0.  0.  0.  0.  0.  0.  0.  0.  0.  0.  0.  0.  0.  0.\n",
      "  0.  0.  0.  0.  0.  0.  0.  0.  0.  0.  0.  0.  0.  0.  0.  0.  0.  0.\n",
      "  0.  0.  0.  0.  0.  0.  0.  0.  0.  0.  0.  0.  0.  0.  0.  0.  0.  0.\n",
      "  0.  0.  0.  0.  0.  0.  0.  0.  0.  0.  0.  0.  0.  0.  0.  0.  0.  0.\n",
      "  0.  0.  0.  0.  0.  0.  0.  0.  0.  0.  0.  0.  0.  0.  0.  0.  0.  0.\n",
      "  0.  0.  0.  0.  0.  0.  0.  0.  0.  0.  0.  0.  0.  0.  0.  0.  0.  0.\n",
      "  0.  0.  0.  0.  0.  0.  0.  0.  0.  0.  0.  0.  0.  0.  0.  0.  0.  0.\n",
      "  0.  0.  0.  0.  0.  0.  0.  0.  0.  0.  0.  0.  0.  0.  0.]\n",
      "[ 0.  1.  0.  1.  0.  0.  0.  1.  0.  0.  0.  0.  0.  0.  0.  0.  0.  0.\n",
      "  0.  0.  0.  0.  0.  0.  0.  0.  0.  0.  0.  0.  0.  0.  0.  0.  0.  0.\n",
      "  0.  0.  0.  0.  0.  0.  0.  0.  0.  0.  0.  0.  0.  0.  0.  0.  0.  0.\n",
      "  0.  0.  0.  0.  0.  0.  0.  0.  0.  0.  0.  0.  0.  0.  0.  0.  0.  0.\n",
      "  0.  0.  0.  0.  0.  0.  0.  0.  0.  0.  0.  0.  0.  0.  0.  0.  0.  0.\n",
      "  0.  0.  0.  0.  0.  0.  0.  0.  0.  0.  0.  0.  0.  0.  0.  0.  0.  0.\n",
      "  0.  0.  0.  0.  0.  0.  0.  0.  0.  0.  0.  0.  0.  0.  0.  0.  0.  0.\n",
      "  0.  0.  0.  0.  0.  0.  0.  0.  0.  0.  0.  0.  0.  0.  0.  0.  0.  0.\n",
      "  0.  0.  0.  0.  0.  0.  0.  0.  0.  0.  0.  0.  0.  0.  0.]\n",
      "[ 0.  0.  0.  1.  1.  0.  0.  1.  0.  0.  0.  0.  0.  0.  0.  0.  0.  0.\n",
      "  0.  0.  0.  0.  0.  0.  0.  1.  0.  0.  0.  0.  0.  0.  0.  0.  0.  0.\n",
      "  0.  0.  0.  0.  0.  0.  0.  0.  0.  0.  0.  0.  0.  0.  0.  0.  0.  0.\n",
      "  0.  0.  0.  0.  0.  0.  0.  0.  0.  0.  0.  0.  0.  0.  0.  0.  0.  0.\n",
      "  0.  0.  0.  0.  0.  0.  0.  0.  0.  0.  0.  0.  0.  0.  0.  0.  0.  0.\n",
      "  0.  0.  0.  0.  0.  0.  0.  0.  0.  0.  0.  0.  0.  0.  0.  0.  0.  0.\n",
      "  0.  0.  0.  0.  0.  0.  0.  0.  0.  0.  0.  0.  0.  0.  0.  0.  0.  0.\n",
      "  0.  0.  0.  0.  0.  0.  0.  0.  0.  0.  0.  0.  0.  0.  0.  0.  0.  0.\n",
      "  0.  0.  0.  0.  0.  0.  0.  0.  0.  0.  0.  0.  0.  0.  0.]\n",
      "[ 0.  1.  0.  0.  0.  0.  0.  0.  0.  0.  0.  0.  0.  0.  0.  0.  0.  0.\n",
      "  0.  0.  0.  1.  0.  0.  0.  0.  0.  0.  0.  0.  1.  0.  0.  0.  0.  0.\n",
      "  0.  0.  0.  0.  0.  0.  0.  0.  0.  0.  0.  0.  0.  0.  0.  0.  0.  0.\n",
      "  0.  0.  0.  0.  0.  0.  0.  0.  0.  0.  0.  0.  0.  0.  0.  0.  0.  0.\n",
      "  0.  0.  0.  0.  0.  0.  0.  0.  0.  0.  0.  0.  0.  0.  0.  0.  0.  0.\n",
      "  0.  0.  0.  0.  0.  0.  0.  0.  0.  0.  0.  0.  0.  0.  0.  0.  0.  0.\n",
      "  0.  0.  0.  0.  0.  0.  0.  0.  0.  0.  0.  1.  0.  0.  0.  0.  0.  0.\n",
      "  0.  0.  0.  0.  0.  0.  0.  0.  0.  0.  0.  0.  0.  0.  0.  0.  0.  0.\n",
      "  0.  0.  0.  0.  0.  0.  0.  0.  0.  0.  0.  0.  0.  0.  0.]\n",
      "[ 0.  0.  0.  0.  0.  0.  0.  0.  0.  0.  0.  0.  0.  0.  0.  0.  0.  0.\n",
      "  0.  0.  0.  1.  0.  0.  0.  0.  0.  0.  0.  0.  0.  0.  0.  0.  0.  0.\n",
      "  0.  0.  0.  0.  0.  0.  0.  0.  0.  0.  0.  0.  0.  0.  0.  0.  0.  0.\n",
      "  0.  0.  0.  0.  0.  0.  0.  0.  0.  0.  0.  0.  0.  0.  0.  0.  0.  0.\n",
      "  0.  0.  0.  0.  0.  0.  0.  0.  0.  0.  0.  0.  0.  0.  0.  0.  0.  0.\n",
      "  0.  0.  0.  0.  0.  0.  0.  0.  0.  0.  0.  0.  0.  0.  0.  0.  0.  0.\n",
      "  0.  0.  0.  0.  0.  0.  0.  0.  0.  0.  0.  0.  0.  0.  0.  0.  0.  0.\n",
      "  0.  1.  0.  0.  0.  0.  0.  0.  0.  0.  0.  0.  0.  0.  0.  0.  0.  0.\n",
      "  0.  0.  0.  0.  0.  0.  0.  0.  0.  0.  0.  0.  0.  0.  0.]\n",
      "[ 0.  0.  0.  1.  0.  1.  0.  0.  0.  0.  0.  0.  0.  0.  0.  0.  0.  0.\n",
      "  0.  0.  0.  0.  0.  0.  0.  0.  0.  0.  0.  0.  0.  0.  0.  0.  0.  0.\n",
      "  0.  0.  0.  0.  0.  0.  0.  0.  0.  0.  0.  0.  0.  0.  0.  0.  0.  0.\n",
      "  0.  0.  0.  0.  0.  0.  0.  0.  0.  0.  0.  0.  0.  0.  0.  0.  0.  0.\n",
      "  0.  0.  0.  0.  0.  0.  0.  0.  0.  0.  0.  0.  0.  0.  0.  0.  0.  0.\n",
      "  0.  0.  0.  0.  0.  0.  0.  0.  0.  0.  0.  0.  0.  0.  0.  0.  0.  0.\n",
      "  0.  0.  0.  0.  0.  0.  0.  0.  0.  0.  0.  0.  0.  0.  0.  0.  0.  0.\n",
      "  0.  0.  0.  0.  0.  0.  0.  0.  0.  0.  0.  0.  0.  0.  0.  0.  0.  0.\n",
      "  0.  0.  0.  0.  0.  0.  0.  0.  0.  0.  0.  0.  0.  0.  0.]\n",
      "[ 0.  0.  0.  0.  0.  0.  0.  0.  0.  0.  0.  0.  0.  0.  0.  0.  0.  0.\n",
      "  0.  0.  0.  0.  0.  0.  0.  0.  0.  0.  1.  0.  0.  0.  0.  0.  0.  0.\n",
      "  0.  0.  0.  0.  0.  0.  0.  0.  0.  0.  0.  0.  0.  0.  1.  0.  0.  0.\n",
      "  0.  0.  0.  0.  0.  0.  0.  0.  0.  0.  0.  0.  0.  0.  0.  0.  0.  0.\n",
      "  0.  0.  0.  0.  0.  0.  0.  0.  0.  0.  0.  0.  0.  0.  0.  0.  0.  0.\n",
      "  0.  0.  0.  0.  0.  0.  0.  0.  0.  0.  0.  0.  0.  0.  0.  0.  0.  0.\n",
      "  0.  0.  0.  0.  0.  0.  0.  0.  0.  0.  0.  0.  0.  0.  0.  0.  0.  0.\n",
      "  0.  0.  0.  0.  0.  0.  0.  0.  0.  0.  0.  0.  0.  0.  0.  0.  0.  0.\n",
      "  0.  0.  0.  0.  0.  0.  0.  0.  0.  0.  0.  0.  0.  0.  0.]\n",
      "[ 0.  0.  0.  0.  0.  0.  0.  0.  0.  0.  0.  0.  0.  0.  0.  0.  0.  0.\n",
      "  0.  0.  0.  0.  0.  0.  0.  0.  0.  0.  1.  0.  0.  0.  0.  0.  0.  0.\n",
      "  0.  0.  0.  0.  0.  0.  0.  0.  0.  0.  0.  0.  0.  0.  0.  0.  0.  0.\n",
      "  0.  0.  0.  0.  0.  0.  0.  0.  0.  0.  0.  0.  0.  0.  0.  0.  0.  0.\n",
      "  0.  0.  0.  0.  0.  0.  0.  0.  0.  0.  0.  0.  0.  0.  0.  0.  0.  0.\n",
      "  0.  0.  0.  0.  0.  0.  0.  0.  0.  0.  0.  0.  0.  0.  0.  0.  0.  0.\n",
      "  0.  0.  0.  0.  0.  0.  0.  0.  0.  0.  0.  0.  0.  0.  0.  0.  0.  0.\n",
      "  0.  0.  0.  0.  0.  0.  0.  0.  0.  0.  0.  0.  0.  0.  0.  0.  0.  0.\n",
      "  0.  0.  0.  0.  0.  0.  0.  0.  0.  0.  0.  0.  0.  0.  0.]\n",
      "[ 0.  0.  0.  1.  1.  0.  0.  1.  0.  0.  0.  0.  0.  0.  0.  0.  0.  0.\n",
      "  0.  0.  0.  0.  0.  0.  0.  1.  0.  0.  0.  0.  0.  0.  0.  0.  0.  0.\n",
      "  0.  0.  0.  0.  0.  0.  0.  0.  0.  0.  0.  0.  0.  0.  0.  0.  0.  0.\n",
      "  0.  0.  0.  0.  0.  0.  0.  0.  0.  0.  0.  0.  0.  0.  0.  0.  0.  0.\n",
      "  0.  0.  0.  0.  0.  0.  0.  0.  0.  0.  0.  0.  0.  0.  0.  0.  0.  0.\n",
      "  0.  0.  0.  0.  0.  0.  0.  0.  0.  0.  0.  0.  0.  0.  0.  0.  0.  0.\n",
      "  0.  0.  0.  0.  0.  0.  0.  0.  0.  0.  0.  0.  0.  0.  0.  0.  0.  0.\n",
      "  0.  0.  0.  0.  0.  0.  0.  0.  0.  0.  0.  0.  0.  0.  0.  0.  0.  0.\n",
      "  0.  0.  0.  0.  0.  0.  0.  0.  0.  0.  0.  0.  0.  0.  0.]\n",
      "[ 0.  0.  0.  1.  1.  0.  0.  0.  0.  0.  0.  0.  0.  0.  0.  0.  0.  0.\n",
      "  0.  0.  0.  0.  0.  0.  0.  1.  0.  0.  0.  0.  0.  0.  0.  0.  0.  0.\n",
      "  0.  0.  0.  0.  0.  0.  0.  0.  0.  0.  0.  0.  0.  0.  0.  0.  0.  0.\n",
      "  0.  0.  0.  0.  0.  0.  0.  0.  0.  0.  0.  0.  0.  0.  0.  0.  0.  0.\n",
      "  0.  0.  0.  0.  0.  0.  0.  0.  0.  0.  0.  0.  0.  0.  0.  0.  0.  0.\n",
      "  0.  0.  0.  0.  0.  0.  0.  0.  0.  0.  0.  0.  0.  0.  0.  0.  0.  0.\n",
      "  0.  0.  0.  0.  0.  0.  0.  0.  0.  0.  0.  0.  0.  0.  0.  0.  0.  0.\n",
      "  0.  0.  0.  0.  0.  0.  0.  0.  0.  0.  0.  0.  0.  0.  0.  0.  0.  0.\n",
      "  0.  0.  0.  0.  0.  0.  0.  0.  0.  0.  0.  0.  0.  0.  0.]\n",
      "[ 0.  0.  0.  1.  1.  0.  0.  0.  0.  0.  0.  0.  0.  0.  0.  0.  0.  0.\n",
      "  0.  0.  0.  0.  0.  0.  0.  1.  0.  0.  0.  0.  0.  0.  0.  0.  0.  0.\n",
      "  0.  0.  0.  0.  0.  0.  0.  0.  0.  0.  0.  0.  0.  0.  0.  0.  0.  0.\n",
      "  0.  0.  0.  0.  0.  0.  0.  0.  0.  0.  0.  0.  0.  0.  0.  0.  0.  0.\n",
      "  0.  0.  0.  0.  0.  0.  0.  0.  0.  0.  0.  0.  0.  0.  0.  0.  0.  0.\n",
      "  0.  0.  0.  0.  0.  0.  0.  0.  0.  0.  0.  0.  0.  0.  0.  0.  0.  0.\n",
      "  0.  0.  0.  0.  0.  0.  0.  0.  0.  0.  0.  0.  0.  0.  0.  0.  0.  0.\n",
      "  0.  0.  0.  0.  0.  0.  0.  0.  0.  0.  0.  0.  0.  0.  0.  0.  0.  0.\n",
      "  0.  0.  0.  0.  0.  0.  0.  0.  0.  0.  0.  0.  0.  0.  0.]\n",
      "[ 0.  0.  0.  0.  0.  0.  0.  0.  0.  0.  0.  0.  0.  0.  0.  0.  0.  0.\n",
      "  0.  1.  0.  0.  0.  0.  0.  0.  0.  0.  0.  0.  0.  0.  0.  0.  0.  0.\n",
      "  0.  0.  0.  0.  0.  0.  0.  0.  0.  0.  0.  0.  0.  0.  0.  0.  0.  0.\n",
      "  0.  0.  0.  0.  0.  0.  0.  0.  0.  0.  0.  0.  0.  0.  0.  0.  0.  0.\n",
      "  0.  0.  0.  0.  0.  0.  0.  0.  0.  0.  0.  0.  0.  0.  0.  0.  0.  0.\n",
      "  0.  0.  0.  0.  0.  0.  0.  0.  0.  0.  0.  0.  0.  0.  0.  0.  0.  0.\n",
      "  0.  0.  0.  0.  0.  0.  0.  0.  0.  0.  0.  0.  0.  0.  0.  0.  0.  0.\n",
      "  0.  0.  0.  0.  0.  0.  0.  0.  0.  0.  0.  0.  0.  0.  0.  0.  0.  0.\n",
      "  0.  0.  0.  0.  0.  0.  0.  0.  0.  0.  0.  0.  0.  0.  0.]\n"
     ]
    }
   ],
   "source": [
    "print(word_features(\"ABCD\"))\n",
    "print(word_features(\"Abcd\"))\n",
    "print(word_features(\"1234\"))\n",
    "print(word_features(\"*%\"))\n",
    "print(word_features(\"Ab-cd\"))\n",
    "print(word_features(\"-t-il\"))\n",
    "print(word_features(\"Contre\"))\n",
    "print(word_features(\"dans\"))\n",
    "print(word_features(\"anti-\"))\n",
    "print(word_features(\"et\"))\n",
    "print(word_features(\"ou\"))\n",
    "print(word_features(\"-t-il\"))\n",
    "print(word_features(\"-il\"))\n",
    "print(word_features(\"-tu\"))\n",
    "print(word_features(\"eussent\"))"
   ]
  },
  {
   "cell_type": "markdown",
   "metadata": {},
   "source": [
    "### 3.2. Sending the vocabulary through the fasttext executable"
   ]
  },
  {
   "cell_type": "markdown",
   "metadata": {},
   "source": [
    "Write the vocabulary to an output file, then pass it to the fastText executable to produce the relevant word embeddings for our text. Since the fastText model is over 5 Gb, the shell call can take some time."
   ]
  },
  {
   "cell_type": "code",
   "execution_count": 9,
   "metadata": {
    "collapsed": true
   },
   "outputs": [],
   "source": [
    "with open(\"vocab.txt\", 'w') as vocab_file:\n",
    "    for w in vnorm:\n",
    "        print(w, file=vocab_file)"
   ]
  },
  {
   "cell_type": "markdown",
   "metadata": {},
   "source": [
    "Shell call to `fasttext` for my Macbook Air"
   ]
  },
  {
   "cell_type": "code",
   "execution_count": null,
   "metadata": {
    "collapsed": true
   },
   "outputs": [],
   "source": [
    "!/Users/moot/Software/fastText-master/fasttext print-word-vectors /Users/moot/Corpus/wiki.fr/wiki.fr.bin < vocab.txt > vectors.txt"
   ]
  },
  {
   "cell_type": "markdown",
   "metadata": {},
   "source": [
    "Shell call to `fasttest` for my Macbook Pro, with `wiki.fr.bin` on external drive"
   ]
  },
  {
   "cell_type": "code",
   "execution_count": null,
   "metadata": {
    "collapsed": true
   },
   "outputs": [],
   "source": [
    "!/Users/moot/Software/fastText-master/fasttext print-word-vectors /Volumes/LaCie/Corpus/fastText/wiki/wiki.fr.bin < vocab.txt > vectors.txt"
   ]
  },
  {
   "cell_type": "markdown",
   "metadata": {},
   "source": [
    "#### Combine all vector information\n",
    "\n",
    "Combined all information from fasttext, suffixes, manually selected features and the features for digits (which are not in fasttext) to produce combined feature vectors for all words "
   ]
  },
  {
   "cell_type": "code",
   "execution_count": 57,
   "metadata": {},
   "outputs": [],
   "source": [
    "word_to_index, index_to_word, word_to_vec_map = read_vecs('vectors.txt', vnorm, vocabulary)"
   ]
  },
  {
   "cell_type": "markdown",
   "metadata": {},
   "source": [
    "### 3.3. The Embedding layer\n",
    "\n",
    "In Keras, the embedding matrix is represented as a \"layer\", and maps positive integers (indices corresponding to words) into dense vectors of fixed size (the embedding vectors). It can be trained or initialized with a pretrained embedding. In this part, we create an [Embedding()](https://keras.io/layers/embeddings/) layer in Keras, and initialize it with the fastTeX vectors loaded earlier in the notebook. \n",
    "\n",
    "The `Embedding()` layer takes an integer matrix of size (batch size, max input length) as input. This corresponds to sentences converted into lists of indices (integers), as shown in the figure below.\n",
    "\n",
    "The largest integer (i.e. word index) in the input should be no larger than the vocabulary size. The layer outputs an array of shape (batch size, max input length, dimension of word vectors).\n",
    "\n",
    "We first convert all our training sentences into lists of indices, and then zero-pad all these lists so that their length is the length of the longest sentence. \n",
    "\n",
    "**TODO**: I'd like try if it makes any difference to add the </s> end tag to the end of each sentence. "
   ]
  },
  {
   "cell_type": "markdown",
   "metadata": {},
   "source": [
    "Run the following cell to check what `sentences_to_indices()` does, and check your results."
   ]
  },
  {
   "cell_type": "code",
   "execution_count": 58,
   "metadata": {},
   "outputs": [
    {
     "data": {
      "text/plain": [
       "array([[  1.25340000e+04,   1.82240000e+04,   1.29310000e+04, ...,\n",
       "          0.00000000e+00,   0.00000000e+00,   0.00000000e+00],\n",
       "       [  1.83460000e+04,   2.27170000e+04,   3.14190000e+04, ...,\n",
       "          0.00000000e+00,   0.00000000e+00,   0.00000000e+00],\n",
       "       [  2.29150000e+04,   2.64000000e+04,   9.00000000e+00, ...,\n",
       "          0.00000000e+00,   0.00000000e+00,   0.00000000e+00],\n",
       "       ..., \n",
       "       [  1.82640000e+04,   2.32960000e+04,   1.55840000e+04, ...,\n",
       "          0.00000000e+00,   0.00000000e+00,   0.00000000e+00],\n",
       "       [  3.38090000e+04,   3.41290000e+04,   2.83940000e+04, ...,\n",
       "          0.00000000e+00,   0.00000000e+00,   0.00000000e+00],\n",
       "       [  1.93640000e+04,   2.76210000e+04,   1.75100000e+03, ...,\n",
       "          0.00000000e+00,   0.00000000e+00,   0.00000000e+00]])"
      ]
     },
     "execution_count": 58,
     "metadata": {},
     "output_type": "execute_result"
    }
   ],
   "source": [
    "sentences_to_indices(X_train, word_to_index, maxLen)"
   ]
  },
  {
   "cell_type": "markdown",
   "metadata": {},
   "source": [
    "We now build the `Embedding()` layer for use with Keras, using pre-trained word vectors. After this layer is built, we can pass the output of `sentences_to_indices()` to it as an input, and the `Embedding()` layer will return the word embeddings for a sentence. \n",
    "\n",
    "We use the following steps:\n",
    "1. Initialize the embedding matrix as a numpy array of zeroes with the correct shape.\n",
    "2. Fill in the embedding matrix with all the word embeddings extracted from `word_to_vec_map`.\n",
    "3. Define Keras embedding layer. Use [Embedding()](https://keras.io/layers/embeddings/). Be sure to make this layer non-trainable, by setting `trainable = False` when calling `Embedding()`. If you were to set `trainable = True`, then it will allow the optimization algorithm to modify the values of the word embeddings. \n",
    "4. Set the embedding weights to be equal to the embedding matrix "
   ]
  },
  {
   "cell_type": "code",
   "execution_count": 59,
   "metadata": {
    "collapsed": true
   },
   "outputs": [],
   "source": [
    "\n",
    "def pretrained_embedding_layer(word_to_vec_map, word_to_index):\n",
    "    \"\"\"\n",
    "    Creates a Keras Embedding() layer and loads in pre-trained GloVe 50-dimensional vectors.\n",
    "    \n",
    "    Arguments:\n",
    "    word_to_vec_map -- dictionary mapping words to their GloVe vector representation.\n",
    "    word_to_index -- dictionary mapping from words to their indices in the vocabulary (400,001 words)\n",
    "\n",
    "    Returns:\n",
    "    embedding_layer -- pretrained layer Keras instance\n",
    "    \"\"\"\n",
    "    \n",
    "    vocab_len = len(word_to_index) + 2                  # adding 1 to fit Keras embedding (requirement)\n",
    "    emb_dim = word_to_vec_map[\"est\"].shape[0]      # define dimensionality of your GloVe word vectors (= 50)\n",
    "    \n",
    "    # Initialize the embedding matrix as a numpy array of zeros of shape (vocab_len, dimensions of word vectors = emb_dim)\n",
    "    emb_matrix = np.zeros((vocab_len,emb_dim))\n",
    "    \n",
    "    # Set each row \"index\" of the embedding matrix to be the word vector representation of the \"index\"th word of the vocabulary\n",
    "    for word, index in word_to_index.items():\n",
    "        emb_matrix[index, :] = word_to_vec_map[word]\n",
    "\n",
    "    # Define Keras embedding layer with the correct output/input sizes, make it trainable. Use Embedding(...). Make sure to set trainable=False. \n",
    "    embedding_layer = Embedding(vocab_len,emb_dim,trainable=False,mask_zero=True)\n",
    "    ### END CODE HERE ###\n",
    "\n",
    "    # Build the embedding layer, it is required before setting the weights of the embedding layer. Do not modify the \"None\".\n",
    "    embedding_layer.build((None,))\n",
    "    \n",
    "    # Set the weights of the embedding layer to the embedding matrix. Your layer is now pretrained.\n",
    "    embedding_layer.set_weights([emb_matrix])\n",
    "    \n",
    "    return embedding_layer"
   ]
  },
  {
   "cell_type": "code",
   "execution_count": 60,
   "metadata": {},
   "outputs": [
    {
     "name": "stdout",
     "output_type": "stream",
     "text": [
      "weights[0][2][1] = 0.19175\n"
     ]
    }
   ],
   "source": [
    "embedding_layer = pretrained_embedding_layer(word_to_vec_map, word_to_index)\n",
    "print(\"weights[0][2][1] =\", embedding_layer.get_weights()[0][2][1])"
   ]
  },
  {
   "cell_type": "markdown",
   "metadata": {},
   "source": [
    "**Expected Output**:\n",
    "\n",
    "<table>\n",
    "    <tr>\n",
    "        <td>\n",
    "            **weights[0][2][1] =**\n",
    "        </td>\n",
    "        <td>\n",
    "           0.19175\n",
    "        </td>\n",
    "    </tr>\n",
    "</table>"
   ]
  },
  {
   "cell_type": "markdown",
   "metadata": {},
   "source": [
    "## 4. Building the Part-of-Speech tagger\n",
    "\n",
    "We now build the POS-tagger model using the previously built enbedding layer and feed its output to a bidirectional LSTM network with 128 states in each direction. \n",
    "\n"
   ]
  },
  {
   "cell_type": "code",
   "execution_count": 61,
   "metadata": {
    "collapsed": true
   },
   "outputs": [],
   "source": [
    "# POS_model\n",
    "\n",
    "def POS_model(input_shape, word_to_vec_map, word_to_index):\n",
    "    \"\"\"\n",
    "    Function creating the Emojify-v2 model's graph.\n",
    "    \n",
    "    Arguments:\n",
    "    input_shape -- shape of the input, usually (max_len,)\n",
    "    word_to_vec_map -- dictionary mapping every word in a vocabulary into its 50-dimensional vector representation\n",
    "    word_to_index -- dictionary mapping from words to their indices in the vocabulary (400,001 words)\n",
    "\n",
    "    Returns:\n",
    "    model -- a model instance in Keras\n",
    "    \"\"\"\n",
    "    \n",
    "    # Define sentence_indices as the input of the graph, it should be of shape input_shape and dtype 'int32' (as it contains indices).\n",
    "    sentence_indices = Input(shape = input_shape, dtype = 'int32')\n",
    "    \n",
    "    # Create the embedding layer pretrained with GloVe Vectors (≈1 line)\n",
    "    embedding_layer = pretrained_embedding_layer(word_to_vec_map, word_to_index)\n",
    "    \n",
    "    # Propagate sentence_indices through your embedding layer, you get back the embeddings\n",
    "    embeddings = embedding_layer(sentence_indices)   \n",
    "    \n",
    "    # Propagate the embeddings through an LSTM layer with 128-dimensional hidden state\n",
    "    # returning a batch of sequences.\n",
    "    X = LSTM(128, return_sequences=True)(embeddings)\n",
    "    X = BatchNormalization()(X)\n",
    "    Y = Dropout(0.5)(X)\n",
    "    # Add a (time distributed) Dense layer followed by a softmax activation\n",
    "    Y = TimeDistributed(Dense(numClasses, activation='softmax'))(Y)\n",
    "    \n",
    "    # Create Model instance which converts sentence_indices into X.\n",
    "    model = Model(inputs=sentence_indices,outputs=Y)\n",
    "        \n",
    "    return model"
   ]
  },
  {
   "cell_type": "markdown",
   "metadata": {},
   "source": [
    "Run the following cell to create your model and check its summary. Because all sentences in the dataset are less than 10 words, we chose `max_len = 10`.  You should see your architecture, it uses \"20,223,927\" parameters, of which 20,000,050 (the word embeddings) are non-trainable, and the remaining 223,877 are. Because our vocabulary size has 400,001 words (with valid indices from 0 to 400,000) there are 400,001\\*50 = 20,000,050 non-trainable parameters. "
   ]
  },
  {
   "cell_type": "code",
   "execution_count": 62,
   "metadata": {
    "scrolled": false
   },
   "outputs": [
    {
     "name": "stdout",
     "output_type": "stream",
     "text": [
      "_________________________________________________________________\n",
      "Layer (type)                 Output Shape              Param #   \n",
      "=================================================================\n",
      "input_4 (InputLayer)         (None, 266)               0         \n",
      "_________________________________________________________________\n",
      "embedding_6 (Embedding)      (None, 266, 663)          23596170  \n",
      "_________________________________________________________________\n",
      "lstm_4 (LSTM)                (None, 266, 128)          405504    \n",
      "_________________________________________________________________\n",
      "batch_normalization_3 (Batch (None, 266, 128)          512       \n",
      "_________________________________________________________________\n",
      "dropout_4 (Dropout)          (None, 266, 128)          0         \n",
      "_________________________________________________________________\n",
      "time_distributed_4 (TimeDist (None, 266, 32)           4128      \n",
      "=================================================================\n",
      "Total params: 24,006,314\n",
      "Trainable params: 409,888\n",
      "Non-trainable params: 23,596,426\n",
      "_________________________________________________________________\n"
     ]
    }
   ],
   "source": [
    "model = POS_model((maxLen,), word_to_vec_map, word_to_index)\n",
    "model.summary()"
   ]
  },
  {
   "cell_type": "markdown",
   "metadata": {},
   "source": [
    "As usual, after creating your model in Keras, you need to compile it and define what loss, optimizer and metrics your are want to use. Compile your model using `categorical_crossentropy` loss, `adam` optimizer and `['accuracy']` metrics:"
   ]
  },
  {
   "cell_type": "code",
   "execution_count": 63,
   "metadata": {
    "collapsed": true
   },
   "outputs": [],
   "source": [
    "model.compile(loss='categorical_crossentropy', optimizer='adam', metrics=['accuracy'])"
   ]
  },
  {
   "cell_type": "markdown",
   "metadata": {},
   "source": [
    "It's time to train your model. Your Emojifier-V2 `model` takes as input an array of shape (`m`, `max_len`) and outputs probability vectors of shape (`m`, `number of classes`). We thus have to convert X_train (array of sentences as strings) to X_train_indices (array of sentences as list of word indices), and Y_train (labels as indices) to Y_train_oh (labels as one-hot vectors)."
   ]
  },
  {
   "cell_type": "code",
   "execution_count": 64,
   "metadata": {},
   "outputs": [],
   "source": [
    "X_train_indices = lists_to_indices(X_train, word_to_index, maxLen)\n",
    "Y_train_indices = lists_to_indices(Y_train, pos2_to_index, maxLen)\n",
    "Y_train_oh = to_categorical(Y_train_indices, num_classes=numClasses)"
   ]
  },
  {
   "cell_type": "code",
   "execution_count": 65,
   "metadata": {},
   "outputs": [
    {
     "name": "stdout",
     "output_type": "stream",
     "text": [
      "[  2.  13.  24.  25.  14.  13.  17.  20.  13.  24.   4.  15.  24.  25.  14.\n",
      "  13.  24.  15.  24.  14.  24.  20.   0.   0.   0.   0.   0.   0.   0.   0.\n",
      "   0.   0.   0.   0.   0.   0.   0.   0.   0.   0.   0.   0.   0.   0.   0.\n",
      "   0.   0.   0.   0.   0.   0.   0.   0.   0.   0.   0.   0.   0.   0.   0.\n",
      "   0.   0.   0.   0.   0.   0.   0.   0.   0.   0.   0.   0.   0.   0.   0.\n",
      "   0.   0.   0.   0.   0.   0.   0.   0.   0.   0.   0.   0.   0.   0.   0.\n",
      "   0.   0.   0.   0.   0.   0.   0.   0.   0.   0.   0.   0.   0.   0.   0.\n",
      "   0.   0.   0.   0.   0.   0.   0.   0.   0.   0.   0.   0.   0.   0.   0.\n",
      "   0.   0.   0.   0.   0.   0.   0.   0.   0.   0.   0.   0.   0.   0.   0.\n",
      "   0.   0.   0.   0.   0.   0.   0.   0.   0.   0.   0.   0.   0.   0.   0.\n",
      "   0.   0.   0.   0.   0.   0.   0.   0.   0.   0.   0.   0.   0.   0.   0.\n",
      "   0.   0.   0.   0.   0.   0.   0.   0.   0.   0.   0.   0.   0.   0.   0.\n",
      "   0.   0.   0.   0.   0.   0.   0.   0.   0.   0.   0.   0.   0.   0.   0.\n",
      "   0.   0.   0.   0.   0.   0.   0.   0.   0.   0.   0.   0.   0.   0.   0.\n",
      "   0.   0.   0.   0.   0.   0.   0.   0.   0.   0.   0.   0.   0.   0.   0.\n",
      "   0.   0.   0.   0.   0.   0.   0.   0.   0.   0.   0.   0.   0.   0.   0.\n",
      "   0.   0.   0.   0.   0.   0.   0.   0.   0.   0.   0.   0.   0.   0.   0.\n",
      "   0.   0.   0.   0.   0.   0.   0.   0.   0.   0.   0.]\n",
      "[[ 0.  0.  1. ...,  0.  0.  0.]\n",
      " [ 0.  0.  0. ...,  0.  0.  0.]\n",
      " [ 0.  0.  0. ...,  0.  0.  0.]\n",
      " ..., \n",
      " [ 1.  0.  0. ...,  0.  0.  0.]\n",
      " [ 1.  0.  0. ...,  0.  0.  0.]\n",
      " [ 1.  0.  0. ...,  0.  0.  0.]]\n"
     ]
    }
   ],
   "source": [
    "print(Y_train_indices[1])\n",
    "print(Y_train_oh[1])"
   ]
  },
  {
   "cell_type": "code",
   "execution_count": 66,
   "metadata": {
    "collapsed": true
   },
   "outputs": [],
   "source": [
    "X_dev_indices = lists_to_indices(X_dev, word_to_index, max_len = maxLen)\n",
    "Y_dev_indices = lists_to_indices(Y_dev, pos2_to_index, max_len = maxLen)\n",
    "Y_dev_oh = to_categorical(Y_dev_indices, num_classes = numClasses)"
   ]
  },
  {
   "cell_type": "markdown",
   "metadata": {},
   "source": [
    "Fit the Keras model on `X_train_indices` and `Y_train_oh`. We will use `epochs = 50` and `batch_size = 32`."
   ]
  },
  {
   "cell_type": "code",
   "execution_count": 67,
   "metadata": {
    "scrolled": true
   },
   "outputs": [
    {
     "name": "stdout",
     "output_type": "stream",
     "text": [
      "Train on 9449 samples, validate on 3150 samples\n",
      "Epoch 1/30\n",
      "9449/9449 [==============================] - 217s 23ms/step - loss: 0.4683 - acc: 0.8835 - val_loss: 0.0889 - val_acc: 0.9760\n",
      "Epoch 2/30\n",
      "9449/9449 [==============================] - 215s 23ms/step - loss: 0.1003 - acc: 0.9729 - val_loss: 0.0675 - val_acc: 0.9805\n",
      "Epoch 3/30\n",
      "9449/9449 [==============================] - 215s 23ms/step - loss: 0.0788 - acc: 0.9775 - val_loss: 0.0610 - val_acc: 0.9825\n",
      "Epoch 4/30\n",
      "9449/9449 [==============================] - 213s 23ms/step - loss: 0.0696 - acc: 0.9797 - val_loss: 0.0574 - val_acc: 0.9834\n",
      "Epoch 5/30\n",
      "9449/9449 [==============================] - 218s 23ms/step - loss: 0.0622 - acc: 0.9816 - val_loss: 0.0590 - val_acc: 0.9825\n",
      "Epoch 6/30\n",
      "9449/9449 [==============================] - 216s 23ms/step - loss: 0.0574 - acc: 0.9827 - val_loss: 0.0517 - val_acc: 0.9851\n",
      "Epoch 7/30\n",
      "9449/9449 [==============================] - 214s 23ms/step - loss: 0.0541 - acc: 0.9834 - val_loss: 0.0501 - val_acc: 0.9851\n",
      "Epoch 8/30\n",
      "9449/9449 [==============================] - 216s 23ms/step - loss: 0.0514 - acc: 0.9842 - val_loss: 0.0496 - val_acc: 0.9857\n",
      "Epoch 9/30\n",
      "9449/9449 [==============================] - 211s 22ms/step - loss: 0.0478 - acc: 0.9854 - val_loss: 0.0505 - val_acc: 0.9856\n",
      "Epoch 10/30\n",
      "9449/9449 [==============================] - 202s 21ms/step - loss: 0.0451 - acc: 0.9860 - val_loss: 0.0474 - val_acc: 0.9862\n",
      "Epoch 11/30\n",
      "9449/9449 [==============================] - 207s 22ms/step - loss: 0.0424 - acc: 0.9867 - val_loss: 0.0486 - val_acc: 0.9860\n",
      "Epoch 12/30\n",
      "9449/9449 [==============================] - 204s 22ms/step - loss: 0.0400 - acc: 0.9874 - val_loss: 0.0468 - val_acc: 0.9866\n",
      "Epoch 13/30\n",
      "9449/9449 [==============================] - 206s 22ms/step - loss: 0.0382 - acc: 0.9879 - val_loss: 0.0448 - val_acc: 0.9868\n",
      "Epoch 14/30\n",
      "9449/9449 [==============================] - 206s 22ms/step - loss: 0.0365 - acc: 0.9885 - val_loss: 0.0465 - val_acc: 0.9865\n",
      "Epoch 15/30\n",
      "9449/9449 [==============================] - 209s 22ms/step - loss: 0.0350 - acc: 0.9887 - val_loss: 0.0453 - val_acc: 0.9869\n",
      "Epoch 16/30\n",
      "9449/9449 [==============================] - 206s 22ms/step - loss: 0.0321 - acc: 0.9894 - val_loss: 0.0479 - val_acc: 0.9865\n",
      "Epoch 17/30\n",
      "9449/9449 [==============================] - 205s 22ms/step - loss: 0.0307 - acc: 0.9900 - val_loss: 0.0466 - val_acc: 0.9868\n",
      "Epoch 18/30\n",
      "9449/9449 [==============================] - 206s 22ms/step - loss: 0.0292 - acc: 0.9905 - val_loss: 0.0467 - val_acc: 0.9874\n",
      "Epoch 19/30\n",
      "9449/9449 [==============================] - 208s 22ms/step - loss: 0.0281 - acc: 0.9910 - val_loss: 0.0483 - val_acc: 0.9867\n",
      "Epoch 20/30\n",
      "9449/9449 [==============================] - 217s 23ms/step - loss: 0.0267 - acc: 0.9912 - val_loss: 0.0472 - val_acc: 0.9871\n",
      "Epoch 21/30\n",
      "9449/9449 [==============================] - 221s 23ms/step - loss: 0.0250 - acc: 0.9919 - val_loss: 0.0480 - val_acc: 0.9872\n",
      "Epoch 22/30\n",
      "9449/9449 [==============================] - 217s 23ms/step - loss: 0.0235 - acc: 0.9922 - val_loss: 0.0486 - val_acc: 0.9869\n",
      "Epoch 23/30\n",
      "9449/9449 [==============================] - 213s 23ms/step - loss: 0.0218 - acc: 0.9927 - val_loss: 0.0487 - val_acc: 0.9871\n",
      "Epoch 24/30\n",
      "9449/9449 [==============================] - 209s 22ms/step - loss: 0.0214 - acc: 0.9927 - val_loss: 0.0524 - val_acc: 0.9872\n",
      "Epoch 25/30\n",
      "9449/9449 [==============================] - 205s 22ms/step - loss: 0.0203 - acc: 0.9932 - val_loss: 0.0507 - val_acc: 0.9869\n",
      "Epoch 26/30\n",
      "9449/9449 [==============================] - 209s 22ms/step - loss: 0.0194 - acc: 0.9934 - val_loss: 0.0510 - val_acc: 0.9874\n",
      "Epoch 27/30\n",
      "9449/9449 [==============================] - 204s 22ms/step - loss: 0.0180 - acc: 0.9938 - val_loss: 0.0511 - val_acc: 0.9877\n",
      "Epoch 28/30\n",
      "9449/9449 [==============================] - 204s 22ms/step - loss: 0.0172 - acc: 0.9941 - val_loss: 0.0534 - val_acc: 0.9868\n",
      "Epoch 29/30\n",
      "9449/9449 [==============================] - 208s 22ms/step - loss: 0.0161 - acc: 0.9944 - val_loss: 0.0514 - val_acc: 0.9876\n",
      "Epoch 30/30\n",
      "9449/9449 [==============================] - 207s 22ms/step - loss: 0.0158 - acc: 0.9946 - val_loss: 0.0549 - val_acc: 0.9876\n"
     ]
    }
   ],
   "source": [
    "history = model.fit(X_train_indices, Y_train_oh, epochs = 30, batch_size = 32, shuffle=True, validation_data=(X_dev_indices,Y_dev_oh))"
   ]
  },
  {
   "cell_type": "markdown",
   "metadata": {},
   "source": [
    "Your model should perform close to **100% accuracy** on the training set. The exact accuracy you get may be a little different. Run the following cell to evaluate your model on the test set. "
   ]
  },
  {
   "cell_type": "code",
   "execution_count": 68,
   "metadata": {},
   "outputs": [
    {
     "data": {
      "image/png": "[encoded data removed]",
      "text/plain": [
       "<matplotlib.figure.Figure at 0x1a1e217048>"
      ]
     },
     "metadata": {},
     "output_type": "display_data"
    }
   ],
   "source": [
    "plt.plot(history.history['loss'])\n",
    "plt.plot(history.history['val_loss'])\n",
    "plt.title('model train vs validation loss')\n",
    "plt.ylabel('loss')\n",
    "plt.xlabel('epoch')\n",
    "plt.legend(['train', 'validation'], loc='upper right')\n",
    "plt.show()"
   ]
  },
  {
   "cell_type": "code",
   "execution_count": 69,
   "metadata": {},
   "outputs": [
    {
     "data": {
      "image/png": "[encoded data removed]",
      "text/plain": [
       "<matplotlib.figure.Figure at 0x1a1e20be48>"
      ]
     },
     "metadata": {},
     "output_type": "display_data"
    }
   ],
   "source": [
    "plt.plot(history.history['acc'])\n",
    "plt.plot(history.history['val_acc'])\n",
    "plt.title('model train vs validation accuracy')\n",
    "plt.ylabel('accuracy')\n",
    "plt.xlabel('epoch')\n",
    "plt.legend(['train', 'validation'], loc='upper right')\n",
    "plt.show()"
   ]
  },
  {
   "cell_type": "code",
   "execution_count": 70,
   "metadata": {
    "scrolled": true
   },
   "outputs": [
    {
     "name": "stdout",
     "output_type": "stream",
     "text": [
      "3150/3150 [==============================] - 26s 8ms/step\n",
      "\n",
      "Dev accuracy =  0.98760265286\n"
     ]
    }
   ],
   "source": [
    "loss, acc = model.evaluate(X_dev_indices, Y_dev_oh)\n",
    "print()\n",
    "print(\"Dev accuracy = \", acc)"
   ]
  },
  {
   "cell_type": "markdown",
   "metadata": {},
   "source": [
    "You should get a test accuracy of about 94.8% for a vanilla model using only aa1.txt.\n",
    "A vanilla POS model on the full training set gets a dev accuracy of 98.50%!"
   ]
  },
  {
   "cell_type": "code",
   "execution_count": 24,
   "metadata": {},
   "outputs": [
    {
     "ename": "NameError",
     "evalue": "name 'pd' is not defined",
     "output_type": "error",
     "traceback": [
      "\u001b[0;31m---------------------------------------------------------------------------\u001b[0m",
      "\u001b[0;31mNameError\u001b[0m                                 Traceback (most recent call last)",
      "\u001b[0;32m<ipython-input-24-add4178eaa3b>\u001b[0m in \u001b[0;36m<module>\u001b[0;34m()\u001b[0m\n\u001b[1;32m      4\u001b[0m \u001b[0;31m# print('           '+ label_to_emoji(0)+ '    ' + label_to_emoji(1) + '    ' +  label_to_emoji(2)+ '    ' + label_to_emoji(3)+'   ' + label_to_emoji(4))\u001b[0m\u001b[0;34m\u001b[0m\u001b[0;34m\u001b[0m\u001b[0m\n\u001b[1;32m      5\u001b[0m \u001b[0;31m# print(pd.crosstab(Y_dev, pred_test.reshape(56,), rownames=['Actual'], colnames=['Predicted'], margins=True))\u001b[0m\u001b[0;34m\u001b[0m\u001b[0;34m\u001b[0m\u001b[0m\n\u001b[0;32m----> 6\u001b[0;31m \u001b[0mplot_confusion_matrix\u001b[0m\u001b[0;34m(\u001b[0m\u001b[0mY_dev\u001b[0m\u001b[0;34m,\u001b[0m \u001b[0mpred\u001b[0m\u001b[0;34m)\u001b[0m\u001b[0;34m\u001b[0m\u001b[0m\n\u001b[0m",
      "\u001b[0;32m~/checkout/DeepGrail/grail_data_utils.py\u001b[0m in \u001b[0;36mplot_confusion_matrix\u001b[0;34m(y_actu, y_pred, title, cmap)\u001b[0m\n\u001b[1;32m    528\u001b[0m \u001b[0;32mdef\u001b[0m \u001b[0mplot_confusion_matrix\u001b[0m\u001b[0;34m(\u001b[0m\u001b[0my_actu\u001b[0m\u001b[0;34m,\u001b[0m \u001b[0my_pred\u001b[0m\u001b[0;34m,\u001b[0m \u001b[0mtitle\u001b[0m\u001b[0;34m=\u001b[0m\u001b[0;34m'Confusion matrix'\u001b[0m\u001b[0;34m,\u001b[0m \u001b[0mcmap\u001b[0m\u001b[0;34m=\u001b[0m\u001b[0mplt\u001b[0m\u001b[0;34m.\u001b[0m\u001b[0mcm\u001b[0m\u001b[0;34m.\u001b[0m\u001b[0mgray_r\u001b[0m\u001b[0;34m)\u001b[0m\u001b[0;34m:\u001b[0m\u001b[0;34m\u001b[0m\u001b[0m\n\u001b[1;32m    529\u001b[0m \u001b[0;34m\u001b[0m\u001b[0m\n\u001b[0;32m--> 530\u001b[0;31m     \u001b[0mdf_confusion\u001b[0m \u001b[0;34m=\u001b[0m \u001b[0mpd\u001b[0m\u001b[0;34m.\u001b[0m\u001b[0mcrosstab\u001b[0m\u001b[0;34m(\u001b[0m\u001b[0my_actu\u001b[0m\u001b[0;34m,\u001b[0m \u001b[0my_pred\u001b[0m\u001b[0;34m.\u001b[0m\u001b[0mreshape\u001b[0m\u001b[0;34m(\u001b[0m\u001b[0my_pred\u001b[0m\u001b[0;34m.\u001b[0m\u001b[0mshape\u001b[0m\u001b[0;34m[\u001b[0m\u001b[0;36m0\u001b[0m\u001b[0;34m]\u001b[0m\u001b[0;34m,\u001b[0m\u001b[0;34m)\u001b[0m\u001b[0;34m,\u001b[0m \u001b[0mrownames\u001b[0m\u001b[0;34m=\u001b[0m\u001b[0;34m[\u001b[0m\u001b[0;34m'Actual'\u001b[0m\u001b[0;34m]\u001b[0m\u001b[0;34m,\u001b[0m \u001b[0mcolnames\u001b[0m\u001b[0;34m=\u001b[0m\u001b[0;34m[\u001b[0m\u001b[0;34m'Predicted'\u001b[0m\u001b[0;34m]\u001b[0m\u001b[0;34m,\u001b[0m \u001b[0mmargins\u001b[0m\u001b[0;34m=\u001b[0m\u001b[0;32mTrue\u001b[0m\u001b[0;34m)\u001b[0m\u001b[0;34m\u001b[0m\u001b[0m\n\u001b[0m\u001b[1;32m    531\u001b[0m \u001b[0;34m\u001b[0m\u001b[0m\n\u001b[1;32m    532\u001b[0m     \u001b[0mdf_conf_norm\u001b[0m \u001b[0;34m=\u001b[0m \u001b[0mdf_confusion\u001b[0m \u001b[0;34m/\u001b[0m \u001b[0mdf_confusion\u001b[0m\u001b[0;34m.\u001b[0m\u001b[0msum\u001b[0m\u001b[0;34m(\u001b[0m\u001b[0maxis\u001b[0m\u001b[0;34m=\u001b[0m\u001b[0;36m1\u001b[0m\u001b[0;34m)\u001b[0m\u001b[0;34m\u001b[0m\u001b[0m\n",
      "\u001b[0;31mNameError\u001b[0m: name 'pd' is not defined"
     ]
    }
   ],
   "source": [
    "X_dev_indices = lists_to_indices(X_test, word_to_index, maxLen)\n",
    "pred = model.predict(X_dev_indices)\n",
    "\n",
    "# print('           '+ label_to_emoji(0)+ '    ' + label_to_emoji(1) + '    ' +  label_to_emoji(2)+ '    ' + label_to_emoji(3)+'   ' + label_to_emoji(4))\n",
    "# print(pd.crosstab(Y_dev, pred_test.reshape(56,), rownames=['Actual'], colnames=['Predicted'], margins=True))\n",
    "plot_confusion_matrix(Y_dev, pred)"
   ]
  },
  {
   "cell_type": "code",
   "execution_count": 71,
   "metadata": {},
   "outputs": [
    {
     "name": "stdout",
     "output_type": "stream",
     "text": [
      "Expected POS tag: toute|PRO:IND prediction: toute|ADV\n",
      "Expected POS tag: découverts|NOM prediction: découverts|VER:pper\n",
      "Expected POS tag: ainsi|ADV prediction: ainsi|KON\n",
      "Expected POS tag: franc|NOM prediction: franc|ADJ\n",
      "Expected POS tag: qu'|KON prediction: qu'|PRO:REL\n",
      "Expected POS tag: amicale|ADJ prediction: amicale|NOM\n",
      "Expected POS tag: en|PRP prediction: en|PRO:PER\n",
      "Expected POS tag: droit|NOM prediction: droit|ADV\n",
      "Expected POS tag: nonnes|NOM prediction: nonnes|ADJ\n",
      "Expected POS tag: contrastés|VER:pper prediction: contrastés|ADJ\n",
      "Expected POS tag: en|PRO:PER prediction: en|PRP\n",
      "Expected POS tag: quelques-uns|PRO:IND prediction: quelques-uns|ADV\n",
      "Expected POS tag: les|PRO:PER prediction: les|DET:ART\n",
      "Expected POS tag: compte|VER:pres prediction: compte|NOM\n",
      "Expected POS tag: ARD|NAM prediction: ARD|ABR\n",
      "Expected POS tag: spécialisées|VER:pper prediction: spécialisées|ADJ\n",
      "Expected POS tag: IDC|NAM prediction: IDC|ABR\n",
      "Expected POS tag: portants|NOM prediction: portants|ADJ\n",
      "Expected POS tag: vieux|NOM prediction: vieux|ADJ\n",
      "Expected POS tag: riches|NOM prediction: riches|ADJ\n",
      "Expected POS tag: pauvres|NOM prediction: pauvres|ADJ\n",
      "Expected POS tag: attaché|NOM prediction: attaché|VER:pper\n",
      "Expected POS tag: si|ADV prediction: si|KON\n",
      "Expected POS tag: en|PRO:PER prediction: en|PRP\n",
      "Expected POS tag: comme|KON prediction: comme|ADV\n",
      "Expected POS tag: Medef|NAM prediction: Medef|ABR\n",
      "Expected POS tag: GSM|ABR prediction: GSM|NAM\n",
      "Expected POS tag: feutrées|ADJ prediction: feutrées|VER:pper\n",
      "Expected POS tag: tous|ADV prediction: tous|PRO:IND\n",
      "Expected POS tag: suivant|PRP prediction: suivant|VER:ppre\n",
      "Expected POS tag: GSM|ABR prediction: GSM|NAM\n",
      "Expected POS tag: Alors|ADV prediction: Alors|KON\n",
      "Expected POS tag: les|DET:ART prediction: les|PRO:PER\n",
      "Expected POS tag: faux|ADJ prediction: faux|NOM\n",
      "Expected POS tag: en|PRP prediction: en|PRO:PER\n",
      "Expected POS tag: place|NOM prediction: place|VER:pres\n",
      "Expected POS tag: comme|KON prediction: comme|ADV\n",
      "Expected POS tag: représentant|NOM prediction: représentant|VER:ppre\n",
      "Expected POS tag: devant|VER:ppre prediction: devant|PRP\n",
      "Expected POS tag: créatrice|NOM prediction: créatrice|ADJ\n",
      "Expected POS tag: suivant|PRP prediction: suivant|VER:ppre\n",
      "Expected POS tag: Un|NUM prediction: Un|DET:ART\n",
      "Expected POS tag: agroalimentaire|ADJ prediction: agroalimentaire|NOM\n",
      "Expected POS tag: bienvenu|NOM prediction: bienvenu|ADJ\n",
      "Expected POS tag: bouleverse|VER:pres prediction: bouleverse|VER:ppre\n",
      "Expected POS tag: s'|KON prediction: s'|PRO:PER\n",
      "Expected POS tag: que|PRO:REL prediction: que|KON\n",
      "Expected POS tag: ainsi|KON prediction: ainsi|ADV\n",
      "Expected POS tag: double|ADJ prediction: double|NOM\n",
      "Expected POS tag: marin|ADJ prediction: marin|NOM\n",
      "Expected POS tag: l'|PRO:PER prediction: l'|DET:ART\n",
      "Expected POS tag: personne|PRO:IND prediction: personne|NOM\n",
      "Expected POS tag: visibles|ADJ prediction: visibles|VER:pper\n",
      "Expected POS tag: qu'|PRO:REL prediction: qu'|KON\n",
      "Expected POS tag: Dixième|NUM prediction: Dixième|NAM\n",
      "Expected POS tag: a|PRP prediction: a|VER:pres\n",
      "Expected POS tag: forts|NOM prediction: forts|ADJ\n",
      "Expected POS tag: autre|PRO:IND prediction: autre|ADJ\n",
      "Expected POS tag: chronophage|ADJ prediction: chronophage|VER:pres\n",
      "Expected POS tag: exorcisons|VER:pres prediction: exorcisons|NOM\n",
      "Expected POS tag: qu'|PRO:REL prediction: qu'|KON\n",
      "Expected POS tag: jeunes|NOM prediction: jeunes|ADJ\n",
      "Expected POS tag: devant|VER:ppre prediction: devant|PRP\n",
      "Expected POS tag: l'|PRO:PER prediction: l'|DET:ART\n",
      "Expected POS tag: laxiste|NOM prediction: laxiste|ADJ\n",
      "Expected POS tag: irréaliste|NOM prediction: irréaliste|ADJ\n",
      "Expected POS tag: Républicain|NAM prediction: Républicain|ADJ\n",
      "Expected POS tag: un|NUM prediction: un|DET:ART\n",
      "Expected POS tag: Plus|NAM prediction: Plus|ADV\n",
      "Expected POS tag: suspects|ADJ prediction: suspects|NOM\n",
      "Expected POS tag: seule|NOM prediction: seule|ADJ\n",
      "Expected POS tag: les|PRO:PER prediction: les|DET:ART\n",
      "Expected POS tag: si|ADV prediction: si|KON\n",
      "Expected POS tag: plusieurs|PRO:IND prediction: plusieurs|ADJ\n",
      "Expected POS tag: Collectif|NOM prediction: Collectif|NAM\n",
      "Expected POS tag: toute|PRO:IND prediction: toute|ADV\n",
      "Expected POS tag: suivante|ADJ prediction: suivante|VER:ppre\n",
      "Expected POS tag: Église|NOM prediction: Église|NAM\n",
      "Expected POS tag: l'|PRO:PER prediction: l'|DET:ART\n",
      "Expected POS tag: blessés|VER:pper prediction: blessés|NOM\n",
      "Expected POS tag: man|NOM prediction: man|ADV\n",
      "Expected POS tag: Seul|ADJ prediction: Seul|ADV\n",
      "Expected POS tag: un|NUM prediction: un|DET:ART\n",
      "Expected POS tag: prenne|VER:subp prediction: prenne|VER:pres\n",
      "Expected POS tag: détenus|VER:pper prediction: détenus|NOM\n",
      "Expected POS tag: INFINT|NAM prediction: INFINT|ABR\n",
      "Expected POS tag: s'|KON prediction: s'|PRO:PER\n",
      "Expected POS tag: consultant|NOM prediction: consultant|VER:ppre\n",
      "Expected POS tag: Seul|ADJ prediction: Seul|ADV\n",
      "Expected POS tag: en|PRP prediction: en|PRO:PER\n",
      "Expected POS tag: restreinte|VER:pper prediction: restreinte|ADJ\n",
      "Expected POS tag: comme|KON prediction: comme|ADV\n",
      "Expected POS tag: l'|PRO:PER prediction: l'|DET:ART\n",
      "Expected POS tag: s'|KON prediction: s'|PRO:PER\n",
      "Expected POS tag: risque|VER:pres prediction: risque|NOM\n",
      "Expected POS tag: prince-de-Galles|NAM prediction: prince-de-Galles|NOM\n",
      "Expected POS tag: censée|ADJ prediction: censée|VER:pper\n",
      "Expected POS tag: que|PRO:REL prediction: que|KON\n",
      "Expected POS tag: Haut|ADJ prediction: Haut|NAM\n",
      "Expected POS tag: comme|ADV prediction: comme|KON\n",
      "Expected POS tag: doute|VER:pres prediction: doute|NOM\n",
      "Expected POS tag: que|ADV prediction: que|KON\n",
      "Expected POS tag: politique|ADJ prediction: politique|NOM\n",
      "Expected POS tag: modérés|VER:pper prediction: modérés|ADJ\n",
      "Expected POS tag: magasinier|NOM prediction: magasinier|ADJ\n",
      "Expected POS tag: french|ADJ prediction: french|NOM\n",
      "Expected POS tag: dernière|ADJ prediction: dernière|NOM\n",
      "Expected POS tag: Que|PRO:REL prediction: Que|KON\n",
      "Expected POS tag: qu'|PRO:REL prediction: qu'|ADV\n",
      "Expected POS tag: supérieur|ADJ prediction: supérieur|NOM\n",
      "Expected POS tag: Doctoring|VER:ppre prediction: Doctoring|ABR\n",
      "Expected POS tag: Photos|NOM prediction: Photos|NAM\n",
      "Expected POS tag: soit|KON prediction: soit|VER:subp\n",
      "Expected POS tag: souriantes|VER:ppre prediction: souriantes|ADJ\n",
      "Expected POS tag: colorés|VER:pper prediction: colorés|ADJ\n",
      "Expected POS tag: mieux|NOM prediction: mieux|ADV\n",
      "Expected POS tag: soit|KON prediction: soit|VER:subp\n",
      "Expected POS tag: anticipées|VER:pper prediction: anticipées|ADJ\n",
      "Expected POS tag: sinon|KON prediction: sinon|ADV\n",
      "Expected POS tag: la|PRO:PER prediction: la|DET:ART\n",
      "Expected POS tag: s'|PRO:PER prediction: s'|KON\n",
      "Expected POS tag: en|PRO:PER prediction: en|PRP\n",
      "Expected POS tag: ferrata|ADJ prediction: ferrata|NOM\n",
      "Expected POS tag: regagnez|VER:impe prediction: regagnez|VER:pres\n",
      "Expected POS tag: familiaux|ADJ prediction: familiaux|NOM\n",
      "Expected POS tag: long|NOM prediction: long|ADJ\n",
      "Expected POS tag: rase|ADJ prediction: rase|NOM\n",
      "Expected POS tag: dernier|NOM prediction: dernier|ADJ\n",
      "Expected POS tag: dire|NOM prediction: dire|VER:infi\n",
      "Expected POS tag: sinistres|NOM prediction: sinistres|ADJ\n",
      "Expected POS tag: que|PRO:REL prediction: que|KON\n",
      "Expected POS tag: que|PRO:REL prediction: que|KON\n",
      "Expected POS tag: l'|PRO:PER prediction: l'|DET:ART\n",
      "Expected POS tag: dernière|ADJ prediction: dernière|NOM\n",
      "Expected POS tag: représentant|NOM prediction: représentant|VER:ppre\n",
      "Expected POS tag: Introduction|NAM prediction: Introduction|NOM\n",
      "Expected POS tag: que|KON prediction: que|PRO:REL\n",
      "Expected POS tag: charbon|NAM prediction: charbon|NOM\n",
      "Expected POS tag: autres|PRO:IND prediction: autres|ADJ\n",
      "Expected POS tag: FEHAP|NAM prediction: FEHAP|ABR\n",
      "Expected POS tag: ferrées|VER:pper prediction: ferrées|NOM\n",
      "Expected POS tag: répartit|VER:simp prediction: répartit|VER:pres\n",
      "Expected POS tag: militaire|ADJ prediction: militaire|NOM\n",
      "Expected POS tag: civil|ADJ prediction: civil|NOM\n",
      "Expected POS tag: Comme|KON prediction: Comme|ADV\n",
      "Expected POS tag: dernières|NOM prediction: dernières|ADJ\n",
      "Expected POS tag: logiciel|NOM prediction: logiciel|ADJ\n",
      "Expected POS tag: définitive|ADJ prediction: définitive|NOM\n",
      "Expected POS tag: R.19|NOM prediction: R.19|ABR\n",
      "Expected POS tag: qu'|PRO:REL prediction: qu'|KON\n",
      "Expected POS tag: international|NOM prediction: international|ADJ\n",
      "Expected POS tag: derniers|NOM prediction: derniers|ADJ\n",
      "Expected POS tag: l'|PRO:PER prediction: l'|DET:ART\n",
      "Expected POS tag: leur|DET:POS prediction: leur|PRO:PER\n",
      "Expected POS tag: filiale|ADJ prediction: filiale|NOM\n",
      "Expected POS tag: Seul|PRO prediction: Seul|ADV\n",
      "Expected POS tag: la|DET:ART prediction: la|PRO:PER\n",
      "Expected POS tag: leur|PRO:PER prediction: leur|DET:POS\n",
      "Expected POS tag: autre|PRO:IND prediction: autre|ADJ\n",
      "Expected POS tag: land|ADJ prediction: land|NOM\n",
      "Expected POS tag: précédent|NOM prediction: précédent|ADJ\n",
      "Expected POS tag: po|NOM prediction: po|ADV\n",
      "Expected POS tag: un|NUM prediction: un|DET:ART\n",
      "Expected POS tag: que|KON prediction: que|ADV\n",
      "Expected POS tag: que|ADV prediction: que|KON\n",
      "Expected POS tag: que|PRO:REL prediction: que|KON\n",
      "Expected POS tag: gros|NOM prediction: gros|ADJ\n",
      "Expected POS tag: percutanée|VER:pper prediction: percutanée|ADJ\n",
      "Expected POS tag: complique|VER:pres prediction: complique|ADJ\n",
      "Expected POS tag: Plus|NAM prediction: Plus|ADV\n",
      "Expected POS tag: Corp.|ABR prediction: Corp.|NAM\n",
      "Expected POS tag: communiste|ADJ prediction: communiste|NOM\n",
      "Expected POS tag: menace|VER:pres prediction: menace|NOM\n",
      "Expected POS tag: focalisez|VER:impe prediction: focalisez|VER:pres\n",
      "Expected POS tag: bas|ADJ prediction: bas|NOM\n",
      "Expected POS tag: Toute|PRO:IND prediction: Toute|ADV\n",
      "Expected POS tag: s'|PRO:PER prediction: s'|KON\n",
      "Expected POS tag: privés|VER:pper prediction: privés|NOM\n",
      "Expected POS tag: le|PRO:PER prediction: le|DET:ART\n",
      "Expected POS tag: leur|PRO:PER prediction: leur|DET:POS\n",
      "Expected POS tag: Etat-nation|NAM prediction: Etat-nation|NOM\n",
      "Expected POS tag: rime|VER:pres prediction: rime|NOM\n",
      "Expected POS tag: Contraintes|VER:pper prediction: Contraintes|NOM\n",
      "Expected POS tag: tiens|VER:impe prediction: tiens|ADJ\n",
      "Expected POS tag: neuf|ADJ prediction: neuf|NUM\n",
      "Expected POS tag: que|PRO:REL prediction: que|KON\n",
      "Expected POS tag: attendais|VER:impf prediction: attendais|VER:pres\n",
      "Expected POS tag: Comme|KON prediction: Comme|ADV\n",
      "Expected POS tag: l'|PRO:PER prediction: l'|DET:ART\n",
      "Expected POS tag: un|NUM prediction: un|DET:ART\n",
      "Expected POS tag: V|ABR prediction: V|NOM\n",
      "Expected POS tag: l'|PRO:PER prediction: l'|DET:ART\n",
      "Expected POS tag: voyage|VER:pres prediction: voyage|NOM\n",
      "Expected POS tag: indispose|VER:pres prediction: indispose|ADJ\n",
      "Expected POS tag: AXA|ABR prediction: AXA|NAM\n",
      "Expected POS tag: finanza|NAM prediction: finanza|NOM\n",
      "Expected POS tag: Equipement|NOM prediction: Equipement|NAM\n",
      "Expected POS tag: toute|ADV prediction: toute|PRO:IND\n",
      "Expected POS tag: politique|ADJ prediction: politique|NOM\n",
      "Expected POS tag: rien|PRO:IND prediction: rien|NOM\n",
      "Expected POS tag: porte|VER:pres prediction: porte|NOM\n",
      "Expected POS tag: savant|ADJ prediction: savant|NOM\n",
      "Expected POS tag: scolaire|ADJ prediction: scolaire|NOM\n",
      "Expected POS tag: P|NOM prediction: P|NAM\n",
      "Expected POS tag: en|PRO:PER prediction: en|PRP\n",
      "Expected POS tag: un|DET:ART prediction: un|NUM\n",
      "Expected POS tag: fort|ADJ prediction: fort|ADV\n",
      "Expected POS tag: off-shore|ADJ prediction: off-shore|NOM\n",
      "Expected POS tag: toutes|ADV prediction: toutes|PRO:IND\n",
      "Expected POS tag: britanniques|NOM prediction: britanniques|ADJ\n",
      "Expected POS tag: NHS|NAM prediction: NHS|ABR\n",
      "Expected POS tag: americana|ADJ prediction: americana|NOM\n",
      "Expected POS tag: agrégé|VER:pper prediction: agrégé|NOM\n",
      "Expected POS tag: brouillon|ADJ prediction: brouillon|NOM\n",
      "Expected POS tag: _|PUN prediction: _|VER:pper\n",
      "Expected POS tag: ouest|NOM prediction: ouest|ADJ\n",
      "Expected POS tag: =|SYM prediction: =|PUN\n",
      "Expected POS tag: pouvoir|NOM prediction: pouvoir|VER:infi\n",
      "Expected POS tag: montons|VER:pres prediction: montons|VER:simp\n",
      "Expected POS tag: particuliers|NOM prediction: particuliers|ADJ\n",
      "Expected POS tag: les|PRO:PER prediction: les|DET:ART\n",
      "Expected POS tag: fait|VER:pper prediction: fait|VER:pres\n",
      "Expected POS tag: comme|KON prediction: comme|ADV\n",
      "Expected POS tag: l'|PRO:PER prediction: l'|DET:ART\n",
      "Expected POS tag: sud-|NOM prediction: sud-|ADV\n",
      "Expected POS tag: un|DET:ART prediction: un|NUM\n",
      "Expected POS tag: pardon|INT prediction: pardon|NOM\n",
      "Expected POS tag: tout|ADV prediction: tout|PRO:IND\n",
      "Expected POS tag: encadré|NOM prediction: encadré|VER:pper\n",
      "Expected POS tag: qu'|PRO:REL prediction: qu'|KON\n",
      "Expected POS tag: bien|NOM prediction: bien|ADV\n",
      "Expected POS tag: que|ADV prediction: que|KON\n",
      "Expected POS tag: que|ADV prediction: que|KON\n",
      "Expected POS tag: tout|ADV prediction: tout|PRO:IND\n",
      "Expected POS tag: feu|ADJ prediction: feu|NOM\n",
      "Expected POS tag: Matin|NAM prediction: Matin|NOM\n",
      "Expected POS tag: en|PRO:PER prediction: en|PRP\n",
      "Expected POS tag: 1ère|NUM prediction: 1ère|NOM\n",
      "Expected POS tag: les|PRO:PER prediction: les|DET:ART\n",
      "Expected POS tag: désapprouve|VER:pres prediction: désapprouve|NOM\n",
      "Expected POS tag: produit|NOM prediction: produit|VER:pper\n",
      "Expected POS tag: FINALE|ADJ prediction: FINALE|NOM\n",
      "Expected POS tag: Israéliens|NOM prediction: Israéliens|NAM\n",
      "Expected POS tag: paillote|NOM prediction: paillote|ADJ\n",
      "Expected POS tag: militaires|NOM prediction: militaires|ADJ\n",
      "Expected POS tag: toute|ADV prediction: toute|PRO:IND\n",
      "Expected POS tag: Toute|PRO:IND prediction: Toute|ADV\n",
      "Expected POS tag: pays|NOM prediction: pays|ADJ\n",
      "Expected POS tag: si|ADV prediction: si|KON\n",
      "Expected POS tag: comme|KON prediction: comme|ADV\n",
      "Expected POS tag: qu'|PRO:REL prediction: qu'|KON\n",
      "Expected POS tag: le|PRO:PER prediction: le|DET:ART\n",
      "Expected POS tag: AGEFI|NAM prediction: AGEFI|ABR\n",
      "Expected POS tag: riches|NOM prediction: riches|ADJ\n",
      "Expected POS tag: les|PRO:PER prediction: les|DET:ART\n",
      "Expected POS tag: un|NUM prediction: un|DET:ART\n",
      "Expected POS tag: MET|NAM prediction: MET|ABR\n",
      "Expected POS tag: dramatiques|ADJ prediction: dramatiques|NOM\n",
      "Expected POS tag: pratique|VER:pres prediction: pratique|NOM\n",
      "Expected POS tag: que|PRO:REL prediction: que|KON\n",
      "Expected POS tag: au-delà|PRP prediction: au-delà|ADV\n",
      "Expected POS tag: que|KON prediction: que|ADV\n",
      "Expected POS tag: jeunes|NOM prediction: jeunes|ADJ\n",
      "Expected POS tag: qu'|PRO:REL prediction: qu'|KON\n",
      "Expected POS tag: comme|KON prediction: comme|ADV\n",
      "Expected POS tag: homme|NOM prediction: homme|ADJ\n",
      "Expected POS tag: mieux|NOM prediction: mieux|ADV\n",
      "Expected POS tag: généreuses|NOM prediction: généreuses|ADJ\n",
      "Expected POS tag: un|NUM prediction: un|DET:ART\n",
      "Expected POS tag: Vie|NAM prediction: Vie|NOM\n",
      "Expected POS tag: satisfaisants|VER:ppre prediction: satisfaisants|ADJ\n",
      "Expected POS tag: qu'|PRO:REL prediction: qu'|KON\n",
      "Expected POS tag: demi|ADJ prediction: demi|NOM\n",
      "Expected POS tag: point|NOM prediction: point|ADJ\n",
      "Expected POS tag: date|VER:pres prediction: date|NOM\n",
      "Expected POS tag: que|PRO:REL prediction: que|KON\n",
      "Expected POS tag: comme|KON prediction: comme|ADV\n",
      "Expected POS tag: bons|ADJ prediction: bons|NOM\n",
      "Expected POS tag: le|DET:ART prediction: le|PRO:PER\n",
      "Expected POS tag: devant|VER:ppre prediction: devant|PRP\n",
      "Expected POS tag: émirats|NOM prediction: émirats|ADJ\n",
      "Expected POS tag: en-dessous|PRP prediction: en-dessous|ADV\n",
      "Expected POS tag: bas|NOM prediction: bas|ADJ\n",
      "Expected POS tag: été|VER:pper prediction: été|NOM\n",
      "Expected POS tag: l'|PRO:PER prediction: l'|DET:ART\n",
      "Expected POS tag: Durable|ADJ prediction: Durable|NAM\n",
      "Expected POS tag: réduit|VER:pres prediction: réduit|VER:pper\n",
      "Expected POS tag: CACIQUES|NOM prediction: CACIQUES|ADJ\n",
      "Expected POS tag: Comme|KON prediction: Comme|ADV\n",
      "Expected POS tag: bref|ADJ prediction: bref|ADV\n",
      "Expected POS tag: mises|NOM prediction: mises|VER:pper\n",
      "Expected POS tag: pivots|NOM prediction: pivots|ADJ\n",
      "Expected POS tag: manifeste|VER:pres prediction: manifeste|ADJ\n",
      "Expected POS tag: que|PRO:REL prediction: que|KON\n",
      "Expected POS tag: coûte|VER:pres prediction: coûte|VER:subp\n",
      "Expected POS tag: moitié|ADV prediction: moitié|NOM\n",
      "Expected POS tag: l'|PRO:PER prediction: l'|DET:ART\n",
      "Expected POS tag: en|PRO:PER prediction: en|PRP\n",
      "Expected POS tag: comptant|ADJ prediction: comptant|VER:ppre\n",
      "Expected POS tag: comme|KON prediction: comme|ADV\n",
      "Expected POS tag: télévisées|VER:pper prediction: télévisées|ADJ\n",
      "Expected POS tag: comme|KON prediction: comme|ADV\n",
      "Expected POS tag: le|DET:ART prediction: le|PRO:PER\n",
      "Expected POS tag: néant|NOM prediction: néant|ADJ\n",
      "Expected POS tag: comme|ADV prediction: comme|KON\n",
      "Expected POS tag: en|PRO:PER prediction: en|PRP\n",
      "Expected POS tag: ROUTIÈRE|ADJ prediction: ROUTIÈRE|NAM\n",
      "Expected POS tag: agglutinée|VER:pper prediction: agglutinée|ADJ\n",
      "Expected POS tag: qu'|KON prediction: qu'|PRO:REL\n",
      "Expected POS tag: salariés|VER:pper prediction: salariés|NOM\n",
      "Expected POS tag: alors|KON prediction: alors|ADV\n",
      "Expected POS tag: comme|KON prediction: comme|ADV\n",
      "Expected POS tag: les|PRO:PER prediction: les|DET:ART\n",
      "Expected POS tag: la|PRO:PER prediction: la|DET:ART\n",
      "Expected POS tag: que|PRO:REL prediction: que|KON\n",
      "Expected POS tag: six|NOM prediction: six|NUM\n",
      "Expected POS tag: via|PRP prediction: via|NOM\n",
      "Expected POS tag: Faillites|NAM prediction: Faillites|NOM\n",
      "Expected POS tag: Nul|PRO:IND prediction: Nul|ADJ\n",
      "Expected POS tag: doute|VER:pres prediction: doute|NOM\n",
      "Expected POS tag: disparue|VER:pper prediction: disparue|ADJ\n",
      "Expected POS tag: vivantes|ADJ prediction: vivantes|VER:ppre\n",
      "Expected POS tag: Marches|NOM prediction: Marches|NAM\n",
      "Expected POS tag: une|DET:ART prediction: une|NUM\n",
      "Expected POS tag: raffermi|VER:pper prediction: raffermi|ADJ\n",
      "Expected POS tag: Apep|ABR prediction: Apep|NAM\n",
      "Expected POS tag: principaux|NOM prediction: principaux|ADJ\n",
      "Expected POS tag: house|ADJ prediction: house|NOM\n",
      "Expected POS tag: que|ADV prediction: que|KON\n",
      "Expected POS tag: aller|NOM prediction: aller|VER:infi\n",
      "Expected POS tag: les|PRO:PER prediction: les|DET:ART\n",
      "Expected POS tag: dernière|NOM prediction: dernière|ADJ\n",
      "Expected POS tag: que|ADV prediction: que|PRO:REL\n",
      "Expected POS tag: qu'|PRO:REL prediction: qu'|KON\n",
      "Expected POS tag: fait|VER:pres prediction: fait|VER:pper\n",
      "Expected POS tag: vénérables|ADJ prediction: vénérables|NOM\n",
      "Expected POS tag: leur|PRO:PER prediction: leur|DET:POS\n",
      "Expected POS tag: au-delà|PRP prediction: au-delà|ADV\n",
      "Expected POS tag: pratique|VER:pres prediction: pratique|ADJ\n",
      "Expected POS tag: Unesco|ABR prediction: Unesco|NAM\n",
      "Expected POS tag: atteint|VER:pres prediction: atteint|VER:pper\n",
      "Expected POS tag: funds|ADJ prediction: funds|NOM\n",
      "Expected POS tag: CAPITAL|NOM prediction: CAPITAL|NAM\n",
      "Expected POS tag: long|ADJ prediction: long|NOM\n",
      "Expected POS tag: passé|NOM prediction: passé|VER:pper\n",
      "Expected POS tag: que|KON prediction: que|PRO:REL\n",
      "Expected POS tag: jeunes|ADJ prediction: jeunes|NOM\n",
      "Expected POS tag: l'|PRO:PER prediction: l'|DET:ART\n",
      "Expected POS tag: ainsi|KON prediction: ainsi|ADV\n",
      "Expected POS tag: filiales|NOM prediction: filiales|NAM\n",
      "Expected POS tag: que|PRO:REL prediction: que|KON\n",
      "Expected POS tag: qatarie|ADJ prediction: qatarie|VER:pper\n",
      "Expected POS tag: en|PRP prediction: en|PRO:PER\n",
      "Expected POS tag: la|PRO:PER prediction: la|DET:ART\n",
      "Expected POS tag: la|PRO:PER prediction: la|DET:ART\n",
      "Expected POS tag: REPRÉSENTANT|NOM prediction: REPRÉSENTANT|VER:ppre\n",
      "Expected POS tag: l'|PRO:PER prediction: l'|DET:ART\n",
      "Expected POS tag: récompense|VER:pres prediction: récompense|NOM\n",
      "Expected POS tag: Musée|NAM prediction: Musée|NOM\n",
      "Expected POS tag: exemplaires|ADJ prediction: exemplaires|NOM\n",
      "Expected POS tag: l'|DET:ART prediction: l'|PRO:PER\n",
      "Expected POS tag: remises|NOM prediction: remises|VER:pper\n",
      "Expected POS tag: incendiées|ADJ prediction: incendiées|VER:pper\n",
      "Expected POS tag: les|PRO:PER prediction: les|DET:ART\n",
      "Expected POS tag: possible|NOM prediction: possible|ADJ\n",
      "Expected POS tag: que|PRO:REL prediction: que|KON\n",
      "Expected POS tag: ferment|VER:pres prediction: ferment|NOM\n",
      "Expected POS tag: le|PRO:PER prediction: le|DET:ART\n",
      "Expected POS tag: ainsi|KON prediction: ainsi|ADV\n",
      "Expected POS tag: continue|ADJ prediction: continue|VER:pres\n",
      "Expected POS tag: les|PRO:PER prediction: les|DET:ART\n",
      "Expected POS tag: Reporters|NAM prediction: Reporters|NOM\n",
      "Expected POS tag: syndiqués|VER:pper prediction: syndiqués|ADJ\n",
      "Expected POS tag: vive|VER:subp prediction: vive|ADJ\n",
      "Expected POS tag: comme|KON prediction: comme|ADV\n",
      "Expected POS tag: l'|PRO:PER prediction: l'|DET:ART\n",
      "Expected POS tag: avoir|VER:infi prediction: avoir|NOM\n",
      "Expected POS tag: régulateurs|NOM prediction: régulateurs|ADJ\n",
      "Expected POS tag: CERES|ABR prediction: CERES|NAM\n",
      "Expected POS tag: Que|PRO:REL prediction: Que|KON\n",
      "Expected POS tag: toutes|ADV prediction: toutes|PRO:IND\n",
      "Expected POS tag: le|PRO:PER prediction: le|DET:ART\n",
      "Expected POS tag: qu'|PRO:REL prediction: qu'|KON\n",
      "Expected POS tag: suivant|PRP prediction: suivant|VER:ppre\n",
      "Expected POS tag: ROI|NOM prediction: ROI|ABR\n",
      "Expected POS tag: soit|VER:subp prediction: soit|KON\n",
      "Expected POS tag: qu'|PRO:REL prediction: qu'|KON\n",
      "Expected POS tag: toute|PRO:IND prediction: toute|ADV\n",
      "Expected POS tag: direz|VER:futu prediction: direz|VER:pres\n",
      "Expected POS tag: téléphone|VER:pres prediction: téléphone|NOM\n",
      "Expected POS tag: versa|NOM prediction: versa|VER:simp\n",
      "Expected POS tag: do|PRP prediction: do|NUM\n",
      "Expected POS tag: comme|KON prediction: comme|ADV\n",
      "Expected POS tag: l'|PRO:PER prediction: l'|DET:ART\n",
      "Expected POS tag: un|NUM prediction: un|DET:ART\n",
      "Expected POS tag: avant|PRP prediction: avant|ADV\n",
      "Expected POS tag: sauve|ADJ prediction: sauve|VER:pres\n",
      "Expected POS tag: tout|PRO:IND prediction: tout|ADV\n",
      "Expected POS tag: vu|NOM prediction: vu|VER:pper\n",
      "Expected POS tag: toutes|PRO:IND prediction: toutes|ADV\n",
      "Expected POS tag: ainsi|KON prediction: ainsi|ADV\n",
      "Expected POS tag: gros|NOM prediction: gros|ADJ\n",
      "Expected POS tag: guerrier|NOM prediction: guerrier|ADJ\n",
      "Expected POS tag: passons|VER:impe prediction: passons|VER:pres\n",
      "Expected POS tag: si|ADV prediction: si|KON\n",
      "Expected POS tag: pâtiraient|VER:cond prediction: pâtiraient|VER:impf\n"
     ]
    },
    {
     "name": "stdout",
     "output_type": "stream",
     "text": [
      "Expected POS tag: que|PRO:REL prediction: que|ADV\n",
      "Expected POS tag: que|ADV prediction: que|PRO:REL\n",
      "Expected POS tag: en|PRO:PER prediction: en|PRP\n",
      "Expected POS tag: exemplaire|ADJ prediction: exemplaire|NOM\n",
      "Expected POS tag: en|PRO:PER prediction: en|PRP\n",
      "Expected POS tag: net|ADV prediction: net|ADJ\n",
      "Expected POS tag: un|NUM prediction: un|DET:ART\n",
      "Expected POS tag: un|NUM prediction: un|DET:ART\n",
      "Expected POS tag: vit|VER:pres prediction: vit|VER:simp\n",
      "Expected POS tag: garde|VER:pres prediction: garde|NOM\n",
      "Expected POS tag: majuscule|ADJ prediction: majuscule|NOM\n",
      "Expected POS tag: qu'|KON prediction: qu'|PRO:REL\n",
      "Expected POS tag: fort|ADJ prediction: fort|ADV\n",
      "Expected POS tag: limitées|VER:pper prediction: limitées|ADJ\n",
      "Expected POS tag: leur|PRO:PER prediction: leur|DET:POS\n",
      "Expected POS tag: qu'|PRO:REL prediction: qu'|ADV\n",
      "Expected POS tag: seul|ADV prediction: seul|ADJ\n",
      "Expected POS tag: habilité|VER:pper prediction: habilité|NOM\n",
      "Expected POS tag: vis|VER:pres prediction: vis|VER:simp\n",
      "Expected POS tag: vis|VER:pres prediction: vis|VER:simp\n",
      "Expected POS tag: politiques|NOM prediction: politiques|ADJ\n",
      "Expected POS tag: monétaire|ADJ prediction: monétaire|NOM\n",
      "Expected POS tag: obligataire|ADJ prediction: obligataire|NOM\n",
      "Expected POS tag: quitte|ADJ prediction: quitte|VER:pres\n",
      "Expected POS tag: que|PRO:REL prediction: que|KON\n",
      "Expected POS tag: Institutional|ADJ prediction: Institutional|NAM\n",
      "Expected POS tag: Failure|NOM prediction: Failure|NAM\n",
      "Expected POS tag: at|PRP prediction: at|DET:ART\n",
      "Expected POS tag: prégnant|ADJ prediction: prégnant|VER:ppre\n",
      "Expected POS tag: freelance|ADJ prediction: freelance|NOM\n",
      "Expected POS tag: Lebanese|ADJ prediction: Lebanese|NAM\n",
      "Expected POS tag: over|PRP prediction: over|ADJ\n",
      "Expected POS tag: écarts|NOM prediction: écarts|ADJ\n",
      "Expected POS tag: baume|NOM prediction: baume|ADJ\n",
      "Expected POS tag: offshore|ADJ prediction: offshore|NOM\n",
      "Expected POS tag: autre|ADJ prediction: autre|PRO:IND\n",
      "Expected POS tag: lorgne|VER:pres prediction: lorgne|ADJ\n",
      "Expected POS tag: salariées|VER:pper prediction: salariées|ADJ\n",
      "Expected POS tag: seul|NOM prediction: seul|ADJ\n",
      "Expected POS tag: toutes|ADV prediction: toutes|PRO:IND\n",
      "Expected POS tag: DEFICIT|NOM prediction: DEFICIT|NAM\n",
      "Expected POS tag: que|KON prediction: que|PRO:REL\n",
      "Expected POS tag: baisse|NOM prediction: baisse|VER:pres\n",
      "Expected POS tag: ferreux|ADJ prediction: ferreux|NOM\n",
      "Expected POS tag: la|PRO:PER prediction: la|DET:ART\n",
      "Expected POS tag: dernières|NOM prediction: dernières|ADJ\n",
      "Expected POS tag: double|VER:pres prediction: double|ADJ\n",
      "Expected POS tag: toutes|PRO:IND prediction: toutes|ADV\n",
      "Expected POS tag: diplômés|VER:pper prediction: diplômés|NOM\n",
      "Expected POS tag: l'|PRO:PER prediction: l'|DET:ART\n",
      "Expected POS tag: comme|KON prediction: comme|ADV\n",
      "Expected POS tag: précédent|NOM prediction: précédent|ADJ\n",
      "Expected POS tag: tous|ADV prediction: tous|PRO:IND\n",
      "Expected POS tag: contenus|VER:pper prediction: contenus|ADJ\n",
      "Expected POS tag: leur|PRO:PER prediction: leur|DET:POS\n",
      "Expected POS tag: Débraillés|NOM prediction: Débraillés|ADJ\n",
      "Expected POS tag: s'|KON prediction: s'|PRO:PER\n",
      "Expected POS tag: un|NUM prediction: un|DET:ART\n",
      "Expected POS tag: existants|VER:ppre prediction: existants|ADJ\n",
      "Expected POS tag: Faïenceries|NOM prediction: Faïenceries|NAM\n",
      "Expected POS tag: le|PRO:PER prediction: le|DET:ART\n",
      "Expected POS tag: normale|ADJ prediction: normale|NOM\n",
      "Expected POS tag: après|ADV prediction: après|PRP\n",
      "Expected POS tag: ainsi|KON prediction: ainsi|ADV\n",
      "Expected POS tag: revenus|NOM prediction: revenus|VER:pper\n",
      "Expected POS tag: leur|PRO:PER prediction: leur|DET:POS\n",
      "Expected POS tag: tout|PRO:IND prediction: tout|ADV\n",
      "Expected POS tag: hypothèque|NOM prediction: hypothèque|ADJ\n",
      "Expected POS tag: tout|PRO:IND prediction: tout|ADV\n",
      "Expected POS tag: avant|PRP prediction: avant|ADV\n",
      "Expected POS tag: seule|ADJ prediction: seule|ADV\n",
      "Expected POS tag: PLA|ABR prediction: PLA|NAM\n",
      "Expected POS tag: réputés|VER:pper prediction: réputés|ADJ\n",
      "Expected POS tag: qu'|KON prediction: qu'|PRO:REL\n",
      "Expected POS tag: 220725478X|NAM prediction: 220725478X|ABR\n",
      "Expected POS tag: argenté|VER:pper prediction: argenté|ADJ\n",
      "Expected POS tag: empourpre|VER:pres prediction: empourpre|NOM\n",
      "Expected POS tag: ruisselle|VER:pres prediction: ruisselle|NOM\n",
      "Expected POS tag: assorti|VER:pper prediction: assorti|ADJ\n",
      "Expected POS tag: Taïwanais|NOM prediction: Taïwanais|NAM\n",
      "Expected POS tag: jeunes|NOM prediction: jeunes|ADJ\n",
      "Expected POS tag: l'|PRO:PER prediction: l'|DET:ART\n",
      "Expected POS tag: en|PRP prediction: en|PRO:PER\n",
      "Expected POS tag: alors|ADV prediction: alors|KON\n",
      "Expected POS tag: tous|PRO:IND prediction: tous|ADV\n",
      "Expected POS tag: tournée|VER:pper prediction: tournée|NOM\n",
      "Expected POS tag: tisse|VER:pres prediction: tisse|VER:subp\n",
      "Expected POS tag: commune|ADJ prediction: commune|NOM\n",
      "Expected POS tag: Spécialiste|NOM prediction: Spécialiste|ADJ\n",
      "Expected POS tag: sache|VER:subp prediction: sache|VER:pres\n",
      "Expected POS tag: Qu'|PRO:REL prediction: Qu'|KON\n",
      "Expected POS tag: inquiet|ADJ prediction: inquiet|VER:pres\n",
      "Expected POS tag: Réserve|NOM prediction: Réserve|NAM\n",
      "Expected POS tag: coroné|NAM prediction: coroné|ADJ\n",
      "Expected POS tag: la|PRO:PER prediction: la|DET:ART\n",
      "Expected POS tag: laïcisant|VER:ppre prediction: laïcisant|NOM\n",
      "Expected POS tag: anticlérical|NOM prediction: anticlérical|ADJ\n",
      "Expected POS tag: supposée|VER:pper prediction: supposée|ADJ\n",
      "Expected POS tag: approfondie|VER:pper prediction: approfondie|ADJ\n",
      "Expected POS tag: comme|KON prediction: comme|ADV\n",
      "Expected POS tag: l'|PRO:PER prediction: l'|DET:ART\n",
      "Expected POS tag: antan|NOM prediction: antan|ADJ\n",
      "Expected POS tag: Passera|NAM prediction: Passera|VER:futu\n",
      "Expected POS tag: alors|KON prediction: alors|ADV\n",
      "Expected POS tag: 15ème|ADJ prediction: 15ème|NOM\n",
      "Expected POS tag: pêcheurs|NOM prediction: pêcheurs|ADJ\n",
      "Expected POS tag: state|NOM prediction: state|ADJ\n",
      "Expected POS tag: politique|ADJ prediction: politique|NOM\n",
      "Expected POS tag: que|KON prediction: que|ADV\n",
      "Expected POS tag: que|PRO:REL prediction: que|KON\n",
      "Expected POS tag: s'|KON prediction: s'|PRO:PER\n",
      "Expected POS tag: que|PRO:REL prediction: que|KON\n",
      "Expected POS tag: AVS|ABR prediction: AVS|NAM\n",
      "Expected POS tag: en|PRO:PER prediction: en|PRP\n",
      "Expected POS tag: munichois|NOM prediction: munichois|ADJ\n",
      "Expected POS tag: autre|ADJ prediction: autre|PRO:IND\n",
      "Expected POS tag: ruraux|NOM prediction: ruraux|ADJ\n",
      "Expected POS tag: Elargir|VER:infi prediction: Elargir|NAM\n",
      "Expected POS tag: imputables|ADJ prediction: imputables|VER:pper\n",
      "Expected POS tag: les|PRO:PER prediction: les|DET:ART\n",
      "Expected POS tag: que|PRO:REL prediction: que|KON\n",
      "Expected POS tag: traversée|VER:pper prediction: traversée|NOM\n",
      "Expected POS tag: est|NOM prediction: est|VER:pres\n",
      "Expected POS tag: volta-redonda|NAM prediction: volta-redonda|NOM\n",
      "Expected POS tag: Mc|ABR prediction: Mc|NAM\n",
      "Expected POS tag: qu'|KON prediction: qu'|PRO:REL\n",
      "Expected POS tag: que|ADV prediction: que|KON\n",
      "Expected POS tag: écrit|VER:pper prediction: écrit|VER:pres\n",
      "Expected POS tag: Commissariat|NOM prediction: Commissariat|NAM\n",
      "Expected POS tag: la|PRO:PER prediction: la|DET:ART\n",
      "Expected POS tag: rivale|NOM prediction: rivale|ADJ\n",
      "Expected POS tag: soudaine|ADJ prediction: soudaine|VER:pres\n",
      "Expected POS tag: Petit|ADJ prediction: Petit|NAM\n",
      "Expected POS tag: le|PRO:PER prediction: le|DET:ART\n",
      "Expected POS tag: toute|ADV prediction: toute|PRO:IND\n",
      "Expected POS tag: fermes|ADJ prediction: fermes|NOM\n",
      "Expected POS tag: principal|NOM prediction: principal|ADJ\n",
      "Expected POS tag: en|PRO:PER prediction: en|PRP\n",
      "Expected POS tag: couleurs|NOM prediction: couleurs|ADJ\n",
      "Expected POS tag: mulard|ADJ prediction: mulard|NOM\n",
      "Expected POS tag: anser-anser|NAM prediction: anser-anser|ADJ\n",
      "Expected POS tag: autre|PRO:IND prediction: autre|ADJ\n",
      "Expected POS tag: leur|PRO:PER prediction: leur|DET:POS\n",
      "Expected POS tag: Seule|ADJ prediction: Seule|ADV\n",
      "Expected POS tag: nouvelle|NOM prediction: nouvelle|ADJ\n",
      "Expected POS tag: Dimanche|NAM prediction: Dimanche|NOM\n",
      "Expected POS tag: primo|ADV prediction: primo|NOM\n",
      "Expected POS tag: quand|PRO:REL prediction: quand|KON\n",
      "Expected POS tag: secundo|ADV prediction: secundo|NOM\n",
      "Expected POS tag: trois-quarts|NOM prediction: trois-quarts|NUM\n",
      "Expected POS tag: quasi|ADV prediction: quasi|NOM\n",
      "Expected POS tag: pays|NOM prediction: pays|ADJ\n",
      "Expected POS tag: que|PRO:REL prediction: que|KON\n",
      "Expected POS tag: alors|ADV prediction: alors|KON\n",
      "Expected POS tag: qu'|PRO:REL prediction: qu'|KON\n",
      "Expected POS tag: un|DET:ART prediction: un|NUM\n",
      "Expected POS tag: courant|VER:ppre prediction: courant|ADJ\n",
      "Expected POS tag: Réunion|NAM prediction: Réunion|NOM\n",
      "Expected POS tag: toute|ADV prediction: toute|PRO:IND\n",
      "Expected POS tag: plein|NOM prediction: plein|ADJ\n",
      "Expected POS tag: remises|NOM prediction: remises|VER:pper\n",
      "Expected POS tag: UTA|ABR prediction: UTA|NAM\n",
      "Expected POS tag: l'|PRO:PER prediction: l'|DET:ART\n",
      "Expected POS tag: si|ADV prediction: si|KON\n",
      "Expected POS tag: Imprimeries|NAM prediction: Imprimeries|NOM\n",
      "Expected POS tag: en|PRO:PER prediction: en|PRP\n",
      "Expected POS tag: comme|KON prediction: comme|ADV\n",
      "Expected POS tag: comme|KON prediction: comme|ADV\n",
      "Expected POS tag: modérée|VER:pper prediction: modérée|ADJ\n",
      "Expected POS tag: Production|NOM prediction: Production|NAM\n",
      "Expected POS tag: tout|PRO:IND prediction: tout|ADV\n",
      "Expected POS tag: le|DET:ART prediction: le|PRO:PER\n",
      "Expected POS tag: mieux|NOM prediction: mieux|ADV\n",
      "Expected POS tag: Documents|NOM prediction: Documents|NAM\n",
      "Expected POS tag: semblant|NOM prediction: semblant|VER:ppre\n",
      "Expected POS tag: Provençal|NOM prediction: Provençal|NAM\n",
      "Expected POS tag: atomique|ADJ prediction: atomique|NOM\n",
      "Expected POS tag: bon|NOM prediction: bon|ADJ\n",
      "Expected POS tag: dernière|ADJ prediction: dernière|NOM\n",
      "Expected POS tag: ATOS|ABR prediction: ATOS|NAM\n",
      "Expected POS tag: ouvrier|ADJ prediction: ouvrier|NOM\n",
      "Expected POS tag: pouvoir|NOM prediction: pouvoir|VER:infi\n",
      "Expected POS tag: suivant|PRP prediction: suivant|VER:ppre\n",
      "Expected POS tag: tout|PRO:IND prediction: tout|ADV\n",
      "Expected POS tag: quelque|ADJ prediction: quelque|PRO:IND\n",
      "Expected POS tag: Avez|VER:pres prediction: Avez|VER:impe\n",
      "Expected POS tag: que|PRO:REL prediction: que|KON\n",
      "Expected POS tag: comme|ADV prediction: comme|KON\n",
      "Expected POS tag: RBMK|NAM prediction: RBMK|ABR\n",
      "Expected POS tag: VVER-440|NAM prediction: VVER-440|ABR\n",
      "Expected POS tag: pressurisée|VER:pper prediction: pressurisée|ADJ\n",
      "Expected POS tag: n88-70|NAM prediction: n88-70|PRO:PER\n",
      "Expected POS tag: moyennes|ADJ prediction: moyennes|NOM\n",
      "Expected POS tag: fondateurs|NOM prediction: fondateurs|ADJ\n",
      "Expected POS tag: cru|ADJ prediction: cru|VER:pper\n",
      "Expected POS tag: certaines|PRO:IND prediction: certaines|ADJ\n",
      "Expected POS tag: leur|PRO:PER prediction: leur|DET:POS\n",
      "Expected POS tag: l'|DET:ART prediction: l'|PRO:PER\n",
      "Expected POS tag: coopérative|ADJ prediction: coopérative|NOM\n",
      "Expected POS tag: Isoète|ADJ prediction: Isoète|NAM\n",
      "Expected POS tag: adjoint|ADJ prediction: adjoint|NOM\n",
      "Expected POS tag: Prix|NAM prediction: Prix|NOM\n",
      "Expected POS tag: aincu|ADJ prediction: aincu|VER:pper\n",
      "Expected POS tag: responsable|NOM prediction: responsable|ADJ\n",
      "Expected POS tag: CTCOE|NAM prediction: CTCOE|ABR\n",
      "Expected POS tag: que|ADV prediction: que|KON\n",
      "Expected POS tag: proviendra|VER:futu prediction: proviendra|VER:pres\n",
      "Expected POS tag: s'|PRO:PER prediction: s'|KON\n",
      "Expected POS tag: parfait|NOM prediction: parfait|ADJ\n",
      "Expected POS tag: merveille|NOM prediction: merveille|ADJ\n",
      "Expected POS tag: tout|ADV prediction: tout|PRO:IND\n",
      "Expected POS tag: le|PRO:PER prediction: le|DET:ART\n",
      "Expected POS tag: tout|ADV prediction: tout|PRO:IND\n",
      "Expected POS tag: 2-F4|NAM prediction: 2-F4|ADJ\n",
      "Expected POS tag: J+1|NAM prediction: J+1|ABR\n",
      "Expected POS tag: épingle|VER:pres prediction: épingle|ADJ\n",
      "Expected POS tag: qu'|PRO:REL prediction: qu'|KON\n",
      "Expected POS tag: les|PRO:PER prediction: les|DET:ART\n",
      "Expected POS tag: les|PRO:PER prediction: les|DET:ART\n",
      "Expected POS tag: unie|VER:pper prediction: unie|ADJ\n",
      "Expected POS tag: permis|NOM prediction: permis|VER:pper\n",
      "Expected POS tag: comme|KON prediction: comme|ADV\n",
      "Expected POS tag: le|PRO:PER prediction: le|DET:ART\n",
      "Expected POS tag: Ebbene|INT prediction: Ebbene|NAM\n",
      "Expected POS tag: comme|KON prediction: comme|ADV\n",
      "Expected POS tag: Correspondance|NOM prediction: Correspondance|NAM\n",
      "Expected POS tag: Fin|NAM prediction: Fin|NOM\n",
      "Expected POS tag: Guerre|NAM prediction: Guerre|NOM\n",
      "Expected POS tag: passionnée|VER:pper prediction: passionnée|NOM\n",
      "Expected POS tag: manque|VER:pres prediction: manque|ADJ\n",
      "Expected POS tag: Prudente|ADJ prediction: Prudente|NOM\n",
      "Expected POS tag: meilleure|NOM prediction: meilleure|ADJ\n",
      "Expected POS tag: En|PRO:PER prediction: En|PRP\n",
      "Expected POS tag: une|NUM prediction: une|DET:ART\n",
      "Expected POS tag: réfugiés|NOM prediction: réfugiés|VER:pper\n",
      "Expected POS tag: que|PRO:REL prediction: que|KON\n",
      "Expected POS tag: ébahi|VER:pper prediction: ébahi|ADJ\n",
      "Expected POS tag: le|DET:ART prediction: le|PRO:PER\n",
      "Expected POS tag: l'|PRO:PER prediction: l'|DET:ART\n",
      "Expected POS tag: entendre|VER:infi prediction: entendre|NOM\n",
      "Expected POS tag: prêt|NOM prediction: prêt|ADJ\n",
      "Expected POS tag: qu'|ADV prediction: qu'|KON\n",
      "Expected POS tag: que|PRO:REL prediction: que|KON\n",
      "Expected POS tag: revue|VER:pper prediction: revue|NOM\n",
      "Expected POS tag: sache|VER:subp prediction: sache|VER:pres\n",
      "Expected POS tag: là-même|ADJ prediction: là-même|PRO:PER\n",
      "Expected POS tag: sacro-sainte|ADJ prediction: sacro-sainte|NOM\n",
      "Expected POS tag: inconsidéré|ADJ prediction: inconsidéré|VER:pper\n",
      "Expected POS tag: Tout|PRO:IND prediction: Tout|ADV\n",
      "Expected POS tag: antique|ADJ prediction: antique|NOM\n",
      "Expected POS tag: lancinant|ADJ prediction: lancinant|VER:ppre\n",
      "Expected POS tag: que|PRO:REL prediction: que|KON\n",
      "Expected POS tag: puis|VER:pres prediction: puis|ADV\n",
      "Expected POS tag: beaucoup|PRO:IND prediction: beaucoup|ADV\n",
      "Expected POS tag: en|PRO:PER prediction: en|PRP\n",
      "Expected POS tag: A|NOM prediction: A|PRP\n",
      "Expected POS tag: Royale|NAM prediction: Royale|ADJ\n",
      "Expected POS tag: qu'|KON prediction: qu'|PRO:REL\n",
      "Expected POS tag: civil|ADJ prediction: civil|NOM\n",
      "Expected POS tag: Un|NUM prediction: Un|DET:ART\n",
      "Expected POS tag: l'|PRO:PER prediction: l'|DET:ART\n",
      "Expected POS tag: R.-G.|ABR prediction: R.-G.|PUN\n",
      "Expected POS tag: Éditions|NOM prediction: Éditions|NAM\n",
      "Expected POS tag: Progrès|NAM prediction: Progrès|NOM\n",
      "Expected POS tag: Civique|NAM prediction: Civique|ADJ\n",
      "Expected POS tag: que|PRO:REL prediction: que|KON\n",
      "Expected POS tag: Sources|NOM prediction: Sources|NAM\n",
      "Expected POS tag: alors|KON prediction: alors|ADV\n",
      "Expected POS tag: civilisées|VER:pper prediction: civilisées|ADJ\n",
      "Expected POS tag: l'|PRO:PER prediction: l'|DET:ART\n",
      "Expected POS tag: Agenda|NAM prediction: Agenda|NOM\n",
      "Expected POS tag: Irlandais|NOM prediction: Irlandais|NAM\n",
      "Expected POS tag: paré|ADJ prediction: paré|VER:pper\n",
      "Expected POS tag: pouvoir|NOM prediction: pouvoir|VER:infi\n",
      "Expected POS tag: mort|ADJ prediction: mort|NOM\n",
      "Expected POS tag: volta-redonda|NAM prediction: volta-redonda|NOM\n",
      "Expected POS tag: contrainte|VER:pper prediction: contrainte|NOM\n",
      "Expected POS tag: voyageurs|ADJ prediction: voyageurs|NOM\n",
      "Expected POS tag: la|DET:ART prediction: la|PRO:PER\n",
      "Expected POS tag: aigris|VER:pper prediction: aigris|ADJ\n",
      "Expected POS tag: le|PRO:PER prediction: le|DET:ART\n",
      "Expected POS tag: dépendant|ADJ prediction: dépendant|VER:pper\n",
      "Expected POS tag: une|NUM prediction: une|DET:ART\n",
      "Expected POS tag: leur|PRO:PER prediction: leur|DET:POS\n",
      "Expected POS tag: anciens|NOM prediction: anciens|ADJ\n",
      "Expected POS tag: équivalents|NOM prediction: équivalents|ADJ\n",
      "Expected POS tag: Depuis|ADV prediction: Depuis|PRP\n",
      "Expected POS tag: dernière|NOM prediction: dernière|ADJ\n",
      "Expected POS tag: alors|KON prediction: alors|ADV\n",
      "Expected POS tag: présent|ADJ prediction: présent|NOM\n",
      "Expected POS tag: donnant-donnant|NOM prediction: donnant-donnant|VER:ppre\n",
      "Expected POS tag: franco-allemand|ADJ prediction: franco-allemand|NOM\n",
      "Expected POS tag: l'|PRO:PER prediction: l'|DET:ART\n",
      "Expected POS tag: Cahiers|NOM prediction: Cahiers|NAM\n",
      "Expected POS tag: ISMEA|NAM prediction: ISMEA|ABR\n",
      "Expected POS tag: Révélation|NOM prediction: Révélation|NAM\n",
      "Expected POS tag: toute|ADV prediction: toute|PRO:IND\n",
      "Expected POS tag: que|PRO:REL prediction: que|KON\n",
      "Expected POS tag: représentant|NOM prediction: représentant|VER:ppre\n",
      "Expected POS tag: Aztèques|NOM prediction: Aztèques|NAM\n",
      "Expected POS tag: appropriées|VER:pper prediction: appropriées|ADJ\n",
      "Expected POS tag: augures|NOM prediction: augures|ADJ\n",
      "Expected POS tag: beaucoup|PRO:IND prediction: beaucoup|ADV\n",
      "Expected POS tag: fusillés|VER:pper prediction: fusillés|ADJ\n",
      "Expected POS tag: culminants|VER:ppre prediction: culminants|ADJ\n",
      "Expected POS tag: Troisième|NUM prediction: Troisième|NAM\n",
      "Expected POS tag: tout|ADV prediction: tout|PRO:IND\n",
      "Expected POS tag: PORT|NAM prediction: PORT|NOM\n",
      "Expected POS tag: une|NUM prediction: une|DET:ART\n",
      "Expected POS tag: élévateur|ADJ prediction: élévateur|NOM\n",
      "Expected POS tag: proches|NOM prediction: proches|ADJ\n",
      "Expected POS tag: représentant|NOM prediction: représentant|VER:ppre\n",
      "Expected POS tag: entrée|VER:pper prediction: entrée|NOM\n",
      "Expected POS tag: Promenade|NOM prediction: Promenade|NAM\n",
      "Expected POS tag: comme|KON prediction: comme|ADV\n",
      "Expected POS tag: attendais|VER:impf prediction: attendais|VER:pres\n",
      "Expected POS tag: que|PRO:REL prediction: que|KON\n",
      "Expected POS tag: qu'|ADV prediction: qu'|PRO:REL\n",
      "Expected POS tag: controversées|VER:pper prediction: controversées|ADJ\n",
      "Expected POS tag: Médecins|NAM prediction: Médecins|NOM\n",
      "Expected POS tag: polémique|NOM prediction: polémique|ADJ\n",
      "Expected POS tag: une|NUM prediction: une|DET:ART\n",
      "Expected POS tag: Trois|NUM prediction: Trois|NAM\n",
      "Expected POS tag: Grands|NOM prediction: Grands|ADJ\n",
      "Expected POS tag: Comme|KON prediction: Comme|ADV\n",
      "Expected POS tag: en|PRO:PER prediction: en|PRP\n",
      "Expected POS tag: souffrirait|VER:cond prediction: souffrirait|VER:impf\n",
      "Expected POS tag: compte|NOM prediction: compte|VER:pres\n",
      "Expected POS tag: do|NAM prediction: do|NUM\n",
      "Expected POS tag: it|NAM prediction: it|NOM\n",
      "Expected POS tag: faites|VER:impe prediction: faites|VER:pper\n",
      "Expected POS tag: gomme|VER:pres prediction: gomme|NOM\n",
      "Expected POS tag: LAS|ABR prediction: LAS|NAM\n",
      "Expected POS tag: seul|ADV prediction: seul|ADJ\n",
      "Expected POS tag: comme|KON prediction: comme|ADV\n",
      "Expected POS tag: l'|PRO:PER prediction: l'|DET:ART\n",
      "Expected POS tag: le|DET:ART prediction: le|PRO:PER\n",
      "Expected POS tag: directeur|NOM prediction: directeur|ADJ\n",
      "Expected POS tag: Montée|NOM prediction: Montée|VER:pper\n",
      "Expected POS tag: que|PRO:REL prediction: que|KON\n",
      "Expected POS tag: après|ADV prediction: après|PRP\n",
      "Expected POS tag: '|PUN:cit prediction: '|NOM\n",
      "Expected POS tag: pouvoir|NOM prediction: pouvoir|VER:infi\n",
      "Expected POS tag: responsables|ADJ prediction: responsables|NOM\n",
      "Expected POS tag: appropriés|VER:pper prediction: appropriés|ADJ\n",
      "Expected POS tag: CGCT|NAM prediction: CGCT|ABR\n",
      "Expected POS tag: toute|PRO:IND prediction: toute|ADV\n",
      "Expected POS tag: maintes|PRO:IND prediction: maintes|ADV\n",
      "Expected POS tag: acheteurs|ADJ prediction: acheteurs|NOM\n",
      "Expected POS tag: comme|KON prediction: comme|ADV\n",
      "Expected POS tag: autres|PRO:IND prediction: autres|ADJ\n",
      "Expected POS tag: quelque|ADJ prediction: quelque|ADV\n",
      "Expected POS tag: parfumées|VER:pper prediction: parfumées|ADJ\n",
      "Expected POS tag: sécurisant|ADJ prediction: sécurisant|VER:ppre\n",
      "Expected POS tag: confient|VER:subp prediction: confient|VER:pres\n",
      "Expected POS tag: Histoire|NOM prediction: Histoire|NAM\n",
      "Expected POS tag: en|PRO:PER prediction: en|PRP\n",
      "Expected POS tag: privés|VER:pper prediction: privés|ADJ\n",
      "Expected POS tag: textile|NOM prediction: textile|ADJ\n",
      "Expected POS tag: ci|ADV prediction: ci|PRO:DEM\n",
      "Expected POS tag: s'|KON prediction: s'|PRO:PER\n",
      "Expected POS tag: risque|NOM prediction: risque|VER:pres\n",
      "Expected POS tag: bleus|ADJ prediction: bleus|NOM\n",
      "Expected POS tag: que|PRO:REL prediction: que|KON\n",
      "Expected POS tag: que|PRO:REL prediction: que|KON\n",
      "Expected POS tag: logiciel|NOM prediction: logiciel|ADJ\n",
      "Expected POS tag: dorés|VER:pper prediction: dorés|ADJ\n",
      "Expected POS tag: si|ADV prediction: si|KON\n",
      "Expected POS tag: mène|VER:subp prediction: mène|VER:pres\n",
      "Expected POS tag: jeunes|NOM prediction: jeunes|ADJ\n",
      "Expected POS tag: trop-tôt-considérés-comme-vieux|PRO prediction: trop-tôt-considérés-comme-vieux|PRO:PER\n",
      "Expected POS tag: DIA|NAM prediction: DIA|ABR\n",
      "Expected POS tag: bien|NOM prediction: bien|ADV\n",
      "Expected POS tag: comme|ADV prediction: comme|KON\n",
      "Expected POS tag: les|PRO:PER prediction: les|DET:ART\n",
      "Expected POS tag: local|ADJ prediction: local|NOM\n",
      "Expected POS tag: A|NOM prediction: A|VER:pres\n",
      "Expected POS tag: foncier|ADJ prediction: foncier|NOM\n",
      "Expected POS tag: régionales|NOM prediction: régionales|ADJ\n",
      "Expected POS tag: l'|PRO:PER prediction: l'|DET:ART\n",
      "Expected POS tag: balbutiante|ADJ prediction: balbutiante|VER:ppre\n",
      "Expected POS tag: le|PRO:PER prediction: le|DET:ART\n",
      "Expected POS tag: reste|VER:pres prediction: reste|NOM\n",
      "Expected POS tag: faute|NOM prediction: faute|ADJ\n",
      "Expected POS tag: textile|NOM prediction: textile|ADJ\n",
      "Expected POS tag: après|ADV prediction: après|PRP\n",
      "Expected POS tag: Comme|KON prediction: Comme|ADV\n",
      "Expected POS tag: le|PRO:PER prediction: le|DET:ART\n",
      "Expected POS tag: comme|ADV prediction: comme|KON\n",
      "Expected POS tag: qu'|KON prediction: qu'|PRO:REL\n",
      "Expected POS tag: Me|ABR prediction: Me|PRO:PER\n",
      "Expected POS tag: la|PRO:PER prediction: la|DET:ART\n",
      "Expected POS tag: apaise|VER:pres prediction: apaise|VER:subp\n",
      "Expected POS tag: tout|PRO:IND prediction: tout|ADV\n",
      "Expected POS tag: unes|NOM prediction: unes|PRO\n",
      "Expected POS tag: l'|PRO:PER prediction: l'|DET:ART\n",
      "Expected POS tag: toutes|PRO:IND prediction: toutes|ADV\n",
      "Expected POS tag: dépourvu|VER:pper prediction: dépourvu|ADJ\n",
      "Expected POS tag: l'|PRO:PER prediction: l'|DET:ART\n",
      "Expected POS tag: être|VER:infi prediction: être|NOM\n",
      "Expected POS tag: que|KON prediction: que|PRO:REL\n",
      "Expected POS tag: alors|ADV prediction: alors|KON\n",
      "Expected POS tag: fort|ADJ prediction: fort|ADV\n",
      "Expected POS tag: le|DET:ART prediction: le|PRO:PER\n",
      "Expected POS tag: le|PRO:PER prediction: le|DET:ART\n",
      "Expected POS tag: Alors|ADV prediction: Alors|KON\n",
      "Expected POS tag: suisse|NOM prediction: suisse|ADJ\n",
      "Expected POS tag: phare|NOM prediction: phare|ADJ\n",
      "Expected POS tag: une|NUM prediction: une|DET:ART\n",
      "Expected POS tag: embarrassant|ADJ prediction: embarrassant|VER:ppre\n",
      "Expected POS tag: exposé|NOM prediction: exposé|VER:pper\n",
      "Expected POS tag: comme|KON prediction: comme|ADV\n",
      "Expected POS tag: Syndicats|NOM prediction: Syndicats|NAM\n",
      "Expected POS tag: Mirages|NOM prediction: Mirages|NAM\n",
      "Expected POS tag: en|PRO:PER prediction: en|PRP\n",
      "Expected POS tag: tous|ADV prediction: tous|PRO:IND\n",
      "Expected POS tag: sainte-Victoire|NAM prediction: sainte-Victoire|NOM\n",
      "Expected POS tag: chloroforme|NOM prediction: chloroforme|ADJ\n",
      "Expected POS tag: jeunes|NOM prediction: jeunes|ADJ\n",
      "Expected POS tag: luxembourgeois|NOM prediction: luxembourgeois|ADJ\n",
      "Expected POS tag: ex|PRP prediction: ex|ADV\n",
      "Expected POS tag: alors|ADV prediction: alors|KON\n",
      "Expected POS tag: en|PRO:PER prediction: en|PRP\n",
      "Expected POS tag: ainsi|KON prediction: ainsi|ADV\n",
      "Expected POS tag: tous|ADV prediction: tous|PRO:IND\n",
      "Expected POS tag: Douzième|NUM prediction: Douzième|NAM\n",
      "Expected POS tag: fort|ADJ prediction: fort|ADV\n",
      "Expected POS tag: amorties|VER:pper prediction: amorties|ADJ\n",
      "Expected POS tag: entreprises|VER:pper prediction: entreprises|NOM\n",
      "Expected POS tag: mitigée|ADJ prediction: mitigée|VER:pper\n",
      "Expected POS tag: prêt-à-porter|NOM prediction: prêt-à-porter|VER:infi\n",
      "Expected POS tag: comme|KON prediction: comme|ADV\n",
      "Expected POS tag: que|PRO:REL prediction: que|KON\n",
      "Expected POS tag: l'|PRO:PER prediction: l'|DET:ART\n",
      "Expected POS tag: toute|ADV prediction: toute|PRO:IND\n",
      "Expected POS tag: en|PRO:PER prediction: en|PRP\n",
      "Expected POS tag: Héraut|NOM prediction: Héraut|NAM\n",
      "Expected POS tag: veille|VER:pres prediction: veille|NOM\n",
      "Expected POS tag: vibrant|ADJ prediction: vibrant|NOM\n",
      "Expected POS tag: qu'|KON prediction: qu'|PRO:REL\n",
      "Expected POS tag: Depuis|ADV prediction: Depuis|PRP\n",
      "Expected POS tag: produit|NOM prediction: produit|VER:pres\n",
      "Expected POS tag: que|PRO:REL prediction: que|KON\n",
      "Expected POS tag: Digital|ADJ prediction: Digital|NAM\n",
      "Expected POS tag: Tampering|NOM prediction: Tampering|NAM\n",
      "Expected POS tag: Media|NOM prediction: Media|NAM\n",
      "Expected POS tag: Politics|NAM prediction: Politics|NOM\n",
      "Expected POS tag: Depuis|ADV prediction: Depuis|PRP\n",
      "Expected POS tag: qu'|PRO:REL prediction: qu'|KON\n",
      "Expected POS tag: bleu|NAM prediction: bleu|NOM\n",
      "Expected POS tag: hispano-Suiza|NAM prediction: hispano-Suiza|ADJ\n",
      "Expected POS tag: leur|PRO:PER prediction: leur|DET:POS\n",
      "Expected POS tag: si|ADV prediction: si|KON\n",
      "Expected POS tag: large|NOM prediction: large|ADJ\n",
      "Expected POS tag: Quid|PRO:REL prediction: Quid|NAM\n",
      "Expected POS tag: compte|NOM prediction: compte|VER:pres\n",
      "Expected POS tag: voilà|PRP prediction: voilà|ADV\n",
      "Expected POS tag: Même|ADJ prediction: Même|ADV\n",
      "Expected POS tag: Alsaciens|NAM prediction: Alsaciens|NOM\n",
      "Expected POS tag: mûs|VER:pper prediction: mûs|NOM\n",
      "Expected POS tag: qu'|KON prediction: qu'|PRO:REL\n",
      "Expected POS tag: les|PRO:PER prediction: les|DET:ART\n",
      "Expected POS tag: cueille|VER:pres prediction: cueille|NOM\n",
      "Expected POS tag: zig-Zag|NAM prediction: zig-Zag|NOM\n",
      "Expected POS tag: dernière|NOM prediction: dernière|ADJ\n",
      "Expected POS tag: seul|ADV prediction: seul|ADJ\n",
      "Expected POS tag: cumulé|NOM prediction: cumulé|VER:pper\n",
      "Expected POS tag: seuls|NOM prediction: seuls|ADJ\n",
      "Expected POS tag: hautes|ADJ prediction: hautes|NOM\n",
      "Expected POS tag: mandataires|ADJ prediction: mandataires|NOM\n",
      "Expected POS tag: en|PRO:PER prediction: en|PRP\n",
      "Expected POS tag: tout|ADV prediction: tout|PRO:IND\n",
      "Expected POS tag: comme|KON prediction: comme|ADV\n",
      "Expected POS tag: entendez|VER:impe prediction: entendez|VER:pres\n",
      "Expected POS tag: inchangée|ADJ prediction: inchangée|VER:pper\n",
      "Expected POS tag: ménages|NOM prediction: ménages|ADJ\n",
      "Expected POS tag: que|PRO:REL prediction: que|KON\n",
      "Expected POS tag: syndicale|ADJ prediction: syndicale|NOM\n",
      "Expected POS tag: Avez|VER:pres prediction: Avez|VER:impe\n",
      "Expected POS tag: en|PRO:PER prediction: en|PRP\n",
      "Expected POS tag: confiant|ADJ prediction: confiant|VER:ppre\n",
      "Expected POS tag: facture|NOM prediction: facture|VER:pres\n",
      "Expected POS tag: qu'|PRO:REL prediction: qu'|KON\n",
      "Expected POS tag: réforme|VER:pres prediction: réforme|ADJ\n",
      "Expected POS tag: principal|NOM prediction: principal|ADJ\n",
      "Expected POS tag: flotte|VER:pres prediction: flotte|ADJ\n",
      "Expected POS tag: dix-sept|NUM prediction: dix-sept|NOM\n",
      "Expected POS tag: douaniers|NOM prediction: douaniers|ADJ\n",
      "Expected POS tag: coupables|ADJ prediction: coupables|NOM\n",
      "Expected POS tag: que|PRO:REL prediction: que|KON\n",
      "Expected POS tag: Que|PRO:REL prediction: Que|KON\n",
      "Expected POS tag: attardée|ADJ prediction: attardée|VER:pper\n",
      "Expected POS tag: la|PRO:PER prediction: la|DET:ART\n",
      "Expected POS tag: précède|VER:pres prediction: précède|NOM\n",
      "Expected POS tag: un|NUM prediction: un|DET:ART\n",
      "Expected POS tag: Irakiens|NOM prediction: Irakiens|NAM\n",
      "Expected POS tag: agroalimentaire|ADJ prediction: agroalimentaire|NOM\n",
      "Expected POS tag: source|NAM prediction: source|NOM\n",
      "Expected POS tag: réduit|VER:pres prediction: réduit|VER:pper\n",
      "Expected POS tag: l'|PRO:PER prediction: l'|DET:ART\n",
      "Expected POS tag: appropriés|VER:pper prediction: appropriés|ADJ\n",
      "Expected POS tag: révât|VER:subp prediction: révât|VER:simp\n",
      "Expected POS tag: commandant|VER:ppre prediction: commandant|ADJ\n",
      "Expected POS tag: jeunes|NOM prediction: jeunes|ADJ\n",
      "Expected POS tag: tous|PRO:IND prediction: tous|ADV\n",
      "Expected POS tag: une|NUM prediction: une|DET:ART\n",
      "Expected POS tag: dit|VER:pper prediction: dit|VER:pres\n",
      "Expected POS tag: que|PRO:REL prediction: que|KON\n",
      "Expected POS tag: qu'|KON prediction: qu'|PRO:REL\n",
      "Expected POS tag: conduit|VER:pper prediction: conduit|VER:pres\n",
      "Expected POS tag: bank|NOM prediction: bank|NAM\n",
      "Expected POS tag: le|PRO:PER prediction: le|DET:ART\n",
      "Expected POS tag: le|PRO:PER prediction: le|DET:ART\n",
      "Expected POS tag: censée|ADJ prediction: censée|VER:pper\n",
      "Expected POS tag: compte|NOM prediction: compte|VER:pres\n",
      "Expected POS tag: tous|PRO:IND prediction: tous|ADV\n",
      "Expected POS tag: les|PRO:PER prediction: les|DET:ART\n",
      "Expected POS tag: a|DET:ART prediction: a|VER:pres\n",
      "Expected POS tag: Free|ADJ prediction: Free|NAM\n",
      "Expected POS tag: la|PRO:PER prediction: la|DET:ART\n",
      "Expected POS tag: l'|PRO:PER prediction: l'|DET:ART\n",
      "Expected POS tag: a|VER:pres prediction: a|NOM\n",
      "Expected POS tag: Ebbene|INT prediction: Ebbene|NAM\n",
      "Expected POS tag: per|PRP prediction: per|ADV\n",
      "Expected POS tag: mia|DET:ART prediction: mia|ADV\n",
      "Expected POS tag: voila|VER:impe prediction: voila|VER:pres\n",
      "Expected POS tag: figure|NOM prediction: figure|VER:pres\n",
      "Expected POS tag: autre|ADJ prediction: autre|PRO:IND\n",
      "Expected POS tag: futur|NOM prediction: futur|ADJ\n",
      "Expected POS tag: fermes|NOM prediction: fermes|ADJ\n",
      "Expected POS tag: que|PRO:REL prediction: que|KON\n",
      "Expected POS tag: Seule|ADJ prediction: Seule|ADV\n",
      "Expected POS tag: garde|VER:pres prediction: garde|NOM\n",
      "Expected POS tag: commandité|NOM prediction: commandité|VER:pper\n",
      "Expected POS tag: institutionnels|ADJ prediction: institutionnels|NOM\n",
      "Expected POS tag: les|PRO:PER prediction: les|DET:ART\n",
      "Expected POS tag: Nouvelle|NAM prediction: Nouvelle|ADJ\n",
      "Expected POS tag: Dimanche|NAM prediction: Dimanche|NOM\n",
      "Expected POS tag: électroménager|NAM prediction: électroménager|NOM\n",
      "Expected POS tag: fort|ADV prediction: fort|ADJ\n",
      "Expected POS tag: toutes|PRO:IND prediction: toutes|ADV\n",
      "Expected POS tag: volta-redonda|NAM prediction: volta-redonda|NOM\n",
      "Expected POS tag: qu'|KON prediction: qu'|PRO:REL\n",
      "Expected POS tag: superstar|NAM prediction: superstar|NOM\n",
      "Expected POS tag: après|ADV prediction: après|PRP\n",
      "Expected POS tag: comme|ADV prediction: comme|KON\n",
      "Expected POS tag: si|ADV prediction: si|KON\n",
      "Expected POS tag: manuscrit|ADJ prediction: manuscrit|NOM\n",
      "Expected POS tag: l'|PRO:PER prediction: l'|DET:ART\n",
      "Expected POS tag: le|PRO:PER prediction: le|DET:ART\n",
      "Expected POS tag: gaz|NAM prediction: gaz|NOM\n",
      "Expected POS tag: existants|VER:ppre prediction: existants|ADJ\n",
      "Expected POS tag: tous|ADV prediction: tous|PRO:IND\n",
      "Expected POS tag: chènes|NOM prediction: chènes|ADJ\n",
      "Expected POS tag: autre|ADJ prediction: autre|PRO:IND\n",
      "Expected POS tag: que|PRO:REL prediction: que|KON\n",
      "Expected POS tag: sourire|VER:infi prediction: sourire|NOM\n",
      "Expected POS tag: Cie|NOM prediction: Cie|NAM\n",
      "Expected POS tag: pas|ADV prediction: pas|NOM\n",
      "Expected POS tag: immédiat|ADJ prediction: immédiat|NOM\n",
      "Expected POS tag: représentant|NOM prediction: représentant|VER:ppre\n",
      "Expected POS tag: textile|NOM prediction: textile|ADJ\n",
      "Expected POS tag: même|ADV prediction: même|ADJ\n",
      "Expected POS tag: locaux|NOM prediction: locaux|ADJ\n",
      "Expected POS tag: rougis|VER:pper prediction: rougis|ADJ\n",
      "Expected POS tag: raffermira|VER:futu prediction: raffermira|VER:infi\n",
      "Expected POS tag: paris|NAM prediction: paris|NOM\n",
      "Expected POS tag: fort|ADJ prediction: fort|ADV\n",
      "Expected POS tag: Ouest-allemandes|ADJ prediction: Ouest-allemandes|NAM\n",
      "Expected POS tag: bons|NOM prediction: bons|ADJ\n",
      "Expected POS tag: bien|NOM prediction: bien|ADV\n",
      "Expected POS tag: l'|PRO:PER prediction: l'|DET:ART\n",
      "Expected POS tag: Bravo|INT prediction: Bravo|NAM\n",
      "Expected POS tag: flamber|VER:infi prediction: flamber|VER:pres\n",
      "Expected POS tag: leur|PRO:PER prediction: leur|DET:POS\n",
      "Expected POS tag: seul|NOM prediction: seul|ADJ\n",
      "Expected POS tag: les|PRO:PER prediction: les|DET:ART\n",
      "Expected POS tag: s'|KON prediction: s'|PRO:PER\n",
      "Expected POS tag: CDF|NAM prediction: CDF|ABR\n",
      "Expected POS tag: sourds|ADJ prediction: sourds|NOM\n",
      "Expected POS tag: Voies|NOM prediction: Voies|NAM\n",
      "Expected POS tag: faux|ADJ prediction: faux|NOM\n",
      "Expected POS tag: tous|PRO:IND prediction: tous|ADV\n",
      "Expected POS tag: anciens|NOM prediction: anciens|ADJ\n",
      "Expected POS tag: privilégié|VER:pper prediction: privilégié|ADJ\n",
      "Expected POS tag: coupables|ADJ prediction: coupables|NOM\n",
      "Expected POS tag: Alors|ADV prediction: Alors|KON\n",
      "Expected POS tag: Gatt|ABR prediction: Gatt|NAM\n",
      "Expected POS tag: Mixte|NAM prediction: Mixte|ADJ\n",
      "Expected POS tag: l'|PRO:PER prediction: l'|DET:ART\n",
      "Expected POS tag: avoir|VER:infi prediction: avoir|NOM\n",
      "Expected POS tag: si|ADV prediction: si|KON\n",
      "Expected POS tag: next|NAM prediction: next|ADJ\n",
      "Expected POS tag: merveille|NOM prediction: merveille|ADJ\n",
      "Expected POS tag: seule|ADJ prediction: seule|NOM\n",
      "Expected POS tag: Question|NAM prediction: Question|NOM\n",
      "Expected POS tag: qu'|PRO:REL prediction: qu'|KON\n",
      "Expected POS tag: que|PRO:REL prediction: que|KON\n",
      "Expected POS tag: que|PRO:REL prediction: que|KON\n",
      "Expected POS tag: Conservatoire|NOM prediction: Conservatoire|NAM\n",
      "Expected POS tag: coordonné|VER:pper prediction: coordonné|NOM\n",
      "Expected POS tag: ainsi|KON prediction: ainsi|ADV\n",
      "Expected POS tag: arrondies|VER:pper prediction: arrondies|ADJ\n",
      "Expected POS tag: en|PRO:PER prediction: en|PRP\n",
      "Expected POS tag: leur|PRO:PER prediction: leur|DET:POS\n",
      "Expected POS tag: toutes|PRO:IND prediction: toutes|ADV\n",
      "Expected POS tag: alors|KON prediction: alors|ADV\n",
      "Expected POS tag: restreintes|VER:pper prediction: restreintes|ADJ\n",
      "Expected POS tag: sons|NAM prediction: sons|NOM\n",
      "Expected POS tag: Co|ABR prediction: Co|NAM\n",
      "Expected POS tag: Co|ABR prediction: Co|NAM\n",
      "Expected POS tag: outre-Manche|ADV prediction: outre-Manche|NOM\n",
      "Expected POS tag: résumé|VER:pper prediction: résumé|NOM\n",
      "Expected POS tag: comme|KON prediction: comme|ADV\n",
      "Expected POS tag: modérée|VER:pper prediction: modérée|ADJ\n",
      "Expected POS tag: détaillées|VER:pper prediction: détaillées|ADJ\n",
      "Expected POS tag: Pyrénéens|ADJ prediction: Pyrénéens|NAM\n",
      "Expected POS tag: culminant|VER:ppre prediction: culminant|ADJ\n",
      "Expected POS tag: personne|PRO:IND prediction: personne|NOM\n",
      "Expected POS tag: toutes|PRO:IND prediction: toutes|ADV\n",
      "Expected POS tag: Tout|PRO:IND prediction: Tout|ADV\n",
      "Expected POS tag: même|ADJ prediction: même|ADV\n",
      "Expected POS tag: Coopération|NOM prediction: Coopération|NAM\n",
      "Expected POS tag: attaché|NOM prediction: attaché|VER:pper\n",
      "Expected POS tag: formateur|ADJ prediction: formateur|NOM\n",
      "Expected POS tag: how|ADV prediction: how|NUM\n",
      "Expected POS tag: to|PRP prediction: to|NOM\n",
      "Expected POS tag: lie|VER:infi prediction: lie|NOM\n",
      "Expected POS tag: August|NOM prediction: August|NAM\n",
      "Expected POS tag: représentatives|ADJ prediction: représentatives|VER:pper\n",
      "Expected POS tag: défilé|NOM prediction: défilé|VER:pper\n",
      "Expected POS tag: vives|ADJ prediction: vives|NOM\n",
      "Expected POS tag: BV|ABR prediction: BV|NAM\n",
      "Expected POS tag: même|ADJ prediction: même|ADV\n",
      "Expected POS tag: Alors|ADV prediction: Alors|KON\n",
      "Expected POS tag: pauvres|NOM prediction: pauvres|ADJ\n",
      "Expected POS tag: l'|PRO:PER prediction: l'|DET:ART\n",
      "Expected POS tag: qu'|PRO:REL prediction: qu'|KON\n",
      "Expected POS tag: que|PRO:REL prediction: que|KON\n",
      "Expected POS tag: comme|KON prediction: comme|ADV\n",
      "Expected POS tag: financiers|ADJ prediction: financiers|NOM\n",
      "Expected POS tag: A2|ABR prediction: A2|PRP\n",
      "Expected POS tag: OEUVRE|NOM prediction: OEUVRE|ABR\n",
      "Expected POS tag: jeunes|NOM prediction: jeunes|ADJ\n",
      "Expected POS tag: adultes|NOM prediction: adultes|ADJ\n",
      "Expected POS tag: néo-|ADV prediction: néo-|ADJ\n",
      "Expected POS tag: influent|ADJ prediction: influent|NOM\n",
      "Expected POS tag: tout|PRO:IND prediction: tout|ADV\n",
      "Expected POS tag: qu'|ADV prediction: qu'|PRO:REL\n",
      "Expected POS tag: que|KON prediction: que|ADV\n",
      "Expected POS tag: égal|ADJ prediction: égal|NOM\n",
      "Expected POS tag: prou|ADV prediction: prou|ADJ\n",
      "Expected POS tag: que|ADV prediction: que|PRO:REL\n",
      "Expected POS tag: fin|NOM prediction: fin|ADJ\n",
      "Expected POS tag: qu'|ADV prediction: qu'|KON\n",
      "Expected POS tag: autre|PRO:IND prediction: autre|ADJ\n",
      "Expected POS tag: en|PRO:PER prediction: en|PRP\n",
      "Expected POS tag: au-delà|ADV prediction: au-delà|PRP\n",
      "Expected POS tag: en|PRO:PER prediction: en|PRP\n",
      "Expected POS tag: plantais|VER:impf prediction: plantais|NOM\n",
      "Expected POS tag: Arrête|VER:impe prediction: Arrête|VER:pres\n",
      "Expected POS tag: tout|ADV prediction: tout|PRO:IND\n",
      "Expected POS tag: comme|KON prediction: comme|ADV\n",
      "Expected POS tag: courant|VER:ppre prediction: courant|NOM\n",
      "Expected POS tag: l'|PRO:PER prediction: l'|DET:ART\n",
      "Expected POS tag: aggravant|ADJ prediction: aggravant|VER:ppre\n",
      "Expected POS tag: politique|NOM prediction: politique|ADJ\n",
      "Expected POS tag: consultant|NOM prediction: consultant|VER:ppre\n",
      "Expected POS tag: qu'|PRO:REL prediction: qu'|KON\n",
      "Total  :  86406\n",
      "Correct:  85331\n",
      "Wrong  :  1075\n",
      "Correct %:  98.75587343471518\n",
      "Wrong   %:  1.2441265652848181\n"
     ]
    }
   ],
   "source": [
    "# This code allows you to see the mislabelled examples\n",
    "\n",
    "y_dev_oh = to_categorical(Y_dev_indices, num_classes = numClasses)\n",
    "X_dev_indices = lists_to_indices(X_dev, word_to_index, maxLen)\n",
    "pred = model.predict(X_dev_indices)\n",
    "\n",
    "correct = 0\n",
    "wrong = 0\n",
    "\n",
    "\n",
    "for i in range(len(X_dev)-1):\n",
    "    for j in range(len(X_dev[i])):\n",
    "        num = np.argmax(pred[i][j])\n",
    "        if(num != Y_dev_indices[i][j]):\n",
    "            wrong = wrong + 1\n",
    "            print('Expected POS tag: '+ X_dev[i][j] + '|' + Y_dev[i][j] + ' prediction: '+ X_dev[i][j] + '|' + index_to_pos2[num])\n",
    "        else:\n",
    "            correct = correct + 1\n",
    "total = wrong + correct\n",
    "print(\"Total  : \", total)\n",
    "print(\"Correct: \", correct)\n",
    "print(\"Wrong  : \", wrong)\n",
    "\n",
    "cpct = (100*correct)/total\n",
    "wpct = (100*wrong)/total\n",
    "print(\"Correct %: \", cpct)\n",
    "print(\"Wrong   %: \", wpct)"
   ]
  },
  {
   "cell_type": "markdown",
   "metadata": {},
   "source": [
    "### POStagger results on development set\n",
    "\n",
    "| tagset | LTSM units | batchnorm | dropout | epochs | results |\n",
    "|:-----|---------:|:----------:|-------:|-----:|----------:|\n",
    "| tt | 128 | no | 0 |  50 | 98.50 |\n",
    "| tt | 128 | yes | 0.5 | 30 | 98.76 |\n"
   ]
  },
  {
   "cell_type": "code",
   "execution_count": 73,
   "metadata": {
    "collapsed": true
   },
   "outputs": [],
   "source": [
    "model.save('tt_pos.h5')"
   ]
  },
  {
   "cell_type": "markdown",
   "metadata": {},
   "source": [
    "## 5. Training the Supertagger\n",
    "\n"
   ]
  },
  {
   "cell_type": "markdown",
   "metadata": {},
   "source": [
    "### Prepare the training and development data\n",
    "\n",
    "We split the data as before, only using Z (supertags) instead of Y2 (treetagger POStag set) as the goal"
   ]
  },
  {
   "cell_type": "code",
   "execution_count": 26,
   "metadata": {},
   "outputs": [
    {
     "name": "stdout",
     "output_type": "stream",
     "text": [
      "Train:  (1195,)\n",
      "Test:   (398,)\n",
      "Dev:    (399,)\n"
     ]
    }
   ],
   "source": [
    "# split the training data into the standard 60% train, 20% dev, 20% test \n",
    "X_train, X_testdev, Y_super_train, Y_super_testdev = train_test_split(X, Z, test_size=0.4)\n",
    "X_test, X_dev, Y_super_test, Y_super_dev = train_test_split(X_testdev, Y_super_testdev, test_size=0.5)\n",
    "print(\"Train: \", X_train.shape)\n",
    "print(\"Test:  \", X_test.shape)\n",
    "print(\"Dev:   \", X_dev.shape)"
   ]
  },
  {
   "cell_type": "markdown",
   "metadata": {},
   "source": [
    "#### Prepare training data\n",
    "\n",
    "Transform the training data into the form most convenient for the supertag model"
   ]
  },
  {
   "cell_type": "code",
   "execution_count": 27,
   "metadata": {
    "collapsed": true
   },
   "outputs": [],
   "source": [
    "X_train_indices = lists_to_indices(X_train, word_to_index, maxLen)\n",
    "Y_super_train_indices = lists_to_indices(Y_super_train, super_to_index, maxLen)\n",
    "Y_super_train_oh = to_categorical(Y_super_train_indices, num_classes=numSuperClasses)"
   ]
  },
  {
   "cell_type": "markdown",
   "metadata": {},
   "source": [
    "#### Prepare development data\n",
    "\n",
    "Do the same for the development data. The development data allows us to check for over/underfitting."
   ]
  },
  {
   "cell_type": "code",
   "execution_count": 28,
   "metadata": {
    "collapsed": true
   },
   "outputs": [],
   "source": [
    "X_dev_indices = lists_to_indices(X_dev, word_to_index, max_len = maxLen)\n",
    "Y_super_dev_indices = lists_to_indices(Y_super_dev, super_to_index, max_len = maxLen)\n",
    "Y_super_dev_oh = to_categorical(Y_super_dev_indices, num_classes = numSuperClasses)"
   ]
  },
  {
   "cell_type": "markdown",
   "metadata": {},
   "source": [
    "### Define the model\n",
    "\n",
    "We define the structure of the model"
   ]
  },
  {
   "cell_type": "code",
   "execution_count": 29,
   "metadata": {
    "collapsed": true
   },
   "outputs": [],
   "source": [
    "# Super_model\n",
    "# this is a direct supertag model not using the part-of-speech tags\n",
    "\n",
    "def Super_model(input_shape, word_to_vec_map, word_to_index):\n",
    "    \"\"\"\n",
    "    Function creating the Emojify-v2 model's graph.\n",
    "    \n",
    "    Arguments:\n",
    "    input_shape -- shape of the input, usually (max_len,)\n",
    "    word_to_vec_map -- dictionary mapping every word in a vocabulary into its 50-dimensional vector representation\n",
    "    word_to_index -- dictionary mapping from words to their indices in the vocabulary (400,001 words)\n",
    "\n",
    "    Returns:\n",
    "    model -- a model instance in Keras\n",
    "    \"\"\"\n",
    "    \n",
    "    # Define sentence_indices as the input of the graph, it should be of shape input_shape and dtype 'int32' (as it contains indices).\n",
    "    sentence_indices = Input(shape = input_shape, dtype = 'int32')\n",
    "    \n",
    "    # Create the embedding layer pretrained with GloVe Vectors (≈1 line)\n",
    "    embedding_layer = pretrained_embedding_layer(word_to_vec_map, word_to_index)\n",
    "    \n",
    "    # Propagate sentence_indices through your embedding layer, you get back the embeddings\n",
    "    embeddings = embedding_layer(sentence_indices)   \n",
    "    \n",
    "    # Propagate the embeddings through an LSTM layer with 128-dimensional hidden state\n",
    "    # returning a batch of sequences.\n",
    "    X = LSTM(128, return_sequences=True)(embeddings) \n",
    "#    X = BatchNormalization()(X)\n",
    "    X = Dropout(0.5)(X)\n",
    "    \n",
    "    # Add a (time distributed) Dense layer followed by a softmax activation\n",
    "    X = TimeDistributed(Dense(numSuperClasses, activation='softmax'))(X)\n",
    "    \n",
    "    # Create Model instance which converts sentence_indices into X.\n",
    "    model = Model(inputs=sentence_indices,outputs=X)\n",
    "        \n",
    "    return model"
   ]
  },
  {
   "cell_type": "code",
   "execution_count": 30,
   "metadata": {},
   "outputs": [
    {
     "name": "stdout",
     "output_type": "stream",
     "text": [
      "_________________________________________________________________\n",
      "Layer (type)                 Output Shape              Param #   \n",
      "=================================================================\n",
      "input_2 (InputLayer)         (None, 119)               0         \n",
      "_________________________________________________________________\n",
      "embedding_3 (Embedding)      (None, 119, 663)          6648564   \n",
      "_________________________________________________________________\n",
      "lstm_2 (LSTM)                (None, 119, 128)          405504    \n",
      "_________________________________________________________________\n",
      "dropout_2 (Dropout)          (None, 119, 128)          0         \n",
      "_________________________________________________________________\n",
      "time_distributed_2 (TimeDist (None, 119, 518)          66822     \n",
      "=================================================================\n",
      "Total params: 7,120,890\n",
      "Trainable params: 472,326\n",
      "Non-trainable params: 6,648,564\n",
      "_________________________________________________________________\n"
     ]
    }
   ],
   "source": [
    "supermodel = Super_model((maxLen,), word_to_vec_map, word_to_index)\n",
    "supermodel.summary()"
   ]
  },
  {
   "cell_type": "code",
   "execution_count": 31,
   "metadata": {
    "collapsed": true
   },
   "outputs": [],
   "source": [
    "supermodel.compile(loss='categorical_crossentropy', optimizer='adam', metrics=['accuracy'])"
   ]
  },
  {
   "cell_type": "code",
   "execution_count": 39,
   "metadata": {},
   "outputs": [
    {
     "name": "stdout",
     "output_type": "stream",
     "text": [
      "Train on 1195 samples, validate on 399 samples\n",
      "Epoch 1/10\n",
      "1195/1195 [==============================] - 20s 17ms/step - loss: 1.0985 - acc: 0.7337 - val_loss: 1.0624 - val_acc: 0.7428\n",
      "Epoch 2/10\n",
      "1195/1195 [==============================] - 20s 17ms/step - loss: 1.0796 - acc: 0.7358 - val_loss: 1.0483 - val_acc: 0.7438\n",
      "Epoch 3/10\n",
      "1195/1195 [==============================] - 20s 17ms/step - loss: 1.0616 - acc: 0.7389 - val_loss: 1.0281 - val_acc: 0.7464\n",
      "Epoch 4/10\n",
      "1195/1195 [==============================] - 21s 17ms/step - loss: 1.0395 - acc: 0.7429 - val_loss: 1.0141 - val_acc: 0.7497\n",
      "Epoch 5/10\n",
      "1195/1195 [==============================] - 21s 17ms/step - loss: 1.0225 - acc: 0.7459 - val_loss: 1.0013 - val_acc: 0.7512\n",
      "Epoch 6/10\n",
      "1195/1195 [==============================] - 21s 17ms/step - loss: 1.0025 - acc: 0.7500 - val_loss: 0.9904 - val_acc: 0.7531\n",
      "Epoch 7/10\n",
      "1195/1195 [==============================] - 21s 18ms/step - loss: 0.9889 - acc: 0.7520 - val_loss: 0.9774 - val_acc: 0.7547\n",
      "Epoch 8/10\n",
      "1195/1195 [==============================] - 20s 17ms/step - loss: 0.9735 - acc: 0.7531 - val_loss: 0.9670 - val_acc: 0.7551\n",
      "Epoch 9/10\n",
      "1195/1195 [==============================] - 20s 17ms/step - loss: 0.9609 - acc: 0.7551 - val_loss: 0.9532 - val_acc: 0.7566\n",
      "Epoch 10/10\n",
      "1195/1195 [==============================] - 20s 17ms/step - loss: 0.9439 - acc: 0.7588 - val_loss: 0.9451 - val_acc: 0.7576\n"
     ]
    }
   ],
   "source": [
    "history = supermodel.fit(X_train_indices, Y_super_train_oh, epochs = 10, batch_size = 32, shuffle=True, validation_data=(X_dev_indices,Y_super_dev_oh))"
   ]
  },
  {
   "cell_type": "code",
   "execution_count": 40,
   "metadata": {
    "scrolled": true
   },
   "outputs": [
    {
     "data": {
      "image/png": "[encoded data removed]",
      "text/plain": [
       "<matplotlib.figure.Figure at 0x1a3463e6a0>"
      ]
     },
     "metadata": {},
     "output_type": "display_data"
    }
   ],
   "source": [
    "plt.plot(history.history['loss'])\n",
    "plt.plot(history.history['val_loss'])\n",
    "plt.title('model train vs validation loss')\n",
    "plt.ylabel('loss')\n",
    "plt.xlabel('epoch')\n",
    "plt.legend(['train', 'validation'], loc='upper right')\n",
    "plt.show()"
   ]
  },
  {
   "cell_type": "code",
   "execution_count": 41,
   "metadata": {},
   "outputs": [
    {
     "data": {
      "image/png": "[encoded data removed]",
      "text/plain": [
       "<matplotlib.figure.Figure at 0x1a346b1ba8>"
      ]
     },
     "metadata": {},
     "output_type": "display_data"
    }
   ],
   "source": [
    "plt.plot(history.history['acc'])\n",
    "plt.plot(history.history['val_acc'])\n",
    "plt.title('model train vs validation accuracy')\n",
    "plt.ylabel('accuracy')\n",
    "plt.xlabel('epoch')\n",
    "plt.legend(['train', 'validation'], loc='upper right')\n",
    "plt.show()"
   ]
  },
  {
   "cell_type": "code",
   "execution_count": null,
   "metadata": {},
   "outputs": [],
   "source": [
    "loss, acc = supermodel.evaluate(X_dev_indices, Y_super_dev_oh)\n",
    "print()\n",
    "print(\"Test accuracy = \", acc)"
   ]
  },
  {
   "cell_type": "code",
   "execution_count": null,
   "metadata": {
    "collapsed": true
   },
   "outputs": [],
   "source": [
    "supermodel.save('supertagger.h5')"
   ]
  },
  {
   "cell_type": "markdown",
   "metadata": {},
   "source": [
    "### Supertagger results on development set\n",
    "\n",
    "| LTSM units | batchnorm | dropout | epochs | results |\n",
    "|---------:|:----------:|-------:|----:|----------:|\n",
    "| 128 | yes | .2 |  50 | 80.21 |\n",
    "| 256 | yes | .2 |  50 | |"
   ]
  },
  {
   "cell_type": "code",
   "execution_count": 42,
   "metadata": {},
   "outputs": [
    {
     "name": "stdout",
     "output_type": "stream",
     "text": [
      "yves|NOM acceptera|VER:futu le|DET:ART lait|NOM "
     ]
    }
   ],
   "source": [
    "tag_sequence(\"yves acceptera le lait\", model, word_to_index, index_to_pos2, maxLen)"
   ]
  },
  {
   "cell_type": "code",
   "execution_count": 43,
   "metadata": {},
   "outputs": [
    {
     "ename": "NameError",
     "evalue": "name 'superposmodel' is not defined",
     "output_type": "error",
     "traceback": [
      "\u001b[0;31m---------------------------------------------------------------------------\u001b[0m",
      "\u001b[0;31mNameError\u001b[0m                                 Traceback (most recent call last)",
      "\u001b[0;32m<ipython-input-43-ed3c07fbe4db>\u001b[0m in \u001b[0;36m<module>\u001b[0;34m()\u001b[0m\n\u001b[0;32m----> 1\u001b[0;31m \u001b[0mtag_sequence\u001b[0m\u001b[0;34m(\u001b[0m\u001b[0;34m\"yves acceptera le lait\"\u001b[0m\u001b[0;34m,\u001b[0m \u001b[0msuperposmodel\u001b[0m\u001b[0;34m,\u001b[0m \u001b[0mword_to_index\u001b[0m\u001b[0;34m,\u001b[0m \u001b[0mindex_to_super\u001b[0m\u001b[0;34m,\u001b[0m \u001b[0mmaxLen\u001b[0m\u001b[0;34m)\u001b[0m\u001b[0;34m\u001b[0m\u001b[0m\n\u001b[0m",
      "\u001b[0;31mNameError\u001b[0m: name 'superposmodel' is not defined"
     ]
    }
   ],
   "source": [
    "tag_sequence(\"yves acceptera le lait\", superposmodel, word_to_index, index_to_super, maxLen)"
   ]
  },
  {
   "cell_type": "code",
   "execution_count": null,
   "metadata": {},
   "outputs": [],
   "source": [
    "print_tagged(X_dev, model, word_to_index, index_to_pos2, maxLen)"
   ]
  },
  {
   "cell_type": "code",
   "execution_count": null,
   "metadata": {},
   "outputs": [],
   "source": [
    "print_tagged(X_dev[1:5], supermodel, word_to_index, index_to_super, maxLen)"
   ]
  },
  {
   "cell_type": "code",
   "execution_count": null,
   "metadata": {},
   "outputs": [],
   "source": [
    "print_tagged_beta(X_dev[1:4], superposmodel, 0.1, word_to_index, index_to_super, maxLen)"
   ]
  },
  {
   "cell_type": "code",
   "execution_count": null,
   "metadata": {},
   "outputs": [],
   "source": [
    "eval_beta(X_dev, Y_super_dev, supermodel, word_to_index, super_to_index, index_to_super, 0.01, maxLen)"
   ]
  },
  {
   "cell_type": "code",
   "execution_count": null,
   "metadata": {},
   "outputs": [],
   "source": []
  },
  {
   "cell_type": "markdown",
   "metadata": {},
   "source": [
    "## Combined part-of-speech and supertagger"
   ]
  },
  {
   "cell_type": "markdown",
   "metadata": {},
   "source": [
    "### Prepare training and development data"
   ]
  },
  {
   "cell_type": "code",
   "execution_count": 74,
   "metadata": {},
   "outputs": [
    {
     "name": "stdout",
     "output_type": "stream",
     "text": [
      "Train:  (9449,)\n",
      "Test:   (3150,)\n",
      "Dev:    (3150,)\n"
     ]
    }
   ],
   "source": [
    "# split the training data into the standard 60% train, 20% dev, 20% test \n",
    "X_train, X_testdev, Y_super_train, Y_super_testdev = train_test_split(X, Z, test_size=0.4)\n",
    "X_test, X_dev, Y_super_test, Y_super_dev = train_test_split(X_testdev, Y_super_testdev, test_size=0.5)\n",
    "print(\"Train: \", X_train.shape)\n",
    "print(\"Test:  \", X_test.shape)\n",
    "print(\"Dev:   \", X_dev.shape)"
   ]
  },
  {
   "cell_type": "code",
   "execution_count": 75,
   "metadata": {
    "collapsed": true
   },
   "outputs": [],
   "source": [
    "X_train_indices = lists_to_indices(X_train, word_to_index, maxLen)\n",
    "Y_super_train_indices = lists_to_indices(Y_super_train, super_to_index, maxLen)\n",
    "Y_super_train_oh = to_categorical(Y_super_train_indices, num_classes=numSuperClasses)"
   ]
  },
  {
   "cell_type": "code",
   "execution_count": 76,
   "metadata": {
    "collapsed": true
   },
   "outputs": [],
   "source": [
    "X_dev_indices = lists_to_indices(X_dev, word_to_index, max_len = maxLen)\n",
    "Y_super_dev_indices = lists_to_indices(Y_super_dev, super_to_index, max_len = maxLen)\n",
    "Y_super_dev_oh = to_categorical(Y_super_dev_indices, num_classes = numSuperClasses)"
   ]
  },
  {
   "cell_type": "markdown",
   "metadata": {},
   "source": [
    "### Define and train the model"
   ]
  },
  {
   "cell_type": "code",
   "execution_count": 77,
   "metadata": {
    "collapsed": true
   },
   "outputs": [],
   "source": [
    "# Super_model\n",
    "# this is a direct supertag model not using the part-of-speech tags\n",
    "\n",
    "def Super_pos_model(input_shape, pos_model, word_to_vec_map, word_to_index):\n",
    "    \"\"\"\n",
    "    Function creating the Emojify-v2 model's graph.\n",
    "    \n",
    "    Arguments:\n",
    "    input_shape -- shape of the input, usually (max_len,)\n",
    "    word_to_vec_map -- dictionary mapping every word in a vocabulary into its 50-dimensional vector representation\n",
    "    word_to_index -- dictionary mapping from words to their indices in the vocabulary (400,001 words)\n",
    "\n",
    "    Returns:\n",
    "    model -- a model instance in Keras\n",
    "    \"\"\"\n",
    "    \n",
    "    # Define sentence_indices as the input of the graph, it should be of shape input_shape and dtype 'int32' (as it contains indices).\n",
    "    sentence_indices = Input(shape = input_shape, dtype = 'int32')\n",
    "    \n",
    "    # Create the embedding layer pretrained with GloVe Vectors (≈1 line)\n",
    "    embedding_layer = pretrained_embedding_layer(word_to_vec_map, word_to_index)\n",
    "    \n",
    "    # Propagate sentence_indices through your embedding layer, you get back the embeddings\n",
    "    embeddings = embedding_layer(sentence_indices)\n",
    "    \n",
    "    # get probability distribution over parts_of_speech from pos_model\n",
    "    parts_of_speech = pos_model(sentence_indices)\n",
    "    \n",
    "    # concatenate with the embeddings\n",
    "    merged = concatenate([parts_of_speech,embeddings])\n",
    "    \n",
    "    # Propagate the embeddings through an LSTM layer with 128-dimensional hidden state\n",
    "    # returning a batch of sequences.\n",
    "    X = LSTM(128, return_sequences=True)(merged) \n",
    "    X = BatchNormalization()(X)\n",
    "    X = Dropout(0.5)(X)\n",
    "    \n",
    "    # Add a (time distributed) Dense layer followed by a softmax activation\n",
    "    X = TimeDistributed(Dense(numSuperClasses, activation='softmax'))(X)\n",
    "    \n",
    "    # Create Model instance which converts sentence_indices into X.\n",
    "    model = Model(inputs=sentence_indices,outputs=X)\n",
    "        \n",
    "    return model"
   ]
  },
  {
   "cell_type": "code",
   "execution_count": 78,
   "metadata": {},
   "outputs": [
    {
     "name": "stdout",
     "output_type": "stream",
     "text": [
      "__________________________________________________________________________________________________\n",
      "Layer (type)                    Output Shape         Param #     Connected to                     \n",
      "==================================================================================================\n",
      "input_5 (InputLayer)            (None, 266)          0                                            \n",
      "__________________________________________________________________________________________________\n",
      "model_4 (Model)                 (None, 266, 32)      24006314    input_5[0][0]                    \n",
      "__________________________________________________________________________________________________\n",
      "embedding_7 (Embedding)         (None, 266, 663)     23596170    input_5[0][0]                    \n",
      "__________________________________________________________________________________________________\n",
      "concatenate_2 (Concatenate)     (None, 266, 695)     0           model_4[1][0]                    \n",
      "                                                                 embedding_7[0][0]                \n",
      "__________________________________________________________________________________________________\n",
      "lstm_5 (LSTM)                   (None, 266, 128)     421888      concatenate_2[0][0]              \n",
      "__________________________________________________________________________________________________\n",
      "batch_normalization_4 (BatchNor (None, 266, 128)     512         lstm_5[0][0]                     \n",
      "__________________________________________________________________________________________________\n",
      "dropout_5 (Dropout)             (None, 266, 128)     0           batch_normalization_4[0][0]      \n",
      "__________________________________________________________________________________________________\n",
      "time_distributed_5 (TimeDistrib (None, 266, 891)     114939      dropout_5[0][0]                  \n",
      "==================================================================================================\n",
      "Total params: 48,139,823\n",
      "Trainable params: 946,971\n",
      "Non-trainable params: 47,192,852\n",
      "__________________________________________________________________________________________________\n"
     ]
    }
   ],
   "source": [
    "superposmodel = Super_pos_model((maxLen,), model, word_to_vec_map, word_to_index)\n",
    "superposmodel.summary()"
   ]
  },
  {
   "cell_type": "code",
   "execution_count": 79,
   "metadata": {
    "collapsed": true
   },
   "outputs": [],
   "source": [
    "superposmodel.compile(loss='categorical_crossentropy', optimizer='adam', metrics=['accuracy'])"
   ]
  },
  {
   "cell_type": "code",
   "execution_count": null,
   "metadata": {},
   "outputs": [
    {
     "name": "stdout",
     "output_type": "stream",
     "text": [
      "Train on 9449 samples, validate on 3150 samples\n",
      "Epoch 1/20\n",
      "9449/9449 [==============================] - 805s 85ms/step - loss: 1.6294 - acc: 0.6710 - val_loss: 0.8397 - val_acc: 0.7775\n",
      "Epoch 2/20\n",
      "9449/9449 [==============================] - 804s 85ms/step - loss: 0.8677 - acc: 0.7728 - val_loss: 0.7320 - val_acc: 0.7970\n",
      "Epoch 3/20\n",
      "9449/9449 [==============================] - 821s 87ms/step - loss: 0.7731 - acc: 0.7884 - val_loss: 0.6824 - val_acc: 0.8069\n",
      "Epoch 4/20\n",
      "9449/9449 [==============================] - 812s 86ms/step - loss: 0.7251 - acc: 0.7976 - val_loss: 0.6678 - val_acc: 0.8097\n",
      "Epoch 5/20\n",
      "9449/9449 [==============================] - 818s 87ms/step - loss: 0.6920 - acc: 0.8045 - val_loss: 0.6426 - val_acc: 0.8157\n",
      "Epoch 6/20\n",
      "9449/9449 [==============================] - 807s 85ms/step - loss: 0.6665 - acc: 0.8096 - val_loss: 0.6327 - val_acc: 0.8171\n",
      "Epoch 7/20\n",
      "9449/9449 [==============================] - 810s 86ms/step - loss: 0.6454 - acc: 0.8134 - val_loss: 0.6206 - val_acc: 0.8208\n",
      "Epoch 8/20\n",
      "9449/9449 [==============================] - 807s 85ms/step - loss: 0.6261 - acc: 0.8177 - val_loss: 0.6234 - val_acc: 0.8186\n",
      "Epoch 9/20\n",
      "3232/9449 [=========>....................] - ETA: 8:06 - loss: 0.5952 - acc: 0.8248"
     ]
    }
   ],
   "source": [
    "history = superposmodel.fit(X_train_indices, Y_super_train_oh, epochs = 20, batch_size = 32, shuffle=True, validation_data=(X_dev_indices,Y_super_dev_oh))"
   ]
  },
  {
   "cell_type": "markdown",
   "metadata": {},
   "source": [
    "### Output progress"
   ]
  },
  {
   "cell_type": "code",
   "execution_count": 51,
   "metadata": {},
   "outputs": [
    {
     "data": {
      "image/png": "[encoded data removed]",
      "text/plain": [
       "<matplotlib.figure.Figure at 0x1a4e5295f8>"
      ]
     },
     "metadata": {},
     "output_type": "display_data"
    }
   ],
   "source": [
    "plt.plot(history.history['loss'])\n",
    "plt.plot(history.history['val_loss'])\n",
    "plt.title('model train vs validation loss')\n",
    "plt.ylabel('loss')\n",
    "plt.xlabel('epoch')\n",
    "plt.legend(['train', 'validation'], loc='upper right')\n",
    "plt.show()"
   ]
  },
  {
   "cell_type": "code",
   "execution_count": 52,
   "metadata": {},
   "outputs": [
    {
     "data": {
      "image/png": "[encoded data removed]",
      "text/plain": [
       "<matplotlib.figure.Figure at 0x1a4f6b92b0>"
      ]
     },
     "metadata": {},
     "output_type": "display_data"
    }
   ],
   "source": [
    "plt.plot(history.history['acc'])\n",
    "plt.plot(history.history['val_acc'])\n",
    "plt.title('model train vs validation accuracy')\n",
    "plt.ylabel('accuracy')\n",
    "plt.xlabel('epoch')\n",
    "plt.legend(['train', 'validation'], loc='upper right')\n",
    "plt.show()"
   ]
  },
  {
   "cell_type": "code",
   "execution_count": null,
   "metadata": {
    "collapsed": true
   },
   "outputs": [],
   "source": [
    "superposmodel.save('superpostagger.h5')"
   ]
  },
  {
   "cell_type": "code",
   "execution_count": null,
   "metadata": {
    "collapsed": true
   },
   "outputs": [],
   "source": []
  }
 ],
 "metadata": {
  "coursera": {
   "course_slug": "nlp-sequence-models",
   "graded_item_id": "RNnEs",
   "launcher_item_id": "acNYU"
  },
  "kernelspec": {
   "display_name": "Python 3",
   "language": "python",
   "name": "python3"
  },
  "language_info": {
   "codemirror_mode": {
    "name": "ipython",
    "version": 3
   },
   "file_extension": ".py",
   "mimetype": "text/x-python",
   "name": "python",
   "nbconvert_exporter": "python",
   "pygments_lexer": "ipython3",
   "version": "3.6.3"
  }
 },
 "nbformat": 4,
 "nbformat_minor": 2
}
