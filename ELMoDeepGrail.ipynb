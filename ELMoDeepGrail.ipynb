{
 "cells": [
  {
   "cell_type": "markdown",
   "metadata": {},
   "source": [
    "# LSTM part-of-speech tagging and supertagging for the French Treebank: \n",
    "\n",
    "This notebook trains a part-of-speech tagger and supertagger for the French Treebank using a vanilla bi-direction LSTM network.\n",
    "\n",
    "Run the following cell to load the Keras packages."
   ]
  },
  {
   "cell_type": "code",
   "execution_count": 1,
   "metadata": {},
   "outputs": [
    {
     "name": "stderr",
     "output_type": "stream",
     "text": [
      "Using TensorFlow backend.\n"
     ]
    }
   ],
   "source": [
    "import numpy as np\n",
    "import matplotlib.pyplot as plt\n",
    "import pandas as pd\n",
    "import sys\n",
    "\n",
    "from keras.models import Model, load_model\n",
    "from keras.layers import Bidirectional, Masking, Dense, Input, Dropout, LSTM, Activation, TimeDistributed, BatchNormalization, concatenate, Concatenate\n",
    "from keras.layers.embeddings import Embedding\n",
    "from keras.constraints import max_norm\n",
    "from keras import regularizers\n",
    "from keras.preprocessing import sequence\n",
    "from keras.utils import to_categorical\n",
    "from keras.initializers import glorot_uniform\n",
    "from keras import backend as K\n",
    "from sklearn.model_selection import train_test_split\n",
    "\n",
    "from grail_data_utils import *\n",
    "\n",
    "%matplotlib inline\n",
    "\n",
    "np.random.seed(1)"
   ]
  },
  {
   "cell_type": "markdown",
   "metadata": {},
   "source": [
    "### Read the TLGbank file"
   ]
  },
  {
   "cell_type": "code",
   "execution_count": 2,
   "metadata": {
    "collapsed": true
   },
   "outputs": [],
   "source": [
    "# very small initial part of corpus (only file aa1)\n",
    "# X, Y1, Y2, Z, vocabulary, vnorm, partsofspeech1, partsofspeech2, superset, maxLen = read_maxentdata('aa1.txt')"
   ]
  },
  {
   "cell_type": "code",
   "execution_count": 2,
   "metadata": {
    "collapsed": true
   },
   "outputs": [],
   "source": [
    "# small initial part of corpus (files aa1, aa2, ab2 and ae1)\n",
    "# number of sentences, train: 1195, test: 398, dev: 399  \n",
    "X, Y1, Y2, Z, vocabulary, vnorm, partsofspeech1, partsofspeech2, superset, maxLen = read_maxentdata('aa1_ae1.txt')"
   ]
  },
  {
   "cell_type": "code",
   "execution_count": 4,
   "metadata": {
    "collapsed": true
   },
   "outputs": [],
   "source": [
    "# entire corpus\n",
    "# number of sentences, train: 9449, test: 3150, dev: 3150\n",
    "X, Y1, Y2, Z, vocabulary, vnorm, partsofspeech1, partsofspeech2, superset, maxLen = read_maxentdata('m2.txt')"
   ]
  },
  {
   "cell_type": "markdown",
   "metadata": {},
   "source": [
    "## 2. Create auxiliary mappings\n",
    "\n",
    "Create mappings from supertags and the two sets of part-of-speech tags to integers and back."
   ]
  },
  {
   "cell_type": "code",
   "execution_count": 2,
   "metadata": {
    "collapsed": true
   },
   "outputs": [],
   "source": [
    "import pickle\n",
    "\n",
    "def load_obj(name):\n",
    "    with open(name + '.pkl', 'rb') as f:\n",
    "        return pickle.load(f)\n",
    "\n",
    "super_to_index = load_obj('super_to_index')\n",
    "index_to_super = load_obj('index_to_super')\n",
    "pos1_to_index = load_obj('pos1_to_index')\n",
    "index_to_pos1 = load_obj('index_to_pos1')\n",
    "pos2_to_index = load_obj('pos2_to_index')\n",
    "index_to_pos2 = load_obj('index_to_pos2')\n"
   ]
  },
  {
   "cell_type": "code",
   "execution_count": 4,
   "metadata": {},
   "outputs": [
    {
     "name": "stdout",
     "output_type": "stream",
     "text": [
      "{'CS': 1, 'PROWH': 2, 'NPP': 3, 'DETWH': 4, 'PREF': 5, 'P+D': 6, 'PONCT': 7, 'P': 8, 'CLR': 9, 'PRO': 10, 'P+PRO': 11, 'ADVWH': 12, 'NC': 13, 'VIMP': 14, 'CLO': 15, 'V': 16, 'VINF': 17, 'VPR': 18, 'ET': 19, 'CLS': 20, 'CC': 21, 'I': 22, 'DET': 23, 'VPP': 24, 'PROREL': 25, 'ADJ': 26, 'VS': 27, 'ADV': 28, 'ADJWH': 29}\n",
      "{'PRP': 1, 'VER:simp': 2, 'VER:impf': 3, 'NOM': 4, 'PUN': 5, 'PRO:IND': 6, 'PRO:DEM': 7, 'PRO:POS': 8, 'KON': 9, 'DET:ART': 10, 'ADV': 11, 'PUN:cit': 12, 'PRO:PER': 13, 'VER:pres': 14, 'PRO': 15, 'NUM': 16, 'VER:infi': 17, 'VER:futu': 18, 'VER:cond': 19, 'VER:subp': 20, 'PRP:det': 21, 'NAM': 22, 'INT': 23, 'PRO:REL': 24, 'VER:ppre': 25, 'ABR': 26, 'SYM': 27, 'ADJ': 28, 'DET:POS': 29, 'VER:pper': 30, 'VER:impe': 31}\n"
     ]
    }
   ],
   "source": [
    "# create mapping for the two POS tagset and for the supertags\n",
    "\n",
    "# super_to_index, index_to_super = indexify(superset)\n",
    "# pos1_to_index, index_to_pos1 = indexify(partsofspeech1)\n",
    "# pos2_to_index, index_to_pos2 = indexify(partsofspeech2)\n",
    "print(pos1_to_index)\n",
    "print(pos2_to_index)"
   ]
  },
  {
   "cell_type": "code",
   "execution_count": 4,
   "metadata": {
    "collapsed": true
   },
   "outputs": [],
   "source": [
    "maxLen = 266"
   ]
  },
  {
   "cell_type": "code",
   "execution_count": 5,
   "metadata": {},
   "outputs": [
    {
     "name": "stdout",
     "output_type": "stream",
     "text": [
      "\n",
      "Longest sentence   :  266\n",
      "Number of POS1 tags:  30\n",
      "Number of POS2 tags:  32\n",
      "Number of supertags:  891\n"
     ]
    }
   ],
   "source": [
    "numPos1Classes = len(index_to_pos1) + 1\n",
    "numPos2Classes = len(index_to_pos2) + 1\n",
    "numSuperClasses = len(index_to_super)+1\n",
    "\n",
    "print()\n",
    "print(\"Longest sentence   : \", maxLen)\n",
    "print(\"Number of POS1 tags: \", numPos1Classes)\n",
    "print(\"Number of POS2 tags: \", numPos2Classes)\n",
    "print(\"Number of supertags: \", numSuperClasses)\n",
    "\n"
   ]
  },
  {
   "cell_type": "markdown",
   "metadata": {},
   "source": [
    "## 3 Compute ELMo embedding for the sentences in the corpus"
   ]
  },
  {
   "cell_type": "code",
   "execution_count": null,
   "metadata": {
    "collapsed": true
   },
   "outputs": [],
   "source": []
  },
  {
   "cell_type": "markdown",
   "metadata": {},
   "source": [
    "Load the French ELMo embeddings from [elmoformanylangs](https://github.com/HIT-SCIR/ELMoForManyLangs)."
   ]
  },
  {
   "cell_type": "code",
   "execution_count": 6,
   "metadata": {},
   "outputs": [
    {
     "name": "stderr",
     "output_type": "stream",
     "text": [
      "2019-06-09 20:48:10,086 INFO: char embedding size: 2870\n",
      "2019-06-09 20:48:10,753 INFO: word embedding size: 178531\n",
      "2019-06-09 20:48:15,296 INFO: Model(\n",
      "  (token_embedder): ConvTokenEmbedder(\n",
      "    (word_emb_layer): EmbeddingLayer(\n",
      "      (embedding): Embedding(178531, 100, padding_idx=3)\n",
      "    )\n",
      "    (char_emb_layer): EmbeddingLayer(\n",
      "      (embedding): Embedding(2870, 50, padding_idx=2867)\n",
      "    )\n",
      "    (convolutions): ModuleList(\n",
      "      (0): Conv1d(50, 32, kernel_size=(1,), stride=(1,))\n",
      "      (1): Conv1d(50, 32, kernel_size=(2,), stride=(1,))\n",
      "      (2): Conv1d(50, 64, kernel_size=(3,), stride=(1,))\n",
      "      (3): Conv1d(50, 128, kernel_size=(4,), stride=(1,))\n",
      "      (4): Conv1d(50, 256, kernel_size=(5,), stride=(1,))\n",
      "      (5): Conv1d(50, 512, kernel_size=(6,), stride=(1,))\n",
      "      (6): Conv1d(50, 1024, kernel_size=(7,), stride=(1,))\n",
      "    )\n",
      "    (highways): Highway(\n",
      "      (_layers): ModuleList(\n",
      "        (0): Linear(in_features=2048, out_features=4096, bias=True)\n",
      "        (1): Linear(in_features=2048, out_features=4096, bias=True)\n",
      "      )\n",
      "    )\n",
      "    (projection): Linear(in_features=2148, out_features=512, bias=True)\n",
      "  )\n",
      "  (encoder): ElmobiLm(\n",
      "    (forward_layer_0): LstmCellWithProjection(\n",
      "      (input_linearity): Linear(in_features=512, out_features=16384, bias=False)\n",
      "      (state_linearity): Linear(in_features=512, out_features=16384, bias=True)\n",
      "      (state_projection): Linear(in_features=4096, out_features=512, bias=False)\n",
      "    )\n",
      "    (backward_layer_0): LstmCellWithProjection(\n",
      "      (input_linearity): Linear(in_features=512, out_features=16384, bias=False)\n",
      "      (state_linearity): Linear(in_features=512, out_features=16384, bias=True)\n",
      "      (state_projection): Linear(in_features=4096, out_features=512, bias=False)\n",
      "    )\n",
      "    (forward_layer_1): LstmCellWithProjection(\n",
      "      (input_linearity): Linear(in_features=512, out_features=16384, bias=False)\n",
      "      (state_linearity): Linear(in_features=512, out_features=16384, bias=True)\n",
      "      (state_projection): Linear(in_features=4096, out_features=512, bias=False)\n",
      "    )\n",
      "    (backward_layer_1): LstmCellWithProjection(\n",
      "      (input_linearity): Linear(in_features=512, out_features=16384, bias=False)\n",
      "      (state_linearity): Linear(in_features=512, out_features=16384, bias=True)\n",
      "      (state_projection): Linear(in_features=4096, out_features=512, bias=False)\n",
      "    )\n",
      "  )\n",
      ")\n"
     ]
    }
   ],
   "source": [
    "from elmoformanylangs import Embedder\n",
    "\n",
    "e = Embedder('/Users/moot/Software/FrenchELMo/')"
   ]
  },
  {
   "cell_type": "markdown",
   "metadata": {},
   "source": [
    "Test _sents2elmo_ on a toy example"
   ]
  },
  {
   "cell_type": "code",
   "execution_count": null,
   "metadata": {
    "collapsed": true
   },
   "outputs": [],
   "source": [
    "emb = e.sents2elmo([['jean','aime','marie']])\n",
    "print(emb)"
   ]
  },
  {
   "cell_type": "code",
   "execution_count": null,
   "metadata": {
    "collapsed": true
   },
   "outputs": [],
   "source": [
    "np.shape(emb)"
   ]
  },
  {
   "cell_type": "code",
   "execution_count": null,
   "metadata": {
    "collapsed": true
   },
   "outputs": [],
   "source": [
    "print(X[4])\n",
    "print(Z[4])"
   ]
  },
  {
   "cell_type": "markdown",
   "metadata": {},
   "source": [
    "Compute the ELMo embedding for the entire corpus `X` using `sents2elmo` from [elmoformanylangs](https://github.com/HIT-SCIR/ELMoForManyLangs)."
   ]
  },
  {
   "cell_type": "code",
   "execution_count": 7,
   "metadata": {},
   "outputs": [
    {
     "name": "stderr",
     "output_type": "stream",
     "text": [
      "2019-06-09 20:48:26,892 INFO: 32 batches, avg len: 32.4\n",
      "2019-06-09 20:50:43,159 INFO: Finished 1000 sentences.\n"
     ]
    }
   ],
   "source": [
    "Xemb = e.sents2elmo(X)"
   ]
  },
  {
   "cell_type": "markdown",
   "metadata": {},
   "source": [
    "Quick sanity check on the newly created `Xemb` to verify there are no empty sentences."
   ]
  },
  {
   "cell_type": "code",
   "execution_count": null,
   "metadata": {
    "collapsed": true
   },
   "outputs": [],
   "source": [
    "ll = len(Xemb)\n",
    "for i in range(ll):\n",
    "    if Xemb[i].ndim == 0:\n",
    "        print(i)\n",
    "    "
   ]
  },
  {
   "cell_type": "markdown",
   "metadata": {},
   "source": [
    "`Xemb` is a list of sentencelength by 1024 arrays created by `sents2elmo`; we create a tensor `Xarr` of size `(numberofsentences,maxlength,1024)` for input to Keras. "
   ]
  },
  {
   "cell_type": "code",
   "execution_count": 8,
   "metadata": {},
   "outputs": [
    {
     "name": "stdout",
     "output_type": "stream",
     "text": [
      "1992\n",
      "[[-0.14265969 -0.54600209  0.04220806 ...,  0.35716367 -0.03981249\n",
      "   0.10614517]\n",
      " [-0.26284996 -0.16711338  0.03128834 ...,  0.02668192  0.06940607\n",
      "  -0.03315351]\n",
      " [ 0.22807629 -0.09292511  0.06214611 ..., -0.22399634  0.08526645\n",
      "  -0.05175363]\n",
      " ..., \n",
      " [ 0.14233254 -0.4486576  -0.18908608 ..., -0.32704762  0.22855239\n",
      "   0.64100379]\n",
      " [ 0.03086696 -0.13848622 -0.141257   ..., -0.37104043  0.10848103\n",
      "   0.37101758]\n",
      " [-0.51127958  0.01169015 -0.08656689 ..., -0.15161306 -0.02034633\n",
      "   0.23262447]]\n",
      "(1991, 119, 1024)\n"
     ]
    }
   ],
   "source": [
    "print(len(Xemb))\n",
    "print(Xemb[4])\n",
    "ll = len(Xemb)-1\n",
    "Xarr= np.zeros((ll,maxLen,1024))\n",
    "for i in range(ll):\n",
    "    sl,t = (Xemb[i].shape)\n",
    "    for j in range(sl):\n",
    "        Xarr[i][j]= Xemb[i][j]\n",
    "print(np.shape(Xarr))"
   ]
  },
  {
   "cell_type": "markdown",
   "metadata": {},
   "source": [
    "### Save the ELMo embedding"
   ]
  },
  {
   "cell_type": "code",
   "execution_count": null,
   "metadata": {
    "collapsed": true
   },
   "outputs": [],
   "source": [
    "import pickle\n",
    "\n",
    "def save_obj(obj, name):\n",
    "    with open(name + '.pkl', 'wb+') as f:\n",
    "        pickle.dump(obj, f, pickle.HIGHEST_PROTOCOL)\n",
    "\n",
    "def load_obj(name):\n",
    "    with open(name + '.pkl', 'rb') as f:\n",
    "        return pickle.load(f)"
   ]
  },
  {
   "cell_type": "code",
   "execution_count": null,
   "metadata": {
    "collapsed": true
   },
   "outputs": [],
   "source": [
    "np.savez('Xarr', Xarr=Xarr)"
   ]
  },
  {
   "cell_type": "markdown",
   "metadata": {},
   "source": [
    "### Load the previously computed ELMo embedding"
   ]
  },
  {
   "cell_type": "code",
   "execution_count": 6,
   "metadata": {
    "collapsed": true
   },
   "outputs": [],
   "source": [
    "files = np.load('Xarr.npz')"
   ]
  },
  {
   "cell_type": "code",
   "execution_count": 7,
   "metadata": {
    "collapsed": true
   },
   "outputs": [],
   "source": [
    "Xarr = files['Xarr']"
   ]
  },
  {
   "cell_type": "markdown",
   "metadata": {},
   "source": [
    "## Combined part-of-speech and supertagger"
   ]
  },
  {
   "cell_type": "markdown",
   "metadata": {},
   "source": [
    "### Prepare training and development data"
   ]
  },
  {
   "cell_type": "markdown",
   "metadata": {},
   "source": [
    "Convert output labels to integers using the appropriate functions"
   ]
  },
  {
   "cell_type": "code",
   "execution_count": 16,
   "metadata": {
    "collapsed": true
   },
   "outputs": [],
   "source": [
    "Y_super_indices = lists_to_indices(Z, super_to_index, maxLen)\n",
    "Y_pos1_indices = lists_to_indices(Y1, pos1_to_index, maxLen)\n",
    "Y_pos2_indices = lists_to_indices(Y2, pos2_to_index, maxLen)"
   ]
  },
  {
   "cell_type": "code",
   "execution_count": 7,
   "metadata": {
    "collapsed": true
   },
   "outputs": [],
   "source": [
    "#X_train, X_test,\\\n",
    "#Y_pos1_train_indices, Y_pos1_test_indices, Y_pos2_train_indices, Y_pos2_test_indices,\\\n",
    "#Y_super_train_indices, Y_super_test_indices = train_test_split(X[0:-1], Y_pos1_indices[0:-1],\\\n",
    "#                                                               Y_pos2_indices[0:-1], Y_super_indices[0:-1], test_size=0.2)\n",
    "#"
   ]
  },
  {
   "cell_type": "code",
   "execution_count": 17,
   "metadata": {
    "collapsed": true
   },
   "outputs": [],
   "source": [
    "f = open('test.txt', 'w')\n",
    "for i in range(len(X_test)):\n",
    "    string = \"\"\n",
    "    for j in range(len(X_test[i])):\n",
    "        string = string + X_test[i][j] + \" \"\n",
    "    string = string.strip()\n",
    "    string = string + \"\\n\"\n",
    "    f.write(string)\n",
    "f.close()"
   ]
  },
  {
   "cell_type": "code",
   "execution_count": 18,
   "metadata": {
    "collapsed": true
   },
   "outputs": [],
   "source": [
    "f = open('test_gold.txt', 'w')\n",
    "for i in range(len(X_test)):\n",
    "    string = \"\"\n",
    "    for j in range(len(X_test[i])):\n",
    "        pos1 = Y_pos1_test_indices[i][j]\n",
    "        pos2 = Y_pos2_test_indices[i][j]\n",
    "        super = Y_super_test_indices[i][j]\n",
    "        string = string + X_test[i][j] + \"|\" + index_to_pos1[pos1] + \"-\" + index_to_pos2[pos2] + \"|\" + index_to_super[super] + \" \"\n",
    "    string = string.strip()\n",
    "    string = string + \"\\n\"\n",
    "    f.write(string)\n",
    "f.close()"
   ]
  },
  {
   "cell_type": "code",
   "execution_count": 17,
   "metadata": {
    "collapsed": true
   },
   "outputs": [],
   "source": [
    "# split the training data into the standard 60% train, 20% dev, 20% test \n",
    "X_train, X_test, X_train_embedding, X_test_embedding,\\\n",
    "Y_pos1_train_indices, Y_pos1_test_indices, Y_pos2_train_indices, Y_pos2_test_indices,\\\n",
    "Y_super_train_indices, Y_super_test_indices = train_test_split(X[0:-1], Xarr, Y_pos1_indices[0:-1],\\\n",
    "                                                               Y_pos2_indices[0:-1], Y_super_indices[0:-1], test_size=0.2)\n"
   ]
  },
  {
   "cell_type": "code",
   "execution_count": 18,
   "metadata": {},
   "outputs": [
    {
     "name": "stdout",
     "output_type": "stream",
     "text": [
      "Train:  (1592, 119, 1024)\n",
      "Test:   (399, 119, 1024)\n",
      "Train:  (1592, 119)\n",
      "Test:   (399, 119)\n"
     ]
    }
   ],
   "source": [
    "print(\"Train: \", X_train_embedding.shape)\n",
    "print(\"Test:  \", X_test_embedding.shape)\n",
    "print(\"Train: \", Y_super_train_indices.shape)\n",
    "print(\"Test:  \", Y_super_test_indices.shape)"
   ]
  },
  {
   "cell_type": "markdown",
   "metadata": {},
   "source": [
    "Convert output integers to one-hot encoding"
   ]
  },
  {
   "cell_type": "code",
   "execution_count": 19,
   "metadata": {
    "collapsed": true
   },
   "outputs": [],
   "source": [
    "Y_pos1_test_oh = to_categorical(Y_pos1_test_indices, num_classes = numPos1Classes)\n",
    "Y_pos1_train_oh = to_categorical(Y_pos1_train_indices, num_classes = numPos1Classes)\n",
    "\n",
    "Y_pos2_test_oh = to_categorical(Y_pos2_test_indices, num_classes = numPos2Classes)\n",
    "Y_pos2_train_oh = to_categorical(Y_pos2_train_indices, num_classes = numPos2Classes)\n",
    "\n",
    "Y_super_test_oh = to_categorical(Y_super_test_indices, num_classes = numSuperClasses)\n",
    "Y_super_train_oh = to_categorical(Y_super_train_indices, num_classes=numSuperClasses)"
   ]
  },
  {
   "cell_type": "markdown",
   "metadata": {},
   "source": [
    "### Define and train the model"
   ]
  },
  {
   "cell_type": "code",
   "execution_count": 32,
   "metadata": {},
   "outputs": [
    {
     "name": "stdout",
     "output_type": "stream",
     "text": [
      "__________________________________________________________________________________________________\n",
      "Layer (type)                    Output Shape         Param #     Connected to                     \n",
      "==================================================================================================\n",
      "input_3 (InputLayer)            (None, 119, 1024)    0                                            \n",
      "__________________________________________________________________________________________________\n",
      "masking_1 (Masking)             (None, 119, 1024)    0           input_3[0][0]                    \n",
      "__________________________________________________________________________________________________\n",
      "dropout_7 (Dropout)             (None, 119, 1024)    0           masking_1[0][0]                  \n",
      "__________________________________________________________________________________________________\n",
      "bidirectional_3 (Bidirectional) (None, 119, 256)     1180672     dropout_7[0][0]                  \n",
      "__________________________________________________________________________________________________\n",
      "batch_normalization_3 (BatchNor (None, 119, 256)     1024        bidirectional_3[0][0]            \n",
      "__________________________________________________________________________________________________\n",
      "dropout_8 (Dropout)             (None, 119, 256)     0           batch_normalization_3[0][0]      \n",
      "__________________________________________________________________________________________________\n",
      "bidirectional_4 (Bidirectional) (None, 119, 256)     394240      dropout_8[0][0]                  \n",
      "__________________________________________________________________________________________________\n",
      "batch_normalization_4 (BatchNor (None, 119, 256)     1024        bidirectional_4[0][0]            \n",
      "__________________________________________________________________________________________________\n",
      "dropout_11 (Dropout)            (None, 119, 256)     0           batch_normalization_4[0][0]      \n",
      "__________________________________________________________________________________________________\n",
      "time_distributed_10 (TimeDistri (None, 119, 32)      8224        dropout_8[0][0]                  \n",
      "__________________________________________________________________________________________________\n",
      "time_distributed_13 (TimeDistri (None, 119, 32)      8224        dropout_8[0][0]                  \n",
      "__________________________________________________________________________________________________\n",
      "time_distributed_16 (TimeDistri (None, 119, 32)      8224        dropout_11[0][0]                 \n",
      "__________________________________________________________________________________________________\n",
      "time_distributed_11 (TimeDistri (None, 119, 32)      0           time_distributed_10[0][0]        \n",
      "__________________________________________________________________________________________________\n",
      "time_distributed_14 (TimeDistri (None, 119, 32)      0           time_distributed_13[0][0]        \n",
      "__________________________________________________________________________________________________\n",
      "time_distributed_17 (TimeDistri (None, 119, 32)      0           time_distributed_16[0][0]        \n",
      "__________________________________________________________________________________________________\n",
      "time_distributed_12 (TimeDistri (None, 119, 30)      990         time_distributed_11[0][0]        \n",
      "__________________________________________________________________________________________________\n",
      "time_distributed_15 (TimeDistri (None, 119, 32)      1056        time_distributed_14[0][0]        \n",
      "__________________________________________________________________________________________________\n",
      "time_distributed_18 (TimeDistri (None, 119, 891)     29403       time_distributed_17[0][0]        \n",
      "==================================================================================================\n",
      "Total params: 1,633,081\n",
      "Trainable params: 1,632,057\n",
      "Non-trainable params: 1,024\n",
      "__________________________________________________________________________________________________\n"
     ]
    }
   ],
   "source": [
    "sentence_embeddings = Input(shape = (maxLen,1024,), dtype = 'float32')\n",
    "\n",
    "# get probability distribution over parts_of_speech from pos_model\n",
    "mask = Masking(mask_value=0.0)(sentence_embeddings)\n",
    "X = Dropout(0.5)(mask)\n",
    "        \n",
    "# Propagate the embeddings through an LSTM layer with 128-dimensional hidden state\n",
    "# returning a batch of sequences.\n",
    "X = Bidirectional(LSTM(128, recurrent_dropout=0.2, kernel_constraint=max_norm(5.), return_sequences=True))(X) \n",
    "X = BatchNormalization()(X)\n",
    "X = Dropout(0.2)(X)\n",
    "    \n",
    "Pos1 = TimeDistributed(Dense(32,kernel_constraint=max_norm(5.)))(X)\n",
    "Pos1 = TimeDistributed(Dropout(0.2))(Pos1)\n",
    "Pos1 = TimeDistributed(Dense(numPos1Classes, name='pos1', activation='softmax',kernel_constraint=max_norm(5.)))(Pos1)\n",
    "\n",
    "Pos2 = TimeDistributed(Dense(32,kernel_constraint=max_norm(5.)))(X)\n",
    "Pos2 = TimeDistributed(Dropout(0.2))(Pos2)\n",
    "Pos2 = TimeDistributed(Dense(numPos2Classes, name='pos2', activation='softmax',kernel_constraint=max_norm(5.)))(Pos2)\n",
    "\n",
    "X = Bidirectional(LSTM(128, recurrent_dropout=0.2, kernel_constraint=max_norm(5.), return_sequences=True))(X) \n",
    "X = BatchNormalization()(X)\n",
    "X = Dropout(0.2)(X)\n",
    "\n",
    "# Add a (time distributed) Dense layer followed by a softmax activation\n",
    "X = TimeDistributed(Dense(32,kernel_constraint=max_norm(5.)))(X)\n",
    "X = TimeDistributed(Dropout(0.2))(X)\n",
    "X = TimeDistributed(Dense(numSuperClasses, name='super', activation='softmax',kernel_constraint=max_norm(5.)))(X)\n",
    "\n",
    "model = Model(sentence_embeddings, [Pos1,Pos2,X])\n",
    "model.summary()\n"
   ]
  },
  {
   "cell_type": "code",
   "execution_count": 33,
   "metadata": {
    "collapsed": true
   },
   "outputs": [],
   "source": [
    "model.compile(loss=['categorical_crossentropy','categorical_crossentropy','categorical_crossentropy'], loss_weights=[0.15,0.35,0.5], optimizer='rmsprop', metrics=['accuracy'])"
   ]
  },
  {
   "cell_type": "code",
   "execution_count": 34,
   "metadata": {},
   "outputs": [
    {
     "name": "stdout",
     "output_type": "stream",
     "text": [
      "Train on 1194 samples, validate on 398 samples\n",
      "Epoch 1/5\n",
      "1194/1194 [==============================] - 67s 56ms/step - loss: 2.0403 - time_distributed_12_loss: 1.3156 - time_distributed_15_loss: 1.2211 - time_distributed_18_loss: 2.8310 - time_distributed_12_acc: 0.6852 - time_distributed_15_acc: 0.7254 - time_distributed_18_acc: 0.4912 - val_loss: 0.8715 - val_time_distributed_12_loss: 0.2871 - val_time_distributed_15_loss: 0.2200 - val_time_distributed_18_loss: 1.5029 - val_time_distributed_12_acc: 0.9287 - val_time_distributed_15_acc: 0.9423 - val_time_distributed_18_acc: 0.6941\n",
      "Epoch 2/5\n",
      "1194/1194 [==============================] - 62s 52ms/step - loss: 0.8097 - time_distributed_12_loss: 0.3215 - time_distributed_15_loss: 0.2781 - time_distributed_18_loss: 1.3284 - time_distributed_12_acc: 0.9154 - time_distributed_15_acc: 0.9237 - time_distributed_18_acc: 0.7282 - val_loss: 0.5391 - val_time_distributed_12_loss: 0.1565 - val_time_distributed_15_loss: 0.1337 - val_time_distributed_18_loss: 0.9378 - val_time_distributed_12_acc: 0.9589 - val_time_distributed_15_acc: 0.9615 - val_time_distributed_18_acc: 0.7936\n",
      "Epoch 3/5\n",
      "1194/1194 [==============================] - 63s 53ms/step - loss: 0.5802 - time_distributed_12_loss: 0.2105 - time_distributed_15_loss: 0.1828 - time_distributed_18_loss: 0.9693 - time_distributed_12_acc: 0.9439 - time_distributed_15_acc: 0.9492 - time_distributed_18_acc: 0.7861 - val_loss: 0.4279 - val_time_distributed_12_loss: 0.1215 - val_time_distributed_15_loss: 0.0972 - val_time_distributed_18_loss: 0.7514 - val_time_distributed_12_acc: 0.9691 - val_time_distributed_15_acc: 0.9716 - val_time_distributed_18_acc: 0.8236\n",
      "Epoch 4/5\n",
      "1194/1194 [==============================] - 68s 57ms/step - loss: 0.4801 - time_distributed_12_loss: 0.1624 - time_distributed_15_loss: 0.1456 - time_distributed_18_loss: 0.8095 - time_distributed_12_acc: 0.9543 - time_distributed_15_acc: 0.9593 - time_distributed_18_acc: 0.8127 - val_loss: 0.3807 - val_time_distributed_12_loss: 0.1020 - val_time_distributed_15_loss: 0.0786 - val_time_distributed_18_loss: 0.6759 - val_time_distributed_12_acc: 0.9733 - val_time_distributed_15_acc: 0.9761 - val_time_distributed_18_acc: 0.8389\n",
      "Epoch 5/5\n",
      "1194/1194 [==============================] - 63s 53ms/step - loss: 0.4128 - time_distributed_12_loss: 0.1360 - time_distributed_15_loss: 0.1199 - time_distributed_18_loss: 0.7009 - time_distributed_12_acc: 0.9614 - time_distributed_15_acc: 0.9656 - time_distributed_18_acc: 0.8334 - val_loss: 0.3442 - val_time_distributed_12_loss: 0.0992 - val_time_distributed_15_loss: 0.0721 - val_time_distributed_18_loss: 0.6082 - val_time_distributed_12_acc: 0.9730 - val_time_distributed_15_acc: 0.9793 - val_time_distributed_18_acc: 0.8530\n"
     ]
    }
   ],
   "source": [
    "history = model.fit([X_train_embedding], [Y_pos1_train_oh,Y_pos2_train_oh,Y_super_train_oh], epochs = 5, batch_size = 32, shuffle=True, validation_split = 0.25)"
   ]
  },
  {
   "cell_type": "markdown",
   "metadata": {},
   "source": [
    "### Display training progress"
   ]
  },
  {
   "cell_type": "code",
   "execution_count": 23,
   "metadata": {},
   "outputs": [
    {
     "data": {
      "image/png": "[encoded data removed]",
      "text/plain": [
       "<matplotlib.figure.Figure at 0x1aa203d6d8>"
      ]
     },
     "metadata": {},
     "output_type": "display_data"
    }
   ],
   "source": [
    "plt.plot(history.history['time_distributed_9_loss'])\n",
    "plt.plot(history.history['val_time_distributed_9_loss'])\n",
    "plt.title('supertag train vs validation loss')\n",
    "plt.ylabel('loss')\n",
    "plt.xlabel('epoch')\n",
    "plt.legend(['train', 'validation'], loc='upper right')\n",
    "plt.show()"
   ]
  },
  {
   "cell_type": "code",
   "execution_count": 24,
   "metadata": {},
   "outputs": [
    {
     "data": {
      "image/png": "[encoded data removed]",
      "text/plain": [
       "<matplotlib.figure.Figure at 0x1aa26ca160>"
      ]
     },
     "metadata": {},
     "output_type": "display_data"
    }
   ],
   "source": [
    "plt.plot(history.history['time_distributed_9_acc'])\n",
    "plt.plot(history.history['val_time_distributed_9_acc'])\n",
    "plt.title('model train vs validation accuracy')\n",
    "plt.ylabel('accuracy')\n",
    "plt.xlabel('epoch')\n",
    "plt.legend(['train', 'validation'], loc='lower right')\n",
    "plt.show()"
   ]
  },
  {
   "cell_type": "code",
   "execution_count": 23,
   "metadata": {
    "collapsed": true
   },
   "outputs": [],
   "source": [
    "model.save('elmo_superpostagger.h5')"
   ]
  },
  {
   "cell_type": "code",
   "execution_count": null,
   "metadata": {
    "collapsed": true
   },
   "outputs": [],
   "source": [
    "model = load_model('elmo_superpostagger.h5')"
   ]
  },
  {
   "cell_type": "markdown",
   "metadata": {},
   "source": [
    "### Get the output for some of the test data"
   ]
  },
  {
   "cell_type": "code",
   "execution_count": 24,
   "metadata": {},
   "outputs": [
    {
     "name": "stdout",
     "output_type": "stream",
     "text": [
      "['Elles', 'se', 'sont', 'fait', 'un', 'nom', ',', 'mais', 'pas', 'un', 'empire', ',', 'comme', 'Nike', 'ou', 'Reebok', '.']\n",
      "17\n"
     ]
    }
   ],
   "source": [
    "print(X_test[0])\n",
    "print(len(X_test[0]))"
   ]
  },
  {
   "cell_type": "code",
   "execution_count": 25,
   "metadata": {},
   "outputs": [
    {
     "name": "stdout",
     "output_type": "stream",
     "text": [
      "10\n",
      "[[[ 0.00300961 -0.27607939 -0.13620102 ...,  0.1755708   0.56884044\n",
      "    0.54117817]\n",
      "  [-0.32278445  0.31394929 -0.18110092 ..., -0.12293569 -0.01996567\n",
      "    0.36818442]\n",
      "  [-0.1283028   0.37599394  0.09973344 ..., -0.09484682 -0.00469211\n",
      "    0.10816076]\n",
      "  ..., \n",
      "  [ 0.          0.          0.         ...,  0.          0.          0.        ]\n",
      "  [ 0.          0.          0.         ...,  0.          0.          0.        ]\n",
      "  [ 0.          0.          0.         ...,  0.          0.          0.        ]]\n",
      "\n",
      " [[-0.00347276 -0.27154061 -0.13722344 ...,  0.1458752   0.40709153\n",
      "    0.36245313]\n",
      "  [-0.24611735 -0.20672499 -0.09425887 ..., -0.03341492 -0.26311433\n",
      "    0.28198725]\n",
      "  [-0.09962585 -0.10635195  0.16594699 ...,  0.13042311 -0.4032582\n",
      "    0.06852895]\n",
      "  ..., \n",
      "  [ 0.          0.          0.         ...,  0.          0.          0.        ]\n",
      "  [ 0.          0.          0.         ...,  0.          0.          0.        ]\n",
      "  [ 0.          0.          0.         ...,  0.          0.          0.        ]]\n",
      "\n",
      " [[-0.04490827 -0.19168253 -0.04529132 ...,  0.46390104  0.28328046\n",
      "    0.02919711]\n",
      "  [-0.53160083  0.0439652   0.14938177 ..., -0.12626188  0.35081699\n",
      "    0.17039473]\n",
      "  [-0.48483929 -0.11075243 -0.28809088 ...,  0.03688295  0.1505807\n",
      "   -0.10698688]\n",
      "  ..., \n",
      "  [ 0.          0.          0.         ...,  0.          0.          0.        ]\n",
      "  [ 0.          0.          0.         ...,  0.          0.          0.        ]\n",
      "  [ 0.          0.          0.         ...,  0.          0.          0.        ]]\n",
      "\n",
      " ..., \n",
      " [[-0.12958974 -0.36819968  0.21888758 ...,  0.20043467 -0.66698164\n",
      "    0.32451382]\n",
      "  [-0.16193941 -0.24974592 -0.33350682 ...,  0.39169088  0.13649333\n",
      "    0.08019806]\n",
      "  [ 0.12275098 -0.04789623 -0.12607099 ...,  0.07004742  0.24840279\n",
      "   -0.18992801]\n",
      "  ..., \n",
      "  [ 0.          0.          0.         ...,  0.          0.          0.        ]\n",
      "  [ 0.          0.          0.         ...,  0.          0.          0.        ]\n",
      "  [ 0.          0.          0.         ...,  0.          0.          0.        ]]\n",
      "\n",
      " [[-0.26048917 -0.20892763  0.01557588 ...,  0.56656069 -0.17869069\n",
      "    0.27755502]\n",
      "  [ 0.00266758 -0.30921635 -0.04758961 ...,  0.12651695 -0.09965751\n",
      "   -0.08312932]\n",
      "  [-0.19306229 -0.06935257 -0.01643719 ..., -0.15361053 -0.17213529\n",
      "   -0.1277781 ]\n",
      "  ..., \n",
      "  [ 0.          0.          0.         ...,  0.          0.          0.        ]\n",
      "  [ 0.          0.          0.         ...,  0.          0.          0.        ]\n",
      "  [ 0.          0.          0.         ...,  0.          0.          0.        ]]\n",
      "\n",
      " [[ 0.00794386 -0.46210515  0.25032634 ...,  0.37867418  0.38026094\n",
      "    0.42006883]\n",
      "  [-0.22874318 -0.18921852  0.12137059 ...,  0.04193607  0.06487862\n",
      "    0.32924959]\n",
      "  [-0.35177049  0.29584178  0.11264712 ...,  0.09219849  0.13131265\n",
      "    0.40635201]\n",
      "  ..., \n",
      "  [ 0.          0.          0.         ...,  0.          0.          0.        ]\n",
      "  [ 0.          0.          0.         ...,  0.          0.          0.        ]\n",
      "  [ 0.          0.          0.         ...,  0.          0.          0.        ]]]\n",
      "['Elle', 'meurt', 'dans', 'le', 'seul', 'vacarme', 'des', 'bouchons', 'qui', 'sautent', 'pour', 'célébrer', \"l'\", 'année', 'nouvelle', '.']\n"
     ]
    }
   ],
   "source": [
    "small_test = X_test_embedding[0:10]\n",
    "print(len(small_test)) \n",
    "print(small_test)\n",
    "print(X_test[1])"
   ]
  },
  {
   "cell_type": "code",
   "execution_count": 26,
   "metadata": {},
   "outputs": [
    {
     "name": "stdout",
     "output_type": "stream",
     "text": [
      "Elle|CLS-PRO:PER|np change|V-VER:pres|dr(0,dl(0,np,s),np) aussi|ADV-ADV|dl(1,s,s) son|DET-DET:POS|dr(0,np,n) statut|NC-NOM|n .|PONCT-PUN|dl(0,s,txt) \n",
      "Elle|CLS-PRO:PER|np meurt|V-VER:pres|dr(0,dl(0,np,s),np) dans|P-PRP|dr(0,pp,np) le|DET-DET:ART|dr(0,np,n) seul|ADJ-ADJ|dr(0,n,n) vacarme|NC-NOM|n des|P+D-PRP:det|dr(0,dl(0,n,n),n) bouchons|NC-NOM|n qui|PROREL-PRO:REL|dr(0,dl(0,n,n),dl(0,np,s)) sautent|V-VER:pres|dr(0,dl(0,np,s),np) pour|P-PRP|dr(0,dl(0,np,s_inf),dl(0,np,s_inf)) célébrer|VINF-VER:infi|dr(0,dl(0,np,s_inf),np) l'|DET-DET:ART|dr(0,np,n) année|NC-NOM|n nouvelle|ADJ-ADJ|dl(0,n,n) .|PONCT-PUN|dl(0,s,txt) \n",
      "La|DET-DET:ART|dr(0,np,n) série|NC-NOM|n que|PROREL-PRO:REL|dr(0,dl(0,n,n),dr(0,s,dia(1,box(1,np)))) les|DET-DET:ART|dr(0,np,n) téléspectateurs|NC-NOM|n peuvent|V-VER:pres|dr(0,dl(0,np,s),dl(0,np,s_inf)) suivre|VINF-VER:infi|dr(0,dl(0,np,s_inf),np) aujourd'hui|ADV-ADV|dl(1,s,s) -|PONCT-PUN|let l'|DET-DET:ART|dr(0,np,n) une|NC-NUM|n des|P+D-PRP:det|dr(0,dl(0,n,n),n) toutes|ADJ-ADJ|dr(0,n,n) premières|ADJ-ADJ|dr(0,n,n) audiences|NC-NOM|n de|P-PRP|dr(0,dl(0,n,n),np) la|DET-DET:ART|dr(0,np,n) télévision|NC-NOM|n -|PONCT-PUN|let n'|ADV-ADV|dr(0,dl(0,np,s),dl(0,np,s)) est|V-VER:pres|dr(0,dl(0,np,s),dl(0,np,s_pass)) pas|ADV-ADV|dl(1,s,s) quotidienne|ADJ-ADJ|dl(0,n,n) et|CC-KON|dr(0,dl(0,dl(0,np,s),dl(0,np,s)),dl(0,np,s)) a|V-VER:pres|dr(0,dl(0,np,s),dl(0,np,s_ppart)) gagné|VPP-VER:pper|dr(0,dl(0,np,s_ppart),np) en|P-PRP|dr(0,dl(1,s,s),n) qualité|NC-NOM|n .|PONCT-PUN|dl(0,s,txt) \n",
      "En|P-PRP|dr(0,dr(0,s,s),n) outre|ADV-ADV|n ,|PONCT-PUN|let un|DET-DET:ART|dr(0,np,n) comité|NC-NOM|n de|P-PRP|dr(0,dl(0,n,n),n) crise|NC-NOM|n créé|VPP-VER:pper|dl(0,n,n) au|P+D-PRP:det|dr(0,pp_a,n) sein|NC-NOM|n de|P-PRP|dr(0,dl(0,n,n),np) la|DET-DET:ART|dr(0,np,n) rédaction|NC-NOM|n va|V-VER:pres|dr(0,dl(0,np,s),dl(0,np,s_inf)) lancer|VINF-VER:infi|dr(0,dl(0,np,s_inf),np) une|DET-DET:ART|dr(0,np,n) campagne|NC-NOM|n visant|VPR-VER:ppre|dr(0,dl(0,n,n),dl(0,np,s_inf)) à|P-PRP|dr(0,dl(0,np,s_inf),dl(0,np,s_inf)) inciter|VINF-VER:infi|dr(0,dl(0,np,s_inf),np) les|DET-DET:ART|dr(0,np,n) annonceurs|NC-NOM|n à|P-PRP|dr(0,dl(0,np,s_inf),dl(0,np,s_inf)) continuer|VINF-VER:infi|dr(0,dl(0,np,s_inf),dl(0,np,s_inf)) d'|P-PRP|dr(0,dl(0,np,s_inf),dl(0,np,s_inf)) investir|VINF-VER:infi|dr(0,dl(0,np,s_inf),np) sur|P-PRP|dr(0,pp,np) la|DET-DET:ART|dr(0,np,n) Cinq|NPP-NAM|n .|PONCT-PUN|dl(0,s,txt) \n",
      "La|DET-DET:ART|dr(0,np,n) compagnie|NC-NOM|n aérienne|ADJ-ADJ|dl(0,n,n) scandinave|ADJ-ADJ|dl(0,n,n) SAS|NPP-ABR|dl(0,n,n) n'|ADV-ADV|dr(0,dl(0,np,s),dl(0,np,s)) en|CLO-PRO:PER|dr(0,dl(0,np,s),dl(0,np,s)) finit|V-VER:pres|dr(0,dl(0,np,s),np) pas|ADV-ADV|dl(1,s,s) de|P-PRP|dr(0,dl(0,np,s_inf),dl(0,np,s_inf)) mettre|VINF-VER:infi|dr(0,dl(0,np,s_inf),np) en|P-PRP|dr(0,pp,n) oeuvre|NC-NOM|n des|DET-PRP:det|dr(0,np,n) plans|NC-NOM|n de|P-PRP|dr(0,dl(0,n,n),n) redressement|NC-NOM|n pour|P-PRP|dr(0,dl(1,s,s),dl(0,np,s_inf)) arrêter|VINF-VER:infi|dr(0,dl(0,np,s_inf),np) la|DET-DET:ART|dr(0,np,n) montée|NC-NOM|n de|P-PRP|dr(0,dl(0,n,n),np) ses|DET-DET:POS|dr(0,np,n) déficits|NC-NOM|n .|PONCT-PUN|dl(0,s,txt) \n",
      "\"|PONCT-PUN:cit|let La|DET-DET:ART|dr(0,np,n) solution|NC-NOM|n du|P+D-PRP:det|dr(0,dl(0,n,n),n) problème|NC-NOM|n ,|PONCT-PUN|let a|V-VER:pres|dr(0,dl(0,np,s),dl(0,np,s_ppart)) poursuivi|VPP-VER:pper|dr(0,dl(0,np,s_ppart),np) M.|NC-ABR|dr(0,np,np) Pasqua|NPP-NAM|np ,|PONCT-PUN|let est|V-VER:pres|dr(0,dl(0,np,s),dl(0,np,s_pass)) entre|P-PRP|dr(0,dl(1,s,s),np) les|DET-DET:ART|dr(0,np,n) mains|NC-NOM|n du|P+D-PRP:det|dr(0,dl(0,n,n),n) président|NC-NOM|n de|P-PRP|dr(0,dl(0,n,n),np) la|DET-DET:ART|dr(0,np,n) République|NC-NAM|n ,|PONCT-PUN|let puisque|CS-KON|dr(0,dl(0,s,s),s) c'|CLS-PRO:DEM|np est|V-VER:pres|dr(0,dl(0,np,s),np) lui|PRO-PRO:DEM|np qui|PROREL-PRO:REL|dr(0,dl(0,n,n),dl(0,np,s)) veut|V-VER:pres|dr(0,dl(0,np,s),dl(0,np,s_inf)) tout|ADV-ADV|dl(1,s,s) faire|VINF-VER:infi|dr(0,dl(0,np,s_inf),np) ,|PONCT-PUN|let puisqu'|CS-KON|dr(0,dl(0,s,s),s) il|CLS-PRO:PER|np veut|V-VER:pres|dr(0,dl(0,np,s),dl(0,np,s_inf)) décider|VINF-VER:infi|dr(0,dl(0,np,s_inf),np) de|P-PRP|dr(0,pp_de,np) tout|PRO-PRO:IND|np :|PONCT-PUN|let nous|CLS-PRO:PER|np avons|V-VER:pres|dr(0,dl(0,np,s),dl(0,np,s_ppart)) à|P-PRP|dr(0,pp_a,np) la|DET-DET:ART|dr(0,np,n) fois|NC-NOM|n le|DET-DET:ART|dr(0,np,n) pouvoir|NC-NOM|n personnel|ADJ-ADJ|dl(0,n,n) et|CC-KON|dr(0,dl(0,np,np),np) l'|DET-DET:ART|dr(0,np,n) irresponsabilité|NC-NOM|n collective|ADJ-ADJ|dl(0,n,n) .|PONCT-PUN|dl(0,s,txt) \n",
      "Pour|P-PRP|dr(0,dr(0,s,s),np) l'|DET-DET:ART|dr(0,np,n) ensemble|NC-NOM|n de|P-PRP|dr(0,dl(0,n,n),np) 1991|PRO-NUM|np ,|PONCT-PUN|let ces|DET-PRO:DEM|dr(0,np,n) ventes|NC-NOM|n ont|V-VER:pres|dr(0,dl(0,np,s),dl(0,np,s_ppart)) augmenté|VPP-VER:pper|dr(0,dl(0,np,s_ppart),np) de|P-PRP|dr(0,pp_de,np) 0,7|DET-NUM|dr(0,np,n) %|NC-SYM|n ,|PONCT-PUN|let soit|CC-KON|dr(0,dl(0,np,np),np) la|DET-DET:ART|dr(0,np,n) plus|ADV-ADV|n faible|ADJ-ADJ|dr(0,n,n) progression|NC-NOM|n depuis|P-PRP|dr(0,dl(0,n,n),np) plus|ADV-ADV|dr(0,np,pp_de) de|P-PRP|dr(0,pp_de,np) vingt|DET-NUM|dr(0,np,n) ans|NC-NOM|n .|PONCT-PUN|dl(0,s,txt) \n",
      "-|PONCT-PUN|let Le|DET-DET:ART|dr(0,np,n) taux|NC-NOM|n de|P-PRP|dr(0,dl(0,n,n),n) salaire|NC-NOM|n horaire|ADJ-ADJ|dl(0,n,n) ouvrier|ADJ-ADJ|dl(0,n,n) a|V-VER:pres|dr(0,dl(0,np,s),dl(0,np,s_ppart)) progressé|VPP-VER:pper|dr(0,dl(0,np,s_ppart),np) de|P-PRP|dr(0,pp_de,np) 0,7|DET-NUM|dr(0,np,n) %|NC-SYM|n au|P+D-PRP:det|dr(0,dl(0,n,n),n) cours|NC-NOM|n du|P+D-PRP:det|dr(0,dl(0,n,n),n) troisième|ADJ-NUM|dr(0,n,n) trimestre|NC-NOM|n 1991|ADJ-NUM|dl(0,n,n) ,|PONCT-PUN|let soit|CC-KON|dr(0,dl(0,np,np),np) une|DET-DET:ART|dr(0,np,n) croissance|NC-NOM|n de|P-PRP|dr(0,dl(0,n,n),np) 4,5|DET-NUM|dr(0,np,n) %|NC-SYM|n en|P-PRP|dr(0,dl(0,n,n),np) un|DET-DET:ART|dr(0,np,n) an|NC-NOM|n et|CC-KON|dr(0,dl(0,np,np),np) un|DET-DET:ART|dr(0,np,n) gain|NC-NOM|n de|P-PRP|dr(0,dl(0,n,n),n) pouvoir|NC-NOM|n d'|P-PRP|dr(0,dl(0,n,n),n) achat|NC-NOM|n de|P-PRP|dr(0,dl(0,n,n),np) 2|DET-NUM|dr(0,np,n) %|NC-SYM|n sur|P-PRP|dr(0,dl(0,n,n),np) la|DET-DET:ART|dr(0,np,n) même|ADJ-ADJ|dr(0,n,n) période|NC-NOM|n ,|PONCT-PUN|let indique|V-VER:pres|dr(0,dl(1,s,s),np) le|DET-DET:ART|dr(0,np,n) ministère|NC-NOM|n du|P+D-PRP:det|dr(0,dl(0,n,n),n) travail|NC-NOM|n .|PONCT-PUN|dl(0,s,txt) \n",
      "Interrogé|VPP-VER:pper|dl(0,np,s_pass) par|P-PRP|dr(0,pp_par,np) Pierre-Luc|NPP-NAM|dr(0,np,np) Séguillon|NPP-NAM|np ,|PONCT-PUN|dr(0,dl(0,np,np),n) chroniqueur|NC-NOM|n politique|ADJ-ADJ|dl(0,n,n) à|P-PRP|dr(0,pp_a,np) la|DET-DET:ART|dr(0,np,n) Cinq|NPP-NAM|n ,|PONCT-PUN|let le|DET-DET:ART|dr(0,np,n) président|NC-NOM|n de|P-PRP|dr(0,dl(0,n,n),np) la|DET-DET:ART|dr(0,np,n) République|NC-NAM|n a|V-VER:pres|dr(0,dl(0,np,s),dl(0,np,s_ppart)) reconnu|VPP-VER:pper|dr(0,dl(0,np,s_ppart),np) que|CS-KON|dr(0,s_q,s) \"|PONCT-PUN:cit|let certaines|DET-PRO:IND|dr(0,np,n) dispositions|NC-NOM|n peuvent|V-VER:pres|dr(0,dl(0,np,s),dl(0,np,s_inf)) être|VINF-VER:infi|dr(0,dl(0,np,s_inf),dl(0,np,s_pass)) assouplies|VPP-VER:pper|dl(0,n,n) \"|PONCT-PUN:cit|let mais|CC-KON|dr(0,dl(0,dl(0,np,s),dl(0,np,s)),dl(0,np,s)) ,|PONCT-PUN|let a|V-VER:pres|dr(0,dl(0,np,s),dl(0,np,s_ppart)) -t-il|CLS-PRO:PER|np poursuivi|VPP-VER:pper|dl(0,np,s_pass) ,|PONCT-PUN|let \"|PONCT-PUN:cit|let il|CLS-PRO:PER|np ne|ADV-ADV|dr(0,dl(0,np,s),dl(0,np,s)) faut|V-VER:pres|dr(0,dl(0,np,s),dl(0,np,s_inf)) pas|ADV-ADV|dl(1,s,s) tomber|VINF-VER:infi|dl(0,np,s_inf) dans|P-PRP|dr(0,pp,np) le|DET-DET:ART|dr(0,np,n) laxisme|NC-NOM|n .|PONCT-PUN|dl(0,s,txt) \n",
      "Mais|CC-KON|dr(0,s,s) diverses|ADJ-ADJ|dr(0,n,n) rumeurs|NC-NOM|n citaient|V-VER:impf|dr(0,dl(0,np,s),np) une|DET-DET:ART|dr(0,np,n) éventuelle|ADJ-ADJ|dr(0,n,n) participation|NC-NOM|n du|P+D-PRP:det|dr(0,dl(0,n,n),n) Crédit|NC-NAM|n lyonnais|ADJ-ADJ|dl(0,n,n) ,|PONCT-PUN|let de|P-PRP|dr(0,dl(0,n,n),np) M.|NC-ABR|dr(0,np,np) Jérôme|NPP-NAM|dr(0,np,np) Seydoux|NPP-NAM|np ,|PONCT-PUN|let voire|CC-KON|dr(0,dl(0,dl(0,n,n),dl(0,n,n)),dl(0,n,n)) de|P-PRP|dr(0,pp_de,np) la|DET-DET:ART|dr(0,np,n) Compagnie|NC-NAM|n luxembourgeoise|ADJ-ADJ|dl(0,n,n) de|P-PRP|dr(0,dl(0,n,n),n) télédiffusion|NC-NOM|n (|PONCT-PUN|dr(0,dl(0,n,n),n) CLT|NPP-ABR|n )|PONCT-PUN|let ,|PONCT-PUN|let pourtant|ADV-ADV|dr(0,dl(0,n,n),dl(0,n,n)) déjà|ADV-ADV|dr(0,dl(0,n,n),dl(0,n,n)) actionnaire|NC-NOM|n de|P-PRP|dr(0,dl(0,n,n),np) M|P+D-PRP:det|dr(0,np,np) 6|ADJ-NUM|n .|PONCT-PUN|dl(0,s,txt) \n",
      "\n",
      "Correct pos1 tags: 300/306 = 0.9803921568627451\n",
      "Correct pos2 tags: 301/306 = 0.9803921568627451\n",
      "Correct supertags: 255/306 = 0.8333333333333334\n"
     ]
    }
   ],
   "source": [
    "predict_pos1, predict_pos2, predict_super = model.predict(small_test)\n",
    "\n",
    "totalp1 = 0\n",
    "correctp1 = 0\n",
    "totalp2 = 0\n",
    "correctp2 = 0\n",
    "totalsuper = 0\n",
    "correctsuper = 0\n",
    "\n",
    "for i in range(len(small_test)):\n",
    "    for j in range(len(X_test[i])):\n",
    "        p1 = np.argmax(predict_pos1[i][j])\n",
    "        p2 = np.argmax(predict_pos2[i][j])\n",
    "        super = np.argmax(predict_super[i][j])\n",
    "\n",
    "        totalp1 = totalp1 + 1\n",
    "        totalp2 = totalp2 + 1\n",
    "        totalsuper = totalsuper + 1\n",
    "\n",
    "        if (p1==Y_pos1_test_indices[i][j]):\n",
    "            correctp1 = correctp1 + 1\n",
    "        if (p2==Y_pos2_test_indices[i][j]):\n",
    "            correctp2 = correctp2 + 1\n",
    "        if (super==Y_super_test_indices[i][j]):\n",
    "            correctsuper = correctsuper + 1\n",
    "\n",
    "        print(X_test[i][j] + \"|\" + index_to_pos1[p1] + \"-\" + index_to_pos2[p2] + \"|\" + index_to_super[super], end=\" \")\n",
    "    print('')    \n",
    "    \n",
    "print('')\n",
    "pctp1 = correctp1/totalp1\n",
    "print('Correct pos1 tags: '+ str(correctp1) + '/' + str(totalp1) + ' = ' + str(pctp1))\n",
    "pctp2 = correctp1/totalp2\n",
    "print('Correct pos2 tags: '+ str(correctp2) + '/' + str(totalp2) + ' = ' + str(pctp2))\n",
    "pctsuper = correctsuper/totalsuper\n",
    "print('Correct supertags: '+ str(correctsuper) + '/' + str(totalsuper) + ' = ' + str(pctsuper))"
   ]
  },
  {
   "cell_type": "markdown",
   "metadata": {},
   "source": [
    "### Load best supertagger"
   ]
  },
  {
   "cell_type": "code",
   "execution_count": 7,
   "metadata": {},
   "outputs": [],
   "source": [
    "model = load_model('best_elmo_superpos.h5')"
   ]
  },
  {
   "cell_type": "markdown",
   "metadata": {},
   "source": [
    "### Load test data"
   ]
  },
  {
   "cell_type": "code",
   "execution_count": 8,
   "metadata": {
    "collapsed": true
   },
   "outputs": [],
   "source": [
    "testf = np.load('test.npz')\n",
    "\n",
    "X_test = testf['X_test']\n",
    "X_test_embedding = testf['X_test_embedding']\n",
    "Y_pos1_test_oh = testf['Y_pos1_test_oh']\n",
    "Y_pos2_test_oh = testf['Y_pos2_test_oh']\n",
    "Y_super_test_oh = testf['Y_super_test_oh']\n",
    "\n",
    "del testf\n"
   ]
  },
  {
   "cell_type": "markdown",
   "metadata": {},
   "source": [
    "### Evaluate on full test data"
   ]
  },
  {
   "cell_type": "markdown",
   "metadata": {},
   "source": [
    "Compute model predictions for part-of-speech tags and supertags"
   ]
  },
  {
   "cell_type": "code",
   "execution_count": 10,
   "metadata": {
    "collapsed": true
   },
   "outputs": [],
   "source": [
    "predict_pos1, predict_pos2, predict_super = model.predict(X_test_embedding)"
   ]
  },
  {
   "cell_type": "code",
   "execution_count": 12,
   "metadata": {},
   "outputs": [
    {
     "name": "stdout",
     "output_type": "stream",
     "text": [
      "= results on test data =\n",
      "Correct pos1 tags: 87813/88575 = 0.9913971210838273\n",
      "Correct pos2 tags: 87895/88575 = 0.99232289020604\n",
      "Correct supertags: 82536/88575 = 0.9318204911092295\n"
     ]
    }
   ],
   "source": [
    "\n",
    "totalp1 = 0\n",
    "correctp1 = 0\n",
    "totalp2 = 0\n",
    "correctp2 = 0\n",
    "totalsuper = 0\n",
    "correctsuper = 0\n",
    "\n",
    "for i in range(len(X_test_embedding)):\n",
    "    for j in range(len(X_test[i])):\n",
    "        p1 = np.argmax(predict_pos1[i][j])\n",
    "        p2 = np.argmax(predict_pos2[i][j])\n",
    "        super = np.argmax(predict_super[i][j])\n",
    "\n",
    "        cp1 = np.argmax(Y_pos1_test_oh[i][j])\n",
    "        cp2 = np.argmax(Y_pos2_test_oh[i][j])\n",
    "        csuper = np.argmax(Y_super_test_oh[i][j])\n",
    "        \n",
    "        totalp1 = totalp1 + 1\n",
    "        totalp2 = totalp2 + 1\n",
    "        totalsuper = totalsuper + 1\n",
    "\n",
    "        if (p1==cp1):\n",
    "            correctp1 = correctp1 + 1\n",
    "        if (p2==cp2):\n",
    "            correctp2 = correctp2 + 1\n",
    "        if (super==csuper):\n",
    "            correctsuper = correctsuper + 1\n",
    "    #print(i, end =' ')\n",
    "        # print(X_test[i][j] + \"|\" + index_to_pos1[p1] + \"-\" + index_to_pos2[p2] + \"|\" + index_to_super[super], end=\" \")\n",
    "    #print('')    \n",
    "    \n",
    "print('= results on test data =')\n",
    "pctp1 = correctp1/totalp1\n",
    "print('Correct pos1 tags: '+ str(correctp1) + '/' + str(totalp1) + ' = ' + str(pctp1))\n",
    "pctp2 = correctp2/totalp2\n",
    "print('Correct pos2 tags: '+ str(correctp2) + '/' + str(totalp2) + ' = ' + str(pctp2))\n",
    "pctsuper = correctsuper/totalsuper\n",
    "print('Correct supertags: '+ str(correctsuper) + '/' + str(totalsuper) + ' = ' + str(pctsuper))"
   ]
  },
  {
   "cell_type": "markdown",
   "metadata": {},
   "source": [
    "#### Pos1\n",
    "\n",
    "| epochs | train | dev | test |\n",
    "|--------|:-----:|:---:|:----:|\n",
    "| 50     |  99.16     | 99.14    | 99.14 |\n",
    "\n",
    "#### Pos2\n",
    "\n",
    "| epochs | train | dev | test |\n",
    "|--------|:-----:|:---:|:----:|\n",
    "| 50     |  99.15     | 99.20    | 99.24 |\n",
    "\n",
    "#### Super\n",
    "\n",
    "| epochs | train | dev | test |\n",
    "|--------|:-----:|:---:|:----:|\n",
    "| 50     |  94.91    | 93.25    | 93.18 |\n",
    "\n",
    "\n"
   ]
  },
  {
   "cell_type": "markdown",
   "metadata": {},
   "source": [
    "As a sanity check, test on a part of the training data"
   ]
  },
  {
   "cell_type": "code",
   "execution_count": 29,
   "metadata": {},
   "outputs": [
    {
     "name": "stdout",
     "output_type": "stream",
     "text": [
      "= results on test data =\n",
      "Correct pos1 tags: 47583/48449 = 0.9821255340667506\n",
      "Correct pos2 tags: 47753/48449 = 0.9856343784185432\n",
      "Correct supertags: 41073/48449 = 0.8477574356539866\n"
     ]
    }
   ],
   "source": [
    "X_eval = X_train_embedding[0:2000]\n",
    "\n",
    "predict_pos1, predict_pos2, predict_super = model.predict(X_eval)\n",
    "\n",
    "totalp1 = 0\n",
    "correctp1 = 0\n",
    "totalp2 = 0\n",
    "correctp2 = 0\n",
    "totalsuper = 0\n",
    "correctsuper = 0\n",
    "\n",
    "for i in range(len(X_eval)):\n",
    "    for j in range(len(X_train[i])):\n",
    "        p1 = np.argmax(predict_pos1[i][j])\n",
    "        p2 = np.argmax(predict_pos2[i][j])\n",
    "        super = np.argmax(predict_super[i][j])\n",
    "\n",
    "        totalp1 = totalp1 + 1\n",
    "        totalp2 = totalp2 + 1\n",
    "        totalsuper = totalsuper + 1\n",
    "\n",
    "        if (p1==Y_pos1_train_indices[i][j]):\n",
    "            correctp1 = correctp1 + 1\n",
    "        if (p2==Y_pos2_train_indices[i][j]):\n",
    "            correctp2 = correctp2 + 1\n",
    "        if (super==Y_super_train_indices[i][j]):\n",
    "            correctsuper = correctsuper + 1\n",
    "    #print(i, end =' ')\n",
    "        # print(X_test[i][j] + \"|\" + index_to_pos1[p1] + \"-\" + index_to_pos2[p2] + \"|\" + index_to_super[super], end=\" \")\n",
    "    #print('')    \n",
    "    \n",
    "print('= results on test data =')\n",
    "pctp1 = correctp1/totalp1\n",
    "print('Correct pos1 tags: '+ str(correctp1) + '/' + str(totalp1) + ' = ' + str(pctp1))\n",
    "pctp2 = correctp2/totalp2\n",
    "print('Correct pos2 tags: '+ str(correctp2) + '/' + str(totalp2) + ' = ' + str(pctp2))\n",
    "pctsuper = correctsuper/totalsuper\n",
    "print('Correct supertags: '+ str(correctsuper) + '/' + str(totalsuper) + ' = ' + str(pctsuper))"
   ]
  },
  {
   "cell_type": "markdown",
   "metadata": {},
   "source": [
    "### Try on your own list of sentences (as lists)"
   ]
  },
  {
   "cell_type": "code",
   "execution_count": 31,
   "metadata": {
    "collapsed": true
   },
   "outputs": [],
   "source": [
    "sent_list = [['Jean', 'aime', 'Marie', 'et', 'Pierre', 'Suzanne'],['Jean', 'se', 'demande', 'comment', 'aider', 'Marie']]"
   ]
  },
  {
   "cell_type": "code",
   "execution_count": 32,
   "metadata": {},
   "outputs": [
    {
     "name": "stderr",
     "output_type": "stream",
     "text": [
      "2019-06-06 19:21:12,048 INFO: 1 batches, avg len: 8.0\n"
     ]
    }
   ],
   "source": [
    "sl_emb = e.sents2elmo(sent_list)"
   ]
  },
  {
   "cell_type": "code",
   "execution_count": 42,
   "metadata": {},
   "outputs": [
    {
     "name": "stdout",
     "output_type": "stream",
     "text": [
      "2\n",
      "(6, 1024)\n",
      "0\n",
      "1\n",
      "2\n",
      "3\n",
      "4\n",
      "5\n",
      "Suzanne\n",
      "[ 0.10293496 -0.3746914   0.14215054 ..., -0.02903659 -0.02374802\n",
      " -0.22927451]\n"
     ]
    }
   ],
   "source": [
    "print(len(sl_emb))\n",
    "print(np.shape(sl_emb[0]))\n",
    "for k in range(6):\n",
    "    print(k)\n",
    "print(sent_list[0][5])\n",
    "print(sl_emb[0][5])"
   ]
  },
  {
   "cell_type": "code",
   "execution_count": 46,
   "metadata": {},
   "outputs": [
    {
     "name": "stdout",
     "output_type": "stream",
     "text": [
      "6\n",
      "6\n",
      "(2, 266, 1024)\n"
     ]
    }
   ],
   "source": [
    "ll = len(sl_emb)\n",
    "\n",
    "Xsents = np.zeros((ll,maxLen,1024))\n",
    "for i in range(ll):\n",
    "    sl = len(sent_list[i])\n",
    "    print(sl)\n",
    "    for j in range(sl):\n",
    "        Xsents[i][j]= sl_emb[i][j]\n",
    "print(np.shape(Xsents))"
   ]
  },
  {
   "cell_type": "code",
   "execution_count": 53,
   "metadata": {},
   "outputs": [
    {
     "name": "stdout",
     "output_type": "stream",
     "text": [
      "Jean|NPP-NAM|np aime|V-VER:pres|dr(0,dl(0,np,s),np) Marie|NPP-NAM|np et|CC-KON|dr(0,dl(0,np,np),np) Pierre|NPP-NAM|dr(0,np,np) Suzanne|NPP-NAM|np \n",
      "Jean|NPP-NAM|np se|CLR-PRO:PER|cl_r demande|V-VER:pres|dr(0,dl(0,cl_r,dl(0,np,s)),dl(0,np,s_inf)) comment|ADVWH-ADV|dr(0,s_whq,dl(0,np,s_inf)) aider|VINF-VER:infi|dr(0,dr(0,dl(0,np,s_inf),pp_a),np) Marie|NPP-NAM|np \n",
      "\n",
      "Correct pos1 tags: 0/12 = 0.0\n"
     ]
    }
   ],
   "source": [
    "predict_pos1, predict_pos2, predict_super = model.predict(Xsents)\n",
    "\n",
    "for i in range(len(sent_list)):\n",
    "    for j in range(len(sent_list[i])):\n",
    "        p1 = np.argmax(predict_pos1[i][j])\n",
    "        p2 = np.argmax(predict_pos2[i][j])\n",
    "        super = np.argmax(predict_super[i][j])\n",
    "        print(sent_list[i][j] + \"|\" + index_to_pos1[p1] + \"-\" + index_to_pos2[p2] + \"|\" + index_to_super[super], end=\" \")\n",
    "    print('')\n",
    "    \n",
    "print('')"
   ]
  },
  {
   "cell_type": "code",
   "execution_count": null,
   "metadata": {
    "collapsed": true
   },
   "outputs": [],
   "source": []
  }
 ],
 "metadata": {
  "coursera": {
   "course_slug": "nlp-sequence-models",
   "graded_item_id": "RNnEs",
   "launcher_item_id": "acNYU"
  },
  "kernelspec": {
   "display_name": "Python 3",
   "language": "python",
   "name": "python3"
  },
  "language_info": {
   "codemirror_mode": {
    "name": "ipython",
    "version": 3
   },
   "file_extension": ".py",
   "mimetype": "text/x-python",
   "name": "python",
   "nbconvert_exporter": "python",
   "pygments_lexer": "ipython3",
   "version": "3.6.3"
  }
 },
 "nbformat": 4,
 "nbformat_minor": 2
}
