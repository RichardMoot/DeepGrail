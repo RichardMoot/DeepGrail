{
 "cells": [
  {
   "cell_type": "markdown",
   "metadata": {},
   "source": [
    "# LSTM part-of-speech tagging for the French Treebank: \n",
    "\n",
    "This notebook trains a part-of-speech tagger for the French Treebank using a vanilla bi-direction LSTM network.\n",
    "\n",
    "Run the following cell to load the Keras packages."
   ]
  },
  {
   "cell_type": "code",
   "execution_count": 2,
   "metadata": {
    "collapsed": false
   },
   "outputs": [
    {
     "name": "stderr",
     "output_type": "stream",
     "text": [
      "Using TensorFlow backend.\n"
     ]
    }
   ],
   "source": [
    "import numpy as np\n",
    "import matplotlib.pyplot as plt\n",
    "import pandas as pd\n",
    "import re\n",
    "\n",
    "from keras.models import Model\n",
    "from keras.layers import Bidirectional, Dense, Input, Dropout, LSTM, Activation, TimeDistributed, BatchNormalization\n",
    "from keras.layers.embeddings import Embedding\n",
    "from keras.preprocessing import sequence\n",
    "from keras.utils import to_categorical\n",
    "from keras.initializers import glorot_uniform\n",
    "from gensim.models import KeyedVectors\n",
    "from sklearn.model_selection import train_test_split\n",
    "\n",
    "%matplotlib inline\n",
    "\n",
    "np.random.seed(1)"
   ]
  },
  {
   "cell_type": "code",
   "execution_count": 3,
   "metadata": {
    "collapsed": true
   },
   "outputs": [],
   "source": [
    "# normalizes word according to the conventions of fastText; only transforms the word to lower case\n",
    "\n",
    "def normalize_word(orig_word):\n",
    "    word = orig_word.lower()\n",
    "    return word\n",
    "    "
   ]
  },
  {
   "cell_type": "code",
   "execution_count": 4,
   "metadata": {
    "collapsed": true
   },
   "outputs": [],
   "source": [
    "def read_maxentdata(file):\n",
    "    with open(file, 'r') as f:\n",
    "        vocabulary = set()\n",
    "        vnorm = set()\n",
    "        partsofspeech1 = set()\n",
    "        partsofspeech2 = set()\n",
    "        superset = set()\n",
    "        sentno = 0\n",
    "        maxlen = 0\n",
    "        words = []\n",
    "        postags1 = []\n",
    "        postags2 = []\n",
    "        supertags = []\n",
    "        allwords = []\n",
    "        allpos1 = []\n",
    "        allpos2 = []\n",
    "        allsuper = []\n",
    "        for line in f:\n",
    "            line = line.strip().split()\n",
    "            length = len(line)\n",
    "            if (length > maxlen):\n",
    "                maxlen = length\n",
    "            for l in range(length):\n",
    "                item = line[l].split('|')\n",
    "                orig_word = item[0]\n",
    "                word = normalize_word(orig_word)\n",
    "                postag = item[1]\n",
    "                supertag = item[2]\n",
    "                poslist = postag.split('-')\n",
    "                pos1 = poslist[0]\n",
    "                pos2 = poslist[1]\n",
    "                vocabulary.add(orig_word)\n",
    "                vnorm.add(word)\n",
    "                partsofspeech1.add(pos1)\n",
    "                partsofspeech2.add(pos2)\n",
    "                superset.add(supertag)\n",
    "                words.append(orig_word)\n",
    "                postags1.append(pos1)\n",
    "                postags2.append(pos2)\n",
    "                supertags.append(supertag)\n",
    "            allwords.append(words)\n",
    "            allpos1.append(postags1)\n",
    "            allpos2.append(postags2)\n",
    "            allsuper.append(supertags)\n",
    "            words = []\n",
    "            postags1 = []\n",
    "            postags2 = []\n",
    "            supertags = []\n",
    "            \n",
    "        X = np.asarray(allwords)\n",
    "        Y1 = np.asarray(allpos1)\n",
    "        Y2 = np.asarray(allpos2)\n",
    "        Z = np.asarray(allsuper)\n",
    "        return X, Y1, Y2, Z, vocabulary, vnorm, partsofspeech1, partsofspeech2, superset, maxlen"
   ]
  },
  {
   "cell_type": "code",
   "execution_count": 5,
   "metadata": {
    "collapsed": false
   },
   "outputs": [
    {
     "name": "stdout",
     "output_type": "stream",
     "text": [
      "['La', 'Caixa', 'prend', '49', '%', 'de', 'Lyonnaise', 'Espana', ',', 'dont', 'le', 'groupe', 'français', 'ne', 'détiendra', 'plus', 'que', '51', '%', ';', 'en', 'échange', ',', 'elle', 'cède', 'à', 'celui', '-ci', '3,5', '%', 'de', 'la', 'SGAB', 'et', '19,6', '%', \"d'\", 'ACESA', ',', 'première', 'société', 'concessionnaire', \"d'\", 'autoroutes', 'en', 'Espagne', '(', '500', 'kilomètres', \"d'\", 'autoroutes', 'et', 'un', 'chiffre', \"d'\", 'affaires', '1990', 'de', '37', 'milliards', 'de', 'pesetas', ')', ',', 'dont', 'elle', 'conserve', '26,6', '%', '.']\n",
      "['DET:ART', 'NAM', 'VER:pres', 'NUM', 'SYM', 'PRP', 'NAM', 'NAM', 'PUN', 'PRO:REL', 'DET:ART', 'NOM', 'ADJ', 'ADV', 'VER:futu', 'ADV', 'ADV', 'NUM', 'SYM', 'PUN', 'PRP', 'NOM', 'PUN', 'PRO:PER', 'VER:pres', 'PRP', 'PRO:DEM', 'ADV', 'NUM', 'SYM', 'PRP', 'DET:ART', 'ABR', 'KON', 'NUM', 'SYM', 'PRP', 'ABR', 'PUN', 'NUM', 'NOM', 'ADJ', 'PRP', 'NOM', 'PRP', 'NAM', 'PUN', 'NUM', 'NOM', 'PRP', 'NOM', 'KON', 'DET:ART', 'NOM', 'PRP', 'NOM', 'NUM', 'PRP', 'NUM', 'NOM', 'PRP', 'NOM', 'PUN', 'PUN', 'PRO:REL', 'PRO:PER', 'VER:pres', 'NUM', 'SYM', 'PUN']\n",
      "\n",
      "Longest sentence   :  266\n",
      "Number of POS tags :  32\n",
      "Number of supertags:  891\n"
     ]
    }
   ],
   "source": [
    "X, Y1, Y2, Z, vocabulary, vnorm, partsofspeech1, partsofspeech2, superset, maxLen = read_maxentdata('m2.txt')\n",
    "# X, Y1, Y2, Z, vocabulary, partsofspeech1, partsofspeech2, superset, maxLen = read_maxentdata('aa1.txt')\n",
    "\n",
    "print(X[1])\n",
    "print(Y2[1])\n",
    "\n",
    "numClasses = len(partsofspeech2)+1\n",
    "numSuperClasses = len(superset)+1\n",
    "\n",
    "print()\n",
    "print(\"Longest sentence   : \", maxLen)\n",
    "print(\"Number of POS tags : \", numClasses)\n",
    "print(\"Number of supertags: \", numSuperClasses)\n"
   ]
  },
  {
   "cell_type": "markdown",
   "metadata": {},
   "source": [
    "## 1. Split the input into train/dev/test\n",
    "\n",
    "Split the full training set into 60% train, 20% dev and 20% test."
   ]
  },
  {
   "cell_type": "code",
   "execution_count": 6,
   "metadata": {
    "collapsed": false
   },
   "outputs": [
    {
     "name": "stdout",
     "output_type": "stream",
     "text": [
      "Train:  (9449,)\n",
      "Test:   (3150,)\n",
      "Dev:    (3150,)\n"
     ]
    }
   ],
   "source": [
    "# split the training data into the standard 60% train, 20% dev, 20% test \n",
    "X_train, X_testdev, Y_train, Y_testdev = train_test_split(X, Y2, test_size=0.4)\n",
    "X_test, X_dev, Y_test, Y_dev = train_test_split(X_testdev, Y_testdev, test_size=0.5)\n",
    "print(\"Train: \", X_train.shape)\n",
    "print(\"Test:  \", X_test.shape)\n",
    "print(\"Dev:   \", X_dev.shape)\n"
   ]
  },
  {
   "cell_type": "markdown",
   "metadata": {},
   "source": [
    "## 2. Create auxiliary mappings\n",
    "\n",
    "Create mappings from supertags and the two sets of part-of-speech tags to integers and back."
   ]
  },
  {
   "cell_type": "code",
   "execution_count": 7,
   "metadata": {
    "collapsed": true
   },
   "outputs": [],
   "source": [
    "# create a bi-directional mapping (using two dictionaries) translating elements of a set to and from integers\n",
    "\n",
    "def indexify (set):\n",
    "    i = 1\n",
    "    item_to_index = {}\n",
    "    index_to_item = {}\n",
    "\n",
    "    for item in set:\n",
    "        item_to_index[item] = i\n",
    "        index_to_item[i] = item\n",
    "        i = i + 1\n",
    "\n",
    "    return item_to_index, index_to_item    "
   ]
  },
  {
   "cell_type": "code",
   "execution_count": 8,
   "metadata": {
    "collapsed": false
   },
   "outputs": [
    {
     "name": "stdout",
     "output_type": "stream",
     "text": [
      "{'PUN:cit': 1, 'VER:futu': 2, 'DET:ART': 3, 'PRO:POS': 21, 'DET:POS': 24, 'NAM': 4, 'VER:simp': 5, 'PRO:REL': 23, 'PRP': 6, 'VER:pres': 7, 'VER:cond': 8, 'PRO': 25, 'SYM': 9, 'INT': 11, 'VER:infi': 12, 'PRP:det': 26, 'VER:impe': 27, 'NOM': 13, 'VER:subp': 14, 'VER:pper': 15, 'VER:impf': 16, 'ADJ': 28, 'PRO:PER': 29, 'PRO:IND': 17, 'PUN': 18, 'VER:ppre': 30, 'ADV': 31, 'ABR': 22, 'NUM': 19, 'KON': 10, 'PRO:DEM': 20}\n"
     ]
    }
   ],
   "source": [
    "# create mapping for the two POS tagset and for the supertags\n",
    "\n",
    "super_to_index, index_to_super = indexify(superset)\n",
    "pos1_to_index, index_to_pos1 = indexify(partsofspeech1)\n",
    "pos2_to_index, index_to_pos2 = indexify(partsofspeech2)\n",
    "print(pos2_to_index)"
   ]
  },
  {
   "cell_type": "markdown",
   "metadata": {},
   "source": [
    "## 3. Obtain the word vector information\n",
    "\n",
    "We are using a shell call to the compiled fastText code to produce a file _vectors.txt_ with the relevant vectors. "
   ]
  },
  {
   "cell_type": "markdown",
   "metadata": {},
   "source": [
    "### 3.1. Special treatment for numbers\n",
    "\n",
    "fastText does not include native numbers; internally, these are translated into sequences of the words \"zéro\", \"un\", etc. \n",
    "\n",
    "We add new entries averaging over the number symbols for numbers appearing in the French Treebank."
   ]
  },
  {
   "cell_type": "code",
   "execution_count": 9,
   "metadata": {
    "collapsed": true
   },
   "outputs": [],
   "source": [
    "with open(\"num_vec.txt\", 'r') as f:\n",
    "    number = {}\n",
    "    for line in f:\n",
    "        line = line.strip().split()\n",
    "        numc = line[0]\n",
    "        emb = np.array(line[1:], dtype=np.float64)\n",
    "        number[numc] = emb"
   ]
  },
  {
   "cell_type": "code",
   "execution_count": 10,
   "metadata": {
    "collapsed": false
   },
   "outputs": [
    {
     "name": "stdout",
     "output_type": "stream",
     "text": [
      "1\n",
      "9\n",
      "3\n",
      "5\n",
      "7\n",
      ",\n",
      "4\n",
      "8\n",
      "0\n",
      ".\n",
      "6\n",
      "2\n",
      "/\n",
      "-\n"
     ]
    }
   ],
   "source": [
    "for i in number.keys():\n",
    "    print(i)"
   ]
  },
  {
   "cell_type": "code",
   "execution_count": 11,
   "metadata": {
    "collapsed": true
   },
   "outputs": [],
   "source": [
    "def is_numeral (string):\n",
    "    return re.match(r'\\A\\-?\\d[\\d\\.\\,-/]*\\Z', string) is not None"
   ]
  },
  {
   "cell_type": "code",
   "execution_count": 12,
   "metadata": {
    "collapsed": false
   },
   "outputs": [
    {
     "name": "stdout",
     "output_type": "stream",
     "text": [
      "True\n",
      "False\n",
      "True\n",
      "False\n"
     ]
    }
   ],
   "source": [
    "print(is_numeral(\"-1.234,56\"))\n",
    "print(is_numeral(\"1 2 3 \"))\n",
    "print(is_numeral(\"3/4\"))\n",
    "print(is_numeral(\"+1\"))"
   ]
  },
  {
   "cell_type": "code",
   "execution_count": 13,
   "metadata": {
    "collapsed": true
   },
   "outputs": [],
   "source": [
    "def num_to_vec (ns):\n",
    "    vecsize = np.size(number[\"0\"])\n",
    "    avg = np.zeros(vecsize)\n",
    "\n",
    "    cl = list(ns)\n",
    "    i = 0\n",
    "    for char in cl:\n",
    "        avg += number[char]\n",
    "        i += 1\n",
    "    avg = avg/i\n",
    "    return avg"
   ]
  },
  {
   "cell_type": "code",
   "execution_count": 14,
   "metadata": {
    "collapsed": false
   },
   "outputs": [
    {
     "data": {
      "text/plain": [
       "array([ -1.63150000e-01,   1.27537333e-01,  -1.14730100e-01,\n",
       "         2.43636667e-01,   1.12086667e-01,  -1.32714333e-01,\n",
       "         2.47716667e-02,   6.04950000e-02,  -1.29726667e-02,\n",
       "         1.87775000e-01,  -1.68472333e-01,   8.62280000e-02,\n",
       "        -1.88148667e-01,   1.57618333e-01,  -2.10669667e-01,\n",
       "         5.37993333e-02,  -4.35270000e-02,   5.43833333e-02,\n",
       "        -7.87723333e-02,  -1.28075333e-01,   1.40230333e-01,\n",
       "        -1.07276667e-01,  -3.42530000e-02,  -9.27800000e-03,\n",
       "        -2.79923333e-02,  -9.28250000e-02,   2.37066667e-03,\n",
       "        -1.11023333e-01,  -2.42835667e-01,  -9.00413333e-02,\n",
       "         5.75456667e-02,   1.85236667e-01,   2.68430000e-02,\n",
       "         1.75517667e-01,   1.87653000e-01,   1.98363333e-02,\n",
       "         1.10892267e-01,  -6.92060000e-02,   2.81330000e-02,\n",
       "         1.92766333e-01,   5.47740000e-02,   2.61433333e-03,\n",
       "         1.49333333e-02,  -8.27696667e-02,   3.63566667e-02,\n",
       "        -1.41419333e-01,  -4.82583333e-02,   7.40089600e-02,\n",
       "        -9.76400000e-02,   2.08363333e-01,   1.20894000e-01,\n",
       "         5.31470000e-02,   4.71523333e-02,  -2.03042667e-02,\n",
       "        -6.93630000e-02,  -1.50183333e-01,  -1.16807000e-01,\n",
       "         1.50213333e-01,   1.83543667e-01,   1.03580000e-02,\n",
       "         1.03256000e-01,   1.97583333e-01,   1.99590000e-01,\n",
       "         2.70710000e-02,  -1.86818000e-01,   2.28693333e-02,\n",
       "         1.32586667e-01,   1.18606429e-01,   2.88313333e-02,\n",
       "        -1.82991333e-01,   1.25460000e-02,   1.35284667e-01,\n",
       "        -1.02487067e-01,  -3.81526667e-02,  -1.79110000e-01,\n",
       "         4.60986667e-02,   1.01247667e-01,   9.30420000e-02,\n",
       "        -1.66510000e-01,  -6.92266667e-02,  -3.86993333e-02,\n",
       "         9.35606667e-03,  -7.30086667e-02,  -3.96700000e-03,\n",
       "         3.02933333e-03,   1.88319667e-01,  -2.78060000e-01,\n",
       "         5.76616667e-02,   4.25180000e-02,  -2.14814000e-01,\n",
       "        -1.13664000e-01,  -6.59994333e-02,  -1.08268000e-01,\n",
       "         6.15033333e-02,  -2.83956667e-03,   9.47166667e-02,\n",
       "        -9.97743333e-02,   5.75116667e-02,  -5.30076667e-02,\n",
       "        -3.93886667e-01,   6.77700000e-02,   3.54700000e-02,\n",
       "        -8.89393333e-02,   1.73676667e-01,  -8.56900000e-02,\n",
       "         4.94500000e-02,   1.18897667e-01,  -3.60230000e-02,\n",
       "         2.47874667e-01,   1.93166667e-01,   1.67366667e-02,\n",
       "        -3.31963333e-02,  -2.93433667e-02,  -1.33303000e-01,\n",
       "         1.08495000e-01,   6.28233333e-03,   3.81753333e-02,\n",
       "        -4.86600000e-02,  -2.21636333e-02,  -3.52040000e-02,\n",
       "         1.39993500e-01,  -1.00303667e-01,  -1.86347667e-01,\n",
       "         1.34468000e-01,  -1.47274000e-01,   2.37006667e-02,\n",
       "         8.14933333e-02,   1.24760667e-01,  -6.85213767e-02,\n",
       "         2.98343333e-01,  -4.00700000e-02,  -9.52100000e-02,\n",
       "        -6.12340000e-02,   2.71383333e-02,   1.82816667e-01,\n",
       "        -1.16385000e-01,  -3.74786667e-02,   7.12123333e-02,\n",
       "         1.53460333e-01,   1.09736667e-02,   9.34490000e-02,\n",
       "         2.54030000e-02,  -6.11290000e-02,  -1.73813667e-01,\n",
       "         1.46333333e-04,   9.32366667e-02,  -1.84853333e-01,\n",
       "         1.06573100e-01,  -1.52303333e-01,   1.48459333e-01,\n",
       "         2.29894667e-01,  -7.82726667e-02,  -9.35113333e-02,\n",
       "        -9.75770000e-02,   6.18976667e-02,  -4.66706667e-02,\n",
       "        -1.10517000e-01,   1.04431333e-01,  -1.48022333e-02,\n",
       "         3.73180000e-01,  -3.13046667e-01,  -1.89117000e-01,\n",
       "         1.52727000e-01,   1.07918333e-01,  -2.44873333e-01,\n",
       "        -7.90340000e-02,   9.58423333e-02,   5.90100000e-02,\n",
       "         6.53797000e-02,  -3.19783667e-02,  -1.40039333e-01,\n",
       "        -1.69745667e-01,   1.31571333e-01,   1.20100000e-02,\n",
       "         9.75166667e-02,  -2.59528333e-01,   9.11803000e-02,\n",
       "         7.74778000e-02,   1.08590000e-01,  -2.23750000e-01,\n",
       "        -1.12135333e-01,   2.88853333e-02,  -2.50566667e-02,\n",
       "        -2.21057333e-01,   1.26176000e-01,   2.95103333e-01,\n",
       "         3.18120000e-02,   1.08264667e-01,   2.03233333e-02,\n",
       "         2.46688000e-02,  -1.55840667e-01,   1.52125000e-01,\n",
       "         9.08666667e-03,   2.00606333e-01,   1.39917000e-01,\n",
       "        -3.74416333e-02,   2.45090000e-01,  -8.07835333e-03,\n",
       "        -1.27380000e-02,  -8.93566667e-03,   1.49913333e-01,\n",
       "         5.21183333e-02,  -5.45670000e-02,   1.41582667e-01,\n",
       "        -7.90730000e-02,  -2.60203333e-01,  -1.67546667e-02,\n",
       "         1.23166667e-02,  -3.69100000e-03,  -6.15550000e-02,\n",
       "         2.35984667e-01,  -1.19087667e-01,   1.99363333e-01,\n",
       "        -1.54036667e-02,  -2.20154667e-01,   3.23000000e-01,\n",
       "        -5.77806667e-02,  -1.00001667e-01,   4.80176667e-02,\n",
       "        -1.48753333e-02,   6.82576667e-02,   5.86566667e-02,\n",
       "         1.74930000e-02,   7.93066667e-02,   1.44756667e-01,\n",
       "         8.13714667e-02,   9.64120000e-02,   7.49666667e-03,\n",
       "         7.98216667e-02,   1.34965000e-01,   1.52421000e-01,\n",
       "         1.12760333e-01,   1.46888000e-01,   5.85446667e-02,\n",
       "        -5.58763333e-02,  -1.28978700e-01,   1.66160000e-01,\n",
       "        -2.20213000e-01,  -4.83080000e-02,  -6.97561000e-02,\n",
       "        -3.14300000e-02,  -1.08093600e-01,   1.40205000e-01,\n",
       "         2.62090000e-01,  -1.81959333e-01,  -2.61626667e-01,\n",
       "        -1.61201667e-01,  -6.45093333e-02,   8.86250000e-02,\n",
       "         1.60986000e-01,   2.49873333e-01,  -4.33466433e-02,\n",
       "         1.38963333e-02,  -5.65846667e-02,   1.46643333e-01,\n",
       "        -1.22933667e-01,  -1.16070700e-01,  -2.47043333e-01,\n",
       "         2.31367667e-02,   5.39146667e-02,  -1.07179333e-01,\n",
       "        -2.71120000e-01,   1.94536333e-01,  -1.29612000e-01,\n",
       "        -7.69090000e-02,   4.87843333e-02,   5.09933333e-03,\n",
       "        -9.29123333e-02,  -8.23880000e-02,  -2.47796667e-01,\n",
       "        -3.03040000e-02,   2.41526667e-01,   2.90765667e-02,\n",
       "         9.46146667e-02,  -2.17056667e-01,  -2.10566667e-02,\n",
       "        -7.34290000e-02,  -2.22583333e-01,  -1.12906667e-01,\n",
       "         5.86086667e-02,   1.90907333e-01,   2.22867867e-01,\n",
       "        -1.80037667e-01,  -1.61056667e-02,  -6.30196667e-02,\n",
       "         5.62786667e-02,   3.31153667e-02,   1.81967000e-01,\n",
       "         8.14093333e-02,  -7.19768000e-02,  -1.26484033e-01,\n",
       "         6.29126100e-02,   1.84486667e-01,  -1.92326333e-01,\n",
       "         2.76836667e-02,   9.49513333e-02,   2.18196667e-02,\n",
       "         2.40023333e-01,  -1.91052333e-01,   1.90997667e-01])"
      ]
     },
     "execution_count": 14,
     "metadata": {},
     "output_type": "execute_result"
    }
   ],
   "source": [
    "num_to_vec(\"1/4\")"
   ]
  },
  {
   "cell_type": "markdown",
   "metadata": {
    "collapsed": true
   },
   "source": [
    "### 3.2. Feature vectors"
   ]
  },
  {
   "cell_type": "markdown",
   "metadata": {},
   "source": [
    "#### Suffixes"
   ]
  },
  {
   "cell_type": "code",
   "execution_count": 15,
   "metadata": {
    "collapsed": true
   },
   "outputs": [],
   "source": [
    "def read_suffixes(file):\n",
    "    i = 1\n",
    "    suffixes = {}\n",
    "\n",
    "    with open(file, 'r') as f:\n",
    "        for line in f:\n",
    "            line = line.strip()\n",
    "            suffixes[line] = i\n",
    "            i = i + 1\n",
    "\n",
    "    return suffixes       "
   ]
  },
  {
   "cell_type": "code",
   "execution_count": 17,
   "metadata": {
    "collapsed": false,
    "scrolled": true
   },
   "outputs": [
    {
     "name": "stdout",
     "output_type": "stream",
     "text": [
      "{'thermique': 191, 'phobie': 178, 'unième': 197, 'èdre': 61, 'esque': 83, 'erais': 75, 'at': 40, 'âtre': 47, 'ification': 113, 'ier': 108, 'in': 115, 'ible': 101, 'ie': 103, 'génie': 96, 'eront': 82, 'manie': 142, 'o': 148, 'adique': 8, 'ment': 143, 'morphe': 146, 'oir': 153, 'aine': 17, 'eur': 88, 'euse': 89, 'assions': 39, 'ai': 10, 'oient': 151, 'eraient': 74, 'eraie': 73, 'issime': 126, 'vore': 200, 'lingue': 133, 'phore': 180, 'ance': 27, 'aient': 12, 'ât': 41, 'erai': 72, 'graphie': 100, 'erie': 80, 'ité': 131, 'ée': 63, 'ine': 116, 'scope': 187, 'oyer': 171, 'er': 71, 'aison': 22, 'ème': 66, 's': 186, 'graphe': 99, 'ole': 158, 'amment': 26, 'itude': 132, 'et': 85, 'ienne': 107, 'ure': 198, 'elle': 65, 'assent': 36, 'muche': 147, 'ît': 129, 'able': 2, 'ificateur': 112, 'oise': 156, 'teur': 190, 'ane': 28, 'émie': 67, 'esse': 84, 'iez': 110, 'gène': 95, 'ons': 161, 'os': 162, 'ptile': 183, 'ate': 42, 'assiez': 38, 'erez': 79, 'trice': 194, 're': 185, 'e': 56, 'oche': 149, 'aud': 49, 'woman': 201, 'a': 1, 'ville': 199, 'isme': 123, 'it': 128, 'pole': 182, 'gramme': 98, 'if': 111, 'iste': 127, 'isse': 125, 'pathe': 172, 'ence': 68, 'ants': 32, 'ailler': 15, 'osité': 164, 'fère': 92, 'u': 196, 'édrique': 62, 'archie': 33, 'gate': 94, 'trophe': 195, 'tomie': 193, 'ade': 7, 'atif': 45, 'âmes': 25, 'eresse': 78, 'otte': 168, 'logue': 137, 'ais': 19, 'asses': 37, 'ectomie': 60, 'drome': 55, 'ation': 46, 'phage': 175, 'ique': 119, 'aise': 20, 'asse': 35, 'culteur': 53, 'man': 139, 'ing': 117, 'is': 121, 'ome': 159, 'oison': 157, 'oïde': 150, 'lithe': 134, 'plastie': 181, 'dingue': 54, 'eau': 58, 'âtes': 43, 'ir': 120, 'yne': 203, 'céphale': 51, 'age': 9, 'tion': 192, 'ait': 23, 'phile': 176, 'aire': 18, 'mancie': 140, 'aille': 14, 'ante': 30, 'oïque': 152, 'ain': 16, 'ette': 87, 'acées': 5, 'phone': 179, 'aie': 11, 'ien': 106, 'ière': 109, 'ateur': 44, 'mètre': 144, 'ième': 105, 'el': 64, 'ouze': 170, 'acée': 4, 'fier': 93, 'iche': 102, 'al': 24, 'aises': 21, 'eux': 90, 'erait': 76, 'èrent': 77, 'acés': 6, 'ène': 69, 'logie': 135, 'ote': 166, 'é': 57, 'atrice': 48, 'mane': 141, 'philie': 177, 'oire': 154, 'ifier': 114, 'quin': 184, 'eté': 86, 'ite': 130, 'oter': 167, 'lyse': 138, 'ez': 91, 'iel': 104, 'ouse': 169, 'génique': 97, 'bourg': 50, 'ïsme': 124, 'x': 202, 'antes': 31, 'ions': 118, 'ois': 155, 'erons': 81, 'pathie': 173, 'chorie': 52, 'ent': 70, 'on': 160, 'iser': 122, 'logique': 136, 'acé': 3, 'ail': 13, 'sphère': 188, 'eaux': 59, 'pause': 174, 'ant': 29, 'ot': 165, 'métrie': 145, 'ard': 34, 'té': 189, 'ose': 163}\n",
      "203\n"
     ]
    }
   ],
   "source": [
    "french_suffixes = read_suffixes('suffixes.txt')\n",
    "print(french_suffixes)\n",
    "print(len(french_suffixes))"
   ]
  },
  {
   "cell_type": "code",
   "execution_count": 18,
   "metadata": {
    "collapsed": true
   },
   "outputs": [],
   "source": [
    "def suffix_vector(word, suffixes=french_suffixes):\n",
    "    length = len(suffixes)+1\n",
    "    vector = np.zeros(length)\n",
    "    for suf,num in suffixes.items():\n",
    "        if word.endswith(suf):\n",
    "            vector[num] = 1.0\n",
    "        else:\n",
    "            vector[num] = 0.0\n",
    "    return vector        "
   ]
  },
  {
   "cell_type": "code",
   "execution_count": 20,
   "metadata": {
    "collapsed": false
   },
   "outputs": [
    {
     "data": {
      "text/plain": [
       "array([ 0.,  0.,  0.,  0.,  0.,  0.,  0.,  0.,  0.,  0.,  0.,  0.,  1.,\n",
       "        0.,  0.,  0.,  0.,  0.,  0.,  0.,  0.,  0.,  0.,  0.,  0.,  0.,\n",
       "        0.,  0.,  0.,  0.,  0.,  0.,  0.,  0.,  0.,  0.,  0.,  0.,  0.,\n",
       "        0.,  0.,  0.,  0.,  0.,  0.,  0.,  0.,  0.,  0.,  0.,  0.,  0.,\n",
       "        0.,  0.,  0.,  0.,  0.,  0.,  0.,  0.,  0.,  0.,  0.,  0.,  0.,\n",
       "        0.,  0.,  0.,  0.,  0.,  1.,  0.,  0.,  0.,  1.,  0.,  0.,  0.,\n",
       "        0.,  0.,  0.,  0.,  0.,  0.,  0.,  0.,  0.,  0.,  0.,  0.,  0.,\n",
       "        0.,  0.,  0.,  0.,  0.,  0.,  0.,  0.,  0.,  0.,  0.,  0.,  0.,\n",
       "        0.,  0.,  0.,  0.,  0.,  0.,  0.,  0.,  0.,  0.,  0.,  0.,  0.,\n",
       "        0.,  0.,  0.,  0.,  0.,  0.,  0.,  0.,  0.,  0.,  0.,  0.,  0.,\n",
       "        0.,  0.,  0.,  0.,  0.,  0.,  0.,  0.,  0.,  0.,  0.,  0.,  0.,\n",
       "        0.,  0.,  0.,  0.,  0.,  0.,  0.,  0.,  0.,  0.,  0.,  0.,  0.,\n",
       "        0.,  0.,  0.,  0.,  0.,  0.,  0.,  0.,  0.,  0.,  0.,  0.,  0.,\n",
       "        0.,  0.,  0.,  0.,  0.,  0.,  0.,  0.,  0.,  0.,  0.,  0.,  0.,\n",
       "        0.,  0.,  0.,  0.,  0.,  0.,  0.,  0.,  0.,  0.,  0.,  0.,  0.,\n",
       "        0.,  0.,  0.,  0.,  0.,  0.,  0.,  0.,  0.])"
      ]
     },
     "execution_count": 20,
     "metadata": {},
     "output_type": "execute_result"
    }
   ],
   "source": [
    "suffix_vector(\"seraient\", french_suffixes)"
   ]
  },
  {
   "cell_type": "markdown",
   "metadata": {},
   "source": [
    "#### Manually designed features"
   ]
  },
  {
   "cell_type": "code",
   "execution_count": 21,
   "metadata": {
    "collapsed": true
   },
   "outputs": [],
   "source": [
    "def word_features(word, unknown=False):\n",
    "    list = []\n",
    "    if word.isupper():\n",
    "        list.append(1.0)\n",
    "    else:\n",
    "        list.append(0.0)\n",
    "    if word[0].isupper():\n",
    "        list.append(1.0)\n",
    "    else:\n",
    "        list.append(0.0)\n",
    "    if word.isnumeric():\n",
    "        list.append(1.0)\n",
    "    else:\n",
    "        list.append(0.0)\n",
    "    if word.isalnum():\n",
    "        list.append(0.0)\n",
    "    else:\n",
    "        list.append(1.0)\n",
    "    if word[0] == \"-\":\n",
    "         list.append(1.0)\n",
    "    else:\n",
    "        list.append(0.0)\n",
    "    if is_numeral(word):\n",
    "         list.append(1.0)\n",
    "    else:\n",
    "        list.append(0.0)        \n",
    "    if \"-\" in word[1:]:\n",
    "        list.append(1.0)\n",
    "    else:\n",
    "        list.append(0.0)\n",
    "    if unknown:\n",
    "         list.append(1.0)\n",
    "    else:\n",
    "        list.append(0.0)\n",
    "    \n",
    "    ar = np.asarray(list)\n",
    "    return ar"
   ]
  },
  {
   "cell_type": "code",
   "execution_count": 22,
   "metadata": {
    "collapsed": false
   },
   "outputs": [
    {
     "name": "stdout",
     "output_type": "stream",
     "text": [
      "[ 1.  1.  0.  0.  0.  0.  0.  0.]\n",
      "[ 0.  1.  0.  0.  0.  0.  0.  0.]\n",
      "[ 0.  0.  1.  0.  0.  1.  0.  0.]\n",
      "[ 0.  0.  0.  1.  0.  0.  0.  0.]\n",
      "[ 0.  1.  0.  1.  0.  0.  1.  0.]\n",
      "[ 0.  0.  0.  1.  1.  0.  1.  0.]\n"
     ]
    }
   ],
   "source": [
    "print(word_features(\"ABCD\"))\n",
    "print(word_features(\"Abcd\"))\n",
    "print(word_features(\"1234\"))\n",
    "print(word_features(\"*%\"))\n",
    "print(word_features(\"Ab-cd\"))\n",
    "print(word_features(\"-t-il\"))\n"
   ]
  },
  {
   "cell_type": "markdown",
   "metadata": {},
   "source": [
    "### 3.3. Sending the vocabulary through the fasttext executable"
   ]
  },
  {
   "cell_type": "markdown",
   "metadata": {},
   "source": [
    "Write the vocabulary to an output file, then pass it to the fastText executable to produce the relevant word embeddings for our text. Since the fastText model is over 5 Gb, the shell call can take some time."
   ]
  },
  {
   "cell_type": "code",
   "execution_count": 23,
   "metadata": {
    "collapsed": true
   },
   "outputs": [],
   "source": [
    "with open(\"vocab.txt\", 'w') as vocab_file:\n",
    "    for w in vnorm:\n",
    "        print(w, file=vocab_file)"
   ]
  },
  {
   "cell_type": "markdown",
   "metadata": {},
   "source": [
    "Shell call to `fasttext` for my Macbook Air"
   ]
  },
  {
   "cell_type": "code",
   "execution_count": 24,
   "metadata": {
    "collapsed": true
   },
   "outputs": [],
   "source": [
    "!/Users/moot/Software/fastText-master/fasttext print-word-vectors /Users/moot/Corpus/wiki.fr/wiki.fr.bin < vocab.txt > vectors.txt"
   ]
  },
  {
   "cell_type": "markdown",
   "metadata": {},
   "source": [
    "Shell call to `fasttest` for my Macbook Pro, with `wiki.fr.bin` on external drive"
   ]
  },
  {
   "cell_type": "code",
   "execution_count": null,
   "metadata": {
    "collapsed": true
   },
   "outputs": [],
   "source": [
    "!/Users/moot/Software/fastText-master/fasttext print-word-vectors /Volumes/LaCie/Corpus/fastText/wiki/wiki.fr.bin < vocab.txt > vectors.txt"
   ]
  },
  {
   "cell_type": "markdown",
   "metadata": {},
   "source": [
    "#### Combine all vector information\n",
    "\n",
    "Combined all information from fasttext, suffixes, manually selected features and the features for digits (which are not in fasttext) to produce combined feature vectors for all words "
   ]
  },
  {
   "cell_type": "code",
   "execution_count": 25,
   "metadata": {
    "collapsed": true
   },
   "outputs": [],
   "source": [
    "def read_vecs(file):\n",
    "    with open(file, 'r') as f:\n",
    "        words = set()\n",
    "        vocabn = vnorm\n",
    "        vocab = vocabulary\n",
    "        word_to_vec_map = {}\n",
    "        emsize = 0\n",
    "        # special treatment for numerals\n",
    "        numset = set()\n",
    "        for w in vocabn:\n",
    "            if is_numeral(w):\n",
    "                numset.add(w)\n",
    "                words.add(w)\n",
    "                emb = num_to_vec(w)\n",
    "                features = word_features(w)\n",
    "                suf = suffix_vector(w)\n",
    "                word_to_vec_map[w] = np.concatenate((emb,suf,features))\n",
    "        vocabn = vocabn.difference(numset)\n",
    "        vocab = vocab.difference(numset)\n",
    "        for line in f:\n",
    "            line = line.strip().split()\n",
    "            curr_word = line[0]\n",
    "            if (curr_word in vocabn):\n",
    "                vocabn.remove(curr_word)\n",
    "                vocab.discard(curr_word)\n",
    "                words.add(curr_word)                \n",
    "                emb = np.array(line[1:], dtype=np.float64)\n",
    "                emsize = np.size(emb)\n",
    "                features = word_features(curr_word)\n",
    "                suf = suffix_vector(curr_word)\n",
    "                word_to_vec_map[curr_word] = np.concatenate((emb,suf,features))\n",
    "\n",
    "        for w in vocab:\n",
    "            words.add(w)\n",
    "            wn = normalize_word(w)\n",
    "            emb = np.zeros(emsize)\n",
    "            suf = suffix_vector(wn)\n",
    "            try:\n",
    "                vec = word_to_vec_map[wn]\n",
    "            except:  \n",
    "                print(w)\n",
    "                features = word_features(w, unknown=True)\n",
    "                word_to_vec_map[w] = np.concatenate((emb,suf,features))\n",
    "            else:\n",
    "                emb = vec[0:emsize]\n",
    "                features = word_features(w)\n",
    "                word_to_vec_map[w] = np.concatenate((emb,suf,features))\n",
    "\n",
    "        for w in vocabn:\n",
    "            words.add(w)\n",
    "            try:\n",
    "                vec = word_to_vec_map[w]\n",
    "            except:  \n",
    "                print(w)\n",
    "                features = word_features(w, unknown=True)\n",
    "                emb = np.zeros(emsize)\n",
    "                suf = suffix_vector(w)\n",
    "                word_to_vec_map[w] = np.concatenate((emb,suf,features))\n",
    "        \n",
    "                \n",
    "        i = 2  # keep 1 for unknown\n",
    "        words_to_index = {}\n",
    "        index_to_words = {}\n",
    "        for w in sorted(words):\n",
    "            words_to_index[w] = i\n",
    "            index_to_words[i] = w\n",
    "            i = i + 1\n",
    "    return words_to_index, index_to_words, word_to_vec_map\n"
   ]
  },
  {
   "cell_type": "code",
   "execution_count": 26,
   "metadata": {
    "collapsed": true
   },
   "outputs": [],
   "source": [
    "word_to_index, index_to_word, word_to_vec_map = read_vecs('vectors.txt')"
   ]
  },
  {
   "cell_type": "markdown",
   "metadata": {},
   "source": [
    "### 3.4 - The Embedding layer\n",
    "\n",
    "In Keras, the embedding matrix is represented as a \"layer\", and maps positive integers (indices corresponding to words) into dense vectors of fixed size (the embedding vectors). It can be trained or initialized with a pretrained embedding. In this part, we create an [Embedding()](https://keras.io/layers/embeddings/) layer in Keras, and initialize it with the fastTeX vectors loaded earlier in the notebook. \n",
    "\n",
    "The `Embedding()` layer takes an integer matrix of size (batch size, max input length) as input. This corresponds to sentences converted into lists of indices (integers), as shown in the figure below.\n",
    "\n",
    "The largest integer (i.e. word index) in the input should be no larger than the vocabulary size. The layer outputs an array of shape (batch size, max input length, dimension of word vectors).\n",
    "\n",
    "We first convert all our training sentences into lists of indices, and then zero-pad all these lists so that their length is the length of the longest sentence. \n",
    "\n",
    "**TODO**: I'd like try if it makes any difference to add the </s> end tag to the end of each sentence. "
   ]
  },
  {
   "cell_type": "code",
   "execution_count": 27,
   "metadata": {
    "collapsed": true
   },
   "outputs": [],
   "source": [
    "def lists_to_indices(X, item_to_index, max_len, normalize=False):\n",
    "\n",
    "    m = X.shape[0]                                   # number of training examples\n",
    "    \n",
    "    # Initialize X_indices as a numpy matrix of zeros and the correct shape (≈ 1 line)\n",
    "    X_indices = np.zeros((m,max_len))\n",
    "\n",
    "    for i in range(m):                               # loop over training examples\n",
    "        \n",
    "        # Convert the ith training sentence in lower case and split it into words. You should get a list of words.\n",
    "        list = X[i]\n",
    "\n",
    "        j = 0\n",
    "        \n",
    "        # Loop over the words of sentence_words\n",
    "        for w in list:\n",
    "            if normalize == True:\n",
    "                w = normalize_word(w)\n",
    "            # Set the (i,j)th entry of X_indices to the index of the correct word.\n",
    "            try:\n",
    "                print(\"Unknown: \", w)\n",
    "                X_indices[i, j] = item_to_index[w]\n",
    "            except:\n",
    "                X_indices[i, j] = 1  # unknown\n",
    "            # Increment j to j + 1\n",
    "            j = j + 1\n",
    "            \n",
    "    return X_indices\n"
   ]
  },
  {
   "cell_type": "code",
   "execution_count": 28,
   "metadata": {
    "collapsed": true
   },
   "outputs": [],
   "source": [
    "# GRADED FUNCTION: sentences_to_indices\n",
    "\n",
    "def sentences_to_indices(X, word_to_index, max_len):\n",
    "    \"\"\"\n",
    "    Converts an array of sentences (strings) into an array of indices corresponding to words in the sentences.\n",
    "    The output shape should be such that it can be given to `Embedding()` (described in Figure 4). \n",
    "    \n",
    "    Arguments:\n",
    "    X -- array of sentences (strings), of shape (m, 1)\n",
    "    word_to_index -- a dictionary containing the each word mapped to its index\n",
    "    max_len -- maximum number of words in a sentence. You can assume every sentence in X is no longer than this. \n",
    "    \n",
    "    Returns:\n",
    "    X_indices -- array of indices corresponding to words in the sentences from X, of shape (m, max_len)\n",
    "    \"\"\"\n",
    "    \n",
    "    m = X.shape[0]                                   # number of training examples\n",
    "    \n",
    "    ### START CODE HERE ###\n",
    "    # Initialize X_indices as a numpy matrix of zeros and the correct shape (≈ 1 line)\n",
    "    X_indices = np.zeros((m,max_len))\n",
    "    \n",
    "    for i in range(m):                               # loop over training examples\n",
    "        \n",
    "        # Convert the ith training sentence in lower case and split it into words. You should get a list of words.\n",
    "        sentence_words = X[i]\n",
    "        \n",
    "        # Initialize j to 0\n",
    "        j = 0\n",
    "        \n",
    "        # Loop over the words of sentence_words\n",
    "        for w in sentence_words:\n",
    "            w = normalize_word(w)\n",
    "            # Set the (i,j)th entry of X_indices to the index of the correct word.\n",
    "            try:\n",
    "                X_indices[i, j] = word_to_index[w]\n",
    "            except:\n",
    "                print(\"Unknown: \", w)\n",
    "                X_indices[i, j] = 1   # index for unknown words\n",
    "            # Increment j to j + 1\n",
    "            j = j + 1\n",
    "            \n",
    "    ### END CODE HERE ###\n",
    "    \n",
    "    return X_indices"
   ]
  },
  {
   "cell_type": "markdown",
   "metadata": {},
   "source": [
    "Run the following cell to check what `sentences_to_indices()` does, and check your results."
   ]
  },
  {
   "cell_type": "code",
   "execution_count": 29,
   "metadata": {
    "collapsed": false
   },
   "outputs": [
    {
     "data": {
      "text/plain": [
       "array([[  1.56960000e+04,   1.84410000e+04,   1.40000000e+01, ...,\n",
       "          0.00000000e+00,   0.00000000e+00,   0.00000000e+00],\n",
       "       [  2.29150000e+04,   1.44590000e+04,   1.56960000e+04, ...,\n",
       "          0.00000000e+00,   0.00000000e+00,   0.00000000e+00],\n",
       "       [  3.54280000e+04,   1.45310000e+04,   1.75100000e+03, ...,\n",
       "          0.00000000e+00,   0.00000000e+00,   0.00000000e+00],\n",
       "       ..., \n",
       "       [  1.76880000e+04,   1.47850000e+04,   1.40000000e+01, ...,\n",
       "          0.00000000e+00,   0.00000000e+00,   0.00000000e+00],\n",
       "       [  2.29150000e+04,   2.73950000e+04,   2.42880000e+04, ...,\n",
       "          0.00000000e+00,   0.00000000e+00,   0.00000000e+00],\n",
       "       [  2.22700000e+04,   9.78500000e+03,   3.34540000e+04, ...,\n",
       "          0.00000000e+00,   0.00000000e+00,   0.00000000e+00]])"
      ]
     },
     "execution_count": 29,
     "metadata": {},
     "output_type": "execute_result"
    }
   ],
   "source": [
    "sentences_to_indices(X_train, word_to_index, maxLen)"
   ]
  },
  {
   "cell_type": "markdown",
   "metadata": {},
   "source": [
    "We now build the `Embedding()` layer for use with Keras, using pre-trained word vectors. After this layer is built, we can pass the output of `sentences_to_indices()` to it as an input, and the `Embedding()` layer will return the word embeddings for a sentence. \n",
    "\n",
    "We use the following steps:\n",
    "1. Initialize the embedding matrix as a numpy array of zeroes with the correct shape.\n",
    "2. Fill in the embedding matrix with all the word embeddings extracted from `word_to_vec_map`.\n",
    "3. Define Keras embedding layer. Use [Embedding()](https://keras.io/layers/embeddings/). Be sure to make this layer non-trainable, by setting `trainable = False` when calling `Embedding()`. If you were to set `trainable = True`, then it will allow the optimization algorithm to modify the values of the word embeddings. \n",
    "4. Set the embedding weights to be equal to the embedding matrix "
   ]
  },
  {
   "cell_type": "code",
   "execution_count": 30,
   "metadata": {
    "collapsed": true
   },
   "outputs": [],
   "source": [
    "\n",
    "def pretrained_embedding_layer(word_to_vec_map, word_to_index):\n",
    "    \"\"\"\n",
    "    Creates a Keras Embedding() layer and loads in pre-trained GloVe 50-dimensional vectors.\n",
    "    \n",
    "    Arguments:\n",
    "    word_to_vec_map -- dictionary mapping words to their GloVe vector representation.\n",
    "    word_to_index -- dictionary mapping from words to their indices in the vocabulary (400,001 words)\n",
    "\n",
    "    Returns:\n",
    "    embedding_layer -- pretrained layer Keras instance\n",
    "    \"\"\"\n",
    "    \n",
    "    vocab_len = len(word_to_index) + 2                  # adding 1 to fit Keras embedding (requirement)\n",
    "    emb_dim = word_to_vec_map[\"aime\"].shape[0]      # define dimensionality of your GloVe word vectors (= 50)\n",
    "    \n",
    "    # Initialize the embedding matrix as a numpy array of zeros of shape (vocab_len, dimensions of word vectors = emb_dim)\n",
    "    emb_matrix = np.zeros((vocab_len,emb_dim))\n",
    "    \n",
    "    # Set each row \"index\" of the embedding matrix to be the word vector representation of the \"index\"th word of the vocabulary\n",
    "    for word, index in word_to_index.items():\n",
    "        emb_matrix[index, :] = word_to_vec_map[word]\n",
    "\n",
    "    # Define Keras embedding layer with the correct output/input sizes, make it trainable. Use Embedding(...). Make sure to set trainable=False. \n",
    "    embedding_layer = Embedding(vocab_len,emb_dim,trainable=False,mask_zero=True)\n",
    "    ### END CODE HERE ###\n",
    "\n",
    "    # Build the embedding layer, it is required before setting the weights of the embedding layer. Do not modify the \"None\".\n",
    "    embedding_layer.build((None,))\n",
    "    \n",
    "    # Set the weights of the embedding layer to the embedding matrix. Your layer is now pretrained.\n",
    "    embedding_layer.set_weights([emb_matrix])\n",
    "    \n",
    "    return embedding_layer"
   ]
  },
  {
   "cell_type": "code",
   "execution_count": 40,
   "metadata": {
    "collapsed": false
   },
   "outputs": [
    {
     "name": "stdout",
     "output_type": "stream",
     "text": [
      "weights[0][2][1] = 0.19175\n"
     ]
    }
   ],
   "source": [
    "embedding_layer = pretrained_embedding_layer(word_to_vec_map, word_to_index)\n",
    "print(\"weights[0][2][1] =\", embedding_layer.get_weights()[0][2][1])"
   ]
  },
  {
   "cell_type": "markdown",
   "metadata": {},
   "source": [
    "**Expected Output**:\n",
    "\n",
    "<table>\n",
    "    <tr>\n",
    "        <td>\n",
    "            **weights[0][2][1] =**\n",
    "        </td>\n",
    "        <td>\n",
    "           0.19175\n",
    "        </td>\n",
    "    </tr>\n",
    "</table>"
   ]
  },
  {
   "cell_type": "markdown",
   "metadata": {},
   "source": [
    "## 4. Building the Part-of-Speech tagger\n",
    "\n",
    "We now build the POS-tagger model using the previously built enbedding layer and feed its output to a bidirectional LSTM network with 128 states in each direction. \n",
    "\n"
   ]
  },
  {
   "cell_type": "code",
   "execution_count": 42,
   "metadata": {
    "collapsed": true
   },
   "outputs": [],
   "source": [
    "# POS_model\n",
    "\n",
    "def POS_model(input_shape, word_to_vec_map, word_to_index):\n",
    "    \"\"\"\n",
    "    Function creating the Emojify-v2 model's graph.\n",
    "    \n",
    "    Arguments:\n",
    "    input_shape -- shape of the input, usually (max_len,)\n",
    "    word_to_vec_map -- dictionary mapping every word in a vocabulary into its 50-dimensional vector representation\n",
    "    word_to_index -- dictionary mapping from words to their indices in the vocabulary (400,001 words)\n",
    "\n",
    "    Returns:\n",
    "    model -- a model instance in Keras\n",
    "    \"\"\"\n",
    "    \n",
    "    # Define sentence_indices as the input of the graph, it should be of shape input_shape and dtype 'int32' (as it contains indices).\n",
    "    sentence_indices = Input(shape = input_shape, dtype = 'int32')\n",
    "    \n",
    "    # Create the embedding layer pretrained with GloVe Vectors (≈1 line)\n",
    "    embedding_layer = pretrained_embedding_layer(word_to_vec_map, word_to_index)\n",
    "    \n",
    "    # Propagate sentence_indices through your embedding layer, you get back the embeddings\n",
    "    embeddings = embedding_layer(sentence_indices)   \n",
    "    \n",
    "    # Propagate the embeddings through an LSTM layer with 128-dimensional hidden state\n",
    "    # returning a batch of sequences.\n",
    "    X = LSTM(128, return_sequences=True)(embeddings)\n",
    "    X = BatchNormalization()(X)\n",
    "    Y = Dropout(0.2)(X)\n",
    "    # Add a (time distributed) Dense layer followed by a softmax activation\n",
    "    Y = TimeDistributed(Dense(numClasses, activation='softmax'))(Y)\n",
    "    \n",
    "    # Create Model instance which converts sentence_indices into X.\n",
    "    model = Model(inputs=sentence_indices,outputs=Y)\n",
    "        \n",
    "    return model"
   ]
  },
  {
   "cell_type": "markdown",
   "metadata": {},
   "source": [
    "Run the following cell to create your model and check its summary. Because all sentences in the dataset are less than 10 words, we chose `max_len = 10`.  You should see your architecture, it uses \"20,223,927\" parameters, of which 20,000,050 (the word embeddings) are non-trainable, and the remaining 223,877 are. Because our vocabulary size has 400,001 words (with valid indices from 0 to 400,000) there are 400,001\\*50 = 20,000,050 non-trainable parameters. "
   ]
  },
  {
   "cell_type": "code",
   "execution_count": 43,
   "metadata": {
    "collapsed": false,
    "scrolled": false
   },
   "outputs": [
    {
     "name": "stdout",
     "output_type": "stream",
     "text": [
      "_________________________________________________________________\n",
      "Layer (type)                 Output Shape              Param #   \n",
      "=================================================================\n",
      "input_1 (InputLayer)         (None, 266)               0         \n",
      "_________________________________________________________________\n",
      "embedding_11 (Embedding)     (None, 266, 512)          18222080  \n",
      "_________________________________________________________________\n",
      "lstm_1 (LSTM)                (None, 266, 128)          328192    \n",
      "_________________________________________________________________\n",
      "batch_normalization_1 (Batch (None, 266, 128)          512       \n",
      "_________________________________________________________________\n",
      "dropout_1 (Dropout)          (None, 266, 128)          0         \n",
      "_________________________________________________________________\n",
      "time_distributed_1 (TimeDist (None, 266, 32)           4128      \n",
      "=================================================================\n",
      "Total params: 18,554,912\n",
      "Trainable params: 332,576\n",
      "Non-trainable params: 18,222,336\n",
      "_________________________________________________________________\n"
     ]
    }
   ],
   "source": [
    "model = POS_model((maxLen,), word_to_vec_map, word_to_index)\n",
    "model.summary()"
   ]
  },
  {
   "cell_type": "markdown",
   "metadata": {},
   "source": [
    "As usual, after creating your model in Keras, you need to compile it and define what loss, optimizer and metrics your are want to use. Compile your model using `categorical_crossentropy` loss, `adam` optimizer and `['accuracy']` metrics:"
   ]
  },
  {
   "cell_type": "code",
   "execution_count": 44,
   "metadata": {
    "collapsed": true
   },
   "outputs": [],
   "source": [
    "model.compile(loss='categorical_crossentropy', optimizer='adam', metrics=['accuracy'])"
   ]
  },
  {
   "cell_type": "markdown",
   "metadata": {},
   "source": [
    "It's time to train your model. Your Emojifier-V2 `model` takes as input an array of shape (`m`, `max_len`) and outputs probability vectors of shape (`m`, `number of classes`). We thus have to convert X_train (array of sentences as strings) to X_train_indices (array of sentences as list of word indices), and Y_train (labels as indices) to Y_train_oh (labels as one-hot vectors)."
   ]
  },
  {
   "cell_type": "code",
   "execution_count": 45,
   "metadata": {
    "collapsed": false
   },
   "outputs": [
    {
     "name": "stdout",
     "output_type": "stream",
     "text": [
      "{'PUN:cit': 1, 'VER:futu': 2, 'DET:ART': 3, 'PRO:POS': 21, 'DET:POS': 24, 'NAM': 4, 'VER:simp': 5, 'PRO:REL': 23, 'PRP': 6, 'VER:pres': 7, 'VER:cond': 8, 'PRO': 25, 'SYM': 9, 'INT': 11, 'VER:infi': 12, 'PRP:det': 26, 'VER:impe': 27, 'NOM': 13, 'VER:subp': 14, 'VER:pper': 15, 'VER:impf': 16, 'ADJ': 28, 'PRO:PER': 29, 'PRO:IND': 17, 'PUN': 18, 'VER:ppre': 30, 'ADV': 31, 'ABR': 22, 'NUM': 19, 'KON': 10, 'PRO:DEM': 20}\n"
     ]
    }
   ],
   "source": [
    "print(pos2_to_index)\n",
    "X_train_indices = lists_to_indices(X_train, word_to_index, maxLen)\n",
    "Y_train_indices = lists_to_indices(Y_train, pos2_to_index, maxLen)\n",
    "Y_train_oh = to_categorical(Y_train_indices, num_classes=numClasses)"
   ]
  },
  {
   "cell_type": "code",
   "execution_count": 46,
   "metadata": {
    "collapsed": false
   },
   "outputs": [
    {
     "name": "stdout",
     "output_type": "stream",
     "text": [
      "[  3.   4.  26.   4.   6.  13.  18.  22.  18.  16.  15.   3.  19.  13.  26.\n",
      "  28.   4.   4.   6.  12.   3.  13.  28.   6.   4.  18.   6.  12.  15.  10.\n",
      "   3.  19.  13.  13.  28.  16.  15.  18.   6.  29.  12.  18.   3.  13.  26.\n",
      "  13.  26.  13.   6.  20.  13.  18.   0.   0.   0.   0.   0.   0.   0.   0.\n",
      "   0.   0.   0.   0.   0.   0.   0.   0.   0.   0.   0.   0.   0.   0.   0.\n",
      "   0.   0.   0.   0.   0.   0.   0.   0.   0.   0.   0.   0.   0.   0.   0.\n",
      "   0.   0.   0.   0.   0.   0.   0.   0.   0.   0.   0.   0.   0.   0.   0.\n",
      "   0.   0.   0.   0.   0.   0.   0.   0.   0.   0.   0.   0.   0.   0.   0.\n",
      "   0.   0.   0.   0.   0.   0.   0.   0.   0.   0.   0.   0.   0.   0.   0.\n",
      "   0.   0.   0.   0.   0.   0.   0.   0.   0.   0.   0.   0.   0.   0.   0.\n",
      "   0.   0.   0.   0.   0.   0.   0.   0.   0.   0.   0.   0.   0.   0.   0.\n",
      "   0.   0.   0.   0.   0.   0.   0.   0.   0.   0.   0.   0.   0.   0.   0.\n",
      "   0.   0.   0.   0.   0.   0.   0.   0.   0.   0.   0.   0.   0.   0.   0.\n",
      "   0.   0.   0.   0.   0.   0.   0.   0.   0.   0.   0.   0.   0.   0.   0.\n",
      "   0.   0.   0.   0.   0.   0.   0.   0.   0.   0.   0.   0.   0.   0.   0.\n",
      "   0.   0.   0.   0.   0.   0.   0.   0.   0.   0.   0.   0.   0.   0.   0.\n",
      "   0.   0.   0.   0.   0.   0.   0.   0.   0.   0.   0.   0.   0.   0.   0.\n",
      "   0.   0.   0.   0.   0.   0.   0.   0.   0.   0.   0.]\n",
      "[[ 0.  0.  0. ...,  0.  0.  0.]\n",
      " [ 0.  0.  0. ...,  0.  0.  0.]\n",
      " [ 0.  0.  0. ...,  0.  0.  0.]\n",
      " ..., \n",
      " [ 1.  0.  0. ...,  0.  0.  0.]\n",
      " [ 1.  0.  0. ...,  0.  0.  0.]\n",
      " [ 1.  0.  0. ...,  0.  0.  0.]]\n"
     ]
    }
   ],
   "source": [
    "print(Y_train_indices[1])\n",
    "print(Y_train_oh[1])"
   ]
  },
  {
   "cell_type": "markdown",
   "metadata": {},
   "source": [
    "Fit the Keras model on `X_train_indices` and `Y_train_oh`. We will use `epochs = 50` and `batch_size = 32`."
   ]
  },
  {
   "cell_type": "code",
   "execution_count": null,
   "metadata": {
    "collapsed": false,
    "scrolled": true
   },
   "outputs": [
    {
     "name": "stdout",
     "output_type": "stream",
     "text": [
      "Epoch 1/50\n",
      "9449/9449 [==============================] - 481s 51ms/step - loss: 0.4102 - acc: 0.8951\n",
      "Epoch 2/50\n",
      "9449/9449 [==============================] - 496s 52ms/step - loss: 0.0883 - acc: 0.9752\n",
      "Epoch 3/50\n",
      "9449/9449 [==============================] - 537s 57ms/step - loss: 0.0697 - acc: 0.9795\n",
      "Epoch 4/50\n",
      "9449/9449 [==============================] - 553s 58ms/step - loss: 0.0600 - acc: 0.9822\n",
      "Epoch 5/50\n",
      "9449/9449 [==============================] - 537s 57ms/step - loss: 0.0541 - acc: 0.9836\n",
      "Epoch 6/50\n",
      "9449/9449 [==============================] - 591s 63ms/step - loss: 0.0486 - acc: 0.9850\n",
      "Epoch 7/50\n",
      "9449/9449 [==============================] - 545s 58ms/step - loss: 0.0444 - acc: 0.9862\n",
      "Epoch 8/50\n",
      "9449/9449 [==============================] - 524s 55ms/step - loss: 0.0404 - acc: 0.9873\n",
      "Epoch 9/50\n",
      "9449/9449 [==============================] - 553s 59ms/step - loss: 0.0366 - acc: 0.9886\n",
      "Epoch 10/50\n",
      "9449/9449 [==============================] - 562s 59ms/step - loss: 0.0340 - acc: 0.9893\n",
      "Epoch 11/50\n",
      "9449/9449 [==============================] - 565s 60ms/step - loss: 0.0316 - acc: 0.9899\n",
      "Epoch 12/50\n",
      "9449/9449 [==============================] - 593s 63ms/step - loss: 0.0294 - acc: 0.9906\n",
      "Epoch 13/50\n",
      "9449/9449 [==============================] - 587s 62ms/step - loss: 0.0270 - acc: 0.9911\n",
      "Epoch 14/50\n",
      "9449/9449 [==============================] - 581s 61ms/step - loss: 0.0249 - acc: 0.9919\n",
      "Epoch 15/50\n",
      "9449/9449 [==============================] - 582s 62ms/step - loss: 0.0228 - acc: 0.9928\n",
      "Epoch 16/50\n",
      "9449/9449 [==============================] - 560s 59ms/step - loss: 0.0212 - acc: 0.9932\n",
      "Epoch 17/50\n",
      "9449/9449 [==============================] - 567s 60ms/step - loss: 0.0192 - acc: 0.9938\n",
      "Epoch 18/50\n",
      "9449/9449 [==============================] - 583s 62ms/step - loss: 0.0180 - acc: 0.9941\n",
      "Epoch 19/50\n",
      "9449/9449 [==============================] - 582s 62ms/step - loss: 0.0170 - acc: 0.9944\n",
      "Epoch 20/50\n",
      "9449/9449 [==============================] - 582s 62ms/step - loss: 0.0152 - acc: 0.9950\n",
      "Epoch 21/50\n",
      "9449/9449 [==============================] - 586s 62ms/step - loss: 0.0138 - acc: 0.9954\n",
      "Epoch 22/50\n",
      "9449/9449 [==============================] - 562s 59ms/step - loss: 0.0134 - acc: 0.9955\n",
      "Epoch 23/50\n",
      "8640/9449 [==========================>...] - ETA: 49s - loss: 0.0121 - acc: 0.9959"
     ]
    }
   ],
   "source": [
    "model.fit(X_train_indices, Y_train_oh, epochs = 50, batch_size = 32, shuffle=True)"
   ]
  },
  {
   "cell_type": "markdown",
   "metadata": {},
   "source": [
    "Your model should perform close to **100% accuracy** on the training set. The exact accuracy you get may be a little different. Run the following cell to evaluate your model on the test set. "
   ]
  },
  {
   "cell_type": "code",
   "execution_count": 331,
   "metadata": {
    "collapsed": false,
    "scrolled": true
   },
   "outputs": [
    {
     "name": "stdout",
     "output_type": "stream",
     "text": [
      "3150/3150 [==============================] - 20s 6ms/step\n",
      "\n",
      "Test accuracy =  0.98499766505\n"
     ]
    }
   ],
   "source": [
    "X_dev_indices = lists_to_indices(X_dev, word_to_index, max_len = maxLen)\n",
    "Y_dev_indices = lists_to_indices(Y_dev, pos2_to_index, max_len = maxLen)\n",
    "Y_dev_oh = to_categorical(Y_dev_indices, num_classes = numClasses)\n",
    "loss, acc = model.evaluate(X_dev_indices, Y_dev_oh)\n",
    "print()\n",
    "print(\"Test accuracy = \", acc)"
   ]
  },
  {
   "cell_type": "markdown",
   "metadata": {},
   "source": [
    "You should get a test accuracy of about 94.8% for a vanilla model using only aa1.txt.\n",
    "A vanilla POS model on the full training set gets a dev accuracy of 98.50%!"
   ]
  },
  {
   "cell_type": "code",
   "execution_count": 39,
   "metadata": {
    "collapsed": true
   },
   "outputs": [],
   "source": [
    "def plot_confusion_matrix(y_actu, y_pred, title='Confusion matrix', cmap=plt.cm.gray_r):\n",
    "    \n",
    "    df_confusion = pd.crosstab(y_actu, y_pred.reshape(y_pred.shape[0],), rownames=['Actual'], colnames=['Predicted'], margins=True)\n",
    "    \n",
    "    df_conf_norm = df_confusion / df_confusion.sum(axis=1)\n",
    "    \n",
    "    plt.matshow(df_confusion, cmap=cmap) # imshow\n",
    "    #plt.title(title)\n",
    "    plt.colorbar()\n",
    "    tick_marks = np.arange(len(df_confusion.columns))\n",
    "    plt.xticks(tick_marks, df_confusion.columns, rotation=45)\n",
    "    plt.yticks(tick_marks, df_confusion.index)\n",
    "    #plt.tight_layout()\n",
    "    plt.ylabel(df_confusion.index.name)\n",
    "    plt.xlabel(df_confusion.columns.name)\n"
   ]
  },
  {
   "cell_type": "code",
   "execution_count": 332,
   "metadata": {
    "collapsed": false
   },
   "outputs": [
    {
     "ename": "NameError",
     "evalue": "name 'pd' is not defined",
     "output_type": "error",
     "traceback": [
      "\u001b[0;31m---------------------------------------------------------------------------\u001b[0m",
      "\u001b[0;31mNameError\u001b[0m                                 Traceback (most recent call last)",
      "\u001b[0;32m<ipython-input-332-add4178eaa3b>\u001b[0m in \u001b[0;36m<module>\u001b[0;34m()\u001b[0m\n\u001b[1;32m      4\u001b[0m \u001b[0;31m# print('           '+ label_to_emoji(0)+ '    ' + label_to_emoji(1) + '    ' +  label_to_emoji(2)+ '    ' + label_to_emoji(3)+'   ' + label_to_emoji(4))\u001b[0m\u001b[0;34m\u001b[0m\u001b[0;34m\u001b[0m\u001b[0m\n\u001b[1;32m      5\u001b[0m \u001b[0;31m# print(pd.crosstab(Y_dev, pred_test.reshape(56,), rownames=['Actual'], colnames=['Predicted'], margins=True))\u001b[0m\u001b[0;34m\u001b[0m\u001b[0;34m\u001b[0m\u001b[0m\n\u001b[0;32m----> 6\u001b[0;31m \u001b[0mplot_confusion_matrix\u001b[0m\u001b[0;34m(\u001b[0m\u001b[0mY_dev\u001b[0m\u001b[0;34m,\u001b[0m \u001b[0mpred\u001b[0m\u001b[0;34m)\u001b[0m\u001b[0;34m\u001b[0m\u001b[0m\n\u001b[0m",
      "\u001b[0;32m<ipython-input-39-196d75cfaa8c>\u001b[0m in \u001b[0;36mplot_confusion_matrix\u001b[0;34m(y_actu, y_pred, title, cmap)\u001b[0m\n\u001b[1;32m      1\u001b[0m \u001b[0;32mdef\u001b[0m \u001b[0mplot_confusion_matrix\u001b[0m\u001b[0;34m(\u001b[0m\u001b[0my_actu\u001b[0m\u001b[0;34m,\u001b[0m \u001b[0my_pred\u001b[0m\u001b[0;34m,\u001b[0m \u001b[0mtitle\u001b[0m\u001b[0;34m=\u001b[0m\u001b[0;34m'Confusion matrix'\u001b[0m\u001b[0;34m,\u001b[0m \u001b[0mcmap\u001b[0m\u001b[0;34m=\u001b[0m\u001b[0mplt\u001b[0m\u001b[0;34m.\u001b[0m\u001b[0mcm\u001b[0m\u001b[0;34m.\u001b[0m\u001b[0mgray_r\u001b[0m\u001b[0;34m)\u001b[0m\u001b[0;34m:\u001b[0m\u001b[0;34m\u001b[0m\u001b[0m\n\u001b[1;32m      2\u001b[0m \u001b[0;34m\u001b[0m\u001b[0m\n\u001b[0;32m----> 3\u001b[0;31m     \u001b[0mdf_confusion\u001b[0m \u001b[0;34m=\u001b[0m \u001b[0mpd\u001b[0m\u001b[0;34m.\u001b[0m\u001b[0mcrosstab\u001b[0m\u001b[0;34m(\u001b[0m\u001b[0my_actu\u001b[0m\u001b[0;34m,\u001b[0m \u001b[0my_pred\u001b[0m\u001b[0;34m.\u001b[0m\u001b[0mreshape\u001b[0m\u001b[0;34m(\u001b[0m\u001b[0my_pred\u001b[0m\u001b[0;34m.\u001b[0m\u001b[0mshape\u001b[0m\u001b[0;34m[\u001b[0m\u001b[0;36m0\u001b[0m\u001b[0;34m]\u001b[0m\u001b[0;34m,\u001b[0m\u001b[0;34m)\u001b[0m\u001b[0;34m,\u001b[0m \u001b[0mrownames\u001b[0m\u001b[0;34m=\u001b[0m\u001b[0;34m[\u001b[0m\u001b[0;34m'Actual'\u001b[0m\u001b[0;34m]\u001b[0m\u001b[0;34m,\u001b[0m \u001b[0mcolnames\u001b[0m\u001b[0;34m=\u001b[0m\u001b[0;34m[\u001b[0m\u001b[0;34m'Predicted'\u001b[0m\u001b[0;34m]\u001b[0m\u001b[0;34m,\u001b[0m \u001b[0mmargins\u001b[0m\u001b[0;34m=\u001b[0m\u001b[0;32mTrue\u001b[0m\u001b[0;34m)\u001b[0m\u001b[0;34m\u001b[0m\u001b[0m\n\u001b[0m\u001b[1;32m      4\u001b[0m \u001b[0;34m\u001b[0m\u001b[0m\n\u001b[1;32m      5\u001b[0m     \u001b[0mdf_conf_norm\u001b[0m \u001b[0;34m=\u001b[0m \u001b[0mdf_confusion\u001b[0m \u001b[0;34m/\u001b[0m \u001b[0mdf_confusion\u001b[0m\u001b[0;34m.\u001b[0m\u001b[0msum\u001b[0m\u001b[0;34m(\u001b[0m\u001b[0maxis\u001b[0m\u001b[0;34m=\u001b[0m\u001b[0;36m1\u001b[0m\u001b[0;34m)\u001b[0m\u001b[0;34m\u001b[0m\u001b[0m\n",
      "\u001b[0;31mNameError\u001b[0m: name 'pd' is not defined"
     ]
    }
   ],
   "source": [
    "X_dev_indices = lists_to_indices(X_test, word_to_index, maxLen)\n",
    "pred = model.predict(X_dev_indices)\n",
    "\n",
    "# print('           '+ label_to_emoji(0)+ '    ' + label_to_emoji(1) + '    ' +  label_to_emoji(2)+ '    ' + label_to_emoji(3)+'   ' + label_to_emoji(4))\n",
    "# print(pd.crosstab(Y_dev, pred_test.reshape(56,), rownames=['Actual'], colnames=['Predicted'], margins=True))\n",
    "plot_confusion_matrix(Y_dev, pred)"
   ]
  },
  {
   "cell_type": "code",
   "execution_count": 333,
   "metadata": {
    "collapsed": false
   },
   "outputs": [
    {
     "name": "stdout",
     "output_type": "stream",
     "text": [
      "Expected POS tag: La|DET:ART prediction: La|PRP\n",
      "Expected POS tag: n'|ADV prediction: n'|NOM\n",
      "Expected POS tag: est|VER:pres prediction: est|KON\n",
      "Expected POS tag: pas|ADV prediction: pas|ADJ\n",
      "Expected POS tag: réglementée|VER:pper prediction: réglementée|PUN\n",
      "Expected POS tag: comme|ADV prediction: comme|PRO:DEM\n",
      "Expected POS tag: celles|PRO:DEM prediction: celles|NOM\n",
      "Expected POS tag: des|PRP:det prediction: des|PRO:PER\n",
      "Expected POS tag: guides|NOM prediction: guides|VER:pres\n",
      "Expected POS tag: interprètes|NOM prediction: interprètes|PUN:cit\n",
      "Expected POS tag: ou|KON prediction: ou|PRP\n",
      "Expected POS tag: des|PRP:det prediction: des|DET:ART\n",
      "Expected POS tag: de|PRP prediction: de|VER:ppre\n",
      "Expected POS tag: voyage|NOM prediction: voyage|PRP\n",
      "Expected POS tag: .|PUN prediction: .|NOM\n"
     ]
    },
    {
     "ename": "IndexError",
     "evalue": "list index out of range",
     "output_type": "error",
     "traceback": [
      "\u001b[0;31m---------------------------------------------------------------------------\u001b[0m",
      "\u001b[0;31mIndexError\u001b[0m                                Traceback (most recent call last)",
      "\u001b[0;32m<ipython-input-333-de0007d47e3b>\u001b[0m in \u001b[0;36m<module>\u001b[0;34m()\u001b[0m\n\u001b[1;32m     10\u001b[0m         \u001b[0mnum\u001b[0m \u001b[0;34m=\u001b[0m \u001b[0mnp\u001b[0m\u001b[0;34m.\u001b[0m\u001b[0margmax\u001b[0m\u001b[0;34m(\u001b[0m\u001b[0mpred\u001b[0m\u001b[0;34m[\u001b[0m\u001b[0mi\u001b[0m\u001b[0;34m]\u001b[0m\u001b[0;34m[\u001b[0m\u001b[0mj\u001b[0m\u001b[0;34m]\u001b[0m\u001b[0;34m)\u001b[0m\u001b[0;34m\u001b[0m\u001b[0m\n\u001b[1;32m     11\u001b[0m         \u001b[0;32mif\u001b[0m\u001b[0;34m(\u001b[0m\u001b[0mnum\u001b[0m \u001b[0;34m!=\u001b[0m \u001b[0mY_dev_indices\u001b[0m\u001b[0;34m[\u001b[0m\u001b[0mi\u001b[0m\u001b[0;34m]\u001b[0m\u001b[0;34m[\u001b[0m\u001b[0mj\u001b[0m\u001b[0;34m]\u001b[0m\u001b[0;34m)\u001b[0m\u001b[0;34m:\u001b[0m\u001b[0;34m\u001b[0m\u001b[0m\n\u001b[0;32m---> 12\u001b[0;31m             \u001b[0mprint\u001b[0m\u001b[0;34m(\u001b[0m\u001b[0;34m'Expected POS tag: '\u001b[0m\u001b[0;34m+\u001b[0m \u001b[0mX_dev\u001b[0m\u001b[0;34m[\u001b[0m\u001b[0mi\u001b[0m\u001b[0;34m]\u001b[0m\u001b[0;34m[\u001b[0m\u001b[0mj\u001b[0m\u001b[0;34m]\u001b[0m \u001b[0;34m+\u001b[0m \u001b[0;34m'|'\u001b[0m \u001b[0;34m+\u001b[0m \u001b[0mY_dev\u001b[0m\u001b[0;34m[\u001b[0m\u001b[0mi\u001b[0m\u001b[0;34m]\u001b[0m\u001b[0;34m[\u001b[0m\u001b[0mj\u001b[0m\u001b[0;34m]\u001b[0m \u001b[0;34m+\u001b[0m \u001b[0;34m' prediction: '\u001b[0m\u001b[0;34m+\u001b[0m \u001b[0mX_dev\u001b[0m\u001b[0;34m[\u001b[0m\u001b[0mi\u001b[0m\u001b[0;34m]\u001b[0m\u001b[0;34m[\u001b[0m\u001b[0mj\u001b[0m\u001b[0;34m]\u001b[0m \u001b[0;34m+\u001b[0m \u001b[0;34m'|'\u001b[0m \u001b[0;34m+\u001b[0m \u001b[0mindex_to_pos2\u001b[0m\u001b[0;34m[\u001b[0m\u001b[0mnum\u001b[0m\u001b[0;34m]\u001b[0m\u001b[0;34m)\u001b[0m\u001b[0;34m\u001b[0m\u001b[0m\n\u001b[0m",
      "\u001b[0;31mIndexError\u001b[0m: list index out of range"
     ]
    }
   ],
   "source": [
    "# This code allows you to see the mislabelled examples\n",
    "\n",
    "y_dev_oh = to_categorical(Y_dev_indices, num_classes = numClasses)\n",
    "X_dev_indices = lists_to_indices(X_test, word_to_index, maxLen)\n",
    "pred = model.predict(X_dev_indices)\n",
    "\n",
    "for i in range(len(X_dev)):\n",
    "    x = X_dev_indices\n",
    "    for j in range(maxLen):\n",
    "        num = np.argmax(pred[i][j])\n",
    "        if(num != Y_dev_indices[i][j]):\n",
    "            print('Expected POS tag: '+ X_dev[i][j] + '|' + Y_dev[i][j] + ' prediction: '+ X_dev[i][j] + '|' + index_to_pos2[num])"
   ]
  },
  {
   "cell_type": "markdown",
   "metadata": {},
   "source": [
    "### POStagger results on development set\n",
    "\n",
    "| tagset | LTSM units | batchnorm | dropout | epochs | results |\n",
    "|:-----|---------:|:----------:|-------:|-----:|----------:|\n",
    "| tt | 128 | no | 0 |  50 | 98.50 |\n"
   ]
  },
  {
   "cell_type": "code",
   "execution_count": 334,
   "metadata": {
    "collapsed": true
   },
   "outputs": [],
   "source": [
    "model.save('tt_pos.h5')"
   ]
  },
  {
   "cell_type": "markdown",
   "metadata": {},
   "source": [
    "## 5. Training the Supertagger\n",
    "\n",
    "We split the data as before, only using Z (supertags) instead of Y2 (treetagger POStag set) as the goal"
   ]
  },
  {
   "cell_type": "code",
   "execution_count": 335,
   "metadata": {
    "collapsed": false
   },
   "outputs": [
    {
     "name": "stdout",
     "output_type": "stream",
     "text": [
      "Train:  (9449,)\n",
      "Test:   (3150,)\n",
      "Dev:    (3150,)\n"
     ]
    }
   ],
   "source": [
    "# split the training data into the standard 60% train, 20% dev, 20% test \n",
    "X_train, X_testdev, Y_train, Y_testdev = train_test_split(X, Z, test_size=0.4)\n",
    "X_test, X_dev, Y_test, Y_dev = train_test_split(X_testdev, Y_testdev, test_size=0.5)\n",
    "print(\"Train: \", X_train.shape)\n",
    "print(\"Test:  \", X_test.shape)\n",
    "print(\"Dev:   \", X_dev.shape)"
   ]
  },
  {
   "cell_type": "code",
   "execution_count": 349,
   "metadata": {
    "collapsed": true
   },
   "outputs": [],
   "source": [
    "# Super_model\n",
    "\n",
    "def Super_model(input_shape, word_to_vec_map, word_to_index):\n",
    "    \"\"\"\n",
    "    Function creating the Emojify-v2 model's graph.\n",
    "    \n",
    "    Arguments:\n",
    "    input_shape -- shape of the input, usually (max_len,)\n",
    "    word_to_vec_map -- dictionary mapping every word in a vocabulary into its 50-dimensional vector representation\n",
    "    word_to_index -- dictionary mapping from words to their indices in the vocabulary (400,001 words)\n",
    "\n",
    "    Returns:\n",
    "    model -- a model instance in Keras\n",
    "    \"\"\"\n",
    "    \n",
    "    # Define sentence_indices as the input of the graph, it should be of shape input_shape and dtype 'int32' (as it contains indices).\n",
    "    sentence_indices = Input(shape = input_shape, dtype = 'int32')\n",
    "    \n",
    "    # Create the embedding layer pretrained with GloVe Vectors (≈1 line)\n",
    "    embedding_layer = pretrained_embedding_layer(word_to_vec_map, word_to_index)\n",
    "    \n",
    "    # Propagate sentence_indices through your embedding layer, you get back the embeddings\n",
    "    embeddings = embedding_layer(sentence_indices)   \n",
    "    \n",
    "    # Propagate the embeddings through an LSTM layer with 128-dimensional hidden state\n",
    "    # returning a batch of sequences.\n",
    "    X = LSTM(256, return_sequences=True)(embeddings) \n",
    "    X = BatchNormalization()(X)\n",
    "    X = Dropout(0.2)(X)\n",
    "    \n",
    "    # Add a (time distributed) Dense layer followed by a softmax activation\n",
    "    X = TimeDistributed(Dense(numSuperClasses, activation='softmax'))(X)\n",
    "    \n",
    "    # Create Model instance which converts sentence_indices into X.\n",
    "    model = Model(inputs=sentence_indices,outputs=X)\n",
    "        \n",
    "    return model"
   ]
  },
  {
   "cell_type": "code",
   "execution_count": 350,
   "metadata": {
    "collapsed": false
   },
   "outputs": [
    {
     "name": "stdout",
     "output_type": "stream",
     "text": [
      "_________________________________________________________________\n",
      "Layer (type)                 Output Shape              Param #   \n",
      "=================================================================\n",
      "input_11 (InputLayer)        (None, 266)               0         \n",
      "_________________________________________________________________\n",
      "embedding_17 (Embedding)     (None, 266, 512)          18221056  \n",
      "_________________________________________________________________\n",
      "lstm_11 (LSTM)               (None, 266, 256)          787456    \n",
      "_________________________________________________________________\n",
      "batch_normalization_2 (Batch (None, 266, 256)          1024      \n",
      "_________________________________________________________________\n",
      "dropout_2 (Dropout)          (None, 266, 256)          0         \n",
      "_________________________________________________________________\n",
      "time_distributed_10 (TimeDis (None, 266, 891)          228987    \n",
      "=================================================================\n",
      "Total params: 19,238,523\n",
      "Trainable params: 1,016,955\n",
      "Non-trainable params: 18,221,568\n",
      "_________________________________________________________________\n"
     ]
    }
   ],
   "source": [
    "supermodel = Super_model((maxLen,), word_to_vec_map, word_to_index)\n",
    "supermodel.summary()"
   ]
  },
  {
   "cell_type": "code",
   "execution_count": 351,
   "metadata": {
    "collapsed": true
   },
   "outputs": [],
   "source": [
    "supermodel.compile(loss='categorical_crossentropy', optimizer='adam', metrics=['accuracy'])"
   ]
  },
  {
   "cell_type": "code",
   "execution_count": 352,
   "metadata": {
    "collapsed": true
   },
   "outputs": [],
   "source": [
    "X_train_indices = lists_to_indices(X_train, word_to_index, maxLen)\n",
    "Y_train_indices = lists_to_indices(Y_train, super_to_index, maxLen)\n",
    "Y_train_oh = to_categorical(Y_train_indices, num_classes=numSuperClasses)"
   ]
  },
  {
   "cell_type": "code",
   "execution_count": null,
   "metadata": {
    "collapsed": false
   },
   "outputs": [
    {
     "name": "stdout",
     "output_type": "stream",
     "text": [
      "[ 100.   22.  843.  844.   22.  874.   22.  874.   22.   23.    0.    0.\n",
      "    0.    0.    0.    0.    0.    0.    0.    0.    0.    0.    0.    0.\n",
      "    0.    0.    0.    0.    0.    0.    0.    0.    0.    0.    0.    0.\n",
      "    0.    0.    0.    0.    0.    0.    0.    0.    0.    0.    0.    0.\n",
      "    0.    0.    0.    0.    0.    0.    0.    0.    0.    0.    0.    0.\n",
      "    0.    0.    0.    0.    0.    0.    0.    0.    0.    0.    0.    0.\n",
      "    0.    0.    0.    0.    0.    0.    0.    0.    0.    0.    0.    0.\n",
      "    0.    0.    0.    0.    0.    0.    0.    0.    0.    0.    0.    0.\n",
      "    0.    0.    0.    0.    0.    0.    0.    0.    0.    0.    0.    0.\n",
      "    0.    0.    0.    0.    0.    0.    0.    0.    0.    0.    0.    0.\n",
      "    0.    0.    0.    0.    0.    0.    0.    0.    0.    0.    0.    0.\n",
      "    0.    0.    0.    0.    0.    0.    0.    0.    0.    0.    0.    0.\n",
      "    0.    0.    0.    0.    0.    0.    0.    0.    0.    0.    0.    0.\n",
      "    0.    0.    0.    0.    0.    0.    0.    0.    0.    0.    0.    0.\n",
      "    0.    0.    0.    0.    0.    0.    0.    0.    0.    0.    0.    0.\n",
      "    0.    0.    0.    0.    0.    0.    0.    0.    0.    0.    0.    0.\n",
      "    0.    0.    0.    0.    0.    0.    0.    0.    0.    0.    0.    0.\n",
      "    0.    0.    0.    0.    0.    0.    0.    0.    0.    0.    0.    0.\n",
      "    0.    0.    0.    0.    0.    0.    0.    0.    0.    0.    0.    0.\n",
      "    0.    0.    0.    0.    0.    0.    0.    0.    0.    0.    0.    0.\n",
      "    0.    0.    0.    0.    0.    0.    0.    0.    0.    0.    0.    0.\n",
      "    0.    0.    0.    0.    0.    0.    0.    0.    0.    0.    0.    0.\n",
      "    0.    0.]\n",
      "[[ 0.  0.  0. ...,  0.  0.  0.]\n",
      " [ 0.  0.  0. ...,  0.  0.  0.]\n",
      " [ 0.  0.  0. ...,  0.  0.  0.]\n",
      " ..., \n",
      " [ 1.  0.  0. ...,  0.  0.  0.]\n",
      " [ 1.  0.  0. ...,  0.  0.  0.]\n",
      " [ 1.  0.  0. ...,  0.  0.  0.]]\n"
     ]
    }
   ],
   "source": [
    "print(Y_train_indices[2])\n",
    "print(Y_train_oh[2])"
   ]
  },
  {
   "cell_type": "code",
   "execution_count": null,
   "metadata": {
    "collapsed": false
   },
   "outputs": [
    {
     "name": "stdout",
     "output_type": "stream",
     "text": [
      "Epoch 1/50\n",
      "9449/9449 [==============================] - 715s 76ms/step - loss: 1.3650 - acc: 0.7006\n",
      "Epoch 2/50\n",
      "9449/9449 [==============================] - 650s 69ms/step - loss: 0.7712 - acc: 0.7871\n",
      "Epoch 3/50\n",
      "9449/9449 [==============================] - 663s 70ms/step - loss: 0.6856 - acc: 0.8024\n",
      "Epoch 4/50\n",
      "9449/9449 [==============================] - 647s 69ms/step - loss: 0.6354 - acc: 0.8122\n",
      "Epoch 5/50\n",
      "9449/9449 [==============================] - 643s 68ms/step - loss: 0.5958 - acc: 0.8217\n",
      "Epoch 6/50\n",
      "4384/9449 [============>.................] - ETA: 5:53 - loss: 0.5541 - acc: 0.8302"
     ]
    }
   ],
   "source": [
    "supermodel.fit(X_train_indices, Y_train_oh, epochs = 50, batch_size = 32, shuffle=True)"
   ]
  },
  {
   "cell_type": "code",
   "execution_count": 348,
   "metadata": {
    "collapsed": false
   },
   "outputs": [
    {
     "name": "stdout",
     "output_type": "stream",
     "text": [
      "3150/3150 [==============================] - 50s 16ms/step\n",
      "\n",
      "Test accuracy =  0.802067654133\n"
     ]
    }
   ],
   "source": [
    "X_dev_indices = lists_to_indices(X_dev, word_to_index, max_len = maxLen)\n",
    "Y_dev_indices = lists_to_indices(Y_dev, super_to_index, max_len = maxLen)\n",
    "Y_dev_oh = to_categorical(Y_dev_indices, num_classes = numSuperClasses)\n",
    "loss, acc = supermodel.evaluate(X_dev_indices, Y_dev_oh)\n",
    "print()\n",
    "print(\"Test accuracy = \", acc)"
   ]
  },
  {
   "cell_type": "code",
   "execution_count": null,
   "metadata": {
    "collapsed": true
   },
   "outputs": [],
   "source": [
    "model.save('supertagger.h5')"
   ]
  },
  {
   "cell_type": "markdown",
   "metadata": {},
   "source": [
    "### Supertagger results on development set\n",
    "\n",
    "| LTSM units | batchnorm | dropout | epochs | results |\n",
    "|---------:|:----------:|-------:|----:|----------:|\n",
    "| 128 | yes | .2 |  50 | 80.21 |\n",
    "| 256 | yes | .2 |  50 | |"
   ]
  },
  {
   "cell_type": "code",
   "execution_count": null,
   "metadata": {
    "collapsed": true
   },
   "outputs": [],
   "source": []
  }
 ],
 "metadata": {
  "coursera": {
   "course_slug": "nlp-sequence-models",
   "graded_item_id": "RNnEs",
   "launcher_item_id": "acNYU"
  },
  "kernelspec": {
   "display_name": "Python 3",
   "language": "python",
   "name": "python3"
  },
  "language_info": {
   "codemirror_mode": {
    "name": "ipython",
    "version": 3
   },
   "file_extension": ".py",
   "mimetype": "text/x-python",
   "name": "python",
   "nbconvert_exporter": "python",
   "pygments_lexer": "ipython3",
   "version": "3.5.4"
  }
 },
 "nbformat": 4,
 "nbformat_minor": 2
}
